{
 "cells": [
  {
   "cell_type": "code",
   "execution_count": 1,
   "metadata": {},
   "outputs": [],
   "source": [
    "%run C:/Users/MohammedSB/Desktop/projects/Hypertension/Requirements.ipynb"
   ]
  },
  {
   "cell_type": "code",
   "execution_count": 2,
   "metadata": {},
   "outputs": [],
   "source": [
    "# Seed\n",
    "set_seed(0)"
   ]
  },
  {
   "cell_type": "code",
   "execution_count": 3,
   "metadata": {},
   "outputs": [],
   "source": [
    "device = torch.device(\"cuda\" if torch.cuda.is_available() else \"cpu\")"
   ]
  },
  {
   "cell_type": "code",
   "execution_count": 4,
   "metadata": {},
   "outputs": [],
   "source": [
    "PATH = r\"D:\\\\MohammedSB\\\\Fundus\\\\\"\n",
    "CSV_PATH = {\"HTNPath\": PATH + r\"HTN\", \"NonHTNPath\": PATH + \"NonHTN\"}\n",
    "\n",
    "MODELS_PATH = r\"C:\\Users\\MohammedSB\\Desktop\\projects\\Hypertension\\models\""
   ]
  },
  {
   "cell_type": "code",
   "execution_count": 5,
   "metadata": {},
   "outputs": [],
   "source": [
    "train_set, test_set = get_datasets()"
   ]
  },
  {
   "cell_type": "code",
   "execution_count": 6,
   "metadata": {},
   "outputs": [],
   "source": [
    "train_transform = T.Compose([\n",
    "    T.Resize((512, 512)),\n",
    "    T.ToTensor(),\n",
    "    T.RandomHorizontalFlip(0.5),\n",
    "    T.RandomRotation(degrees=(0, 360)),\n",
    "    T.GaussianBlur(5),\n",
    "    T.Normalize(mean=[0.3675, 0.1760, 0.1047], std=[0.2289, 0.1180, 0.0748]),\n",
    "])\n",
    "\n",
    "test_transform = T.Compose([\n",
    "    T.Resize((512, 512)),\n",
    "    T.ToTensor(),\n",
    "    T.Normalize(mean=[0.3675, 0.1760, 0.1047], std=[0.2289, 0.1180, 0.0748]),\n",
    "])\n",
    "\n",
    "train_dataset = HypertensionDataset(CSV_PATH, train_set, train_transform=train_transform)\n",
    "test_dataset = HypertensionDataset(CSV_PATH, test_set, test_transform=test_transform)\n",
    "\n",
    "train_loader, test_loader = train_test_loader(train_dataset, test_dataset, batch_size=8)\n",
    "\n",
    "# val_dataset = HypertensionDataset(CSV_PATH, val_set, test_transform=test_transform)\n",
    "# val_loader = DataLoader(val_dataset, batch_size=8)"
   ]
  },
  {
   "cell_type": "code",
   "execution_count": 7,
   "metadata": {},
   "outputs": [],
   "source": [
    "FM_PATH = MODELS_PATH + r\"\\FundusModel.pth\"\n",
    "DM_PATH = MODELS_PATH + r\"\\DemographicFCNN.pth\"\n",
    "\n",
    "criterion = nn.BCEWithLogitsLoss()"
   ]
  },
  {
   "cell_type": "markdown",
   "metadata": {},
   "source": [
    "# CombineFeatures (Joint Fusion)"
   ]
  },
  {
   "cell_type": "code",
   "execution_count": 8,
   "metadata": {},
   "outputs": [],
   "source": [
    "tabular_model = nn.Sequential(\n",
    "    nn.Linear(in_features=2, out_features=8),\n",
    "    nn.ReLU(inplace=True),\n",
    "    nn.Linear(in_features=8, out_features=32),\n",
    ")\n",
    "\n",
    "image_model = get_densenet201(device=device, freeze=True, with_mlp=False, outputs=32)\n",
    "\n",
    "fusion_model = nn.Sequential(\n",
    "    nn.Linear(in_features=64, out_features=128),\n",
    "    nn.ReLU(inplace=True),\n",
    "    nn.Dropout(),\n",
    "    nn.Linear(in_features=128, out_features=32),\n",
    "    nn.ReLU(inplace=True),\n",
    "    nn.Dropout(),\n",
    "    nn.Linear(in_features=32, out_features=16),\n",
    "    nn.ReLU(inplace=True),\n",
    "    nn.Dropout(),\n",
    "    nn.Linear(in_features=16, out_features=1),\n",
    ")\n",
    "\n",
    "tabular_model, image_model, fusion_model = tabular_model.to(device).float(), image_model.to(device).float(),\\\n",
    "                                                fusion_model.to(device).float()"
   ]
  },
  {
   "cell_type": "code",
   "execution_count": 9,
   "metadata": {},
   "outputs": [],
   "source": [
    "models = {\n",
    "    \"image_model\": image_model,\n",
    "    \"tabular_model\": tabular_model,\n",
    "    \"fusion_model\": fusion_model,\n",
    "}\n",
    "\n",
    "early_stop = {\n",
    "    \"patience\": 5,\n",
    "    \"min_delta\": 0.001,\n",
    "    \"multip\": 5,\n",
    "}\n",
    "\n",
    "optimizer = torch.optim.Adam([\n",
    "    {'params': image_model.parameters(), 'lr': 1e-4},\n",
    "    {'params': tabular_model.parameters(), 'lr': 1e-4},\n",
    "    {'params': fusion_model.parameters(), 'lr': 1e-4}],\n",
    ")"
   ]
  },
  {
   "cell_type": "code",
   "execution_count": 10,
   "metadata": {
    "scrolled": true
   },
   "outputs": [
    {
     "name": "stderr",
     "output_type": "stream",
     "text": [
      "\r",
      "Batch in Progress:   0%|                                                    | 0/115 [00:00<?, ?it/s]"
     ]
    },
    {
     "name": "stdout",
     "output_type": "stream",
     "text": [
      "Beginning Training: \n",
      "\n",
      "Epoch 1/200\n"
     ]
    },
    {
     "name": "stderr",
     "output_type": "stream",
     "text": [
      "Batch in Progress: 100%|██████████████████████████████████████████| 115/115 [00:56<00:00,  2.04it/s]\n",
      "Batch in Progress:   0%|                                                     | 0/29 [00:00<?, ?it/s]"
     ]
    },
    {
     "name": "stdout",
     "output_type": "stream",
     "text": [
      "Train Set:\n",
      "    Average Loss:  0.702244,    Accuracy: 48.52%,    Correct Counter: 444/915,    F1 Score: 0.65,    Precision: 0.49,    Recall:  1.00 \n",
      "\n"
     ]
    },
    {
     "name": "stderr",
     "output_type": "stream",
     "text": [
      "Batch in Progress: 100%|████████████████████████████████████████████| 29/29 [00:07<00:00,  4.01it/s]\n",
      "Batch in Progress:   0%|                                                    | 0/115 [00:00<?, ?it/s]"
     ]
    },
    {
     "name": "stdout",
     "output_type": "stream",
     "text": [
      "Validation Set:\n",
      "    Average Loss:  0.697956,    Accuracy: 49.56%,    Correct Counter: 113/228,    F1 Score: 0.66,    Precision: 0.50,    Recall:  1.00 \n",
      "\n",
      "Epoch 2/200\n"
     ]
    },
    {
     "name": "stderr",
     "output_type": "stream",
     "text": [
      "Batch in Progress: 100%|██████████████████████████████████████████| 115/115 [00:53<00:00,  2.15it/s]\n",
      "Batch in Progress:   0%|                                                     | 0/29 [00:00<?, ?it/s]"
     ]
    },
    {
     "name": "stdout",
     "output_type": "stream",
     "text": [
      "Train Set:\n",
      "    Average Loss:  0.700028,    Accuracy: 49.40%,    Correct Counter: 452/915,    F1 Score: 0.66,    Precision: 0.49,    Recall:  1.00 \n",
      "\n"
     ]
    },
    {
     "name": "stderr",
     "output_type": "stream",
     "text": [
      "Batch in Progress: 100%|████████████████████████████████████████████| 29/29 [00:07<00:00,  3.99it/s]\n",
      "Batch in Progress:   0%|                                                    | 0/115 [00:00<?, ?it/s]"
     ]
    },
    {
     "name": "stdout",
     "output_type": "stream",
     "text": [
      "Validation Set:\n",
      "    Average Loss:  0.694637,    Accuracy: 49.56%,    Correct Counter: 113/228,    F1 Score: 0.66,    Precision: 0.50,    Recall:  1.00 \n",
      "\n",
      "Epoch 3/200\n"
     ]
    },
    {
     "name": "stderr",
     "output_type": "stream",
     "text": [
      "Batch in Progress: 100%|██████████████████████████████████████████| 115/115 [00:53<00:00,  2.17it/s]\n",
      "Batch in Progress:   0%|                                                     | 0/29 [00:00<?, ?it/s]"
     ]
    },
    {
     "name": "stdout",
     "output_type": "stream",
     "text": [
      "Train Set:\n",
      "    Average Loss:  0.698569,    Accuracy: 49.51%,    Correct Counter: 453/915,    F1 Score: 0.65,    Precision: 0.49,    Recall:  0.96 \n",
      "\n"
     ]
    },
    {
     "name": "stderr",
     "output_type": "stream",
     "text": [
      "Batch in Progress: 100%|████████████████████████████████████████████| 29/29 [00:07<00:00,  3.94it/s]\n",
      "Batch in Progress:   0%|                                                    | 0/115 [00:00<?, ?it/s]"
     ]
    },
    {
     "name": "stdout",
     "output_type": "stream",
     "text": [
      "Validation Set:\n",
      "    Average Loss:  0.693339,    Accuracy: 49.56%,    Correct Counter: 113/228,    F1 Score: 0.66,    Precision: 0.50,    Recall:  1.00 \n",
      "\n",
      "Epoch 4/200\n"
     ]
    },
    {
     "name": "stderr",
     "output_type": "stream",
     "text": [
      "Batch in Progress: 100%|██████████████████████████████████████████| 115/115 [00:54<00:00,  2.11it/s]\n",
      "Batch in Progress:   0%|                                                     | 0/29 [00:00<?, ?it/s]"
     ]
    },
    {
     "name": "stdout",
     "output_type": "stream",
     "text": [
      "Train Set:\n",
      "    Average Loss:  0.698456,    Accuracy: 50.49%,    Correct Counter: 462/915,    F1 Score: 0.64,    Precision: 0.49,    Recall:  0.90 \n",
      "\n"
     ]
    },
    {
     "name": "stderr",
     "output_type": "stream",
     "text": [
      "Batch in Progress: 100%|████████████████████████████████████████████| 29/29 [00:07<00:00,  3.87it/s]\n",
      "Batch in Progress:   0%|                                                    | 0/115 [00:00<?, ?it/s]"
     ]
    },
    {
     "name": "stdout",
     "output_type": "stream",
     "text": [
      "Validation Set:\n",
      "    Average Loss:  0.691419,    Accuracy: 49.56%,    Correct Counter: 113/228,    F1 Score: 0.66,    Precision: 0.50,    Recall:  1.00 \n",
      "\n",
      "Epoch 5/200\n"
     ]
    },
    {
     "name": "stderr",
     "output_type": "stream",
     "text": [
      "Batch in Progress: 100%|██████████████████████████████████████████| 115/115 [00:53<00:00,  2.16it/s]\n",
      "Batch in Progress:   0%|                                                     | 0/29 [00:00<?, ?it/s]"
     ]
    },
    {
     "name": "stdout",
     "output_type": "stream",
     "text": [
      "Train Set:\n",
      "    Average Loss:  0.695571,    Accuracy: 53.22%,    Correct Counter: 487/915,    F1 Score: 0.65,    Precision: 0.51,    Recall:  0.91 \n",
      "\n"
     ]
    },
    {
     "name": "stderr",
     "output_type": "stream",
     "text": [
      "Batch in Progress: 100%|████████████████████████████████████████████| 29/29 [00:07<00:00,  3.89it/s]\n",
      "Batch in Progress:   0%|                                                    | 0/115 [00:00<?, ?it/s]"
     ]
    },
    {
     "name": "stdout",
     "output_type": "stream",
     "text": [
      "Validation Set:\n",
      "    Average Loss:  0.690441,    Accuracy: 49.56%,    Correct Counter: 113/228,    F1 Score: 0.66,    Precision: 0.50,    Recall:  1.00 \n",
      "\n",
      "Epoch 6/200\n"
     ]
    },
    {
     "name": "stderr",
     "output_type": "stream",
     "text": [
      "Batch in Progress: 100%|██████████████████████████████████████████| 115/115 [00:54<00:00,  2.11it/s]\n",
      "Batch in Progress:   0%|                                                     | 0/29 [00:00<?, ?it/s]"
     ]
    },
    {
     "name": "stdout",
     "output_type": "stream",
     "text": [
      "Train Set:\n",
      "    Average Loss:  0.694518,    Accuracy: 52.57%,    Correct Counter: 481/915,    F1 Score: 0.64,    Precision: 0.51,    Recall:  0.88 \n",
      "\n"
     ]
    },
    {
     "name": "stderr",
     "output_type": "stream",
     "text": [
      "Batch in Progress: 100%|████████████████████████████████████████████| 29/29 [00:07<00:00,  3.94it/s]\n",
      "Batch in Progress:   0%|                                                    | 0/115 [00:00<?, ?it/s]"
     ]
    },
    {
     "name": "stdout",
     "output_type": "stream",
     "text": [
      "Validation Set:\n",
      "    Average Loss:  0.686283,    Accuracy: 49.56%,    Correct Counter: 113/228,    F1 Score: 0.66,    Precision: 0.50,    Recall:  1.00 \n",
      "\n",
      "Epoch 7/200\n"
     ]
    },
    {
     "name": "stderr",
     "output_type": "stream",
     "text": [
      "Batch in Progress: 100%|██████████████████████████████████████████| 115/115 [00:53<00:00,  2.16it/s]\n",
      "Batch in Progress:   0%|                                                     | 0/29 [00:00<?, ?it/s]"
     ]
    },
    {
     "name": "stdout",
     "output_type": "stream",
     "text": [
      "Train Set:\n",
      "    Average Loss:  0.688627,    Accuracy: 54.86%,    Correct Counter: 502/915,    F1 Score: 0.65,    Precision: 0.52,    Recall:  0.87 \n",
      "\n"
     ]
    },
    {
     "name": "stderr",
     "output_type": "stream",
     "text": [
      "Batch in Progress: 100%|████████████████████████████████████████████| 29/29 [00:07<00:00,  3.92it/s]\n",
      "Batch in Progress:   0%|                                                    | 0/115 [00:00<?, ?it/s]"
     ]
    },
    {
     "name": "stdout",
     "output_type": "stream",
     "text": [
      "Validation Set:\n",
      "    Average Loss:  0.680321,    Accuracy: 60.09%,    Correct Counter: 137/228,    F1 Score: 0.71,    Precision: 0.56,    Recall:  0.98 \n",
      "\n",
      "Epoch 8/200\n"
     ]
    },
    {
     "name": "stderr",
     "output_type": "stream",
     "text": [
      "Batch in Progress: 100%|██████████████████████████████████████████| 115/115 [00:53<00:00,  2.16it/s]\n",
      "Batch in Progress:   0%|                                                     | 0/29 [00:00<?, ?it/s]"
     ]
    },
    {
     "name": "stdout",
     "output_type": "stream",
     "text": [
      "Train Set:\n",
      "    Average Loss:  0.683255,    Accuracy: 54.54%,    Correct Counter: 499/915,    F1 Score: 0.64,    Precision: 0.52,    Recall:  0.83 \n",
      "\n"
     ]
    },
    {
     "name": "stderr",
     "output_type": "stream",
     "text": [
      "Batch in Progress: 100%|████████████████████████████████████████████| 29/29 [00:07<00:00,  3.87it/s]\n",
      "Batch in Progress:   0%|                                                    | 0/115 [00:00<?, ?it/s]"
     ]
    },
    {
     "name": "stdout",
     "output_type": "stream",
     "text": [
      "Validation Set:\n",
      "    Average Loss:  0.672256,    Accuracy: 65.79%,    Correct Counter: 150/228,    F1 Score: 0.73,    Precision: 0.60,    Recall:  0.94 \n",
      "\n",
      "Epoch 9/200\n"
     ]
    },
    {
     "name": "stderr",
     "output_type": "stream",
     "text": [
      "Batch in Progress: 100%|██████████████████████████████████████████| 115/115 [00:52<00:00,  2.18it/s]\n",
      "Batch in Progress:   0%|                                                     | 0/29 [00:00<?, ?it/s]"
     ]
    },
    {
     "name": "stdout",
     "output_type": "stream",
     "text": [
      "Train Set:\n",
      "    Average Loss:  0.675729,    Accuracy: 56.28%,    Correct Counter: 515/915,    F1 Score: 0.65,    Precision: 0.53,    Recall:  0.84 \n",
      "\n"
     ]
    },
    {
     "name": "stderr",
     "output_type": "stream",
     "text": [
      "Batch in Progress: 100%|████████████████████████████████████████████| 29/29 [00:07<00:00,  3.96it/s]\n",
      "Batch in Progress:   0%|                                                    | 0/115 [00:00<?, ?it/s]"
     ]
    },
    {
     "name": "stdout",
     "output_type": "stream",
     "text": [
      "Validation Set:\n",
      "    Average Loss:  0.658939,    Accuracy: 66.23%,    Correct Counter: 151/228,    F1 Score: 0.73,    Precision: 0.60,    Recall:  0.93 \n",
      "\n",
      "Epoch 10/200\n"
     ]
    },
    {
     "name": "stderr",
     "output_type": "stream",
     "text": [
      "Batch in Progress: 100%|██████████████████████████████████████████| 115/115 [00:52<00:00,  2.21it/s]\n",
      "Batch in Progress:   0%|                                                     | 0/29 [00:00<?, ?it/s]"
     ]
    },
    {
     "name": "stdout",
     "output_type": "stream",
     "text": [
      "Train Set:\n",
      "    Average Loss:  0.650298,    Accuracy: 63.50%,    Correct Counter: 581/915,    F1 Score: 0.69,    Precision: 0.59,    Recall:  0.84 \n",
      "\n"
     ]
    },
    {
     "name": "stderr",
     "output_type": "stream",
     "text": [
      "Batch in Progress: 100%|████████████████████████████████████████████| 29/29 [00:07<00:00,  3.98it/s]\n",
      "Batch in Progress:   0%|                                                    | 0/115 [00:00<?, ?it/s]"
     ]
    },
    {
     "name": "stdout",
     "output_type": "stream",
     "text": [
      "Validation Set:\n",
      "    Average Loss:  0.636901,    Accuracy: 66.23%,    Correct Counter: 151/228,    F1 Score: 0.73,    Precision: 0.61,    Recall:  0.91 \n",
      "\n",
      "Epoch 11/200\n"
     ]
    },
    {
     "name": "stderr",
     "output_type": "stream",
     "text": [
      "Batch in Progress: 100%|██████████████████████████████████████████| 115/115 [00:52<00:00,  2.19it/s]\n",
      "Batch in Progress:   0%|                                                     | 0/29 [00:00<?, ?it/s]"
     ]
    },
    {
     "name": "stdout",
     "output_type": "stream",
     "text": [
      "Train Set:\n",
      "    Average Loss:  0.638270,    Accuracy: 62.84%,    Correct Counter: 575/915,    F1 Score: 0.67,    Precision: 0.59,    Recall:  0.77 \n",
      "\n"
     ]
    },
    {
     "name": "stderr",
     "output_type": "stream",
     "text": [
      "Batch in Progress: 100%|████████████████████████████████████████████| 29/29 [00:07<00:00,  3.98it/s]\n",
      "Batch in Progress:   0%|                                                    | 0/115 [00:00<?, ?it/s]"
     ]
    },
    {
     "name": "stdout",
     "output_type": "stream",
     "text": [
      "Validation Set:\n",
      "    Average Loss:  0.617182,    Accuracy: 66.23%,    Correct Counter: 151/228,    F1 Score: 0.72,    Precision: 0.61,    Recall:  0.88 \n",
      "\n",
      "Epoch 12/200\n"
     ]
    },
    {
     "name": "stderr",
     "output_type": "stream",
     "text": [
      "Batch in Progress: 100%|██████████████████████████████████████████| 115/115 [00:52<00:00,  2.19it/s]\n",
      "Batch in Progress:   0%|                                                     | 0/29 [00:00<?, ?it/s]"
     ]
    },
    {
     "name": "stdout",
     "output_type": "stream",
     "text": [
      "Train Set:\n",
      "    Average Loss:  0.628972,    Accuracy: 65.68%,    Correct Counter: 601/915,    F1 Score: 0.71,    Precision: 0.60,    Recall:  0.85 \n",
      "\n"
     ]
    },
    {
     "name": "stderr",
     "output_type": "stream",
     "text": [
      "Batch in Progress: 100%|████████████████████████████████████████████| 29/29 [00:07<00:00,  3.94it/s]\n",
      "Batch in Progress:   0%|                                                    | 0/115 [00:00<?, ?it/s]"
     ]
    },
    {
     "name": "stdout",
     "output_type": "stream",
     "text": [
      "Validation Set:\n",
      "    Average Loss:  0.609950,    Accuracy: 66.23%,    Correct Counter: 151/228,    F1 Score: 0.73,    Precision: 0.61,    Recall:  0.91 \n",
      "\n",
      "Epoch 13/200\n"
     ]
    },
    {
     "name": "stderr",
     "output_type": "stream",
     "text": [
      "Batch in Progress: 100%|██████████████████████████████████████████| 115/115 [00:52<00:00,  2.19it/s]\n",
      "Batch in Progress:   0%|                                                     | 0/29 [00:00<?, ?it/s]"
     ]
    },
    {
     "name": "stdout",
     "output_type": "stream",
     "text": [
      "Train Set:\n",
      "    Average Loss:  0.602755,    Accuracy: 68.74%,    Correct Counter: 629/915,    F1 Score: 0.72,    Precision: 0.64,    Recall:  0.83 \n",
      "\n"
     ]
    },
    {
     "name": "stderr",
     "output_type": "stream",
     "text": [
      "Batch in Progress: 100%|████████████████████████████████████████████| 29/29 [00:07<00:00,  3.93it/s]\n",
      "Batch in Progress:   0%|                                                    | 0/115 [00:00<?, ?it/s]"
     ]
    },
    {
     "name": "stdout",
     "output_type": "stream",
     "text": [
      "Validation Set:\n",
      "    Average Loss:  0.594027,    Accuracy: 66.23%,    Correct Counter: 151/228,    F1 Score: 0.72,    Precision: 0.61,    Recall:  0.87 \n",
      "\n",
      "Epoch 14/200\n"
     ]
    },
    {
     "name": "stderr",
     "output_type": "stream",
     "text": [
      "Batch in Progress: 100%|██████████████████████████████████████████| 115/115 [00:52<00:00,  2.19it/s]\n",
      "Batch in Progress:   0%|                                                     | 0/29 [00:00<?, ?it/s]"
     ]
    },
    {
     "name": "stdout",
     "output_type": "stream",
     "text": [
      "Train Set:\n",
      "    Average Loss:  0.600262,    Accuracy: 68.52%,    Correct Counter: 627/915,    F1 Score: 0.71,    Precision: 0.64,    Recall:  0.81 \n",
      "\n"
     ]
    },
    {
     "name": "stderr",
     "output_type": "stream",
     "text": [
      "Batch in Progress: 100%|████████████████████████████████████████████| 29/29 [00:07<00:00,  3.96it/s]\n",
      "Batch in Progress:   0%|                                                    | 0/115 [00:00<?, ?it/s]"
     ]
    },
    {
     "name": "stdout",
     "output_type": "stream",
     "text": [
      "Validation Set:\n",
      "    Average Loss:  0.591136,    Accuracy: 66.67%,    Correct Counter: 152/228,    F1 Score: 0.72,    Precision: 0.61,    Recall:  0.88 \n",
      "\n",
      "Epoch 15/200\n"
     ]
    },
    {
     "name": "stderr",
     "output_type": "stream",
     "text": [
      "Batch in Progress: 100%|██████████████████████████████████████████| 115/115 [00:52<00:00,  2.20it/s]\n",
      "Batch in Progress:   0%|                                                     | 0/29 [00:00<?, ?it/s]"
     ]
    },
    {
     "name": "stdout",
     "output_type": "stream",
     "text": [
      "Train Set:\n",
      "    Average Loss:  0.594847,    Accuracy: 68.20%,    Correct Counter: 624/915,    F1 Score: 0.72,    Precision: 0.63,    Recall:  0.84 \n",
      "\n"
     ]
    },
    {
     "name": "stderr",
     "output_type": "stream",
     "text": [
      "Batch in Progress: 100%|████████████████████████████████████████████| 29/29 [00:07<00:00,  3.93it/s]\n",
      "Batch in Progress:   0%|                                                    | 0/115 [00:00<?, ?it/s]"
     ]
    },
    {
     "name": "stdout",
     "output_type": "stream",
     "text": [
      "Validation Set:\n",
      "    Average Loss:  0.590165,    Accuracy: 67.11%,    Correct Counter: 153/228,    F1 Score: 0.73,    Precision: 0.62,    Recall:  0.88 \n",
      "\n",
      "Epoch 16/200\n"
     ]
    },
    {
     "name": "stderr",
     "output_type": "stream",
     "text": [
      "Batch in Progress: 100%|██████████████████████████████████████████| 115/115 [00:52<00:00,  2.21it/s]\n",
      "Batch in Progress:   0%|                                                     | 0/29 [00:00<?, ?it/s]"
     ]
    },
    {
     "name": "stdout",
     "output_type": "stream",
     "text": [
      "Train Set:\n",
      "    Average Loss:  0.575793,    Accuracy: 69.84%,    Correct Counter: 639/915,    F1 Score: 0.74,    Precision: 0.64,    Recall:  0.86 \n",
      "\n"
     ]
    },
    {
     "name": "stderr",
     "output_type": "stream",
     "text": [
      "Batch in Progress: 100%|████████████████████████████████████████████| 29/29 [00:07<00:00,  3.96it/s]\n",
      "Batch in Progress:   0%|                                                    | 0/115 [00:00<?, ?it/s]"
     ]
    },
    {
     "name": "stdout",
     "output_type": "stream",
     "text": [
      "Validation Set:\n",
      "    Average Loss:  0.591051,    Accuracy: 66.67%,    Correct Counter: 152/228,    F1 Score: 0.72,    Precision: 0.61,    Recall:  0.88 \n",
      "\n",
      "Epoch 17/200\n"
     ]
    },
    {
     "name": "stderr",
     "output_type": "stream",
     "text": [
      "Batch in Progress: 100%|██████████████████████████████████████████| 115/115 [00:52<00:00,  2.19it/s]\n",
      "Batch in Progress:   0%|                                                     | 0/29 [00:00<?, ?it/s]"
     ]
    },
    {
     "name": "stdout",
     "output_type": "stream",
     "text": [
      "Train Set:\n",
      "    Average Loss:  0.573822,    Accuracy: 68.85%,    Correct Counter: 630/915,    F1 Score: 0.73,    Precision: 0.63,    Recall:  0.85 \n",
      "\n"
     ]
    },
    {
     "name": "stderr",
     "output_type": "stream",
     "text": [
      "Batch in Progress: 100%|████████████████████████████████████████████| 29/29 [00:07<00:00,  3.89it/s]\n",
      "Batch in Progress:   0%|                                                    | 0/115 [00:00<?, ?it/s]"
     ]
    },
    {
     "name": "stdout",
     "output_type": "stream",
     "text": [
      "Validation Set:\n",
      "    Average Loss:  0.593909,    Accuracy: 67.11%,    Correct Counter: 153/228,    F1 Score: 0.73,    Precision: 0.61,    Recall:  0.90 \n",
      "\n",
      "Epoch 18/200\n"
     ]
    },
    {
     "name": "stderr",
     "output_type": "stream",
     "text": [
      "Batch in Progress: 100%|██████████████████████████████████████████| 115/115 [00:52<00:00,  2.17it/s]\n",
      "Batch in Progress:   0%|                                                     | 0/29 [00:00<?, ?it/s]"
     ]
    },
    {
     "name": "stdout",
     "output_type": "stream",
     "text": [
      "Train Set:\n",
      "    Average Loss:  0.579891,    Accuracy: 71.58%,    Correct Counter: 655/915,    F1 Score: 0.76,    Precision: 0.65,    Recall:  0.90 \n",
      "\n"
     ]
    },
    {
     "name": "stderr",
     "output_type": "stream",
     "text": [
      "Batch in Progress: 100%|████████████████████████████████████████████| 29/29 [00:07<00:00,  3.90it/s]\n",
      "Batch in Progress:   0%|                                                    | 0/115 [00:00<?, ?it/s]"
     ]
    },
    {
     "name": "stdout",
     "output_type": "stream",
     "text": [
      "Validation Set:\n",
      "    Average Loss:  0.594568,    Accuracy: 67.11%,    Correct Counter: 153/228,    F1 Score: 0.73,    Precision: 0.61,    Recall:  0.90 \n",
      "\n",
      "Epoch 19/200\n"
     ]
    },
    {
     "name": "stderr",
     "output_type": "stream",
     "text": [
      "Batch in Progress: 100%|██████████████████████████████████████████| 115/115 [00:53<00:00,  2.16it/s]\n",
      "Batch in Progress:   0%|                                                     | 0/29 [00:00<?, ?it/s]"
     ]
    },
    {
     "name": "stdout",
     "output_type": "stream",
     "text": [
      "Train Set:\n",
      "    Average Loss:  0.565300,    Accuracy: 71.04%,    Correct Counter: 650/915,    F1 Score: 0.75,    Precision: 0.65,    Recall:  0.89 \n",
      "\n"
     ]
    },
    {
     "name": "stderr",
     "output_type": "stream",
     "text": [
      "Batch in Progress: 100%|████████████████████████████████████████████| 29/29 [00:07<00:00,  3.97it/s]\n",
      "Batch in Progress:   0%|                                                    | 0/115 [00:00<?, ?it/s]"
     ]
    },
    {
     "name": "stdout",
     "output_type": "stream",
     "text": [
      "Validation Set:\n",
      "    Average Loss:  0.595143,    Accuracy: 66.67%,    Correct Counter: 152/228,    F1 Score: 0.73,    Precision: 0.61,    Recall:  0.89 \n",
      "\n",
      "Epoch 20/200\n"
     ]
    },
    {
     "name": "stderr",
     "output_type": "stream",
     "text": [
      "Batch in Progress: 100%|██████████████████████████████████████████| 115/115 [00:52<00:00,  2.18it/s]\n",
      "Batch in Progress:   0%|                                                     | 0/29 [00:00<?, ?it/s]"
     ]
    },
    {
     "name": "stdout",
     "output_type": "stream",
     "text": [
      "Train Set:\n",
      "    Average Loss:  0.582533,    Accuracy: 70.27%,    Correct Counter: 643/915,    F1 Score: 0.75,    Precision: 0.64,    Recall:  0.90 \n",
      "\n"
     ]
    },
    {
     "name": "stderr",
     "output_type": "stream",
     "text": [
      "Batch in Progress: 100%|████████████████████████████████████████████| 29/29 [00:07<00:00,  3.99it/s]\n",
      "Batch in Progress:   0%|                                                    | 0/115 [00:00<?, ?it/s]"
     ]
    },
    {
     "name": "stdout",
     "output_type": "stream",
     "text": [
      "Validation Set:\n",
      "    Average Loss:  0.594937,    Accuracy: 66.23%,    Correct Counter: 151/228,    F1 Score: 0.72,    Precision: 0.61,    Recall:  0.88 \n",
      "\n",
      "Epoch 21/200\n"
     ]
    },
    {
     "name": "stderr",
     "output_type": "stream",
     "text": [
      "Batch in Progress: 100%|██████████████████████████████████████████| 115/115 [00:53<00:00,  2.17it/s]\n",
      "Batch in Progress:   0%|                                                     | 0/29 [00:00<?, ?it/s]"
     ]
    },
    {
     "name": "stdout",
     "output_type": "stream",
     "text": [
      "Train Set:\n",
      "    Average Loss:  0.567913,    Accuracy: 70.49%,    Correct Counter: 645/915,    F1 Score: 0.75,    Precision: 0.64,    Recall:  0.91 \n",
      "\n"
     ]
    },
    {
     "name": "stderr",
     "output_type": "stream",
     "text": [
      "Batch in Progress: 100%|████████████████████████████████████████████| 29/29 [00:07<00:00,  3.97it/s]\n",
      "Batch in Progress:   0%|                                                    | 0/115 [00:00<?, ?it/s]"
     ]
    },
    {
     "name": "stdout",
     "output_type": "stream",
     "text": [
      "Validation Set:\n",
      "    Average Loss:  0.597682,    Accuracy: 66.67%,    Correct Counter: 152/228,    F1 Score: 0.73,    Precision: 0.61,    Recall:  0.90 \n",
      "\n",
      "Epoch 22/200\n"
     ]
    },
    {
     "name": "stderr",
     "output_type": "stream",
     "text": [
      "Batch in Progress: 100%|██████████████████████████████████████████| 115/115 [00:53<00:00,  2.17it/s]\n",
      "Batch in Progress:   0%|                                                     | 0/29 [00:00<?, ?it/s]"
     ]
    },
    {
     "name": "stdout",
     "output_type": "stream",
     "text": [
      "Train Set:\n",
      "    Average Loss:  0.557737,    Accuracy: 71.80%,    Correct Counter: 657/915,    F1 Score: 0.76,    Precision: 0.65,    Recall:  0.91 \n",
      "\n"
     ]
    },
    {
     "name": "stderr",
     "output_type": "stream",
     "text": [
      "Batch in Progress: 100%|████████████████████████████████████████████| 29/29 [00:07<00:00,  3.96it/s]\n",
      "Batch in Progress:   0%|                                                    | 0/115 [00:00<?, ?it/s]"
     ]
    },
    {
     "name": "stdout",
     "output_type": "stream",
     "text": [
      "Validation Set:\n",
      "    Average Loss:  0.598627,    Accuracy: 67.11%,    Correct Counter: 153/228,    F1 Score: 0.73,    Precision: 0.62,    Recall:  0.88 \n",
      "\n",
      "Epoch 23/200\n"
     ]
    },
    {
     "name": "stderr",
     "output_type": "stream",
     "text": [
      "Batch in Progress: 100%|██████████████████████████████████████████| 115/115 [00:52<00:00,  2.18it/s]\n",
      "Batch in Progress:   0%|                                                     | 0/29 [00:00<?, ?it/s]"
     ]
    },
    {
     "name": "stdout",
     "output_type": "stream",
     "text": [
      "Train Set:\n",
      "    Average Loss:  0.555589,    Accuracy: 70.60%,    Correct Counter: 646/915,    F1 Score: 0.75,    Precision: 0.64,    Recall:  0.91 \n",
      "\n"
     ]
    },
    {
     "name": "stderr",
     "output_type": "stream",
     "text": [
      "Batch in Progress: 100%|████████████████████████████████████████████| 29/29 [00:07<00:00,  3.98it/s]\n",
      "Batch in Progress:   0%|                                                    | 0/115 [00:00<?, ?it/s]"
     ]
    },
    {
     "name": "stdout",
     "output_type": "stream",
     "text": [
      "Validation Set:\n",
      "    Average Loss:  0.599797,    Accuracy: 66.67%,    Correct Counter: 152/228,    F1 Score: 0.73,    Precision: 0.61,    Recall:  0.90 \n",
      "\n",
      "Epoch 24/200\n"
     ]
    },
    {
     "name": "stderr",
     "output_type": "stream",
     "text": [
      "Batch in Progress: 100%|██████████████████████████████████████████| 115/115 [00:52<00:00,  2.18it/s]\n",
      "Batch in Progress:   0%|                                                     | 0/29 [00:00<?, ?it/s]"
     ]
    },
    {
     "name": "stdout",
     "output_type": "stream",
     "text": [
      "Train Set:\n",
      "    Average Loss:  0.546956,    Accuracy: 71.04%,    Correct Counter: 650/915,    F1 Score: 0.75,    Precision: 0.64,    Recall:  0.90 \n",
      "\n"
     ]
    },
    {
     "name": "stderr",
     "output_type": "stream",
     "text": [
      "Batch in Progress: 100%|████████████████████████████████████████████| 29/29 [00:07<00:00,  3.93it/s]\n",
      "Batch in Progress:   0%|                                                    | 0/115 [00:00<?, ?it/s]"
     ]
    },
    {
     "name": "stdout",
     "output_type": "stream",
     "text": [
      "Validation Set:\n",
      "    Average Loss:  0.604115,    Accuracy: 66.67%,    Correct Counter: 152/228,    F1 Score: 0.73,    Precision: 0.61,    Recall:  0.90 \n",
      "\n",
      "Epoch 25/200\n"
     ]
    },
    {
     "name": "stderr",
     "output_type": "stream",
     "text": [
      "Batch in Progress: 100%|██████████████████████████████████████████| 115/115 [00:52<00:00,  2.19it/s]\n",
      "Batch in Progress:   0%|                                                     | 0/29 [00:00<?, ?it/s]"
     ]
    },
    {
     "name": "stdout",
     "output_type": "stream",
     "text": [
      "Train Set:\n",
      "    Average Loss:  0.556352,    Accuracy: 71.91%,    Correct Counter: 658/915,    F1 Score: 0.76,    Precision: 0.65,    Recall:  0.92 \n",
      "\n"
     ]
    },
    {
     "name": "stderr",
     "output_type": "stream",
     "text": [
      "Batch in Progress: 100%|████████████████████████████████████████████| 29/29 [00:07<00:00,  3.97it/s]"
     ]
    },
    {
     "name": "stdout",
     "output_type": "stream",
     "text": [
      "Validation Set:\n",
      "    Average Loss:  0.603954,    Accuracy: 67.11%,    Correct Counter: 153/228,    F1 Score: 0.73,    Precision: 0.61,    Recall:  0.90 \n",
      "\n"
     ]
    },
    {
     "name": "stderr",
     "output_type": "stream",
     "text": [
      "\n"
     ]
    }
   ],
   "source": [
    "epochs = 200\n",
    "metrics = train_val(epochs=epochs, models=models, criterion=criterion, optimizer=optimizer, train_loader=train_loader,\n",
    "                    val_loader=test_loader, device=device, early_stop=early_stop)"
   ]
  },
  {
   "cell_type": "code",
   "execution_count": 11,
   "metadata": {},
   "outputs": [],
   "source": [
    "torch.save(image_model.state_dict(), MODELS_PATH+\"\\CombineFeatures\\FundusPath.pth\")\n",
    "torch.save(tabular_model.state_dict(), MODELS_PATH+\"\\CombineFeatures\\DemographicPath.pth\")\n",
    "torch.save(fusion_model.state_dict(), MODELS_PATH+\"\\CombineFeatures\\FusionPath.pth\")"
   ]
  },
  {
   "cell_type": "markdown",
   "metadata": {},
   "source": [
    "# CombineOutputs (Joint Fusion)"
   ]
  },
  {
   "cell_type": "code",
   "execution_count": 12,
   "metadata": {},
   "outputs": [],
   "source": [
    "tabular_model = nn.Sequential(\n",
    "    nn.Linear(in_features=2, out_features=8),\n",
    "    nn.ReLU(inplace=True),\n",
    "    nn.Linear(in_features=8, out_features=32),\n",
    "    nn.ReLU(inplace=True),\n",
    "    nn.Linear(in_features=32, out_features=16),\n",
    "    nn.ReLU(inplace=True),\n",
    "    nn.Linear(in_features=16, out_features=8),\n",
    "    nn.ReLU(inplace=True),\n",
    "    nn.Linear(in_features=8, out_features=1),\n",
    ")\n",
    "\n",
    "image_model = get_densenet201(device=device, freeze=True, with_mlp=True, outputs=1)\n",
    "\n",
    "fusion_model = nn.Sequential(\n",
    "    nn.Linear(in_features=2, out_features=8),\n",
    "    nn.ReLU(inplace=True),\n",
    "    nn.Linear(in_features=8, out_features=16),\n",
    "    nn.ReLU(inplace=True),\n",
    "    nn.Linear(in_features=16, out_features=4),\n",
    "    nn.ReLU(inplace=True),\n",
    "    nn.Linear(in_features=4, out_features=1),\n",
    ")\n",
    "\n",
    "tabular_model, image_model, fusion_model = tabular_model.to(device).float(), image_model.to(device).float(),\\\n",
    "                                                fusion_model.to(device).float()"
   ]
  },
  {
   "cell_type": "code",
   "execution_count": 13,
   "metadata": {
    "scrolled": true
   },
   "outputs": [
    {
     "name": "stderr",
     "output_type": "stream",
     "text": [
      "\r",
      "Batch in Progress:   0%|                                                    | 0/115 [00:00<?, ?it/s]"
     ]
    },
    {
     "name": "stdout",
     "output_type": "stream",
     "text": [
      "Beginning Training: \n",
      "\n",
      "Epoch 1/200\n"
     ]
    },
    {
     "name": "stderr",
     "output_type": "stream",
     "text": [
      "Batch in Progress: 100%|██████████████████████████████████████████| 115/115 [00:52<00:00,  2.18it/s]\n",
      "Batch in Progress:   0%|                                                     | 0/29 [00:00<?, ?it/s]"
     ]
    },
    {
     "name": "stdout",
     "output_type": "stream",
     "text": [
      "Train Set:\n",
      "    Average Loss:  0.702929,    Accuracy: 48.52%,    Correct Counter: 444/915,    F1 Score: 0.65,    Precision: 0.49,    Recall:  1.00 \n",
      "\n"
     ]
    },
    {
     "name": "stderr",
     "output_type": "stream",
     "text": [
      "Batch in Progress: 100%|████████████████████████████████████████████| 29/29 [00:07<00:00,  3.98it/s]\n",
      "Batch in Progress:   0%|                                                    | 0/115 [00:00<?, ?it/s]"
     ]
    },
    {
     "name": "stdout",
     "output_type": "stream",
     "text": [
      "Validation Set:\n",
      "    Average Loss:  0.699520,    Accuracy: 49.56%,    Correct Counter: 113/228,    F1 Score: 0.66,    Precision: 0.50,    Recall:  1.00 \n",
      "\n",
      "Epoch 2/200\n"
     ]
    },
    {
     "name": "stderr",
     "output_type": "stream",
     "text": [
      "Batch in Progress: 100%|██████████████████████████████████████████| 115/115 [00:53<00:00,  2.17it/s]\n",
      "Batch in Progress:   0%|                                                     | 0/29 [00:00<?, ?it/s]"
     ]
    },
    {
     "name": "stdout",
     "output_type": "stream",
     "text": [
      "Train Set:\n",
      "    Average Loss:  0.701583,    Accuracy: 48.52%,    Correct Counter: 444/915,    F1 Score: 0.65,    Precision: 0.49,    Recall:  1.00 \n",
      "\n"
     ]
    },
    {
     "name": "stderr",
     "output_type": "stream",
     "text": [
      "Batch in Progress: 100%|████████████████████████████████████████████| 29/29 [00:07<00:00,  3.97it/s]\n",
      "Batch in Progress:   0%|                                                    | 0/115 [00:00<?, ?it/s]"
     ]
    },
    {
     "name": "stdout",
     "output_type": "stream",
     "text": [
      "Validation Set:\n",
      "    Average Loss:  0.698753,    Accuracy: 49.56%,    Correct Counter: 113/228,    F1 Score: 0.66,    Precision: 0.50,    Recall:  1.00 \n",
      "\n",
      "Epoch 3/200\n"
     ]
    },
    {
     "name": "stderr",
     "output_type": "stream",
     "text": [
      "Batch in Progress: 100%|██████████████████████████████████████████| 115/115 [00:52<00:00,  2.18it/s]\n",
      "Batch in Progress:   0%|                                                     | 0/29 [00:00<?, ?it/s]"
     ]
    },
    {
     "name": "stdout",
     "output_type": "stream",
     "text": [
      "Train Set:\n",
      "    Average Loss:  0.700765,    Accuracy: 48.52%,    Correct Counter: 444/915,    F1 Score: 0.65,    Precision: 0.49,    Recall:  1.00 \n",
      "\n"
     ]
    },
    {
     "name": "stderr",
     "output_type": "stream",
     "text": [
      "Batch in Progress: 100%|████████████████████████████████████████████| 29/29 [00:07<00:00,  3.91it/s]\n",
      "Batch in Progress:   0%|                                                    | 0/115 [00:00<?, ?it/s]"
     ]
    },
    {
     "name": "stdout",
     "output_type": "stream",
     "text": [
      "Validation Set:\n",
      "    Average Loss:  0.697900,    Accuracy: 49.56%,    Correct Counter: 113/228,    F1 Score: 0.66,    Precision: 0.50,    Recall:  1.00 \n",
      "\n",
      "Epoch 4/200\n"
     ]
    },
    {
     "name": "stderr",
     "output_type": "stream",
     "text": [
      "Batch in Progress: 100%|██████████████████████████████████████████| 115/115 [00:52<00:00,  2.18it/s]\n",
      "Batch in Progress:   0%|                                                     | 0/29 [00:00<?, ?it/s]"
     ]
    },
    {
     "name": "stdout",
     "output_type": "stream",
     "text": [
      "Train Set:\n",
      "    Average Loss:  0.700343,    Accuracy: 48.52%,    Correct Counter: 444/915,    F1 Score: 0.65,    Precision: 0.49,    Recall:  1.00 \n",
      "\n"
     ]
    },
    {
     "name": "stderr",
     "output_type": "stream",
     "text": [
      "Batch in Progress: 100%|████████████████████████████████████████████| 29/29 [00:07<00:00,  3.97it/s]\n",
      "Batch in Progress:   0%|                                                    | 0/115 [00:00<?, ?it/s]"
     ]
    },
    {
     "name": "stdout",
     "output_type": "stream",
     "text": [
      "Validation Set:\n",
      "    Average Loss:  0.697423,    Accuracy: 49.56%,    Correct Counter: 113/228,    F1 Score: 0.66,    Precision: 0.50,    Recall:  1.00 \n",
      "\n",
      "Epoch 5/200\n"
     ]
    },
    {
     "name": "stderr",
     "output_type": "stream",
     "text": [
      "Batch in Progress: 100%|██████████████████████████████████████████| 115/115 [00:52<00:00,  2.20it/s]\n",
      "Batch in Progress:   0%|                                                     | 0/29 [00:00<?, ?it/s]"
     ]
    },
    {
     "name": "stdout",
     "output_type": "stream",
     "text": [
      "Train Set:\n",
      "    Average Loss:  0.700017,    Accuracy: 48.52%,    Correct Counter: 444/915,    F1 Score: 0.65,    Precision: 0.49,    Recall:  1.00 \n",
      "\n"
     ]
    },
    {
     "name": "stderr",
     "output_type": "stream",
     "text": [
      "Batch in Progress: 100%|████████████████████████████████████████████| 29/29 [00:07<00:00,  3.99it/s]\n",
      "Batch in Progress:   0%|                                                    | 0/115 [00:00<?, ?it/s]"
     ]
    },
    {
     "name": "stdout",
     "output_type": "stream",
     "text": [
      "Validation Set:\n",
      "    Average Loss:  0.697829,    Accuracy: 49.56%,    Correct Counter: 113/228,    F1 Score: 0.66,    Precision: 0.50,    Recall:  1.00 \n",
      "\n",
      "Epoch 6/200\n"
     ]
    },
    {
     "name": "stderr",
     "output_type": "stream",
     "text": [
      "Batch in Progress: 100%|██████████████████████████████████████████| 115/115 [00:52<00:00,  2.19it/s]\n",
      "Batch in Progress:   0%|                                                     | 0/29 [00:00<?, ?it/s]"
     ]
    },
    {
     "name": "stdout",
     "output_type": "stream",
     "text": [
      "Train Set:\n",
      "    Average Loss:  0.699485,    Accuracy: 48.52%,    Correct Counter: 444/915,    F1 Score: 0.65,    Precision: 0.49,    Recall:  1.00 \n",
      "\n"
     ]
    },
    {
     "name": "stderr",
     "output_type": "stream",
     "text": [
      "Batch in Progress: 100%|████████████████████████████████████████████| 29/29 [00:07<00:00,  3.98it/s]\n",
      "Batch in Progress:   0%|                                                    | 0/115 [00:00<?, ?it/s]"
     ]
    },
    {
     "name": "stdout",
     "output_type": "stream",
     "text": [
      "Validation Set:\n",
      "    Average Loss:  0.697337,    Accuracy: 49.56%,    Correct Counter: 113/228,    F1 Score: 0.66,    Precision: 0.50,    Recall:  1.00 \n",
      "\n",
      "Epoch 7/200\n"
     ]
    },
    {
     "name": "stderr",
     "output_type": "stream",
     "text": [
      "Batch in Progress: 100%|██████████████████████████████████████████| 115/115 [00:52<00:00,  2.19it/s]\n",
      "Batch in Progress:   0%|                                                     | 0/29 [00:00<?, ?it/s]"
     ]
    },
    {
     "name": "stdout",
     "output_type": "stream",
     "text": [
      "Train Set:\n",
      "    Average Loss:  0.698853,    Accuracy: 48.52%,    Correct Counter: 444/915,    F1 Score: 0.65,    Precision: 0.49,    Recall:  1.00 \n",
      "\n"
     ]
    },
    {
     "name": "stderr",
     "output_type": "stream",
     "text": [
      "Batch in Progress: 100%|████████████████████████████████████████████| 29/29 [00:07<00:00,  3.93it/s]\n",
      "Batch in Progress:   0%|                                                    | 0/115 [00:00<?, ?it/s]"
     ]
    },
    {
     "name": "stdout",
     "output_type": "stream",
     "text": [
      "Validation Set:\n",
      "    Average Loss:  0.696257,    Accuracy: 49.56%,    Correct Counter: 113/228,    F1 Score: 0.66,    Precision: 0.50,    Recall:  1.00 \n",
      "\n",
      "Epoch 8/200\n"
     ]
    },
    {
     "name": "stderr",
     "output_type": "stream",
     "text": [
      "Batch in Progress: 100%|██████████████████████████████████████████| 115/115 [00:52<00:00,  2.19it/s]\n",
      "Batch in Progress:   0%|                                                     | 0/29 [00:00<?, ?it/s]"
     ]
    },
    {
     "name": "stdout",
     "output_type": "stream",
     "text": [
      "Train Set:\n",
      "    Average Loss:  0.698226,    Accuracy: 48.52%,    Correct Counter: 444/915,    F1 Score: 0.65,    Precision: 0.49,    Recall:  1.00 \n",
      "\n"
     ]
    },
    {
     "name": "stderr",
     "output_type": "stream",
     "text": [
      "Batch in Progress: 100%|████████████████████████████████████████████| 29/29 [00:07<00:00,  3.96it/s]\n",
      "Batch in Progress:   0%|                                                    | 0/115 [00:00<?, ?it/s]"
     ]
    },
    {
     "name": "stdout",
     "output_type": "stream",
     "text": [
      "Validation Set:\n",
      "    Average Loss:  0.695130,    Accuracy: 49.56%,    Correct Counter: 113/228,    F1 Score: 0.66,    Precision: 0.50,    Recall:  1.00 \n",
      "\n",
      "Epoch 9/200\n"
     ]
    },
    {
     "name": "stderr",
     "output_type": "stream",
     "text": [
      "Batch in Progress: 100%|██████████████████████████████████████████| 115/115 [00:52<00:00,  2.18it/s]\n",
      "Batch in Progress:   0%|                                                     | 0/29 [00:00<?, ?it/s]"
     ]
    },
    {
     "name": "stdout",
     "output_type": "stream",
     "text": [
      "Train Set:\n",
      "    Average Loss:  0.697872,    Accuracy: 48.52%,    Correct Counter: 444/915,    F1 Score: 0.65,    Precision: 0.49,    Recall:  1.00 \n",
      "\n"
     ]
    },
    {
     "name": "stderr",
     "output_type": "stream",
     "text": [
      "Batch in Progress: 100%|████████████████████████████████████████████| 29/29 [00:07<00:00,  3.94it/s]\n",
      "Batch in Progress:   0%|                                                    | 0/115 [00:00<?, ?it/s]"
     ]
    },
    {
     "name": "stdout",
     "output_type": "stream",
     "text": [
      "Validation Set:\n",
      "    Average Loss:  0.692609,    Accuracy: 49.56%,    Correct Counter: 113/228,    F1 Score: 0.66,    Precision: 0.50,    Recall:  1.00 \n",
      "\n",
      "Epoch 10/200\n"
     ]
    },
    {
     "name": "stderr",
     "output_type": "stream",
     "text": [
      "Batch in Progress: 100%|██████████████████████████████████████████| 115/115 [00:52<00:00,  2.19it/s]\n",
      "Batch in Progress:   0%|                                                     | 0/29 [00:00<?, ?it/s]"
     ]
    },
    {
     "name": "stdout",
     "output_type": "stream",
     "text": [
      "Train Set:\n",
      "    Average Loss:  0.696180,    Accuracy: 48.52%,    Correct Counter: 444/915,    F1 Score: 0.65,    Precision: 0.49,    Recall:  1.00 \n",
      "\n"
     ]
    },
    {
     "name": "stderr",
     "output_type": "stream",
     "text": [
      "Batch in Progress: 100%|████████████████████████████████████████████| 29/29 [00:07<00:00,  3.97it/s]\n",
      "Batch in Progress:   0%|                                                    | 0/115 [00:00<?, ?it/s]"
     ]
    },
    {
     "name": "stdout",
     "output_type": "stream",
     "text": [
      "Validation Set:\n",
      "    Average Loss:  0.690536,    Accuracy: 49.56%,    Correct Counter: 113/228,    F1 Score: 0.66,    Precision: 0.50,    Recall:  1.00 \n",
      "\n",
      "Epoch 11/200\n"
     ]
    },
    {
     "name": "stderr",
     "output_type": "stream",
     "text": [
      "Batch in Progress: 100%|██████████████████████████████████████████| 115/115 [00:52<00:00,  2.19it/s]\n",
      "Batch in Progress:   0%|                                                     | 0/29 [00:00<?, ?it/s]"
     ]
    },
    {
     "name": "stdout",
     "output_type": "stream",
     "text": [
      "Train Set:\n",
      "    Average Loss:  0.695023,    Accuracy: 48.52%,    Correct Counter: 444/915,    F1 Score: 0.65,    Precision: 0.49,    Recall:  1.00 \n",
      "\n"
     ]
    },
    {
     "name": "stderr",
     "output_type": "stream",
     "text": [
      "Batch in Progress: 100%|████████████████████████████████████████████| 29/29 [00:07<00:00,  3.94it/s]\n",
      "Batch in Progress:   0%|                                                    | 0/115 [00:00<?, ?it/s]"
     ]
    },
    {
     "name": "stdout",
     "output_type": "stream",
     "text": [
      "Validation Set:\n",
      "    Average Loss:  0.687260,    Accuracy: 49.56%,    Correct Counter: 113/228,    F1 Score: 0.66,    Precision: 0.50,    Recall:  1.00 \n",
      "\n",
      "Epoch 12/200\n"
     ]
    },
    {
     "name": "stderr",
     "output_type": "stream",
     "text": [
      "Batch in Progress: 100%|██████████████████████████████████████████| 115/115 [00:52<00:00,  2.20it/s]\n",
      "Batch in Progress:   0%|                                                     | 0/29 [00:00<?, ?it/s]"
     ]
    },
    {
     "name": "stdout",
     "output_type": "stream",
     "text": [
      "Train Set:\n",
      "    Average Loss:  0.694120,    Accuracy: 48.52%,    Correct Counter: 444/915,    F1 Score: 0.65,    Precision: 0.49,    Recall:  1.00 \n",
      "\n"
     ]
    },
    {
     "name": "stderr",
     "output_type": "stream",
     "text": [
      "Batch in Progress: 100%|████████████████████████████████████████████| 29/29 [00:07<00:00,  3.97it/s]\n",
      "Batch in Progress:   0%|                                                    | 0/115 [00:00<?, ?it/s]"
     ]
    },
    {
     "name": "stdout",
     "output_type": "stream",
     "text": [
      "Validation Set:\n",
      "    Average Loss:  0.684280,    Accuracy: 49.56%,    Correct Counter: 113/228,    F1 Score: 0.66,    Precision: 0.50,    Recall:  1.00 \n",
      "\n",
      "Epoch 13/200\n"
     ]
    },
    {
     "name": "stderr",
     "output_type": "stream",
     "text": [
      "Batch in Progress: 100%|██████████████████████████████████████████| 115/115 [00:52<00:00,  2.18it/s]\n",
      "Batch in Progress:   0%|                                                     | 0/29 [00:00<?, ?it/s]"
     ]
    },
    {
     "name": "stdout",
     "output_type": "stream",
     "text": [
      "Train Set:\n",
      "    Average Loss:  0.687313,    Accuracy: 48.52%,    Correct Counter: 444/915,    F1 Score: 0.65,    Precision: 0.49,    Recall:  1.00 \n",
      "\n"
     ]
    },
    {
     "name": "stderr",
     "output_type": "stream",
     "text": [
      "Batch in Progress: 100%|████████████████████████████████████████████| 29/29 [00:07<00:00,  3.98it/s]\n",
      "Batch in Progress:   0%|                                                    | 0/115 [00:00<?, ?it/s]"
     ]
    },
    {
     "name": "stdout",
     "output_type": "stream",
     "text": [
      "Validation Set:\n",
      "    Average Loss:  0.679944,    Accuracy: 49.56%,    Correct Counter: 113/228,    F1 Score: 0.66,    Precision: 0.50,    Recall:  1.00 \n",
      "\n",
      "Epoch 14/200\n"
     ]
    },
    {
     "name": "stderr",
     "output_type": "stream",
     "text": [
      "Batch in Progress: 100%|██████████████████████████████████████████| 115/115 [00:52<00:00,  2.19it/s]\n",
      "Batch in Progress:   0%|                                                     | 0/29 [00:00<?, ?it/s]"
     ]
    },
    {
     "name": "stdout",
     "output_type": "stream",
     "text": [
      "Train Set:\n",
      "    Average Loss:  0.690852,    Accuracy: 48.52%,    Correct Counter: 444/915,    F1 Score: 0.65,    Precision: 0.49,    Recall:  1.00 \n",
      "\n"
     ]
    },
    {
     "name": "stderr",
     "output_type": "stream",
     "text": [
      "Batch in Progress: 100%|████████████████████████████████████████████| 29/29 [00:07<00:00,  3.96it/s]\n",
      "Batch in Progress:   0%|                                                    | 0/115 [00:00<?, ?it/s]"
     ]
    },
    {
     "name": "stdout",
     "output_type": "stream",
     "text": [
      "Validation Set:\n",
      "    Average Loss:  0.680315,    Accuracy: 49.56%,    Correct Counter: 113/228,    F1 Score: 0.66,    Precision: 0.50,    Recall:  1.00 \n",
      "\n",
      "Epoch 15/200\n"
     ]
    },
    {
     "name": "stderr",
     "output_type": "stream",
     "text": [
      "Batch in Progress: 100%|██████████████████████████████████████████| 115/115 [00:52<00:00,  2.19it/s]\n",
      "Batch in Progress:   0%|                                                     | 0/29 [00:00<?, ?it/s]"
     ]
    },
    {
     "name": "stdout",
     "output_type": "stream",
     "text": [
      "Train Set:\n",
      "    Average Loss:  0.691139,    Accuracy: 48.52%,    Correct Counter: 444/915,    F1 Score: 0.65,    Precision: 0.49,    Recall:  1.00 \n",
      "\n"
     ]
    },
    {
     "name": "stderr",
     "output_type": "stream",
     "text": [
      "Batch in Progress: 100%|████████████████████████████████████████████| 29/29 [00:07<00:00,  3.97it/s]\n",
      "Batch in Progress:   0%|                                                    | 0/115 [00:00<?, ?it/s]"
     ]
    },
    {
     "name": "stdout",
     "output_type": "stream",
     "text": [
      "Validation Set:\n",
      "    Average Loss:  0.675771,    Accuracy: 49.56%,    Correct Counter: 113/228,    F1 Score: 0.66,    Precision: 0.50,    Recall:  1.00 \n",
      "\n",
      "Epoch 16/200\n"
     ]
    },
    {
     "name": "stderr",
     "output_type": "stream",
     "text": [
      "Batch in Progress: 100%|██████████████████████████████████████████| 115/115 [00:52<00:00,  2.20it/s]\n",
      "Batch in Progress:   0%|                                                     | 0/29 [00:00<?, ?it/s]"
     ]
    },
    {
     "name": "stdout",
     "output_type": "stream",
     "text": [
      "Train Set:\n",
      "    Average Loss:  0.696208,    Accuracy: 48.52%,    Correct Counter: 444/915,    F1 Score: 0.65,    Precision: 0.49,    Recall:  1.00 \n",
      "\n"
     ]
    },
    {
     "name": "stderr",
     "output_type": "stream",
     "text": [
      "Batch in Progress: 100%|████████████████████████████████████████████| 29/29 [00:07<00:00,  3.94it/s]\n",
      "Batch in Progress:   0%|                                                    | 0/115 [00:00<?, ?it/s]"
     ]
    },
    {
     "name": "stdout",
     "output_type": "stream",
     "text": [
      "Validation Set:\n",
      "    Average Loss:  0.677956,    Accuracy: 49.56%,    Correct Counter: 113/228,    F1 Score: 0.66,    Precision: 0.50,    Recall:  1.00 \n",
      "\n",
      "Epoch 17/200\n"
     ]
    },
    {
     "name": "stderr",
     "output_type": "stream",
     "text": [
      "Batch in Progress: 100%|██████████████████████████████████████████| 115/115 [00:52<00:00,  2.20it/s]\n",
      "Batch in Progress:   0%|                                                     | 0/29 [00:00<?, ?it/s]"
     ]
    },
    {
     "name": "stdout",
     "output_type": "stream",
     "text": [
      "Train Set:\n",
      "    Average Loss:  0.689449,    Accuracy: 48.52%,    Correct Counter: 444/915,    F1 Score: 0.65,    Precision: 0.49,    Recall:  1.00 \n",
      "\n"
     ]
    },
    {
     "name": "stderr",
     "output_type": "stream",
     "text": [
      "Batch in Progress: 100%|████████████████████████████████████████████| 29/29 [00:07<00:00,  3.98it/s]\n",
      "Batch in Progress:   0%|                                                    | 0/115 [00:00<?, ?it/s]"
     ]
    },
    {
     "name": "stdout",
     "output_type": "stream",
     "text": [
      "Validation Set:\n",
      "    Average Loss:  0.676409,    Accuracy: 49.56%,    Correct Counter: 113/228,    F1 Score: 0.66,    Precision: 0.50,    Recall:  1.00 \n",
      "\n",
      "Epoch 18/200\n"
     ]
    },
    {
     "name": "stderr",
     "output_type": "stream",
     "text": [
      "Batch in Progress: 100%|██████████████████████████████████████████| 115/115 [00:52<00:00,  2.19it/s]\n",
      "Batch in Progress:   0%|                                                     | 0/29 [00:00<?, ?it/s]"
     ]
    },
    {
     "name": "stdout",
     "output_type": "stream",
     "text": [
      "Train Set:\n",
      "    Average Loss:  0.687865,    Accuracy: 48.52%,    Correct Counter: 444/915,    F1 Score: 0.65,    Precision: 0.49,    Recall:  1.00 \n",
      "\n"
     ]
    },
    {
     "name": "stderr",
     "output_type": "stream",
     "text": [
      "Batch in Progress: 100%|████████████████████████████████████████████| 29/29 [00:07<00:00,  4.02it/s]\n",
      "Batch in Progress:   0%|                                                    | 0/115 [00:00<?, ?it/s]"
     ]
    },
    {
     "name": "stdout",
     "output_type": "stream",
     "text": [
      "Validation Set:\n",
      "    Average Loss:  0.674883,    Accuracy: 49.56%,    Correct Counter: 113/228,    F1 Score: 0.66,    Precision: 0.50,    Recall:  1.00 \n",
      "\n",
      "Epoch 19/200\n"
     ]
    },
    {
     "name": "stderr",
     "output_type": "stream",
     "text": [
      "Batch in Progress: 100%|██████████████████████████████████████████| 115/115 [00:52<00:00,  2.20it/s]\n",
      "Batch in Progress:   0%|                                                     | 0/29 [00:00<?, ?it/s]"
     ]
    },
    {
     "name": "stdout",
     "output_type": "stream",
     "text": [
      "Train Set:\n",
      "    Average Loss:  0.685473,    Accuracy: 48.52%,    Correct Counter: 444/915,    F1 Score: 0.65,    Precision: 0.49,    Recall:  1.00 \n",
      "\n"
     ]
    },
    {
     "name": "stderr",
     "output_type": "stream",
     "text": [
      "Batch in Progress: 100%|████████████████████████████████████████████| 29/29 [00:07<00:00,  3.97it/s]\n",
      "Batch in Progress:   0%|                                                    | 0/115 [00:00<?, ?it/s]"
     ]
    },
    {
     "name": "stdout",
     "output_type": "stream",
     "text": [
      "Validation Set:\n",
      "    Average Loss:  0.673920,    Accuracy: 49.56%,    Correct Counter: 113/228,    F1 Score: 0.66,    Precision: 0.50,    Recall:  1.00 \n",
      "\n",
      "Epoch 20/200\n"
     ]
    },
    {
     "name": "stderr",
     "output_type": "stream",
     "text": [
      "Batch in Progress: 100%|██████████████████████████████████████████| 115/115 [00:52<00:00,  2.19it/s]\n",
      "Batch in Progress:   0%|                                                     | 0/29 [00:00<?, ?it/s]"
     ]
    },
    {
     "name": "stdout",
     "output_type": "stream",
     "text": [
      "Train Set:\n",
      "    Average Loss:  0.680722,    Accuracy: 48.52%,    Correct Counter: 444/915,    F1 Score: 0.65,    Precision: 0.49,    Recall:  1.00 \n",
      "\n"
     ]
    },
    {
     "name": "stderr",
     "output_type": "stream",
     "text": [
      "Batch in Progress: 100%|████████████████████████████████████████████| 29/29 [00:07<00:00,  3.95it/s]\n",
      "Batch in Progress:   0%|                                                    | 0/115 [00:00<?, ?it/s]"
     ]
    },
    {
     "name": "stdout",
     "output_type": "stream",
     "text": [
      "Validation Set:\n",
      "    Average Loss:  0.673071,    Accuracy: 49.56%,    Correct Counter: 113/228,    F1 Score: 0.66,    Precision: 0.50,    Recall:  1.00 \n",
      "\n",
      "Epoch 21/200\n"
     ]
    },
    {
     "name": "stderr",
     "output_type": "stream",
     "text": [
      "Batch in Progress: 100%|██████████████████████████████████████████| 115/115 [00:52<00:00,  2.18it/s]\n",
      "Batch in Progress:   0%|                                                     | 0/29 [00:00<?, ?it/s]"
     ]
    },
    {
     "name": "stdout",
     "output_type": "stream",
     "text": [
      "Train Set:\n",
      "    Average Loss:  0.686490,    Accuracy: 48.52%,    Correct Counter: 444/915,    F1 Score: 0.65,    Precision: 0.49,    Recall:  1.00 \n",
      "\n"
     ]
    },
    {
     "name": "stderr",
     "output_type": "stream",
     "text": [
      "Batch in Progress: 100%|████████████████████████████████████████████| 29/29 [00:07<00:00,  3.97it/s]\n",
      "Batch in Progress:   0%|                                                    | 0/115 [00:00<?, ?it/s]"
     ]
    },
    {
     "name": "stdout",
     "output_type": "stream",
     "text": [
      "Validation Set:\n",
      "    Average Loss:  0.670157,    Accuracy: 49.56%,    Correct Counter: 113/228,    F1 Score: 0.66,    Precision: 0.50,    Recall:  1.00 \n",
      "\n",
      "Epoch 22/200\n"
     ]
    },
    {
     "name": "stderr",
     "output_type": "stream",
     "text": [
      "Batch in Progress: 100%|██████████████████████████████████████████| 115/115 [00:52<00:00,  2.19it/s]\n",
      "Batch in Progress:   0%|                                                     | 0/29 [00:00<?, ?it/s]"
     ]
    },
    {
     "name": "stdout",
     "output_type": "stream",
     "text": [
      "Train Set:\n",
      "    Average Loss:  0.684253,    Accuracy: 48.52%,    Correct Counter: 444/915,    F1 Score: 0.65,    Precision: 0.49,    Recall:  1.00 \n",
      "\n"
     ]
    },
    {
     "name": "stderr",
     "output_type": "stream",
     "text": [
      "Batch in Progress: 100%|████████████████████████████████████████████| 29/29 [00:07<00:00,  3.97it/s]\n",
      "Batch in Progress:   0%|                                                    | 0/115 [00:00<?, ?it/s]"
     ]
    },
    {
     "name": "stdout",
     "output_type": "stream",
     "text": [
      "Validation Set:\n",
      "    Average Loss:  0.673053,    Accuracy: 49.56%,    Correct Counter: 113/228,    F1 Score: 0.66,    Precision: 0.50,    Recall:  1.00 \n",
      "\n",
      "Epoch 23/200\n"
     ]
    },
    {
     "name": "stderr",
     "output_type": "stream",
     "text": [
      "Batch in Progress: 100%|██████████████████████████████████████████| 115/115 [00:52<00:00,  2.20it/s]\n",
      "Batch in Progress:   0%|                                                     | 0/29 [00:00<?, ?it/s]"
     ]
    },
    {
     "name": "stdout",
     "output_type": "stream",
     "text": [
      "Train Set:\n",
      "    Average Loss:  0.683435,    Accuracy: 48.52%,    Correct Counter: 444/915,    F1 Score: 0.65,    Precision: 0.49,    Recall:  1.00 \n",
      "\n"
     ]
    },
    {
     "name": "stderr",
     "output_type": "stream",
     "text": [
      "Batch in Progress: 100%|████████████████████████████████████████████| 29/29 [00:07<00:00,  3.92it/s]\n",
      "Batch in Progress:   0%|                                                    | 0/115 [00:00<?, ?it/s]"
     ]
    },
    {
     "name": "stdout",
     "output_type": "stream",
     "text": [
      "Validation Set:\n",
      "    Average Loss:  0.671020,    Accuracy: 49.56%,    Correct Counter: 113/228,    F1 Score: 0.66,    Precision: 0.50,    Recall:  1.00 \n",
      "\n",
      "Epoch 24/200\n"
     ]
    },
    {
     "name": "stderr",
     "output_type": "stream",
     "text": [
      "Batch in Progress: 100%|██████████████████████████████████████████| 115/115 [00:52<00:00,  2.19it/s]\n",
      "Batch in Progress:   0%|                                                     | 0/29 [00:00<?, ?it/s]"
     ]
    },
    {
     "name": "stdout",
     "output_type": "stream",
     "text": [
      "Train Set:\n",
      "    Average Loss:  0.681342,    Accuracy: 48.52%,    Correct Counter: 444/915,    F1 Score: 0.65,    Precision: 0.49,    Recall:  1.00 \n",
      "\n"
     ]
    },
    {
     "name": "stderr",
     "output_type": "stream",
     "text": [
      "Batch in Progress: 100%|████████████████████████████████████████████| 29/29 [00:07<00:00,  3.94it/s]\n",
      "Batch in Progress:   0%|                                                    | 0/115 [00:00<?, ?it/s]"
     ]
    },
    {
     "name": "stdout",
     "output_type": "stream",
     "text": [
      "Validation Set:\n",
      "    Average Loss:  0.670762,    Accuracy: 49.56%,    Correct Counter: 113/228,    F1 Score: 0.66,    Precision: 0.50,    Recall:  1.00 \n",
      "\n",
      "Epoch 25/200\n"
     ]
    },
    {
     "name": "stderr",
     "output_type": "stream",
     "text": [
      "Batch in Progress: 100%|██████████████████████████████████████████| 115/115 [00:52<00:00,  2.19it/s]\n",
      "Batch in Progress:   0%|                                                     | 0/29 [00:00<?, ?it/s]"
     ]
    },
    {
     "name": "stdout",
     "output_type": "stream",
     "text": [
      "Train Set:\n",
      "    Average Loss:  0.685747,    Accuracy: 48.52%,    Correct Counter: 444/915,    F1 Score: 0.65,    Precision: 0.49,    Recall:  1.00 \n",
      "\n"
     ]
    },
    {
     "name": "stderr",
     "output_type": "stream",
     "text": [
      "Batch in Progress: 100%|████████████████████████████████████████████| 29/29 [00:07<00:00,  3.98it/s]\n",
      "Batch in Progress:   0%|                                                    | 0/115 [00:00<?, ?it/s]"
     ]
    },
    {
     "name": "stdout",
     "output_type": "stream",
     "text": [
      "Validation Set:\n",
      "    Average Loss:  0.669307,    Accuracy: 49.56%,    Correct Counter: 113/228,    F1 Score: 0.66,    Precision: 0.50,    Recall:  1.00 \n",
      "\n",
      "Epoch 26/200\n"
     ]
    },
    {
     "name": "stderr",
     "output_type": "stream",
     "text": [
      "Batch in Progress: 100%|██████████████████████████████████████████| 115/115 [00:52<00:00,  2.19it/s]\n",
      "Batch in Progress:   0%|                                                     | 0/29 [00:00<?, ?it/s]"
     ]
    },
    {
     "name": "stdout",
     "output_type": "stream",
     "text": [
      "Train Set:\n",
      "    Average Loss:  0.678468,    Accuracy: 48.52%,    Correct Counter: 444/915,    F1 Score: 0.65,    Precision: 0.49,    Recall:  1.00 \n",
      "\n"
     ]
    },
    {
     "name": "stderr",
     "output_type": "stream",
     "text": [
      "Batch in Progress: 100%|████████████████████████████████████████████| 29/29 [00:07<00:00,  3.97it/s]\n",
      "Batch in Progress:   0%|                                                    | 0/115 [00:00<?, ?it/s]"
     ]
    },
    {
     "name": "stdout",
     "output_type": "stream",
     "text": [
      "Validation Set:\n",
      "    Average Loss:  0.668338,    Accuracy: 49.56%,    Correct Counter: 113/228,    F1 Score: 0.66,    Precision: 0.50,    Recall:  1.00 \n",
      "\n",
      "Epoch 27/200\n"
     ]
    },
    {
     "name": "stderr",
     "output_type": "stream",
     "text": [
      "Batch in Progress: 100%|██████████████████████████████████████████| 115/115 [00:52<00:00,  2.20it/s]\n",
      "Batch in Progress:   0%|                                                     | 0/29 [00:00<?, ?it/s]"
     ]
    },
    {
     "name": "stdout",
     "output_type": "stream",
     "text": [
      "Train Set:\n",
      "    Average Loss:  0.676643,    Accuracy: 48.52%,    Correct Counter: 444/915,    F1 Score: 0.65,    Precision: 0.49,    Recall:  1.00 \n",
      "\n"
     ]
    },
    {
     "name": "stderr",
     "output_type": "stream",
     "text": [
      "Batch in Progress: 100%|████████████████████████████████████████████| 29/29 [00:07<00:00,  3.95it/s]\n",
      "Batch in Progress:   0%|                                                    | 0/115 [00:00<?, ?it/s]"
     ]
    },
    {
     "name": "stdout",
     "output_type": "stream",
     "text": [
      "Validation Set:\n",
      "    Average Loss:  0.667253,    Accuracy: 49.56%,    Correct Counter: 113/228,    F1 Score: 0.66,    Precision: 0.50,    Recall:  1.00 \n",
      "\n",
      "Epoch 28/200\n"
     ]
    },
    {
     "name": "stderr",
     "output_type": "stream",
     "text": [
      "Batch in Progress: 100%|██████████████████████████████████████████| 115/115 [00:52<00:00,  2.19it/s]\n",
      "Batch in Progress:   0%|                                                     | 0/29 [00:00<?, ?it/s]"
     ]
    },
    {
     "name": "stdout",
     "output_type": "stream",
     "text": [
      "Train Set:\n",
      "    Average Loss:  0.683793,    Accuracy: 48.52%,    Correct Counter: 444/915,    F1 Score: 0.65,    Precision: 0.49,    Recall:  1.00 \n",
      "\n"
     ]
    },
    {
     "name": "stderr",
     "output_type": "stream",
     "text": [
      "Batch in Progress: 100%|████████████████████████████████████████████| 29/29 [00:07<00:00,  4.02it/s]\n",
      "Batch in Progress:   0%|                                                    | 0/115 [00:00<?, ?it/s]"
     ]
    },
    {
     "name": "stdout",
     "output_type": "stream",
     "text": [
      "Validation Set:\n",
      "    Average Loss:  0.665739,    Accuracy: 49.56%,    Correct Counter: 113/228,    F1 Score: 0.66,    Precision: 0.50,    Recall:  1.00 \n",
      "\n",
      "Epoch 29/200\n"
     ]
    },
    {
     "name": "stderr",
     "output_type": "stream",
     "text": [
      "Batch in Progress: 100%|██████████████████████████████████████████| 115/115 [00:52<00:00,  2.20it/s]\n",
      "Batch in Progress:   0%|                                                     | 0/29 [00:00<?, ?it/s]"
     ]
    },
    {
     "name": "stdout",
     "output_type": "stream",
     "text": [
      "Train Set:\n",
      "    Average Loss:  0.677216,    Accuracy: 48.52%,    Correct Counter: 444/915,    F1 Score: 0.65,    Precision: 0.49,    Recall:  1.00 \n",
      "\n"
     ]
    },
    {
     "name": "stderr",
     "output_type": "stream",
     "text": [
      "Batch in Progress: 100%|████████████████████████████████████████████| 29/29 [00:07<00:00,  4.03it/s]\n",
      "Batch in Progress:   0%|                                                    | 0/115 [00:00<?, ?it/s]"
     ]
    },
    {
     "name": "stdout",
     "output_type": "stream",
     "text": [
      "Validation Set:\n",
      "    Average Loss:  0.666422,    Accuracy: 49.56%,    Correct Counter: 113/228,    F1 Score: 0.66,    Precision: 0.50,    Recall:  1.00 \n",
      "\n",
      "Epoch 30/200\n"
     ]
    },
    {
     "name": "stderr",
     "output_type": "stream",
     "text": [
      "Batch in Progress: 100%|██████████████████████████████████████████| 115/115 [00:52<00:00,  2.18it/s]\n",
      "Batch in Progress:   0%|                                                     | 0/29 [00:00<?, ?it/s]"
     ]
    },
    {
     "name": "stdout",
     "output_type": "stream",
     "text": [
      "Train Set:\n",
      "    Average Loss:  0.681265,    Accuracy: 48.52%,    Correct Counter: 444/915,    F1 Score: 0.65,    Precision: 0.49,    Recall:  1.00 \n",
      "\n"
     ]
    },
    {
     "name": "stderr",
     "output_type": "stream",
     "text": [
      "Batch in Progress: 100%|████████████████████████████████████████████| 29/29 [00:07<00:00,  3.95it/s]\n",
      "Batch in Progress:   0%|                                                    | 0/115 [00:00<?, ?it/s]"
     ]
    },
    {
     "name": "stdout",
     "output_type": "stream",
     "text": [
      "Validation Set:\n",
      "    Average Loss:  0.665606,    Accuracy: 49.56%,    Correct Counter: 113/228,    F1 Score: 0.66,    Precision: 0.50,    Recall:  1.00 \n",
      "\n",
      "Epoch 31/200\n"
     ]
    },
    {
     "name": "stderr",
     "output_type": "stream",
     "text": [
      "Batch in Progress: 100%|██████████████████████████████████████████| 115/115 [00:52<00:00,  2.19it/s]\n",
      "Batch in Progress:   0%|                                                     | 0/29 [00:00<?, ?it/s]"
     ]
    },
    {
     "name": "stdout",
     "output_type": "stream",
     "text": [
      "Train Set:\n",
      "    Average Loss:  0.678817,    Accuracy: 48.52%,    Correct Counter: 444/915,    F1 Score: 0.65,    Precision: 0.49,    Recall:  1.00 \n",
      "\n"
     ]
    },
    {
     "name": "stderr",
     "output_type": "stream",
     "text": [
      "Batch in Progress: 100%|████████████████████████████████████████████| 29/29 [00:07<00:00,  3.98it/s]\n",
      "Batch in Progress:   0%|                                                    | 0/115 [00:00<?, ?it/s]"
     ]
    },
    {
     "name": "stdout",
     "output_type": "stream",
     "text": [
      "Validation Set:\n",
      "    Average Loss:  0.665879,    Accuracy: 49.56%,    Correct Counter: 113/228,    F1 Score: 0.66,    Precision: 0.50,    Recall:  1.00 \n",
      "\n",
      "Epoch 32/200\n"
     ]
    },
    {
     "name": "stderr",
     "output_type": "stream",
     "text": [
      "Batch in Progress: 100%|██████████████████████████████████████████| 115/115 [00:52<00:00,  2.19it/s]\n",
      "Batch in Progress:   0%|                                                     | 0/29 [00:00<?, ?it/s]"
     ]
    },
    {
     "name": "stdout",
     "output_type": "stream",
     "text": [
      "Train Set:\n",
      "    Average Loss:  0.672960,    Accuracy: 48.52%,    Correct Counter: 444/915,    F1 Score: 0.65,    Precision: 0.49,    Recall:  1.00 \n",
      "\n"
     ]
    },
    {
     "name": "stderr",
     "output_type": "stream",
     "text": [
      "Batch in Progress: 100%|████████████████████████████████████████████| 29/29 [00:07<00:00,  4.02it/s]\n",
      "Batch in Progress:   0%|                                                    | 0/115 [00:00<?, ?it/s]"
     ]
    },
    {
     "name": "stdout",
     "output_type": "stream",
     "text": [
      "Validation Set:\n",
      "    Average Loss:  0.664247,    Accuracy: 49.56%,    Correct Counter: 113/228,    F1 Score: 0.66,    Precision: 0.50,    Recall:  1.00 \n",
      "\n",
      "Epoch 33/200\n"
     ]
    },
    {
     "name": "stderr",
     "output_type": "stream",
     "text": [
      "Batch in Progress: 100%|██████████████████████████████████████████| 115/115 [00:52<00:00,  2.18it/s]\n",
      "Batch in Progress:   0%|                                                     | 0/29 [00:00<?, ?it/s]"
     ]
    },
    {
     "name": "stdout",
     "output_type": "stream",
     "text": [
      "Train Set:\n",
      "    Average Loss:  0.675039,    Accuracy: 48.52%,    Correct Counter: 444/915,    F1 Score: 0.65,    Precision: 0.49,    Recall:  1.00 \n",
      "\n"
     ]
    },
    {
     "name": "stderr",
     "output_type": "stream",
     "text": [
      "Batch in Progress: 100%|████████████████████████████████████████████| 29/29 [00:07<00:00,  3.97it/s]\n",
      "Batch in Progress:   0%|                                                    | 0/115 [00:00<?, ?it/s]"
     ]
    },
    {
     "name": "stdout",
     "output_type": "stream",
     "text": [
      "Validation Set:\n",
      "    Average Loss:  0.664441,    Accuracy: 49.56%,    Correct Counter: 113/228,    F1 Score: 0.66,    Precision: 0.50,    Recall:  1.00 \n",
      "\n",
      "Epoch 34/200\n"
     ]
    },
    {
     "name": "stderr",
     "output_type": "stream",
     "text": [
      "Batch in Progress: 100%|██████████████████████████████████████████| 115/115 [00:52<00:00,  2.19it/s]\n",
      "Batch in Progress:   0%|                                                     | 0/29 [00:00<?, ?it/s]"
     ]
    },
    {
     "name": "stdout",
     "output_type": "stream",
     "text": [
      "Train Set:\n",
      "    Average Loss:  0.679521,    Accuracy: 48.52%,    Correct Counter: 444/915,    F1 Score: 0.65,    Precision: 0.49,    Recall:  1.00 \n",
      "\n"
     ]
    },
    {
     "name": "stderr",
     "output_type": "stream",
     "text": [
      "Batch in Progress: 100%|████████████████████████████████████████████| 29/29 [00:07<00:00,  3.95it/s]\n",
      "Batch in Progress:   0%|                                                    | 0/115 [00:00<?, ?it/s]"
     ]
    },
    {
     "name": "stdout",
     "output_type": "stream",
     "text": [
      "Validation Set:\n",
      "    Average Loss:  0.664157,    Accuracy: 49.56%,    Correct Counter: 113/228,    F1 Score: 0.66,    Precision: 0.50,    Recall:  1.00 \n",
      "\n",
      "Epoch 35/200\n"
     ]
    },
    {
     "name": "stderr",
     "output_type": "stream",
     "text": [
      "Batch in Progress: 100%|██████████████████████████████████████████| 115/115 [00:52<00:00,  2.19it/s]\n",
      "Batch in Progress:   0%|                                                     | 0/29 [00:00<?, ?it/s]"
     ]
    },
    {
     "name": "stdout",
     "output_type": "stream",
     "text": [
      "Train Set:\n",
      "    Average Loss:  0.670246,    Accuracy: 48.52%,    Correct Counter: 444/915,    F1 Score: 0.65,    Precision: 0.49,    Recall:  1.00 \n",
      "\n"
     ]
    },
    {
     "name": "stderr",
     "output_type": "stream",
     "text": [
      "Batch in Progress: 100%|████████████████████████████████████████████| 29/29 [00:07<00:00,  3.97it/s]\n",
      "Batch in Progress:   0%|                                                    | 0/115 [00:00<?, ?it/s]"
     ]
    },
    {
     "name": "stdout",
     "output_type": "stream",
     "text": [
      "Validation Set:\n",
      "    Average Loss:  0.662586,    Accuracy: 49.56%,    Correct Counter: 113/228,    F1 Score: 0.66,    Precision: 0.50,    Recall:  1.00 \n",
      "\n",
      "Epoch 36/200\n"
     ]
    },
    {
     "name": "stderr",
     "output_type": "stream",
     "text": [
      "Batch in Progress: 100%|██████████████████████████████████████████| 115/115 [00:52<00:00,  2.20it/s]\n",
      "Batch in Progress:   0%|                                                     | 0/29 [00:00<?, ?it/s]"
     ]
    },
    {
     "name": "stdout",
     "output_type": "stream",
     "text": [
      "Train Set:\n",
      "    Average Loss:  0.673965,    Accuracy: 48.52%,    Correct Counter: 444/915,    F1 Score: 0.65,    Precision: 0.49,    Recall:  1.00 \n",
      "\n"
     ]
    },
    {
     "name": "stderr",
     "output_type": "stream",
     "text": [
      "Batch in Progress: 100%|████████████████████████████████████████████| 29/29 [00:07<00:00,  3.99it/s]\n",
      "Batch in Progress:   0%|                                                    | 0/115 [00:00<?, ?it/s]"
     ]
    },
    {
     "name": "stdout",
     "output_type": "stream",
     "text": [
      "Validation Set:\n",
      "    Average Loss:  0.660316,    Accuracy: 49.56%,    Correct Counter: 113/228,    F1 Score: 0.66,    Precision: 0.50,    Recall:  1.00 \n",
      "\n",
      "Epoch 37/200\n"
     ]
    },
    {
     "name": "stderr",
     "output_type": "stream",
     "text": [
      "Batch in Progress: 100%|██████████████████████████████████████████| 115/115 [00:52<00:00,  2.19it/s]\n",
      "Batch in Progress:   0%|                                                     | 0/29 [00:00<?, ?it/s]"
     ]
    },
    {
     "name": "stdout",
     "output_type": "stream",
     "text": [
      "Train Set:\n",
      "    Average Loss:  0.675618,    Accuracy: 48.52%,    Correct Counter: 444/915,    F1 Score: 0.65,    Precision: 0.49,    Recall:  1.00 \n",
      "\n"
     ]
    },
    {
     "name": "stderr",
     "output_type": "stream",
     "text": [
      "Batch in Progress: 100%|████████████████████████████████████████████| 29/29 [00:07<00:00,  3.90it/s]\n",
      "Batch in Progress:   0%|                                                    | 0/115 [00:00<?, ?it/s]"
     ]
    },
    {
     "name": "stdout",
     "output_type": "stream",
     "text": [
      "Validation Set:\n",
      "    Average Loss:  0.664900,    Accuracy: 49.56%,    Correct Counter: 113/228,    F1 Score: 0.66,    Precision: 0.50,    Recall:  1.00 \n",
      "\n",
      "Epoch 38/200\n"
     ]
    },
    {
     "name": "stderr",
     "output_type": "stream",
     "text": [
      "Batch in Progress: 100%|██████████████████████████████████████████| 115/115 [00:52<00:00,  2.19it/s]\n",
      "Batch in Progress:   0%|                                                     | 0/29 [00:00<?, ?it/s]"
     ]
    },
    {
     "name": "stdout",
     "output_type": "stream",
     "text": [
      "Train Set:\n",
      "    Average Loss:  0.671593,    Accuracy: 48.52%,    Correct Counter: 444/915,    F1 Score: 0.65,    Precision: 0.49,    Recall:  1.00 \n",
      "\n"
     ]
    },
    {
     "name": "stderr",
     "output_type": "stream",
     "text": [
      "Batch in Progress: 100%|████████████████████████████████████████████| 29/29 [00:07<00:00,  3.99it/s]\n",
      "Batch in Progress:   0%|                                                    | 0/115 [00:00<?, ?it/s]"
     ]
    },
    {
     "name": "stdout",
     "output_type": "stream",
     "text": [
      "Validation Set:\n",
      "    Average Loss:  0.660185,    Accuracy: 49.56%,    Correct Counter: 113/228,    F1 Score: 0.66,    Precision: 0.50,    Recall:  1.00 \n",
      "\n",
      "Epoch 39/200\n"
     ]
    },
    {
     "name": "stderr",
     "output_type": "stream",
     "text": [
      "Batch in Progress: 100%|██████████████████████████████████████████| 115/115 [00:52<00:00,  2.19it/s]\n",
      "Batch in Progress:   0%|                                                     | 0/29 [00:00<?, ?it/s]"
     ]
    },
    {
     "name": "stdout",
     "output_type": "stream",
     "text": [
      "Train Set:\n",
      "    Average Loss:  0.672039,    Accuracy: 48.52%,    Correct Counter: 444/915,    F1 Score: 0.65,    Precision: 0.49,    Recall:  1.00 \n",
      "\n"
     ]
    },
    {
     "name": "stderr",
     "output_type": "stream",
     "text": [
      "Batch in Progress: 100%|████████████████████████████████████████████| 29/29 [00:07<00:00,  3.91it/s]\n",
      "Batch in Progress:   0%|                                                    | 0/115 [00:00<?, ?it/s]"
     ]
    },
    {
     "name": "stdout",
     "output_type": "stream",
     "text": [
      "Validation Set:\n",
      "    Average Loss:  0.659717,    Accuracy: 49.56%,    Correct Counter: 113/228,    F1 Score: 0.66,    Precision: 0.50,    Recall:  1.00 \n",
      "\n",
      "Epoch 40/200\n"
     ]
    },
    {
     "name": "stderr",
     "output_type": "stream",
     "text": [
      "Batch in Progress: 100%|██████████████████████████████████████████| 115/115 [00:52<00:00,  2.19it/s]\n",
      "Batch in Progress:   0%|                                                     | 0/29 [00:00<?, ?it/s]"
     ]
    },
    {
     "name": "stdout",
     "output_type": "stream",
     "text": [
      "Train Set:\n",
      "    Average Loss:  0.669334,    Accuracy: 51.15%,    Correct Counter: 468/915,    F1 Score: 0.66,    Precision: 0.50,    Recall:  0.99 \n",
      "\n"
     ]
    },
    {
     "name": "stderr",
     "output_type": "stream",
     "text": [
      "Batch in Progress: 100%|████████████████████████████████████████████| 29/29 [00:07<00:00,  4.00it/s]\n",
      "Batch in Progress:   0%|                                                    | 0/115 [00:00<?, ?it/s]"
     ]
    },
    {
     "name": "stdout",
     "output_type": "stream",
     "text": [
      "Validation Set:\n",
      "    Average Loss:  0.658209,    Accuracy: 60.96%,    Correct Counter: 139/228,    F1 Score: 0.71,    Precision: 0.56,    Recall:  0.95 \n",
      "\n",
      "Epoch 41/200\n"
     ]
    },
    {
     "name": "stderr",
     "output_type": "stream",
     "text": [
      "Batch in Progress: 100%|██████████████████████████████████████████| 115/115 [00:52<00:00,  2.20it/s]\n",
      "Batch in Progress:   0%|                                                     | 0/29 [00:00<?, ?it/s]"
     ]
    },
    {
     "name": "stdout",
     "output_type": "stream",
     "text": [
      "Train Set:\n",
      "    Average Loss:  0.670818,    Accuracy: 67.21%,    Correct Counter: 615/915,    F1 Score: 0.74,    Precision: 0.60,    Recall:  0.96 \n",
      "\n"
     ]
    },
    {
     "name": "stderr",
     "output_type": "stream",
     "text": [
      "Batch in Progress: 100%|████████████████████████████████████████████| 29/29 [00:07<00:00,  3.94it/s]\n",
      "Batch in Progress:   0%|                                                    | 0/115 [00:00<?, ?it/s]"
     ]
    },
    {
     "name": "stdout",
     "output_type": "stream",
     "text": [
      "Validation Set:\n",
      "    Average Loss:  0.657813,    Accuracy: 61.84%,    Correct Counter: 141/228,    F1 Score: 0.71,    Precision: 0.57,    Recall:  0.95 \n",
      "\n",
      "Epoch 42/200\n"
     ]
    },
    {
     "name": "stderr",
     "output_type": "stream",
     "text": [
      "Batch in Progress: 100%|██████████████████████████████████████████| 115/115 [00:52<00:00,  2.19it/s]\n",
      "Batch in Progress:   0%|                                                     | 0/29 [00:00<?, ?it/s]"
     ]
    },
    {
     "name": "stdout",
     "output_type": "stream",
     "text": [
      "Train Set:\n",
      "    Average Loss:  0.666120,    Accuracy: 66.67%,    Correct Counter: 610/915,    F1 Score: 0.74,    Precision: 0.60,    Recall:  0.95 \n",
      "\n"
     ]
    },
    {
     "name": "stderr",
     "output_type": "stream",
     "text": [
      "Batch in Progress: 100%|████████████████████████████████████████████| 29/29 [00:07<00:00,  3.99it/s]\n",
      "Batch in Progress:   0%|                                                    | 0/115 [00:00<?, ?it/s]"
     ]
    },
    {
     "name": "stdout",
     "output_type": "stream",
     "text": [
      "Validation Set:\n",
      "    Average Loss:  0.656973,    Accuracy: 62.28%,    Correct Counter: 142/228,    F1 Score: 0.71,    Precision: 0.57,    Recall:  0.95 \n",
      "\n",
      "Epoch 43/200\n"
     ]
    },
    {
     "name": "stderr",
     "output_type": "stream",
     "text": [
      "Batch in Progress: 100%|██████████████████████████████████████████| 115/115 [00:52<00:00,  2.19it/s]\n",
      "Batch in Progress:   0%|                                                     | 0/29 [00:00<?, ?it/s]"
     ]
    },
    {
     "name": "stdout",
     "output_type": "stream",
     "text": [
      "Train Set:\n",
      "    Average Loss:  0.669077,    Accuracy: 67.43%,    Correct Counter: 617/915,    F1 Score: 0.73,    Precision: 0.61,    Recall:  0.93 \n",
      "\n"
     ]
    },
    {
     "name": "stderr",
     "output_type": "stream",
     "text": [
      "Batch in Progress: 100%|████████████████████████████████████████████| 29/29 [00:07<00:00,  3.97it/s]\n",
      "Batch in Progress:   0%|                                                    | 0/115 [00:00<?, ?it/s]"
     ]
    },
    {
     "name": "stdout",
     "output_type": "stream",
     "text": [
      "Validation Set:\n",
      "    Average Loss:  0.656151,    Accuracy: 64.04%,    Correct Counter: 146/228,    F1 Score: 0.72,    Precision: 0.59,    Recall:  0.94 \n",
      "\n",
      "Epoch 44/200\n"
     ]
    },
    {
     "name": "stderr",
     "output_type": "stream",
     "text": [
      "Batch in Progress: 100%|██████████████████████████████████████████| 115/115 [00:52<00:00,  2.19it/s]\n",
      "Batch in Progress:   0%|                                                     | 0/29 [00:00<?, ?it/s]"
     ]
    },
    {
     "name": "stdout",
     "output_type": "stream",
     "text": [
      "Train Set:\n",
      "    Average Loss:  0.673499,    Accuracy: 68.31%,    Correct Counter: 625/915,    F1 Score: 0.74,    Precision: 0.61,    Recall:  0.93 \n",
      "\n"
     ]
    },
    {
     "name": "stderr",
     "output_type": "stream",
     "text": [
      "Batch in Progress: 100%|████████████████████████████████████████████| 29/29 [00:07<00:00,  4.01it/s]\n",
      "Batch in Progress:   0%|                                                    | 0/115 [00:00<?, ?it/s]"
     ]
    },
    {
     "name": "stdout",
     "output_type": "stream",
     "text": [
      "Validation Set:\n",
      "    Average Loss:  0.656684,    Accuracy: 62.28%,    Correct Counter: 142/228,    F1 Score: 0.71,    Precision: 0.57,    Recall:  0.95 \n",
      "\n",
      "Epoch 45/200\n"
     ]
    },
    {
     "name": "stderr",
     "output_type": "stream",
     "text": [
      "Batch in Progress: 100%|██████████████████████████████████████████| 115/115 [00:52<00:00,  2.19it/s]\n",
      "Batch in Progress:   0%|                                                     | 0/29 [00:00<?, ?it/s]"
     ]
    },
    {
     "name": "stdout",
     "output_type": "stream",
     "text": [
      "Train Set:\n",
      "    Average Loss:  0.656638,    Accuracy: 66.67%,    Correct Counter: 610/915,    F1 Score: 0.73,    Precision: 0.60,    Recall:  0.94 \n",
      "\n"
     ]
    },
    {
     "name": "stderr",
     "output_type": "stream",
     "text": [
      "Batch in Progress: 100%|████████████████████████████████████████████| 29/29 [00:07<00:00,  3.94it/s]\n",
      "Batch in Progress:   0%|                                                    | 0/115 [00:00<?, ?it/s]"
     ]
    },
    {
     "name": "stdout",
     "output_type": "stream",
     "text": [
      "Validation Set:\n",
      "    Average Loss:  0.654214,    Accuracy: 63.60%,    Correct Counter: 145/228,    F1 Score: 0.72,    Precision: 0.58,    Recall:  0.93 \n",
      "\n",
      "Epoch 46/200\n"
     ]
    },
    {
     "name": "stderr",
     "output_type": "stream",
     "text": [
      "Batch in Progress: 100%|██████████████████████████████████████████| 115/115 [00:52<00:00,  2.19it/s]\n",
      "Batch in Progress:   0%|                                                     | 0/29 [00:00<?, ?it/s]"
     ]
    },
    {
     "name": "stdout",
     "output_type": "stream",
     "text": [
      "Train Set:\n",
      "    Average Loss:  0.664920,    Accuracy: 68.74%,    Correct Counter: 629/915,    F1 Score: 0.74,    Precision: 0.62,    Recall:  0.94 \n",
      "\n"
     ]
    },
    {
     "name": "stderr",
     "output_type": "stream",
     "text": [
      "Batch in Progress: 100%|████████████████████████████████████████████| 29/29 [00:07<00:00,  3.96it/s]\n",
      "Batch in Progress:   0%|                                                    | 0/115 [00:00<?, ?it/s]"
     ]
    },
    {
     "name": "stdout",
     "output_type": "stream",
     "text": [
      "Validation Set:\n",
      "    Average Loss:  0.654060,    Accuracy: 64.04%,    Correct Counter: 146/228,    F1 Score: 0.72,    Precision: 0.59,    Recall:  0.94 \n",
      "\n",
      "Epoch 47/200\n"
     ]
    },
    {
     "name": "stderr",
     "output_type": "stream",
     "text": [
      "Batch in Progress: 100%|██████████████████████████████████████████| 115/115 [00:52<00:00,  2.19it/s]\n",
      "Batch in Progress:   0%|                                                     | 0/29 [00:00<?, ?it/s]"
     ]
    },
    {
     "name": "stdout",
     "output_type": "stream",
     "text": [
      "Train Set:\n",
      "    Average Loss:  0.661487,    Accuracy: 68.42%,    Correct Counter: 626/915,    F1 Score: 0.74,    Precision: 0.62,    Recall:  0.93 \n",
      "\n"
     ]
    },
    {
     "name": "stderr",
     "output_type": "stream",
     "text": [
      "Batch in Progress: 100%|████████████████████████████████████████████| 29/29 [00:07<00:00,  3.98it/s]\n",
      "Batch in Progress:   0%|                                                    | 0/115 [00:00<?, ?it/s]"
     ]
    },
    {
     "name": "stdout",
     "output_type": "stream",
     "text": [
      "Validation Set:\n",
      "    Average Loss:  0.656026,    Accuracy: 64.04%,    Correct Counter: 146/228,    F1 Score: 0.72,    Precision: 0.59,    Recall:  0.94 \n",
      "\n",
      "Epoch 48/200\n"
     ]
    },
    {
     "name": "stderr",
     "output_type": "stream",
     "text": [
      "Batch in Progress: 100%|██████████████████████████████████████████| 115/115 [00:52<00:00,  2.18it/s]\n",
      "Batch in Progress:   0%|                                                     | 0/29 [00:00<?, ?it/s]"
     ]
    },
    {
     "name": "stdout",
     "output_type": "stream",
     "text": [
      "Train Set:\n",
      "    Average Loss:  0.658786,    Accuracy: 68.74%,    Correct Counter: 629/915,    F1 Score: 0.74,    Precision: 0.62,    Recall:  0.93 \n",
      "\n"
     ]
    },
    {
     "name": "stderr",
     "output_type": "stream",
     "text": [
      "Batch in Progress: 100%|████████████████████████████████████████████| 29/29 [00:07<00:00,  4.00it/s]\n",
      "Batch in Progress:   0%|                                                    | 0/115 [00:00<?, ?it/s]"
     ]
    },
    {
     "name": "stdout",
     "output_type": "stream",
     "text": [
      "Validation Set:\n",
      "    Average Loss:  0.652535,    Accuracy: 64.04%,    Correct Counter: 146/228,    F1 Score: 0.72,    Precision: 0.59,    Recall:  0.93 \n",
      "\n",
      "Epoch 49/200\n"
     ]
    },
    {
     "name": "stderr",
     "output_type": "stream",
     "text": [
      "Batch in Progress: 100%|██████████████████████████████████████████| 115/115 [00:52<00:00,  2.19it/s]\n",
      "Batch in Progress:   0%|                                                     | 0/29 [00:00<?, ?it/s]"
     ]
    },
    {
     "name": "stdout",
     "output_type": "stream",
     "text": [
      "Train Set:\n",
      "    Average Loss:  0.658757,    Accuracy: 69.29%,    Correct Counter: 634/915,    F1 Score: 0.75,    Precision: 0.62,    Recall:  0.94 \n",
      "\n"
     ]
    },
    {
     "name": "stderr",
     "output_type": "stream",
     "text": [
      "Batch in Progress: 100%|████████████████████████████████████████████| 29/29 [00:07<00:00,  3.96it/s]\n",
      "Batch in Progress:   0%|                                                    | 0/115 [00:00<?, ?it/s]"
     ]
    },
    {
     "name": "stdout",
     "output_type": "stream",
     "text": [
      "Validation Set:\n",
      "    Average Loss:  0.651201,    Accuracy: 64.04%,    Correct Counter: 146/228,    F1 Score: 0.72,    Precision: 0.59,    Recall:  0.93 \n",
      "\n",
      "Epoch 50/200\n"
     ]
    },
    {
     "name": "stderr",
     "output_type": "stream",
     "text": [
      "Batch in Progress: 100%|██████████████████████████████████████████| 115/115 [00:52<00:00,  2.19it/s]\n",
      "Batch in Progress:   0%|                                                     | 0/29 [00:00<?, ?it/s]"
     ]
    },
    {
     "name": "stdout",
     "output_type": "stream",
     "text": [
      "Train Set:\n",
      "    Average Loss:  0.660460,    Accuracy: 70.60%,    Correct Counter: 646/915,    F1 Score: 0.75,    Precision: 0.63,    Recall:  0.93 \n",
      "\n"
     ]
    },
    {
     "name": "stderr",
     "output_type": "stream",
     "text": [
      "Batch in Progress: 100%|████████████████████████████████████████████| 29/29 [00:07<00:00,  3.98it/s]\n",
      "Batch in Progress:   0%|                                                    | 0/115 [00:00<?, ?it/s]"
     ]
    },
    {
     "name": "stdout",
     "output_type": "stream",
     "text": [
      "Validation Set:\n",
      "    Average Loss:  0.651905,    Accuracy: 64.04%,    Correct Counter: 146/228,    F1 Score: 0.72,    Precision: 0.59,    Recall:  0.93 \n",
      "\n",
      "Epoch 51/200\n"
     ]
    },
    {
     "name": "stderr",
     "output_type": "stream",
     "text": [
      "Batch in Progress: 100%|██████████████████████████████████████████| 115/115 [00:52<00:00,  2.19it/s]\n",
      "Batch in Progress:   0%|                                                     | 0/29 [00:00<?, ?it/s]"
     ]
    },
    {
     "name": "stdout",
     "output_type": "stream",
     "text": [
      "Train Set:\n",
      "    Average Loss:  0.659781,    Accuracy: 70.05%,    Correct Counter: 641/915,    F1 Score: 0.75,    Precision: 0.63,    Recall:  0.94 \n",
      "\n"
     ]
    },
    {
     "name": "stderr",
     "output_type": "stream",
     "text": [
      "Batch in Progress: 100%|████████████████████████████████████████████| 29/29 [00:07<00:00,  3.99it/s]\n",
      "Batch in Progress:   0%|                                                    | 0/115 [00:00<?, ?it/s]"
     ]
    },
    {
     "name": "stdout",
     "output_type": "stream",
     "text": [
      "Validation Set:\n",
      "    Average Loss:  0.651904,    Accuracy: 63.60%,    Correct Counter: 145/228,    F1 Score: 0.72,    Precision: 0.58,    Recall:  0.93 \n",
      "\n",
      "Epoch 52/200\n"
     ]
    },
    {
     "name": "stderr",
     "output_type": "stream",
     "text": [
      "Batch in Progress: 100%|██████████████████████████████████████████| 115/115 [00:52<00:00,  2.19it/s]\n",
      "Batch in Progress:   0%|                                                     | 0/29 [00:00<?, ?it/s]"
     ]
    },
    {
     "name": "stdout",
     "output_type": "stream",
     "text": [
      "Train Set:\n",
      "    Average Loss:  0.654165,    Accuracy: 70.27%,    Correct Counter: 643/915,    F1 Score: 0.75,    Precision: 0.63,    Recall:  0.93 \n",
      "\n"
     ]
    },
    {
     "name": "stderr",
     "output_type": "stream",
     "text": [
      "Batch in Progress: 100%|████████████████████████████████████████████| 29/29 [00:07<00:00,  4.00it/s]\n",
      "Batch in Progress:   0%|                                                    | 0/115 [00:00<?, ?it/s]"
     ]
    },
    {
     "name": "stdout",
     "output_type": "stream",
     "text": [
      "Validation Set:\n",
      "    Average Loss:  0.649857,    Accuracy: 64.47%,    Correct Counter: 147/228,    F1 Score: 0.72,    Precision: 0.59,    Recall:  0.92 \n",
      "\n",
      "Epoch 53/200\n"
     ]
    },
    {
     "name": "stderr",
     "output_type": "stream",
     "text": [
      "Batch in Progress: 100%|██████████████████████████████████████████| 115/115 [00:52<00:00,  2.20it/s]\n",
      "Batch in Progress:   0%|                                                     | 0/29 [00:00<?, ?it/s]"
     ]
    },
    {
     "name": "stdout",
     "output_type": "stream",
     "text": [
      "Train Set:\n",
      "    Average Loss:  0.650971,    Accuracy: 69.51%,    Correct Counter: 636/915,    F1 Score: 0.75,    Precision: 0.62,    Recall:  0.94 \n",
      "\n"
     ]
    },
    {
     "name": "stderr",
     "output_type": "stream",
     "text": [
      "Batch in Progress: 100%|████████████████████████████████████████████| 29/29 [00:07<00:00,  4.00it/s]\n",
      "Batch in Progress:   0%|                                                    | 0/115 [00:00<?, ?it/s]"
     ]
    },
    {
     "name": "stdout",
     "output_type": "stream",
     "text": [
      "Validation Set:\n",
      "    Average Loss:  0.647773,    Accuracy: 64.47%,    Correct Counter: 147/228,    F1 Score: 0.72,    Precision: 0.59,    Recall:  0.92 \n",
      "\n",
      "Epoch 54/200\n"
     ]
    },
    {
     "name": "stderr",
     "output_type": "stream",
     "text": [
      "Batch in Progress: 100%|██████████████████████████████████████████| 115/115 [00:52<00:00,  2.19it/s]\n",
      "Batch in Progress:   0%|                                                     | 0/29 [00:00<?, ?it/s]"
     ]
    },
    {
     "name": "stdout",
     "output_type": "stream",
     "text": [
      "Train Set:\n",
      "    Average Loss:  0.648968,    Accuracy: 70.16%,    Correct Counter: 642/915,    F1 Score: 0.75,    Precision: 0.63,    Recall:  0.93 \n",
      "\n"
     ]
    },
    {
     "name": "stderr",
     "output_type": "stream",
     "text": [
      "Batch in Progress: 100%|████████████████████████████████████████████| 29/29 [00:07<00:00,  3.96it/s]\n",
      "Batch in Progress:   0%|                                                    | 0/115 [00:00<?, ?it/s]"
     ]
    },
    {
     "name": "stdout",
     "output_type": "stream",
     "text": [
      "Validation Set:\n",
      "    Average Loss:  0.646521,    Accuracy: 64.47%,    Correct Counter: 147/228,    F1 Score: 0.72,    Precision: 0.59,    Recall:  0.92 \n",
      "\n",
      "Epoch 55/200\n"
     ]
    },
    {
     "name": "stderr",
     "output_type": "stream",
     "text": [
      "Batch in Progress: 100%|██████████████████████████████████████████| 115/115 [00:52<00:00,  2.19it/s]\n",
      "Batch in Progress:   0%|                                                     | 0/29 [00:00<?, ?it/s]"
     ]
    },
    {
     "name": "stdout",
     "output_type": "stream",
     "text": [
      "Train Set:\n",
      "    Average Loss:  0.654256,    Accuracy: 70.27%,    Correct Counter: 643/915,    F1 Score: 0.75,    Precision: 0.63,    Recall:  0.92 \n",
      "\n"
     ]
    },
    {
     "name": "stderr",
     "output_type": "stream",
     "text": [
      "Batch in Progress: 100%|████████████████████████████████████████████| 29/29 [00:07<00:00,  3.97it/s]\n",
      "Batch in Progress:   0%|                                                    | 0/115 [00:00<?, ?it/s]"
     ]
    },
    {
     "name": "stdout",
     "output_type": "stream",
     "text": [
      "Validation Set:\n",
      "    Average Loss:  0.645501,    Accuracy: 65.35%,    Correct Counter: 149/228,    F1 Score: 0.72,    Precision: 0.60,    Recall:  0.92 \n",
      "\n",
      "Epoch 56/200\n"
     ]
    },
    {
     "name": "stderr",
     "output_type": "stream",
     "text": [
      "Batch in Progress: 100%|██████████████████████████████████████████| 115/115 [00:52<00:00,  2.17it/s]\n",
      "Batch in Progress:   0%|                                                     | 0/29 [00:00<?, ?it/s]"
     ]
    },
    {
     "name": "stdout",
     "output_type": "stream",
     "text": [
      "Train Set:\n",
      "    Average Loss:  0.654001,    Accuracy: 70.82%,    Correct Counter: 648/915,    F1 Score: 0.75,    Precision: 0.64,    Recall:  0.92 \n",
      "\n"
     ]
    },
    {
     "name": "stderr",
     "output_type": "stream",
     "text": [
      "Batch in Progress: 100%|████████████████████████████████████████████| 29/29 [00:07<00:00,  4.01it/s]\n",
      "Batch in Progress:   0%|                                                    | 0/115 [00:00<?, ?it/s]"
     ]
    },
    {
     "name": "stdout",
     "output_type": "stream",
     "text": [
      "Validation Set:\n",
      "    Average Loss:  0.646541,    Accuracy: 64.91%,    Correct Counter: 148/228,    F1 Score: 0.72,    Precision: 0.59,    Recall:  0.92 \n",
      "\n",
      "Epoch 57/200\n"
     ]
    },
    {
     "name": "stderr",
     "output_type": "stream",
     "text": [
      "Batch in Progress: 100%|██████████████████████████████████████████| 115/115 [00:52<00:00,  2.19it/s]\n",
      "Batch in Progress:   0%|                                                     | 0/29 [00:00<?, ?it/s]"
     ]
    },
    {
     "name": "stdout",
     "output_type": "stream",
     "text": [
      "Train Set:\n",
      "    Average Loss:  0.649536,    Accuracy: 70.71%,    Correct Counter: 647/915,    F1 Score: 0.76,    Precision: 0.63,    Recall:  0.93 \n",
      "\n"
     ]
    },
    {
     "name": "stderr",
     "output_type": "stream",
     "text": [
      "Batch in Progress: 100%|████████████████████████████████████████████| 29/29 [00:07<00:00,  3.98it/s]\n",
      "Batch in Progress:   0%|                                                    | 0/115 [00:00<?, ?it/s]"
     ]
    },
    {
     "name": "stdout",
     "output_type": "stream",
     "text": [
      "Validation Set:\n",
      "    Average Loss:  0.644443,    Accuracy: 65.79%,    Correct Counter: 150/228,    F1 Score: 0.73,    Precision: 0.60,    Recall:  0.92 \n",
      "\n",
      "Epoch 58/200\n"
     ]
    },
    {
     "name": "stderr",
     "output_type": "stream",
     "text": [
      "Batch in Progress: 100%|██████████████████████████████████████████| 115/115 [00:52<00:00,  2.19it/s]\n",
      "Batch in Progress:   0%|                                                     | 0/29 [00:00<?, ?it/s]"
     ]
    },
    {
     "name": "stdout",
     "output_type": "stream",
     "text": [
      "Train Set:\n",
      "    Average Loss:  0.647968,    Accuracy: 70.27%,    Correct Counter: 643/915,    F1 Score: 0.75,    Precision: 0.63,    Recall:  0.93 \n",
      "\n"
     ]
    },
    {
     "name": "stderr",
     "output_type": "stream",
     "text": [
      "Batch in Progress: 100%|████████████████████████████████████████████| 29/29 [00:07<00:00,  3.96it/s]\n",
      "Batch in Progress:   0%|                                                    | 0/115 [00:00<?, ?it/s]"
     ]
    },
    {
     "name": "stdout",
     "output_type": "stream",
     "text": [
      "Validation Set:\n",
      "    Average Loss:  0.643921,    Accuracy: 65.35%,    Correct Counter: 149/228,    F1 Score: 0.72,    Precision: 0.60,    Recall:  0.91 \n",
      "\n",
      "Epoch 59/200\n"
     ]
    },
    {
     "name": "stderr",
     "output_type": "stream",
     "text": [
      "Batch in Progress: 100%|██████████████████████████████████████████| 115/115 [00:52<00:00,  2.19it/s]\n",
      "Batch in Progress:   0%|                                                     | 0/29 [00:00<?, ?it/s]"
     ]
    },
    {
     "name": "stdout",
     "output_type": "stream",
     "text": [
      "Train Set:\n",
      "    Average Loss:  0.648903,    Accuracy: 69.84%,    Correct Counter: 639/915,    F1 Score: 0.74,    Precision: 0.63,    Recall:  0.91 \n",
      "\n"
     ]
    },
    {
     "name": "stderr",
     "output_type": "stream",
     "text": [
      "Batch in Progress: 100%|████████████████████████████████████████████| 29/29 [00:07<00:00,  3.97it/s]\n",
      "Batch in Progress:   0%|                                                    | 0/115 [00:00<?, ?it/s]"
     ]
    },
    {
     "name": "stdout",
     "output_type": "stream",
     "text": [
      "Validation Set:\n",
      "    Average Loss:  0.643484,    Accuracy: 65.79%,    Correct Counter: 150/228,    F1 Score: 0.73,    Precision: 0.60,    Recall:  0.92 \n",
      "\n",
      "Epoch 60/200\n"
     ]
    },
    {
     "name": "stderr",
     "output_type": "stream",
     "text": [
      "Batch in Progress: 100%|██████████████████████████████████████████| 115/115 [00:52<00:00,  2.18it/s]\n",
      "Batch in Progress:   0%|                                                     | 0/29 [00:00<?, ?it/s]"
     ]
    },
    {
     "name": "stdout",
     "output_type": "stream",
     "text": [
      "Train Set:\n",
      "    Average Loss:  0.646301,    Accuracy: 70.71%,    Correct Counter: 647/915,    F1 Score: 0.75,    Precision: 0.64,    Recall:  0.92 \n",
      "\n"
     ]
    },
    {
     "name": "stderr",
     "output_type": "stream",
     "text": [
      "Batch in Progress: 100%|████████████████████████████████████████████| 29/29 [00:07<00:00,  3.99it/s]\n",
      "Batch in Progress:   0%|                                                    | 0/115 [00:00<?, ?it/s]"
     ]
    },
    {
     "name": "stdout",
     "output_type": "stream",
     "text": [
      "Validation Set:\n",
      "    Average Loss:  0.641033,    Accuracy: 66.23%,    Correct Counter: 151/228,    F1 Score: 0.73,    Precision: 0.60,    Recall:  0.92 \n",
      "\n",
      "Epoch 61/200\n"
     ]
    },
    {
     "name": "stderr",
     "output_type": "stream",
     "text": [
      "Batch in Progress: 100%|██████████████████████████████████████████| 115/115 [00:52<00:00,  2.20it/s]\n",
      "Batch in Progress:   0%|                                                     | 0/29 [00:00<?, ?it/s]"
     ]
    },
    {
     "name": "stdout",
     "output_type": "stream",
     "text": [
      "Train Set:\n",
      "    Average Loss:  0.645813,    Accuracy: 71.04%,    Correct Counter: 650/915,    F1 Score: 0.75,    Precision: 0.64,    Recall:  0.91 \n",
      "\n"
     ]
    },
    {
     "name": "stderr",
     "output_type": "stream",
     "text": [
      "Batch in Progress: 100%|████████████████████████████████████████████| 29/29 [00:07<00:00,  4.00it/s]\n",
      "Batch in Progress:   0%|                                                    | 0/115 [00:00<?, ?it/s]"
     ]
    },
    {
     "name": "stdout",
     "output_type": "stream",
     "text": [
      "Validation Set:\n",
      "    Average Loss:  0.642786,    Accuracy: 66.23%,    Correct Counter: 151/228,    F1 Score: 0.73,    Precision: 0.60,    Recall:  0.92 \n",
      "\n",
      "Epoch 62/200\n"
     ]
    },
    {
     "name": "stderr",
     "output_type": "stream",
     "text": [
      "Batch in Progress: 100%|██████████████████████████████████████████| 115/115 [00:52<00:00,  2.18it/s]\n",
      "Batch in Progress:   0%|                                                     | 0/29 [00:00<?, ?it/s]"
     ]
    },
    {
     "name": "stdout",
     "output_type": "stream",
     "text": [
      "Train Set:\n",
      "    Average Loss:  0.645849,    Accuracy: 71.69%,    Correct Counter: 656/915,    F1 Score: 0.76,    Precision: 0.65,    Recall:  0.93 \n",
      "\n"
     ]
    },
    {
     "name": "stderr",
     "output_type": "stream",
     "text": [
      "Batch in Progress: 100%|████████████████████████████████████████████| 29/29 [00:07<00:00,  3.96it/s]\n",
      "Batch in Progress:   0%|                                                    | 0/115 [00:00<?, ?it/s]"
     ]
    },
    {
     "name": "stdout",
     "output_type": "stream",
     "text": [
      "Validation Set:\n",
      "    Average Loss:  0.638364,    Accuracy: 67.98%,    Correct Counter: 155/228,    F1 Score: 0.74,    Precision: 0.62,    Recall:  0.91 \n",
      "\n",
      "Epoch 63/200\n"
     ]
    },
    {
     "name": "stderr",
     "output_type": "stream",
     "text": [
      "Batch in Progress: 100%|██████████████████████████████████████████| 115/115 [00:52<00:00,  2.18it/s]\n",
      "Batch in Progress:   0%|                                                     | 0/29 [00:00<?, ?it/s]"
     ]
    },
    {
     "name": "stdout",
     "output_type": "stream",
     "text": [
      "Train Set:\n",
      "    Average Loss:  0.642284,    Accuracy: 71.26%,    Correct Counter: 652/915,    F1 Score: 0.75,    Precision: 0.65,    Recall:  0.90 \n",
      "\n"
     ]
    },
    {
     "name": "stderr",
     "output_type": "stream",
     "text": [
      "Batch in Progress: 100%|████████████████████████████████████████████| 29/29 [00:07<00:00,  3.95it/s]\n",
      "Batch in Progress:   0%|                                                    | 0/115 [00:00<?, ?it/s]"
     ]
    },
    {
     "name": "stdout",
     "output_type": "stream",
     "text": [
      "Validation Set:\n",
      "    Average Loss:  0.633454,    Accuracy: 68.86%,    Correct Counter: 157/228,    F1 Score: 0.74,    Precision: 0.63,    Recall:  0.91 \n",
      "\n",
      "Epoch 64/200\n"
     ]
    },
    {
     "name": "stderr",
     "output_type": "stream",
     "text": [
      "Batch in Progress: 100%|██████████████████████████████████████████| 115/115 [00:52<00:00,  2.18it/s]\n",
      "Batch in Progress:   0%|                                                     | 0/29 [00:00<?, ?it/s]"
     ]
    },
    {
     "name": "stdout",
     "output_type": "stream",
     "text": [
      "Train Set:\n",
      "    Average Loss:  0.645185,    Accuracy: 70.93%,    Correct Counter: 649/915,    F1 Score: 0.75,    Precision: 0.64,    Recall:  0.91 \n",
      "\n"
     ]
    },
    {
     "name": "stderr",
     "output_type": "stream",
     "text": [
      "Batch in Progress: 100%|████████████████████████████████████████████| 29/29 [00:07<00:00,  4.00it/s]\n",
      "Batch in Progress:   0%|                                                    | 0/115 [00:00<?, ?it/s]"
     ]
    },
    {
     "name": "stdout",
     "output_type": "stream",
     "text": [
      "Validation Set:\n",
      "    Average Loss:  0.640190,    Accuracy: 66.23%,    Correct Counter: 151/228,    F1 Score: 0.73,    Precision: 0.60,    Recall:  0.92 \n",
      "\n",
      "Epoch 65/200\n"
     ]
    },
    {
     "name": "stderr",
     "output_type": "stream",
     "text": [
      "Batch in Progress: 100%|██████████████████████████████████████████| 115/115 [00:52<00:00,  2.19it/s]\n",
      "Batch in Progress:   0%|                                                     | 0/29 [00:00<?, ?it/s]"
     ]
    },
    {
     "name": "stdout",
     "output_type": "stream",
     "text": [
      "Train Set:\n",
      "    Average Loss:  0.642445,    Accuracy: 71.04%,    Correct Counter: 650/915,    F1 Score: 0.75,    Precision: 0.64,    Recall:  0.92 \n",
      "\n"
     ]
    },
    {
     "name": "stderr",
     "output_type": "stream",
     "text": [
      "Batch in Progress: 100%|████████████████████████████████████████████| 29/29 [00:07<00:00,  3.94it/s]\n",
      "Batch in Progress:   0%|                                                    | 0/115 [00:00<?, ?it/s]"
     ]
    },
    {
     "name": "stdout",
     "output_type": "stream",
     "text": [
      "Validation Set:\n",
      "    Average Loss:  0.640066,    Accuracy: 65.79%,    Correct Counter: 150/228,    F1 Score: 0.73,    Precision: 0.60,    Recall:  0.91 \n",
      "\n",
      "Epoch 66/200\n"
     ]
    },
    {
     "name": "stderr",
     "output_type": "stream",
     "text": [
      "Batch in Progress: 100%|██████████████████████████████████████████| 115/115 [00:52<00:00,  2.19it/s]\n",
      "Batch in Progress:   0%|                                                     | 0/29 [00:00<?, ?it/s]"
     ]
    },
    {
     "name": "stdout",
     "output_type": "stream",
     "text": [
      "Train Set:\n",
      "    Average Loss:  0.640924,    Accuracy: 71.69%,    Correct Counter: 656/915,    F1 Score: 0.76,    Precision: 0.65,    Recall:  0.91 \n",
      "\n"
     ]
    },
    {
     "name": "stderr",
     "output_type": "stream",
     "text": [
      "Batch in Progress: 100%|████████████████████████████████████████████| 29/29 [00:07<00:00,  3.96it/s]\n",
      "Batch in Progress:   0%|                                                    | 0/115 [00:00<?, ?it/s]"
     ]
    },
    {
     "name": "stdout",
     "output_type": "stream",
     "text": [
      "Validation Set:\n",
      "    Average Loss:  0.635249,    Accuracy: 68.42%,    Correct Counter: 156/228,    F1 Score: 0.74,    Precision: 0.62,    Recall:  0.91 \n",
      "\n",
      "Epoch 67/200\n"
     ]
    },
    {
     "name": "stderr",
     "output_type": "stream",
     "text": [
      "Batch in Progress: 100%|██████████████████████████████████████████| 115/115 [00:52<00:00,  2.19it/s]\n",
      "Batch in Progress:   0%|                                                     | 0/29 [00:00<?, ?it/s]"
     ]
    },
    {
     "name": "stdout",
     "output_type": "stream",
     "text": [
      "Train Set:\n",
      "    Average Loss:  0.639094,    Accuracy: 71.37%,    Correct Counter: 653/915,    F1 Score: 0.75,    Precision: 0.65,    Recall:  0.91 \n",
      "\n"
     ]
    },
    {
     "name": "stderr",
     "output_type": "stream",
     "text": [
      "Batch in Progress: 100%|████████████████████████████████████████████| 29/29 [00:07<00:00,  3.99it/s]\n",
      "Batch in Progress:   0%|                                                    | 0/115 [00:00<?, ?it/s]"
     ]
    },
    {
     "name": "stdout",
     "output_type": "stream",
     "text": [
      "Validation Set:\n",
      "    Average Loss:  0.636051,    Accuracy: 67.54%,    Correct Counter: 154/228,    F1 Score: 0.74,    Precision: 0.62,    Recall:  0.91 \n",
      "\n",
      "Epoch 68/200\n"
     ]
    },
    {
     "name": "stderr",
     "output_type": "stream",
     "text": [
      "Batch in Progress: 100%|██████████████████████████████████████████| 115/115 [00:52<00:00,  2.19it/s]\n",
      "Batch in Progress:   0%|                                                     | 0/29 [00:00<?, ?it/s]"
     ]
    },
    {
     "name": "stdout",
     "output_type": "stream",
     "text": [
      "Train Set:\n",
      "    Average Loss:  0.637302,    Accuracy: 71.48%,    Correct Counter: 654/915,    F1 Score: 0.75,    Precision: 0.65,    Recall:  0.90 \n",
      "\n"
     ]
    },
    {
     "name": "stderr",
     "output_type": "stream",
     "text": [
      "Batch in Progress: 100%|████████████████████████████████████████████| 29/29 [00:07<00:00,  3.99it/s]\n",
      "Batch in Progress:   0%|                                                    | 0/115 [00:00<?, ?it/s]"
     ]
    },
    {
     "name": "stdout",
     "output_type": "stream",
     "text": [
      "Validation Set:\n",
      "    Average Loss:  0.630872,    Accuracy: 68.42%,    Correct Counter: 156/228,    F1 Score: 0.74,    Precision: 0.63,    Recall:  0.90 \n",
      "\n",
      "Epoch 69/200\n"
     ]
    },
    {
     "name": "stderr",
     "output_type": "stream",
     "text": [
      "Batch in Progress: 100%|██████████████████████████████████████████| 115/115 [00:52<00:00,  2.19it/s]\n",
      "Batch in Progress:   0%|                                                     | 0/29 [00:00<?, ?it/s]"
     ]
    },
    {
     "name": "stdout",
     "output_type": "stream",
     "text": [
      "Train Set:\n",
      "    Average Loss:  0.642723,    Accuracy: 70.93%,    Correct Counter: 649/915,    F1 Score: 0.74,    Precision: 0.65,    Recall:  0.86 \n",
      "\n"
     ]
    },
    {
     "name": "stderr",
     "output_type": "stream",
     "text": [
      "Batch in Progress: 100%|████████████████████████████████████████████| 29/29 [00:07<00:00,  3.95it/s]\n",
      "Batch in Progress:   0%|                                                    | 0/115 [00:00<?, ?it/s]"
     ]
    },
    {
     "name": "stdout",
     "output_type": "stream",
     "text": [
      "Validation Set:\n",
      "    Average Loss:  0.630757,    Accuracy: 69.30%,    Correct Counter: 158/228,    F1 Score: 0.75,    Precision: 0.63,    Recall:  0.91 \n",
      "\n",
      "Epoch 70/200\n"
     ]
    },
    {
     "name": "stderr",
     "output_type": "stream",
     "text": [
      "Batch in Progress: 100%|██████████████████████████████████████████| 115/115 [00:52<00:00,  2.18it/s]\n",
      "Batch in Progress:   0%|                                                     | 0/29 [00:00<?, ?it/s]"
     ]
    },
    {
     "name": "stdout",
     "output_type": "stream",
     "text": [
      "Train Set:\n",
      "    Average Loss:  0.638443,    Accuracy: 71.58%,    Correct Counter: 655/915,    F1 Score: 0.75,    Precision: 0.65,    Recall:  0.90 \n",
      "\n"
     ]
    },
    {
     "name": "stderr",
     "output_type": "stream",
     "text": [
      "Batch in Progress: 100%|████████████████████████████████████████████| 29/29 [00:07<00:00,  3.98it/s]\n",
      "Batch in Progress:   0%|                                                    | 0/115 [00:00<?, ?it/s]"
     ]
    },
    {
     "name": "stdout",
     "output_type": "stream",
     "text": [
      "Validation Set:\n",
      "    Average Loss:  0.636524,    Accuracy: 66.23%,    Correct Counter: 151/228,    F1 Score: 0.73,    Precision: 0.61,    Recall:  0.91 \n",
      "\n",
      "Epoch 71/200\n"
     ]
    },
    {
     "name": "stderr",
     "output_type": "stream",
     "text": [
      "Batch in Progress: 100%|██████████████████████████████████████████| 115/115 [00:52<00:00,  2.19it/s]\n",
      "Batch in Progress:   0%|                                                     | 0/29 [00:00<?, ?it/s]"
     ]
    },
    {
     "name": "stdout",
     "output_type": "stream",
     "text": [
      "Train Set:\n",
      "    Average Loss:  0.637670,    Accuracy: 72.13%,    Correct Counter: 660/915,    F1 Score: 0.76,    Precision: 0.66,    Recall:  0.90 \n",
      "\n"
     ]
    },
    {
     "name": "stderr",
     "output_type": "stream",
     "text": [
      "Batch in Progress: 100%|████████████████████████████████████████████| 29/29 [00:07<00:00,  4.01it/s]\n",
      "Batch in Progress:   0%|                                                    | 0/115 [00:00<?, ?it/s]"
     ]
    },
    {
     "name": "stdout",
     "output_type": "stream",
     "text": [
      "Validation Set:\n",
      "    Average Loss:  0.628780,    Accuracy: 69.74%,    Correct Counter: 159/228,    F1 Score: 0.75,    Precision: 0.64,    Recall:  0.90 \n",
      "\n",
      "Epoch 72/200\n"
     ]
    },
    {
     "name": "stderr",
     "output_type": "stream",
     "text": [
      "Batch in Progress: 100%|██████████████████████████████████████████| 115/115 [00:52<00:00,  2.19it/s]\n",
      "Batch in Progress:   0%|                                                     | 0/29 [00:00<?, ?it/s]"
     ]
    },
    {
     "name": "stdout",
     "output_type": "stream",
     "text": [
      "Train Set:\n",
      "    Average Loss:  0.639777,    Accuracy: 70.93%,    Correct Counter: 649/915,    F1 Score: 0.75,    Precision: 0.65,    Recall:  0.88 \n",
      "\n"
     ]
    },
    {
     "name": "stderr",
     "output_type": "stream",
     "text": [
      "Batch in Progress: 100%|████████████████████████████████████████████| 29/29 [00:07<00:00,  3.98it/s]\n",
      "Batch in Progress:   0%|                                                    | 0/115 [00:00<?, ?it/s]"
     ]
    },
    {
     "name": "stdout",
     "output_type": "stream",
     "text": [
      "Validation Set:\n",
      "    Average Loss:  0.633101,    Accuracy: 68.42%,    Correct Counter: 156/228,    F1 Score: 0.74,    Precision: 0.62,    Recall:  0.91 \n",
      "\n",
      "Epoch 73/200\n"
     ]
    },
    {
     "name": "stderr",
     "output_type": "stream",
     "text": [
      "Batch in Progress: 100%|██████████████████████████████████████████| 115/115 [00:52<00:00,  2.18it/s]\n",
      "Batch in Progress:   0%|                                                     | 0/29 [00:00<?, ?it/s]"
     ]
    },
    {
     "name": "stdout",
     "output_type": "stream",
     "text": [
      "Train Set:\n",
      "    Average Loss:  0.632065,    Accuracy: 71.48%,    Correct Counter: 654/915,    F1 Score: 0.75,    Precision: 0.65,    Recall:  0.90 \n",
      "\n"
     ]
    },
    {
     "name": "stderr",
     "output_type": "stream",
     "text": [
      "Batch in Progress: 100%|████████████████████████████████████████████| 29/29 [00:07<00:00,  3.94it/s]\n",
      "Batch in Progress:   0%|                                                    | 0/115 [00:00<?, ?it/s]"
     ]
    },
    {
     "name": "stdout",
     "output_type": "stream",
     "text": [
      "Validation Set:\n",
      "    Average Loss:  0.628023,    Accuracy: 69.30%,    Correct Counter: 158/228,    F1 Score: 0.75,    Precision: 0.63,    Recall:  0.91 \n",
      "\n",
      "Epoch 74/200\n"
     ]
    },
    {
     "name": "stderr",
     "output_type": "stream",
     "text": [
      "Batch in Progress: 100%|██████████████████████████████████████████| 115/115 [00:52<00:00,  2.19it/s]\n",
      "Batch in Progress:   0%|                                                     | 0/29 [00:00<?, ?it/s]"
     ]
    },
    {
     "name": "stdout",
     "output_type": "stream",
     "text": [
      "Train Set:\n",
      "    Average Loss:  0.634432,    Accuracy: 71.15%,    Correct Counter: 651/915,    F1 Score: 0.75,    Precision: 0.65,    Recall:  0.89 \n",
      "\n"
     ]
    },
    {
     "name": "stderr",
     "output_type": "stream",
     "text": [
      "Batch in Progress: 100%|████████████████████████████████████████████| 29/29 [00:07<00:00,  3.98it/s]\n",
      "Batch in Progress:   0%|                                                    | 0/115 [00:00<?, ?it/s]"
     ]
    },
    {
     "name": "stdout",
     "output_type": "stream",
     "text": [
      "Validation Set:\n",
      "    Average Loss:  0.633379,    Accuracy: 67.54%,    Correct Counter: 154/228,    F1 Score: 0.74,    Precision: 0.62,    Recall:  0.91 \n",
      "\n",
      "Epoch 75/200\n"
     ]
    },
    {
     "name": "stderr",
     "output_type": "stream",
     "text": [
      "Batch in Progress: 100%|██████████████████████████████████████████| 115/115 [00:52<00:00,  2.19it/s]\n",
      "Batch in Progress:   0%|                                                     | 0/29 [00:00<?, ?it/s]"
     ]
    },
    {
     "name": "stdout",
     "output_type": "stream",
     "text": [
      "Train Set:\n",
      "    Average Loss:  0.632615,    Accuracy: 71.91%,    Correct Counter: 658/915,    F1 Score: 0.75,    Precision: 0.66,    Recall:  0.89 \n",
      "\n"
     ]
    },
    {
     "name": "stderr",
     "output_type": "stream",
     "text": [
      "Batch in Progress: 100%|████████████████████████████████████████████| 29/29 [00:07<00:00,  3.96it/s]\n",
      "Batch in Progress:   0%|                                                    | 0/115 [00:00<?, ?it/s]"
     ]
    },
    {
     "name": "stdout",
     "output_type": "stream",
     "text": [
      "Validation Set:\n",
      "    Average Loss:  0.631570,    Accuracy: 68.86%,    Correct Counter: 157/228,    F1 Score: 0.74,    Precision: 0.63,    Recall:  0.91 \n",
      "\n",
      "Epoch 76/200\n"
     ]
    },
    {
     "name": "stderr",
     "output_type": "stream",
     "text": [
      "Batch in Progress: 100%|██████████████████████████████████████████| 115/115 [00:52<00:00,  2.19it/s]\n",
      "Batch in Progress:   0%|                                                     | 0/29 [00:00<?, ?it/s]"
     ]
    },
    {
     "name": "stdout",
     "output_type": "stream",
     "text": [
      "Train Set:\n",
      "    Average Loss:  0.635081,    Accuracy: 71.58%,    Correct Counter: 655/915,    F1 Score: 0.75,    Precision: 0.65,    Recall:  0.89 \n",
      "\n"
     ]
    },
    {
     "name": "stderr",
     "output_type": "stream",
     "text": [
      "Batch in Progress: 100%|████████████████████████████████████████████| 29/29 [00:07<00:00,  3.97it/s]\n",
      "Batch in Progress:   0%|                                                    | 0/115 [00:00<?, ?it/s]"
     ]
    },
    {
     "name": "stdout",
     "output_type": "stream",
     "text": [
      "Validation Set:\n",
      "    Average Loss:  0.634039,    Accuracy: 67.11%,    Correct Counter: 153/228,    F1 Score: 0.73,    Precision: 0.61,    Recall:  0.91 \n",
      "\n",
      "Epoch 77/200\n"
     ]
    },
    {
     "name": "stderr",
     "output_type": "stream",
     "text": [
      "Batch in Progress: 100%|██████████████████████████████████████████| 115/115 [00:52<00:00,  2.20it/s]\n",
      "Batch in Progress:   0%|                                                     | 0/29 [00:00<?, ?it/s]"
     ]
    },
    {
     "name": "stdout",
     "output_type": "stream",
     "text": [
      "Train Set:\n",
      "    Average Loss:  0.635535,    Accuracy: 71.26%,    Correct Counter: 652/915,    F1 Score: 0.75,    Precision: 0.65,    Recall:  0.88 \n",
      "\n"
     ]
    },
    {
     "name": "stderr",
     "output_type": "stream",
     "text": [
      "Batch in Progress: 100%|████████████████████████████████████████████| 29/29 [00:07<00:00,  3.98it/s]\n",
      "Batch in Progress:   0%|                                                    | 0/115 [00:00<?, ?it/s]"
     ]
    },
    {
     "name": "stdout",
     "output_type": "stream",
     "text": [
      "Validation Set:\n",
      "    Average Loss:  0.628775,    Accuracy: 69.74%,    Correct Counter: 159/228,    F1 Score: 0.75,    Precision: 0.64,    Recall:  0.91 \n",
      "\n",
      "Epoch 78/200\n"
     ]
    },
    {
     "name": "stderr",
     "output_type": "stream",
     "text": [
      "Batch in Progress: 100%|██████████████████████████████████████████| 115/115 [00:52<00:00,  2.19it/s]\n",
      "Batch in Progress:   0%|                                                     | 0/29 [00:00<?, ?it/s]"
     ]
    },
    {
     "name": "stdout",
     "output_type": "stream",
     "text": [
      "Train Set:\n",
      "    Average Loss:  0.631096,    Accuracy: 71.58%,    Correct Counter: 655/915,    F1 Score: 0.75,    Precision: 0.65,    Recall:  0.89 \n",
      "\n"
     ]
    },
    {
     "name": "stderr",
     "output_type": "stream",
     "text": [
      "Batch in Progress: 100%|████████████████████████████████████████████| 29/29 [00:07<00:00,  3.98it/s]\n",
      "Batch in Progress:   0%|                                                    | 0/115 [00:00<?, ?it/s]"
     ]
    },
    {
     "name": "stdout",
     "output_type": "stream",
     "text": [
      "Validation Set:\n",
      "    Average Loss:  0.630080,    Accuracy: 68.86%,    Correct Counter: 157/228,    F1 Score: 0.74,    Precision: 0.63,    Recall:  0.91 \n",
      "\n",
      "Epoch 79/200\n"
     ]
    },
    {
     "name": "stderr",
     "output_type": "stream",
     "text": [
      "Batch in Progress: 100%|██████████████████████████████████████████| 115/115 [00:52<00:00,  2.18it/s]\n",
      "Batch in Progress:   0%|                                                     | 0/29 [00:00<?, ?it/s]"
     ]
    },
    {
     "name": "stdout",
     "output_type": "stream",
     "text": [
      "Train Set:\n",
      "    Average Loss:  0.633935,    Accuracy: 70.93%,    Correct Counter: 649/915,    F1 Score: 0.75,    Precision: 0.65,    Recall:  0.89 \n",
      "\n"
     ]
    },
    {
     "name": "stderr",
     "output_type": "stream",
     "text": [
      "Batch in Progress: 100%|████████████████████████████████████████████| 29/29 [00:07<00:00,  3.98it/s]\n",
      "Batch in Progress:   0%|                                                    | 0/115 [00:00<?, ?it/s]"
     ]
    },
    {
     "name": "stdout",
     "output_type": "stream",
     "text": [
      "Validation Set:\n",
      "    Average Loss:  0.626513,    Accuracy: 69.30%,    Correct Counter: 158/228,    F1 Score: 0.74,    Precision: 0.63,    Recall:  0.90 \n",
      "\n",
      "Epoch 80/200\n"
     ]
    },
    {
     "name": "stderr",
     "output_type": "stream",
     "text": [
      "Batch in Progress: 100%|██████████████████████████████████████████| 115/115 [00:52<00:00,  2.19it/s]\n",
      "Batch in Progress:   0%|                                                     | 0/29 [00:00<?, ?it/s]"
     ]
    },
    {
     "name": "stdout",
     "output_type": "stream",
     "text": [
      "Train Set:\n",
      "    Average Loss:  0.630643,    Accuracy: 71.26%,    Correct Counter: 652/915,    F1 Score: 0.75,    Precision: 0.65,    Recall:  0.89 \n",
      "\n"
     ]
    },
    {
     "name": "stderr",
     "output_type": "stream",
     "text": [
      "Batch in Progress: 100%|████████████████████████████████████████████| 29/29 [00:07<00:00,  3.93it/s]\n",
      "Batch in Progress:   0%|                                                    | 0/115 [00:00<?, ?it/s]"
     ]
    },
    {
     "name": "stdout",
     "output_type": "stream",
     "text": [
      "Validation Set:\n",
      "    Average Loss:  0.631704,    Accuracy: 68.42%,    Correct Counter: 156/228,    F1 Score: 0.74,    Precision: 0.62,    Recall:  0.91 \n",
      "\n",
      "Epoch 81/200\n"
     ]
    },
    {
     "name": "stderr",
     "output_type": "stream",
     "text": [
      "Batch in Progress: 100%|██████████████████████████████████████████| 115/115 [00:52<00:00,  2.19it/s]\n",
      "Batch in Progress:   0%|                                                     | 0/29 [00:00<?, ?it/s]"
     ]
    },
    {
     "name": "stdout",
     "output_type": "stream",
     "text": [
      "Train Set:\n",
      "    Average Loss:  0.626323,    Accuracy: 71.69%,    Correct Counter: 656/915,    F1 Score: 0.75,    Precision: 0.65,    Recall:  0.90 \n",
      "\n"
     ]
    },
    {
     "name": "stderr",
     "output_type": "stream",
     "text": [
      "Batch in Progress: 100%|████████████████████████████████████████████| 29/29 [00:07<00:00,  3.97it/s]\n",
      "Batch in Progress:   0%|                                                    | 0/115 [00:00<?, ?it/s]"
     ]
    },
    {
     "name": "stdout",
     "output_type": "stream",
     "text": [
      "Validation Set:\n",
      "    Average Loss:  0.628340,    Accuracy: 68.86%,    Correct Counter: 157/228,    F1 Score: 0.74,    Precision: 0.63,    Recall:  0.90 \n",
      "\n",
      "Epoch 82/200\n"
     ]
    },
    {
     "name": "stderr",
     "output_type": "stream",
     "text": [
      "Batch in Progress: 100%|██████████████████████████████████████████| 115/115 [00:52<00:00,  2.19it/s]\n",
      "Batch in Progress:   0%|                                                     | 0/29 [00:00<?, ?it/s]"
     ]
    },
    {
     "name": "stdout",
     "output_type": "stream",
     "text": [
      "Train Set:\n",
      "    Average Loss:  0.625851,    Accuracy: 72.02%,    Correct Counter: 659/915,    F1 Score: 0.76,    Precision: 0.66,    Recall:  0.89 \n",
      "\n"
     ]
    },
    {
     "name": "stderr",
     "output_type": "stream",
     "text": [
      "Batch in Progress: 100%|████████████████████████████████████████████| 29/29 [00:07<00:00,  4.02it/s]\n",
      "Batch in Progress:   0%|                                                    | 0/115 [00:00<?, ?it/s]"
     ]
    },
    {
     "name": "stdout",
     "output_type": "stream",
     "text": [
      "Validation Set:\n",
      "    Average Loss:  0.622193,    Accuracy: 67.98%,    Correct Counter: 155/228,    F1 Score: 0.73,    Precision: 0.63,    Recall:  0.88 \n",
      "\n",
      "Epoch 83/200\n"
     ]
    },
    {
     "name": "stderr",
     "output_type": "stream",
     "text": [
      "Batch in Progress: 100%|██████████████████████████████████████████| 115/115 [00:52<00:00,  2.19it/s]\n",
      "Batch in Progress:   0%|                                                     | 0/29 [00:00<?, ?it/s]"
     ]
    },
    {
     "name": "stdout",
     "output_type": "stream",
     "text": [
      "Train Set:\n",
      "    Average Loss:  0.627973,    Accuracy: 71.15%,    Correct Counter: 651/915,    F1 Score: 0.74,    Precision: 0.65,    Recall:  0.86 \n",
      "\n"
     ]
    },
    {
     "name": "stderr",
     "output_type": "stream",
     "text": [
      "Batch in Progress: 100%|████████████████████████████████████████████| 29/29 [00:07<00:00,  3.98it/s]\n",
      "Batch in Progress:   0%|                                                    | 0/115 [00:00<?, ?it/s]"
     ]
    },
    {
     "name": "stdout",
     "output_type": "stream",
     "text": [
      "Validation Set:\n",
      "    Average Loss:  0.629373,    Accuracy: 69.74%,    Correct Counter: 159/228,    F1 Score: 0.75,    Precision: 0.64,    Recall:  0.91 \n",
      "\n",
      "Epoch 84/200\n"
     ]
    },
    {
     "name": "stderr",
     "output_type": "stream",
     "text": [
      "Batch in Progress: 100%|██████████████████████████████████████████| 115/115 [00:52<00:00,  2.19it/s]\n",
      "Batch in Progress:   0%|                                                     | 0/29 [00:00<?, ?it/s]"
     ]
    },
    {
     "name": "stdout",
     "output_type": "stream",
     "text": [
      "Train Set:\n",
      "    Average Loss:  0.627018,    Accuracy: 71.26%,    Correct Counter: 652/915,    F1 Score: 0.75,    Precision: 0.65,    Recall:  0.89 \n",
      "\n"
     ]
    },
    {
     "name": "stderr",
     "output_type": "stream",
     "text": [
      "Batch in Progress: 100%|████████████████████████████████████████████| 29/29 [00:07<00:00,  3.95it/s]\n",
      "Batch in Progress:   0%|                                                    | 0/115 [00:00<?, ?it/s]"
     ]
    },
    {
     "name": "stdout",
     "output_type": "stream",
     "text": [
      "Validation Set:\n",
      "    Average Loss:  0.627307,    Accuracy: 69.30%,    Correct Counter: 158/228,    F1 Score: 0.74,    Precision: 0.63,    Recall:  0.90 \n",
      "\n",
      "Epoch 85/200\n"
     ]
    },
    {
     "name": "stderr",
     "output_type": "stream",
     "text": [
      "Batch in Progress: 100%|██████████████████████████████████████████| 115/115 [00:52<00:00,  2.19it/s]\n",
      "Batch in Progress:   0%|                                                     | 0/29 [00:00<?, ?it/s]"
     ]
    },
    {
     "name": "stdout",
     "output_type": "stream",
     "text": [
      "Train Set:\n",
      "    Average Loss:  0.624671,    Accuracy: 71.26%,    Correct Counter: 652/915,    F1 Score: 0.75,    Precision: 0.65,    Recall:  0.88 \n",
      "\n"
     ]
    },
    {
     "name": "stderr",
     "output_type": "stream",
     "text": [
      "Batch in Progress: 100%|████████████████████████████████████████████| 29/29 [00:07<00:00,  3.91it/s]\n",
      "Batch in Progress:   0%|                                                    | 0/115 [00:00<?, ?it/s]"
     ]
    },
    {
     "name": "stdout",
     "output_type": "stream",
     "text": [
      "Validation Set:\n",
      "    Average Loss:  0.625728,    Accuracy: 68.42%,    Correct Counter: 156/228,    F1 Score: 0.74,    Precision: 0.63,    Recall:  0.88 \n",
      "\n",
      "Epoch 86/200\n"
     ]
    },
    {
     "name": "stderr",
     "output_type": "stream",
     "text": [
      "Batch in Progress: 100%|██████████████████████████████████████████| 115/115 [00:52<00:00,  2.18it/s]\n",
      "Batch in Progress:   0%|                                                     | 0/29 [00:00<?, ?it/s]"
     ]
    },
    {
     "name": "stdout",
     "output_type": "stream",
     "text": [
      "Train Set:\n",
      "    Average Loss:  0.617604,    Accuracy: 72.02%,    Correct Counter: 659/915,    F1 Score: 0.76,    Precision: 0.66,    Recall:  0.89 \n",
      "\n"
     ]
    },
    {
     "name": "stderr",
     "output_type": "stream",
     "text": [
      "Batch in Progress: 100%|████████████████████████████████████████████| 29/29 [00:07<00:00,  3.95it/s]\n",
      "Batch in Progress:   0%|                                                    | 0/115 [00:00<?, ?it/s]"
     ]
    },
    {
     "name": "stdout",
     "output_type": "stream",
     "text": [
      "Validation Set:\n",
      "    Average Loss:  0.624890,    Accuracy: 67.98%,    Correct Counter: 155/228,    F1 Score: 0.73,    Precision: 0.63,    Recall:  0.88 \n",
      "\n",
      "Epoch 87/200\n"
     ]
    },
    {
     "name": "stderr",
     "output_type": "stream",
     "text": [
      "Batch in Progress: 100%|██████████████████████████████████████████| 115/115 [00:52<00:00,  2.19it/s]\n",
      "Batch in Progress:   0%|                                                     | 0/29 [00:00<?, ?it/s]"
     ]
    },
    {
     "name": "stdout",
     "output_type": "stream",
     "text": [
      "Train Set:\n",
      "    Average Loss:  0.632174,    Accuracy: 71.58%,    Correct Counter: 655/915,    F1 Score: 0.75,    Precision: 0.66,    Recall:  0.87 \n",
      "\n"
     ]
    },
    {
     "name": "stderr",
     "output_type": "stream",
     "text": [
      "Batch in Progress: 100%|████████████████████████████████████████████| 29/29 [00:07<00:00,  3.95it/s]\n",
      "Batch in Progress:   0%|                                                    | 0/115 [00:00<?, ?it/s]"
     ]
    },
    {
     "name": "stdout",
     "output_type": "stream",
     "text": [
      "Validation Set:\n",
      "    Average Loss:  0.626009,    Accuracy: 67.98%,    Correct Counter: 155/228,    F1 Score: 0.73,    Precision: 0.63,    Recall:  0.88 \n",
      "\n",
      "Epoch 88/200\n"
     ]
    },
    {
     "name": "stderr",
     "output_type": "stream",
     "text": [
      "Batch in Progress: 100%|██████████████████████████████████████████| 115/115 [00:52<00:00,  2.19it/s]\n",
      "Batch in Progress:   0%|                                                     | 0/29 [00:00<?, ?it/s]"
     ]
    },
    {
     "name": "stdout",
     "output_type": "stream",
     "text": [
      "Train Set:\n",
      "    Average Loss:  0.627856,    Accuracy: 71.26%,    Correct Counter: 652/915,    F1 Score: 0.75,    Precision: 0.65,    Recall:  0.87 \n",
      "\n"
     ]
    },
    {
     "name": "stderr",
     "output_type": "stream",
     "text": [
      "Batch in Progress: 100%|████████████████████████████████████████████| 29/29 [00:07<00:00,  3.96it/s]\n",
      "Batch in Progress:   0%|                                                    | 0/115 [00:00<?, ?it/s]"
     ]
    },
    {
     "name": "stdout",
     "output_type": "stream",
     "text": [
      "Validation Set:\n",
      "    Average Loss:  0.624052,    Accuracy: 68.42%,    Correct Counter: 156/228,    F1 Score: 0.74,    Precision: 0.63,    Recall:  0.88 \n",
      "\n",
      "Epoch 89/200\n"
     ]
    },
    {
     "name": "stderr",
     "output_type": "stream",
     "text": [
      "Batch in Progress: 100%|██████████████████████████████████████████| 115/115 [00:52<00:00,  2.19it/s]\n",
      "Batch in Progress:   0%|                                                     | 0/29 [00:00<?, ?it/s]"
     ]
    },
    {
     "name": "stdout",
     "output_type": "stream",
     "text": [
      "Train Set:\n",
      "    Average Loss:  0.624822,    Accuracy: 72.57%,    Correct Counter: 664/915,    F1 Score: 0.76,    Precision: 0.66,    Recall:  0.88 \n",
      "\n"
     ]
    },
    {
     "name": "stderr",
     "output_type": "stream",
     "text": [
      "Batch in Progress: 100%|████████████████████████████████████████████| 29/29 [00:07<00:00,  3.95it/s]\n",
      "Batch in Progress:   0%|                                                    | 0/115 [00:00<?, ?it/s]"
     ]
    },
    {
     "name": "stdout",
     "output_type": "stream",
     "text": [
      "Validation Set:\n",
      "    Average Loss:  0.622146,    Accuracy: 67.98%,    Correct Counter: 155/228,    F1 Score: 0.73,    Precision: 0.63,    Recall:  0.88 \n",
      "\n",
      "Epoch 90/200\n"
     ]
    },
    {
     "name": "stderr",
     "output_type": "stream",
     "text": [
      "Batch in Progress: 100%|██████████████████████████████████████████| 115/115 [00:52<00:00,  2.20it/s]\n",
      "Batch in Progress:   0%|                                                     | 0/29 [00:00<?, ?it/s]"
     ]
    },
    {
     "name": "stdout",
     "output_type": "stream",
     "text": [
      "Train Set:\n",
      "    Average Loss:  0.619238,    Accuracy: 71.48%,    Correct Counter: 654/915,    F1 Score: 0.75,    Precision: 0.65,    Recall:  0.87 \n",
      "\n"
     ]
    },
    {
     "name": "stderr",
     "output_type": "stream",
     "text": [
      "Batch in Progress: 100%|████████████████████████████████████████████| 29/29 [00:07<00:00,  3.99it/s]\n",
      "Batch in Progress:   0%|                                                    | 0/115 [00:00<?, ?it/s]"
     ]
    },
    {
     "name": "stdout",
     "output_type": "stream",
     "text": [
      "Validation Set:\n",
      "    Average Loss:  0.622922,    Accuracy: 68.42%,    Correct Counter: 156/228,    F1 Score: 0.74,    Precision: 0.63,    Recall:  0.88 \n",
      "\n",
      "Epoch 91/200\n"
     ]
    },
    {
     "name": "stderr",
     "output_type": "stream",
     "text": [
      "Batch in Progress: 100%|██████████████████████████████████████████| 115/115 [00:52<00:00,  2.19it/s]\n",
      "Batch in Progress:   0%|                                                     | 0/29 [00:00<?, ?it/s]"
     ]
    },
    {
     "name": "stdout",
     "output_type": "stream",
     "text": [
      "Train Set:\n",
      "    Average Loss:  0.620126,    Accuracy: 71.69%,    Correct Counter: 656/915,    F1 Score: 0.75,    Precision: 0.66,    Recall:  0.86 \n",
      "\n"
     ]
    },
    {
     "name": "stderr",
     "output_type": "stream",
     "text": [
      "Batch in Progress: 100%|████████████████████████████████████████████| 29/29 [00:07<00:00,  3.94it/s]\n",
      "Batch in Progress:   0%|                                                    | 0/115 [00:00<?, ?it/s]"
     ]
    },
    {
     "name": "stdout",
     "output_type": "stream",
     "text": [
      "Validation Set:\n",
      "    Average Loss:  0.622819,    Accuracy: 67.98%,    Correct Counter: 155/228,    F1 Score: 0.73,    Precision: 0.63,    Recall:  0.88 \n",
      "\n",
      "Epoch 92/200\n"
     ]
    },
    {
     "name": "stderr",
     "output_type": "stream",
     "text": [
      "Batch in Progress: 100%|██████████████████████████████████████████| 115/115 [00:52<00:00,  2.20it/s]\n",
      "Batch in Progress:   0%|                                                     | 0/29 [00:00<?, ?it/s]"
     ]
    },
    {
     "name": "stdout",
     "output_type": "stream",
     "text": [
      "Train Set:\n",
      "    Average Loss:  0.623059,    Accuracy: 71.58%,    Correct Counter: 655/915,    F1 Score: 0.75,    Precision: 0.66,    Recall:  0.86 \n",
      "\n"
     ]
    },
    {
     "name": "stderr",
     "output_type": "stream",
     "text": [
      "Batch in Progress: 100%|████████████████████████████████████████████| 29/29 [00:07<00:00,  3.96it/s]\n",
      "Batch in Progress:   0%|                                                    | 0/115 [00:00<?, ?it/s]"
     ]
    },
    {
     "name": "stdout",
     "output_type": "stream",
     "text": [
      "Validation Set:\n",
      "    Average Loss:  0.625267,    Accuracy: 68.42%,    Correct Counter: 156/228,    F1 Score: 0.74,    Precision: 0.63,    Recall:  0.89 \n",
      "\n",
      "Epoch 93/200\n"
     ]
    },
    {
     "name": "stderr",
     "output_type": "stream",
     "text": [
      "Batch in Progress: 100%|██████████████████████████████████████████| 115/115 [00:52<00:00,  2.19it/s]\n",
      "Batch in Progress:   0%|                                                     | 0/29 [00:00<?, ?it/s]"
     ]
    },
    {
     "name": "stdout",
     "output_type": "stream",
     "text": [
      "Train Set:\n",
      "    Average Loss:  0.621608,    Accuracy: 71.48%,    Correct Counter: 654/915,    F1 Score: 0.75,    Precision: 0.65,    Recall:  0.88 \n",
      "\n"
     ]
    },
    {
     "name": "stderr",
     "output_type": "stream",
     "text": [
      "Batch in Progress: 100%|████████████████████████████████████████████| 29/29 [00:07<00:00,  3.94it/s]\n",
      "Batch in Progress:   0%|                                                    | 0/115 [00:00<?, ?it/s]"
     ]
    },
    {
     "name": "stdout",
     "output_type": "stream",
     "text": [
      "Validation Set:\n",
      "    Average Loss:  0.623000,    Accuracy: 67.98%,    Correct Counter: 155/228,    F1 Score: 0.73,    Precision: 0.63,    Recall:  0.88 \n",
      "\n",
      "Epoch 94/200\n"
     ]
    },
    {
     "name": "stderr",
     "output_type": "stream",
     "text": [
      "Batch in Progress: 100%|██████████████████████████████████████████| 115/115 [00:52<00:00,  2.19it/s]\n",
      "Batch in Progress:   0%|                                                     | 0/29 [00:00<?, ?it/s]"
     ]
    },
    {
     "name": "stdout",
     "output_type": "stream",
     "text": [
      "Train Set:\n",
      "    Average Loss:  0.626093,    Accuracy: 71.26%,    Correct Counter: 652/915,    F1 Score: 0.74,    Precision: 0.66,    Recall:  0.85 \n",
      "\n"
     ]
    },
    {
     "name": "stderr",
     "output_type": "stream",
     "text": [
      "Batch in Progress: 100%|████████████████████████████████████████████| 29/29 [00:07<00:00,  3.99it/s]\n",
      "Batch in Progress:   0%|                                                    | 0/115 [00:00<?, ?it/s]"
     ]
    },
    {
     "name": "stdout",
     "output_type": "stream",
     "text": [
      "Validation Set:\n",
      "    Average Loss:  0.625390,    Accuracy: 68.42%,    Correct Counter: 156/228,    F1 Score: 0.74,    Precision: 0.63,    Recall:  0.90 \n",
      "\n",
      "Epoch 95/200\n"
     ]
    },
    {
     "name": "stderr",
     "output_type": "stream",
     "text": [
      "Batch in Progress: 100%|██████████████████████████████████████████| 115/115 [00:52<00:00,  2.19it/s]\n",
      "Batch in Progress:   0%|                                                     | 0/29 [00:00<?, ?it/s]"
     ]
    },
    {
     "name": "stdout",
     "output_type": "stream",
     "text": [
      "Train Set:\n",
      "    Average Loss:  0.624183,    Accuracy: 71.26%,    Correct Counter: 652/915,    F1 Score: 0.75,    Precision: 0.65,    Recall:  0.89 \n",
      "\n"
     ]
    },
    {
     "name": "stderr",
     "output_type": "stream",
     "text": [
      "Batch in Progress: 100%|████████████████████████████████████████████| 29/29 [00:07<00:00,  3.95it/s]\n",
      "Batch in Progress:   0%|                                                    | 0/115 [00:00<?, ?it/s]"
     ]
    },
    {
     "name": "stdout",
     "output_type": "stream",
     "text": [
      "Validation Set:\n",
      "    Average Loss:  0.623678,    Accuracy: 68.42%,    Correct Counter: 156/228,    F1 Score: 0.74,    Precision: 0.63,    Recall:  0.89 \n",
      "\n",
      "Epoch 96/200\n"
     ]
    },
    {
     "name": "stderr",
     "output_type": "stream",
     "text": [
      "Batch in Progress: 100%|██████████████████████████████████████████| 115/115 [00:52<00:00,  2.19it/s]\n",
      "Batch in Progress:   0%|                                                     | 0/29 [00:00<?, ?it/s]"
     ]
    },
    {
     "name": "stdout",
     "output_type": "stream",
     "text": [
      "Train Set:\n",
      "    Average Loss:  0.616259,    Accuracy: 71.58%,    Correct Counter: 655/915,    F1 Score: 0.75,    Precision: 0.65,    Recall:  0.89 \n",
      "\n"
     ]
    },
    {
     "name": "stderr",
     "output_type": "stream",
     "text": [
      "Batch in Progress: 100%|████████████████████████████████████████████| 29/29 [00:07<00:00,  3.93it/s]\n",
      "Batch in Progress:   0%|                                                    | 0/115 [00:00<?, ?it/s]"
     ]
    },
    {
     "name": "stdout",
     "output_type": "stream",
     "text": [
      "Validation Set:\n",
      "    Average Loss:  0.623845,    Accuracy: 68.42%,    Correct Counter: 156/228,    F1 Score: 0.74,    Precision: 0.63,    Recall:  0.90 \n",
      "\n",
      "Epoch 97/200\n"
     ]
    },
    {
     "name": "stderr",
     "output_type": "stream",
     "text": [
      "Batch in Progress: 100%|██████████████████████████████████████████| 115/115 [00:52<00:00,  2.19it/s]\n",
      "Batch in Progress:   0%|                                                     | 0/29 [00:00<?, ?it/s]"
     ]
    },
    {
     "name": "stdout",
     "output_type": "stream",
     "text": [
      "Train Set:\n",
      "    Average Loss:  0.621638,    Accuracy: 71.58%,    Correct Counter: 655/915,    F1 Score: 0.75,    Precision: 0.65,    Recall:  0.89 \n",
      "\n"
     ]
    },
    {
     "name": "stderr",
     "output_type": "stream",
     "text": [
      "Batch in Progress: 100%|████████████████████████████████████████████| 29/29 [00:07<00:00,  3.97it/s]\n",
      "Batch in Progress:   0%|                                                    | 0/115 [00:00<?, ?it/s]"
     ]
    },
    {
     "name": "stdout",
     "output_type": "stream",
     "text": [
      "Validation Set:\n",
      "    Average Loss:  0.620292,    Accuracy: 67.98%,    Correct Counter: 155/228,    F1 Score: 0.73,    Precision: 0.62,    Recall:  0.88 \n",
      "\n",
      "Epoch 98/200\n"
     ]
    },
    {
     "name": "stderr",
     "output_type": "stream",
     "text": [
      "Batch in Progress: 100%|██████████████████████████████████████████| 115/115 [00:52<00:00,  2.19it/s]\n",
      "Batch in Progress:   0%|                                                     | 0/29 [00:00<?, ?it/s]"
     ]
    },
    {
     "name": "stdout",
     "output_type": "stream",
     "text": [
      "Train Set:\n",
      "    Average Loss:  0.617209,    Accuracy: 72.46%,    Correct Counter: 663/915,    F1 Score: 0.76,    Precision: 0.66,    Recall:  0.90 \n",
      "\n"
     ]
    },
    {
     "name": "stderr",
     "output_type": "stream",
     "text": [
      "Batch in Progress: 100%|████████████████████████████████████████████| 29/29 [00:07<00:00,  3.94it/s]\n",
      "Batch in Progress:   0%|                                                    | 0/115 [00:00<?, ?it/s]"
     ]
    },
    {
     "name": "stdout",
     "output_type": "stream",
     "text": [
      "Validation Set:\n",
      "    Average Loss:  0.621303,    Accuracy: 68.42%,    Correct Counter: 156/228,    F1 Score: 0.74,    Precision: 0.63,    Recall:  0.89 \n",
      "\n",
      "Epoch 99/200\n"
     ]
    },
    {
     "name": "stderr",
     "output_type": "stream",
     "text": [
      "Batch in Progress: 100%|██████████████████████████████████████████| 115/115 [00:52<00:00,  2.19it/s]\n",
      "Batch in Progress:   0%|                                                     | 0/29 [00:00<?, ?it/s]"
     ]
    },
    {
     "name": "stdout",
     "output_type": "stream",
     "text": [
      "Train Set:\n",
      "    Average Loss:  0.614359,    Accuracy: 71.91%,    Correct Counter: 658/915,    F1 Score: 0.75,    Precision: 0.66,    Recall:  0.88 \n",
      "\n"
     ]
    },
    {
     "name": "stderr",
     "output_type": "stream",
     "text": [
      "Batch in Progress: 100%|████████████████████████████████████████████| 29/29 [00:07<00:00,  3.95it/s]\n",
      "Batch in Progress:   0%|                                                    | 0/115 [00:00<?, ?it/s]"
     ]
    },
    {
     "name": "stdout",
     "output_type": "stream",
     "text": [
      "Validation Set:\n",
      "    Average Loss:  0.616869,    Accuracy: 68.42%,    Correct Counter: 156/228,    F1 Score: 0.73,    Precision: 0.63,    Recall:  0.87 \n",
      "\n",
      "Epoch 100/200\n"
     ]
    },
    {
     "name": "stderr",
     "output_type": "stream",
     "text": [
      "Batch in Progress: 100%|██████████████████████████████████████████| 115/115 [00:52<00:00,  2.20it/s]\n",
      "Batch in Progress:   0%|                                                     | 0/29 [00:00<?, ?it/s]"
     ]
    },
    {
     "name": "stdout",
     "output_type": "stream",
     "text": [
      "Train Set:\n",
      "    Average Loss:  0.614284,    Accuracy: 71.04%,    Correct Counter: 650/915,    F1 Score: 0.74,    Precision: 0.66,    Recall:  0.84 \n",
      "\n"
     ]
    },
    {
     "name": "stderr",
     "output_type": "stream",
     "text": [
      "Batch in Progress: 100%|████████████████████████████████████████████| 29/29 [00:07<00:00,  3.94it/s]\n",
      "Batch in Progress:   0%|                                                    | 0/115 [00:00<?, ?it/s]"
     ]
    },
    {
     "name": "stdout",
     "output_type": "stream",
     "text": [
      "Validation Set:\n",
      "    Average Loss:  0.615543,    Accuracy: 69.30%,    Correct Counter: 158/228,    F1 Score: 0.74,    Precision: 0.64,    Recall:  0.87 \n",
      "\n",
      "Epoch 101/200\n"
     ]
    },
    {
     "name": "stderr",
     "output_type": "stream",
     "text": [
      "Batch in Progress: 100%|██████████████████████████████████████████| 115/115 [00:52<00:00,  2.18it/s]\n",
      "Batch in Progress:   0%|                                                     | 0/29 [00:00<?, ?it/s]"
     ]
    },
    {
     "name": "stdout",
     "output_type": "stream",
     "text": [
      "Train Set:\n",
      "    Average Loss:  0.615944,    Accuracy: 72.13%,    Correct Counter: 660/915,    F1 Score: 0.75,    Precision: 0.67,    Recall:  0.84 \n",
      "\n"
     ]
    },
    {
     "name": "stderr",
     "output_type": "stream",
     "text": [
      "Batch in Progress: 100%|████████████████████████████████████████████| 29/29 [00:07<00:00,  3.93it/s]\n",
      "Batch in Progress:   0%|                                                    | 0/115 [00:00<?, ?it/s]"
     ]
    },
    {
     "name": "stdout",
     "output_type": "stream",
     "text": [
      "Validation Set:\n",
      "    Average Loss:  0.616050,    Accuracy: 68.86%,    Correct Counter: 157/228,    F1 Score: 0.73,    Precision: 0.64,    Recall:  0.87 \n",
      "\n",
      "Epoch 102/200\n"
     ]
    },
    {
     "name": "stderr",
     "output_type": "stream",
     "text": [
      "Batch in Progress: 100%|██████████████████████████████████████████| 115/115 [00:52<00:00,  2.18it/s]\n",
      "Batch in Progress:   0%|                                                     | 0/29 [00:00<?, ?it/s]"
     ]
    },
    {
     "name": "stdout",
     "output_type": "stream",
     "text": [
      "Train Set:\n",
      "    Average Loss:  0.611562,    Accuracy: 72.35%,    Correct Counter: 662/915,    F1 Score: 0.75,    Precision: 0.67,    Recall:  0.85 \n",
      "\n"
     ]
    },
    {
     "name": "stderr",
     "output_type": "stream",
     "text": [
      "Batch in Progress: 100%|████████████████████████████████████████████| 29/29 [00:07<00:00,  3.99it/s]\n",
      "Batch in Progress:   0%|                                                    | 0/115 [00:00<?, ?it/s]"
     ]
    },
    {
     "name": "stdout",
     "output_type": "stream",
     "text": [
      "Validation Set:\n",
      "    Average Loss:  0.614495,    Accuracy: 69.30%,    Correct Counter: 158/228,    F1 Score: 0.73,    Precision: 0.65,    Recall:  0.84 \n",
      "\n",
      "Epoch 103/200\n"
     ]
    },
    {
     "name": "stderr",
     "output_type": "stream",
     "text": [
      "Batch in Progress: 100%|██████████████████████████████████████████| 115/115 [00:52<00:00,  2.18it/s]\n",
      "Batch in Progress:   0%|                                                     | 0/29 [00:00<?, ?it/s]"
     ]
    },
    {
     "name": "stdout",
     "output_type": "stream",
     "text": [
      "Train Set:\n",
      "    Average Loss:  0.616813,    Accuracy: 71.58%,    Correct Counter: 655/915,    F1 Score: 0.74,    Precision: 0.66,    Recall:  0.84 \n",
      "\n"
     ]
    },
    {
     "name": "stderr",
     "output_type": "stream",
     "text": [
      "Batch in Progress: 100%|████████████████████████████████████████████| 29/29 [00:07<00:00,  3.94it/s]\n",
      "Batch in Progress:   0%|                                                    | 0/115 [00:00<?, ?it/s]"
     ]
    },
    {
     "name": "stdout",
     "output_type": "stream",
     "text": [
      "Validation Set:\n",
      "    Average Loss:  0.615173,    Accuracy: 70.18%,    Correct Counter: 160/228,    F1 Score: 0.74,    Precision: 0.65,    Recall:  0.87 \n",
      "\n",
      "Epoch 104/200\n"
     ]
    },
    {
     "name": "stderr",
     "output_type": "stream",
     "text": [
      "Batch in Progress: 100%|██████████████████████████████████████████| 115/115 [00:52<00:00,  2.18it/s]\n",
      "Batch in Progress:   0%|                                                     | 0/29 [00:00<?, ?it/s]"
     ]
    },
    {
     "name": "stdout",
     "output_type": "stream",
     "text": [
      "Train Set:\n",
      "    Average Loss:  0.613068,    Accuracy: 71.58%,    Correct Counter: 655/915,    F1 Score: 0.74,    Precision: 0.67,    Recall:  0.83 \n",
      "\n"
     ]
    },
    {
     "name": "stderr",
     "output_type": "stream",
     "text": [
      "Batch in Progress: 100%|████████████████████████████████████████████| 29/29 [00:07<00:00,  3.93it/s]\n",
      "Batch in Progress:   0%|                                                    | 0/115 [00:00<?, ?it/s]"
     ]
    },
    {
     "name": "stdout",
     "output_type": "stream",
     "text": [
      "Validation Set:\n",
      "    Average Loss:  0.614533,    Accuracy: 69.30%,    Correct Counter: 158/228,    F1 Score: 0.74,    Precision: 0.64,    Recall:  0.87 \n",
      "\n",
      "Epoch 105/200\n"
     ]
    },
    {
     "name": "stderr",
     "output_type": "stream",
     "text": [
      "Batch in Progress: 100%|██████████████████████████████████████████| 115/115 [00:52<00:00,  2.19it/s]\n",
      "Batch in Progress:   0%|                                                     | 0/29 [00:00<?, ?it/s]"
     ]
    },
    {
     "name": "stdout",
     "output_type": "stream",
     "text": [
      "Train Set:\n",
      "    Average Loss:  0.608966,    Accuracy: 71.69%,    Correct Counter: 656/915,    F1 Score: 0.74,    Precision: 0.67,    Recall:  0.84 \n",
      "\n"
     ]
    },
    {
     "name": "stderr",
     "output_type": "stream",
     "text": [
      "Batch in Progress: 100%|████████████████████████████████████████████| 29/29 [00:07<00:00,  3.98it/s]\n",
      "Batch in Progress:   0%|                                                    | 0/115 [00:00<?, ?it/s]"
     ]
    },
    {
     "name": "stdout",
     "output_type": "stream",
     "text": [
      "Validation Set:\n",
      "    Average Loss:  0.611441,    Accuracy: 69.74%,    Correct Counter: 159/228,    F1 Score: 0.73,    Precision: 0.65,    Recall:  0.83 \n",
      "\n",
      "Epoch 106/200\n"
     ]
    },
    {
     "name": "stderr",
     "output_type": "stream",
     "text": [
      "Batch in Progress: 100%|██████████████████████████████████████████| 115/115 [00:52<00:00,  2.19it/s]\n",
      "Batch in Progress:   0%|                                                     | 0/29 [00:00<?, ?it/s]"
     ]
    },
    {
     "name": "stdout",
     "output_type": "stream",
     "text": [
      "Train Set:\n",
      "    Average Loss:  0.614138,    Accuracy: 71.15%,    Correct Counter: 651/915,    F1 Score: 0.73,    Precision: 0.66,    Recall:  0.82 \n",
      "\n"
     ]
    },
    {
     "name": "stderr",
     "output_type": "stream",
     "text": [
      "Batch in Progress: 100%|████████████████████████████████████████████| 29/29 [00:07<00:00,  4.00it/s]\n",
      "Batch in Progress:   0%|                                                    | 0/115 [00:00<?, ?it/s]"
     ]
    },
    {
     "name": "stdout",
     "output_type": "stream",
     "text": [
      "Validation Set:\n",
      "    Average Loss:  0.613501,    Accuracy: 68.86%,    Correct Counter: 157/228,    F1 Score: 0.73,    Precision: 0.64,    Recall:  0.84 \n",
      "\n",
      "Epoch 107/200\n"
     ]
    },
    {
     "name": "stderr",
     "output_type": "stream",
     "text": [
      "Batch in Progress: 100%|██████████████████████████████████████████| 115/115 [00:52<00:00,  2.19it/s]\n",
      "Batch in Progress:   0%|                                                     | 0/29 [00:00<?, ?it/s]"
     ]
    },
    {
     "name": "stdout",
     "output_type": "stream",
     "text": [
      "Train Set:\n",
      "    Average Loss:  0.610668,    Accuracy: 72.57%,    Correct Counter: 664/915,    F1 Score: 0.75,    Precision: 0.68,    Recall:  0.84 \n",
      "\n"
     ]
    },
    {
     "name": "stderr",
     "output_type": "stream",
     "text": [
      "Batch in Progress: 100%|████████████████████████████████████████████| 29/29 [00:07<00:00,  3.93it/s]\n",
      "Batch in Progress:   0%|                                                    | 0/115 [00:00<?, ?it/s]"
     ]
    },
    {
     "name": "stdout",
     "output_type": "stream",
     "text": [
      "Validation Set:\n",
      "    Average Loss:  0.612546,    Accuracy: 69.30%,    Correct Counter: 158/228,    F1 Score: 0.73,    Precision: 0.64,    Recall:  0.86 \n",
      "\n",
      "Epoch 108/200\n"
     ]
    },
    {
     "name": "stderr",
     "output_type": "stream",
     "text": [
      "Batch in Progress: 100%|██████████████████████████████████████████| 115/115 [00:52<00:00,  2.19it/s]\n",
      "Batch in Progress:   0%|                                                     | 0/29 [00:00<?, ?it/s]"
     ]
    },
    {
     "name": "stdout",
     "output_type": "stream",
     "text": [
      "Train Set:\n",
      "    Average Loss:  0.607950,    Accuracy: 72.24%,    Correct Counter: 661/915,    F1 Score: 0.75,    Precision: 0.66,    Recall:  0.86 \n",
      "\n"
     ]
    },
    {
     "name": "stderr",
     "output_type": "stream",
     "text": [
      "Batch in Progress: 100%|████████████████████████████████████████████| 29/29 [00:07<00:00,  3.98it/s]\n",
      "Batch in Progress:   0%|                                                    | 0/115 [00:00<?, ?it/s]"
     ]
    },
    {
     "name": "stdout",
     "output_type": "stream",
     "text": [
      "Validation Set:\n",
      "    Average Loss:  0.612230,    Accuracy: 68.86%,    Correct Counter: 157/228,    F1 Score: 0.73,    Precision: 0.64,    Recall:  0.85 \n",
      "\n",
      "Epoch 109/200\n"
     ]
    },
    {
     "name": "stderr",
     "output_type": "stream",
     "text": [
      "Batch in Progress: 100%|██████████████████████████████████████████| 115/115 [00:52<00:00,  2.19it/s]\n",
      "Batch in Progress:   0%|                                                     | 0/29 [00:00<?, ?it/s]"
     ]
    },
    {
     "name": "stdout",
     "output_type": "stream",
     "text": [
      "Train Set:\n",
      "    Average Loss:  0.606559,    Accuracy: 72.79%,    Correct Counter: 666/915,    F1 Score: 0.75,    Precision: 0.67,    Recall:  0.86 \n",
      "\n"
     ]
    },
    {
     "name": "stderr",
     "output_type": "stream",
     "text": [
      "Batch in Progress: 100%|████████████████████████████████████████████| 29/29 [00:07<00:00,  4.00it/s]\n",
      "Batch in Progress:   0%|                                                    | 0/115 [00:00<?, ?it/s]"
     ]
    },
    {
     "name": "stdout",
     "output_type": "stream",
     "text": [
      "Validation Set:\n",
      "    Average Loss:  0.611523,    Accuracy: 69.30%,    Correct Counter: 158/228,    F1 Score: 0.73,    Precision: 0.65,    Recall:  0.84 \n",
      "\n",
      "Epoch 110/200\n"
     ]
    },
    {
     "name": "stderr",
     "output_type": "stream",
     "text": [
      "Batch in Progress: 100%|██████████████████████████████████████████| 115/115 [00:52<00:00,  2.19it/s]\n",
      "Batch in Progress:   0%|                                                     | 0/29 [00:00<?, ?it/s]"
     ]
    },
    {
     "name": "stdout",
     "output_type": "stream",
     "text": [
      "Train Set:\n",
      "    Average Loss:  0.609635,    Accuracy: 72.90%,    Correct Counter: 667/915,    F1 Score: 0.75,    Precision: 0.68,    Recall:  0.85 \n",
      "\n"
     ]
    },
    {
     "name": "stderr",
     "output_type": "stream",
     "text": [
      "Batch in Progress: 100%|████████████████████████████████████████████| 29/29 [00:07<00:00,  3.99it/s]\n",
      "Batch in Progress:   0%|                                                    | 0/115 [00:00<?, ?it/s]"
     ]
    },
    {
     "name": "stdout",
     "output_type": "stream",
     "text": [
      "Validation Set:\n",
      "    Average Loss:  0.610943,    Accuracy: 70.18%,    Correct Counter: 160/228,    F1 Score: 0.73,    Precision: 0.66,    Recall:  0.83 \n",
      "\n",
      "Epoch 111/200\n"
     ]
    },
    {
     "name": "stderr",
     "output_type": "stream",
     "text": [
      "Batch in Progress: 100%|██████████████████████████████████████████| 115/115 [00:52<00:00,  2.19it/s]\n",
      "Batch in Progress:   0%|                                                     | 0/29 [00:00<?, ?it/s]"
     ]
    },
    {
     "name": "stdout",
     "output_type": "stream",
     "text": [
      "Train Set:\n",
      "    Average Loss:  0.609875,    Accuracy: 73.22%,    Correct Counter: 670/915,    F1 Score: 0.75,    Precision: 0.69,    Recall:  0.82 \n",
      "\n"
     ]
    },
    {
     "name": "stderr",
     "output_type": "stream",
     "text": [
      "Batch in Progress: 100%|████████████████████████████████████████████| 29/29 [00:07<00:00,  3.98it/s]\n",
      "Batch in Progress:   0%|                                                    | 0/115 [00:00<?, ?it/s]"
     ]
    },
    {
     "name": "stdout",
     "output_type": "stream",
     "text": [
      "Validation Set:\n",
      "    Average Loss:  0.610179,    Accuracy: 69.74%,    Correct Counter: 159/228,    F1 Score: 0.74,    Precision: 0.65,    Recall:  0.85 \n",
      "\n",
      "Epoch 112/200\n"
     ]
    },
    {
     "name": "stderr",
     "output_type": "stream",
     "text": [
      "Batch in Progress: 100%|██████████████████████████████████████████| 115/115 [00:52<00:00,  2.19it/s]\n",
      "Batch in Progress:   0%|                                                     | 0/29 [00:00<?, ?it/s]"
     ]
    },
    {
     "name": "stdout",
     "output_type": "stream",
     "text": [
      "Train Set:\n",
      "    Average Loss:  0.604811,    Accuracy: 72.35%,    Correct Counter: 662/915,    F1 Score: 0.75,    Precision: 0.67,    Recall:  0.85 \n",
      "\n"
     ]
    },
    {
     "name": "stderr",
     "output_type": "stream",
     "text": [
      "Batch in Progress: 100%|████████████████████████████████████████████| 29/29 [00:07<00:00,  3.96it/s]\n",
      "Batch in Progress:   0%|                                                    | 0/115 [00:00<?, ?it/s]"
     ]
    },
    {
     "name": "stdout",
     "output_type": "stream",
     "text": [
      "Validation Set:\n",
      "    Average Loss:  0.610661,    Accuracy: 69.30%,    Correct Counter: 158/228,    F1 Score: 0.73,    Precision: 0.64,    Recall:  0.86 \n",
      "\n",
      "Epoch 113/200\n"
     ]
    },
    {
     "name": "stderr",
     "output_type": "stream",
     "text": [
      "Batch in Progress: 100%|██████████████████████████████████████████| 115/115 [00:52<00:00,  2.18it/s]\n",
      "Batch in Progress:   0%|                                                     | 0/29 [00:00<?, ?it/s]"
     ]
    },
    {
     "name": "stdout",
     "output_type": "stream",
     "text": [
      "Train Set:\n",
      "    Average Loss:  0.598574,    Accuracy: 73.11%,    Correct Counter: 669/915,    F1 Score: 0.76,    Precision: 0.67,    Recall:  0.86 \n",
      "\n"
     ]
    },
    {
     "name": "stderr",
     "output_type": "stream",
     "text": [
      "Batch in Progress: 100%|████████████████████████████████████████████| 29/29 [00:07<00:00,  3.98it/s]\n",
      "Batch in Progress:   0%|                                                    | 0/115 [00:00<?, ?it/s]"
     ]
    },
    {
     "name": "stdout",
     "output_type": "stream",
     "text": [
      "Validation Set:\n",
      "    Average Loss:  0.610461,    Accuracy: 69.30%,    Correct Counter: 158/228,    F1 Score: 0.74,    Precision: 0.64,    Recall:  0.87 \n",
      "\n",
      "Epoch 114/200\n"
     ]
    },
    {
     "name": "stderr",
     "output_type": "stream",
     "text": [
      "Batch in Progress: 100%|██████████████████████████████████████████| 115/115 [00:52<00:00,  2.20it/s]\n",
      "Batch in Progress:   0%|                                                     | 0/29 [00:00<?, ?it/s]"
     ]
    },
    {
     "name": "stdout",
     "output_type": "stream",
     "text": [
      "Train Set:\n",
      "    Average Loss:  0.606761,    Accuracy: 72.35%,    Correct Counter: 662/915,    F1 Score: 0.74,    Precision: 0.68,    Recall:  0.83 \n",
      "\n"
     ]
    },
    {
     "name": "stderr",
     "output_type": "stream",
     "text": [
      "Batch in Progress: 100%|████████████████████████████████████████████| 29/29 [00:07<00:00,  4.01it/s]\n",
      "Batch in Progress:   0%|                                                    | 0/115 [00:00<?, ?it/s]"
     ]
    },
    {
     "name": "stdout",
     "output_type": "stream",
     "text": [
      "Validation Set:\n",
      "    Average Loss:  0.608881,    Accuracy: 69.74%,    Correct Counter: 159/228,    F1 Score: 0.73,    Precision: 0.65,    Recall:  0.84 \n",
      "\n",
      "Epoch 115/200\n"
     ]
    },
    {
     "name": "stderr",
     "output_type": "stream",
     "text": [
      "Batch in Progress: 100%|██████████████████████████████████████████| 115/115 [00:52<00:00,  2.19it/s]\n",
      "Batch in Progress:   0%|                                                     | 0/29 [00:00<?, ?it/s]"
     ]
    },
    {
     "name": "stdout",
     "output_type": "stream",
     "text": [
      "Train Set:\n",
      "    Average Loss:  0.605012,    Accuracy: 71.91%,    Correct Counter: 658/915,    F1 Score: 0.74,    Precision: 0.68,    Recall:  0.80 \n",
      "\n"
     ]
    },
    {
     "name": "stderr",
     "output_type": "stream",
     "text": [
      "Batch in Progress: 100%|████████████████████████████████████████████| 29/29 [00:07<00:00,  3.96it/s]\n",
      "Batch in Progress:   0%|                                                    | 0/115 [00:00<?, ?it/s]"
     ]
    },
    {
     "name": "stdout",
     "output_type": "stream",
     "text": [
      "Validation Set:\n",
      "    Average Loss:  0.608400,    Accuracy: 70.18%,    Correct Counter: 160/228,    F1 Score: 0.74,    Precision: 0.66,    Recall:  0.84 \n",
      "\n",
      "Epoch 116/200\n"
     ]
    },
    {
     "name": "stderr",
     "output_type": "stream",
     "text": [
      "Batch in Progress: 100%|██████████████████████████████████████████| 115/115 [00:52<00:00,  2.20it/s]\n",
      "Batch in Progress:   0%|                                                     | 0/29 [00:00<?, ?it/s]"
     ]
    },
    {
     "name": "stdout",
     "output_type": "stream",
     "text": [
      "Train Set:\n",
      "    Average Loss:  0.601746,    Accuracy: 71.48%,    Correct Counter: 654/915,    F1 Score: 0.73,    Precision: 0.67,    Recall:  0.80 \n",
      "\n"
     ]
    },
    {
     "name": "stderr",
     "output_type": "stream",
     "text": [
      "Batch in Progress: 100%|████████████████████████████████████████████| 29/29 [00:07<00:00,  3.96it/s]\n",
      "Batch in Progress:   0%|                                                    | 0/115 [00:00<?, ?it/s]"
     ]
    },
    {
     "name": "stdout",
     "output_type": "stream",
     "text": [
      "Validation Set:\n",
      "    Average Loss:  0.609113,    Accuracy: 70.18%,    Correct Counter: 160/228,    F1 Score: 0.74,    Precision: 0.66,    Recall:  0.84 \n",
      "\n",
      "Epoch 117/200\n"
     ]
    },
    {
     "name": "stderr",
     "output_type": "stream",
     "text": [
      "Batch in Progress: 100%|██████████████████████████████████████████| 115/115 [00:52<00:00,  2.19it/s]\n",
      "Batch in Progress:   0%|                                                     | 0/29 [00:00<?, ?it/s]"
     ]
    },
    {
     "name": "stdout",
     "output_type": "stream",
     "text": [
      "Train Set:\n",
      "    Average Loss:  0.607180,    Accuracy: 72.24%,    Correct Counter: 661/915,    F1 Score: 0.74,    Precision: 0.68,    Recall:  0.82 \n",
      "\n"
     ]
    },
    {
     "name": "stderr",
     "output_type": "stream",
     "text": [
      "Batch in Progress: 100%|████████████████████████████████████████████| 29/29 [00:07<00:00,  3.98it/s]\n",
      "Batch in Progress:   0%|                                                    | 0/115 [00:00<?, ?it/s]"
     ]
    },
    {
     "name": "stdout",
     "output_type": "stream",
     "text": [
      "Validation Set:\n",
      "    Average Loss:  0.608867,    Accuracy: 68.86%,    Correct Counter: 157/228,    F1 Score: 0.72,    Precision: 0.65,    Recall:  0.81 \n",
      "\n",
      "Epoch 118/200\n"
     ]
    },
    {
     "name": "stderr",
     "output_type": "stream",
     "text": [
      "Batch in Progress: 100%|██████████████████████████████████████████| 115/115 [00:52<00:00,  2.18it/s]\n",
      "Batch in Progress:   0%|                                                     | 0/29 [00:00<?, ?it/s]"
     ]
    },
    {
     "name": "stdout",
     "output_type": "stream",
     "text": [
      "Train Set:\n",
      "    Average Loss:  0.609909,    Accuracy: 71.04%,    Correct Counter: 650/915,    F1 Score: 0.73,    Precision: 0.67,    Recall:  0.79 \n",
      "\n"
     ]
    },
    {
     "name": "stderr",
     "output_type": "stream",
     "text": [
      "Batch in Progress: 100%|████████████████████████████████████████████| 29/29 [00:07<00:00,  3.98it/s]\n",
      "Batch in Progress:   0%|                                                    | 0/115 [00:00<?, ?it/s]"
     ]
    },
    {
     "name": "stdout",
     "output_type": "stream",
     "text": [
      "Validation Set:\n",
      "    Average Loss:  0.613324,    Accuracy: 69.30%,    Correct Counter: 158/228,    F1 Score: 0.74,    Precision: 0.64,    Recall:  0.88 \n",
      "\n",
      "Epoch 119/200\n"
     ]
    },
    {
     "name": "stderr",
     "output_type": "stream",
     "text": [
      "Batch in Progress: 100%|██████████████████████████████████████████| 115/115 [00:52<00:00,  2.18it/s]\n",
      "Batch in Progress:   0%|                                                     | 0/29 [00:00<?, ?it/s]"
     ]
    },
    {
     "name": "stdout",
     "output_type": "stream",
     "text": [
      "Train Set:\n",
      "    Average Loss:  0.602134,    Accuracy: 72.13%,    Correct Counter: 660/915,    F1 Score: 0.75,    Precision: 0.66,    Recall:  0.87 \n",
      "\n"
     ]
    },
    {
     "name": "stderr",
     "output_type": "stream",
     "text": [
      "Batch in Progress: 100%|████████████████████████████████████████████| 29/29 [00:07<00:00,  3.95it/s]\n",
      "Batch in Progress:   0%|                                                    | 0/115 [00:00<?, ?it/s]"
     ]
    },
    {
     "name": "stdout",
     "output_type": "stream",
     "text": [
      "Validation Set:\n",
      "    Average Loss:  0.612783,    Accuracy: 68.86%,    Correct Counter: 157/228,    F1 Score: 0.74,    Precision: 0.63,    Recall:  0.88 \n",
      "\n",
      "Epoch 120/200\n"
     ]
    },
    {
     "name": "stderr",
     "output_type": "stream",
     "text": [
      "Batch in Progress: 100%|██████████████████████████████████████████| 115/115 [00:52<00:00,  2.19it/s]\n",
      "Batch in Progress:   0%|                                                     | 0/29 [00:00<?, ?it/s]"
     ]
    },
    {
     "name": "stdout",
     "output_type": "stream",
     "text": [
      "Train Set:\n",
      "    Average Loss:  0.599496,    Accuracy: 72.24%,    Correct Counter: 661/915,    F1 Score: 0.75,    Precision: 0.66,    Recall:  0.87 \n",
      "\n"
     ]
    },
    {
     "name": "stderr",
     "output_type": "stream",
     "text": [
      "Batch in Progress: 100%|████████████████████████████████████████████| 29/29 [00:07<00:00,  3.97it/s]\n",
      "Batch in Progress:   0%|                                                    | 0/115 [00:00<?, ?it/s]"
     ]
    },
    {
     "name": "stdout",
     "output_type": "stream",
     "text": [
      "Validation Set:\n",
      "    Average Loss:  0.610704,    Accuracy: 69.30%,    Correct Counter: 158/228,    F1 Score: 0.73,    Precision: 0.64,    Recall:  0.86 \n",
      "\n",
      "Epoch 121/200\n"
     ]
    },
    {
     "name": "stderr",
     "output_type": "stream",
     "text": [
      "Batch in Progress: 100%|██████████████████████████████████████████| 115/115 [00:52<00:00,  2.19it/s]\n",
      "Batch in Progress:   0%|                                                     | 0/29 [00:00<?, ?it/s]"
     ]
    },
    {
     "name": "stdout",
     "output_type": "stream",
     "text": [
      "Train Set:\n",
      "    Average Loss:  0.595328,    Accuracy: 72.68%,    Correct Counter: 665/915,    F1 Score: 0.75,    Precision: 0.68,    Recall:  0.84 \n",
      "\n"
     ]
    },
    {
     "name": "stderr",
     "output_type": "stream",
     "text": [
      "Batch in Progress: 100%|████████████████████████████████████████████| 29/29 [00:07<00:00,  3.98it/s]\n",
      "Batch in Progress:   0%|                                                    | 0/115 [00:00<?, ?it/s]"
     ]
    },
    {
     "name": "stdout",
     "output_type": "stream",
     "text": [
      "Validation Set:\n",
      "    Average Loss:  0.607270,    Accuracy: 70.18%,    Correct Counter: 160/228,    F1 Score: 0.74,    Precision: 0.66,    Recall:  0.84 \n",
      "\n",
      "Epoch 122/200\n"
     ]
    },
    {
     "name": "stderr",
     "output_type": "stream",
     "text": [
      "Batch in Progress: 100%|██████████████████████████████████████████| 115/115 [00:52<00:00,  2.19it/s]\n",
      "Batch in Progress:   0%|                                                     | 0/29 [00:00<?, ?it/s]"
     ]
    },
    {
     "name": "stdout",
     "output_type": "stream",
     "text": [
      "Train Set:\n",
      "    Average Loss:  0.595992,    Accuracy: 71.69%,    Correct Counter: 656/915,    F1 Score: 0.74,    Precision: 0.67,    Recall:  0.82 \n",
      "\n"
     ]
    },
    {
     "name": "stderr",
     "output_type": "stream",
     "text": [
      "Batch in Progress: 100%|████████████████████████████████████████████| 29/29 [00:07<00:00,  3.98it/s]\n",
      "Batch in Progress:   0%|                                                    | 0/115 [00:00<?, ?it/s]"
     ]
    },
    {
     "name": "stdout",
     "output_type": "stream",
     "text": [
      "Validation Set:\n",
      "    Average Loss:  0.608355,    Accuracy: 69.30%,    Correct Counter: 158/228,    F1 Score: 0.73,    Precision: 0.64,    Recall:  0.85 \n",
      "\n",
      "Epoch 123/200\n"
     ]
    },
    {
     "name": "stderr",
     "output_type": "stream",
     "text": [
      "Batch in Progress: 100%|██████████████████████████████████████████| 115/115 [00:52<00:00,  2.18it/s]\n",
      "Batch in Progress:   0%|                                                     | 0/29 [00:00<?, ?it/s]"
     ]
    },
    {
     "name": "stdout",
     "output_type": "stream",
     "text": [
      "Train Set:\n",
      "    Average Loss:  0.597806,    Accuracy: 72.57%,    Correct Counter: 664/915,    F1 Score: 0.75,    Precision: 0.68,    Recall:  0.83 \n",
      "\n"
     ]
    },
    {
     "name": "stderr",
     "output_type": "stream",
     "text": [
      "Batch in Progress: 100%|████████████████████████████████████████████| 29/29 [00:07<00:00,  3.95it/s]\n",
      "Batch in Progress:   0%|                                                    | 0/115 [00:00<?, ?it/s]"
     ]
    },
    {
     "name": "stdout",
     "output_type": "stream",
     "text": [
      "Validation Set:\n",
      "    Average Loss:  0.605602,    Accuracy: 70.18%,    Correct Counter: 160/228,    F1 Score: 0.73,    Precision: 0.66,    Recall:  0.83 \n",
      "\n",
      "Epoch 124/200\n"
     ]
    },
    {
     "name": "stderr",
     "output_type": "stream",
     "text": [
      "Batch in Progress: 100%|██████████████████████████████████████████| 115/115 [00:52<00:00,  2.18it/s]\n",
      "Batch in Progress:   0%|                                                     | 0/29 [00:00<?, ?it/s]"
     ]
    },
    {
     "name": "stdout",
     "output_type": "stream",
     "text": [
      "Train Set:\n",
      "    Average Loss:  0.597596,    Accuracy: 71.04%,    Correct Counter: 650/915,    F1 Score: 0.73,    Precision: 0.66,    Recall:  0.82 \n",
      "\n"
     ]
    },
    {
     "name": "stderr",
     "output_type": "stream",
     "text": [
      "Batch in Progress: 100%|████████████████████████████████████████████| 29/29 [00:07<00:00,  4.02it/s]\n",
      "Batch in Progress:   0%|                                                    | 0/115 [00:00<?, ?it/s]"
     ]
    },
    {
     "name": "stdout",
     "output_type": "stream",
     "text": [
      "Validation Set:\n",
      "    Average Loss:  0.607200,    Accuracy: 69.30%,    Correct Counter: 158/228,    F1 Score: 0.73,    Precision: 0.65,    Recall:  0.84 \n",
      "\n",
      "Epoch 125/200\n"
     ]
    },
    {
     "name": "stderr",
     "output_type": "stream",
     "text": [
      "Batch in Progress: 100%|██████████████████████████████████████████| 115/115 [00:52<00:00,  2.18it/s]\n",
      "Batch in Progress:   0%|                                                     | 0/29 [00:00<?, ?it/s]"
     ]
    },
    {
     "name": "stdout",
     "output_type": "stream",
     "text": [
      "Train Set:\n",
      "    Average Loss:  0.602513,    Accuracy: 72.24%,    Correct Counter: 661/915,    F1 Score: 0.74,    Precision: 0.68,    Recall:  0.82 \n",
      "\n"
     ]
    },
    {
     "name": "stderr",
     "output_type": "stream",
     "text": [
      "Batch in Progress: 100%|████████████████████████████████████████████| 29/29 [00:07<00:00,  3.96it/s]\n",
      "Batch in Progress:   0%|                                                    | 0/115 [00:00<?, ?it/s]"
     ]
    },
    {
     "name": "stdout",
     "output_type": "stream",
     "text": [
      "Validation Set:\n",
      "    Average Loss:  0.608953,    Accuracy: 69.74%,    Correct Counter: 159/228,    F1 Score: 0.74,    Precision: 0.65,    Recall:  0.85 \n",
      "\n",
      "Epoch 126/200\n"
     ]
    },
    {
     "name": "stderr",
     "output_type": "stream",
     "text": [
      "Batch in Progress: 100%|██████████████████████████████████████████| 115/115 [00:52<00:00,  2.20it/s]\n",
      "Batch in Progress:   0%|                                                     | 0/29 [00:00<?, ?it/s]"
     ]
    },
    {
     "name": "stdout",
     "output_type": "stream",
     "text": [
      "Train Set:\n",
      "    Average Loss:  0.597255,    Accuracy: 72.79%,    Correct Counter: 666/915,    F1 Score: 0.75,    Precision: 0.67,    Recall:  0.85 \n",
      "\n"
     ]
    },
    {
     "name": "stderr",
     "output_type": "stream",
     "text": [
      "Batch in Progress: 100%|████████████████████████████████████████████| 29/29 [00:07<00:00,  3.97it/s]\n",
      "Batch in Progress:   0%|                                                    | 0/115 [00:00<?, ?it/s]"
     ]
    },
    {
     "name": "stdout",
     "output_type": "stream",
     "text": [
      "Validation Set:\n",
      "    Average Loss:  0.608597,    Accuracy: 69.30%,    Correct Counter: 158/228,    F1 Score: 0.73,    Precision: 0.64,    Recall:  0.85 \n",
      "\n",
      "Epoch 127/200\n"
     ]
    },
    {
     "name": "stderr",
     "output_type": "stream",
     "text": [
      "Batch in Progress: 100%|██████████████████████████████████████████| 115/115 [00:52<00:00,  2.19it/s]\n",
      "Batch in Progress:   0%|                                                     | 0/29 [00:00<?, ?it/s]"
     ]
    },
    {
     "name": "stdout",
     "output_type": "stream",
     "text": [
      "Train Set:\n",
      "    Average Loss:  0.598395,    Accuracy: 71.48%,    Correct Counter: 654/915,    F1 Score: 0.74,    Precision: 0.66,    Recall:  0.84 \n",
      "\n"
     ]
    },
    {
     "name": "stderr",
     "output_type": "stream",
     "text": [
      "Batch in Progress: 100%|████████████████████████████████████████████| 29/29 [00:07<00:00,  3.92it/s]\n",
      "Batch in Progress:   0%|                                                    | 0/115 [00:00<?, ?it/s]"
     ]
    },
    {
     "name": "stdout",
     "output_type": "stream",
     "text": [
      "Validation Set:\n",
      "    Average Loss:  0.608857,    Accuracy: 68.86%,    Correct Counter: 157/228,    F1 Score: 0.73,    Precision: 0.64,    Recall:  0.86 \n",
      "\n",
      "Epoch 128/200\n"
     ]
    },
    {
     "name": "stderr",
     "output_type": "stream",
     "text": [
      "Batch in Progress: 100%|██████████████████████████████████████████| 115/115 [00:52<00:00,  2.19it/s]\n",
      "Batch in Progress:   0%|                                                     | 0/29 [00:00<?, ?it/s]"
     ]
    },
    {
     "name": "stdout",
     "output_type": "stream",
     "text": [
      "Train Set:\n",
      "    Average Loss:  0.598708,    Accuracy: 71.91%,    Correct Counter: 658/915,    F1 Score: 0.75,    Precision: 0.66,    Recall:  0.85 \n",
      "\n"
     ]
    },
    {
     "name": "stderr",
     "output_type": "stream",
     "text": [
      "Batch in Progress: 100%|████████████████████████████████████████████| 29/29 [00:07<00:00,  3.98it/s]\n",
      "Batch in Progress:   0%|                                                    | 0/115 [00:00<?, ?it/s]"
     ]
    },
    {
     "name": "stdout",
     "output_type": "stream",
     "text": [
      "Validation Set:\n",
      "    Average Loss:  0.610407,    Accuracy: 68.86%,    Correct Counter: 157/228,    F1 Score: 0.73,    Precision: 0.64,    Recall:  0.87 \n",
      "\n",
      "Epoch 129/200\n"
     ]
    },
    {
     "name": "stderr",
     "output_type": "stream",
     "text": [
      "Batch in Progress: 100%|██████████████████████████████████████████| 115/115 [00:52<00:00,  2.19it/s]\n",
      "Batch in Progress:   0%|                                                     | 0/29 [00:00<?, ?it/s]"
     ]
    },
    {
     "name": "stdout",
     "output_type": "stream",
     "text": [
      "Train Set:\n",
      "    Average Loss:  0.595783,    Accuracy: 71.69%,    Correct Counter: 656/915,    F1 Score: 0.74,    Precision: 0.66,    Recall:  0.84 \n",
      "\n"
     ]
    },
    {
     "name": "stderr",
     "output_type": "stream",
     "text": [
      "Batch in Progress: 100%|████████████████████████████████████████████| 29/29 [00:07<00:00,  3.97it/s]\n",
      "Batch in Progress:   0%|                                                    | 0/115 [00:00<?, ?it/s]"
     ]
    },
    {
     "name": "stdout",
     "output_type": "stream",
     "text": [
      "Validation Set:\n",
      "    Average Loss:  0.607914,    Accuracy: 69.30%,    Correct Counter: 158/228,    F1 Score: 0.73,    Precision: 0.64,    Recall:  0.86 \n",
      "\n",
      "Epoch 130/200\n"
     ]
    },
    {
     "name": "stderr",
     "output_type": "stream",
     "text": [
      "Batch in Progress: 100%|██████████████████████████████████████████| 115/115 [00:52<00:00,  2.19it/s]\n",
      "Batch in Progress:   0%|                                                     | 0/29 [00:00<?, ?it/s]"
     ]
    },
    {
     "name": "stdout",
     "output_type": "stream",
     "text": [
      "Train Set:\n",
      "    Average Loss:  0.599915,    Accuracy: 73.11%,    Correct Counter: 669/915,    F1 Score: 0.76,    Precision: 0.68,    Recall:  0.86 \n",
      "\n"
     ]
    },
    {
     "name": "stderr",
     "output_type": "stream",
     "text": [
      "Batch in Progress: 100%|████████████████████████████████████████████| 29/29 [00:07<00:00,  3.95it/s]"
     ]
    },
    {
     "name": "stdout",
     "output_type": "stream",
     "text": [
      "Validation Set:\n",
      "    Average Loss:  0.605971,    Accuracy: 69.30%,    Correct Counter: 158/228,    F1 Score: 0.73,    Precision: 0.65,    Recall:  0.84 \n",
      "\n"
     ]
    },
    {
     "name": "stderr",
     "output_type": "stream",
     "text": [
      "\n"
     ]
    }
   ],
   "source": [
    "models = {\n",
    "    \"image_model\": image_model,\n",
    "    \"tabular_model\": tabular_model,\n",
    "    \"fusion_model\": fusion_model,\n",
    "}\n",
    "\n",
    "optimizer = torch.optim.Adam([\n",
    "    {'params': image_model.parameters(), 'lr': 1e-4},\n",
    "    {'params': tabular_model.parameters(), 'lr': 1e-4},\n",
    "    {'params': fusion_model.parameters(), 'lr': 1e-4}],\n",
    ")\n",
    "\n",
    "epochs = 200\n",
    "metrics = train_val(epochs=epochs, models=models, criterion=criterion, optimizer=optimizer, train_loader=train_loader,\n",
    "                    val_loader=test_loader, device=device, early_stop=early_stop)"
   ]
  },
  {
   "cell_type": "code",
   "execution_count": 14,
   "metadata": {},
   "outputs": [],
   "source": [
    "torch.save(image_model.state_dict(), MODELS_PATH + \"\\CombineOutputs\\FundusPath.pth\")\n",
    "torch.save(tabular_model.state_dict(), MODELS_PATH + \"\\CombineOutputs\\DemographicPath.pth\")\n",
    "torch.save(fusion_model.state_dict(), MODELS_PATH + \"\\CombineOutputs\\FusionPath.pth\")"
   ]
  },
  {
   "cell_type": "markdown",
   "metadata": {},
   "source": [
    "## KeepFeatures (Late Fusion)"
   ]
  },
  {
   "cell_type": "code",
   "execution_count": 15,
   "metadata": {},
   "outputs": [],
   "source": [
    "image_model = get_densenet201(device=device, freeze=True, with_mlp=True, outputs=1)\n",
    "image_model.load_state_dict(torch.load(FM_PATH))\n",
    "\n",
    "image_model = image_model.to(device).float()"
   ]
  },
  {
   "cell_type": "code",
   "execution_count": 16,
   "metadata": {},
   "outputs": [],
   "source": [
    "models = {\n",
    "    \"image_model\": image_model,\n",
    "    \"tabular_model\": None,\n",
    "    \"fusion_model\": None,\n",
    "}"
   ]
  },
  {
   "cell_type": "code",
   "execution_count": 17,
   "metadata": {},
   "outputs": [],
   "source": [
    "train_x, train_y = build_tabular_dataset(models, train_dataset, method=\"keep_features\")\n",
    "test_x, test_y = build_tabular_dataset(models, test_dataset, method=\"keep_features\")\n",
    "\n",
    "train_fusion_set = InputOutputDataset(train_x, train_y)\n",
    "test_fusion_set = InputOutputDataset(test_x, test_y)\n",
    "\n",
    "train_fusion_loader = DataLoader(train_fusion_set, batch_size=32)\n",
    "test_fusion_loader = DataLoader(test_fusion_set, batch_size=32)"
   ]
  },
  {
   "cell_type": "markdown",
   "metadata": {},
   "source": [
    "## XGBoost"
   ]
  },
  {
   "cell_type": "code",
   "execution_count": 18,
   "metadata": {},
   "outputs": [],
   "source": [
    "boost = xgb.XGBClassifier(tree_method='gpu_hist', objective=\"binary:logistic\")"
   ]
  },
  {
   "cell_type": "code",
   "execution_count": 19,
   "metadata": {},
   "outputs": [
    {
     "name": "stdout",
     "output_type": "stream",
     "text": [
      "Fitting 5 folds for each of 144 candidates, totalling 720 fits\n"
     ]
    },
    {
     "name": "stderr",
     "output_type": "stream",
     "text": [
      "[Parallel(n_jobs=1)]: Using backend SequentialBackend with 1 concurrent workers.\n",
      "[Parallel(n_jobs=1)]: Done 720 out of 720 | elapsed: 14.3min finished\n"
     ]
    },
    {
     "name": "stdout",
     "output_type": "stream",
     "text": [
      "0.7661085136572554\n"
     ]
    }
   ],
   "source": [
    "param_grid = {'max_depth': [3,6,10],\n",
    "           'learning_rate': [0.0001, 0.005, 0.001, 0.005, 0.01, 0.05, 0.1, 0.3],\n",
    "           'n_estimators': [100, 500, 1000],\n",
    "           'colsample_bytree': [0.3, 0.7]}\n",
    "\n",
    "clf = GridSearchCV(estimator=boost, \n",
    "                   param_grid=param_grid,\n",
    "                   scoring='f1', \n",
    "                   verbose=1)\n",
    "\n",
    "clf.fit(train_x, train_y)\n",
    "\n",
    "print(clf.best_score_)"
   ]
  },
  {
   "cell_type": "code",
   "execution_count": 20,
   "metadata": {},
   "outputs": [],
   "source": [
    "with open(MODELS_PATH+'/KeepFeatures/XGBParams.json', 'w', encoding='utf-8') as f:\n",
    "    json.dump(clf.best_params_, f, ensure_ascii=False, indent=4)"
   ]
  },
  {
   "cell_type": "markdown",
   "metadata": {},
   "source": [
    "## SVM"
   ]
  },
  {
   "cell_type": "code",
   "execution_count": 21,
   "metadata": {},
   "outputs": [],
   "source": [
    "svm = SVC()"
   ]
  },
  {
   "cell_type": "code",
   "execution_count": 22,
   "metadata": {},
   "outputs": [
    {
     "name": "stdout",
     "output_type": "stream",
     "text": [
      "Fitting 5 folds for each of 68 candidates, totalling 340 fits\n"
     ]
    },
    {
     "name": "stderr",
     "output_type": "stream",
     "text": [
      "[Parallel(n_jobs=1)]: Using backend SequentialBackend with 1 concurrent workers.\n"
     ]
    },
    {
     "name": "stdout",
     "output_type": "stream",
     "text": [
      "0.7631837442734091\n"
     ]
    },
    {
     "name": "stderr",
     "output_type": "stream",
     "text": [
      "[Parallel(n_jobs=1)]: Done 340 out of 340 | elapsed:   12.4s finished\n"
     ]
    }
   ],
   "source": [
    "param_grid = [\n",
    "    {'C': [1, 10, 100, 1000], 'kernel': ['linear']},\n",
    "    {'C': [1, 10, 100, 1000], 'gamma': [1, 0.1, 0.01, 0.001], 'kernel': ['rbf']},\n",
    "    {'C': [1, 10, 100, 1000], 'gamma': [1, 0.1, 0.01, 0.001], 'degree': [1,2,3], 'kernel': ['poly']}\n",
    "]\n",
    "\n",
    "clf = GridSearchCV(estimator=svm, \n",
    "                   param_grid=param_grid,\n",
    "                   scoring='f1', \n",
    "                   verbose=1)\n",
    "\n",
    "clf.fit(train_x, train_y)\n",
    "\n",
    "print(clf.best_score_)"
   ]
  },
  {
   "cell_type": "code",
   "execution_count": 23,
   "metadata": {},
   "outputs": [],
   "source": [
    "with open(MODELS_PATH+'/KeepFeatures/SVMParams.json', 'w', encoding='utf-8') as f:\n",
    "    json.dump(clf.best_params_, f, ensure_ascii=False, indent=4)"
   ]
  },
  {
   "cell_type": "markdown",
   "metadata": {},
   "source": [
    "## FCNN"
   ]
  },
  {
   "cell_type": "code",
   "execution_count": 24,
   "metadata": {},
   "outputs": [],
   "source": [
    "fusion_model = nn.Sequential(\n",
    "    nn.Linear(in_features=3, out_features=8),\n",
    "    nn.ReLU(inplace=True),\n",
    "    nn.Linear(in_features=8, out_features=32),\n",
    "    nn.ReLU(inplace=True),\n",
    "    nn.Linear(in_features=32, out_features=16),\n",
    "    nn.ReLU(inplace=True),\n",
    "    nn.Linear(in_features=16, out_features=8),\n",
    "    nn.ReLU(inplace=True),\n",
    "    nn.Linear(in_features=8, out_features=1),\n",
    ")\n",
    "\n",
    "fusion_model = fusion_model.to(device).float()"
   ]
  },
  {
   "cell_type": "code",
   "execution_count": 25,
   "metadata": {},
   "outputs": [],
   "source": [
    "models = {\n",
    "    \"image_model\": None,\n",
    "    \"tabular_model\": None,\n",
    "    \"fusion_model\": fusion_model,\n",
    "}\n",
    "\n",
    "early_stop = {\n",
    "    \"patience\": 20,\n",
    "    \"min_delta\": 0,\n",
    "    \"multip\": 10\n",
    "}\n",
    "\n",
    "optimizer = torch.optim.Adam([\n",
    "    {'params': fusion_model.parameters(), 'lr': 1e-4}],\n",
    ")"
   ]
  },
  {
   "cell_type": "code",
   "execution_count": 26,
   "metadata": {},
   "outputs": [
    {
     "name": "stderr",
     "output_type": "stream",
     "text": [
      "Batch in Progress:  66%|████████████████████████████▏              | 19/29 [00:00<00:00, 170.72it/s]"
     ]
    },
    {
     "name": "stdout",
     "output_type": "stream",
     "text": [
      "Beginning Training: \n",
      "\n",
      "Epoch 1/1000\n"
     ]
    },
    {
     "name": "stderr",
     "output_type": "stream",
     "text": [
      "Batch in Progress: 100%|███████████████████████████████████████████| 29/29 [00:00<00:00, 171.46it/s]\n",
      "Batch in Progress:   0%|                                                      | 0/8 [00:00<?, ?it/s]"
     ]
    },
    {
     "name": "stdout",
     "output_type": "stream",
     "text": [
      "Train Set:\n",
      "    Average Loss:  0.693390,    Accuracy: 42.95%,    Correct Counter: 393/915,    F1 Score: 0.57,    Precision: 0.45,    Recall:  0.78 \n",
      "\n"
     ]
    },
    {
     "name": "stderr",
     "output_type": "stream",
     "text": [
      "Batch in Progress: 100%|█████████████████████████████████████████████| 8/8 [00:00<00:00, 221.19it/s]\n",
      "Batch in Progress: 100%|███████████████████████████████████████████| 29/29 [00:00<00:00, 200.81it/s]"
     ]
    },
    {
     "name": "stdout",
     "output_type": "stream",
     "text": [
      "Validation Set:\n",
      "    Average Loss:  0.693317,    Accuracy: 40.79%,    Correct Counter: 93/228,    F1 Score: 0.56,    Precision: 0.44,    Recall:  0.76 \n",
      "\n",
      "Epoch 2/1000\n"
     ]
    },
    {
     "name": "stderr",
     "output_type": "stream",
     "text": [
      "\n",
      "Batch in Progress: 100%|█████████████████████████████████████████████| 8/8 [00:00<00:00, 800.27it/s]\n",
      "Batch in Progress:   0%|                                                     | 0/29 [00:00<?, ?it/s]"
     ]
    },
    {
     "name": "stdout",
     "output_type": "stream",
     "text": [
      "Train Set:\n",
      "    Average Loss:  0.693202,    Accuracy: 46.99%,    Correct Counter: 430/915,    F1 Score: 0.60,    Precision: 0.47,    Recall:  0.82 \n",
      "\n",
      "Validation Set:\n",
      "    Average Loss:  0.693144,    Accuracy: 43.42%,    Correct Counter: 99/228,    F1 Score: 0.57,    Precision: 0.46,    Recall:  0.74 \n",
      "\n",
      "Epoch 3/1000\n"
     ]
    },
    {
     "name": "stderr",
     "output_type": "stream",
     "text": [
      "Batch in Progress: 100%|███████████████████████████████████████████| 29/29 [00:00<00:00, 206.15it/s]\n",
      "Batch in Progress: 100%|█████████████████████████████████████████████| 8/8 [00:00<00:00, 282.26it/s]"
     ]
    },
    {
     "name": "stdout",
     "output_type": "stream",
     "text": [
      "Train Set:\n",
      "    Average Loss:  0.693019,    Accuracy: 53.01%,    Correct Counter: 485/915,    F1 Score: 0.63,    Precision: 0.51,    Recall:  0.83 \n",
      "\n"
     ]
    },
    {
     "name": "stderr",
     "output_type": "stream",
     "text": [
      "\n",
      "Batch in Progress: 100%|███████████████████████████████████████████| 29/29 [00:00<00:00, 224.18it/s]\n",
      "Batch in Progress: 100%|████████████████████████████████████████████| 8/8 [00:00<00:00, 1161.05it/s]"
     ]
    },
    {
     "name": "stdout",
     "output_type": "stream",
     "text": [
      "Validation Set:\n",
      "    Average Loss:  0.692966,    Accuracy: 49.12%,    Correct Counter: 112/228,    F1 Score: 0.60,    Precision: 0.49,    Recall:  0.76 \n",
      "\n",
      "Epoch 4/1000\n",
      "Train Set:\n",
      "    Average Loss:  0.692824,    Accuracy: 60.87%,    Correct Counter: 557/915,    F1 Score: 0.67,    Precision: 0.57,    Recall:  0.80 \n",
      "\n"
     ]
    },
    {
     "name": "stderr",
     "output_type": "stream",
     "text": [
      "\n",
      "Batch in Progress:   0%|                                                     | 0/29 [00:00<?, ?it/s]"
     ]
    },
    {
     "name": "stdout",
     "output_type": "stream",
     "text": [
      "Validation Set:\n",
      "    Average Loss:  0.692772,    Accuracy: 58.33%,    Correct Counter: 133/228,    F1 Score: 0.67,    Precision: 0.55,    Recall:  0.85 \n",
      "\n",
      "Epoch 5/1000\n"
     ]
    },
    {
     "name": "stderr",
     "output_type": "stream",
     "text": [
      "Batch in Progress: 100%|███████████████████████████████████████████| 29/29 [00:00<00:00, 219.22it/s]\n",
      "Batch in Progress: 100%|█████████████████████████████████████████████| 8/8 [00:00<00:00, 548.71it/s]\n",
      "Batch in Progress:   0%|                                                     | 0/29 [00:00<?, ?it/s]"
     ]
    },
    {
     "name": "stdout",
     "output_type": "stream",
     "text": [
      "Train Set:\n",
      "    Average Loss:  0.692609,    Accuracy: 64.81%,    Correct Counter: 593/915,    F1 Score: 0.68,    Precision: 0.61,    Recall:  0.79 \n",
      "\n",
      "Validation Set:\n",
      "    Average Loss:  0.692556,    Accuracy: 63.60%,    Correct Counter: 145/228,    F1 Score: 0.71,    Precision: 0.59,    Recall:  0.88 \n",
      "\n",
      "Epoch 6/1000\n"
     ]
    },
    {
     "name": "stderr",
     "output_type": "stream",
     "text": [
      "Batch in Progress: 100%|███████████████████████████████████████████| 29/29 [00:00<00:00, 200.74it/s]\n",
      "Batch in Progress: 100%|█████████████████████████████████████████████| 8/8 [00:00<00:00, 556.70it/s]\n",
      "Batch in Progress:   0%|                                                     | 0/29 [00:00<?, ?it/s]"
     ]
    },
    {
     "name": "stdout",
     "output_type": "stream",
     "text": [
      "Train Set:\n",
      "    Average Loss:  0.692370,    Accuracy: 66.78%,    Correct Counter: 611/915,    F1 Score: 0.70,    Precision: 0.62,    Recall:  0.79 \n",
      "\n",
      "Validation Set:\n",
      "    Average Loss:  0.692323,    Accuracy: 67.54%,    Correct Counter: 154/228,    F1 Score: 0.73,    Precision: 0.62,    Recall:  0.89 \n",
      "\n",
      "Epoch 7/1000\n"
     ]
    },
    {
     "name": "stderr",
     "output_type": "stream",
     "text": [
      "Batch in Progress: 100%|███████████████████████████████████████████| 29/29 [00:00<00:00, 222.63it/s]\n",
      "Batch in Progress: 100%|█████████████████████████████████████████████| 8/8 [00:00<00:00, 520.46it/s]\n",
      "Batch in Progress:   0%|                                                     | 0/29 [00:00<?, ?it/s]"
     ]
    },
    {
     "name": "stdout",
     "output_type": "stream",
     "text": [
      "Train Set:\n",
      "    Average Loss:  0.692109,    Accuracy: 68.52%,    Correct Counter: 627/915,    F1 Score: 0.71,    Precision: 0.64,    Recall:  0.80 \n",
      "\n",
      "Validation Set:\n",
      "    Average Loss:  0.692067,    Accuracy: 69.30%,    Correct Counter: 158/228,    F1 Score: 0.74,    Precision: 0.64,    Recall:  0.89 \n",
      "\n",
      "Epoch 8/1000\n"
     ]
    },
    {
     "name": "stderr",
     "output_type": "stream",
     "text": [
      "Batch in Progress: 100%|███████████████████████████████████████████| 29/29 [00:00<00:00, 204.85it/s]\n",
      "Batch in Progress: 100%|█████████████████████████████████████████████| 8/8 [00:00<00:00, 434.56it/s]\n"
     ]
    },
    {
     "name": "stdout",
     "output_type": "stream",
     "text": [
      "Train Set:\n",
      "    Average Loss:  0.691812,    Accuracy: 69.40%,    Correct Counter: 635/915,    F1 Score: 0.72,    Precision: 0.65,    Recall:  0.80 \n",
      "\n",
      "Validation Set:"
     ]
    },
    {
     "name": "stderr",
     "output_type": "stream",
     "text": [
      "Batch in Progress: 100%|███████████████████████████████████████████| 29/29 [00:00<00:00, 242.82it/s]\n",
      "Batch in Progress: 100%|█████████████████████████████████████████████| 8/8 [00:00<00:00, 563.57it/s]\n",
      "Batch in Progress:   0%|                                                     | 0/29 [00:00<?, ?it/s]"
     ]
    },
    {
     "name": "stdout",
     "output_type": "stream",
     "text": [
      "\n",
      "    Average Loss:  0.691767,    Accuracy: 69.74%,    Correct Counter: 159/228,    F1 Score: 0.74,    Precision: 0.64,    Recall:  0.88 \n",
      "\n",
      "Epoch 9/1000\n",
      "Train Set:\n",
      "    Average Loss:  0.691443,    Accuracy: 69.40%,    Correct Counter: 635/915,    F1 Score: 0.71,    Precision: 0.65,    Recall:  0.79 \n",
      "\n",
      "Validation Set:\n",
      "    Average Loss:  0.691387,    Accuracy: 67.98%,    Correct Counter: 155/228,    F1 Score: 0.72,    Precision: 0.63,    Recall:  0.84 \n",
      "\n",
      "Epoch 10/1000\n"
     ]
    },
    {
     "name": "stderr",
     "output_type": "stream",
     "text": [
      "Batch in Progress: 100%|███████████████████████████████████████████| 29/29 [00:00<00:00, 222.85it/s]\n",
      "Batch in Progress: 100%|█████████████████████████████████████████████| 8/8 [00:00<00:00, 546.11it/s]\n",
      "Batch in Progress:   0%|                                                     | 0/29 [00:00<?, ?it/s]"
     ]
    },
    {
     "name": "stdout",
     "output_type": "stream",
     "text": [
      "Train Set:\n",
      "    Average Loss:  0.690959,    Accuracy: 69.84%,    Correct Counter: 639/915,    F1 Score: 0.72,    Precision: 0.66,    Recall:  0.78 \n",
      "\n",
      "Validation Set:\n",
      "    Average Loss:  0.690869,    Accuracy: 68.42%,    Correct Counter: 156/228,    F1 Score: 0.72,    Precision: 0.64,    Recall:  0.83 \n",
      "\n",
      "Epoch 11/1000\n"
     ]
    },
    {
     "name": "stderr",
     "output_type": "stream",
     "text": [
      "Batch in Progress: 100%|███████████████████████████████████████████| 29/29 [00:00<00:00, 239.61it/s]\n",
      "Batch in Progress: 100%|█████████████████████████████████████████████| 8/8 [00:00<00:00, 652.32it/s]\n",
      "Batch in Progress:   0%|                                                     | 0/29 [00:00<?, ?it/s]"
     ]
    },
    {
     "name": "stdout",
     "output_type": "stream",
     "text": [
      "Train Set:\n",
      "    Average Loss:  0.690149,    Accuracy: 70.49%,    Correct Counter: 645/915,    F1 Score: 0.72,    Precision: 0.67,    Recall:  0.78 \n",
      "\n",
      "Validation Set:\n",
      "    Average Loss:  0.689944,    Accuracy: 68.42%,    Correct Counter: 156/228,    F1 Score: 0.72,    Precision: 0.64,    Recall:  0.81 \n",
      "\n",
      "Epoch 12/1000\n"
     ]
    },
    {
     "name": "stderr",
     "output_type": "stream",
     "text": [
      "Batch in Progress: 100%|███████████████████████████████████████████| 29/29 [00:00<00:00, 236.31it/s]\n",
      "Batch in Progress:   0%|                                                      | 0/8 [00:00<?, ?it/s]"
     ]
    },
    {
     "name": "stdout",
     "output_type": "stream",
     "text": [
      "Train Set:\n",
      "    Average Loss:  0.688655,    Accuracy: 68.74%,    Correct Counter: 629/915,    F1 Score: 0.69,    Precision: 0.66,    Recall:  0.73 \n",
      "\n"
     ]
    },
    {
     "name": "stderr",
     "output_type": "stream",
     "text": [
      "Batch in Progress: 100%|█████████████████████████████████████████████| 8/8 [00:00<00:00, 329.07it/s]\n",
      "Batch in Progress: 100%|███████████████████████████████████████████| 29/29 [00:00<00:00, 247.70it/s]\n",
      "Batch in Progress: 100%|█████████████████████████████████████████████| 8/8 [00:00<00:00, 579.42it/s]\n",
      "Batch in Progress:   0%|                                                     | 0/29 [00:00<?, ?it/s]"
     ]
    },
    {
     "name": "stdout",
     "output_type": "stream",
     "text": [
      "Validation Set:\n",
      "    Average Loss:  0.688549,    Accuracy: 67.11%,    Correct Counter: 153/228,    F1 Score: 0.68,    Precision: 0.66,    Recall:  0.70 \n",
      "\n",
      "Epoch 13/1000\n",
      "Train Set:\n",
      "    Average Loss:  0.686906,    Accuracy: 66.78%,    Correct Counter: 611/915,    F1 Score: 0.64,    Precision: 0.67,    Recall:  0.62 \n",
      "\n",
      "Validation Set:\n",
      "    Average Loss:  0.686995,    Accuracy: 67.98%,    Correct Counter: 155/228,    F1 Score: 0.69,    Precision: 0.67,    Recall:  0.71 \n",
      "\n",
      "Epoch 14/1000\n"
     ]
    },
    {
     "name": "stderr",
     "output_type": "stream",
     "text": [
      "Batch in Progress: 100%|███████████████████████████████████████████| 29/29 [00:00<00:00, 214.41it/s]\n",
      "Batch in Progress: 100%|█████████████████████████████████████████████| 8/8 [00:00<00:00, 762.51it/s]\n",
      "Batch in Progress: 100%|███████████████████████████████████████████| 29/29 [00:00<00:00, 222.27it/s]\n",
      "Batch in Progress: 100%|█████████████████████████████████████████████| 8/8 [00:00<00:00, 546.42it/s]\n",
      "Batch in Progress:   0%|                                                     | 0/29 [00:00<?, ?it/s]"
     ]
    },
    {
     "name": "stdout",
     "output_type": "stream",
     "text": [
      "Train Set:\n",
      "    Average Loss:  0.684942,    Accuracy: 66.56%,    Correct Counter: 609/915,    F1 Score: 0.64,    Precision: 0.67,    Recall:  0.62 \n",
      "\n",
      "Validation Set:\n",
      "    Average Loss:  0.685338,    Accuracy: 69.30%,    Correct Counter: 158/228,    F1 Score: 0.70,    Precision: 0.68,    Recall:  0.73 \n",
      "\n",
      "Epoch 15/1000\n",
      "Train Set:\n",
      "    Average Loss:  0.682839,    Accuracy: 67.21%,    Correct Counter: 615/915,    F1 Score: 0.65,    Precision: 0.67,    Recall:  0.64 \n",
      "\n",
      "Validation Set:\n",
      "    Average Loss:  0.683602,    Accuracy: 69.30%,    Correct Counter: 158/228,    F1 Score: 0.70,    Precision: 0.68,    Recall:  0.73 \n",
      "\n",
      "Epoch 16/1000\n"
     ]
    },
    {
     "name": "stderr",
     "output_type": "stream",
     "text": [
      "Batch in Progress: 100%|███████████████████████████████████████████| 29/29 [00:00<00:00, 240.02it/s]\n",
      "Batch in Progress: 100%|█████████████████████████████████████████████| 8/8 [00:00<00:00, 639.41it/s]\n",
      "Batch in Progress: 100%|███████████████████████████████████████████| 29/29 [00:00<00:00, 240.60it/s]\n",
      "Batch in Progress: 100%|█████████████████████████████████████████████| 8/8 [00:00<00:00, 507.54it/s]\n",
      "Batch in Progress:   0%|                                                     | 0/29 [00:00<?, ?it/s]"
     ]
    },
    {
     "name": "stdout",
     "output_type": "stream",
     "text": [
      "Train Set:\n",
      "    Average Loss:  0.680663,    Accuracy: 66.99%,    Correct Counter: 613/915,    F1 Score: 0.66,    Precision: 0.66,    Recall:  0.65 \n",
      "\n",
      "Validation Set:\n",
      "    Average Loss:  0.681738,    Accuracy: 69.74%,    Correct Counter: 159/228,    F1 Score: 0.71,    Precision: 0.68,    Recall:  0.73 \n",
      "\n",
      "Epoch 17/1000\n",
      "Train Set:\n",
      "    Average Loss:  0.678329,    Accuracy: 67.98%,    Correct Counter: 622/915,    F1 Score: 0.68,    Precision: 0.66,    Recall:  0.69 \n",
      "\n",
      "Validation Set:\n",
      "    Average Loss:  0.679688,    Accuracy: 69.74%,    Correct Counter: 159/228,    F1 Score: 0.71,    Precision: 0.67,    Recall:  0.75 \n",
      "\n",
      "Epoch 18/1000\n"
     ]
    },
    {
     "name": "stderr",
     "output_type": "stream",
     "text": [
      "Batch in Progress: 100%|███████████████████████████████████████████| 29/29 [00:00<00:00, 242.31it/s]\n",
      "Batch in Progress: 100%|█████████████████████████████████████████████| 8/8 [00:00<00:00, 436.71it/s]\n",
      "Batch in Progress: 100%|███████████████████████████████████████████| 29/29 [00:00<00:00, 220.28it/s]\n",
      "Batch in Progress: 100%|█████████████████████████████████████████████| 8/8 [00:00<00:00, 541.67it/s]\n",
      "Batch in Progress:   0%|                                                     | 0/29 [00:00<?, ?it/s]"
     ]
    },
    {
     "name": "stdout",
     "output_type": "stream",
     "text": [
      "Train Set:\n",
      "    Average Loss:  0.675806,    Accuracy: 68.42%,    Correct Counter: 626/915,    F1 Score: 0.69,    Precision: 0.66,    Recall:  0.71 \n",
      "\n",
      "Validation Set:\n",
      "    Average Loss:  0.677453,    Accuracy: 68.86%,    Correct Counter: 157/228,    F1 Score: 0.71,    Precision: 0.66,    Recall:  0.76 \n",
      "\n",
      "Epoch 19/1000\n",
      "Train Set:\n",
      "    Average Loss:  0.673006,    Accuracy: 69.07%,    Correct Counter: 632/915,    F1 Score: 0.69,    Precision: 0.67,    Recall:  0.72 \n",
      "\n",
      "Validation Set:\n",
      "    Average Loss:  0.674923,    Accuracy: 68.86%,    Correct Counter: 157/228,    F1 Score: 0.71,    Precision: 0.66,    Recall:  0.78 \n",
      "\n",
      "Epoch 20/1000\n"
     ]
    },
    {
     "name": "stderr",
     "output_type": "stream",
     "text": [
      "Batch in Progress: 100%|███████████████████████████████████████████| 29/29 [00:00<00:00, 246.51it/s]\n",
      "Batch in Progress: 100%|█████████████████████████████████████████████| 8/8 [00:00<00:00, 518.46it/s]\n",
      "Batch in Progress: 100%|███████████████████████████████████████████| 29/29 [00:00<00:00, 241.49it/s]\n",
      "Batch in Progress: 100%|█████████████████████████████████████████████| 8/8 [00:00<00:00, 586.23it/s]\n",
      "Batch in Progress:   0%|                                                     | 0/29 [00:00<?, ?it/s]"
     ]
    },
    {
     "name": "stdout",
     "output_type": "stream",
     "text": [
      "Train Set:\n",
      "    Average Loss:  0.669848,    Accuracy: 69.40%,    Correct Counter: 635/915,    F1 Score: 0.70,    Precision: 0.67,    Recall:  0.74 \n",
      "\n",
      "Validation Set:\n",
      "    Average Loss:  0.672090,    Accuracy: 69.30%,    Correct Counter: 158/228,    F1 Score: 0.72,    Precision: 0.66,    Recall:  0.80 \n",
      "\n",
      "Epoch 21/1000\n",
      "Train Set:\n",
      "    Average Loss:  0.666331,    Accuracy: 69.73%,    Correct Counter: 638/915,    F1 Score: 0.71,    Precision: 0.67,    Recall:  0.75 \n",
      "\n",
      "Validation Set:\n",
      "    Average Loss:  0.668947,    Accuracy: 69.74%,    Correct Counter: 159/228,    F1 Score: 0.73,    Precision: 0.66,    Recall:  0.81 \n",
      "\n",
      "Epoch 22/1000\n"
     ]
    },
    {
     "name": "stderr",
     "output_type": "stream",
     "text": [
      "Batch in Progress: 100%|███████████████████████████████████████████| 29/29 [00:00<00:00, 222.45it/s]\n",
      "Batch in Progress: 100%|█████████████████████████████████████████████| 8/8 [00:00<00:00, 521.31it/s]\n",
      "Batch in Progress: 100%|███████████████████████████████████████████| 29/29 [00:00<00:00, 251.76it/s]\n",
      "Batch in Progress: 100%|█████████████████████████████████████████████| 8/8 [00:00<00:00, 486.25it/s]\n",
      "Batch in Progress:   0%|                                                     | 0/29 [00:00<?, ?it/s]"
     ]
    },
    {
     "name": "stdout",
     "output_type": "stream",
     "text": [
      "Train Set:\n",
      "    Average Loss:  0.662436,    Accuracy: 69.73%,    Correct Counter: 638/915,    F1 Score: 0.71,    Precision: 0.66,    Recall:  0.76 \n",
      "\n",
      "Validation Set:\n",
      "    Average Loss:  0.665494,    Accuracy: 69.74%,    Correct Counter: 159/228,    F1 Score: 0.73,    Precision: 0.66,    Recall:  0.81 \n",
      "\n",
      "Epoch 23/1000\n",
      "Train Set:\n",
      "    Average Loss:  0.658146,    Accuracy: 69.73%,    Correct Counter: 638/915,    F1 Score: 0.71,    Precision: 0.66,    Recall:  0.76 \n",
      "\n",
      "Validation Set:\n",
      "    Average Loss:  0.661725,    Accuracy: 69.74%,    Correct Counter: 159/228,    F1 Score: 0.73,    Precision: 0.66,    Recall:  0.81 \n",
      "\n",
      "Epoch 24/1000\n"
     ]
    },
    {
     "name": "stderr",
     "output_type": "stream",
     "text": [
      "Batch in Progress: 100%|███████████████████████████████████████████| 29/29 [00:00<00:00, 235.37it/s]\n",
      "Batch in Progress: 100%|█████████████████████████████████████████████| 8/8 [00:00<00:00, 933.70it/s]\n",
      "Batch in Progress: 100%|███████████████████████████████████████████| 29/29 [00:00<00:00, 249.07it/s]\n",
      "Batch in Progress: 100%|█████████████████████████████████████████████| 8/8 [00:00<00:00, 544.99it/s]\n",
      "Batch in Progress:   0%|                                                     | 0/29 [00:00<?, ?it/s]"
     ]
    },
    {
     "name": "stdout",
     "output_type": "stream",
     "text": [
      "Train Set:\n",
      "    Average Loss:  0.653431,    Accuracy: 70.27%,    Correct Counter: 643/915,    F1 Score: 0.72,    Precision: 0.67,    Recall:  0.77 \n",
      "\n",
      "Validation Set:\n",
      "    Average Loss:  0.657638,    Accuracy: 69.74%,    Correct Counter: 159/228,    F1 Score: 0.73,    Precision: 0.66,    Recall:  0.81 \n",
      "\n",
      "Epoch 25/1000\n",
      "Train Set:\n",
      "    Average Loss:  0.648332,    Accuracy: 70.60%,    Correct Counter: 646/915,    F1 Score: 0.72,    Precision: 0.67,    Recall:  0.78 \n",
      "\n",
      "Validation Set:\n",
      "    Average Loss:  0.653246,    Accuracy: 69.74%,    Correct Counter: 159/228,    F1 Score: 0.73,    Precision: 0.66,    Recall:  0.81 \n",
      "\n",
      "Epoch 26/1000\n"
     ]
    },
    {
     "name": "stderr",
     "output_type": "stream",
     "text": [
      "Batch in Progress: 100%|███████████████████████████████████████████| 29/29 [00:00<00:00, 242.37it/s]\n",
      "Batch in Progress: 100%|█████████████████████████████████████████████| 8/8 [00:00<00:00, 633.82it/s]\n",
      "Batch in Progress: 100%|███████████████████████████████████████████| 29/29 [00:00<00:00, 243.31it/s]\n",
      "Batch in Progress: 100%|█████████████████████████████████████████████| 8/8 [00:00<00:00, 593.98it/s]\n",
      "Batch in Progress:   0%|                                                     | 0/29 [00:00<?, ?it/s]"
     ]
    },
    {
     "name": "stdout",
     "output_type": "stream",
     "text": [
      "Train Set:\n",
      "    Average Loss:  0.642884,    Accuracy: 70.71%,    Correct Counter: 647/915,    F1 Score: 0.72,    Precision: 0.67,    Recall:  0.79 \n",
      "\n",
      "Validation Set:\n",
      "    Average Loss:  0.648610,    Accuracy: 69.74%,    Correct Counter: 159/228,    F1 Score: 0.73,    Precision: 0.66,    Recall:  0.81 \n",
      "\n",
      "Epoch 27/1000\n",
      "Train Set:\n",
      "    Average Loss:  0.637125,    Accuracy: 70.82%,    Correct Counter: 648/915,    F1 Score: 0.72,    Precision: 0.67,    Recall:  0.79 \n",
      "\n",
      "Validation Set:\n",
      "    Average Loss:  0.643754,    Accuracy: 69.74%,    Correct Counter: 159/228,    F1 Score: 0.73,    Precision: 0.66,    Recall:  0.81 \n",
      "\n",
      "Epoch 28/1000\n"
     ]
    },
    {
     "name": "stderr",
     "output_type": "stream",
     "text": [
      "Batch in Progress: 100%|███████████████████████████████████████████| 29/29 [00:00<00:00, 222.66it/s]\n",
      "Batch in Progress: 100%|█████████████████████████████████████████████| 8/8 [00:00<00:00, 546.09it/s]\n",
      "Batch in Progress: 100%|███████████████████████████████████████████| 29/29 [00:00<00:00, 245.24it/s]\n",
      "Batch in Progress: 100%|█████████████████████████████████████████████| 8/8 [00:00<00:00, 526.88it/s]\n",
      "Batch in Progress:   0%|                                                     | 0/29 [00:00<?, ?it/s]"
     ]
    },
    {
     "name": "stdout",
     "output_type": "stream",
     "text": [
      "Train Set:\n",
      "    Average Loss:  0.631123,    Accuracy: 70.93%,    Correct Counter: 649/915,    F1 Score: 0.73,    Precision: 0.67,    Recall:  0.79 \n",
      "\n",
      "Validation Set:\n",
      "    Average Loss:  0.638756,    Accuracy: 69.74%,    Correct Counter: 159/228,    F1 Score: 0.73,    Precision: 0.66,    Recall:  0.81 \n",
      "\n",
      "Epoch 29/1000\n",
      "Train Set:\n",
      "    Average Loss:  0.624960,    Accuracy: 70.93%,    Correct Counter: 649/915,    F1 Score: 0.73,    Precision: 0.67,    Recall:  0.79 \n",
      "\n",
      "Validation Set:\n",
      "    Average Loss:  0.633653,    Accuracy: 69.74%,    Correct Counter: 159/228,    F1 Score: 0.73,    Precision: 0.66,    Recall:  0.81 \n",
      "\n",
      "Epoch 30/1000\n"
     ]
    },
    {
     "name": "stderr",
     "output_type": "stream",
     "text": [
      "Batch in Progress: 100%|███████████████████████████████████████████| 29/29 [00:00<00:00, 215.84it/s]\n",
      "Batch in Progress: 100%|█████████████████████████████████████████████| 8/8 [00:00<00:00, 705.62it/s]\n",
      "Batch in Progress: 100%|███████████████████████████████████████████| 29/29 [00:00<00:00, 254.76it/s]\n",
      "Batch in Progress: 100%|█████████████████████████████████████████████| 8/8 [00:00<00:00, 578.03it/s]\n",
      "Batch in Progress:   0%|                                                     | 0/29 [00:00<?, ?it/s]"
     ]
    },
    {
     "name": "stdout",
     "output_type": "stream",
     "text": [
      "Train Set:\n",
      "    Average Loss:  0.618685,    Accuracy: 70.93%,    Correct Counter: 649/915,    F1 Score: 0.73,    Precision: 0.67,    Recall:  0.79 \n",
      "\n",
      "Validation Set:\n",
      "    Average Loss:  0.628537,    Accuracy: 69.74%,    Correct Counter: 159/228,    F1 Score: 0.73,    Precision: 0.66,    Recall:  0.81 \n",
      "\n",
      "Epoch 31/1000\n",
      "Train Set:\n",
      "    Average Loss:  0.612367,    Accuracy: 71.15%,    Correct Counter: 651/915,    F1 Score: 0.73,    Precision: 0.67,    Recall:  0.80 \n",
      "\n",
      "Validation Set:\n",
      "    Average Loss:  0.623509,    Accuracy: 69.74%,    Correct Counter: 159/228,    F1 Score: 0.73,    Precision: 0.65,    Recall:  0.82 \n",
      "\n",
      "Epoch 32/1000\n"
     ]
    },
    {
     "name": "stderr",
     "output_type": "stream",
     "text": [
      "Batch in Progress: 100%|███████████████████████████████████████████| 29/29 [00:00<00:00, 243.92it/s]\n",
      "Batch in Progress: 100%|█████████████████████████████████████████████| 8/8 [00:00<00:00, 545.25it/s]\n",
      "Batch in Progress: 100%|███████████████████████████████████████████| 29/29 [00:00<00:00, 244.39it/s]\n",
      "Batch in Progress: 100%|█████████████████████████████████████████████| 8/8 [00:00<00:00, 416.02it/s]\n",
      "Batch in Progress:   0%|                                                     | 0/29 [00:00<?, ?it/s]"
     ]
    },
    {
     "name": "stdout",
     "output_type": "stream",
     "text": [
      "Train Set:\n",
      "    Average Loss:  0.606098,    Accuracy: 71.37%,    Correct Counter: 653/915,    F1 Score: 0.73,    Precision: 0.67,    Recall:  0.81 \n",
      "\n",
      "Validation Set:\n",
      "    Average Loss:  0.618672,    Accuracy: 70.18%,    Correct Counter: 160/228,    F1 Score: 0.73,    Precision: 0.66,    Recall:  0.83 \n",
      "\n",
      "Epoch 33/1000\n",
      "Train Set:\n",
      "    Average Loss:  0.599958,    Accuracy: 71.48%,    Correct Counter: 654/915,    F1 Score: 0.74,    Precision: 0.67,    Recall:  0.82 \n",
      "\n",
      "Validation Set:\n",
      "    Average Loss:  0.614056,    Accuracy: 69.74%,    Correct Counter: 159/228,    F1 Score: 0.73,    Precision: 0.65,    Recall:  0.83 \n",
      "\n",
      "Epoch 34/1000\n"
     ]
    },
    {
     "name": "stderr",
     "output_type": "stream",
     "text": [
      "Batch in Progress: 100%|███████████████████████████████████████████| 29/29 [00:00<00:00, 262.97it/s]\n",
      "Batch in Progress: 100%|█████████████████████████████████████████████| 8/8 [00:00<00:00, 510.66it/s]\n",
      "Batch in Progress: 100%|███████████████████████████████████████████| 29/29 [00:00<00:00, 245.52it/s]\n",
      "Batch in Progress: 100%|█████████████████████████████████████████████| 8/8 [00:00<00:00, 539.01it/s]\n",
      "Batch in Progress:   0%|                                                     | 0/29 [00:00<?, ?it/s]"
     ]
    },
    {
     "name": "stdout",
     "output_type": "stream",
     "text": [
      "Train Set:\n",
      "    Average Loss:  0.594030,    Accuracy: 71.58%,    Correct Counter: 655/915,    F1 Score: 0.74,    Precision: 0.67,    Recall:  0.82 \n",
      "\n",
      "Validation Set:\n",
      "    Average Loss:  0.609672,    Accuracy: 70.61%,    Correct Counter: 161/228,    F1 Score: 0.74,    Precision: 0.66,    Recall:  0.85 \n",
      "\n",
      "Epoch 35/1000\n",
      "Train Set:\n",
      "    Average Loss:  0.588402,    Accuracy: 72.02%,    Correct Counter: 659/915,    F1 Score: 0.74,    Precision: 0.67,    Recall:  0.83 \n",
      "\n",
      "Validation Set:\n",
      "    Average Loss:  0.605637,    Accuracy: 70.61%,    Correct Counter: 161/228,    F1 Score: 0.74,    Precision: 0.66,    Recall:  0.85 \n",
      "\n",
      "Epoch 36/1000\n"
     ]
    },
    {
     "name": "stderr",
     "output_type": "stream",
     "text": [
      "Batch in Progress: 100%|███████████████████████████████████████████| 29/29 [00:00<00:00, 240.93it/s]\n",
      "Batch in Progress: 100%|█████████████████████████████████████████████| 8/8 [00:00<00:00, 510.50it/s]\n",
      "Batch in Progress: 100%|███████████████████████████████████████████| 29/29 [00:00<00:00, 244.80it/s]\n",
      "Batch in Progress: 100%|█████████████████████████████████████████████| 8/8 [00:00<00:00, 559.92it/s]\n",
      "Batch in Progress:   0%|                                                     | 0/29 [00:00<?, ?it/s]"
     ]
    },
    {
     "name": "stdout",
     "output_type": "stream",
     "text": [
      "Train Set:\n",
      "    Average Loss:  0.583100,    Accuracy: 72.02%,    Correct Counter: 659/915,    F1 Score: 0.74,    Precision: 0.67,    Recall:  0.83 \n",
      "\n",
      "Validation Set:\n",
      "    Average Loss:  0.601972,    Accuracy: 70.18%,    Correct Counter: 160/228,    F1 Score: 0.74,    Precision: 0.65,    Recall:  0.85 \n",
      "\n",
      "Epoch 37/1000\n",
      "Train Set:\n",
      "    Average Loss:  0.578146,    Accuracy: 71.91%,    Correct Counter: 658/915,    F1 Score: 0.74,    Precision: 0.67,    Recall:  0.84 \n",
      "\n",
      "Validation Set:\n",
      "    Average Loss:  0.598692,    Accuracy: 68.86%,    Correct Counter: 157/228,    F1 Score: 0.73,    Precision: 0.64,    Recall:  0.85 \n",
      "\n",
      "Epoch 38/1000\n"
     ]
    },
    {
     "name": "stderr",
     "output_type": "stream",
     "text": [
      "Batch in Progress: 100%|███████████████████████████████████████████| 29/29 [00:00<00:00, 248.81it/s]\n",
      "Batch in Progress: 100%|█████████████████████████████████████████████| 8/8 [00:00<00:00, 543.24it/s]\n",
      "Batch in Progress: 100%|███████████████████████████████████████████| 29/29 [00:00<00:00, 243.76it/s]\n",
      "Batch in Progress: 100%|█████████████████████████████████████████████| 8/8 [00:00<00:00, 547.84it/s]\n",
      "Batch in Progress:   0%|                                                     | 0/29 [00:00<?, ?it/s]"
     ]
    },
    {
     "name": "stdout",
     "output_type": "stream",
     "text": [
      "Train Set:\n",
      "    Average Loss:  0.573608,    Accuracy: 72.13%,    Correct Counter: 660/915,    F1 Score: 0.75,    Precision: 0.67,    Recall:  0.84 \n",
      "\n",
      "Validation Set:\n",
      "    Average Loss:  0.595857,    Accuracy: 68.86%,    Correct Counter: 157/228,    F1 Score: 0.73,    Precision: 0.64,    Recall:  0.86 \n",
      "\n",
      "Epoch 39/1000\n",
      "Train Set:\n",
      "    Average Loss:  0.569503,    Accuracy: 71.91%,    Correct Counter: 658/915,    F1 Score: 0.75,    Precision: 0.66,    Recall:  0.85 \n",
      "\n",
      "Validation Set:\n",
      "    Average Loss:  0.593414,    Accuracy: 68.86%,    Correct Counter: 157/228,    F1 Score: 0.73,    Precision: 0.64,    Recall:  0.86 \n",
      "\n",
      "Epoch 40/1000\n"
     ]
    },
    {
     "name": "stderr",
     "output_type": "stream",
     "text": [
      "Batch in Progress: 100%|███████████████████████████████████████████| 29/29 [00:00<00:00, 220.97it/s]\n",
      "Batch in Progress: 100%|█████████████████████████████████████████████| 8/8 [00:00<00:00, 554.36it/s]\n",
      "Batch in Progress: 100%|███████████████████████████████████████████| 29/29 [00:00<00:00, 220.43it/s]\n",
      "Batch in Progress: 100%|█████████████████████████████████████████████| 8/8 [00:00<00:00, 588.96it/s]\n",
      "Batch in Progress:   0%|                                                     | 0/29 [00:00<?, ?it/s]"
     ]
    },
    {
     "name": "stdout",
     "output_type": "stream",
     "text": [
      "Train Set:\n",
      "    Average Loss:  0.565831,    Accuracy: 72.02%,    Correct Counter: 659/915,    F1 Score: 0.75,    Precision: 0.67,    Recall:  0.85 \n",
      "\n",
      "Validation Set:\n",
      "    Average Loss:  0.591372,    Accuracy: 68.86%,    Correct Counter: 157/228,    F1 Score: 0.73,    Precision: 0.64,    Recall:  0.86 \n",
      "\n",
      "Epoch 41/1000\n",
      "Train Set:\n",
      "    Average Loss:  0.562573,    Accuracy: 72.24%,    Correct Counter: 661/915,    F1 Score: 0.75,    Precision: 0.67,    Recall:  0.86 \n",
      "\n",
      "Validation Set:\n",
      "    Average Loss:  0.589749,    Accuracy: 68.86%,    Correct Counter: 157/228,    F1 Score: 0.73,    Precision: 0.64,    Recall:  0.86 \n",
      "\n",
      "Epoch 42/1000\n"
     ]
    },
    {
     "name": "stderr",
     "output_type": "stream",
     "text": [
      "Batch in Progress: 100%|███████████████████████████████████████████| 29/29 [00:00<00:00, 222.28it/s]\n",
      "Batch in Progress: 100%|█████████████████████████████████████████████| 8/8 [00:00<00:00, 544.38it/s]\n",
      "Batch in Progress: 100%|███████████████████████████████████████████| 29/29 [00:00<00:00, 243.21it/s]\n",
      "Batch in Progress: 100%|█████████████████████████████████████████████| 8/8 [00:00<00:00, 480.20it/s]\n",
      "Batch in Progress:   0%|                                                     | 0/29 [00:00<?, ?it/s]"
     ]
    },
    {
     "name": "stdout",
     "output_type": "stream",
     "text": [
      "Train Set:\n",
      "    Average Loss:  0.559695,    Accuracy: 72.13%,    Correct Counter: 660/915,    F1 Score: 0.75,    Precision: 0.66,    Recall:  0.86 \n",
      "\n",
      "Validation Set:\n",
      "    Average Loss:  0.588478,    Accuracy: 68.86%,    Correct Counter: 157/228,    F1 Score: 0.73,    Precision: 0.64,    Recall:  0.86 \n",
      "\n",
      "Epoch 43/1000\n",
      "Train Set:\n",
      "    Average Loss:  0.557154,    Accuracy: 72.02%,    Correct Counter: 659/915,    F1 Score: 0.75,    Precision: 0.66,    Recall:  0.86 \n",
      "\n",
      "Validation Set:\n",
      "    Average Loss:  0.587525,    Accuracy: 68.86%,    Correct Counter: 157/228,    F1 Score: 0.73,    Precision: 0.64,    Recall:  0.86 \n",
      "\n",
      "Epoch 44/1000\n"
     ]
    },
    {
     "name": "stderr",
     "output_type": "stream",
     "text": [
      "Batch in Progress: 100%|███████████████████████████████████████████| 29/29 [00:00<00:00, 245.31it/s]\n",
      "Batch in Progress: 100%|█████████████████████████████████████████████| 8/8 [00:00<00:00, 533.63it/s]\n",
      "Batch in Progress: 100%|███████████████████████████████████████████| 29/29 [00:00<00:00, 240.61it/s]\n",
      "Batch in Progress: 100%|█████████████████████████████████████████████| 8/8 [00:00<00:00, 563.77it/s]\n",
      "Batch in Progress:   0%|                                                     | 0/29 [00:00<?, ?it/s]"
     ]
    },
    {
     "name": "stdout",
     "output_type": "stream",
     "text": [
      "Train Set:\n",
      "    Average Loss:  0.554939,    Accuracy: 72.02%,    Correct Counter: 659/915,    F1 Score: 0.75,    Precision: 0.66,    Recall:  0.87 \n",
      "\n",
      "Validation Set:\n",
      "    Average Loss:  0.586819,    Accuracy: 68.86%,    Correct Counter: 157/228,    F1 Score: 0.73,    Precision: 0.64,    Recall:  0.86 \n",
      "\n",
      "Epoch 45/1000\n",
      "Train Set:\n",
      "    Average Loss:  0.553034,    Accuracy: 72.02%,    Correct Counter: 659/915,    F1 Score: 0.75,    Precision: 0.66,    Recall:  0.87 \n",
      "\n",
      "Validation Set:\n",
      "    Average Loss:  0.586322,    Accuracy: 68.86%,    Correct Counter: 157/228,    F1 Score: 0.73,    Precision: 0.64,    Recall:  0.86 \n",
      "\n",
      "Epoch 46/1000\n"
     ]
    },
    {
     "name": "stderr",
     "output_type": "stream",
     "text": [
      "Batch in Progress: 100%|███████████████████████████████████████████| 29/29 [00:00<00:00, 243.75it/s]\n",
      "Batch in Progress: 100%|█████████████████████████████████████████████| 8/8 [00:00<00:00, 543.73it/s]\n",
      "Batch in Progress: 100%|███████████████████████████████████████████| 29/29 [00:00<00:00, 246.49it/s]\n",
      "Batch in Progress: 100%|█████████████████████████████████████████████| 8/8 [00:00<00:00, 518.16it/s]\n",
      "Batch in Progress:   0%|                                                     | 0/29 [00:00<?, ?it/s]"
     ]
    },
    {
     "name": "stdout",
     "output_type": "stream",
     "text": [
      "Train Set:\n",
      "    Average Loss:  0.551388,    Accuracy: 71.91%,    Correct Counter: 658/915,    F1 Score: 0.75,    Precision: 0.66,    Recall:  0.88 \n",
      "\n",
      "Validation Set:\n",
      "    Average Loss:  0.586031,    Accuracy: 68.86%,    Correct Counter: 157/228,    F1 Score: 0.73,    Precision: 0.64,    Recall:  0.86 \n",
      "\n",
      "Epoch 47/1000\n",
      "Train Set:\n",
      "    Average Loss:  0.549966,    Accuracy: 71.91%,    Correct Counter: 658/915,    F1 Score: 0.75,    Precision: 0.66,    Recall:  0.88 \n",
      "\n",
      "Validation Set:\n",
      "    Average Loss:  0.585873,    Accuracy: 69.30%,    Correct Counter: 158/228,    F1 Score: 0.74,    Precision: 0.64,    Recall:  0.87 \n",
      "\n",
      "Epoch 48/1000\n"
     ]
    },
    {
     "name": "stderr",
     "output_type": "stream",
     "text": [
      "Batch in Progress: 100%|███████████████████████████████████████████| 29/29 [00:00<00:00, 253.82it/s]\n",
      "Batch in Progress: 100%|█████████████████████████████████████████████| 8/8 [00:00<00:00, 603.01it/s]\n",
      "Batch in Progress: 100%|███████████████████████████████████████████| 29/29 [00:00<00:00, 243.02it/s]\n",
      "Batch in Progress: 100%|█████████████████████████████████████████████| 8/8 [00:00<00:00, 568.08it/s]\n",
      "Batch in Progress:   0%|                                                     | 0/29 [00:00<?, ?it/s]"
     ]
    },
    {
     "name": "stdout",
     "output_type": "stream",
     "text": [
      "Train Set:\n",
      "    Average Loss:  0.548751,    Accuracy: 71.91%,    Correct Counter: 658/915,    F1 Score: 0.75,    Precision: 0.66,    Recall:  0.88 \n",
      "\n",
      "Validation Set:\n",
      "    Average Loss:  0.585829,    Accuracy: 69.30%,    Correct Counter: 158/228,    F1 Score: 0.74,    Precision: 0.64,    Recall:  0.87 \n",
      "\n",
      "Epoch 49/1000\n",
      "Train Set:\n",
      "    Average Loss:  0.547703,    Accuracy: 71.80%,    Correct Counter: 657/915,    F1 Score: 0.75,    Precision: 0.66,    Recall:  0.88 \n",
      "\n",
      "Validation Set:\n",
      "    Average Loss:  0.585858,    Accuracy: 69.30%,    Correct Counter: 158/228,    F1 Score: 0.74,    Precision: 0.64,    Recall:  0.87 \n",
      "\n",
      "Epoch 50/1000\n"
     ]
    },
    {
     "name": "stderr",
     "output_type": "stream",
     "text": [
      "Batch in Progress: 100%|███████████████████████████████████████████| 29/29 [00:00<00:00, 217.67it/s]\n",
      "Batch in Progress: 100%|█████████████████████████████████████████████| 8/8 [00:00<00:00, 626.54it/s]\n",
      "Batch in Progress: 100%|███████████████████████████████████████████| 29/29 [00:00<00:00, 242.40it/s]\n",
      "Batch in Progress: 100%|█████████████████████████████████████████████| 8/8 [00:00<00:00, 581.20it/s]\n",
      "Batch in Progress:   0%|                                                     | 0/29 [00:00<?, ?it/s]"
     ]
    },
    {
     "name": "stdout",
     "output_type": "stream",
     "text": [
      "Train Set:\n",
      "    Average Loss:  0.546802,    Accuracy: 71.58%,    Correct Counter: 655/915,    F1 Score: 0.75,    Precision: 0.65,    Recall:  0.88 \n",
      "\n",
      "Validation Set:\n",
      "    Average Loss:  0.585951,    Accuracy: 69.74%,    Correct Counter: 159/228,    F1 Score: 0.74,    Precision: 0.64,    Recall:  0.88 \n",
      "\n",
      "Epoch 51/1000\n",
      "Train Set:\n",
      "    Average Loss:  0.546026,    Accuracy: 71.37%,    Correct Counter: 653/915,    F1 Score: 0.75,    Precision: 0.65,    Recall:  0.88 \n",
      "\n",
      "Validation Set:\n",
      "    Average Loss:  0.586102,    Accuracy: 70.18%,    Correct Counter: 160/228,    F1 Score: 0.75,    Precision: 0.65,    Recall:  0.88 \n",
      "\n",
      "Epoch 52/1000\n"
     ]
    },
    {
     "name": "stderr",
     "output_type": "stream",
     "text": [
      "Batch in Progress: 100%|███████████████████████████████████████████| 29/29 [00:00<00:00, 242.24it/s]\n",
      "Batch in Progress: 100%|█████████████████████████████████████████████| 8/8 [00:00<00:00, 476.82it/s]\n",
      "Batch in Progress: 100%|███████████████████████████████████████████| 29/29 [00:00<00:00, 246.86it/s]\n",
      "Batch in Progress: 100%|█████████████████████████████████████████████| 8/8 [00:00<00:00, 484.23it/s]\n",
      "Batch in Progress:   0%|                                                     | 0/29 [00:00<?, ?it/s]"
     ]
    },
    {
     "name": "stdout",
     "output_type": "stream",
     "text": [
      "Train Set:\n",
      "    Average Loss:  0.545355,    Accuracy: 71.48%,    Correct Counter: 654/915,    F1 Score: 0.75,    Precision: 0.65,    Recall:  0.88 \n",
      "\n",
      "Validation Set:\n",
      "    Average Loss:  0.586285,    Accuracy: 70.18%,    Correct Counter: 160/228,    F1 Score: 0.75,    Precision: 0.65,    Recall:  0.88 \n",
      "\n",
      "Epoch 53/1000\n",
      "Train Set:\n",
      "    Average Loss:  0.544772,    Accuracy: 71.48%,    Correct Counter: 654/915,    F1 Score: 0.75,    Precision: 0.65,    Recall:  0.88 \n",
      "\n",
      "Validation Set:\n",
      "    Average Loss:  0.586493,    Accuracy: 70.18%,    Correct Counter: 160/228,    F1 Score: 0.75,    Precision: 0.65,    Recall:  0.88 \n",
      "\n",
      "Epoch 54/1000\n"
     ]
    },
    {
     "name": "stderr",
     "output_type": "stream",
     "text": [
      "Batch in Progress: 100%|███████████████████████████████████████████| 29/29 [00:00<00:00, 240.09it/s]\n",
      "Batch in Progress: 100%|█████████████████████████████████████████████| 8/8 [00:00<00:00, 546.29it/s]\n",
      "Batch in Progress: 100%|███████████████████████████████████████████| 29/29 [00:00<00:00, 246.88it/s]\n",
      "Batch in Progress: 100%|█████████████████████████████████████████████| 8/8 [00:00<00:00, 500.30it/s]\n",
      "Batch in Progress:   0%|                                                     | 0/29 [00:00<?, ?it/s]"
     ]
    },
    {
     "name": "stdout",
     "output_type": "stream",
     "text": [
      "Train Set:\n",
      "    Average Loss:  0.544262,    Accuracy: 71.48%,    Correct Counter: 654/915,    F1 Score: 0.75,    Precision: 0.65,    Recall:  0.88 \n",
      "\n",
      "Validation Set:\n",
      "    Average Loss:  0.586732,    Accuracy: 70.18%,    Correct Counter: 160/228,    F1 Score: 0.75,    Precision: 0.65,    Recall:  0.88 \n",
      "\n",
      "Epoch 55/1000\n",
      "Train Set:\n",
      "    Average Loss:  0.543816,    Accuracy: 71.48%,    Correct Counter: 654/915,    F1 Score: 0.75,    Precision: 0.65,    Recall:  0.88 \n",
      "\n",
      "Validation Set:\n",
      "    Average Loss:  0.586990,    Accuracy: 70.18%,    Correct Counter: 160/228,    F1 Score: 0.75,    Precision: 0.65,    Recall:  0.88 \n",
      "\n",
      "Epoch 56/1000\n"
     ]
    },
    {
     "name": "stderr",
     "output_type": "stream",
     "text": [
      "Batch in Progress: 100%|███████████████████████████████████████████| 29/29 [00:00<00:00, 213.05it/s]\n",
      "Batch in Progress: 100%|█████████████████████████████████████████████| 8/8 [00:00<00:00, 817.26it/s]\n",
      "Batch in Progress: 100%|███████████████████████████████████████████| 29/29 [00:00<00:00, 243.36it/s]\n",
      "Batch in Progress: 100%|████████████████████████████████████████████| 8/8 [00:00<00:00, 3669.56it/s]\n",
      "Batch in Progress:   0%|                                                     | 0/29 [00:00<?, ?it/s]"
     ]
    },
    {
     "name": "stdout",
     "output_type": "stream",
     "text": [
      "Train Set:\n",
      "    Average Loss:  0.543420,    Accuracy: 71.48%,    Correct Counter: 654/915,    F1 Score: 0.75,    Precision: 0.65,    Recall:  0.88 \n",
      "\n",
      "Validation Set:\n",
      "    Average Loss:  0.587263,    Accuracy: 70.18%,    Correct Counter: 160/228,    F1 Score: 0.75,    Precision: 0.65,    Recall:  0.88 \n",
      "\n",
      "Epoch 57/1000\n",
      "Train Set:\n",
      "    Average Loss:  0.543067,    Accuracy: 71.48%,    Correct Counter: 654/915,    F1 Score: 0.75,    Precision: 0.65,    Recall:  0.88 \n",
      "\n",
      "Validation Set:\n",
      "    Average Loss:  0.587535,    Accuracy: 70.18%,    Correct Counter: 160/228,    F1 Score: 0.75,    Precision: 0.65,    Recall:  0.88 \n",
      "\n",
      "Epoch 58/1000\n"
     ]
    },
    {
     "name": "stderr",
     "output_type": "stream",
     "text": [
      "Batch in Progress: 100%|███████████████████████████████████████████| 29/29 [00:00<00:00, 241.65it/s]\n",
      "Batch in Progress: 100%|█████████████████████████████████████████████| 8/8 [00:00<00:00, 602.95it/s]\n",
      "Batch in Progress: 100%|███████████████████████████████████████████| 29/29 [00:00<00:00, 211.39it/s]\n",
      "Batch in Progress: 100%|█████████████████████████████████████████████| 8/8 [00:00<00:00, 357.37it/s]\n",
      "Batch in Progress:   0%|                                                     | 0/29 [00:00<?, ?it/s]"
     ]
    },
    {
     "name": "stdout",
     "output_type": "stream",
     "text": [
      "Train Set:\n",
      "    Average Loss:  0.542754,    Accuracy: 71.48%,    Correct Counter: 654/915,    F1 Score: 0.75,    Precision: 0.65,    Recall:  0.88 \n",
      "\n",
      "Validation Set:\n",
      "    Average Loss:  0.587806,    Accuracy: 70.18%,    Correct Counter: 160/228,    F1 Score: 0.75,    Precision: 0.65,    Recall:  0.88 \n",
      "\n",
      "Epoch 59/1000\n",
      "Train Set:\n",
      "    Average Loss:  0.542476,    Accuracy: 71.48%,    Correct Counter: 654/915,    F1 Score: 0.75,    Precision: 0.65,    Recall:  0.88 \n",
      "\n",
      "Validation Set:\n",
      "    Average Loss:  0.588069,    Accuracy: 70.18%,    Correct Counter: 160/228,    F1 Score: 0.75,    Precision: 0.65,    Recall:  0.88 \n",
      "\n",
      "Epoch 60/1000\n"
     ]
    },
    {
     "name": "stderr",
     "output_type": "stream",
     "text": [
      "Batch in Progress: 100%|███████████████████████████████████████████| 29/29 [00:00<00:00, 244.52it/s]\n",
      "Batch in Progress: 100%|█████████████████████████████████████████████| 8/8 [00:00<00:00, 605.20it/s]\n",
      "Batch in Progress: 100%|███████████████████████████████████████████| 29/29 [00:00<00:00, 221.24it/s]\n",
      "Batch in Progress: 100%|█████████████████████████████████████████████| 8/8 [00:00<00:00, 535.47it/s]\n",
      "Batch in Progress:   0%|                                                     | 0/29 [00:00<?, ?it/s]"
     ]
    },
    {
     "name": "stdout",
     "output_type": "stream",
     "text": [
      "Train Set:\n",
      "    Average Loss:  0.542225,    Accuracy: 71.48%,    Correct Counter: 654/915,    F1 Score: 0.75,    Precision: 0.65,    Recall:  0.88 \n",
      "\n",
      "Validation Set:\n",
      "    Average Loss:  0.588330,    Accuracy: 70.18%,    Correct Counter: 160/228,    F1 Score: 0.75,    Precision: 0.65,    Recall:  0.88 \n",
      "\n",
      "Epoch 61/1000\n",
      "Train Set:\n",
      "    Average Loss:  0.541998,    Accuracy: 71.48%,    Correct Counter: 654/915,    F1 Score: 0.75,    Precision: 0.65,    Recall:  0.88 \n",
      "\n",
      "Validation Set:\n",
      "    Average Loss:  0.588588,    Accuracy: 69.74%,    Correct Counter: 159/228,    F1 Score: 0.74,    Precision: 0.64,    Recall:  0.88 \n",
      "\n",
      "Epoch 62/1000\n"
     ]
    },
    {
     "name": "stderr",
     "output_type": "stream",
     "text": [
      "Batch in Progress: 100%|███████████████████████████████████████████| 29/29 [00:00<00:00, 241.90it/s]\n",
      "Batch in Progress: 100%|█████████████████████████████████████████████| 8/8 [00:00<00:00, 268.14it/s]\n",
      "Batch in Progress: 100%|███████████████████████████████████████████| 29/29 [00:00<00:00, 254.48it/s]\n",
      "Batch in Progress: 100%|█████████████████████████████████████████████| 8/8 [00:00<00:00, 520.41it/s]\n",
      "Batch in Progress:   0%|                                                     | 0/29 [00:00<?, ?it/s]"
     ]
    },
    {
     "name": "stdout",
     "output_type": "stream",
     "text": [
      "Train Set:\n",
      "    Average Loss:  0.541790,    Accuracy: 71.15%,    Correct Counter: 651/915,    F1 Score: 0.75,    Precision: 0.65,    Recall:  0.88 \n",
      "\n",
      "Validation Set:\n",
      "    Average Loss:  0.588835,    Accuracy: 68.42%,    Correct Counter: 156/228,    F1 Score: 0.74,    Precision: 0.63,    Recall:  0.88 \n",
      "\n",
      "Epoch 63/1000\n",
      "Train Set:\n",
      "    Average Loss:  0.541599,    Accuracy: 71.15%,    Correct Counter: 651/915,    F1 Score: 0.75,    Precision: 0.65,    Recall:  0.88 \n",
      "\n",
      "Validation Set:\n",
      "    Average Loss:  0.589075,    Accuracy: 68.42%,    Correct Counter: 156/228,    F1 Score: 0.74,    Precision: 0.63,    Recall:  0.88 \n",
      "\n",
      "Epoch 64/1000\n"
     ]
    },
    {
     "name": "stderr",
     "output_type": "stream",
     "text": [
      "Batch in Progress: 100%|███████████████████████████████████████████| 29/29 [00:00<00:00, 219.15it/s]\n",
      "Batch in Progress: 100%|█████████████████████████████████████████████| 8/8 [00:00<00:00, 590.75it/s]\n",
      "Batch in Progress: 100%|███████████████████████████████████████████| 29/29 [00:00<00:00, 217.20it/s]\n",
      "Batch in Progress: 100%|█████████████████████████████████████████████| 8/8 [00:00<00:00, 615.85it/s]\n",
      "Batch in Progress:   0%|                                                     | 0/29 [00:00<?, ?it/s]"
     ]
    },
    {
     "name": "stdout",
     "output_type": "stream",
     "text": [
      "Train Set:\n",
      "    Average Loss:  0.541426,    Accuracy: 71.04%,    Correct Counter: 650/915,    F1 Score: 0.75,    Precision: 0.65,    Recall:  0.88 \n",
      "\n",
      "Validation Set:\n",
      "    Average Loss:  0.589306,    Accuracy: 68.42%,    Correct Counter: 156/228,    F1 Score: 0.74,    Precision: 0.63,    Recall:  0.88 \n",
      "\n",
      "Epoch 65/1000\n",
      "Train Set:\n",
      "    Average Loss:  0.541269,    Accuracy: 71.04%,    Correct Counter: 650/915,    F1 Score: 0.75,    Precision: 0.65,    Recall:  0.88 \n",
      "\n",
      "Validation Set:\n",
      "    Average Loss:  0.589527,    Accuracy: 68.42%,    Correct Counter: 156/228,    F1 Score: 0.74,    Precision: 0.63,    Recall:  0.88 \n",
      "\n",
      "Epoch 66/1000\n"
     ]
    },
    {
     "name": "stderr",
     "output_type": "stream",
     "text": [
      "Batch in Progress: 100%|███████████████████████████████████████████| 29/29 [00:00<00:00, 246.59it/s]\n",
      "Batch in Progress: 100%|█████████████████████████████████████████████| 8/8 [00:00<00:00, 519.96it/s]\n",
      "Batch in Progress: 100%|███████████████████████████████████████████| 29/29 [00:00<00:00, 243.36it/s]\n",
      "Batch in Progress: 100%|█████████████████████████████████████████████| 8/8 [00:00<00:00, 543.64it/s]\n",
      "Batch in Progress:   0%|                                                     | 0/29 [00:00<?, ?it/s]"
     ]
    },
    {
     "name": "stdout",
     "output_type": "stream",
     "text": [
      "Train Set:\n",
      "    Average Loss:  0.541123,    Accuracy: 71.04%,    Correct Counter: 650/915,    F1 Score: 0.75,    Precision: 0.65,    Recall:  0.88 \n",
      "\n",
      "Validation Set:\n",
      "    Average Loss:  0.589746,    Accuracy: 68.42%,    Correct Counter: 156/228,    F1 Score: 0.74,    Precision: 0.63,    Recall:  0.88 \n",
      "\n",
      "Epoch 67/1000\n",
      "Train Set:\n",
      "    Average Loss:  0.540984,    Accuracy: 71.04%,    Correct Counter: 650/915,    F1 Score: 0.75,    Precision: 0.65,    Recall:  0.88 \n",
      "\n",
      "Validation Set:\n",
      "    Average Loss:  0.589961,    Accuracy: 68.42%,    Correct Counter: 156/228,    F1 Score: 0.74,    Precision: 0.63,    Recall:  0.88 \n",
      "\n",
      "Epoch 68/1000\n"
     ]
    },
    {
     "name": "stderr",
     "output_type": "stream",
     "text": [
      "Batch in Progress: 100%|███████████████████████████████████████████| 29/29 [00:00<00:00, 245.78it/s]\n",
      "Batch in Progress: 100%|████████████████████████████████████████████| 8/8 [00:00<00:00, 2671.32it/s]\n",
      "Batch in Progress: 100%|███████████████████████████████████████████| 29/29 [00:00<00:00, 245.63it/s]\n",
      "Batch in Progress: 100%|█████████████████████████████████████████████| 8/8 [00:00<00:00, 480.21it/s]\n",
      "Batch in Progress:   0%|                                                     | 0/29 [00:00<?, ?it/s]"
     ]
    },
    {
     "name": "stdout",
     "output_type": "stream",
     "text": [
      "Train Set:\n",
      "    Average Loss:  0.540849,    Accuracy: 71.04%,    Correct Counter: 650/915,    F1 Score: 0.75,    Precision: 0.65,    Recall:  0.88 \n",
      "\n",
      "Validation Set:\n",
      "    Average Loss:  0.590163,    Accuracy: 68.42%,    Correct Counter: 156/228,    F1 Score: 0.74,    Precision: 0.63,    Recall:  0.88 \n",
      "\n",
      "Epoch 69/1000\n",
      "Train Set:\n",
      "    Average Loss:  0.540722,    Accuracy: 71.04%,    Correct Counter: 650/915,    F1 Score: 0.75,    Precision: 0.65,    Recall:  0.88 \n",
      "\n",
      "Validation Set:\n",
      "    Average Loss:  0.590360,    Accuracy: 68.42%,    Correct Counter: 156/228,    F1 Score: 0.74,    Precision: 0.63,    Recall:  0.88 \n",
      "\n",
      "Epoch 70/1000\n"
     ]
    },
    {
     "name": "stderr",
     "output_type": "stream",
     "text": [
      "Batch in Progress: 100%|███████████████████████████████████████████| 29/29 [00:00<00:00, 223.16it/s]\n",
      "Batch in Progress: 100%|█████████████████████████████████████████████| 8/8 [00:00<00:00, 542.07it/s]"
     ]
    },
    {
     "name": "stdout",
     "output_type": "stream",
     "text": [
      "Train Set:\n",
      "    Average Loss:  0.540603,    Accuracy: 71.04%,    Correct Counter: 650/915,    F1 Score: 0.75,    Precision: 0.65,    Recall:  0.88 \n",
      "\n",
      "Validation Set:\n",
      "    Average Loss:  0.590556,    Accuracy: 68.42%,    Correct Counter: 156/228,    F1 Score: 0.74,    Precision: 0.63,    Recall:  0.88 \n",
      "\n"
     ]
    },
    {
     "name": "stderr",
     "output_type": "stream",
     "text": [
      "\n"
     ]
    }
   ],
   "source": [
    "epochs = 1000\n",
    "metrics = train_val(epochs=epochs, models=models, criterion=criterion, optimizer=optimizer, train_loader=train_fusion_loader,\n",
    "                    val_loader=test_fusion_loader, device=device, early_stop=early_stop)"
   ]
  },
  {
   "cell_type": "code",
   "execution_count": 27,
   "metadata": {},
   "outputs": [],
   "source": [
    "torch.save(fusion_model.state_dict(), MODELS_PATH + \"\\KeepFeatures\\FusionPath.pth\")"
   ]
  },
  {
   "cell_type": "markdown",
   "metadata": {},
   "source": [
    "# VotingFeatures (Late Fusion)"
   ]
  },
  {
   "cell_type": "code",
   "execution_count": 28,
   "metadata": {},
   "outputs": [],
   "source": [
    "# Load image and Tabular model\n",
    "image_model = get_densenet201(device=device, freeze=True, with_mlp=True, outputs=1)\n",
    "\n",
    "tabular_model = nn.Sequential(\n",
    "    nn.Linear(in_features=2, out_features=8),\n",
    "    nn.ReLU(inplace=True),\n",
    "    nn.Linear(in_features=8, out_features=32),\n",
    "    nn.ReLU(inplace=True),\n",
    "    nn.Linear(in_features=32, out_features=16),\n",
    "    nn.ReLU(inplace=True),\n",
    "    nn.Linear(in_features=16, out_features=8),\n",
    "    nn.ReLU(inplace=True),\n",
    "    nn.Linear(in_features=8, out_features=1),\n",
    ")\n",
    "\n",
    "image_model.load_state_dict(torch.load(FM_PATH))\n",
    "tabular_model.load_state_dict(torch.load(DM_PATH))\n",
    "\n",
    "image_model, tabular_model = image_model.to(device).float(), tabular_model.to(device).float()\n",
    "\n",
    "# load fusion model\n",
    "tabular_path = nn.Sequential(\n",
    "    nn.Linear(in_features=2, out_features=8),\n",
    "    nn.ReLU(inplace=True),\n",
    "    nn.Linear(in_features=8, out_features=32),\n",
    ")\n",
    "\n",
    "image_path = get_densenet201(device=device, freeze=True, with_mlp=False, outputs=32)\n",
    "\n",
    "fusion_path = nn.Sequential(\n",
    "    nn.Linear(in_features=64, out_features=128),\n",
    "    nn.ReLU(inplace=True),\n",
    "    nn.Dropout(),\n",
    "    nn.Linear(in_features=128, out_features=32),\n",
    "    nn.ReLU(inplace=True),\n",
    "    nn.Dropout(),\n",
    "    nn.Linear(in_features=32, out_features=16),\n",
    "    nn.ReLU(inplace=True),\n",
    "    nn.Dropout(),\n",
    "    nn.Linear(in_features=16, out_features=1),\n",
    ")\n",
    "\n",
    "image_path.load_state_dict(torch.load(MODELS_PATH + \"\\CombineFeatures\\FundusPath.pth\"))\n",
    "tabular_path.load_state_dict(torch.load(MODELS_PATH + \"\\CombineFeatures\\DemographicPath.pth\"))\n",
    "fusion_path.load_state_dict(torch.load(MODELS_PATH + \"\\CombineFeatures\\FusionPath.pth\"))\n",
    "\n",
    "tabular_path, image_path, fusion_path = tabular_path.to(device).float(), image_path.to(device).float(),\\\n",
    "                                                fusion_path.to(device).float()\n",
    "\n",
    "fusion_model = dict()\n",
    "fusion_model[\"image_path\"], fusion_model[\"tabular_path\"], fusion_model[\"fusion_path\"] = image_path, \\\n",
    "                                                                                    tabular_path, fusion_path"
   ]
  },
  {
   "cell_type": "code",
   "execution_count": 29,
   "metadata": {},
   "outputs": [],
   "source": [
    "models = {\n",
    "    \"image_model\": image_model,\n",
    "    \"tabular_model\": tabular_model,\n",
    "    \"fusion_model\": fusion_model,\n",
    "}"
   ]
  },
  {
   "cell_type": "code",
   "execution_count": 30,
   "metadata": {},
   "outputs": [],
   "source": [
    "train_x, train_y = build_tabular_dataset(models, train_dataset, method=\"voting_features\")\n",
    "test_x, test_y = build_tabular_dataset(models, test_dataset, method=\"voting_features\")\n",
    "\n",
    "train_fusion_set = InputOutputDataset(train_x, train_y)\n",
    "test_fusion_set = InputOutputDataset(test_x, test_y)\n",
    "\n",
    "train_fusion_loader = DataLoader(train_fusion_set, batch_size=32)\n",
    "test_fusion_loader = DataLoader(test_fusion_set, batch_size=32)"
   ]
  },
  {
   "cell_type": "markdown",
   "metadata": {},
   "source": [
    "## Classifier using all scores"
   ]
  },
  {
   "cell_type": "markdown",
   "metadata": {},
   "source": [
    "### XGBOOST"
   ]
  },
  {
   "cell_type": "code",
   "execution_count": 31,
   "metadata": {},
   "outputs": [],
   "source": [
    "boost = xgb.XGBClassifier(tree_method='gpu_hist', objective=\"binary:logistic\")"
   ]
  },
  {
   "cell_type": "code",
   "execution_count": 32,
   "metadata": {},
   "outputs": [
    {
     "name": "stdout",
     "output_type": "stream",
     "text": [
      "Fitting 5 folds for each of 144 candidates, totalling 720 fits\n"
     ]
    },
    {
     "name": "stderr",
     "output_type": "stream",
     "text": [
      "[Parallel(n_jobs=1)]: Using backend SequentialBackend with 1 concurrent workers.\n",
      "[Parallel(n_jobs=1)]: Done 720 out of 720 | elapsed: 16.2min finished\n"
     ]
    },
    {
     "name": "stdout",
     "output_type": "stream",
     "text": [
      "0.7591363605873314\n"
     ]
    }
   ],
   "source": [
    "param_grid = {'max_depth': [3,6,10],\n",
    "           'learning_rate': [0.0001, 0.005, 0.001, 0.005, 0.01, 0.05, 0.1, 0.3],\n",
    "           'n_estimators': [100, 500, 1000],\n",
    "           'colsample_bytree': [0.3, 0.7]}\n",
    "\n",
    "clf = GridSearchCV(estimator=boost, \n",
    "                   param_grid=param_grid,\n",
    "                   scoring='f1', \n",
    "                   verbose=1)\n",
    "\n",
    "clf.fit(train_x, train_y)\n",
    "\n",
    "print(clf.best_score_)"
   ]
  },
  {
   "cell_type": "code",
   "execution_count": 33,
   "metadata": {},
   "outputs": [],
   "source": [
    "with open(MODELS_PATH+'/VotingFeatures/XGBParams.json', 'w', encoding='utf-8') as f:\n",
    "    json.dump(clf.best_params_, f, ensure_ascii=False, indent=4)"
   ]
  },
  {
   "cell_type": "markdown",
   "metadata": {},
   "source": [
    "### SVM"
   ]
  },
  {
   "cell_type": "code",
   "execution_count": 34,
   "metadata": {},
   "outputs": [],
   "source": [
    "svm = SVC()"
   ]
  },
  {
   "cell_type": "code",
   "execution_count": 35,
   "metadata": {},
   "outputs": [
    {
     "name": "stdout",
     "output_type": "stream",
     "text": [
      "Fitting 5 folds for each of 68 candidates, totalling 340 fits\n"
     ]
    },
    {
     "name": "stderr",
     "output_type": "stream",
     "text": [
      "[Parallel(n_jobs=1)]: Using backend SequentialBackend with 1 concurrent workers.\n"
     ]
    },
    {
     "name": "stdout",
     "output_type": "stream",
     "text": [
      "0.7643395362141236\n"
     ]
    },
    {
     "name": "stderr",
     "output_type": "stream",
     "text": [
      "[Parallel(n_jobs=1)]: Done 340 out of 340 | elapsed:  3.4min finished\n"
     ]
    }
   ],
   "source": [
    "param_grid = [\n",
    "    {'C': [1, 10, 100, 1000], 'kernel': ['linear']},\n",
    "    {'C': [1, 10, 100, 1000], 'gamma': [1, 0.1, 0.01, 0.001], 'kernel': ['rbf']},\n",
    "    {'C': [1, 10, 100, 1000], 'gamma': [1, 0.1, 0.01, 0.001], 'degree': [1,2,3], 'kernel': ['poly']}\n",
    "]\n",
    "\n",
    "clf = GridSearchCV(estimator=svm, \n",
    "                   param_grid=param_grid,\n",
    "                   scoring='f1', \n",
    "                   verbose=1)\n",
    "\n",
    "clf.fit(train_x, train_y)\n",
    "\n",
    "print(clf.best_score_)"
   ]
  },
  {
   "cell_type": "code",
   "execution_count": 36,
   "metadata": {},
   "outputs": [],
   "source": [
    "with open(MODELS_PATH+ '/VotingFeatures/SVMParams.json', 'w', encoding='utf-8') as f:\n",
    "    json.dump(clf.best_params_, f, ensure_ascii=False, indent=4)"
   ]
  },
  {
   "cell_type": "markdown",
   "metadata": {},
   "source": [
    "### FCNN"
   ]
  },
  {
   "cell_type": "code",
   "execution_count": 37,
   "metadata": {},
   "outputs": [],
   "source": [
    "fusion_model = nn.Sequential(\n",
    "    nn.Linear(in_features=3, out_features=8),\n",
    "    nn.ReLU(inplace=True),\n",
    "    nn.Linear(in_features=8, out_features=32),\n",
    "    nn.ReLU(inplace=True),\n",
    "    nn.Linear(in_features=32, out_features=16),\n",
    "    nn.ReLU(inplace=True),\n",
    "    nn.Linear(in_features=16, out_features=8),\n",
    "    nn.ReLU(inplace=True),\n",
    "    nn.Linear(in_features=8, out_features=1),\n",
    ")\n",
    "\n",
    "fusion_model = fusion_model.to(device).float()"
   ]
  },
  {
   "cell_type": "code",
   "execution_count": 38,
   "metadata": {},
   "outputs": [],
   "source": [
    "model = {\n",
    "    \"image_model\": None,\n",
    "    \"tabular_model\": None,\n",
    "    \"fusion_model\": fusion_model,\n",
    "}\n",
    "\n",
    "early_stop = {\n",
    "    \"patience\": 20,\n",
    "    \"min_delta\": 0,\n",
    "    \"multip\": 10\n",
    "}\n",
    "\n",
    "optimizer = torch.optim.Adam([\n",
    "    {'params': fusion_model.parameters(), 'lr': 1e-4}],\n",
    ")"
   ]
  },
  {
   "cell_type": "code",
   "execution_count": 39,
   "metadata": {},
   "outputs": [
    {
     "name": "stderr",
     "output_type": "stream",
     "text": [
      "Batch in Progress:  66%|████████████████████████████▏              | 19/29 [00:00<00:00, 175.53it/s]"
     ]
    },
    {
     "name": "stdout",
     "output_type": "stream",
     "text": [
      "Beginning Training: \n",
      "\n",
      "Epoch 1/1000\n"
     ]
    },
    {
     "name": "stderr",
     "output_type": "stream",
     "text": [
      "Batch in Progress: 100%|███████████████████████████████████████████| 29/29 [00:00<00:00, 177.30it/s]\n",
      "Batch in Progress:   0%|                                                      | 0/8 [00:00<?, ?it/s]"
     ]
    },
    {
     "name": "stdout",
     "output_type": "stream",
     "text": [
      "Train Set:\n",
      "    Average Loss:  0.701557,    Accuracy: 51.48%,    Correct Counter: 471/915,    F1 Score: 0.00,    Precision: 1.00,    Recall:  0.00 \n",
      "\n"
     ]
    },
    {
     "name": "stderr",
     "output_type": "stream",
     "text": [
      "Batch in Progress: 100%|█████████████████████████████████████████████| 8/8 [00:00<00:00, 240.68it/s]\n",
      "Batch in Progress: 100%|███████████████████████████████████████████| 29/29 [00:00<00:00, 194.91it/s]"
     ]
    },
    {
     "name": "stdout",
     "output_type": "stream",
     "text": [
      "Validation Set:\n",
      "    Average Loss:  0.704105,    Accuracy: 50.44%,    Correct Counter: 115/228,    F1 Score: 0.00,    Precision: 1.00,    Recall:  0.00 \n",
      "\n",
      "Epoch 2/1000\n"
     ]
    },
    {
     "name": "stderr",
     "output_type": "stream",
     "text": [
      "\n",
      "Batch in Progress: 100%|█████████████████████████████████████████████| 8/8 [00:00<00:00, 732.28it/s]\n",
      "Batch in Progress:   0%|                                                     | 0/29 [00:00<?, ?it/s]"
     ]
    },
    {
     "name": "stdout",
     "output_type": "stream",
     "text": [
      "Train Set:\n",
      "    Average Loss:  0.700799,    Accuracy: 51.48%,    Correct Counter: 471/915,    F1 Score: 0.00,    Precision: 1.00,    Recall:  0.00 \n",
      "\n",
      "Validation Set:\n",
      "    Average Loss:  0.703379,    Accuracy: 50.44%,    Correct Counter: 115/228,    F1 Score: 0.00,    Precision: 1.00,    Recall:  0.00 \n",
      "\n",
      "Epoch 3/1000\n"
     ]
    },
    {
     "name": "stderr",
     "output_type": "stream",
     "text": [
      "Batch in Progress: 100%|███████████████████████████████████████████| 29/29 [00:00<00:00, 219.26it/s]\n",
      "Batch in Progress: 100%|█████████████████████████████████████████████| 8/8 [00:00<00:00, 516.08it/s]\n",
      "Batch in Progress:   0%|                                                     | 0/29 [00:00<?, ?it/s]"
     ]
    },
    {
     "name": "stdout",
     "output_type": "stream",
     "text": [
      "Train Set:\n",
      "    Average Loss:  0.700074,    Accuracy: 51.48%,    Correct Counter: 471/915,    F1 Score: 0.00,    Precision: 1.00,    Recall:  0.00 \n",
      "\n",
      "Validation Set:\n",
      "    Average Loss:  0.702637,    Accuracy: 50.44%,    Correct Counter: 115/228,    F1 Score: 0.00,    Precision: 1.00,    Recall:  0.00 \n",
      "\n",
      "Epoch 4/1000\n"
     ]
    },
    {
     "name": "stderr",
     "output_type": "stream",
     "text": [
      "Batch in Progress: 100%|███████████████████████████████████████████| 29/29 [00:00<00:00, 206.39it/s]\n",
      "Batch in Progress: 100%|█████████████████████████████████████████████| 8/8 [00:00<00:00, 374.07it/s]"
     ]
    },
    {
     "name": "stdout",
     "output_type": "stream",
     "text": [
      "Train Set:\n",
      "    Average Loss:  0.699308,    Accuracy: 51.48%,    Correct Counter: 471/915,    F1 Score: 0.00,    Precision: 1.00,    Recall:  0.00 \n",
      "\n"
     ]
    },
    {
     "name": "stderr",
     "output_type": "stream",
     "text": [
      "\n",
      "Batch in Progress: 100%|███████████████████████████████████████████| 29/29 [00:00<00:00, 254.48it/s]\n",
      "Batch in Progress: 100%|█████████████████████████████████████████████| 8/8 [00:00<00:00, 480.75it/s]\n",
      "Batch in Progress:   0%|                                                     | 0/29 [00:00<?, ?it/s]"
     ]
    },
    {
     "name": "stdout",
     "output_type": "stream",
     "text": [
      "Validation Set:\n",
      "    Average Loss:  0.701841,    Accuracy: 50.44%,    Correct Counter: 115/228,    F1 Score: 0.00,    Precision: 1.00,    Recall:  0.00 \n",
      "\n",
      "Epoch 5/1000\n",
      "Train Set:\n",
      "    Average Loss:  0.698455,    Accuracy: 51.48%,    Correct Counter: 471/915,    F1 Score: 0.00,    Precision: 1.00,    Recall:  0.00 \n",
      "\n",
      "Validation Set:\n",
      "    Average Loss:  0.700971,    Accuracy: 50.44%,    Correct Counter: 115/228,    F1 Score: 0.00,    Precision: 1.00,    Recall:  0.00 \n",
      "\n",
      "Epoch 6/1000\n"
     ]
    },
    {
     "name": "stderr",
     "output_type": "stream",
     "text": [
      "Batch in Progress: 100%|███████████████████████████████████████████| 29/29 [00:00<00:00, 240.38it/s]\n",
      "Batch in Progress: 100%|█████████████████████████████████████████████| 8/8 [00:00<00:00, 476.02it/s]\n",
      "Batch in Progress: 100%|███████████████████████████████████████████| 29/29 [00:00<00:00, 209.70it/s]\n",
      "Batch in Progress: 100%|█████████████████████████████████████████████| 8/8 [00:00<00:00, 932.04it/s]"
     ]
    },
    {
     "name": "stdout",
     "output_type": "stream",
     "text": [
      "Train Set:\n",
      "    Average Loss:  0.697488,    Accuracy: 51.48%,    Correct Counter: 471/915,    F1 Score: 0.00,    Precision: 1.00,    Recall:  0.00 \n",
      "\n",
      "Validation Set:\n",
      "    Average Loss:  0.700029,    Accuracy: 50.44%,    Correct Counter: 115/228,    F1 Score: 0.00,    Precision: 1.00,    Recall:  0.00 \n",
      "\n",
      "Epoch 7/1000\n",
      "Train Set:\n",
      "    Average Loss:  0.696455,    Accuracy: 51.48%,    Correct Counter: 471/915,    F1 Score: 0.00,    Precision: 1.00,    Recall:  0.00 \n",
      "\n",
      "Validation Set:\n",
      "    Average Loss:  0.699089,    Accuracy: 50.44%,    Correct Counter: 115/228,    F1 Score: 0.00,    Precision: 1.00,    Recall:  0.00 \n",
      "\n",
      "Epoch 8/1000\n"
     ]
    },
    {
     "name": "stderr",
     "output_type": "stream",
     "text": [
      "\n",
      "Batch in Progress: 100%|███████████████████████████████████████████| 29/29 [00:00<00:00, 219.02it/s]\n",
      "Batch in Progress: 100%|█████████████████████████████████████████████| 8/8 [00:00<00:00, 526.76it/s]\n",
      "Batch in Progress: 100%|███████████████████████████████████████████| 29/29 [00:00<00:00, 213.59it/s]\n",
      "Batch in Progress: 100%|█████████████████████████████████████████████| 8/8 [00:00<00:00, 768.54it/s]\n",
      "Batch in Progress:   0%|                                                     | 0/29 [00:00<?, ?it/s]"
     ]
    },
    {
     "name": "stdout",
     "output_type": "stream",
     "text": [
      "Train Set:\n",
      "    Average Loss:  0.695364,    Accuracy: 51.48%,    Correct Counter: 471/915,    F1 Score: 0.00,    Precision: 1.00,    Recall:  0.00 \n",
      "\n",
      "Validation Set:\n",
      "    Average Loss:  0.698073,    Accuracy: 50.44%,    Correct Counter: 115/228,    F1 Score: 0.00,    Precision: 1.00,    Recall:  0.00 \n",
      "\n",
      "Epoch 9/1000\n",
      "Train Set:\n",
      "    Average Loss:  0.694170,    Accuracy: 51.48%,    Correct Counter: 471/915,    F1 Score: 0.00,    Precision: 1.00,    Recall:  0.00 \n",
      "\n",
      "Validation Set:\n",
      "    Average Loss:  0.696967,    Accuracy: 50.44%,    Correct Counter: 115/228,    F1 Score: 0.00,    Precision: 1.00,    Recall:  0.00 \n",
      "\n",
      "Epoch 10/1000\n"
     ]
    },
    {
     "name": "stderr",
     "output_type": "stream",
     "text": [
      "Batch in Progress: 100%|███████████████████████████████████████████| 29/29 [00:00<00:00, 202.08it/s]\n",
      "Batch in Progress: 100%|██████████████████████████████████████████████████████| 8/8 [00:00<?, ?it/s]\n",
      "Batch in Progress: 100%|███████████████████████████████████████████| 29/29 [00:00<00:00, 246.84it/s]\n",
      "Batch in Progress: 100%|█████████████████████████████████████████████| 8/8 [00:00<00:00, 516.21it/s]\n",
      "Batch in Progress:   0%|                                                     | 0/29 [00:00<?, ?it/s]"
     ]
    },
    {
     "name": "stdout",
     "output_type": "stream",
     "text": [
      "Train Set:\n",
      "    Average Loss:  0.692888,    Accuracy: 51.48%,    Correct Counter: 471/915,    F1 Score: 0.00,    Precision: 1.00,    Recall:  0.00 \n",
      "\n",
      "Validation Set:\n",
      "    Average Loss:  0.695806,    Accuracy: 50.44%,    Correct Counter: 115/228,    F1 Score: 0.00,    Precision: 1.00,    Recall:  0.00 \n",
      "\n",
      "Epoch 11/1000\n",
      "Train Set:\n",
      "    Average Loss:  0.691513,    Accuracy: 51.48%,    Correct Counter: 471/915,    F1 Score: 0.00,    Precision: 1.00,    Recall:  0.00 \n",
      "\n",
      "Validation Set:\n",
      "    Average Loss:  0.694553,    Accuracy: 50.44%,    Correct Counter: 115/228,    F1 Score: 0.00,    Precision: 1.00,    Recall:  0.00 \n",
      "\n",
      "Epoch 12/1000\n"
     ]
    },
    {
     "name": "stderr",
     "output_type": "stream",
     "text": [
      "Batch in Progress: 100%|███████████████████████████████████████████| 29/29 [00:00<00:00, 232.35it/s]\n",
      "Batch in Progress: 100%|█████████████████████████████████████████████| 8/8 [00:00<00:00, 744.79it/s]\n",
      "Batch in Progress: 100%|███████████████████████████████████████████| 29/29 [00:00<00:00, 246.66it/s]\n",
      "Batch in Progress: 100%|█████████████████████████████████████████████| 8/8 [00:00<00:00, 545.80it/s]\n",
      "Batch in Progress:   0%|                                                     | 0/29 [00:00<?, ?it/s]"
     ]
    },
    {
     "name": "stdout",
     "output_type": "stream",
     "text": [
      "Train Set:\n",
      "    Average Loss:  0.689986,    Accuracy: 51.48%,    Correct Counter: 471/915,    F1 Score: 0.00,    Precision: 1.00,    Recall:  0.00 \n",
      "\n",
      "Validation Set:\n",
      "    Average Loss:  0.693175,    Accuracy: 50.44%,    Correct Counter: 115/228,    F1 Score: 0.00,    Precision: 1.00,    Recall:  0.00 \n",
      "\n",
      "Epoch 13/1000\n",
      "Train Set:\n",
      "    Average Loss:  0.688283,    Accuracy: 51.48%,    Correct Counter: 471/915,    F1 Score: 0.00,    Precision: 1.00,    Recall:  0.00 \n",
      "\n",
      "Validation Set:\n",
      "    Average Loss:  0.691653,    Accuracy: 50.44%,    Correct Counter: 115/228,    F1 Score: 0.00,    Precision: 1.00,    Recall:  0.00 \n",
      "\n",
      "Epoch 14/1000\n"
     ]
    },
    {
     "name": "stderr",
     "output_type": "stream",
     "text": [
      "Batch in Progress: 100%|███████████████████████████████████████████| 29/29 [00:00<00:00, 238.53it/s]\n",
      "Batch in Progress: 100%|█████████████████████████████████████████████| 8/8 [00:00<00:00, 669.23it/s]\n",
      "Batch in Progress: 100%|███████████████████████████████████████████| 29/29 [00:00<00:00, 242.82it/s]\n",
      "Batch in Progress: 100%|█████████████████████████████████████████████| 8/8 [00:00<00:00, 602.16it/s]\n",
      "Batch in Progress:   0%|                                                     | 0/29 [00:00<?, ?it/s]"
     ]
    },
    {
     "name": "stdout",
     "output_type": "stream",
     "text": [
      "Train Set:\n",
      "    Average Loss:  0.686409,    Accuracy: 51.48%,    Correct Counter: 471/915,    F1 Score: 0.00,    Precision: 1.00,    Recall:  0.00 \n",
      "\n",
      "Validation Set:\n",
      "    Average Loss:  0.689981,    Accuracy: 50.44%,    Correct Counter: 115/228,    F1 Score: 0.00,    Precision: 1.00,    Recall:  0.00 \n",
      "\n",
      "Epoch 15/1000\n",
      "Train Set:\n",
      "    Average Loss:  0.684375,    Accuracy: 51.48%,    Correct Counter: 471/915,    F1 Score: 0.00,    Precision: 1.00,    Recall:  0.00 \n",
      "\n",
      "Validation Set:\n",
      "    Average Loss:  0.688177,    Accuracy: 50.44%,    Correct Counter: 115/228,    F1 Score: 0.00,    Precision: 1.00,    Recall:  0.00 \n",
      "\n",
      "Epoch 16/1000\n"
     ]
    },
    {
     "name": "stderr",
     "output_type": "stream",
     "text": [
      "Batch in Progress: 100%|███████████████████████████████████████████| 29/29 [00:00<00:00, 219.29it/s]\n",
      "Batch in Progress: 100%|█████████████████████████████████████████████| 8/8 [00:00<00:00, 633.27it/s]\n",
      "Batch in Progress: 100%|███████████████████████████████████████████| 29/29 [00:00<00:00, 248.03it/s]\n",
      "Batch in Progress: 100%|█████████████████████████████████████████████| 8/8 [00:00<00:00, 476.54it/s]\n",
      "Batch in Progress:   0%|                                                     | 0/29 [00:00<?, ?it/s]"
     ]
    },
    {
     "name": "stdout",
     "output_type": "stream",
     "text": [
      "Train Set:\n",
      "    Average Loss:  0.682162,    Accuracy: 51.48%,    Correct Counter: 471/915,    F1 Score: 0.00,    Precision: 1.00,    Recall:  0.00 \n",
      "\n",
      "Validation Set:\n",
      "    Average Loss:  0.686243,    Accuracy: 50.44%,    Correct Counter: 115/228,    F1 Score: 0.00,    Precision: 1.00,    Recall:  0.00 \n",
      "\n",
      "Epoch 17/1000\n",
      "Train Set:\n",
      "    Average Loss:  0.679705,    Accuracy: 51.48%,    Correct Counter: 471/915,    F1 Score: 0.00,    Precision: 1.00,    Recall:  0.00 \n",
      "\n",
      "Validation Set:\n",
      "    Average Loss:  0.684140,    Accuracy: 50.44%,    Correct Counter: 115/228,    F1 Score: 0.00,    Precision: 1.00,    Recall:  0.00 \n",
      "\n",
      "Epoch 18/1000\n"
     ]
    },
    {
     "name": "stderr",
     "output_type": "stream",
     "text": [
      "Batch in Progress: 100%|███████████████████████████████████████████| 29/29 [00:00<00:00, 240.10it/s]\n",
      "Batch in Progress: 100%|█████████████████████████████████████████████| 8/8 [00:00<00:00, 587.51it/s]\n",
      "Batch in Progress: 100%|███████████████████████████████████████████| 29/29 [00:00<00:00, 214.16it/s]\n",
      "Batch in Progress: 100%|█████████████████████████████████████████████| 8/8 [00:00<00:00, 811.47it/s]\n",
      "Batch in Progress:   0%|                                                     | 0/29 [00:00<?, ?it/s]"
     ]
    },
    {
     "name": "stdout",
     "output_type": "stream",
     "text": [
      "Train Set:\n",
      "    Average Loss:  0.676919,    Accuracy: 51.48%,    Correct Counter: 471/915,    F1 Score: 0.00,    Precision: 1.00,    Recall:  0.00 \n",
      "\n",
      "Validation Set:\n",
      "    Average Loss:  0.681803,    Accuracy: 50.44%,    Correct Counter: 115/228,    F1 Score: 0.00,    Precision: 1.00,    Recall:  0.00 \n",
      "\n",
      "Epoch 19/1000\n",
      "Train Set:\n",
      "    Average Loss:  0.673762,    Accuracy: 51.48%,    Correct Counter: 471/915,    F1 Score: 0.00,    Precision: 1.00,    Recall:  0.00 \n",
      "\n",
      "Validation Set:\n",
      "    Average Loss:  0.679199,    Accuracy: 50.44%,    Correct Counter: 115/228,    F1 Score: 0.00,    Precision: 1.00,    Recall:  0.00 \n",
      "\n",
      "Epoch 20/1000\n"
     ]
    },
    {
     "name": "stderr",
     "output_type": "stream",
     "text": [
      "Batch in Progress: 100%|███████████████████████████████████████████| 29/29 [00:00<00:00, 219.53it/s]\n",
      "Batch in Progress: 100%|█████████████████████████████████████████████| 8/8 [00:00<00:00, 626.00it/s]\n",
      "Batch in Progress: 100%|███████████████████████████████████████████| 29/29 [00:00<00:00, 217.66it/s]\n",
      "Batch in Progress: 100%|█████████████████████████████████████████████| 8/8 [00:00<00:00, 634.19it/s]\n",
      "Batch in Progress:   0%|                                                     | 0/29 [00:00<?, ?it/s]"
     ]
    },
    {
     "name": "stdout",
     "output_type": "stream",
     "text": [
      "Train Set:\n",
      "    Average Loss:  0.670186,    Accuracy: 51.48%,    Correct Counter: 471/915,    F1 Score: 0.00,    Precision: 1.00,    Recall:  0.00 \n",
      "\n",
      "Validation Set:\n",
      "    Average Loss:  0.676310,    Accuracy: 50.44%,    Correct Counter: 115/228,    F1 Score: 0.00,    Precision: 1.00,    Recall:  0.00 \n",
      "\n",
      "Epoch 21/1000\n",
      "Train Set:\n",
      "    Average Loss:  0.666139,    Accuracy: 51.48%,    Correct Counter: 471/915,    F1 Score: 0.00,    Precision: 1.00,    Recall:  0.00 \n",
      "\n",
      "Validation Set:\n",
      "    Average Loss:  0.673059,    Accuracy: 50.44%,    Correct Counter: 115/228,    F1 Score: 0.00,    Precision: 1.00,    Recall:  0.00 \n",
      "\n",
      "Epoch 22/1000\n"
     ]
    },
    {
     "name": "stderr",
     "output_type": "stream",
     "text": [
      "Batch in Progress: 100%|███████████████████████████████████████████| 29/29 [00:00<00:00, 246.95it/s]\n",
      "Batch in Progress: 100%|████████████████████████████████████████████| 8/8 [00:00<00:00, 2625.13it/s]\n",
      "Batch in Progress: 100%|███████████████████████████████████████████| 29/29 [00:00<00:00, 242.15it/s]\n",
      "Batch in Progress: 100%|█████████████████████████████████████████████| 8/8 [00:00<00:00, 535.58it/s]\n",
      "Batch in Progress:   0%|                                                     | 0/29 [00:00<?, ?it/s]"
     ]
    },
    {
     "name": "stdout",
     "output_type": "stream",
     "text": [
      "Train Set:\n",
      "    Average Loss:  0.661623,    Accuracy: 51.48%,    Correct Counter: 471/915,    F1 Score: 0.00,    Precision: 1.00,    Recall:  0.00 \n",
      "\n",
      "Validation Set:\n",
      "    Average Loss:  0.669510,    Accuracy: 50.44%,    Correct Counter: 115/228,    F1 Score: 0.00,    Precision: 1.00,    Recall:  0.00 \n",
      "\n",
      "Epoch 23/1000\n",
      "Train Set:\n",
      "    Average Loss:  0.656568,    Accuracy: 51.48%,    Correct Counter: 471/915,    F1 Score: 0.00,    Precision: 1.00,    Recall:  0.00 \n",
      "\n",
      "Validation Set:\n",
      "    Average Loss:  0.665686,    Accuracy: 50.44%,    Correct Counter: 115/228,    F1 Score: 0.00,    Precision: 1.00,    Recall:  0.00 \n",
      "\n",
      "Epoch 24/1000\n"
     ]
    },
    {
     "name": "stderr",
     "output_type": "stream",
     "text": [
      "Batch in Progress: 100%|███████████████████████████████████████████| 29/29 [00:00<00:00, 244.80it/s]\n",
      "Batch in Progress: 100%|████████████████████████████████████████████| 8/8 [00:00<00:00, 2707.53it/s]\n",
      "Batch in Progress: 100%|███████████████████████████████████████████| 29/29 [00:00<00:00, 240.26it/s]\n",
      "Batch in Progress: 100%|█████████████████████████████████████████████| 8/8 [00:00<00:00, 264.00it/s]\n"
     ]
    },
    {
     "name": "stdout",
     "output_type": "stream",
     "text": [
      "Train Set:\n",
      "    Average Loss:  0.651070,    Accuracy: 51.48%,    Correct Counter: 471/915,    F1 Score: 0.00,    Precision: 1.00,    Recall:  0.00 \n",
      "\n",
      "Validation Set:\n",
      "    Average Loss:  0.661744,    Accuracy: 50.44%,    Correct Counter: 115/228,    F1 Score: 0.00,    Precision: 1.00,    Recall:  0.00 \n",
      "\n",
      "Epoch 25/1000\n",
      "Train Set:\n",
      "    Average Loss:  0.645283,    Accuracy: 51.48%,    Correct Counter: 471/915,    F1 Score: 0.00,    Precision: 1.00,    Recall:  0.00 \n",
      "\n",
      "Validation Set:\n",
      "    Average Loss:  0.657726,    Accuracy: 50.44%,    Correct Counter: 115/228,    F1 Score: 0.00,    Precision: 1.00,    Recall:  0.00 \n",
      "\n",
      "Epoch 26/1000\n"
     ]
    },
    {
     "name": "stderr",
     "output_type": "stream",
     "text": [
      "Batch in Progress: 100%|███████████████████████████████████████████| 29/29 [00:00<00:00, 250.14it/s]\n",
      "Batch in Progress: 100%|█████████████████████████████████████████████| 8/8 [00:00<00:00, 585.93it/s]\n",
      "Batch in Progress: 100%|███████████████████████████████████████████| 29/29 [00:00<00:00, 219.57it/s]\n",
      "Batch in Progress: 100%|█████████████████████████████████████████████| 8/8 [00:00<00:00, 583.67it/s]\n",
      "Batch in Progress:   0%|                                                     | 0/29 [00:00<?, ?it/s]"
     ]
    },
    {
     "name": "stdout",
     "output_type": "stream",
     "text": [
      "Train Set:\n",
      "    Average Loss:  0.639272,    Accuracy: 51.48%,    Correct Counter: 471/915,    F1 Score: 0.00,    Precision: 1.00,    Recall:  0.00 \n",
      "\n",
      "Validation Set:\n",
      "    Average Loss:  0.653723,    Accuracy: 50.44%,    Correct Counter: 115/228,    F1 Score: 0.00,    Precision: 1.00,    Recall:  0.00 \n",
      "\n",
      "Epoch 27/1000\n",
      "Train Set:\n",
      "    Average Loss:  0.633153,    Accuracy: 51.48%,    Correct Counter: 471/915,    F1 Score: 0.00,    Precision: 1.00,    Recall:  0.00 \n",
      "\n",
      "Validation Set:\n",
      "    Average Loss:  0.649832,    Accuracy: 50.44%,    Correct Counter: 115/228,    F1 Score: 0.00,    Precision: 1.00,    Recall:  0.00 \n",
      "\n",
      "Epoch 28/1000\n"
     ]
    },
    {
     "name": "stderr",
     "output_type": "stream",
     "text": [
      "Batch in Progress: 100%|███████████████████████████████████████████| 29/29 [00:00<00:00, 245.84it/s]\n",
      "Batch in Progress: 100%|████████████████████████████████████████████| 8/8 [00:00<00:00, 2798.77it/s]\n",
      "Batch in Progress: 100%|███████████████████████████████████████████| 29/29 [00:00<00:00, 246.30it/s]\n",
      "Batch in Progress: 100%|█████████████████████████████████████████████| 8/8 [00:00<00:00, 491.83it/s]\n",
      "Batch in Progress:   0%|                                                     | 0/29 [00:00<?, ?it/s]"
     ]
    },
    {
     "name": "stdout",
     "output_type": "stream",
     "text": [
      "Train Set:\n",
      "    Average Loss:  0.627004,    Accuracy: 51.48%,    Correct Counter: 471/915,    F1 Score: 0.00,    Precision: 1.00,    Recall:  0.00 \n",
      "\n",
      "Validation Set:\n",
      "    Average Loss:  0.646083,    Accuracy: 50.44%,    Correct Counter: 115/228,    F1 Score: 0.00,    Precision: 1.00,    Recall:  0.00 \n",
      "\n",
      "Epoch 29/1000\n",
      "Train Set:\n",
      "    Average Loss:  0.620883,    Accuracy: 51.48%,    Correct Counter: 471/915,    F1 Score: 0.00,    Precision: 1.00,    Recall:  0.00 \n",
      "\n",
      "Validation Set:\n",
      "    Average Loss:  0.642531,    Accuracy: 50.44%,    Correct Counter: 115/228,    F1 Score: 0.00,    Precision: 1.00,    Recall:  0.00 \n",
      "\n",
      "Epoch 30/1000\n"
     ]
    },
    {
     "name": "stderr",
     "output_type": "stream",
     "text": [
      "Batch in Progress: 100%|███████████████████████████████████████████| 29/29 [00:00<00:00, 242.27it/s]\n",
      "Batch in Progress: 100%|█████████████████████████████████████████████| 8/8 [00:00<00:00, 589.89it/s]\n",
      "Batch in Progress: 100%|███████████████████████████████████████████| 29/29 [00:00<00:00, 222.75it/s]\n",
      "Batch in Progress: 100%|█████████████████████████████████████████████| 8/8 [00:00<00:00, 552.22it/s]\n",
      "Batch in Progress:   0%|                                                     | 0/29 [00:00<?, ?it/s]"
     ]
    },
    {
     "name": "stdout",
     "output_type": "stream",
     "text": [
      "Train Set:\n",
      "    Average Loss:  0.614811,    Accuracy: 51.48%,    Correct Counter: 471/915,    F1 Score: 0.00,    Precision: 1.00,    Recall:  0.00 \n",
      "\n",
      "Validation Set:\n",
      "    Average Loss:  0.639204,    Accuracy: 50.44%,    Correct Counter: 115/228,    F1 Score: 0.00,    Precision: 1.00,    Recall:  0.00 \n",
      "\n",
      "Epoch 31/1000\n",
      "Train Set:\n",
      "    Average Loss:  0.608854,    Accuracy: 51.48%,    Correct Counter: 471/915,    F1 Score: 0.00,    Precision: 1.00,    Recall:  0.00 \n",
      "\n",
      "Validation Set:\n",
      "    Average Loss:  0.636118,    Accuracy: 50.44%,    Correct Counter: 115/228,    F1 Score: 0.00,    Precision: 1.00,    Recall:  0.00 \n",
      "\n",
      "Epoch 32/1000\n"
     ]
    },
    {
     "name": "stderr",
     "output_type": "stream",
     "text": [
      "Batch in Progress: 100%|███████████████████████████████████████████| 29/29 [00:00<00:00, 213.99it/s]\n",
      "Batch in Progress: 100%|█████████████████████████████████████████████| 8/8 [00:00<00:00, 746.30it/s]\n",
      "Batch in Progress: 100%|███████████████████████████████████████████| 29/29 [00:00<00:00, 245.38it/s]\n",
      "Batch in Progress: 100%|█████████████████████████████████████████████| 8/8 [00:00<00:00, 545.10it/s]\n",
      "Batch in Progress:   0%|                                                     | 0/29 [00:00<?, ?it/s]"
     ]
    },
    {
     "name": "stdout",
     "output_type": "stream",
     "text": [
      "Train Set:\n",
      "    Average Loss:  0.603078,    Accuracy: 51.48%,    Correct Counter: 471/915,    F1 Score: 0.00,    Precision: 1.00,    Recall:  0.00 \n",
      "\n",
      "Validation Set:\n",
      "    Average Loss:  0.633284,    Accuracy: 50.44%,    Correct Counter: 115/228,    F1 Score: 0.00,    Precision: 1.00,    Recall:  0.00 \n",
      "\n",
      "Epoch 33/1000\n",
      "Train Set:\n",
      "    Average Loss:  0.597517,    Accuracy: 54.21%,    Correct Counter: 496/915,    F1 Score: 0.19,    Precision: 0.68,    Recall:  0.11 \n",
      "\n",
      "Validation Set:\n",
      "    Average Loss:  0.630723,    Accuracy: 63.16%,    Correct Counter: 144/228,    F1 Score: 0.57,    Precision: 0.67,    Recall:  0.50 \n",
      "\n",
      "Epoch 34/1000\n"
     ]
    },
    {
     "name": "stderr",
     "output_type": "stream",
     "text": [
      "Batch in Progress: 100%|███████████████████████████████████████████| 29/29 [00:00<00:00, 244.06it/s]\n",
      "Batch in Progress: 100%|█████████████████████████████████████████████| 8/8 [00:00<00:00, 552.55it/s]\n",
      "Batch in Progress: 100%|███████████████████████████████████████████| 29/29 [00:00<00:00, 217.37it/s]\n",
      "Batch in Progress: 100%|█████████████████████████████████████████████| 8/8 [00:00<00:00, 631.65it/s]\n",
      "Batch in Progress:   0%|                                                     | 0/29 [00:00<?, ?it/s]"
     ]
    },
    {
     "name": "stdout",
     "output_type": "stream",
     "text": [
      "Train Set:\n",
      "    Average Loss:  0.592179,    Accuracy: 68.52%,    Correct Counter: 627/915,    F1 Score: 0.68,    Precision: 0.67,    Recall:  0.70 \n",
      "\n",
      "Validation Set:\n",
      "    Average Loss:  0.628292,    Accuracy: 67.54%,    Correct Counter: 154/228,    F1 Score: 0.70,    Precision: 0.64,    Recall:  0.77 \n",
      "\n",
      "Epoch 35/1000\n",
      "Train Set:\n",
      "    Average Loss:  0.586838,    Accuracy: 69.62%,    Correct Counter: 637/915,    F1 Score: 0.72,    Precision: 0.65,    Recall:  0.81 \n",
      "\n",
      "Validation Set:\n",
      "    Average Loss:  0.625900,    Accuracy: 66.67%,    Correct Counter: 152/228,    F1 Score: 0.71,    Precision: 0.62,    Recall:  0.82 \n",
      "\n",
      "Epoch 36/1000\n"
     ]
    },
    {
     "name": "stderr",
     "output_type": "stream",
     "text": [
      "Batch in Progress: 100%|███████████████████████████████████████████| 29/29 [00:00<00:00, 241.10it/s]\n",
      "Batch in Progress: 100%|█████████████████████████████████████████████| 8/8 [00:00<00:00, 607.18it/s]\n",
      "Batch in Progress: 100%|███████████████████████████████████████████| 29/29 [00:00<00:00, 240.86it/s]\n",
      "Batch in Progress: 100%|█████████████████████████████████████████████| 8/8 [00:00<00:00, 501.96it/s]\n",
      "Batch in Progress:   0%|                                                     | 0/29 [00:00<?, ?it/s]"
     ]
    },
    {
     "name": "stdout",
     "output_type": "stream",
     "text": [
      "Train Set:\n",
      "    Average Loss:  0.581636,    Accuracy: 70.16%,    Correct Counter: 642/915,    F1 Score: 0.73,    Precision: 0.65,    Recall:  0.84 \n",
      "\n",
      "Validation Set:\n",
      "    Average Loss:  0.623780,    Accuracy: 67.54%,    Correct Counter: 154/228,    F1 Score: 0.72,    Precision: 0.63,    Recall:  0.86 \n",
      "\n",
      "Epoch 37/1000\n",
      "Train Set:\n",
      "    Average Loss:  0.576714,    Accuracy: 70.49%,    Correct Counter: 645/915,    F1 Score: 0.74,    Precision: 0.65,    Recall:  0.86 \n",
      "\n",
      "Validation Set:\n",
      "    Average Loss:  0.621924,    Accuracy: 67.54%,    Correct Counter: 154/228,    F1 Score: 0.73,    Precision: 0.62,    Recall:  0.87 \n",
      "\n",
      "Epoch 38/1000\n"
     ]
    },
    {
     "name": "stderr",
     "output_type": "stream",
     "text": [
      "Batch in Progress: 100%|███████████████████████████████████████████| 29/29 [00:00<00:00, 214.27it/s]\n",
      "Batch in Progress: 100%|█████████████████████████████████████████████| 8/8 [00:00<00:00, 822.88it/s]\n",
      "Batch in Progress: 100%|███████████████████████████████████████████| 29/29 [00:00<00:00, 243.94it/s]\n",
      "Batch in Progress: 100%|█████████████████████████████████████████████| 8/8 [00:00<00:00, 431.18it/s]\n",
      "Batch in Progress:   0%|                                                     | 0/29 [00:00<?, ?it/s]"
     ]
    },
    {
     "name": "stdout",
     "output_type": "stream",
     "text": [
      "Train Set:\n",
      "    Average Loss:  0.572098,    Accuracy: 70.60%,    Correct Counter: 646/915,    F1 Score: 0.74,    Precision: 0.65,    Recall:  0.87 \n",
      "\n",
      "Validation Set:\n",
      "    Average Loss:  0.620317,    Accuracy: 67.54%,    Correct Counter: 154/228,    F1 Score: 0.73,    Precision: 0.62,    Recall:  0.88 \n",
      "\n",
      "Epoch 39/1000\n",
      "Train Set:\n",
      "    Average Loss:  0.567798,    Accuracy: 70.93%,    Correct Counter: 649/915,    F1 Score: 0.75,    Precision: 0.65,    Recall:  0.88 \n",
      "\n",
      "Validation Set:\n",
      "    Average Loss:  0.618966,    Accuracy: 67.54%,    Correct Counter: 154/228,    F1 Score: 0.73,    Precision: 0.62,    Recall:  0.88 \n",
      "\n",
      "Epoch 40/1000\n"
     ]
    },
    {
     "name": "stderr",
     "output_type": "stream",
     "text": [
      "Batch in Progress: 100%|███████████████████████████████████████████| 29/29 [00:00<00:00, 248.88it/s]\n",
      "Batch in Progress: 100%|████████████████████████████████████████████| 8/8 [00:00<00:00, 2566.11it/s]\n",
      "Batch in Progress: 100%|███████████████████████████████████████████| 29/29 [00:00<00:00, 243.28it/s]\n",
      "Batch in Progress: 100%|█████████████████████████████████████████████| 8/8 [00:00<00:00, 594.61it/s]\n",
      "Batch in Progress:   0%|                                                     | 0/29 [00:00<?, ?it/s]"
     ]
    },
    {
     "name": "stdout",
     "output_type": "stream",
     "text": [
      "Train Set:\n",
      "    Average Loss:  0.563837,    Accuracy: 71.26%,    Correct Counter: 652/915,    F1 Score: 0.75,    Precision: 0.65,    Recall:  0.89 \n",
      "\n",
      "Validation Set:\n",
      "    Average Loss:  0.617842,    Accuracy: 67.54%,    Correct Counter: 154/228,    F1 Score: 0.73,    Precision: 0.62,    Recall:  0.88 \n",
      "\n",
      "Epoch 41/1000\n",
      "Train Set:\n",
      "    Average Loss:  0.560207,    Accuracy: 71.15%,    Correct Counter: 651/915,    F1 Score: 0.75,    Precision: 0.65,    Recall:  0.89 \n",
      "\n",
      "Validation Set:\n",
      "    Average Loss:  0.616920,    Accuracy: 67.54%,    Correct Counter: 154/228,    F1 Score: 0.73,    Precision: 0.62,    Recall:  0.88 \n",
      "\n",
      "Epoch 42/1000\n"
     ]
    },
    {
     "name": "stderr",
     "output_type": "stream",
     "text": [
      "Batch in Progress: 100%|███████████████████████████████████████████| 29/29 [00:00<00:00, 249.04it/s]\n",
      "Batch in Progress: 100%|█████████████████████████████████████████████| 8/8 [00:00<00:00, 546.39it/s]\n",
      "Batch in Progress: 100%|███████████████████████████████████████████| 29/29 [00:00<00:00, 243.85it/s]\n",
      "Batch in Progress: 100%|█████████████████████████████████████████████| 8/8 [00:00<00:00, 552.76it/s]\n",
      "Batch in Progress:   0%|                                                     | 0/29 [00:00<?, ?it/s]"
     ]
    },
    {
     "name": "stdout",
     "output_type": "stream",
     "text": [
      "Train Set:\n",
      "    Average Loss:  0.556910,    Accuracy: 71.26%,    Correct Counter: 652/915,    F1 Score: 0.75,    Precision: 0.65,    Recall:  0.90 \n",
      "\n",
      "Validation Set:\n",
      "    Average Loss:  0.616228,    Accuracy: 67.54%,    Correct Counter: 154/228,    F1 Score: 0.73,    Precision: 0.62,    Recall:  0.88 \n",
      "\n",
      "Epoch 43/1000\n",
      "Train Set:\n",
      "    Average Loss:  0.553957,    Accuracy: 71.26%,    Correct Counter: 652/915,    F1 Score: 0.75,    Precision: 0.65,    Recall:  0.90 \n",
      "\n",
      "Validation Set:\n",
      "    Average Loss:  0.615781,    Accuracy: 66.67%,    Correct Counter: 152/228,    F1 Score: 0.72,    Precision: 0.61,    Recall:  0.88 \n",
      "\n",
      "Epoch 44/1000\n"
     ]
    },
    {
     "name": "stderr",
     "output_type": "stream",
     "text": [
      "Batch in Progress: 100%|███████████████████████████████████████████| 29/29 [00:00<00:00, 222.77it/s]\n",
      "Batch in Progress: 100%|█████████████████████████████████████████████| 8/8 [00:00<00:00, 510.05it/s]\n",
      "Batch in Progress: 100%|███████████████████████████████████████████| 29/29 [00:00<00:00, 241.89it/s]\n",
      "Batch in Progress: 100%|█████████████████████████████████████████████| 8/8 [00:00<00:00, 589.34it/s]\n",
      "Batch in Progress:   0%|                                                     | 0/29 [00:00<?, ?it/s]"
     ]
    },
    {
     "name": "stdout",
     "output_type": "stream",
     "text": [
      "Train Set:\n",
      "    Average Loss:  0.551339,    Accuracy: 71.37%,    Correct Counter: 653/915,    F1 Score: 0.75,    Precision: 0.65,    Recall:  0.90 \n",
      "\n",
      "Validation Set:\n",
      "    Average Loss:  0.615514,    Accuracy: 66.23%,    Correct Counter: 151/228,    F1 Score: 0.72,    Precision: 0.61,    Recall:  0.88 \n",
      "\n",
      "Epoch 45/1000\n",
      "Train Set:\n",
      "    Average Loss:  0.549038,    Accuracy: 71.48%,    Correct Counter: 654/915,    F1 Score: 0.75,    Precision: 0.65,    Recall:  0.90 \n",
      "\n",
      "Validation Set:\n",
      "    Average Loss:  0.615415,    Accuracy: 66.23%,    Correct Counter: 151/228,    F1 Score: 0.72,    Precision: 0.61,    Recall:  0.88 \n",
      "\n",
      "Epoch 46/1000\n"
     ]
    },
    {
     "name": "stderr",
     "output_type": "stream",
     "text": [
      "Batch in Progress: 100%|███████████████████████████████████████████| 29/29 [00:00<00:00, 222.85it/s]\n",
      "Batch in Progress: 100%|█████████████████████████████████████████████| 8/8 [00:00<00:00, 541.51it/s]\n",
      "Batch in Progress: 100%|███████████████████████████████████████████| 29/29 [00:00<00:00, 247.78it/s]\n",
      "Batch in Progress: 100%|█████████████████████████████████████████████| 8/8 [00:00<00:00, 487.62it/s]\n",
      "Batch in Progress:   0%|                                                     | 0/29 [00:00<?, ?it/s]"
     ]
    },
    {
     "name": "stdout",
     "output_type": "stream",
     "text": [
      "Train Set:\n",
      "    Average Loss:  0.547033,    Accuracy: 71.69%,    Correct Counter: 656/915,    F1 Score: 0.76,    Precision: 0.65,    Recall:  0.91 \n",
      "\n",
      "Validation Set:\n",
      "    Average Loss:  0.615468,    Accuracy: 65.79%,    Correct Counter: 150/228,    F1 Score: 0.72,    Precision: 0.61,    Recall:  0.88 \n",
      "\n",
      "Epoch 47/1000\n",
      "Train Set:\n",
      "    Average Loss:  0.545304,    Accuracy: 71.91%,    Correct Counter: 658/915,    F1 Score: 0.76,    Precision: 0.65,    Recall:  0.91 \n",
      "\n",
      "Validation Set:\n",
      "    Average Loss:  0.615653,    Accuracy: 65.79%,    Correct Counter: 150/228,    F1 Score: 0.72,    Precision: 0.61,    Recall:  0.88 \n",
      "\n",
      "Epoch 48/1000\n"
     ]
    },
    {
     "name": "stderr",
     "output_type": "stream",
     "text": [
      "Batch in Progress: 100%|███████████████████████████████████████████| 29/29 [00:00<00:00, 219.50it/s]\n",
      "Batch in Progress: 100%|█████████████████████████████████████████████| 8/8 [00:00<00:00, 633.41it/s]\n",
      "Batch in Progress: 100%|███████████████████████████████████████████| 29/29 [00:00<00:00, 240.71it/s]\n",
      "Batch in Progress: 100%|█████████████████████████████████████████████| 8/8 [00:00<00:00, 496.63it/s]\n",
      "Batch in Progress:   0%|                                                     | 0/29 [00:00<?, ?it/s]"
     ]
    },
    {
     "name": "stdout",
     "output_type": "stream",
     "text": [
      "Train Set:\n",
      "    Average Loss:  0.543828,    Accuracy: 72.13%,    Correct Counter: 660/915,    F1 Score: 0.76,    Precision: 0.65,    Recall:  0.92 \n",
      "\n",
      "Validation Set:\n",
      "    Average Loss:  0.615943,    Accuracy: 66.23%,    Correct Counter: 151/228,    F1 Score: 0.72,    Precision: 0.61,    Recall:  0.89 \n",
      "\n",
      "Epoch 49/1000\n",
      "Train Set:\n",
      "    Average Loss:  0.542572,    Accuracy: 72.13%,    Correct Counter: 660/915,    F1 Score: 0.76,    Precision: 0.65,    Recall:  0.92 \n",
      "\n",
      "Validation Set:\n",
      "    Average Loss:  0.616339,    Accuracy: 66.23%,    Correct Counter: 151/228,    F1 Score: 0.72,    Precision: 0.61,    Recall:  0.89 \n",
      "\n",
      "Epoch 50/1000\n"
     ]
    },
    {
     "name": "stderr",
     "output_type": "stream",
     "text": [
      "Batch in Progress: 100%|███████████████████████████████████████████| 29/29 [00:00<00:00, 221.17it/s]\n",
      "Batch in Progress: 100%|█████████████████████████████████████████████| 8/8 [00:00<00:00, 550.33it/s]\n",
      "Batch in Progress: 100%|███████████████████████████████████████████| 29/29 [00:00<00:00, 217.26it/s]\n",
      "Batch in Progress: 100%|█████████████████████████████████████████████| 8/8 [00:00<00:00, 633.69it/s]\n",
      "Batch in Progress:   0%|                                                     | 0/29 [00:00<?, ?it/s]"
     ]
    },
    {
     "name": "stdout",
     "output_type": "stream",
     "text": [
      "Train Set:\n",
      "    Average Loss:  0.541522,    Accuracy: 72.02%,    Correct Counter: 659/915,    F1 Score: 0.76,    Precision: 0.65,    Recall:  0.92 \n",
      "\n",
      "Validation Set:\n",
      "    Average Loss:  0.616803,    Accuracy: 66.23%,    Correct Counter: 151/228,    F1 Score: 0.72,    Precision: 0.61,    Recall:  0.89 \n",
      "\n",
      "Epoch 51/1000\n",
      "Train Set:\n",
      "    Average Loss:  0.540651,    Accuracy: 72.13%,    Correct Counter: 660/915,    F1 Score: 0.76,    Precision: 0.65,    Recall:  0.92 \n",
      "\n",
      "Validation Set:\n",
      "    Average Loss:  0.617279,    Accuracy: 66.23%,    Correct Counter: 151/228,    F1 Score: 0.72,    Precision: 0.61,    Recall:  0.89 \n",
      "\n",
      "Epoch 52/1000\n"
     ]
    },
    {
     "name": "stderr",
     "output_type": "stream",
     "text": [
      "Batch in Progress: 100%|███████████████████████████████████████████| 29/29 [00:00<00:00, 239.28it/s]\n",
      "Batch in Progress: 100%|█████████████████████████████████████████████| 8/8 [00:00<00:00, 604.45it/s]\n",
      "Batch in Progress: 100%|███████████████████████████████████████████| 29/29 [00:00<00:00, 247.93it/s]\n",
      "Batch in Progress: 100%|█████████████████████████████████████████████| 8/8 [00:00<00:00, 485.90it/s]\n",
      "Batch in Progress:   0%|                                                     | 0/29 [00:00<?, ?it/s]"
     ]
    },
    {
     "name": "stdout",
     "output_type": "stream",
     "text": [
      "Train Set:\n",
      "    Average Loss:  0.539927,    Accuracy: 72.24%,    Correct Counter: 661/915,    F1 Score: 0.76,    Precision: 0.65,    Recall:  0.92 \n",
      "\n",
      "Validation Set:\n",
      "    Average Loss:  0.617775,    Accuracy: 66.23%,    Correct Counter: 151/228,    F1 Score: 0.72,    Precision: 0.61,    Recall:  0.89 \n",
      "\n",
      "Epoch 53/1000\n",
      "Train Set:\n",
      "    Average Loss:  0.539325,    Accuracy: 72.13%,    Correct Counter: 660/915,    F1 Score: 0.76,    Precision: 0.65,    Recall:  0.92 \n",
      "\n",
      "Validation Set:\n",
      "    Average Loss:  0.618272,    Accuracy: 66.23%,    Correct Counter: 151/228,    F1 Score: 0.72,    Precision: 0.61,    Recall:  0.89 \n",
      "\n",
      "Epoch 54/1000\n"
     ]
    },
    {
     "name": "stderr",
     "output_type": "stream",
     "text": [
      "Batch in Progress: 100%|███████████████████████████████████████████| 29/29 [00:00<00:00, 222.74it/s]\n",
      "Batch in Progress: 100%|█████████████████████████████████████████████| 8/8 [00:00<00:00, 543.74it/s]\n",
      "Batch in Progress: 100%|███████████████████████████████████████████| 29/29 [00:00<00:00, 248.42it/s]\n",
      "Batch in Progress: 100%|█████████████████████████████████████████████| 8/8 [00:00<00:00, 471.87it/s]\n",
      "Batch in Progress:   0%|                                                     | 0/29 [00:00<?, ?it/s]"
     ]
    },
    {
     "name": "stdout",
     "output_type": "stream",
     "text": [
      "Train Set:\n",
      "    Average Loss:  0.538815,    Accuracy: 72.02%,    Correct Counter: 659/915,    F1 Score: 0.76,    Precision: 0.65,    Recall:  0.92 \n",
      "\n",
      "Validation Set:\n",
      "    Average Loss:  0.618749,    Accuracy: 66.23%,    Correct Counter: 151/228,    F1 Score: 0.72,    Precision: 0.61,    Recall:  0.89 \n",
      "\n",
      "Epoch 55/1000\n",
      "Train Set:\n",
      "    Average Loss:  0.538384,    Accuracy: 72.02%,    Correct Counter: 659/915,    F1 Score: 0.76,    Precision: 0.65,    Recall:  0.92 \n",
      "\n",
      "Validation Set:\n",
      "    Average Loss:  0.619197,    Accuracy: 66.23%,    Correct Counter: 151/228,    F1 Score: 0.72,    Precision: 0.61,    Recall:  0.89 \n",
      "\n",
      "Epoch 56/1000\n"
     ]
    },
    {
     "name": "stderr",
     "output_type": "stream",
     "text": [
      "Batch in Progress: 100%|███████████████████████████████████████████| 29/29 [00:00<00:00, 222.97it/s]\n",
      "Batch in Progress: 100%|█████████████████████████████████████████████| 8/8 [00:00<00:00, 559.97it/s]\n",
      "Batch in Progress: 100%|███████████████████████████████████████████| 29/29 [00:00<00:00, 248.53it/s]\n",
      "Batch in Progress: 100%|█████████████████████████████████████████████| 8/8 [00:00<00:00, 474.18it/s]\n",
      "Batch in Progress:   0%|                                                     | 0/29 [00:00<?, ?it/s]"
     ]
    },
    {
     "name": "stdout",
     "output_type": "stream",
     "text": [
      "Train Set:\n",
      "    Average Loss:  0.538015,    Accuracy: 72.02%,    Correct Counter: 659/915,    F1 Score: 0.76,    Precision: 0.65,    Recall:  0.92 \n",
      "\n",
      "Validation Set:\n",
      "    Average Loss:  0.619614,    Accuracy: 66.23%,    Correct Counter: 151/228,    F1 Score: 0.72,    Precision: 0.61,    Recall:  0.89 \n",
      "\n",
      "Epoch 57/1000\n",
      "Train Set:\n",
      "    Average Loss:  0.537691,    Accuracy: 72.02%,    Correct Counter: 659/915,    F1 Score: 0.76,    Precision: 0.65,    Recall:  0.92 \n",
      "\n",
      "Validation Set:\n",
      "    Average Loss:  0.619970,    Accuracy: 66.23%,    Correct Counter: 151/228,    F1 Score: 0.72,    Precision: 0.61,    Recall:  0.89 \n",
      "\n",
      "Epoch 58/1000\n"
     ]
    },
    {
     "name": "stderr",
     "output_type": "stream",
     "text": [
      "Batch in Progress: 100%|███████████████████████████████████████████| 29/29 [00:00<00:00, 249.53it/s]\n",
      "Batch in Progress: 100%|█████████████████████████████████████████████| 8/8 [00:00<00:00, 428.72it/s]\n",
      "Batch in Progress: 100%|███████████████████████████████████████████| 29/29 [00:00<00:00, 248.77it/s]\n",
      "Batch in Progress: 100%|█████████████████████████████████████████████| 8/8 [00:00<00:00, 473.24it/s]\n",
      "Batch in Progress:   0%|                                                     | 0/29 [00:00<?, ?it/s]"
     ]
    },
    {
     "name": "stdout",
     "output_type": "stream",
     "text": [
      "Train Set:\n",
      "    Average Loss:  0.537403,    Accuracy: 71.91%,    Correct Counter: 658/915,    F1 Score: 0.76,    Precision: 0.65,    Recall:  0.92 \n",
      "\n",
      "Validation Set:\n",
      "    Average Loss:  0.620288,    Accuracy: 66.23%,    Correct Counter: 151/228,    F1 Score: 0.72,    Precision: 0.61,    Recall:  0.89 \n",
      "\n",
      "Epoch 59/1000\n",
      "Train Set:\n",
      "    Average Loss:  0.537153,    Accuracy: 71.91%,    Correct Counter: 658/915,    F1 Score: 0.76,    Precision: 0.65,    Recall:  0.92 \n",
      "\n",
      "Validation Set:\n",
      "    Average Loss:  0.620584,    Accuracy: 66.23%,    Correct Counter: 151/228,    F1 Score: 0.72,    Precision: 0.61,    Recall:  0.89 \n",
      "\n",
      "Epoch 60/1000\n"
     ]
    },
    {
     "name": "stderr",
     "output_type": "stream",
     "text": [
      "Batch in Progress: 100%|███████████████████████████████████████████| 29/29 [00:00<00:00, 251.65it/s]\n",
      "Batch in Progress: 100%|█████████████████████████████████████████████| 8/8 [00:00<00:00, 580.90it/s]\n",
      "Batch in Progress: 100%|███████████████████████████████████████████| 29/29 [00:00<00:00, 241.73it/s]\n",
      "Batch in Progress: 100%|█████████████████████████████████████████████| 8/8 [00:00<00:00, 596.17it/s]\n",
      "Batch in Progress:   0%|                                                     | 0/29 [00:00<?, ?it/s]"
     ]
    },
    {
     "name": "stdout",
     "output_type": "stream",
     "text": [
      "Train Set:\n",
      "    Average Loss:  0.536933,    Accuracy: 71.80%,    Correct Counter: 657/915,    F1 Score: 0.76,    Precision: 0.65,    Recall:  0.92 \n",
      "\n",
      "Validation Set:\n",
      "    Average Loss:  0.620842,    Accuracy: 66.23%,    Correct Counter: 151/228,    F1 Score: 0.72,    Precision: 0.61,    Recall:  0.89 \n",
      "\n",
      "Epoch 61/1000\n",
      "Train Set:\n",
      "    Average Loss:  0.536730,    Accuracy: 71.80%,    Correct Counter: 657/915,    F1 Score: 0.76,    Precision: 0.65,    Recall:  0.92 \n",
      "\n",
      "Validation Set:\n",
      "    Average Loss:  0.621071,    Accuracy: 66.23%,    Correct Counter: 151/228,    F1 Score: 0.72,    Precision: 0.61,    Recall:  0.89 \n",
      "\n",
      "Epoch 62/1000\n"
     ]
    },
    {
     "name": "stderr",
     "output_type": "stream",
     "text": [
      "Batch in Progress: 100%|███████████████████████████████████████████| 29/29 [00:00<00:00, 241.45it/s]\n",
      "Batch in Progress: 100%|█████████████████████████████████████████████| 8/8 [00:00<00:00, 513.93it/s]\n",
      "Batch in Progress: 100%|███████████████████████████████████████████| 29/29 [00:00<00:00, 239.51it/s]\n",
      "Batch in Progress: 100%|█████████████████████████████████████████████| 8/8 [00:00<00:00, 482.44it/s]\n",
      "Batch in Progress:   0%|                                                     | 0/29 [00:00<?, ?it/s]"
     ]
    },
    {
     "name": "stdout",
     "output_type": "stream",
     "text": [
      "Train Set:\n",
      "    Average Loss:  0.536555,    Accuracy: 71.80%,    Correct Counter: 657/915,    F1 Score: 0.76,    Precision: 0.65,    Recall:  0.92 \n",
      "\n",
      "Validation Set:\n",
      "    Average Loss:  0.621233,    Accuracy: 66.23%,    Correct Counter: 151/228,    F1 Score: 0.72,    Precision: 0.61,    Recall:  0.89 \n",
      "\n",
      "Epoch 63/1000\n",
      "Train Set:\n",
      "    Average Loss:  0.536375,    Accuracy: 71.80%,    Correct Counter: 657/915,    F1 Score: 0.76,    Precision: 0.65,    Recall:  0.92 \n",
      "\n",
      "Validation Set:\n",
      "    Average Loss:  0.621369,    Accuracy: 66.23%,    Correct Counter: 151/228,    F1 Score: 0.72,    Precision: 0.61,    Recall:  0.89 \n",
      "\n",
      "Epoch 64/1000\n"
     ]
    },
    {
     "name": "stderr",
     "output_type": "stream",
     "text": [
      "Batch in Progress: 100%|███████████████████████████████████████████| 29/29 [00:00<00:00, 220.69it/s]\n",
      "Batch in Progress: 100%|█████████████████████████████████████████████| 8/8 [00:00<00:00, 576.43it/s]\n",
      "Batch in Progress: 100%|███████████████████████████████████████████| 29/29 [00:00<00:00, 244.08it/s]\n",
      "Batch in Progress: 100%|█████████████████████████████████████████████| 8/8 [00:00<00:00, 546.45it/s]\n",
      "Batch in Progress:   0%|                                                     | 0/29 [00:00<?, ?it/s]"
     ]
    },
    {
     "name": "stdout",
     "output_type": "stream",
     "text": [
      "Train Set:\n",
      "    Average Loss:  0.536215,    Accuracy: 71.69%,    Correct Counter: 656/915,    F1 Score: 0.76,    Precision: 0.65,    Recall:  0.92 \n",
      "\n",
      "Validation Set:\n",
      "    Average Loss:  0.621489,    Accuracy: 66.23%,    Correct Counter: 151/228,    F1 Score: 0.72,    Precision: 0.61,    Recall:  0.89 \n",
      "\n",
      "Epoch 65/1000\n",
      "Train Set:\n",
      "    Average Loss:  0.536069,    Accuracy: 71.69%,    Correct Counter: 656/915,    F1 Score: 0.76,    Precision: 0.65,    Recall:  0.92 \n",
      "\n",
      "Validation Set:\n",
      "    Average Loss:  0.621606,    Accuracy: 66.23%,    Correct Counter: 151/228,    F1 Score: 0.72,    Precision: 0.61,    Recall:  0.89 \n",
      "\n",
      "Epoch 66/1000\n"
     ]
    },
    {
     "name": "stderr",
     "output_type": "stream",
     "text": [
      "Batch in Progress: 100%|███████████████████████████████████████████| 29/29 [00:00<00:00, 249.50it/s]\n",
      "Batch in Progress: 100%|█████████████████████████████████████████████| 8/8 [00:00<00:00, 453.90it/s]\n",
      "Batch in Progress: 100%|███████████████████████████████████████████| 29/29 [00:00<00:00, 248.05it/s]\n",
      "Batch in Progress: 100%|█████████████████████████████████████████████| 8/8 [00:00<00:00, 511.54it/s]\n",
      "Batch in Progress:   0%|                                                     | 0/29 [00:00<?, ?it/s]"
     ]
    },
    {
     "name": "stdout",
     "output_type": "stream",
     "text": [
      "Train Set:\n",
      "    Average Loss:  0.535935,    Accuracy: 71.69%,    Correct Counter: 656/915,    F1 Score: 0.76,    Precision: 0.65,    Recall:  0.92 \n",
      "\n",
      "Validation Set:\n",
      "    Average Loss:  0.621714,    Accuracy: 66.23%,    Correct Counter: 151/228,    F1 Score: 0.72,    Precision: 0.61,    Recall:  0.89 \n",
      "\n",
      "Epoch 67/1000\n",
      "Train Set:\n",
      "    Average Loss:  0.535806,    Accuracy: 71.69%,    Correct Counter: 656/915,    F1 Score: 0.76,    Precision: 0.65,    Recall:  0.92 \n",
      "\n",
      "Validation Set:\n",
      "    Average Loss:  0.621768,    Accuracy: 66.23%,    Correct Counter: 151/228,    F1 Score: 0.72,    Precision: 0.61,    Recall:  0.89 \n",
      "\n",
      "Epoch 68/1000\n"
     ]
    },
    {
     "name": "stderr",
     "output_type": "stream",
     "text": [
      "Batch in Progress: 100%|███████████████████████████████████████████| 29/29 [00:00<00:00, 243.80it/s]\n",
      "Batch in Progress: 100%|█████████████████████████████████████████████| 8/8 [00:00<00:00, 558.53it/s]\n",
      "Batch in Progress: 100%|███████████████████████████████████████████| 29/29 [00:00<00:00, 219.34it/s]\n",
      "Batch in Progress: 100%|█████████████████████████████████████████████| 8/8 [00:00<00:00, 534.14it/s]\n",
      "Batch in Progress:   0%|                                                     | 0/29 [00:00<?, ?it/s]"
     ]
    },
    {
     "name": "stdout",
     "output_type": "stream",
     "text": [
      "Train Set:\n",
      "    Average Loss:  0.535666,    Accuracy: 71.69%,    Correct Counter: 656/915,    F1 Score: 0.76,    Precision: 0.65,    Recall:  0.92 \n",
      "\n",
      "Validation Set:\n",
      "    Average Loss:  0.621752,    Accuracy: 66.23%,    Correct Counter: 151/228,    F1 Score: 0.72,    Precision: 0.61,    Recall:  0.89 \n",
      "\n",
      "Epoch 69/1000\n",
      "Train Set:\n",
      "    Average Loss:  0.535539,    Accuracy: 71.69%,    Correct Counter: 656/915,    F1 Score: 0.76,    Precision: 0.65,    Recall:  0.92 \n",
      "\n",
      "Validation Set:\n",
      "    Average Loss:  0.621738,    Accuracy: 66.23%,    Correct Counter: 151/228,    F1 Score: 0.72,    Precision: 0.61,    Recall:  0.89 \n",
      "\n",
      "Epoch 70/1000\n"
     ]
    },
    {
     "name": "stderr",
     "output_type": "stream",
     "text": [
      "Batch in Progress: 100%|███████████████████████████████████████████| 29/29 [00:00<00:00, 217.89it/s]\n",
      "Batch in Progress: 100%|█████████████████████████████████████████████| 8/8 [00:00<00:00, 685.55it/s]"
     ]
    },
    {
     "name": "stdout",
     "output_type": "stream",
     "text": [
      "Train Set:\n",
      "    Average Loss:  0.535424,    Accuracy: 71.69%,    Correct Counter: 656/915,    F1 Score: 0.76,    Precision: 0.65,    Recall:  0.92 \n",
      "\n",
      "Validation Set:\n",
      "    Average Loss:  0.621745,    Accuracy: 66.23%,    Correct Counter: 151/228,    F1 Score: 0.72,    Precision: 0.61,    Recall:  0.89 \n",
      "\n"
     ]
    },
    {
     "name": "stderr",
     "output_type": "stream",
     "text": [
      "\n"
     ]
    }
   ],
   "source": [
    "epochs = 1000\n",
    "metrics = train_val(epochs=epochs, models=model, criterion=criterion, optimizer=optimizer, train_loader=train_fusion_loader,\n",
    "                    val_loader=test_fusion_loader, device=device, early_stop=early_stop)"
   ]
  },
  {
   "cell_type": "code",
   "execution_count": 40,
   "metadata": {},
   "outputs": [],
   "source": [
    "torch.save(fusion_model.state_dict(), MODELS_PATH + \"\\VotingFeatures\\FusionPath.pth\")"
   ]
  }
 ],
 "metadata": {
  "kernelspec": {
   "display_name": "Python 3",
   "language": "python",
   "name": "python3"
  },
  "language_info": {
   "codemirror_mode": {
    "name": "ipython",
    "version": 3
   },
   "file_extension": ".py",
   "mimetype": "text/x-python",
   "name": "python",
   "nbconvert_exporter": "python",
   "pygments_lexer": "ipython3",
   "version": "3.8.5"
  }
 },
 "nbformat": 4,
 "nbformat_minor": 4
}
