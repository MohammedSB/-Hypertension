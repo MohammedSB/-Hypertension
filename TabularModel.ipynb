{
 "cells": [
  {
   "cell_type": "code",
   "execution_count": 1,
   "metadata": {},
   "outputs": [],
   "source": [
    "%run C:/Users/MohammedSB/Desktop/projects/Hypertension/Requirements.ipynb"
   ]
  },
  {
   "cell_type": "code",
   "execution_count": 2,
   "metadata": {},
   "outputs": [],
   "source": [
    "# Seed\n",
    "set_seed(0)"
   ]
  },
  {
   "cell_type": "code",
   "execution_count": 3,
   "metadata": {},
   "outputs": [],
   "source": [
    "device = torch.device(\"cuda\" if torch.cuda.is_available() else \"cpu\")"
   ]
  },
  {
   "cell_type": "code",
   "execution_count": 4,
   "metadata": {},
   "outputs": [],
   "source": [
    "PATH = r\"D:\\\\MohammedSB\\Fundus\\\\\"\n",
    "CSV_PATH = {\"HTNPath\": PATH + r\"HTN\", \"NonHTNPath\": PATH + \"NonHTN\"}\n",
    "\n",
    "IMGMODELS_PATH = r\"C:\\Users\\MohammedSB\\Desktop\\projects\\Hypertension\\models\\\\\""
   ]
  },
  {
   "cell_type": "code",
   "execution_count": 5,
   "metadata": {},
   "outputs": [],
   "source": [
    "train_set, test_set = get_datasets(val=False)"
   ]
  },
  {
   "cell_type": "code",
   "execution_count": 6,
   "metadata": {},
   "outputs": [],
   "source": [
    "BATCH_SIZE = 8\n",
    "\n",
    "train_dataset = TabularDataset(train_set)\n",
    "test_dataset = TabularDataset(test_set)\n",
    "\n",
    "train_loader, test_loader = train_test_loader(train_dataset, test_dataset, batch_size=BATCH_SIZE)\n",
    "\n",
    "# val_dataset = TabularDataset(val_set)\n",
    "# val_loader = DataLoader(val_dataset, batch_size=BATCH_SIZE)"
   ]
  },
  {
   "cell_type": "code",
   "execution_count": 7,
   "metadata": {},
   "outputs": [],
   "source": [
    "model = nn.Sequential(\n",
    "    nn.Linear(in_features=2, out_features=8),\n",
    "    nn.LeakyReLU(inplace=True),\n",
    "    nn.Linear(in_features=8, out_features=32),\n",
    "    nn.LeakyReLU(inplace=True),\n",
    "    nn.Linear(in_features=32, out_features=16),\n",
    "    nn.LeakyReLU(inplace=True),\n",
    "    nn.Linear(in_features=16, out_features=8),\n",
    "    nn.LeakyReLU(inplace=True),\n",
    "    nn.Linear(in_features=8, out_features=1),\n",
    ")"
   ]
  },
  {
   "cell_type": "code",
   "execution_count": 8,
   "metadata": {},
   "outputs": [],
   "source": [
    "model = model.to(device)"
   ]
  },
  {
   "cell_type": "code",
   "execution_count": 9,
   "metadata": {},
   "outputs": [],
   "source": [
    "models = {\n",
    "    \"image_model\": None,\n",
    "    \"tabular_model\": model,\n",
    "    \"fusion_model\": None\n",
    "}\n",
    "\n",
    "early_stop = {\n",
    "    \"patience\": 20,\n",
    "    \"min_delta\": 0,\n",
    "    \"multip\": 10\n",
    "}\n",
    "\n",
    "epochs = 500\n",
    "optimizer = torch.optim.Adam(model.to(device).parameters(), lr=1e-4)\n",
    "criterion = nn.BCEWithLogitsLoss()"
   ]
  },
  {
   "cell_type": "code",
   "execution_count": 10,
   "metadata": {
    "scrolled": true
   },
   "outputs": [
    {
     "name": "stderr",
     "output_type": "stream",
     "text": [
      "\r",
      "Batch in Progress:   0%|                                                    | 0/115 [00:00<?, ?it/s]"
     ]
    },
    {
     "name": "stdout",
     "output_type": "stream",
     "text": [
      "Beginning Training: \n",
      "\n",
      "Epoch 1/500\n"
     ]
    },
    {
     "name": "stderr",
     "output_type": "stream",
     "text": [
      "Batch in Progress: 100%|██████████████████████████████████████████| 115/115 [00:01<00:00, 58.68it/s]\n",
      "Batch in Progress: 100%|███████████████████████████████████████████| 29/29 [00:00<00:00, 244.62it/s]\n",
      "Batch in Progress:   0%|                                                    | 0/115 [00:00<?, ?it/s]"
     ]
    },
    {
     "name": "stdout",
     "output_type": "stream",
     "text": [
      "Train Set:\n",
      "    Average Loss:  0.697194,    Accuracy: 48.52%,    Correct Counter: 444/915,    F1 Score: 0.65,    Precision: 0.49,    Recall:  1.00 \n",
      "\n",
      "Validation Set:\n",
      "    Average Loss:  0.694625,    Accuracy: 49.56%,    Correct Counter: 113/228,    F1 Score: 0.66,    Precision: 0.50,    Recall:  1.00 \n",
      "\n",
      "Epoch 2/500\n"
     ]
    },
    {
     "name": "stderr",
     "output_type": "stream",
     "text": [
      "Batch in Progress: 100%|█████████████████████████████████████████| 115/115 [00:00<00:00, 153.75it/s]\n",
      "Batch in Progress: 100%|███████████████████████████████████████████| 29/29 [00:00<00:00, 256.23it/s]\n",
      "Batch in Progress:   0%|                                                    | 0/115 [00:00<?, ?it/s]"
     ]
    },
    {
     "name": "stdout",
     "output_type": "stream",
     "text": [
      "Train Set:\n",
      "    Average Loss:  0.693153,    Accuracy: 49.51%,    Correct Counter: 453/915,    F1 Score: 0.66,    Precision: 0.49,    Recall:  1.00 \n",
      "\n",
      "Validation Set:\n",
      "    Average Loss:  0.691039,    Accuracy: 57.89%,    Correct Counter: 132/228,    F1 Score: 0.70,    Precision: 0.54,    Recall:  1.00 \n",
      "\n",
      "Epoch 3/500\n"
     ]
    },
    {
     "name": "stderr",
     "output_type": "stream",
     "text": [
      "Batch in Progress: 100%|█████████████████████████████████████████| 115/115 [00:00<00:00, 150.04it/s]\n",
      "Batch in Progress: 100%|███████████████████████████████████████████| 29/29 [00:00<00:00, 225.66it/s]\n",
      "Batch in Progress:   0%|                                                    | 0/115 [00:00<?, ?it/s]"
     ]
    },
    {
     "name": "stdout",
     "output_type": "stream",
     "text": [
      "Train Set:\n",
      "    Average Loss:  0.688534,    Accuracy: 67.98%,    Correct Counter: 622/915,    F1 Score: 0.75,    Precision: 0.61,    Recall:  0.98 \n",
      "\n",
      "Validation Set:\n",
      "    Average Loss:  0.686844,    Accuracy: 66.67%,    Correct Counter: 152/228,    F1 Score: 0.73,    Precision: 0.61,    Recall:  0.91 \n",
      "\n",
      "Epoch 4/500\n"
     ]
    },
    {
     "name": "stderr",
     "output_type": "stream",
     "text": [
      "Batch in Progress: 100%|█████████████████████████████████████████| 115/115 [00:00<00:00, 153.73it/s]\n",
      "Batch in Progress: 100%|███████████████████████████████████████████| 29/29 [00:00<00:00, 263.09it/s]\n",
      "Batch in Progress:   0%|                                                    | 0/115 [00:00<?, ?it/s]"
     ]
    },
    {
     "name": "stdout",
     "output_type": "stream",
     "text": [
      "Train Set:\n",
      "    Average Loss:  0.683112,    Accuracy: 69.29%,    Correct Counter: 634/915,    F1 Score: 0.71,    Precision: 0.66,    Recall:  0.77 \n",
      "\n",
      "Validation Set:\n",
      "    Average Loss:  0.681785,    Accuracy: 64.47%,    Correct Counter: 147/228,    F1 Score: 0.64,    Precision: 0.64,    Recall:  0.64 \n",
      "\n",
      "Epoch 5/500\n"
     ]
    },
    {
     "name": "stderr",
     "output_type": "stream",
     "text": [
      "Batch in Progress: 100%|█████████████████████████████████████████| 115/115 [00:00<00:00, 151.63it/s]\n",
      "Batch in Progress: 100%|███████████████████████████████████████████| 29/29 [00:00<00:00, 238.37it/s]\n",
      "Batch in Progress:   0%|                                                    | 0/115 [00:00<?, ?it/s]"
     ]
    },
    {
     "name": "stdout",
     "output_type": "stream",
     "text": [
      "Train Set:\n",
      "    Average Loss:  0.675797,    Accuracy: 65.14%,    Correct Counter: 596/915,    F1 Score: 0.59,    Precision: 0.69,    Recall:  0.51 \n",
      "\n",
      "Validation Set:\n",
      "    Average Loss:  0.674936,    Accuracy: 65.35%,    Correct Counter: 149/228,    F1 Score: 0.59,    Precision: 0.71,    Recall:  0.50 \n",
      "\n",
      "Epoch 6/500\n"
     ]
    },
    {
     "name": "stderr",
     "output_type": "stream",
     "text": [
      "Batch in Progress: 100%|█████████████████████████████████████████| 115/115 [00:00<00:00, 154.52it/s]\n",
      "Batch in Progress: 100%|███████████████████████████████████████████| 29/29 [00:00<00:00, 231.32it/s]\n",
      "Batch in Progress:   0%|                                                    | 0/115 [00:00<?, ?it/s]"
     ]
    },
    {
     "name": "stdout",
     "output_type": "stream",
     "text": [
      "Train Set:\n",
      "    Average Loss:  0.666532,    Accuracy: 62.08%,    Correct Counter: 568/915,    F1 Score: 0.52,    Precision: 0.67,    Recall:  0.42 \n",
      "\n",
      "Validation Set:\n",
      "    Average Loss:  0.666538,    Accuracy: 64.47%,    Correct Counter: 147/228,    F1 Score: 0.57,    Precision: 0.72,    Recall:  0.47 \n",
      "\n",
      "Epoch 7/500\n"
     ]
    },
    {
     "name": "stderr",
     "output_type": "stream",
     "text": [
      "Batch in Progress: 100%|█████████████████████████████████████████| 115/115 [00:00<00:00, 156.46it/s]\n",
      "Batch in Progress: 100%|███████████████████████████████████████████| 29/29 [00:00<00:00, 218.13it/s]\n",
      "Batch in Progress:   0%|                                                    | 0/115 [00:00<?, ?it/s]"
     ]
    },
    {
     "name": "stdout",
     "output_type": "stream",
     "text": [
      "Train Set:\n",
      "    Average Loss:  0.654713,    Accuracy: 62.84%,    Correct Counter: 575/915,    F1 Score: 0.54,    Precision: 0.68,    Recall:  0.45 \n",
      "\n",
      "Validation Set:\n",
      "    Average Loss:  0.655875,    Accuracy: 65.35%,    Correct Counter: 149/228,    F1 Score: 0.59,    Precision: 0.71,    Recall:  0.50 \n",
      "\n",
      "Epoch 8/500\n"
     ]
    },
    {
     "name": "stderr",
     "output_type": "stream",
     "text": [
      "Batch in Progress: 100%|█████████████████████████████████████████| 115/115 [00:00<00:00, 147.65it/s]\n",
      "Batch in Progress: 100%|███████████████████████████████████████████| 29/29 [00:00<00:00, 219.06it/s]\n",
      "Batch in Progress:   0%|                                                    | 0/115 [00:00<?, ?it/s]"
     ]
    },
    {
     "name": "stdout",
     "output_type": "stream",
     "text": [
      "Train Set:\n",
      "    Average Loss:  0.640285,    Accuracy: 64.15%,    Correct Counter: 587/915,    F1 Score: 0.57,    Precision: 0.68,    Recall:  0.50 \n",
      "\n",
      "Validation Set:\n",
      "    Average Loss:  0.643711,    Accuracy: 67.11%,    Correct Counter: 153/228,    F1 Score: 0.64,    Precision: 0.70,    Recall:  0.59 \n",
      "\n",
      "Epoch 9/500\n"
     ]
    },
    {
     "name": "stderr",
     "output_type": "stream",
     "text": [
      "Batch in Progress: 100%|█████████████████████████████████████████| 115/115 [00:00<00:00, 142.61it/s]\n",
      "Batch in Progress: 100%|███████████████████████████████████████████| 29/29 [00:00<00:00, 172.36it/s]\n",
      "Batch in Progress:   0%|                                                    | 0/115 [00:00<?, ?it/s]"
     ]
    },
    {
     "name": "stdout",
     "output_type": "stream",
     "text": [
      "Train Set:\n",
      "    Average Loss:  0.624208,    Accuracy: 67.32%,    Correct Counter: 616/915,    F1 Score: 0.63,    Precision: 0.70,    Recall:  0.58 \n",
      "\n",
      "Validation Set:\n",
      "    Average Loss:  0.631133,    Accuracy: 64.91%,    Correct Counter: 148/228,    F1 Score: 0.63,    Precision: 0.66,    Recall:  0.61 \n",
      "\n",
      "Epoch 10/500\n"
     ]
    },
    {
     "name": "stderr",
     "output_type": "stream",
     "text": [
      "Batch in Progress: 100%|█████████████████████████████████████████| 115/115 [00:00<00:00, 141.66it/s]\n",
      "Batch in Progress: 100%|███████████████████████████████████████████| 29/29 [00:00<00:00, 198.21it/s]\n",
      "Batch in Progress:   0%|                                                    | 0/115 [00:00<?, ?it/s]"
     ]
    },
    {
     "name": "stdout",
     "output_type": "stream",
     "text": [
      "Train Set:\n",
      "    Average Loss:  0.607508,    Accuracy: 67.87%,    Correct Counter: 621/915,    F1 Score: 0.66,    Precision: 0.68,    Recall:  0.63 \n",
      "\n",
      "Validation Set:\n",
      "    Average Loss:  0.619289,    Accuracy: 64.91%,    Correct Counter: 148/228,    F1 Score: 0.65,    Precision: 0.64,    Recall:  0.66 \n",
      "\n",
      "Epoch 11/500\n"
     ]
    },
    {
     "name": "stderr",
     "output_type": "stream",
     "text": [
      "Batch in Progress: 100%|█████████████████████████████████████████| 115/115 [00:00<00:00, 143.51it/s]\n",
      "Batch in Progress: 100%|███████████████████████████████████████████| 29/29 [00:00<00:00, 212.02it/s]\n",
      "Batch in Progress:   0%|                                                    | 0/115 [00:00<?, ?it/s]"
     ]
    },
    {
     "name": "stdout",
     "output_type": "stream",
     "text": [
      "Train Set:\n",
      "    Average Loss:  0.591421,    Accuracy: 67.98%,    Correct Counter: 622/915,    F1 Score: 0.68,    Precision: 0.66,    Recall:  0.69 \n",
      "\n",
      "Validation Set:\n",
      "    Average Loss:  0.610213,    Accuracy: 68.42%,    Correct Counter: 156/228,    F1 Score: 0.71,    Precision: 0.65,    Recall:  0.79 \n",
      "\n",
      "Epoch 12/500\n"
     ]
    },
    {
     "name": "stderr",
     "output_type": "stream",
     "text": [
      "Batch in Progress: 100%|█████████████████████████████████████████| 115/115 [00:00<00:00, 147.95it/s]\n",
      "Batch in Progress: 100%|███████████████████████████████████████████| 29/29 [00:00<00:00, 217.99it/s]\n",
      "Batch in Progress:   0%|                                                    | 0/115 [00:00<?, ?it/s]"
     ]
    },
    {
     "name": "stdout",
     "output_type": "stream",
     "text": [
      "Train Set:\n",
      "    Average Loss:  0.578275,    Accuracy: 67.98%,    Correct Counter: 622/915,    F1 Score: 0.69,    Precision: 0.65,    Recall:  0.72 \n",
      "\n",
      "Validation Set:\n",
      "    Average Loss:  0.603543,    Accuracy: 68.42%,    Correct Counter: 156/228,    F1 Score: 0.72,    Precision: 0.65,    Recall:  0.81 \n",
      "\n",
      "Epoch 13/500\n"
     ]
    },
    {
     "name": "stderr",
     "output_type": "stream",
     "text": [
      "Batch in Progress: 100%|█████████████████████████████████████████| 115/115 [00:00<00:00, 146.56it/s]\n",
      "Batch in Progress: 100%|███████████████████████████████████████████| 29/29 [00:00<00:00, 217.79it/s]\n",
      "Batch in Progress:   0%|                                                    | 0/115 [00:00<?, ?it/s]"
     ]
    },
    {
     "name": "stdout",
     "output_type": "stream",
     "text": [
      "Train Set:\n",
      "    Average Loss:  0.567894,    Accuracy: 67.98%,    Correct Counter: 622/915,    F1 Score: 0.69,    Precision: 0.65,    Recall:  0.74 \n",
      "\n",
      "Validation Set:\n",
      "    Average Loss:  0.598784,    Accuracy: 69.74%,    Correct Counter: 159/228,    F1 Score: 0.73,    Precision: 0.65,    Recall:  0.84 \n",
      "\n",
      "Epoch 14/500\n"
     ]
    },
    {
     "name": "stderr",
     "output_type": "stream",
     "text": [
      "Batch in Progress: 100%|█████████████████████████████████████████| 115/115 [00:00<00:00, 146.74it/s]\n",
      "Batch in Progress: 100%|███████████████████████████████████████████| 29/29 [00:00<00:00, 218.26it/s]\n",
      "Batch in Progress:   0%|                                                    | 0/115 [00:00<?, ?it/s]"
     ]
    },
    {
     "name": "stdout",
     "output_type": "stream",
     "text": [
      "Train Set:\n",
      "    Average Loss:  0.559555,    Accuracy: 68.31%,    Correct Counter: 625/915,    F1 Score: 0.70,    Precision: 0.65,    Recall:  0.77 \n",
      "\n",
      "Validation Set:\n",
      "    Average Loss:  0.595402,    Accuracy: 67.11%,    Correct Counter: 153/228,    F1 Score: 0.72,    Precision: 0.62,    Recall:  0.84 \n",
      "\n",
      "Epoch 15/500\n"
     ]
    },
    {
     "name": "stderr",
     "output_type": "stream",
     "text": [
      "Batch in Progress: 100%|█████████████████████████████████████████| 115/115 [00:00<00:00, 147.39it/s]\n",
      "Batch in Progress: 100%|███████████████████████████████████████████| 29/29 [00:00<00:00, 218.24it/s]\n",
      "Batch in Progress:   0%|                                                    | 0/115 [00:00<?, ?it/s]"
     ]
    },
    {
     "name": "stdout",
     "output_type": "stream",
     "text": [
      "Train Set:\n",
      "    Average Loss:  0.552893,    Accuracy: 69.51%,    Correct Counter: 636/915,    F1 Score: 0.72,    Precision: 0.65,    Recall:  0.80 \n",
      "\n",
      "Validation Set:\n",
      "    Average Loss:  0.593461,    Accuracy: 67.11%,    Correct Counter: 153/228,    F1 Score: 0.72,    Precision: 0.62,    Recall:  0.84 \n",
      "\n",
      "Epoch 16/500\n"
     ]
    },
    {
     "name": "stderr",
     "output_type": "stream",
     "text": [
      "Batch in Progress: 100%|█████████████████████████████████████████| 115/115 [00:00<00:00, 148.08it/s]\n",
      "Batch in Progress: 100%|███████████████████████████████████████████| 29/29 [00:00<00:00, 221.29it/s]\n",
      "Batch in Progress:   0%|                                                    | 0/115 [00:00<?, ?it/s]"
     ]
    },
    {
     "name": "stdout",
     "output_type": "stream",
     "text": [
      "Train Set:\n",
      "    Average Loss:  0.548226,    Accuracy: 69.51%,    Correct Counter: 636/915,    F1 Score: 0.72,    Precision: 0.65,    Recall:  0.81 \n",
      "\n",
      "Validation Set:\n",
      "    Average Loss:  0.592614,    Accuracy: 67.11%,    Correct Counter: 153/228,    F1 Score: 0.72,    Precision: 0.62,    Recall:  0.84 \n",
      "\n",
      "Epoch 17/500\n"
     ]
    },
    {
     "name": "stderr",
     "output_type": "stream",
     "text": [
      "Batch in Progress: 100%|█████████████████████████████████████████| 115/115 [00:00<00:00, 148.99it/s]\n",
      "Batch in Progress: 100%|███████████████████████████████████████████| 29/29 [00:00<00:00, 219.26it/s]\n",
      "Batch in Progress:   0%|                                                    | 0/115 [00:00<?, ?it/s]"
     ]
    },
    {
     "name": "stdout",
     "output_type": "stream",
     "text": [
      "Train Set:\n",
      "    Average Loss:  0.544951,    Accuracy: 70.16%,    Correct Counter: 642/915,    F1 Score: 0.73,    Precision: 0.65,    Recall:  0.83 \n",
      "\n",
      "Validation Set:\n",
      "    Average Loss:  0.592485,    Accuracy: 68.42%,    Correct Counter: 156/228,    F1 Score: 0.73,    Precision: 0.63,    Recall:  0.88 \n",
      "\n",
      "Epoch 18/500\n"
     ]
    },
    {
     "name": "stderr",
     "output_type": "stream",
     "text": [
      "Batch in Progress: 100%|█████████████████████████████████████████| 115/115 [00:00<00:00, 147.75it/s]\n",
      "Batch in Progress: 100%|███████████████████████████████████████████| 29/29 [00:00<00:00, 243.21it/s]\n",
      "Batch in Progress:   0%|                                                    | 0/115 [00:00<?, ?it/s]"
     ]
    },
    {
     "name": "stdout",
     "output_type": "stream",
     "text": [
      "Train Set:\n",
      "    Average Loss:  0.542671,    Accuracy: 70.16%,    Correct Counter: 642/915,    F1 Score: 0.73,    Precision: 0.65,    Recall:  0.84 \n",
      "\n",
      "Validation Set:\n",
      "    Average Loss:  0.592721,    Accuracy: 68.42%,    Correct Counter: 156/228,    F1 Score: 0.73,    Precision: 0.63,    Recall:  0.88 \n",
      "\n",
      "Epoch 19/500\n"
     ]
    },
    {
     "name": "stderr",
     "output_type": "stream",
     "text": [
      "Batch in Progress: 100%|█████████████████████████████████████████| 115/115 [00:00<00:00, 148.44it/s]\n",
      "Batch in Progress: 100%|███████████████████████████████████████████| 29/29 [00:00<00:00, 199.51it/s]\n",
      "Batch in Progress:   0%|                                                    | 0/115 [00:00<?, ?it/s]"
     ]
    },
    {
     "name": "stdout",
     "output_type": "stream",
     "text": [
      "Train Set:\n",
      "    Average Loss:  0.541051,    Accuracy: 70.49%,    Correct Counter: 645/915,    F1 Score: 0.74,    Precision: 0.65,    Recall:  0.84 \n",
      "\n",
      "Validation Set:\n",
      "    Average Loss:  0.593149,    Accuracy: 68.42%,    Correct Counter: 156/228,    F1 Score: 0.73,    Precision: 0.63,    Recall:  0.88 \n",
      "\n",
      "Epoch 20/500\n"
     ]
    },
    {
     "name": "stderr",
     "output_type": "stream",
     "text": [
      "Batch in Progress: 100%|█████████████████████████████████████████| 115/115 [00:00<00:00, 146.81it/s]\n",
      "Batch in Progress: 100%|███████████████████████████████████████████| 29/29 [00:00<00:00, 216.55it/s]\n",
      "Batch in Progress:   0%|                                                    | 0/115 [00:00<?, ?it/s]"
     ]
    },
    {
     "name": "stdout",
     "output_type": "stream",
     "text": [
      "Train Set:\n",
      "    Average Loss:  0.539869,    Accuracy: 70.38%,    Correct Counter: 644/915,    F1 Score: 0.73,    Precision: 0.65,    Recall:  0.84 \n",
      "\n",
      "Validation Set:\n",
      "    Average Loss:  0.593662,    Accuracy: 68.42%,    Correct Counter: 156/228,    F1 Score: 0.73,    Precision: 0.63,    Recall:  0.88 \n",
      "\n",
      "Epoch 21/500\n"
     ]
    },
    {
     "name": "stderr",
     "output_type": "stream",
     "text": [
      "Batch in Progress: 100%|█████████████████████████████████████████| 115/115 [00:00<00:00, 145.46it/s]\n",
      "Batch in Progress: 100%|███████████████████████████████████████████| 29/29 [00:00<00:00, 216.60it/s]\n",
      "Batch in Progress:   0%|                                                    | 0/115 [00:00<?, ?it/s]"
     ]
    },
    {
     "name": "stdout",
     "output_type": "stream",
     "text": [
      "Train Set:\n",
      "    Average Loss:  0.538975,    Accuracy: 70.49%,    Correct Counter: 645/915,    F1 Score: 0.74,    Precision: 0.65,    Recall:  0.85 \n",
      "\n",
      "Validation Set:\n",
      "    Average Loss:  0.594164,    Accuracy: 68.42%,    Correct Counter: 156/228,    F1 Score: 0.73,    Precision: 0.63,    Recall:  0.88 \n",
      "\n",
      "Epoch 22/500\n"
     ]
    },
    {
     "name": "stderr",
     "output_type": "stream",
     "text": [
      "Batch in Progress: 100%|█████████████████████████████████████████| 115/115 [00:00<00:00, 145.82it/s]\n",
      "Batch in Progress: 100%|███████████████████████████████████████████| 29/29 [00:00<00:00, 238.98it/s]\n",
      "Batch in Progress:   0%|                                                    | 0/115 [00:00<?, ?it/s]"
     ]
    },
    {
     "name": "stdout",
     "output_type": "stream",
     "text": [
      "Train Set:\n",
      "    Average Loss:  0.538328,    Accuracy: 70.82%,    Correct Counter: 648/915,    F1 Score: 0.74,    Precision: 0.65,    Recall:  0.86 \n",
      "\n",
      "Validation Set:\n",
      "    Average Loss:  0.594639,    Accuracy: 68.42%,    Correct Counter: 156/228,    F1 Score: 0.73,    Precision: 0.63,    Recall:  0.88 \n",
      "\n",
      "Epoch 23/500\n"
     ]
    },
    {
     "name": "stderr",
     "output_type": "stream",
     "text": [
      "Batch in Progress: 100%|█████████████████████████████████████████| 115/115 [00:00<00:00, 147.19it/s]\n",
      "Batch in Progress: 100%|███████████████████████████████████████████| 29/29 [00:00<00:00, 221.39it/s]\n",
      "Batch in Progress:   0%|                                                    | 0/115 [00:00<?, ?it/s]"
     ]
    },
    {
     "name": "stdout",
     "output_type": "stream",
     "text": [
      "Train Set:\n",
      "    Average Loss:  0.537818,    Accuracy: 70.82%,    Correct Counter: 648/915,    F1 Score: 0.74,    Precision: 0.65,    Recall:  0.86 \n",
      "\n",
      "Validation Set:\n",
      "    Average Loss:  0.595101,    Accuracy: 68.42%,    Correct Counter: 156/228,    F1 Score: 0.73,    Precision: 0.63,    Recall:  0.88 \n",
      "\n",
      "Epoch 24/500\n"
     ]
    },
    {
     "name": "stderr",
     "output_type": "stream",
     "text": [
      "Batch in Progress: 100%|█████████████████████████████████████████| 115/115 [00:00<00:00, 144.48it/s]\n",
      "Batch in Progress: 100%|███████████████████████████████████████████| 29/29 [00:00<00:00, 219.05it/s]\n",
      "Batch in Progress:   0%|                                                    | 0/115 [00:00<?, ?it/s]"
     ]
    },
    {
     "name": "stdout",
     "output_type": "stream",
     "text": [
      "Train Set:\n",
      "    Average Loss:  0.537418,    Accuracy: 71.04%,    Correct Counter: 650/915,    F1 Score: 0.74,    Precision: 0.65,    Recall:  0.86 \n",
      "\n",
      "Validation Set:\n",
      "    Average Loss:  0.595524,    Accuracy: 68.42%,    Correct Counter: 156/228,    F1 Score: 0.73,    Precision: 0.63,    Recall:  0.88 \n",
      "\n",
      "Epoch 25/500\n"
     ]
    },
    {
     "name": "stderr",
     "output_type": "stream",
     "text": [
      "Batch in Progress: 100%|█████████████████████████████████████████| 115/115 [00:00<00:00, 138.44it/s]\n",
      "Batch in Progress: 100%|███████████████████████████████████████████| 29/29 [00:00<00:00, 175.69it/s]\n",
      "Batch in Progress:   0%|                                                    | 0/115 [00:00<?, ?it/s]"
     ]
    },
    {
     "name": "stdout",
     "output_type": "stream",
     "text": [
      "Train Set:\n",
      "    Average Loss:  0.537101,    Accuracy: 71.04%,    Correct Counter: 650/915,    F1 Score: 0.74,    Precision: 0.65,    Recall:  0.86 \n",
      "\n",
      "Validation Set:\n",
      "    Average Loss:  0.595917,    Accuracy: 68.42%,    Correct Counter: 156/228,    F1 Score: 0.73,    Precision: 0.63,    Recall:  0.88 \n",
      "\n",
      "Epoch 26/500\n"
     ]
    },
    {
     "name": "stderr",
     "output_type": "stream",
     "text": [
      "Batch in Progress: 100%|█████████████████████████████████████████| 115/115 [00:00<00:00, 140.90it/s]\n",
      "Batch in Progress: 100%|███████████████████████████████████████████| 29/29 [00:00<00:00, 223.38it/s]\n",
      "Batch in Progress:   0%|                                                    | 0/115 [00:00<?, ?it/s]"
     ]
    },
    {
     "name": "stdout",
     "output_type": "stream",
     "text": [
      "Train Set:\n",
      "    Average Loss:  0.536834,    Accuracy: 71.04%,    Correct Counter: 650/915,    F1 Score: 0.74,    Precision: 0.65,    Recall:  0.87 \n",
      "\n",
      "Validation Set:\n",
      "    Average Loss:  0.596270,    Accuracy: 68.42%,    Correct Counter: 156/228,    F1 Score: 0.73,    Precision: 0.63,    Recall:  0.88 \n",
      "\n",
      "Epoch 27/500\n"
     ]
    },
    {
     "name": "stderr",
     "output_type": "stream",
     "text": [
      "Batch in Progress: 100%|█████████████████████████████████████████| 115/115 [00:00<00:00, 144.59it/s]\n",
      "Batch in Progress: 100%|███████████████████████████████████████████| 29/29 [00:00<00:00, 243.66it/s]\n",
      "Batch in Progress:   0%|                                                    | 0/115 [00:00<?, ?it/s]"
     ]
    },
    {
     "name": "stdout",
     "output_type": "stream",
     "text": [
      "Train Set:\n",
      "    Average Loss:  0.536604,    Accuracy: 71.15%,    Correct Counter: 651/915,    F1 Score: 0.75,    Precision: 0.65,    Recall:  0.87 \n",
      "\n",
      "Validation Set:\n",
      "    Average Loss:  0.596551,    Accuracy: 68.42%,    Correct Counter: 156/228,    F1 Score: 0.73,    Precision: 0.63,    Recall:  0.88 \n",
      "\n",
      "Epoch 28/500\n"
     ]
    },
    {
     "name": "stderr",
     "output_type": "stream",
     "text": [
      "Batch in Progress: 100%|█████████████████████████████████████████| 115/115 [00:00<00:00, 138.47it/s]\n",
      "Batch in Progress: 100%|███████████████████████████████████████████| 29/29 [00:00<00:00, 211.00it/s]\n",
      "Batch in Progress:   0%|                                                    | 0/115 [00:00<?, ?it/s]"
     ]
    },
    {
     "name": "stdout",
     "output_type": "stream",
     "text": [
      "Train Set:\n",
      "    Average Loss:  0.536416,    Accuracy: 71.04%,    Correct Counter: 650/915,    F1 Score: 0.74,    Precision: 0.65,    Recall:  0.87 \n",
      "\n",
      "Validation Set:\n",
      "    Average Loss:  0.596820,    Accuracy: 68.42%,    Correct Counter: 156/228,    F1 Score: 0.73,    Precision: 0.63,    Recall:  0.88 \n",
      "\n",
      "Epoch 29/500\n"
     ]
    },
    {
     "name": "stderr",
     "output_type": "stream",
     "text": [
      "Batch in Progress: 100%|█████████████████████████████████████████| 115/115 [00:00<00:00, 140.25it/s]\n",
      "Batch in Progress: 100%|███████████████████████████████████████████| 29/29 [00:00<00:00, 202.52it/s]\n",
      "Batch in Progress:   0%|                                                    | 0/115 [00:00<?, ?it/s]"
     ]
    },
    {
     "name": "stdout",
     "output_type": "stream",
     "text": [
      "Train Set:\n",
      "    Average Loss:  0.536244,    Accuracy: 71.04%,    Correct Counter: 650/915,    F1 Score: 0.74,    Precision: 0.65,    Recall:  0.87 \n",
      "\n",
      "Validation Set:\n",
      "    Average Loss:  0.597041,    Accuracy: 68.42%,    Correct Counter: 156/228,    F1 Score: 0.73,    Precision: 0.63,    Recall:  0.88 \n",
      "\n",
      "Epoch 30/500\n"
     ]
    },
    {
     "name": "stderr",
     "output_type": "stream",
     "text": [
      "Batch in Progress: 100%|█████████████████████████████████████████| 115/115 [00:00<00:00, 144.64it/s]\n",
      "Batch in Progress: 100%|███████████████████████████████████████████| 29/29 [00:00<00:00, 219.18it/s]\n",
      "Batch in Progress:   0%|                                                    | 0/115 [00:00<?, ?it/s]"
     ]
    },
    {
     "name": "stdout",
     "output_type": "stream",
     "text": [
      "Train Set:\n",
      "    Average Loss:  0.536090,    Accuracy: 71.04%,    Correct Counter: 650/915,    F1 Score: 0.74,    Precision: 0.65,    Recall:  0.87 \n",
      "\n",
      "Validation Set:\n",
      "    Average Loss:  0.597265,    Accuracy: 68.42%,    Correct Counter: 156/228,    F1 Score: 0.73,    Precision: 0.63,    Recall:  0.88 \n",
      "\n",
      "Epoch 31/500\n"
     ]
    },
    {
     "name": "stderr",
     "output_type": "stream",
     "text": [
      "Batch in Progress: 100%|█████████████████████████████████████████| 115/115 [00:00<00:00, 144.61it/s]\n",
      "Batch in Progress: 100%|███████████████████████████████████████████| 29/29 [00:00<00:00, 215.62it/s]\n",
      "Batch in Progress:   0%|                                                    | 0/115 [00:00<?, ?it/s]"
     ]
    },
    {
     "name": "stdout",
     "output_type": "stream",
     "text": [
      "Train Set:\n",
      "    Average Loss:  0.535962,    Accuracy: 71.15%,    Correct Counter: 651/915,    F1 Score: 0.75,    Precision: 0.65,    Recall:  0.88 \n",
      "\n",
      "Validation Set:\n",
      "    Average Loss:  0.597444,    Accuracy: 67.54%,    Correct Counter: 154/228,    F1 Score: 0.73,    Precision: 0.62,    Recall:  0.88 \n",
      "\n",
      "Epoch 32/500\n"
     ]
    },
    {
     "name": "stderr",
     "output_type": "stream",
     "text": [
      "Batch in Progress: 100%|█████████████████████████████████████████| 115/115 [00:00<00:00, 138.02it/s]\n",
      "Batch in Progress: 100%|███████████████████████████████████████████| 29/29 [00:00<00:00, 199.93it/s]\n",
      "Batch in Progress:   0%|                                                    | 0/115 [00:00<?, ?it/s]"
     ]
    },
    {
     "name": "stdout",
     "output_type": "stream",
     "text": [
      "Train Set:\n",
      "    Average Loss:  0.535839,    Accuracy: 71.15%,    Correct Counter: 651/915,    F1 Score: 0.75,    Precision: 0.65,    Recall:  0.88 \n",
      "\n",
      "Validation Set:\n",
      "    Average Loss:  0.597605,    Accuracy: 67.54%,    Correct Counter: 154/228,    F1 Score: 0.73,    Precision: 0.62,    Recall:  0.88 \n",
      "\n",
      "Epoch 33/500\n"
     ]
    },
    {
     "name": "stderr",
     "output_type": "stream",
     "text": [
      "Batch in Progress: 100%|█████████████████████████████████████████| 115/115 [00:00<00:00, 143.15it/s]\n",
      "Batch in Progress: 100%|███████████████████████████████████████████| 29/29 [00:00<00:00, 224.18it/s]\n",
      "Batch in Progress:   0%|                                                    | 0/115 [00:00<?, ?it/s]"
     ]
    },
    {
     "name": "stdout",
     "output_type": "stream",
     "text": [
      "Train Set:\n",
      "    Average Loss:  0.535736,    Accuracy: 71.15%,    Correct Counter: 651/915,    F1 Score: 0.75,    Precision: 0.65,    Recall:  0.88 \n",
      "\n",
      "Validation Set:\n",
      "    Average Loss:  0.597731,    Accuracy: 67.54%,    Correct Counter: 154/228,    F1 Score: 0.73,    Precision: 0.62,    Recall:  0.88 \n",
      "\n",
      "Epoch 34/500\n"
     ]
    },
    {
     "name": "stderr",
     "output_type": "stream",
     "text": [
      "Batch in Progress: 100%|█████████████████████████████████████████| 115/115 [00:00<00:00, 137.95it/s]\n",
      "Batch in Progress: 100%|███████████████████████████████████████████| 29/29 [00:00<00:00, 203.40it/s]\n",
      "Batch in Progress:   0%|                                                    | 0/115 [00:00<?, ?it/s]"
     ]
    },
    {
     "name": "stdout",
     "output_type": "stream",
     "text": [
      "Train Set:\n",
      "    Average Loss:  0.535627,    Accuracy: 71.15%,    Correct Counter: 651/915,    F1 Score: 0.75,    Precision: 0.65,    Recall:  0.88 \n",
      "\n",
      "Validation Set:\n",
      "    Average Loss:  0.597842,    Accuracy: 67.54%,    Correct Counter: 154/228,    F1 Score: 0.73,    Precision: 0.62,    Recall:  0.88 \n",
      "\n",
      "Epoch 35/500\n"
     ]
    },
    {
     "name": "stderr",
     "output_type": "stream",
     "text": [
      "Batch in Progress: 100%|█████████████████████████████████████████| 115/115 [00:00<00:00, 141.93it/s]\n",
      "Batch in Progress: 100%|███████████████████████████████████████████| 29/29 [00:00<00:00, 197.28it/s]\n",
      "Batch in Progress:   0%|                                                    | 0/115 [00:00<?, ?it/s]"
     ]
    },
    {
     "name": "stdout",
     "output_type": "stream",
     "text": [
      "Train Set:\n",
      "    Average Loss:  0.535530,    Accuracy: 71.15%,    Correct Counter: 651/915,    F1 Score: 0.75,    Precision: 0.65,    Recall:  0.88 \n",
      "\n",
      "Validation Set:\n",
      "    Average Loss:  0.597971,    Accuracy: 67.54%,    Correct Counter: 154/228,    F1 Score: 0.73,    Precision: 0.62,    Recall:  0.88 \n",
      "\n",
      "Epoch 36/500\n"
     ]
    },
    {
     "name": "stderr",
     "output_type": "stream",
     "text": [
      "Batch in Progress: 100%|█████████████████████████████████████████| 115/115 [00:00<00:00, 128.96it/s]\n",
      "Batch in Progress: 100%|███████████████████████████████████████████| 29/29 [00:00<00:00, 255.05it/s]\n",
      "Batch in Progress:   0%|                                                    | 0/115 [00:00<?, ?it/s]"
     ]
    },
    {
     "name": "stdout",
     "output_type": "stream",
     "text": [
      "Train Set:\n",
      "    Average Loss:  0.535437,    Accuracy: 71.04%,    Correct Counter: 650/915,    F1 Score: 0.75,    Precision: 0.65,    Recall:  0.88 \n",
      "\n",
      "Validation Set:\n",
      "    Average Loss:  0.598094,    Accuracy: 67.54%,    Correct Counter: 154/228,    F1 Score: 0.73,    Precision: 0.62,    Recall:  0.88 \n",
      "\n",
      "Epoch 37/500\n"
     ]
    },
    {
     "name": "stderr",
     "output_type": "stream",
     "text": [
      "Batch in Progress: 100%|█████████████████████████████████████████| 115/115 [00:00<00:00, 152.72it/s]\n",
      "Batch in Progress: 100%|███████████████████████████████████████████| 29/29 [00:00<00:00, 224.31it/s]\n",
      "Batch in Progress:   0%|                                                    | 0/115 [00:00<?, ?it/s]"
     ]
    },
    {
     "name": "stdout",
     "output_type": "stream",
     "text": [
      "Train Set:\n",
      "    Average Loss:  0.535349,    Accuracy: 71.15%,    Correct Counter: 651/915,    F1 Score: 0.75,    Precision: 0.65,    Recall:  0.89 \n",
      "\n",
      "Validation Set:\n",
      "    Average Loss:  0.598216,    Accuracy: 67.54%,    Correct Counter: 154/228,    F1 Score: 0.73,    Precision: 0.62,    Recall:  0.88 \n",
      "\n",
      "Epoch 38/500\n"
     ]
    },
    {
     "name": "stderr",
     "output_type": "stream",
     "text": [
      "Batch in Progress: 100%|█████████████████████████████████████████| 115/115 [00:00<00:00, 150.57it/s]\n",
      "Batch in Progress: 100%|███████████████████████████████████████████| 29/29 [00:00<00:00, 217.35it/s]\n",
      "Batch in Progress:   0%|                                                    | 0/115 [00:00<?, ?it/s]"
     ]
    },
    {
     "name": "stdout",
     "output_type": "stream",
     "text": [
      "Train Set:\n",
      "    Average Loss:  0.535277,    Accuracy: 71.15%,    Correct Counter: 651/915,    F1 Score: 0.75,    Precision: 0.65,    Recall:  0.89 \n",
      "\n",
      "Validation Set:\n",
      "    Average Loss:  0.598336,    Accuracy: 67.54%,    Correct Counter: 154/228,    F1 Score: 0.73,    Precision: 0.62,    Recall:  0.88 \n",
      "\n",
      "Epoch 39/500\n"
     ]
    },
    {
     "name": "stderr",
     "output_type": "stream",
     "text": [
      "Batch in Progress: 100%|█████████████████████████████████████████| 115/115 [00:00<00:00, 153.37it/s]\n",
      "Batch in Progress: 100%|███████████████████████████████████████████| 29/29 [00:00<00:00, 217.41it/s]\n",
      "Batch in Progress:   0%|                                                    | 0/115 [00:00<?, ?it/s]"
     ]
    },
    {
     "name": "stdout",
     "output_type": "stream",
     "text": [
      "Train Set:\n",
      "    Average Loss:  0.535202,    Accuracy: 71.15%,    Correct Counter: 651/915,    F1 Score: 0.75,    Precision: 0.65,    Recall:  0.89 \n",
      "\n",
      "Validation Set:\n",
      "    Average Loss:  0.598427,    Accuracy: 67.54%,    Correct Counter: 154/228,    F1 Score: 0.73,    Precision: 0.62,    Recall:  0.88 \n",
      "\n",
      "Epoch 40/500\n"
     ]
    },
    {
     "name": "stderr",
     "output_type": "stream",
     "text": [
      "Batch in Progress: 100%|█████████████████████████████████████████| 115/115 [00:00<00:00, 143.93it/s]\n",
      "Batch in Progress: 100%|███████████████████████████████████████████| 29/29 [00:00<00:00, 199.96it/s]"
     ]
    },
    {
     "name": "stdout",
     "output_type": "stream",
     "text": [
      "Train Set:\n",
      "    Average Loss:  0.535130,    Accuracy: 71.15%,    Correct Counter: 651/915,    F1 Score: 0.75,    Precision: 0.65,    Recall:  0.89 \n",
      "\n",
      "Validation Set:\n",
      "    Average Loss:  0.598521,    Accuracy: 67.54%,    Correct Counter: 154/228,    F1 Score: 0.73,    Precision: 0.62,    Recall:  0.88 \n",
      "\n"
     ]
    },
    {
     "name": "stderr",
     "output_type": "stream",
     "text": [
      "\n"
     ]
    }
   ],
   "source": [
    "metrics = train_val(epochs=epochs, models=models, train_loader=train_loader, val_loader=test_loader, \n",
    "                    criterion=criterion, optimizer=optimizer, device=device, early_stop=early_stop)"
   ]
  },
  {
   "cell_type": "code",
   "execution_count": 11,
   "metadata": {},
   "outputs": [
    {
     "name": "stderr",
     "output_type": "stream",
     "text": [
      "Batch in Progress: 100%|███████████████████████████████████████████| 29/29 [00:00<00:00, 195.78it/s]"
     ]
    },
    {
     "name": "stdout",
     "output_type": "stream",
     "text": [
      "Testing: \n",
      "\n",
      "Test Set:\n",
      "    Average Loss:  0.598521,    Accuracy: 67.54%,    Correct Counter: 154/228,    F1 Score: 0.73,    Precision: 0.62,    Recall:  0.88 \n",
      "\n"
     ]
    },
    {
     "name": "stderr",
     "output_type": "stream",
     "text": [
      "\n"
     ]
    }
   ],
   "source": [
    "metrics_test = test(models=models, test_loader=test_loader, criterion=criterion, device=device)"
   ]
  },
  {
   "cell_type": "markdown",
   "metadata": {},
   "source": [
    "## Calculate AUC-ROC"
   ]
  },
  {
   "cell_type": "code",
   "execution_count": 12,
   "metadata": {},
   "outputs": [],
   "source": [
    "y_true = metrics_test[\"y_true\"].squeeze(1).numpy()\n",
    "y_prob = metrics_test[\"y_prob\"].squeeze(1).numpy()\n",
    "\n",
    "fpr, tpr, thresholds = roc_curve(y_true, y_prob)"
   ]
  },
  {
   "cell_type": "code",
   "execution_count": 13,
   "metadata": {},
   "outputs": [
    {
     "data": {
      "text/plain": [
       "[<matplotlib.lines.Line2D at 0x1988ad326a0>]"
      ]
     },
     "execution_count": 13,
     "metadata": {},
     "output_type": "execute_result"
    },
    {
     "data": {
      "image/png": "[encoded data removed]",
      "text/plain": [
       "<Figure size 432x288 with 1 Axes>"
      ]
     },
     "metadata": {
      "needs_background": "light"
     },
     "output_type": "display_data"
    }
   ],
   "source": [
    "plt.plot(fpr, tpr, label=\"AUC Curve\")"
   ]
  },
  {
   "cell_type": "code",
   "execution_count": 14,
   "metadata": {},
   "outputs": [],
   "source": [
    "score = auc(fpr, tpr)"
   ]
  },
  {
   "cell_type": "code",
   "execution_count": 15,
   "metadata": {},
   "outputs": [
    {
     "data": {
      "text/plain": [
       "0.744170834936514"
      ]
     },
     "execution_count": 15,
     "metadata": {},
     "output_type": "execute_result"
    }
   ],
   "source": [
    "score"
   ]
  }
 ],
 "metadata": {
  "kernelspec": {
   "display_name": "Python 3",
   "language": "python",
   "name": "python3"
  },
  "language_info": {
   "codemirror_mode": {
    "name": "ipython",
    "version": 3
   },
   "file_extension": ".py",
   "mimetype": "text/x-python",
   "name": "python",
   "nbconvert_exporter": "python",
   "pygments_lexer": "ipython3",
   "version": "3.8.5"
  }
 },
 "nbformat": 4,
 "nbformat_minor": 4
}
