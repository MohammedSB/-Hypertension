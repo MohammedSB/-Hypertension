{
 "cells": [
  {
   "cell_type": "code",
   "execution_count": 1,
   "metadata": {},
   "outputs": [],
   "source": [
    "%run C:/Users/MohammedSB/Desktop/projects/Hypertension/Requirements.ipynb"
   ]
  },
  {
   "cell_type": "code",
   "execution_count": 2,
   "metadata": {},
   "outputs": [],
   "source": [
    "# Seed\n",
    "set_seed(0)"
   ]
  },
  {
   "cell_type": "code",
   "execution_count": 3,
   "metadata": {},
   "outputs": [],
   "source": [
    "device = torch.device(\"cuda\" if torch.cuda.is_available() else \"cpu\")"
   ]
  },
  {
   "cell_type": "code",
   "execution_count": 4,
   "metadata": {},
   "outputs": [],
   "source": [
    "PATH = r\"D:\\\\MohammedSB\\\\Fundus\\\\\"\n",
    "CSV_PATH = {\"HTNPath\": PATH + r\"HTN\", \"NonHTNPath\": PATH + \"NonHTN\"}\n",
    "\n",
    "MODELS_PATH = r\"C:\\Users\\MohammedSB\\Desktop\\projects\\Hypertension\\models\\\\\""
   ]
  },
  {
   "cell_type": "code",
   "execution_count": 5,
   "metadata": {},
   "outputs": [],
   "source": [
    "train_set, test_set = get_datasets(val=False)"
   ]
  },
  {
   "cell_type": "code",
   "execution_count": 6,
   "metadata": {},
   "outputs": [],
   "source": [
    "train_transform = T.Compose([\n",
    "    T.Resize((500, 500)),\n",
    "    T.ToTensor(),\n",
    "    T.RandomHorizontalFlip(0.5),\n",
    "    T.RandomRotation(degrees=(0, 360)),\n",
    "    T.GaussianBlur(5),\n",
    "    T.Normalize(mean=[0.3675, 0.1760, 0.1047], std=[0.2289, 0.1180, 0.0748]),\n",
    "])\n",
    "\n",
    "test_transform = T.Compose([\n",
    "    T.Resize((500, 500)),\n",
    "    T.ToTensor(),\n",
    "    T.Normalize(mean=[0.3675, 0.1760, 0.1047], std=[0.2289, 0.1180, 0.0748]),\n",
    "])\n",
    "\n",
    "train_dataset = HypertensionDataset(CSV_PATH, train_set, train_transform=train_transform)\n",
    "test_dataset = HypertensionDataset(CSV_PATH, test_set, test_transform=test_transform)\n",
    "\n",
    "train_loader, test_loader = train_test_loader(train_dataset, test_dataset, batch_size=8)\n",
    "\n",
    "# val_dataset = HypertensionDataset(CSV_PATH, val_set, test_transform=test_transform)\n",
    "# val_loader = DataLoader(val_dataset, batch_size=8)"
   ]
  },
  {
   "cell_type": "code",
   "execution_count": 7,
   "metadata": {},
   "outputs": [],
   "source": [
    "tabular_model = nn.Sequential(\n",
    "    nn.Linear(in_features=2, out_features=8),\n",
    "    nn.ReLU(inplace=True),\n",
    "    nn.Linear(in_features=8, out_features=32),\n",
    "    nn.ReLU(inplace=True),\n",
    "    nn.Linear(in_features=32, out_features=64),\n",
    ")\n",
    "\n",
    "image_model = get_densenet201(device=device, freeze=True, with_mlp=True, outputs=64)\n",
    "\n",
    "fusion_model = nn.Sequential(\n",
    "    nn.Linear(in_features=128, out_features=256),\n",
    "    nn.ReLU(inplace=True),\n",
    "    nn.Linear(in_features=256, out_features=512),\n",
    "    nn.ReLU(inplace=True),\n",
    "    nn.Dropout(),\n",
    "    nn.Linear(in_features=512, out_features=256),\n",
    "    nn.ReLU(inplace=True),\n",
    "    nn.Dropout(),\n",
    "    nn.Linear(in_features=256, out_features=128),\n",
    "    nn.ReLU(inplace=True),\n",
    "    nn.Dropout(),\n",
    "    nn.Linear(in_features=128, out_features=32),\n",
    "    nn.ReLU(inplace=True),\n",
    "    nn.Dropout(),\n",
    "    nn.Linear(in_features=32, out_features=8),\n",
    "    nn.ReLU(inplace=True),\n",
    "    nn.Dropout(),\n",
    "    nn.Linear(in_features=8, out_features=1),\n",
    ")\n",
    "\n",
    "tabular_model, image_model, fusion_model = tabular_model.to(device).float(), image_model.to(device).float(),\\\n",
    "                                                fusion_model.to(device).float()"
   ]
  },
  {
   "cell_type": "code",
   "execution_count": 8,
   "metadata": {},
   "outputs": [],
   "source": [
    "models = {\n",
    "    \"image_model\": image_model,\n",
    "    \"tabular_model\": tabular_model,\n",
    "    \"fusion_model\": fusion_model,\n",
    "}\n",
    "\n",
    "early_stop = {\n",
    "    \"patience\": 5,\n",
    "    \"min_delta\": 0.001,\n",
    "    \"multip\": 5,\n",
    "}\n",
    "\n",
    "optimizer = torch.optim.Adam([\n",
    "    {'params': image_model.parameters(), 'lr': 1e-4},\n",
    "    {'params': tabular_model.parameters(), 'lr': 1e-4},\n",
    "    {'params': fusion_model.parameters(), 'lr': 1e-4}],\n",
    ")\n",
    "\n",
    "criterion = nn.BCEWithLogitsLoss()"
   ]
  },
  {
   "cell_type": "code",
   "execution_count": 9,
   "metadata": {
    "scrolled": true
   },
   "outputs": [
    {
     "name": "stderr",
     "output_type": "stream",
     "text": [
      "\r",
      "Batch in Progress:   0%|                                                    | 0/115 [00:00<?, ?it/s]"
     ]
    },
    {
     "name": "stdout",
     "output_type": "stream",
     "text": [
      "Beginning Training: \n",
      "\n",
      "Epoch 1/200\n"
     ]
    },
    {
     "name": "stderr",
     "output_type": "stream",
     "text": [
      "Batch in Progress: 100%|██████████████████████████████████████████| 115/115 [00:51<00:00,  2.22it/s]\n",
      "Batch in Progress:   0%|                                                     | 0/29 [00:00<?, ?it/s]"
     ]
    },
    {
     "name": "stdout",
     "output_type": "stream",
     "text": [
      "Train Set:\n",
      "    Average Loss:  0.697415,    Accuracy: 51.48%,    Correct Counter: 471/915,    F1 Score: 0.00,    Precision: 1.00,    Recall:  0.00 \n",
      "\n"
     ]
    },
    {
     "name": "stderr",
     "output_type": "stream",
     "text": [
      "Batch in Progress: 100%|████████████████████████████████████████████| 29/29 [00:07<00:00,  4.07it/s]\n",
      "Batch in Progress:   0%|                                                    | 0/115 [00:00<?, ?it/s]"
     ]
    },
    {
     "name": "stdout",
     "output_type": "stream",
     "text": [
      "Validation Set:\n",
      "    Average Loss:  0.698975,    Accuracy: 50.44%,    Correct Counter: 115/228,    F1 Score: 0.00,    Precision: 1.00,    Recall:  0.00 \n",
      "\n",
      "Epoch 2/200\n"
     ]
    },
    {
     "name": "stderr",
     "output_type": "stream",
     "text": [
      "Batch in Progress: 100%|██████████████████████████████████████████| 115/115 [00:49<00:00,  2.31it/s]\n",
      "Batch in Progress:   0%|                                                     | 0/29 [00:00<?, ?it/s]"
     ]
    },
    {
     "name": "stdout",
     "output_type": "stream",
     "text": [
      "Train Set:\n",
      "    Average Loss:  0.696797,    Accuracy: 51.48%,    Correct Counter: 471/915,    F1 Score: 0.00,    Precision: 1.00,    Recall:  0.00 \n",
      "\n"
     ]
    },
    {
     "name": "stderr",
     "output_type": "stream",
     "text": [
      "Batch in Progress: 100%|████████████████████████████████████████████| 29/29 [00:07<00:00,  4.09it/s]\n",
      "Batch in Progress:   0%|                                                    | 0/115 [00:00<?, ?it/s]"
     ]
    },
    {
     "name": "stdout",
     "output_type": "stream",
     "text": [
      "Validation Set:\n",
      "    Average Loss:  0.698316,    Accuracy: 50.44%,    Correct Counter: 115/228,    F1 Score: 0.00,    Precision: 1.00,    Recall:  0.00 \n",
      "\n",
      "Epoch 3/200\n"
     ]
    },
    {
     "name": "stderr",
     "output_type": "stream",
     "text": [
      "Batch in Progress: 100%|██████████████████████████████████████████| 115/115 [00:49<00:00,  2.32it/s]\n",
      "Batch in Progress:   0%|                                                     | 0/29 [00:00<?, ?it/s]"
     ]
    },
    {
     "name": "stdout",
     "output_type": "stream",
     "text": [
      "Train Set:\n",
      "    Average Loss:  0.695914,    Accuracy: 51.48%,    Correct Counter: 471/915,    F1 Score: 0.00,    Precision: 1.00,    Recall:  0.00 \n",
      "\n"
     ]
    },
    {
     "name": "stderr",
     "output_type": "stream",
     "text": [
      "Batch in Progress: 100%|████████████████████████████████████████████| 29/29 [00:07<00:00,  4.12it/s]\n",
      "Batch in Progress:   0%|                                                    | 0/115 [00:00<?, ?it/s]"
     ]
    },
    {
     "name": "stdout",
     "output_type": "stream",
     "text": [
      "Validation Set:\n",
      "    Average Loss:  0.697333,    Accuracy: 50.44%,    Correct Counter: 115/228,    F1 Score: 0.00,    Precision: 1.00,    Recall:  0.00 \n",
      "\n",
      "Epoch 4/200\n"
     ]
    },
    {
     "name": "stderr",
     "output_type": "stream",
     "text": [
      "Batch in Progress: 100%|██████████████████████████████████████████| 115/115 [00:49<00:00,  2.31it/s]\n",
      "Batch in Progress:   0%|                                                     | 0/29 [00:00<?, ?it/s]"
     ]
    },
    {
     "name": "stdout",
     "output_type": "stream",
     "text": [
      "Train Set:\n",
      "    Average Loss:  0.695171,    Accuracy: 51.69%,    Correct Counter: 473/915,    F1 Score: 0.05,    Precision: 0.55,    Recall:  0.03 \n",
      "\n"
     ]
    },
    {
     "name": "stderr",
     "output_type": "stream",
     "text": [
      "Batch in Progress: 100%|████████████████████████████████████████████| 29/29 [00:07<00:00,  4.05it/s]\n",
      "Batch in Progress:   0%|                                                    | 0/115 [00:00<?, ?it/s]"
     ]
    },
    {
     "name": "stdout",
     "output_type": "stream",
     "text": [
      "Validation Set:\n",
      "    Average Loss:  0.693486,    Accuracy: 50.44%,    Correct Counter: 115/228,    F1 Score: 0.00,    Precision: 1.00,    Recall:  0.00 \n",
      "\n",
      "Epoch 5/200\n"
     ]
    },
    {
     "name": "stderr",
     "output_type": "stream",
     "text": [
      "Batch in Progress: 100%|██████████████████████████████████████████| 115/115 [00:49<00:00,  2.30it/s]\n",
      "Batch in Progress:   0%|                                                     | 0/29 [00:00<?, ?it/s]"
     ]
    },
    {
     "name": "stdout",
     "output_type": "stream",
     "text": [
      "Train Set:\n",
      "    Average Loss:  0.695545,    Accuracy: 51.26%,    Correct Counter: 469/915,    F1 Score: 0.02,    Precision: 0.40,    Recall:  0.01 \n",
      "\n"
     ]
    },
    {
     "name": "stderr",
     "output_type": "stream",
     "text": [
      "Batch in Progress: 100%|████████████████████████████████████████████| 29/29 [00:07<00:00,  4.07it/s]\n",
      "Batch in Progress:   0%|                                                    | 0/115 [00:00<?, ?it/s]"
     ]
    },
    {
     "name": "stdout",
     "output_type": "stream",
     "text": [
      "Validation Set:\n",
      "    Average Loss:  0.692602,    Accuracy: 50.44%,    Correct Counter: 115/228,    F1 Score: 0.00,    Precision: 1.00,    Recall:  0.00 \n",
      "\n",
      "Epoch 6/200\n"
     ]
    },
    {
     "name": "stderr",
     "output_type": "stream",
     "text": [
      "Batch in Progress: 100%|██████████████████████████████████████████| 115/115 [00:49<00:00,  2.31it/s]\n",
      "Batch in Progress:   0%|                                                     | 0/29 [00:00<?, ?it/s]"
     ]
    },
    {
     "name": "stdout",
     "output_type": "stream",
     "text": [
      "Train Set:\n",
      "    Average Loss:  0.685429,    Accuracy: 54.97%,    Correct Counter: 503/915,    F1 Score: 0.33,    Precision: 0.60,    Recall:  0.23 \n",
      "\n"
     ]
    },
    {
     "name": "stderr",
     "output_type": "stream",
     "text": [
      "Batch in Progress: 100%|████████████████████████████████████████████| 29/29 [00:07<00:00,  4.07it/s]\n",
      "Batch in Progress:   0%|                                                    | 0/115 [00:00<?, ?it/s]"
     ]
    },
    {
     "name": "stdout",
     "output_type": "stream",
     "text": [
      "Validation Set:\n",
      "    Average Loss:  0.675348,    Accuracy: 64.91%,    Correct Counter: 148/228,    F1 Score: 0.72,    Precision: 0.59,    Recall:  0.93 \n",
      "\n",
      "Epoch 7/200\n"
     ]
    },
    {
     "name": "stderr",
     "output_type": "stream",
     "text": [
      "Batch in Progress: 100%|██████████████████████████████████████████| 115/115 [00:50<00:00,  2.29it/s]\n",
      "Batch in Progress:   0%|                                                     | 0/29 [00:00<?, ?it/s]"
     ]
    },
    {
     "name": "stdout",
     "output_type": "stream",
     "text": [
      "Train Set:\n",
      "    Average Loss:  0.678135,    Accuracy: 58.58%,    Correct Counter: 536/915,    F1 Score: 0.47,    Precision: 0.62,    Recall:  0.37 \n",
      "\n"
     ]
    },
    {
     "name": "stderr",
     "output_type": "stream",
     "text": [
      "Batch in Progress: 100%|████████████████████████████████████████████| 29/29 [00:07<00:00,  4.06it/s]\n",
      "Batch in Progress:   0%|                                                    | 0/115 [00:00<?, ?it/s]"
     ]
    },
    {
     "name": "stdout",
     "output_type": "stream",
     "text": [
      "Validation Set:\n",
      "    Average Loss:  0.662714,    Accuracy: 70.61%,    Correct Counter: 161/228,    F1 Score: 0.73,    Precision: 0.67,    Recall:  0.80 \n",
      "\n",
      "Epoch 8/200\n"
     ]
    },
    {
     "name": "stderr",
     "output_type": "stream",
     "text": [
      "Batch in Progress: 100%|██████████████████████████████████████████| 115/115 [00:49<00:00,  2.31it/s]\n",
      "Batch in Progress:   0%|                                                     | 0/29 [00:00<?, ?it/s]"
     ]
    },
    {
     "name": "stdout",
     "output_type": "stream",
     "text": [
      "Train Set:\n",
      "    Average Loss:  0.670363,    Accuracy: 65.79%,    Correct Counter: 602/915,    F1 Score: 0.60,    Precision: 0.70,    Recall:  0.52 \n",
      "\n"
     ]
    },
    {
     "name": "stderr",
     "output_type": "stream",
     "text": [
      "Batch in Progress: 100%|████████████████████████████████████████████| 29/29 [00:07<00:00,  4.09it/s]\n",
      "Batch in Progress:   0%|                                                    | 0/115 [00:00<?, ?it/s]"
     ]
    },
    {
     "name": "stdout",
     "output_type": "stream",
     "text": [
      "Validation Set:\n",
      "    Average Loss:  0.656522,    Accuracy: 65.79%,    Correct Counter: 150/228,    F1 Score: 0.71,    Precision: 0.61,    Recall:  0.86 \n",
      "\n",
      "Epoch 9/200\n"
     ]
    },
    {
     "name": "stderr",
     "output_type": "stream",
     "text": [
      "Batch in Progress: 100%|██████████████████████████████████████████| 115/115 [00:50<00:00,  2.30it/s]\n",
      "Batch in Progress:   0%|                                                     | 0/29 [00:00<?, ?it/s]"
     ]
    },
    {
     "name": "stdout",
     "output_type": "stream",
     "text": [
      "Train Set:\n",
      "    Average Loss:  0.668860,    Accuracy: 63.72%,    Correct Counter: 583/915,    F1 Score: 0.56,    Precision: 0.68,    Recall:  0.48 \n",
      "\n"
     ]
    },
    {
     "name": "stderr",
     "output_type": "stream",
     "text": [
      "Batch in Progress: 100%|████████████████████████████████████████████| 29/29 [00:07<00:00,  4.04it/s]\n",
      "Batch in Progress:   0%|                                                    | 0/115 [00:00<?, ?it/s]"
     ]
    },
    {
     "name": "stdout",
     "output_type": "stream",
     "text": [
      "Validation Set:\n",
      "    Average Loss:  0.657119,    Accuracy: 69.74%,    Correct Counter: 159/228,    F1 Score: 0.73,    Precision: 0.65,    Recall:  0.82 \n",
      "\n",
      "Epoch 10/200\n"
     ]
    },
    {
     "name": "stderr",
     "output_type": "stream",
     "text": [
      "Batch in Progress: 100%|██████████████████████████████████████████| 115/115 [00:49<00:00,  2.31it/s]\n",
      "Batch in Progress:   0%|                                                     | 0/29 [00:00<?, ?it/s]"
     ]
    },
    {
     "name": "stdout",
     "output_type": "stream",
     "text": [
      "Train Set:\n",
      "    Average Loss:  0.654172,    Accuracy: 63.39%,    Correct Counter: 580/915,    F1 Score: 0.59,    Precision: 0.64,    Recall:  0.55 \n",
      "\n"
     ]
    },
    {
     "name": "stderr",
     "output_type": "stream",
     "text": [
      "Batch in Progress: 100%|████████████████████████████████████████████| 29/29 [00:07<00:00,  4.12it/s]\n",
      "Batch in Progress:   0%|                                                    | 0/115 [00:00<?, ?it/s]"
     ]
    },
    {
     "name": "stdout",
     "output_type": "stream",
     "text": [
      "Validation Set:\n",
      "    Average Loss:  0.630632,    Accuracy: 70.61%,    Correct Counter: 161/228,    F1 Score: 0.74,    Precision: 0.66,    Recall:  0.86 \n",
      "\n",
      "Epoch 11/200\n"
     ]
    },
    {
     "name": "stderr",
     "output_type": "stream",
     "text": [
      "Batch in Progress: 100%|██████████████████████████████████████████| 115/115 [00:49<00:00,  2.31it/s]\n",
      "Batch in Progress:   0%|                                                     | 0/29 [00:00<?, ?it/s]"
     ]
    },
    {
     "name": "stdout",
     "output_type": "stream",
     "text": [
      "Train Set:\n",
      "    Average Loss:  0.619059,    Accuracy: 63.28%,    Correct Counter: 579/915,    F1 Score: 0.58,    Precision: 0.65,    Recall:  0.52 \n",
      "\n"
     ]
    },
    {
     "name": "stderr",
     "output_type": "stream",
     "text": [
      "Batch in Progress: 100%|████████████████████████████████████████████| 29/29 [00:07<00:00,  4.07it/s]\n",
      "Batch in Progress:   0%|                                                    | 0/115 [00:00<?, ?it/s]"
     ]
    },
    {
     "name": "stdout",
     "output_type": "stream",
     "text": [
      "Validation Set:\n",
      "    Average Loss:  0.601241,    Accuracy: 68.42%,    Correct Counter: 156/228,    F1 Score: 0.70,    Precision: 0.66,    Recall:  0.75 \n",
      "\n",
      "Epoch 12/200\n"
     ]
    },
    {
     "name": "stderr",
     "output_type": "stream",
     "text": [
      "Batch in Progress: 100%|██████████████████████████████████████████| 115/115 [00:49<00:00,  2.31it/s]\n",
      "Batch in Progress:   0%|                                                     | 0/29 [00:00<?, ?it/s]"
     ]
    },
    {
     "name": "stdout",
     "output_type": "stream",
     "text": [
      "Train Set:\n",
      "    Average Loss:  0.604398,    Accuracy: 65.68%,    Correct Counter: 601/915,    F1 Score: 0.63,    Precision: 0.66,    Recall:  0.60 \n",
      "\n"
     ]
    },
    {
     "name": "stderr",
     "output_type": "stream",
     "text": [
      "Batch in Progress: 100%|████████████████████████████████████████████| 29/29 [00:07<00:00,  4.09it/s]\n",
      "Batch in Progress:   0%|                                                    | 0/115 [00:00<?, ?it/s]"
     ]
    },
    {
     "name": "stdout",
     "output_type": "stream",
     "text": [
      "Validation Set:\n",
      "    Average Loss:  0.587766,    Accuracy: 64.91%,    Correct Counter: 148/228,    F1 Score: 0.71,    Precision: 0.60,    Recall:  0.86 \n",
      "\n",
      "Epoch 13/200\n"
     ]
    },
    {
     "name": "stderr",
     "output_type": "stream",
     "text": [
      "Batch in Progress: 100%|██████████████████████████████████████████| 115/115 [00:50<00:00,  2.30it/s]\n",
      "Batch in Progress:   0%|                                                     | 0/29 [00:00<?, ?it/s]"
     ]
    },
    {
     "name": "stdout",
     "output_type": "stream",
     "text": [
      "Train Set:\n",
      "    Average Loss:  0.608620,    Accuracy: 66.89%,    Correct Counter: 612/915,    F1 Score: 0.66,    Precision: 0.66,    Recall:  0.65 \n",
      "\n"
     ]
    },
    {
     "name": "stderr",
     "output_type": "stream",
     "text": [
      "Batch in Progress: 100%|████████████████████████████████████████████| 29/29 [00:07<00:00,  4.08it/s]\n",
      "Batch in Progress:   0%|                                                    | 0/115 [00:00<?, ?it/s]"
     ]
    },
    {
     "name": "stdout",
     "output_type": "stream",
     "text": [
      "Validation Set:\n",
      "    Average Loss:  0.595040,    Accuracy: 66.67%,    Correct Counter: 152/228,    F1 Score: 0.72,    Precision: 0.62,    Recall:  0.86 \n",
      "\n",
      "Epoch 14/200\n"
     ]
    },
    {
     "name": "stderr",
     "output_type": "stream",
     "text": [
      "Batch in Progress: 100%|██████████████████████████████████████████| 115/115 [00:50<00:00,  2.28it/s]\n",
      "Batch in Progress:   0%|                                                     | 0/29 [00:00<?, ?it/s]"
     ]
    },
    {
     "name": "stdout",
     "output_type": "stream",
     "text": [
      "Train Set:\n",
      "    Average Loss:  0.604063,    Accuracy: 65.36%,    Correct Counter: 598/915,    F1 Score: 0.64,    Precision: 0.65,    Recall:  0.62 \n",
      "\n"
     ]
    },
    {
     "name": "stderr",
     "output_type": "stream",
     "text": [
      "Batch in Progress: 100%|████████████████████████████████████████████| 29/29 [00:07<00:00,  4.12it/s]\n",
      "Batch in Progress:   0%|                                                    | 0/115 [00:00<?, ?it/s]"
     ]
    },
    {
     "name": "stdout",
     "output_type": "stream",
     "text": [
      "Validation Set:\n",
      "    Average Loss:  0.600619,    Accuracy: 67.98%,    Correct Counter: 155/228,    F1 Score: 0.73,    Precision: 0.63,    Recall:  0.86 \n",
      "\n",
      "Epoch 15/200\n"
     ]
    },
    {
     "name": "stderr",
     "output_type": "stream",
     "text": [
      "Batch in Progress: 100%|██████████████████████████████████████████| 115/115 [00:50<00:00,  2.26it/s]\n",
      "Batch in Progress:   0%|                                                     | 0/29 [00:00<?, ?it/s]"
     ]
    },
    {
     "name": "stdout",
     "output_type": "stream",
     "text": [
      "Train Set:\n",
      "    Average Loss:  0.603512,    Accuracy: 64.26%,    Correct Counter: 588/915,    F1 Score: 0.62,    Precision: 0.64,    Recall:  0.60 \n",
      "\n"
     ]
    },
    {
     "name": "stderr",
     "output_type": "stream",
     "text": [
      "Batch in Progress: 100%|████████████████████████████████████████████| 29/29 [00:07<00:00,  3.99it/s]\n",
      "Batch in Progress:   0%|                                                    | 0/115 [00:00<?, ?it/s]"
     ]
    },
    {
     "name": "stdout",
     "output_type": "stream",
     "text": [
      "Validation Set:\n",
      "    Average Loss:  0.590658,    Accuracy: 64.91%,    Correct Counter: 148/228,    F1 Score: 0.71,    Precision: 0.60,    Recall:  0.87 \n",
      "\n",
      "Epoch 16/200\n"
     ]
    },
    {
     "name": "stderr",
     "output_type": "stream",
     "text": [
      "Batch in Progress: 100%|██████████████████████████████████████████| 115/115 [00:50<00:00,  2.28it/s]\n",
      "Batch in Progress:   0%|                                                     | 0/29 [00:00<?, ?it/s]"
     ]
    },
    {
     "name": "stdout",
     "output_type": "stream",
     "text": [
      "Train Set:\n",
      "    Average Loss:  0.587084,    Accuracy: 64.48%,    Correct Counter: 590/915,    F1 Score: 0.61,    Precision: 0.65,    Recall:  0.57 \n",
      "\n"
     ]
    },
    {
     "name": "stderr",
     "output_type": "stream",
     "text": [
      "Batch in Progress: 100%|████████████████████████████████████████████| 29/29 [00:07<00:00,  4.05it/s]\n",
      "Batch in Progress:   0%|                                                    | 0/115 [00:00<?, ?it/s]"
     ]
    },
    {
     "name": "stdout",
     "output_type": "stream",
     "text": [
      "Validation Set:\n",
      "    Average Loss:  0.600920,    Accuracy: 65.79%,    Correct Counter: 150/228,    F1 Score: 0.71,    Precision: 0.61,    Recall:  0.86 \n",
      "\n",
      "Epoch 17/200\n"
     ]
    },
    {
     "name": "stderr",
     "output_type": "stream",
     "text": [
      "Batch in Progress: 100%|██████████████████████████████████████████| 115/115 [00:50<00:00,  2.27it/s]\n",
      "Batch in Progress:   0%|                                                     | 0/29 [00:00<?, ?it/s]"
     ]
    },
    {
     "name": "stdout",
     "output_type": "stream",
     "text": [
      "Train Set:\n",
      "    Average Loss:  0.602184,    Accuracy: 64.59%,    Correct Counter: 591/915,    F1 Score: 0.62,    Precision: 0.64,    Recall:  0.61 \n",
      "\n"
     ]
    },
    {
     "name": "stderr",
     "output_type": "stream",
     "text": [
      "Batch in Progress: 100%|████████████████████████████████████████████| 29/29 [00:07<00:00,  4.03it/s]\n",
      "Batch in Progress:   0%|                                                    | 0/115 [00:00<?, ?it/s]"
     ]
    },
    {
     "name": "stdout",
     "output_type": "stream",
     "text": [
      "Validation Set:\n",
      "    Average Loss:  0.600880,    Accuracy: 66.23%,    Correct Counter: 151/228,    F1 Score: 0.72,    Precision: 0.61,    Recall:  0.86 \n",
      "\n",
      "Epoch 18/200\n"
     ]
    },
    {
     "name": "stderr",
     "output_type": "stream",
     "text": [
      "Batch in Progress: 100%|██████████████████████████████████████████| 115/115 [00:50<00:00,  2.28it/s]\n",
      "Batch in Progress:   0%|                                                     | 0/29 [00:00<?, ?it/s]"
     ]
    },
    {
     "name": "stdout",
     "output_type": "stream",
     "text": [
      "Train Set:\n",
      "    Average Loss:  0.575056,    Accuracy: 67.43%,    Correct Counter: 617/915,    F1 Score: 0.67,    Precision: 0.66,    Recall:  0.67 \n",
      "\n"
     ]
    },
    {
     "name": "stderr",
     "output_type": "stream",
     "text": [
      "Batch in Progress: 100%|████████████████████████████████████████████| 29/29 [00:07<00:00,  4.05it/s]\n",
      "Batch in Progress:   0%|                                                    | 0/115 [00:00<?, ?it/s]"
     ]
    },
    {
     "name": "stdout",
     "output_type": "stream",
     "text": [
      "Validation Set:\n",
      "    Average Loss:  0.593117,    Accuracy: 65.35%,    Correct Counter: 149/228,    F1 Score: 0.72,    Precision: 0.60,    Recall:  0.88 \n",
      "\n",
      "Epoch 19/200\n"
     ]
    },
    {
     "name": "stderr",
     "output_type": "stream",
     "text": [
      "Batch in Progress: 100%|██████████████████████████████████████████| 115/115 [00:51<00:00,  2.25it/s]\n",
      "Batch in Progress:   0%|                                                     | 0/29 [00:00<?, ?it/s]"
     ]
    },
    {
     "name": "stdout",
     "output_type": "stream",
     "text": [
      "Train Set:\n",
      "    Average Loss:  0.585679,    Accuracy: 65.90%,    Correct Counter: 603/915,    F1 Score: 0.65,    Precision: 0.64,    Recall:  0.66 \n",
      "\n"
     ]
    },
    {
     "name": "stderr",
     "output_type": "stream",
     "text": [
      "Batch in Progress: 100%|████████████████████████████████████████████| 29/29 [00:07<00:00,  4.06it/s]\n",
      "Batch in Progress:   0%|                                                    | 0/115 [00:00<?, ?it/s]"
     ]
    },
    {
     "name": "stdout",
     "output_type": "stream",
     "text": [
      "Validation Set:\n",
      "    Average Loss:  0.598120,    Accuracy: 65.35%,    Correct Counter: 149/228,    F1 Score: 0.71,    Precision: 0.60,    Recall:  0.87 \n",
      "\n",
      "Epoch 20/200\n"
     ]
    },
    {
     "name": "stderr",
     "output_type": "stream",
     "text": [
      "Batch in Progress: 100%|██████████████████████████████████████████| 115/115 [00:50<00:00,  2.26it/s]\n",
      "Batch in Progress:   0%|                                                     | 0/29 [00:00<?, ?it/s]"
     ]
    },
    {
     "name": "stdout",
     "output_type": "stream",
     "text": [
      "Train Set:\n",
      "    Average Loss:  0.585161,    Accuracy: 64.37%,    Correct Counter: 589/915,    F1 Score: 0.62,    Precision: 0.64,    Recall:  0.60 \n",
      "\n"
     ]
    },
    {
     "name": "stderr",
     "output_type": "stream",
     "text": [
      "Batch in Progress: 100%|████████████████████████████████████████████| 29/29 [00:07<00:00,  3.97it/s]"
     ]
    },
    {
     "name": "stdout",
     "output_type": "stream",
     "text": [
      "Validation Set:\n",
      "    Average Loss:  0.602931,    Accuracy: 65.35%,    Correct Counter: 149/228,    F1 Score: 0.71,    Precision: 0.61,    Recall:  0.86 \n",
      "\n"
     ]
    },
    {
     "name": "stderr",
     "output_type": "stream",
     "text": [
      "\n"
     ]
    }
   ],
   "source": [
    "epochs = 200\n",
    "metrics = train_val(epochs=epochs, models=models, criterion=criterion, optimizer=optimizer, train_loader=train_loader,\n",
    "                    val_loader=test_loader, device=device, early_stop=early_stop)"
   ]
  },
  {
   "cell_type": "code",
   "execution_count": 11,
   "metadata": {},
   "outputs": [],
   "source": [
    "torch.save(image_model, MODELS_PATH + \"\\ImageModel.pth\")\n",
    "torch.save(tabular_model, MODELS_PATH + \"\\TabularModel.pth\")\n",
    "torch.save(fusion_model, MODELS_PATH + \"\\FusionModel.pth\")"
   ]
  }
 ],
 "metadata": {
  "kernelspec": {
   "display_name": "Python 3",
   "language": "python",
   "name": "python3"
  },
  "language_info": {
   "codemirror_mode": {
    "name": "ipython",
    "version": 3
   },
   "file_extension": ".py",
   "mimetype": "text/x-python",
   "name": "python",
   "nbconvert_exporter": "python",
   "pygments_lexer": "ipython3",
   "version": "3.8.5"
  }
 },
 "nbformat": 4,
 "nbformat_minor": 4
}
