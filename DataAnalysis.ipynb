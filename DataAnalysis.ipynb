{
 "cells": [
  {
   "cell_type": "code",
   "execution_count": 9,
   "metadata": {},
   "outputs": [],
   "source": [
    "from Utils.Utils import *\n",
    "from Utils.Blacksmith import * \n",
    "\n",
    "from scipy import stats"
   ]
  },
  {
   "cell_type": "code",
   "execution_count": 2,
   "metadata": {},
   "outputs": [],
   "source": [
    "PATH = \"/home/baharoon/HTN/data/\"\n",
    "CSV_PATH = {\"HTNPath\": PATH + r\"HTN\", \"NonHTNPath\": PATH + \"NonHTN\"}\n",
    "\n",
    "data = get_processed_dataframe(CSV_PATH, normalize=False, standardize=False)"
   ]
  },
  {
   "cell_type": "markdown",
   "metadata": {},
   "source": [
    "# Describe entire dataset"
   ]
  },
  {
   "cell_type": "code",
   "execution_count": 3,
   "metadata": {},
   "outputs": [],
   "source": [
    "n_patients = data[\"MRN\"].nunique()"
   ]
  },
  {
   "cell_type": "code",
   "execution_count": 4,
   "metadata": {},
   "outputs": [
    {
     "data": {
      "text/plain": [
       "1243"
      ]
     },
     "execution_count": 4,
     "metadata": {},
     "output_type": "execute_result"
    }
   ],
   "source": [
    "n_patients"
   ]
  },
  {
   "cell_type": "code",
   "execution_count": 5,
   "metadata": {},
   "outputs": [],
   "source": [
    "data_unique = data.drop_duplicates(\"MRN\")"
   ]
  },
  {
   "cell_type": "code",
   "execution_count": 6,
   "metadata": {},
   "outputs": [
    {
     "data": {
      "text/plain": [
       "count    1243.000000\n",
       "mean       58.687047\n",
       "std        13.574725\n",
       "min        18.000000\n",
       "25%        52.000000\n",
       "50%        61.000000\n",
       "75%        67.000000\n",
       "max        99.000000\n",
       "Name: Age, dtype: float64"
      ]
     },
     "execution_count": 6,
     "metadata": {},
     "output_type": "execute_result"
    }
   ],
   "source": [
    "data_unique[\"Age\"].describe()"
   ]
  },
  {
   "cell_type": "code",
   "execution_count": 7,
   "metadata": {},
   "outputs": [
    {
     "data": {
      "text/plain": [
       "0    699\n",
       "1    544\n",
       "Name: Gender, dtype: int64"
      ]
     },
     "execution_count": 7,
     "metadata": {},
     "output_type": "execute_result"
    }
   ],
   "source": [
    "# 1 is male\n",
    "data_unique['Gender'].value_counts()"
   ]
  },
  {
   "cell_type": "code",
   "execution_count": 8,
   "metadata": {},
   "outputs": [
    {
     "data": {
      "text/plain": [
       "0    0.562349\n",
       "1    0.437651\n",
       "Name: Gender, dtype: float64"
      ]
     },
     "execution_count": 8,
     "metadata": {},
     "output_type": "execute_result"
    }
   ],
   "source": [
    "data_unique['Gender'].value_counts(normalize=True)"
   ]
  },
  {
   "cell_type": "markdown",
   "metadata": {},
   "source": [
    "# Target value specific analysis"
   ]
  },
  {
   "cell_type": "code",
   "execution_count": 11,
   "metadata": {},
   "outputs": [],
   "source": [
    "htn = data_unique[data_unique['HTN'] == 1]\n",
    "non_htn = data_unique[data_unique['HTN'] == 0]"
   ]
  },
  {
   "cell_type": "code",
   "execution_count": 12,
   "metadata": {},
   "outputs": [
    {
     "data": {
      "text/plain": [
       "count    703.000000\n",
       "mean      63.243243\n",
       "std       10.269544\n",
       "min       25.000000\n",
       "25%       58.000000\n",
       "50%       63.000000\n",
       "75%       69.000000\n",
       "max       99.000000\n",
       "Name: Age, dtype: float64"
      ]
     },
     "execution_count": 12,
     "metadata": {},
     "output_type": "execute_result"
    }
   ],
   "source": [
    "htn[\"Age\"].describe()"
   ]
  },
  {
   "cell_type": "code",
   "execution_count": 13,
   "metadata": {},
   "outputs": [
    {
     "data": {
      "text/plain": [
       "0    393\n",
       "1    310\n",
       "Name: Gender, dtype: int64"
      ]
     },
     "execution_count": 13,
     "metadata": {},
     "output_type": "execute_result"
    }
   ],
   "source": [
    "htn['Gender'].value_counts()"
   ]
  },
  {
   "cell_type": "code",
   "execution_count": 14,
   "metadata": {},
   "outputs": [
    {
     "data": {
      "text/plain": [
       "0    0.559033\n",
       "1    0.440967\n",
       "Name: Gender, dtype: float64"
      ]
     },
     "execution_count": 14,
     "metadata": {},
     "output_type": "execute_result"
    }
   ],
   "source": [
    "htn['Gender'].value_counts(normalize=True)"
   ]
  },
  {
   "cell_type": "code",
   "execution_count": 15,
   "metadata": {},
   "outputs": [
    {
     "data": {
      "text/plain": [
       "count    540.000000\n",
       "mean      52.755556\n",
       "std       14.997819\n",
       "min       18.000000\n",
       "25%       42.000000\n",
       "50%       56.000000\n",
       "75%       64.000000\n",
       "max       88.000000\n",
       "Name: Age, dtype: float64"
      ]
     },
     "execution_count": 15,
     "metadata": {},
     "output_type": "execute_result"
    }
   ],
   "source": [
    "non_htn[\"Age\"].describe()"
   ]
  },
  {
   "cell_type": "code",
   "execution_count": 16,
   "metadata": {},
   "outputs": [
    {
     "data": {
      "text/plain": [
       "0    306\n",
       "1    234\n",
       "Name: Gender, dtype: int64"
      ]
     },
     "execution_count": 16,
     "metadata": {},
     "output_type": "execute_result"
    }
   ],
   "source": [
    "non_htn['Gender'].value_counts()"
   ]
  },
  {
   "cell_type": "code",
   "execution_count": 17,
   "metadata": {},
   "outputs": [
    {
     "data": {
      "text/plain": [
       "0    0.566667\n",
       "1    0.433333\n",
       "Name: Gender, dtype: float64"
      ]
     },
     "execution_count": 17,
     "metadata": {},
     "output_type": "execute_result"
    }
   ],
   "source": [
    "non_htn['Gender'].value_counts(normalize=True)"
   ]
  },
  {
   "cell_type": "markdown",
   "metadata": {},
   "source": [
    "# Sex-specific analysis"
   ]
  },
  {
   "cell_type": "code",
   "execution_count": 18,
   "metadata": {},
   "outputs": [
    {
     "data": {
      "text/plain": [
       "count    699.000000\n",
       "mean      57.931330\n",
       "std       13.222837\n",
       "min       18.000000\n",
       "25%       53.000000\n",
       "50%       61.000000\n",
       "75%       66.000000\n",
       "max       99.000000\n",
       "Name: Age, dtype: float64"
      ]
     },
     "execution_count": 18,
     "metadata": {},
     "output_type": "execute_result"
    }
   ],
   "source": [
    "data_unique[data_unique[\"Gender\"] == 0][\"Age\"].describe()"
   ]
  },
  {
   "cell_type": "code",
   "execution_count": 19,
   "metadata": {},
   "outputs": [
    {
     "data": {
      "text/plain": [
       "count    544.000000\n",
       "mean      59.658088\n",
       "std       13.966179\n",
       "min       18.000000\n",
       "25%       52.000000\n",
       "50%       62.000000\n",
       "75%       69.000000\n",
       "max       92.000000\n",
       "Name: Age, dtype: float64"
      ]
     },
     "execution_count": 19,
     "metadata": {},
     "output_type": "execute_result"
    }
   ],
   "source": [
    "data_unique[data_unique[\"Gender\"] == 1][\"Age\"].describe()"
   ]
  },
  {
   "cell_type": "code",
   "execution_count": 20,
   "metadata": {},
   "outputs": [
    {
     "data": {
      "text/plain": [
       "count    310.000000\n",
       "mean      63.703226\n",
       "std       11.521290\n",
       "min       25.000000\n",
       "25%       58.000000\n",
       "50%       65.000000\n",
       "75%       71.750000\n",
       "max       92.000000\n",
       "Name: Age, dtype: float64"
      ]
     },
     "execution_count": 20,
     "metadata": {},
     "output_type": "execute_result"
    }
   ],
   "source": [
    "htn[htn[\"Gender\"] == 1][\"Age\"].describe()"
   ]
  },
  {
   "cell_type": "code",
   "execution_count": 37,
   "metadata": {},
   "outputs": [],
   "source": [
    "data = data_unique[data_unique[\"Gender\"] == 1][\"Age\"]\n",
    "mean = data.mean()\n",
    "sem = stats.sem(data)\n",
    "\n",
    "confidence_level = 0.95\n",
    "ci = stats.t.interval(alpha=confidence_level, df=len(data)-1, loc=mean, scale=sem)"
   ]
  },
  {
   "cell_type": "code",
   "execution_count": 38,
   "metadata": {},
   "outputs": [
    {
     "data": {
      "text/plain": [
       "(58.481849872382185, 60.83432659820605)"
      ]
     },
     "execution_count": 38,
     "metadata": {},
     "output_type": "execute_result"
    }
   ],
   "source": [
    "ci"
   ]
  },
  {
   "cell_type": "code",
   "execution_count": 23,
   "metadata": {},
   "outputs": [
    {
     "data": {
      "text/plain": [
       "count    393.000000\n",
       "mean      62.880407\n",
       "std        9.161446\n",
       "min       27.000000\n",
       "25%       58.000000\n",
       "50%       63.000000\n",
       "75%       68.000000\n",
       "max       99.000000\n",
       "Name: Age, dtype: float64"
      ]
     },
     "execution_count": 23,
     "metadata": {},
     "output_type": "execute_result"
    }
   ],
   "source": [
    "htn[htn[\"Gender\"] == 0][\"Age\"].describe()"
   ]
  },
  {
   "cell_type": "code",
   "execution_count": 24,
   "metadata": {},
   "outputs": [
    {
     "data": {
      "text/plain": [
       "count    234.000000\n",
       "mean      54.299145\n",
       "std       15.096977\n",
       "min       18.000000\n",
       "25%       43.000000\n",
       "50%       57.000000\n",
       "75%       65.750000\n",
       "max       88.000000\n",
       "Name: Age, dtype: float64"
      ]
     },
     "execution_count": 24,
     "metadata": {},
     "output_type": "execute_result"
    }
   ],
   "source": [
    "non_htn[non_htn[\"Gender\"] == 1][\"Age\"].describe()"
   ]
  },
  {
   "cell_type": "code",
   "execution_count": 25,
   "metadata": {},
   "outputs": [
    {
     "data": {
      "text/plain": [
       "count    306.000000\n",
       "mean      51.575163\n",
       "std       14.838007\n",
       "min       18.000000\n",
       "25%       41.000000\n",
       "50%       55.000000\n",
       "75%       62.750000\n",
       "max       88.000000\n",
       "Name: Age, dtype: float64"
      ]
     },
     "execution_count": 25,
     "metadata": {},
     "output_type": "execute_result"
    }
   ],
   "source": [
    "non_htn[non_htn[\"Gender\"] == 0][\"Age\"].describe()"
   ]
  },
  {
   "cell_type": "code",
   "execution_count": 31,
   "metadata": {},
   "outputs": [
    {
     "data": {
      "text/plain": [
       "count    295.000000\n",
       "mean      63.610169\n",
       "std       11.366224\n",
       "min       25.000000\n",
       "25%       58.000000\n",
       "50%       64.000000\n",
       "75%       71.000000\n",
       "max       92.000000\n",
       "Name: Age, dtype: float64"
      ]
     },
     "execution_count": 31,
     "metadata": {},
     "output_type": "execute_result"
    }
   ],
   "source": [
    "htn[(htn[\"Gender\"] == 1) & (htn[\"DM\"] == 1)][\"Age\"].describe()"
   ]
  },
  {
   "cell_type": "code",
   "execution_count": null,
   "metadata": {},
   "outputs": [],
   "source": [
    "# Diabetes"
   ]
  },
  {
   "cell_type": "code",
   "execution_count": 46,
   "metadata": {},
   "outputs": [
    {
     "data": {
      "text/plain": [
       "count    425.000000\n",
       "mean      60.731765\n",
       "std       13.626194\n",
       "min       18.000000\n",
       "25%       55.000000\n",
       "50%       63.000000\n",
       "75%       69.000000\n",
       "max       92.000000\n",
       "Name: Age, dtype: float64"
      ]
     },
     "execution_count": 46,
     "metadata": {},
     "output_type": "execute_result"
    }
   ],
   "source": [
    "data_unique[(data_unique[\"Gender\"] == 1) & (data_unique[\"DM\"] == 1)][\"Age\"].describe()"
   ]
  },
  {
   "cell_type": "code",
   "execution_count": 47,
   "metadata": {},
   "outputs": [
    {
     "data": {
      "text/plain": [
       "count    553.000000\n",
       "mean      58.755877\n",
       "std       12.438402\n",
       "min       18.000000\n",
       "25%       54.000000\n",
       "50%       61.000000\n",
       "75%       66.000000\n",
       "max       99.000000\n",
       "Name: Age, dtype: float64"
      ]
     },
     "execution_count": 47,
     "metadata": {},
     "output_type": "execute_result"
    }
   ],
   "source": [
    "data_unique[(data_unique[\"Gender\"] == 0) & (data_unique[\"DM\"] == 1)][\"Age\"].describe()"
   ]
  },
  {
   "cell_type": "code",
   "execution_count": 41,
   "metadata": {},
   "outputs": [
    {
     "data": {
      "text/plain": [
       "count    295.000000\n",
       "mean      63.610169\n",
       "std       11.366224\n",
       "min       25.000000\n",
       "25%       58.000000\n",
       "50%       64.000000\n",
       "75%       71.000000\n",
       "max       92.000000\n",
       "Name: Age, dtype: float64"
      ]
     },
     "execution_count": 41,
     "metadata": {},
     "output_type": "execute_result"
    }
   ],
   "source": [
    "htn[(htn[\"Gender\"] == 1) & (htn[\"DM\"] == 1)][\"Age\"].describe()"
   ]
  },
  {
   "cell_type": "code",
   "execution_count": 42,
   "metadata": {},
   "outputs": [
    {
     "data": {
      "text/plain": [
       "count    373.000000\n",
       "mean      62.769437\n",
       "std        8.844865\n",
       "min       27.000000\n",
       "25%       58.000000\n",
       "50%       63.000000\n",
       "75%       68.000000\n",
       "max       99.000000\n",
       "Name: Age, dtype: float64"
      ]
     },
     "execution_count": 42,
     "metadata": {},
     "output_type": "execute_result"
    }
   ],
   "source": [
    "htn[(htn[\"Gender\"] == 0) & (htn[\"DM\"] == 1)][\"Age\"].describe()"
   ]
  },
  {
   "cell_type": "code",
   "execution_count": 43,
   "metadata": {},
   "outputs": [
    {
     "data": {
      "text/plain": [
       "count    130.000000\n",
       "mean      54.200000\n",
       "std       15.934167\n",
       "min       18.000000\n",
       "25%       43.250000\n",
       "50%       58.000000\n",
       "75%       65.000000\n",
       "max       88.000000\n",
       "Name: Age, dtype: float64"
      ]
     },
     "execution_count": 43,
     "metadata": {},
     "output_type": "execute_result"
    }
   ],
   "source": [
    "non_htn[(non_htn[\"Gender\"] == 1) & (non_htn[\"DM\"] == 1)][\"Age\"].describe()"
   ]
  },
  {
   "cell_type": "code",
   "execution_count": 44,
   "metadata": {},
   "outputs": [
    {
     "data": {
      "text/plain": [
       "count    180.000000\n",
       "mean      50.438889\n",
       "std       14.539549\n",
       "min       18.000000\n",
       "25%       40.000000\n",
       "50%       54.000000\n",
       "75%       62.000000\n",
       "max       84.000000\n",
       "Name: Age, dtype: float64"
      ]
     },
     "execution_count": 44,
     "metadata": {},
     "output_type": "execute_result"
    }
   ],
   "source": [
    "non_htn[(non_htn[\"Gender\"] == 0) & (non_htn[\"DM\"] == 1)][\"Age\"].describe()"
   ]
  },
  {
   "cell_type": "markdown",
   "metadata": {},
   "source": [
    "# Patient target distribution"
   ]
  },
  {
   "cell_type": "code",
   "execution_count": 32,
   "metadata": {},
   "outputs": [
    {
     "data": {
      "text/plain": [
       "703"
      ]
     },
     "execution_count": 32,
     "metadata": {},
     "output_type": "execute_result"
    }
   ],
   "source": [
    "patient_htn_size = htn.drop_duplicates(subset='MRN').shape[0]\n",
    "patient_htn_size"
   ]
  },
  {
   "cell_type": "code",
   "execution_count": 33,
   "metadata": {},
   "outputs": [
    {
     "data": {
      "text/plain": [
       "540"
      ]
     },
     "execution_count": 33,
     "metadata": {},
     "output_type": "execute_result"
    }
   ],
   "source": [
    "patient_nonhtn_size = non_htn.drop_duplicates(subset='MRN').shape[0]\n",
    "patient_nonhtn_size"
   ]
  },
  {
   "cell_type": "code",
   "execution_count": 34,
   "metadata": {},
   "outputs": [
    {
     "name": "stdout",
     "output_type": "stream",
     "text": [
      "Hypertensive patients percentage 0.5655671761866452\n",
      "Non-hypertensive patients percentage 0.4344328238133548\n"
     ]
    }
   ],
   "source": [
    "print(f\"Hypertensive patients percentage {patient_htn_size / (patient_htn_size + patient_nonhtn_size)}\")\n",
    "print(f\"Non-hypertensive patients percentage {patient_nonhtn_size / (patient_htn_size + patient_nonhtn_size)}\")"
   ]
  },
  {
   "cell_type": "markdown",
   "metadata": {},
   "source": [
    "# Split specific target distribution"
   ]
  },
  {
   "cell_type": "code",
   "execution_count": 25,
   "metadata": {},
   "outputs": [],
   "source": [
    "train_set, val_set, test_set = get_datasets(val=True)"
   ]
  },
  {
   "cell_type": "code",
   "execution_count": 26,
   "metadata": {},
   "outputs": [
    {
     "name": "stdout",
     "output_type": "stream",
     "text": [
      "Train set size: 686 \n",
      "Train set hypertensive count: 333 \n",
      "Train set non-hypertensive count: 353 \n",
      "Train set hypertensive patients percentage: 0.48542274052478135\n",
      "Train set non-hypertensive patients percentage: 0.5145772594752187 \n",
      "\n",
      "Validation set size: 229\n",
      "Validation hypertensive count: 111\n",
      "Validation non-hypertensive count: 118\n",
      "Validation set hypertensive patients percentage: 0.4847161572052402\n",
      "Validation set non-hypertensive patients percentage: 0.5152838427947598 \n",
      "\n",
      "Test set size: 228 \n",
      "Test set hypertensive count: 113\n",
      "Test set non-hypertensive count: 115 \n",
      "Test set hypertensive patients percentage: 0.4956140350877193\n",
      "Test set non-hypertensive patients percentage: 0.5043859649122807 \n",
      "\n"
     ]
    }
   ],
   "source": [
    "train_set_n, train_set_htn_n = train_set.shape[0], train_set[train_set['Hypertension'] == 1].shape[0]\n",
    "train_set_nonhtn_n = train_set_n - train_set_htn_n \n",
    "\n",
    "val_set_n, val_set_htn_n = val_set.shape[0], val_set[val_set['Hypertension'] == 1].shape[0]\n",
    "val_set_nonhtn_n = val_set_n - val_set_htn_n\n",
    "\n",
    "test_set_n, test_set_htn_n = test_set.shape[0], test_set[test_set['Hypertension'] == 1].shape[0]\n",
    "test_set_nonhtn_n = test_set_n - test_set_htn_n \n",
    "\n",
    "print(\n",
    "f\"\"\"Train set size: {train_set_n} \n",
    "Train set hypertensive count: {train_set_htn_n} \n",
    "Train set non-hypertensive count: {train_set_nonhtn_n} \n",
    "Train set hypertensive patients percentage: {train_set_htn_n / train_set_n}\n",
    "Train set non-hypertensive patients percentage: {train_set_nonhtn_n / train_set_n} \n",
    "\n",
    "Validation set size: {val_set_n}\n",
    "Validation hypertensive count: {val_set_htn_n}\n",
    "Validation non-hypertensive count: {val_set_nonhtn_n}\n",
    "Validation set hypertensive patients percentage: {val_set_htn_n / val_set_n}\n",
    "Validation set non-hypertensive patients percentage: {val_set_nonhtn_n / val_set_n} \n",
    "\n",
    "Test set size: {test_set_n} \n",
    "Test set hypertensive count: {test_set_htn_n}\n",
    "Test set non-hypertensive count: {test_set_nonhtn_n} \n",
    "Test set hypertensive patients percentage: {test_set_htn_n / test_set_n}\n",
    "Test set non-hypertensive patients percentage: {test_set_nonhtn_n / test_set_n} \n",
    "\"\"\")"
   ]
  },
  {
   "cell_type": "code",
   "execution_count": null,
   "metadata": {},
   "outputs": [],
   "source": []
  }
 ],
 "metadata": {
  "kernelspec": {
   "display_name": "retfound",
   "language": "python",
   "name": "retfound"
  },
  "language_info": {
   "codemirror_mode": {
    "name": "ipython",
    "version": 3
   },
   "file_extension": ".py",
   "mimetype": "text/x-python",
   "name": "python",
   "nbconvert_exporter": "python",
   "pygments_lexer": "ipython3",
   "version": "3.7.5"
  }
 },
 "nbformat": 4,
 "nbformat_minor": 4
}
