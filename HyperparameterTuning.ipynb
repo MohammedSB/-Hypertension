{
 "cells": [
  {
   "cell_type": "code",
   "execution_count": 1,
   "metadata": {},
   "outputs": [],
   "source": [
    "%run C:/Users/MohammedSB/Desktop/projects/Utils/Blacksmith.ipynb"
   ]
  },
  {
   "cell_type": "code",
   "execution_count": 2,
   "metadata": {},
   "outputs": [],
   "source": [
    "# Seed\n",
    "set_seed(0)"
   ]
  },
  {
   "cell_type": "code",
   "execution_count": 3,
   "metadata": {},
   "outputs": [],
   "source": [
    "import os\n",
    "os.environ['CUDA_LAUNCH_BLOCKING'] = \"1\"\n",
    "\n",
    "warnings.filterwarnings(\"ignore\")\n",
    "\n",
    "# Image folder path\n",
    "path = r\"D:\\\\MohammedSB\\Fundus\\\\\"\n",
    "csv_path = {\"htnPath\": path + r\"HTN\", \"nonHtnPath\": path + \"NonHTN\"}"
   ]
  },
  {
   "attachments": {},
   "cell_type": "markdown",
   "metadata": {},
   "source": [
    "# Tune XGBoost"
   ]
  },
  {
   "cell_type": "code",
   "execution_count": 5,
   "metadata": {},
   "outputs": [],
   "source": [
    "dataset = TabularDataset(csv_path)"
   ]
  },
  {
   "cell_type": "code",
   "execution_count": 6,
   "metadata": {},
   "outputs": [],
   "source": [
    "X, y = dataset.X, dataset.y\n",
    "x_train, x_test, y_train, y_test = train_test_split(X, y, test_size=0.2)"
   ]
  },
  {
   "cell_type": "code",
   "execution_count": 7,
   "metadata": {},
   "outputs": [],
   "source": [
    "boost = xgb.XGBClassifier(tree_method='gpu_hist')"
   ]
  },
  {
   "cell_type": "code",
   "execution_count": 8,
   "metadata": {},
   "outputs": [],
   "source": [
    "params = { 'max_depth': [3,6,10],\n",
    "           'learning_rate': [0.001, 0.005, 0.01, 0.05, 0.1],\n",
    "           'n_estimators': [100, 500, 1000],\n",
    "           'colsample_bytree': [0.3, 0.7]}"
   ]
  },
  {
   "cell_type": "code",
   "execution_count": 9,
   "metadata": {},
   "outputs": [],
   "source": [
    "clf = GridSearchCV(estimator=boost, \n",
    "                   param_grid=params,\n",
    "                   scoring='f1', \n",
    "                   verbose=1)"
   ]
  },
  {
   "attachments": {},
   "cell_type": "markdown",
   "metadata": {},
   "source": [
    "# Multimodal"
   ]
  },
  {
   "cell_type": "code",
   "execution_count": 4,
   "metadata": {},
   "outputs": [],
   "source": [
    "def mm_data():\n",
    "    csv_path = {\"htnPath\": path + r\"HTN\", \"nonHtnPath\": path + \"NonHTN\"}\n",
    "    dataset = HypertensionDataset(csv_path)\n",
    "    train_set, test_set = split(dataset, train_prcntg=0.8, random=False)\n",
    "    train_loader, val_loader = data_loader(train_set, test_set, batch_size=1)\n",
    "    return train_loader, val_loader"
   ]
  },
  {
   "cell_type": "code",
   "execution_count": 5,
   "metadata": {},
   "outputs": [],
   "source": [
    "csv_path = {\"htnPath\": path + r\"HTN\", \"nonHtnPath\": path + \"NonHTN\"}\n",
    "dataset = HypertensionDataset(csv_path)"
   ]
  },
  {
   "cell_type": "code",
   "execution_count": 6,
   "metadata": {},
   "outputs": [],
   "source": [
    "class FusionModel(torch.nn.Module):\n",
    "    def __init__(self, image_model, tabular_model, fusion_model, criterion, lr=1e-3, device=\"cuda:0\"):\n",
    "        super(FusionModel, self).__init__()\n",
    "        self.image_model = image_model\n",
    "        self.tabular_model = tabular_model\n",
    "        self.fusion_model = fusion_model\n",
    "\n",
    "        # To device\n",
    "        self.image_model, self.tabular_model, self.fusion_model = self.image_model.to(device), self.tabular_model.to(device), self.fusion_model.to(device)\n",
    "        \n",
    "        # Float\n",
    "        self.image_model, self.tabular_model, self.fusion_model = self.image_model.float(), self.tabular_model.float(), self.fusion_model.float()\n",
    "        \n",
    "        # optimizer\n",
    "        params = itertools.chain(self.tabular_model.parameters(), self.image_model.parameters(), self.fusion_model.parameters()) \n",
    "        self.optimizer = torch.optim.Adam([\n",
    "            {'params': self.tabular_model.parameters(), 'lr': 1e-3},\n",
    "            {'params': self.image_model.parameters(), 'lr': 1e-5},\n",
    "            {'params': self.fusion_model.parameters(), 'lr': lr}])\n",
    "    \n",
    "        self.criterion = criterion\n",
    "        self.device = device"
   ]
  },
  {
   "attachments": {},
   "cell_type": "markdown",
   "metadata": {},
   "source": [
    "## Raytune Optimization"
   ]
  },
  {
   "cell_type": "code",
   "execution_count": 4,
   "metadata": {},
   "outputs": [],
   "source": [
    "def tune_hp(config):\n",
    "    \n",
    "    device = torch.device(\"cuda:0\" if torch.cuda.is_available() else \"cpu\")\n",
    "    \n",
    "    if config[\"model\"] == \"vgg16\":\n",
    "        model = get_vgg16(device=device, freeze=config['freeze'])\n",
    "    elif config[\"model\"] == \"vgg19\":\n",
    "        model = get_vgg19(device=device, freeze=config['freeze'])\n",
    "    elif config[\"model\"] == \"resnet50\":\n",
    "        model = get_resnet50(device=device)\n",
    "    elif config[\"model\"] == \"resnet152\":\n",
    "        model = get_resnet152(device=device)\n",
    "    elif config[\"model\"] == \"custom\":\n",
    "        model = get_custom(device=device)\n",
    "    elif config[\"model\"] == \"inception_v3\":\n",
    "        model = get_inceptionv3(device=device, freeze=config[\"freeze\"], with_mlp=config[\"with_mlp\"])\n",
    "    elif config[\"model\"] == \"densenet201\":\n",
    "        model = get_densenet201(device=device, freeze=config[\"freeze\"], with_mlp=config[\"with_mlp\"])\n",
    "    elif config[\"model\"] == \"mobilenet_v2\":\n",
    "        model = get_mobilenetv2(device=device, freeze=config[\"freeze\"], with_mlp=config[\"with_mlp\"])\n",
    "        \n",
    "#     mlp = get_custom_mlp(device)\n",
    "#     fs = get_custom_fs(device)\n",
    "    \n",
    "    criterion = BCEWithLogitsLoss()\n",
    "    \n",
    "#     model = FusionModel(img, mlp, fs, criterion, config[\"alr\"], device)\n",
    "    \n",
    "    # Get data\n",
    "    train_loader, val_loader = config[\"train_loader\"], config[\"val_loader\"]\n",
    "    \n",
    "    for epoch in range(1, config[\"epochs\"]):\n",
    "        # Train\n",
    "        model.tabular_model.train(True)\n",
    "        model.image_model.train(True)\n",
    "        model.fusion_model.train(True)    \n",
    "        \n",
    "        with torch.set_grad_enabled(True):\n",
    "            for sample in train_loader:\n",
    "                \n",
    "                img, features, target = sample[\"image\"], sample[\"features\"], sample[\"label\"]\n",
    "                img, features, target = img.to(device).float(), features.to(device).float(),\\\n",
    "                                        target.to(device).float()\n",
    "                \n",
    "                target = target.unsqueeze(dim=-1)                       \n",
    "                \n",
    "                # forward\n",
    "                sig = nn.Sigmoid()\n",
    "                image_features = model.image_model(img)\n",
    "                tabular_features = model.tabular_model(features)\n",
    "\n",
    "                image_pred = sig(image_features)\n",
    "                tabular_pred = sig(tabular_features)\n",
    "\n",
    "                # forward pass for fusion\n",
    "                combined_features = torch.cat((image_pred, tabular_pred), 1)\n",
    "                output = model.fusion_model(combined_features)   \n",
    "                    \n",
    "                loss = model.criterion(output, target)\n",
    "\n",
    "                # backward\n",
    "                model.optimizer.zero_grad()\n",
    "                loss.backward()\n",
    "                model.optimizer.step()\n",
    "\n",
    "                    \n",
    "        # Eval\n",
    "        model.tabular_model.train(False)\n",
    "        model.image_model.train(False)\n",
    "        model.fusion_model.train(False)\n",
    "        \n",
    "        metrics = dict()\n",
    "                \n",
    "        count, total_loss, correct = 0, 0, 0\n",
    "        preds, targets = torch.tensor([]), torch.tensor([])\n",
    "        \n",
    "        with torch.set_grad_enabled(False):\n",
    "            for sample in val_loader:\n",
    "                \n",
    "                img, features, target = sample[\"image\"], sample[\"features\"], sample[\"label\"]\n",
    "                img, features, target = img.to(device).float(), features.to(device).float(),\\\n",
    "                                        target.to(device).float()\n",
    "                \n",
    "                target = target.unsqueeze(dim=-1)                       \n",
    "                \n",
    "                # forward\n",
    "                sig = nn.Sigmoid()\n",
    "                image_features = model.image_model(img)\n",
    "                tabular_features = model.tabular_model(features)\n",
    "\n",
    "                image_pred = sig(image_features)\n",
    "                tabular_pred = sig(tabular_features)\n",
    "\n",
    "                # forward pass for fusion\n",
    "                combined_features = torch.cat((image_pred, tabular_pred), 1)\n",
    "                output = model.fusion_model(combined_features)   \n",
    "                    \n",
    "                output = model.tabular_model(features)\n",
    "                loss = model.criterion(output, target)\n",
    "                \n",
    "                # bookkeeping\n",
    "                total_loss += loss * len(img)\n",
    "                sig = torch.nn.Sigmoid()    \n",
    "                pred = sig(output.to('cpu').detach())\n",
    "                pred = map(classify, pred)\n",
    "                pred = torch.tensor(list(pred), device=device)\n",
    "                correct += (pred == target.squeeze(1)).sum()\n",
    "            \n",
    "                pred = pred.cpu()\n",
    "                target = target.cpu()\n",
    "                preds = torch.cat((preds, pred))\n",
    "                targets = torch.cat((targets, target))\n",
    "                \n",
    "        metrics[\"Loss\"] = total_loss.item()\n",
    "        metrics[\"Average Loss\"] = (total_loss.item() / len(val_loader.dataset))\n",
    "        metrics[\"Correct\"] = correct.item()\n",
    "        metrics[\"Accuracy\"] = (correct.item() / len(val_loader.dataset)) * 100\n",
    "        metrics[\"Size\"] = len(val_loader.dataset)\n",
    "        \n",
    "        # Precision, Recall, and F1        \n",
    "        metrics[\"Precision\"] = precision_score(targets, preds, zero_division=1) \n",
    "        metrics[\"Recall\"] = recall_score(targets, preds, zero_division=1) \n",
    "        metrics[\"F1 Score\"] = f1_score(targets, preds) \n",
    "                \n",
    "        tune.report(loss=(metrics[\"Average Loss\"]), accuracy=metrics[\"Accuracy\"], f1_score=metrics[\"F1 Score\"],\\\n",
    "                    precision=metrics[\"Precision\"], recall=metrics[\"Recall\"])"
   ]
  },
  {
   "cell_type": "code",
   "execution_count": 5,
   "metadata": {},
   "outputs": [],
   "source": [
    "# Get Data\n",
    "dataset = HypertensionDataset(csv_path)\n",
    "\n",
    "# Shuffle\n",
    "dataset.df = dataset.df.sample(frac=1).reset_index(drop=True)\n",
    "\n",
    "# Train and test split using indices\n",
    "train_indices, test_indices = get_indices(dataset.df, sample_ratio=0.2)\n",
    "train_set = dataset.df.iloc[train_indices].reset_index(drop=True)\n",
    "train_indices, val_indices = get_indices(train_set, sample_ratio=0.25) \n",
    "\n",
    "\n",
    "train_loader = DataLoader(dataset, batch_size=16, sampler=torch.utils.data.SubsetRandomSampler(train_indices))\n",
    "val_loader = DataLoader(dataset, batch_size=16, sampler=torch.utils.data.SubsetRandomSampler(val_indices))\n",
    "test_loader = DataLoader(dataset, batch_size=16, sampler=torch.utils.data.SubsetRandomSampler(test_indices))"
   ]
  },
  {
   "cell_type": "code",
   "execution_count": 6,
   "metadata": {},
   "outputs": [],
   "source": [
    "config = {\n",
    "    \"batch_size\": tune.grid_search([16]),\n",
    "    \"alr\": tune.grid_search([5e-3, 1e-4, 5e-4, 1e-5, 5e-5, 1e-6]),\n",
    "    \"epochs\": 20,\n",
    "    \"freeze\": tune.grid_search([True]),\n",
    "    \"model\": tune.grid_search([\"mobilenet_v2\"]),\n",
    "    \"with_mlp\": tune.grid_search([False]),\n",
    "    \"train_loader\": train_loader,\n",
    "    \"val_loader\": val_loader,\n",
    "}\n",
    "\n",
    "reporter = CLIReporter(\n",
    "    metric_columns=[\"loss\", \"accuracy\", \"f1_score\", \"precision\", \"recall\"],\n",
    ")"
   ]
  },
  {
   "cell_type": "code",
   "execution_count": 7,
   "metadata": {},
   "outputs": [
    {
     "name": "stderr",
     "output_type": "stream",
     "text": [
      "2023-02-01 16:38:07,476\tINFO worker.py:1519 -- Started a local Ray instance. View the dashboard at \u001b[1m\u001b[32mhttp://127.0.0.1:8265 \u001b[39m\u001b[22m\n",
      "2023-02-01 16:38:10,366\tWARNING function_trainable.py:586 -- Function checkpointing is disabled. This may result in unexpected behavior when using checkpointing features or certain schedulers. To enable, set the train function arguments to be `func(config, checkpoint_dir=None)`.\n"
     ]
    },
    {
     "name": "stdout",
     "output_type": "stream",
     "text": [
      "== Status ==\n",
      "Current time: 2023-02-01 16:38:10 (running for 00:00:00.35)\n",
      "Memory usage on this node: 16.7/63.9 GiB \n",
      "Using FIFO scheduling algorithm.\n",
      "Resources requested: 1.0/16 CPUs, 1.0/1 GPUs, 0.0/29.02 GiB heap, 0.0/14.51 GiB objects\n",
      "Result logdir: C:\\Users\\MohammedSB\\ray_results\\tune_hp_mm_2023-02-01_16-38-10\n",
      "Number of trials: 6/6 (5 PENDING, 1 RUNNING)\n",
      "+------------------------+----------+-----------------+--------+--------------+----------+--------------+------------+\n",
      "| Trial name             | status   | loc             |    alr |   batch_size | freeze   | model        | with_mlp   |\n",
      "|------------------------+----------+-----------------+--------+--------------+----------+--------------+------------|\n",
      "| tune_hp_mm_aaf87_00000 | RUNNING  | 127.0.0.1:20572 | 0.005  |           16 | True     | mobilenet_v2 | False      |\n",
      "| tune_hp_mm_aaf87_00001 | PENDING  |                 | 0.0001 |           16 | True     | mobilenet_v2 | False      |\n",
      "| tune_hp_mm_aaf87_00002 | PENDING  |                 | 0.0005 |           16 | True     | mobilenet_v2 | False      |\n",
      "| tune_hp_mm_aaf87_00003 | PENDING  |                 | 1e-05  |           16 | True     | mobilenet_v2 | False      |\n",
      "| tune_hp_mm_aaf87_00004 | PENDING  |                 | 5e-05  |           16 | True     | mobilenet_v2 | False      |\n",
      "| tune_hp_mm_aaf87_00005 | PENDING  |                 | 1e-06  |           16 | True     | mobilenet_v2 | False      |\n",
      "+------------------------+----------+-----------------+--------+--------------+----------+--------------+------------+\n",
      "\n",
      "\n"
     ]
    },
    {
     "name": "stderr",
     "output_type": "stream",
     "text": [
      "2023-02-01 16:38:14,941\tERROR trial_runner.py:993 -- Trial tune_hp_mm_aaf87_00000: Error processing event.\n",
      "ray.exceptions.RayTaskError(NameError): \u001b[36mray::ImplicitFunc.train()\u001b[39m (pid=20572, ip=127.0.0.1, repr=func)\n",
      "  File \"python\\ray\\_raylet.pyx\", line 859, in ray._raylet.execute_task\n",
      "  File \"python\\ray\\_raylet.pyx\", line 863, in ray._raylet.execute_task\n",
      "  File \"python\\ray\\_raylet.pyx\", line 810, in ray._raylet.execute_task.function_executor\n",
      "  File \"C:\\ProgramData\\Anaconda3\\lib\\site-packages\\ray\\_private\\function_manager.py\", line 674, in actor_method_executor\n",
      "    return method(__ray_actor, *args, **kwargs)\n",
      "  File \"C:\\ProgramData\\Anaconda3\\lib\\site-packages\\ray\\util\\tracing\\tracing_helper.py\", line 466, in _resume_span\n",
      "    return method(self, *_args, **_kwargs)\n",
      "  File \"C:\\ProgramData\\Anaconda3\\lib\\site-packages\\ray\\tune\\trainable\\trainable.py\", line 355, in train\n",
      "    raise skipped from exception_cause(skipped)\n",
      "  File \"C:\\ProgramData\\Anaconda3\\lib\\site-packages\\ray\\tune\\trainable\\function_trainable.py\", line 325, in entrypoint\n",
      "    return self._trainable_func(\n",
      "  File \"C:\\ProgramData\\Anaconda3\\lib\\site-packages\\ray\\util\\tracing\\tracing_helper.py\", line 466, in _resume_span\n",
      "    return method(self, *_args, **_kwargs)\n",
      "  File \"C:\\ProgramData\\Anaconda3\\lib\\site-packages\\ray\\tune\\trainable\\function_trainable.py\", line 651, in _trainable_func\n",
      "    output = fn()\n",
      "  File \"<ipython-input-4-4ec46ddb3192>\", line 27, in tune_hp_mm\n",
      "NameError: name 'FusionModel' is not defined\n"
     ]
    },
    {
     "data": {
      "text/html": [
       "<div class=\"trialProgress\">\n",
       "  <h3>Trial Progress</h3>\n",
       "  <table>\n",
       "<thead>\n",
       "<tr><th>Trial name            </th><th>date               </th><th>experiment_id                   </th><th>hostname       </th><th>node_ip  </th><th style=\"text-align: right;\">  pid</th><th style=\"text-align: right;\">  timestamp</th><th>trial_id   </th></tr>\n",
       "</thead>\n",
       "<tbody>\n",
       "<tr><td>tune_hp_mm_aaf87_00000</td><td>2023-02-01_16-38-14</td><td>4b85a82ff7884bc38996d3a42b3d055c</td><td>DESKTOP-G9R02TV</td><td>127.0.0.1</td><td style=\"text-align: right;\">20572</td><td style=\"text-align: right;\"> 1675258694</td><td>aaf87_00000</td></tr>\n",
       "<tr><td>tune_hp_mm_aaf87_00001</td><td>2023-02-01_16-38-18</td><td>a2d4c59de4e04283b7c485afab2821f1</td><td>DESKTOP-G9R02TV</td><td>127.0.0.1</td><td style=\"text-align: right;\">32248</td><td style=\"text-align: right;\"> 1675258698</td><td>aaf87_00001</td></tr>\n",
       "</tbody>\n",
       "</table>\n",
       "</div>\n",
       "<style>\n",
       ".trialProgress {\n",
       "  display: flex;\n",
       "  flex-direction: column;\n",
       "  color: var(--jp-ui-font-color1);\n",
       "}\n",
       ".trialProgress h3 {\n",
       "  font-weight: bold;\n",
       "}\n",
       ".trialProgress td {\n",
       "  white-space: nowrap;\n",
       "}\n",
       "</style>\n"
      ],
      "text/plain": [
       "<IPython.core.display.HTML object>"
      ]
     },
     "metadata": {},
     "output_type": "display_data"
    },
    {
     "name": "stderr",
     "output_type": "stream",
     "text": [
      "2023-02-01 16:38:19,052\tWARNING tune.py:705 -- Stop signal received (e.g. via SIGINT/Ctrl+C), ending Ray Tune run. This will try to checkpoint the experiment state one last time. Press CTRL+C (or send SIGINT/SIGKILL/SIGTERM) to skip. \n",
      "2023-02-01 16:38:19,134\tERROR trial_runner.py:993 -- Trial tune_hp_mm_aaf87_00001: Error processing event.\n",
      "ray.exceptions.RayTaskError(NameError): \u001b[36mray::ImplicitFunc.train()\u001b[39m (pid=32248, ip=127.0.0.1, repr=func)\n",
      "  File \"python\\ray\\_raylet.pyx\", line 859, in ray._raylet.execute_task\n",
      "  File \"python\\ray\\_raylet.pyx\", line 863, in ray._raylet.execute_task\n",
      "  File \"python\\ray\\_raylet.pyx\", line 810, in ray._raylet.execute_task.function_executor\n",
      "  File \"C:\\ProgramData\\Anaconda3\\lib\\site-packages\\ray\\_private\\function_manager.py\", line 674, in actor_method_executor\n",
      "    return method(__ray_actor, *args, **kwargs)\n",
      "  File \"C:\\ProgramData\\Anaconda3\\lib\\site-packages\\ray\\util\\tracing\\tracing_helper.py\", line 466, in _resume_span\n",
      "    return method(self, *_args, **_kwargs)\n",
      "  File \"C:\\ProgramData\\Anaconda3\\lib\\site-packages\\ray\\tune\\trainable\\trainable.py\", line 355, in train\n",
      "    raise skipped from exception_cause(skipped)\n",
      "  File \"C:\\ProgramData\\Anaconda3\\lib\\site-packages\\ray\\tune\\trainable\\function_trainable.py\", line 325, in entrypoint\n",
      "    return self._trainable_func(\n",
      "  File \"C:\\ProgramData\\Anaconda3\\lib\\site-packages\\ray\\util\\tracing\\tracing_helper.py\", line 466, in _resume_span\n",
      "    return method(self, *_args, **_kwargs)\n",
      "  File \"C:\\ProgramData\\Anaconda3\\lib\\site-packages\\ray\\tune\\trainable\\function_trainable.py\", line 651, in _trainable_func\n",
      "    output = fn()\n",
      "  File \"<ipython-input-4-4ec46ddb3192>\", line 27, in tune_hp_mm\n",
      "NameError: name 'FusionModel' is not defined\n"
     ]
    },
    {
     "name": "stdout",
     "output_type": "stream",
     "text": [
      "== Status ==\n",
      "Current time: 2023-02-01 16:38:19 (running for 00:00:08.73)\n",
      "Memory usage on this node: 17.0/63.9 GiB \n",
      "Using FIFO scheduling algorithm.\n",
      "Resources requested: 0/16 CPUs, 0/1 GPUs, 0.0/29.02 GiB heap, 0.0/14.51 GiB objects\n",
      "Result logdir: C:\\Users\\MohammedSB\\ray_results\\tune_hp_mm_2023-02-01_16-38-10\n",
      "Number of trials: 6/6 (2 ERROR, 4 PENDING)\n",
      "+------------------------+----------+-----------------+--------+--------------+----------+--------------+------------+\n",
      "| Trial name             | status   | loc             |    alr |   batch_size | freeze   | model        | with_mlp   |\n",
      "|------------------------+----------+-----------------+--------+--------------+----------+--------------+------------|\n",
      "| tune_hp_mm_aaf87_00002 | PENDING  |                 | 0.0005 |           16 | True     | mobilenet_v2 | False      |\n",
      "| tune_hp_mm_aaf87_00003 | PENDING  |                 | 1e-05  |           16 | True     | mobilenet_v2 | False      |\n",
      "| tune_hp_mm_aaf87_00004 | PENDING  |                 | 5e-05  |           16 | True     | mobilenet_v2 | False      |\n",
      "| tune_hp_mm_aaf87_00005 | PENDING  |                 | 1e-06  |           16 | True     | mobilenet_v2 | False      |\n",
      "| tune_hp_mm_aaf87_00000 | ERROR    | 127.0.0.1:20572 | 0.005  |           16 | True     | mobilenet_v2 | False      |\n",
      "| tune_hp_mm_aaf87_00001 | ERROR    | 127.0.0.1:32248 | 0.0001 |           16 | True     | mobilenet_v2 | False      |\n",
      "+------------------------+----------+-----------------+--------+--------------+----------+--------------+------------+\n",
      "Number of errored trials: 2\n",
      "+------------------------+--------------+----------------------------------------------------------------------------------------------------------------------------------------------------------------------------------------------+\n",
      "| Trial name             |   # failures | error file                                                                                                                                                                                   |\n",
      "|------------------------+--------------+----------------------------------------------------------------------------------------------------------------------------------------------------------------------------------------------|\n",
      "| tune_hp_mm_aaf87_00000 |            1 | C:\\Users\\MohammedSB\\ray_results\\tune_hp_mm_2023-02-01_16-38-10\\tune_hp_mm_aaf87_00000_0_alr=0.0050,batch_size=16,freeze=True,model=mobilenet_v2,with_mlp=False_2023-02-01_16-38-10\\error.txt |\n",
      "| tune_hp_mm_aaf87_00001 |            1 | C:\\Users\\MohammedSB\\ray_results\\tune_hp_mm_2023-02-01_16-38-10\\tune_hp_mm_aaf87_00001_1_alr=0.0001,batch_size=16,freeze=True,model=mobilenet_v2,with_mlp=False_2023-02-01_16-38-15\\error.txt |\n",
      "+------------------------+--------------+----------------------------------------------------------------------------------------------------------------------------------------------------------------------------------------------+\n",
      "\n",
      "== Status ==\n",
      "Current time: 2023-02-01 16:38:19 (running for 00:00:08.79)\n",
      "Memory usage on this node: 17.0/63.9 GiB \n",
      "Using FIFO scheduling algorithm.\n",
      "Resources requested: 0/16 CPUs, 0/1 GPUs, 0.0/29.02 GiB heap, 0.0/14.51 GiB objects\n",
      "Result logdir: C:\\Users\\MohammedSB\\ray_results\\tune_hp_mm_2023-02-01_16-38-10\n",
      "Number of trials: 6/6 (2 ERROR, 4 PENDING)\n",
      "+------------------------+----------+-----------------+--------+--------------+----------+--------------+------------+\n",
      "| Trial name             | status   | loc             |    alr |   batch_size | freeze   | model        | with_mlp   |\n",
      "|------------------------+----------+-----------------+--------+--------------+----------+--------------+------------|\n",
      "| tune_hp_mm_aaf87_00002 | PENDING  |                 | 0.0005 |           16 | True     | mobilenet_v2 | False      |\n",
      "| tune_hp_mm_aaf87_00003 | PENDING  |                 | 1e-05  |           16 | True     | mobilenet_v2 | False      |\n",
      "| tune_hp_mm_aaf87_00004 | PENDING  |                 | 5e-05  |           16 | True     | mobilenet_v2 | False      |\n",
      "| tune_hp_mm_aaf87_00005 | PENDING  |                 | 1e-06  |           16 | True     | mobilenet_v2 | False      |\n",
      "| tune_hp_mm_aaf87_00000 | ERROR    | 127.0.0.1:20572 | 0.005  |           16 | True     | mobilenet_v2 | False      |\n",
      "| tune_hp_mm_aaf87_00001 | ERROR    | 127.0.0.1:32248 | 0.0001 |           16 | True     | mobilenet_v2 | False      |\n",
      "+------------------------+----------+-----------------+--------+--------------+----------+--------------+------------+\n",
      "Number of errored trials: 2\n",
      "+------------------------+--------------+----------------------------------------------------------------------------------------------------------------------------------------------------------------------------------------------+\n",
      "| Trial name             |   # failures | error file                                                                                                                                                                                   |\n",
      "|------------------------+--------------+----------------------------------------------------------------------------------------------------------------------------------------------------------------------------------------------|\n",
      "| tune_hp_mm_aaf87_00000 |            1 | C:\\Users\\MohammedSB\\ray_results\\tune_hp_mm_2023-02-01_16-38-10\\tune_hp_mm_aaf87_00000_0_alr=0.0050,batch_size=16,freeze=True,model=mobilenet_v2,with_mlp=False_2023-02-01_16-38-10\\error.txt |\n",
      "| tune_hp_mm_aaf87_00001 |            1 | C:\\Users\\MohammedSB\\ray_results\\tune_hp_mm_2023-02-01_16-38-10\\tune_hp_mm_aaf87_00001_1_alr=0.0001,batch_size=16,freeze=True,model=mobilenet_v2,with_mlp=False_2023-02-01_16-38-15\\error.txt |\n",
      "+------------------------+--------------+----------------------------------------------------------------------------------------------------------------------------------------------------------------------------------------------+\n",
      "\n"
     ]
    },
    {
     "name": "stderr",
     "output_type": "stream",
     "text": [
      "2023-02-01 16:38:19,437\tERROR tune.py:773 -- Trials did not complete: [tune_hp_mm_aaf87_00000, tune_hp_mm_aaf87_00001, tune_hp_mm_aaf87_00002, tune_hp_mm_aaf87_00003, tune_hp_mm_aaf87_00004, tune_hp_mm_aaf87_00005]\n",
      "2023-02-01 16:38:19,438\tINFO tune.py:777 -- Total run time: 9.07 seconds (8.73 seconds for the tuning loop).\n",
      "2023-02-01 16:38:19,438\tWARNING tune.py:783 -- Experiment has been interrupted, but the most recent state was saved. You can continue running this experiment by passing `resume=True` to `tune.run()`\n"
     ]
    }
   ],
   "source": [
    "result = tune.run(\n",
    "    partial(tune_hp_mm),\n",
    "    resources_per_trial={\"gpu\": 1},\n",
    "    config=config,\n",
    "    progress_reporter=reporter,\n",
    ")"
   ]
  },
  {
   "cell_type": "code",
   "execution_count": 62,
   "metadata": {},
   "outputs": [],
   "source": [
    "result.results_df.to_csv(\"mobilenetv2.csv\")"
   ]
  },
  {
   "cell_type": "code",
   "execution_count": 40,
   "metadata": {},
   "outputs": [],
   "source": [
    "train_loader, val_loader, test_loader = get_data(batch_size=4) "
   ]
  },
  {
   "cell_type": "code",
   "execution_count": 50,
   "metadata": {},
   "outputs": [
    {
     "name": "stderr",
     "output_type": "stream",
     "text": [
      "WARNING:matplotlib.image:Clipping input data to the valid range for imshow with RGB data ([0..1] for floats or [0..255] for integers).\n"
     ]
    },
    {
     "name": "stdout",
     "output_type": "stream",
     "text": [
      "torch.Size([3, 500, 500])\n"
     ]
    },
    {
     "data": {
      "text/plain": [
       "<matplotlib.image.AxesImage at 0x24a37633b20>"
      ]
     },
     "execution_count": 50,
     "metadata": {},
     "output_type": "execute_result"
    },
    {
     "data": {
      "image/png": "[encoded data removed]",
      "text/plain": [
       "<Figure size 432x288 with 1 Axes>"
      ]
     },
     "metadata": {
      "needs_background": "light"
     },
     "output_type": "display_data"
    }
   ],
   "source": [
    "tensor_image = val_loader.dataset[2][0]\n",
    "print(tensor_image.shape)\n",
    "tensor_image = tensor_image\n",
    "plt.imshow(  tensor_image.permute(1, 2, 0))"
   ]
  },
  {
   "cell_type": "code",
   "execution_count": null,
   "metadata": {},
   "outputs": [],
   "source": []
  }
 ],
 "metadata": {
  "kernelspec": {
   "display_name": "Python 3",
   "language": "python",
   "name": "python3"
  },
  "language_info": {
   "codemirror_mode": {
    "name": "ipython",
    "version": 3
   },
   "file_extension": ".py",
   "mimetype": "text/x-python",
   "name": "python",
   "nbconvert_exporter": "python",
   "pygments_lexer": "ipython3",
   "version": "3.8.5"
  }
 },
 "nbformat": 4,
 "nbformat_minor": 4
}
