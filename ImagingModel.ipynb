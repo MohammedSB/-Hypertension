{
 "cells": [
  {
   "cell_type": "code",
   "execution_count": 1,
   "metadata": {},
   "outputs": [],
   "source": [
    "%run C:/Users/MohammedSB/Desktop/projects/Hypertension/Requirements.ipynb"
   ]
  },
  {
   "cell_type": "code",
   "execution_count": 2,
   "metadata": {},
   "outputs": [],
   "source": [
    "# Seed\n",
    "set_seed(0)"
   ]
  },
  {
   "cell_type": "code",
   "execution_count": 3,
   "metadata": {},
   "outputs": [],
   "source": [
    "device = torch.device(\"cuda\" if torch.cuda.is_available() else \"cpu\")"
   ]
  },
  {
   "cell_type": "code",
   "execution_count": 4,
   "metadata": {},
   "outputs": [],
   "source": [
    "PATH = r\"D:\\\\MohammedSB\\Fundus\\\\\"\n",
    "CSV_PATH = {\"HTNPath\": PATH + r\"HTN\", \"NonHTNPath\": PATH + \"NonHTN\"}\n",
    "\n",
    "IMGMODELS_PATH = r\"C:\\Users\\MohammedSB\\Desktop\\projects\\Hypertension\\models\\\\\""
   ]
  },
  {
   "cell_type": "code",
   "execution_count": 5,
   "metadata": {},
   "outputs": [],
   "source": [
    "train_set, test_set = get_datasets()"
   ]
  },
  {
   "cell_type": "code",
   "execution_count": 6,
   "metadata": {},
   "outputs": [],
   "source": [
    "BATCH_SIZE = 8\n",
    "\n",
    "train_transform = T.Compose([\n",
    "    T.Resize((500, 500)),\n",
    "    T.ToTensor(),\n",
    "    T.RandomHorizontalFlip(0.5),\n",
    "    T.RandomRotation(degrees=(0, 360)),\n",
    "    T.GaussianBlur(5),\n",
    "    T.Normalize(mean=[0.3675, 0.1760, 0.1047], std=[0.2289, 0.1180, 0.0748]),\n",
    "])\n",
    "\n",
    "test_transform = T.Compose([\n",
    "    T.Resize((500, 500)),\n",
    "    T.ToTensor(),\n",
    "    T.Normalize(mean=[0.3675, 0.1760, 0.1047], std=[0.2289, 0.1180, 0.0748]),\n",
    "])\n",
    "\n",
    "train_dataset = HypertensionDataset(CSV_PATH, train_set, train_transform=train_transform)\n",
    "test_dataset = HypertensionDataset(CSV_PATH, test_set, test_transform=test_transform)\n",
    "\n",
    "train_loader, test_loader = train_test_loader(train_dataset, test_dataset, batch_size=BATCH_SIZE)\n",
    "\n",
    "# val_dataset = HypertensionDataset(CSV_PATH, val_set, test_transform=test_transform)\n",
    "# val_loader = DataLoader(val_dataset, batch_size=BATCH_SIZE)"
   ]
  },
  {
   "cell_type": "markdown",
   "metadata": {},
   "source": [
    "# Imaging Model"
   ]
  },
  {
   "cell_type": "code",
   "execution_count": 11,
   "metadata": {},
   "outputs": [],
   "source": [
    "model = get_densenet201(device=device, freeze=True, with_mlp=True)"
   ]
  },
  {
   "cell_type": "code",
   "execution_count": 12,
   "metadata": {},
   "outputs": [],
   "source": [
    "models = {\n",
    "    \"image_model\": model,\n",
    "    \"tabular_model\": None,\n",
    "    \"fusion_model\": None\n",
    "}\n",
    "\n",
    "early_stop = {\n",
    "    \"patience\": 5,\n",
    "    \"multip\": 5\n",
    "}\n",
    "\n",
    "epochs = 200\n",
    "optimizer = torch.optim.Adam(model.to(device).parameters(), lr=1e-4)\n",
    "criterion = nn.BCEWithLogitsLoss()"
   ]
  },
  {
   "cell_type": "code",
   "execution_count": 13,
   "metadata": {
    "scrolled": true
   },
   "outputs": [
    {
     "name": "stderr",
     "output_type": "stream",
     "text": [
      "\r",
      "Batch in Progress:   0%|                                                    | 0/115 [00:00<?, ?it/s]"
     ]
    },
    {
     "name": "stdout",
     "output_type": "stream",
     "text": [
      "Beginning Training: \n",
      "\n",
      "Epoch 1/200\n"
     ]
    },
    {
     "name": "stderr",
     "output_type": "stream",
     "text": [
      "Batch in Progress: 100%|██████████████████████████████████████████| 115/115 [00:56<00:00,  2.05it/s]\n",
      "Batch in Progress:   0%|                                                     | 0/29 [00:00<?, ?it/s]"
     ]
    },
    {
     "name": "stdout",
     "output_type": "stream",
     "text": [
      "Train Set:\n",
      "    Average Loss:  0.687648,    Accuracy: 55.19%,    Correct Counter: 505/915,    F1 Score: 0.46,    Precision: 0.55,    Recall:  0.40 \n",
      "\n"
     ]
    },
    {
     "name": "stderr",
     "output_type": "stream",
     "text": [
      "Batch in Progress: 100%|████████████████████████████████████████████| 29/29 [00:08<00:00,  3.58it/s]\n",
      "Batch in Progress:   0%|                                                    | 0/115 [00:00<?, ?it/s]"
     ]
    },
    {
     "name": "stdout",
     "output_type": "stream",
     "text": [
      "Validation Set:\n",
      "    Average Loss:  0.663745,    Accuracy: 65.79%,    Correct Counter: 150/228,    F1 Score: 0.70,    Precision: 0.62,    Recall:  0.82 \n",
      "\n",
      "Epoch 2/200\n"
     ]
    },
    {
     "name": "stderr",
     "output_type": "stream",
     "text": [
      "Batch in Progress: 100%|██████████████████████████████████████████| 115/115 [00:51<00:00,  2.22it/s]\n",
      "Batch in Progress:   0%|                                                     | 0/29 [00:00<?, ?it/s]"
     ]
    },
    {
     "name": "stdout",
     "output_type": "stream",
     "text": [
      "Train Set:\n",
      "    Average Loss:  0.659223,    Accuracy: 62.51%,    Correct Counter: 572/915,    F1 Score: 0.58,    Precision: 0.63,    Recall:  0.54 \n",
      "\n"
     ]
    },
    {
     "name": "stderr",
     "output_type": "stream",
     "text": [
      "Batch in Progress: 100%|████████████████████████████████████████████| 29/29 [00:07<00:00,  3.98it/s]\n",
      "Batch in Progress:   0%|                                                    | 0/115 [00:00<?, ?it/s]"
     ]
    },
    {
     "name": "stdout",
     "output_type": "stream",
     "text": [
      "Validation Set:\n",
      "    Average Loss:  0.636208,    Accuracy: 64.47%,    Correct Counter: 147/228,    F1 Score: 0.70,    Precision: 0.60,    Recall:  0.82 \n",
      "\n",
      "Epoch 3/200\n"
     ]
    },
    {
     "name": "stderr",
     "output_type": "stream",
     "text": [
      "Batch in Progress: 100%|██████████████████████████████████████████| 115/115 [00:51<00:00,  2.21it/s]\n",
      "Batch in Progress:   0%|                                                     | 0/29 [00:00<?, ?it/s]"
     ]
    },
    {
     "name": "stdout",
     "output_type": "stream",
     "text": [
      "Train Set:\n",
      "    Average Loss:  0.641751,    Accuracy: 62.40%,    Correct Counter: 571/915,    F1 Score: 0.60,    Precision: 0.62,    Recall:  0.57 \n",
      "\n"
     ]
    },
    {
     "name": "stderr",
     "output_type": "stream",
     "text": [
      "Batch in Progress: 100%|████████████████████████████████████████████| 29/29 [00:07<00:00,  3.99it/s]\n",
      "Batch in Progress:   0%|                                                    | 0/115 [00:00<?, ?it/s]"
     ]
    },
    {
     "name": "stdout",
     "output_type": "stream",
     "text": [
      "Validation Set:\n",
      "    Average Loss:  0.629114,    Accuracy: 60.96%,    Correct Counter: 139/228,    F1 Score: 0.67,    Precision: 0.57,    Recall:  0.81 \n",
      "\n",
      "Epoch 4/200\n"
     ]
    },
    {
     "name": "stderr",
     "output_type": "stream",
     "text": [
      "Batch in Progress: 100%|██████████████████████████████████████████| 115/115 [00:52<00:00,  2.21it/s]\n",
      "Batch in Progress:   0%|                                                     | 0/29 [00:00<?, ?it/s]"
     ]
    },
    {
     "name": "stdout",
     "output_type": "stream",
     "text": [
      "Train Set:\n",
      "    Average Loss:  0.621065,    Accuracy: 62.51%,    Correct Counter: 572/915,    F1 Score: 0.62,    Precision: 0.61,    Recall:  0.62 \n",
      "\n"
     ]
    },
    {
     "name": "stderr",
     "output_type": "stream",
     "text": [
      "Batch in Progress: 100%|████████████████████████████████████████████| 29/29 [00:07<00:00,  3.98it/s]\n",
      "Batch in Progress:   0%|                                                    | 0/115 [00:00<?, ?it/s]"
     ]
    },
    {
     "name": "stdout",
     "output_type": "stream",
     "text": [
      "Validation Set:\n",
      "    Average Loss:  0.617237,    Accuracy: 64.47%,    Correct Counter: 147/228,    F1 Score: 0.70,    Precision: 0.60,    Recall:  0.83 \n",
      "\n",
      "Epoch 5/200\n"
     ]
    },
    {
     "name": "stderr",
     "output_type": "stream",
     "text": [
      "Batch in Progress: 100%|██████████████████████████████████████████| 115/115 [00:51<00:00,  2.22it/s]\n",
      "Batch in Progress:   0%|                                                     | 0/29 [00:00<?, ?it/s]"
     ]
    },
    {
     "name": "stdout",
     "output_type": "stream",
     "text": [
      "Train Set:\n",
      "    Average Loss:  0.618152,    Accuracy: 62.84%,    Correct Counter: 575/915,    F1 Score: 0.64,    Precision: 0.61,    Recall:  0.67 \n",
      "\n"
     ]
    },
    {
     "name": "stderr",
     "output_type": "stream",
     "text": [
      "Batch in Progress: 100%|████████████████████████████████████████████| 29/29 [00:07<00:00,  4.00it/s]\n",
      "Batch in Progress:   0%|                                                    | 0/115 [00:00<?, ?it/s]"
     ]
    },
    {
     "name": "stdout",
     "output_type": "stream",
     "text": [
      "Validation Set:\n",
      "    Average Loss:  0.618010,    Accuracy: 64.04%,    Correct Counter: 146/228,    F1 Score: 0.71,    Precision: 0.59,    Recall:  0.89 \n",
      "\n",
      "Epoch 6/200\n"
     ]
    },
    {
     "name": "stderr",
     "output_type": "stream",
     "text": [
      "Batch in Progress: 100%|██████████████████████████████████████████| 115/115 [00:51<00:00,  2.22it/s]\n",
      "Batch in Progress:   0%|                                                     | 0/29 [00:00<?, ?it/s]"
     ]
    },
    {
     "name": "stdout",
     "output_type": "stream",
     "text": [
      "Train Set:\n",
      "    Average Loss:  0.619988,    Accuracy: 64.26%,    Correct Counter: 588/915,    F1 Score: 0.65,    Precision: 0.62,    Recall:  0.68 \n",
      "\n"
     ]
    },
    {
     "name": "stderr",
     "output_type": "stream",
     "text": [
      "Batch in Progress: 100%|████████████████████████████████████████████| 29/29 [00:07<00:00,  3.86it/s]\n",
      "Batch in Progress:   0%|                                                    | 0/115 [00:00<?, ?it/s]"
     ]
    },
    {
     "name": "stdout",
     "output_type": "stream",
     "text": [
      "Validation Set:\n",
      "    Average Loss:  0.616585,    Accuracy: 64.47%,    Correct Counter: 147/228,    F1 Score: 0.72,    Precision: 0.59,    Recall:  0.90 \n",
      "\n",
      "Epoch 7/200\n"
     ]
    },
    {
     "name": "stderr",
     "output_type": "stream",
     "text": [
      "Batch in Progress: 100%|██████████████████████████████████████████| 115/115 [00:52<00:00,  2.18it/s]\n",
      "Batch in Progress:   0%|                                                     | 0/29 [00:00<?, ?it/s]"
     ]
    },
    {
     "name": "stdout",
     "output_type": "stream",
     "text": [
      "Train Set:\n",
      "    Average Loss:  0.599267,    Accuracy: 65.25%,    Correct Counter: 597/915,    F1 Score: 0.66,    Precision: 0.63,    Recall:  0.70 \n",
      "\n"
     ]
    },
    {
     "name": "stderr",
     "output_type": "stream",
     "text": [
      "Batch in Progress: 100%|████████████████████████████████████████████| 29/29 [00:07<00:00,  3.97it/s]\n",
      "Batch in Progress:   0%|                                                    | 0/115 [00:00<?, ?it/s]"
     ]
    },
    {
     "name": "stdout",
     "output_type": "stream",
     "text": [
      "Validation Set:\n",
      "    Average Loss:  0.611208,    Accuracy: 65.35%,    Correct Counter: 149/228,    F1 Score: 0.71,    Precision: 0.60,    Recall:  0.87 \n",
      "\n",
      "Epoch 8/200\n"
     ]
    },
    {
     "name": "stderr",
     "output_type": "stream",
     "text": [
      "Batch in Progress: 100%|██████████████████████████████████████████| 115/115 [00:52<00:00,  2.18it/s]\n",
      "Batch in Progress:   0%|                                                     | 0/29 [00:00<?, ?it/s]"
     ]
    },
    {
     "name": "stdout",
     "output_type": "stream",
     "text": [
      "Train Set:\n",
      "    Average Loss:  0.601401,    Accuracy: 67.32%,    Correct Counter: 616/915,    F1 Score: 0.68,    Precision: 0.64,    Recall:  0.73 \n",
      "\n"
     ]
    },
    {
     "name": "stderr",
     "output_type": "stream",
     "text": [
      "Batch in Progress: 100%|████████████████████████████████████████████| 29/29 [00:07<00:00,  3.94it/s]\n",
      "Batch in Progress:   0%|                                                    | 0/115 [00:00<?, ?it/s]"
     ]
    },
    {
     "name": "stdout",
     "output_type": "stream",
     "text": [
      "Validation Set:\n",
      "    Average Loss:  0.617337,    Accuracy: 64.04%,    Correct Counter: 146/228,    F1 Score: 0.71,    Precision: 0.59,    Recall:  0.90 \n",
      "\n",
      "Epoch 9/200\n"
     ]
    },
    {
     "name": "stderr",
     "output_type": "stream",
     "text": [
      "Batch in Progress: 100%|██████████████████████████████████████████| 115/115 [00:52<00:00,  2.19it/s]\n",
      "Batch in Progress:   0%|                                                     | 0/29 [00:00<?, ?it/s]"
     ]
    },
    {
     "name": "stdout",
     "output_type": "stream",
     "text": [
      "Train Set:\n",
      "    Average Loss:  0.611395,    Accuracy: 65.36%,    Correct Counter: 598/915,    F1 Score: 0.66,    Precision: 0.63,    Recall:  0.70 \n",
      "\n"
     ]
    },
    {
     "name": "stderr",
     "output_type": "stream",
     "text": [
      "Batch in Progress: 100%|████████████████████████████████████████████| 29/29 [00:07<00:00,  3.95it/s]\n",
      "Batch in Progress:   0%|                                                    | 0/115 [00:00<?, ?it/s]"
     ]
    },
    {
     "name": "stdout",
     "output_type": "stream",
     "text": [
      "Validation Set:\n",
      "    Average Loss:  0.619361,    Accuracy: 64.04%,    Correct Counter: 146/228,    F1 Score: 0.72,    Precision: 0.59,    Recall:  0.91 \n",
      "\n",
      "Epoch 10/200\n"
     ]
    },
    {
     "name": "stderr",
     "output_type": "stream",
     "text": [
      "Batch in Progress: 100%|██████████████████████████████████████████| 115/115 [00:52<00:00,  2.20it/s]\n",
      "Batch in Progress:   0%|                                                     | 0/29 [00:00<?, ?it/s]"
     ]
    },
    {
     "name": "stdout",
     "output_type": "stream",
     "text": [
      "Train Set:\n",
      "    Average Loss:  0.592042,    Accuracy: 65.90%,    Correct Counter: 603/915,    F1 Score: 0.67,    Precision: 0.63,    Recall:  0.72 \n",
      "\n"
     ]
    },
    {
     "name": "stderr",
     "output_type": "stream",
     "text": [
      "Batch in Progress: 100%|████████████████████████████████████████████| 29/29 [00:07<00:00,  3.92it/s]\n",
      "Batch in Progress:   0%|                                                    | 0/115 [00:00<?, ?it/s]"
     ]
    },
    {
     "name": "stdout",
     "output_type": "stream",
     "text": [
      "Validation Set:\n",
      "    Average Loss:  0.619594,    Accuracy: 64.91%,    Correct Counter: 148/228,    F1 Score: 0.72,    Precision: 0.59,    Recall:  0.92 \n",
      "\n",
      "Epoch 11/200\n"
     ]
    },
    {
     "name": "stderr",
     "output_type": "stream",
     "text": [
      "Batch in Progress: 100%|██████████████████████████████████████████| 115/115 [00:52<00:00,  2.19it/s]\n",
      "Batch in Progress:   0%|                                                     | 0/29 [00:00<?, ?it/s]"
     ]
    },
    {
     "name": "stdout",
     "output_type": "stream",
     "text": [
      "Train Set:\n",
      "    Average Loss:  0.585114,    Accuracy: 67.54%,    Correct Counter: 618/915,    F1 Score: 0.69,    Precision: 0.64,    Recall:  0.76 \n",
      "\n"
     ]
    },
    {
     "name": "stderr",
     "output_type": "stream",
     "text": [
      "Batch in Progress: 100%|████████████████████████████████████████████| 29/29 [00:07<00:00,  3.92it/s]\n",
      "Batch in Progress:   0%|                                                    | 0/115 [00:00<?, ?it/s]"
     ]
    },
    {
     "name": "stdout",
     "output_type": "stream",
     "text": [
      "Validation Set:\n",
      "    Average Loss:  0.614940,    Accuracy: 66.23%,    Correct Counter: 151/228,    F1 Score: 0.73,    Precision: 0.60,    Recall:  0.92 \n",
      "\n",
      "Epoch 12/200\n"
     ]
    },
    {
     "name": "stderr",
     "output_type": "stream",
     "text": [
      "Batch in Progress: 100%|██████████████████████████████████████████| 115/115 [00:53<00:00,  2.15it/s]\n",
      "Batch in Progress:   0%|                                                     | 0/29 [00:00<?, ?it/s]"
     ]
    },
    {
     "name": "stdout",
     "output_type": "stream",
     "text": [
      "Train Set:\n",
      "    Average Loss:  0.580880,    Accuracy: 67.32%,    Correct Counter: 616/915,    F1 Score: 0.69,    Precision: 0.64,    Recall:  0.75 \n",
      "\n"
     ]
    },
    {
     "name": "stderr",
     "output_type": "stream",
     "text": [
      "Batch in Progress: 100%|████████████████████████████████████████████| 29/29 [00:07<00:00,  3.78it/s]\n",
      "Batch in Progress:   0%|                                                    | 0/115 [00:00<?, ?it/s]"
     ]
    },
    {
     "name": "stdout",
     "output_type": "stream",
     "text": [
      "Validation Set:\n",
      "    Average Loss:  0.617640,    Accuracy: 66.67%,    Correct Counter: 152/228,    F1 Score: 0.73,    Precision: 0.61,    Recall:  0.93 \n",
      "\n",
      "Epoch 13/200\n"
     ]
    },
    {
     "name": "stderr",
     "output_type": "stream",
     "text": [
      "Batch in Progress: 100%|██████████████████████████████████████████| 115/115 [00:52<00:00,  2.21it/s]\n",
      "Batch in Progress:   0%|                                                     | 0/29 [00:00<?, ?it/s]"
     ]
    },
    {
     "name": "stdout",
     "output_type": "stream",
     "text": [
      "Train Set:\n",
      "    Average Loss:  0.593360,    Accuracy: 66.12%,    Correct Counter: 605/915,    F1 Score: 0.68,    Precision: 0.63,    Recall:  0.73 \n",
      "\n"
     ]
    },
    {
     "name": "stderr",
     "output_type": "stream",
     "text": [
      "Batch in Progress: 100%|████████████████████████████████████████████| 29/29 [00:07<00:00,  3.95it/s]\n",
      "Batch in Progress:   0%|                                                    | 0/115 [00:00<?, ?it/s]"
     ]
    },
    {
     "name": "stdout",
     "output_type": "stream",
     "text": [
      "Validation Set:\n",
      "    Average Loss:  0.607530,    Accuracy: 67.54%,    Correct Counter: 154/228,    F1 Score: 0.73,    Precision: 0.62,    Recall:  0.88 \n",
      "\n",
      "Epoch 14/200\n"
     ]
    },
    {
     "name": "stderr",
     "output_type": "stream",
     "text": [
      "Batch in Progress: 100%|██████████████████████████████████████████| 115/115 [00:52<00:00,  2.20it/s]\n",
      "Batch in Progress:   0%|                                                     | 0/29 [00:00<?, ?it/s]"
     ]
    },
    {
     "name": "stdout",
     "output_type": "stream",
     "text": [
      "Train Set:\n",
      "    Average Loss:  0.594944,    Accuracy: 64.81%,    Correct Counter: 593/915,    F1 Score: 0.67,    Precision: 0.61,    Recall:  0.74 \n",
      "\n"
     ]
    },
    {
     "name": "stderr",
     "output_type": "stream",
     "text": [
      "Batch in Progress: 100%|████████████████████████████████████████████| 29/29 [00:07<00:00,  3.92it/s]\n",
      "Batch in Progress:   0%|                                                    | 0/115 [00:00<?, ?it/s]"
     ]
    },
    {
     "name": "stdout",
     "output_type": "stream",
     "text": [
      "Validation Set:\n",
      "    Average Loss:  0.619832,    Accuracy: 64.91%,    Correct Counter: 148/228,    F1 Score: 0.73,    Precision: 0.59,    Recall:  0.94 \n",
      "\n",
      "Epoch 15/200\n"
     ]
    },
    {
     "name": "stderr",
     "output_type": "stream",
     "text": [
      "Batch in Progress: 100%|██████████████████████████████████████████| 115/115 [00:52<00:00,  2.20it/s]\n",
      "Batch in Progress:   0%|                                                     | 0/29 [00:00<?, ?it/s]"
     ]
    },
    {
     "name": "stdout",
     "output_type": "stream",
     "text": [
      "Train Set:\n",
      "    Average Loss:  0.578228,    Accuracy: 67.76%,    Correct Counter: 620/915,    F1 Score: 0.71,    Precision: 0.63,    Recall:  0.80 \n",
      "\n"
     ]
    },
    {
     "name": "stderr",
     "output_type": "stream",
     "text": [
      "Batch in Progress: 100%|████████████████████████████████████████████| 29/29 [00:07<00:00,  3.86it/s]\n",
      "Batch in Progress:   0%|                                                    | 0/115 [00:00<?, ?it/s]"
     ]
    },
    {
     "name": "stdout",
     "output_type": "stream",
     "text": [
      "Validation Set:\n",
      "    Average Loss:  0.609178,    Accuracy: 68.42%,    Correct Counter: 156/228,    F1 Score: 0.74,    Precision: 0.63,    Recall:  0.90 \n",
      "\n",
      "Epoch 16/200\n"
     ]
    },
    {
     "name": "stderr",
     "output_type": "stream",
     "text": [
      "Batch in Progress: 100%|██████████████████████████████████████████| 115/115 [00:53<00:00,  2.16it/s]\n",
      "Batch in Progress:   0%|                                                     | 0/29 [00:00<?, ?it/s]"
     ]
    },
    {
     "name": "stdout",
     "output_type": "stream",
     "text": [
      "Train Set:\n",
      "    Average Loss:  0.582944,    Accuracy: 67.65%,    Correct Counter: 619/915,    F1 Score: 0.70,    Precision: 0.64,    Recall:  0.78 \n",
      "\n"
     ]
    },
    {
     "name": "stderr",
     "output_type": "stream",
     "text": [
      "Batch in Progress: 100%|████████████████████████████████████████████| 29/29 [00:07<00:00,  3.99it/s]\n",
      "Batch in Progress:   0%|                                                    | 0/115 [00:00<?, ?it/s]"
     ]
    },
    {
     "name": "stdout",
     "output_type": "stream",
     "text": [
      "Validation Set:\n",
      "    Average Loss:  0.616002,    Accuracy: 65.35%,    Correct Counter: 149/228,    F1 Score: 0.72,    Precision: 0.60,    Recall:  0.92 \n",
      "\n",
      "Epoch 17/200\n"
     ]
    },
    {
     "name": "stderr",
     "output_type": "stream",
     "text": [
      "Batch in Progress: 100%|██████████████████████████████████████████| 115/115 [00:52<00:00,  2.20it/s]\n",
      "Batch in Progress:   0%|                                                     | 0/29 [00:00<?, ?it/s]"
     ]
    },
    {
     "name": "stdout",
     "output_type": "stream",
     "text": [
      "Train Set:\n",
      "    Average Loss:  0.581594,    Accuracy: 66.67%,    Correct Counter: 610/915,    F1 Score: 0.69,    Precision: 0.63,    Recall:  0.77 \n",
      "\n"
     ]
    },
    {
     "name": "stderr",
     "output_type": "stream",
     "text": [
      "Batch in Progress: 100%|████████████████████████████████████████████| 29/29 [00:07<00:00,  3.93it/s]\n",
      "Batch in Progress:   0%|                                                    | 0/115 [00:00<?, ?it/s]"
     ]
    },
    {
     "name": "stdout",
     "output_type": "stream",
     "text": [
      "Validation Set:\n",
      "    Average Loss:  0.607158,    Accuracy: 69.30%,    Correct Counter: 158/228,    F1 Score: 0.74,    Precision: 0.64,    Recall:  0.88 \n",
      "\n",
      "Epoch 18/200\n"
     ]
    },
    {
     "name": "stderr",
     "output_type": "stream",
     "text": [
      "Batch in Progress: 100%|██████████████████████████████████████████| 115/115 [00:52<00:00,  2.19it/s]\n",
      "Batch in Progress:   0%|                                                     | 0/29 [00:00<?, ?it/s]"
     ]
    },
    {
     "name": "stdout",
     "output_type": "stream",
     "text": [
      "Train Set:\n",
      "    Average Loss:  0.579529,    Accuracy: 67.54%,    Correct Counter: 618/915,    F1 Score: 0.70,    Precision: 0.64,    Recall:  0.77 \n",
      "\n"
     ]
    },
    {
     "name": "stderr",
     "output_type": "stream",
     "text": [
      "Batch in Progress: 100%|████████████████████████████████████████████| 29/29 [00:07<00:00,  3.87it/s]\n",
      "Batch in Progress:   0%|                                                    | 0/115 [00:00<?, ?it/s]"
     ]
    },
    {
     "name": "stdout",
     "output_type": "stream",
     "text": [
      "Validation Set:\n",
      "    Average Loss:  0.619300,    Accuracy: 66.23%,    Correct Counter: 151/228,    F1 Score: 0.73,    Precision: 0.61,    Recall:  0.90 \n",
      "\n",
      "Epoch 19/200\n"
     ]
    },
    {
     "name": "stderr",
     "output_type": "stream",
     "text": [
      "Batch in Progress: 100%|██████████████████████████████████████████| 115/115 [00:52<00:00,  2.19it/s]\n",
      "Batch in Progress:   0%|                                                     | 0/29 [00:00<?, ?it/s]"
     ]
    },
    {
     "name": "stdout",
     "output_type": "stream",
     "text": [
      "Train Set:\n",
      "    Average Loss:  0.584976,    Accuracy: 66.67%,    Correct Counter: 610/915,    F1 Score: 0.69,    Precision: 0.63,    Recall:  0.77 \n",
      "\n"
     ]
    },
    {
     "name": "stderr",
     "output_type": "stream",
     "text": [
      "Batch in Progress: 100%|████████████████████████████████████████████| 29/29 [00:07<00:00,  3.84it/s]\n",
      "Batch in Progress:   0%|                                                    | 0/115 [00:00<?, ?it/s]"
     ]
    },
    {
     "name": "stdout",
     "output_type": "stream",
     "text": [
      "Validation Set:\n",
      "    Average Loss:  0.614884,    Accuracy: 66.67%,    Correct Counter: 152/228,    F1 Score: 0.73,    Precision: 0.61,    Recall:  0.92 \n",
      "\n",
      "Epoch 20/200\n"
     ]
    },
    {
     "name": "stderr",
     "output_type": "stream",
     "text": [
      "Batch in Progress: 100%|██████████████████████████████████████████| 115/115 [00:52<00:00,  2.19it/s]\n",
      "Batch in Progress:   0%|                                                     | 0/29 [00:00<?, ?it/s]"
     ]
    },
    {
     "name": "stdout",
     "output_type": "stream",
     "text": [
      "Train Set:\n",
      "    Average Loss:  0.565233,    Accuracy: 69.84%,    Correct Counter: 639/915,    F1 Score: 0.72,    Precision: 0.65,    Recall:  0.81 \n",
      "\n"
     ]
    },
    {
     "name": "stderr",
     "output_type": "stream",
     "text": [
      "Batch in Progress: 100%|████████████████████████████████████████████| 29/29 [00:07<00:00,  3.93it/s]\n",
      "Batch in Progress:   0%|                                                    | 0/115 [00:00<?, ?it/s]"
     ]
    },
    {
     "name": "stdout",
     "output_type": "stream",
     "text": [
      "Validation Set:\n",
      "    Average Loss:  0.614936,    Accuracy: 68.42%,    Correct Counter: 156/228,    F1 Score: 0.74,    Precision: 0.62,    Recall:  0.91 \n",
      "\n",
      "Epoch 21/200\n"
     ]
    },
    {
     "name": "stderr",
     "output_type": "stream",
     "text": [
      "Batch in Progress: 100%|██████████████████████████████████████████| 115/115 [00:52<00:00,  2.20it/s]\n",
      "Batch in Progress:   0%|                                                     | 0/29 [00:00<?, ?it/s]"
     ]
    },
    {
     "name": "stdout",
     "output_type": "stream",
     "text": [
      "Train Set:\n",
      "    Average Loss:  0.563130,    Accuracy: 69.40%,    Correct Counter: 635/915,    F1 Score: 0.72,    Precision: 0.65,    Recall:  0.81 \n",
      "\n"
     ]
    },
    {
     "name": "stderr",
     "output_type": "stream",
     "text": [
      "Batch in Progress: 100%|████████████████████████████████████████████| 29/29 [00:07<00:00,  3.94it/s]\n",
      "Batch in Progress:   0%|                                                    | 0/115 [00:00<?, ?it/s]"
     ]
    },
    {
     "name": "stdout",
     "output_type": "stream",
     "text": [
      "Validation Set:\n",
      "    Average Loss:  0.612715,    Accuracy: 69.30%,    Correct Counter: 158/228,    F1 Score: 0.74,    Precision: 0.64,    Recall:  0.88 \n",
      "\n",
      "Epoch 22/200\n"
     ]
    },
    {
     "name": "stderr",
     "output_type": "stream",
     "text": [
      "Batch in Progress: 100%|██████████████████████████████████████████| 115/115 [00:52<00:00,  2.20it/s]\n",
      "Batch in Progress:   0%|                                                     | 0/29 [00:00<?, ?it/s]"
     ]
    },
    {
     "name": "stdout",
     "output_type": "stream",
     "text": [
      "Train Set:\n",
      "    Average Loss:  0.573848,    Accuracy: 68.63%,    Correct Counter: 628/915,    F1 Score: 0.71,    Precision: 0.65,    Recall:  0.79 \n",
      "\n"
     ]
    },
    {
     "name": "stderr",
     "output_type": "stream",
     "text": [
      "Batch in Progress: 100%|████████████████████████████████████████████| 29/29 [00:07<00:00,  3.94it/s]\n",
      "Batch in Progress:   0%|                                                    | 0/115 [00:00<?, ?it/s]"
     ]
    },
    {
     "name": "stdout",
     "output_type": "stream",
     "text": [
      "Validation Set:\n",
      "    Average Loss:  0.618657,    Accuracy: 64.91%,    Correct Counter: 148/228,    F1 Score: 0.72,    Precision: 0.59,    Recall:  0.92 \n",
      "\n",
      "Epoch 23/200\n"
     ]
    },
    {
     "name": "stderr",
     "output_type": "stream",
     "text": [
      "Batch in Progress: 100%|██████████████████████████████████████████| 115/115 [00:52<00:00,  2.20it/s]\n",
      "Batch in Progress:   0%|                                                     | 0/29 [00:00<?, ?it/s]"
     ]
    },
    {
     "name": "stdout",
     "output_type": "stream",
     "text": [
      "Train Set:\n",
      "    Average Loss:  0.565738,    Accuracy: 69.51%,    Correct Counter: 636/915,    F1 Score: 0.72,    Precision: 0.65,    Recall:  0.81 \n",
      "\n"
     ]
    },
    {
     "name": "stderr",
     "output_type": "stream",
     "text": [
      "Batch in Progress: 100%|████████████████████████████████████████████| 29/29 [00:07<00:00,  3.96it/s]\n",
      "Batch in Progress:   0%|                                                    | 0/115 [00:00<?, ?it/s]"
     ]
    },
    {
     "name": "stdout",
     "output_type": "stream",
     "text": [
      "Validation Set:\n",
      "    Average Loss:  0.618071,    Accuracy: 68.42%,    Correct Counter: 156/228,    F1 Score: 0.74,    Precision: 0.63,    Recall:  0.88 \n",
      "\n",
      "Epoch 24/200\n"
     ]
    },
    {
     "name": "stderr",
     "output_type": "stream",
     "text": [
      "Batch in Progress: 100%|██████████████████████████████████████████| 115/115 [00:52<00:00,  2.21it/s]\n",
      "Batch in Progress:   0%|                                                     | 0/29 [00:00<?, ?it/s]"
     ]
    },
    {
     "name": "stdout",
     "output_type": "stream",
     "text": [
      "Train Set:\n",
      "    Average Loss:  0.563571,    Accuracy: 67.32%,    Correct Counter: 616/915,    F1 Score: 0.70,    Precision: 0.63,    Recall:  0.77 \n",
      "\n"
     ]
    },
    {
     "name": "stderr",
     "output_type": "stream",
     "text": [
      "Batch in Progress: 100%|████████████████████████████████████████████| 29/29 [00:07<00:00,  3.95it/s]\n",
      "Batch in Progress:   0%|                                                    | 0/115 [00:00<?, ?it/s]"
     ]
    },
    {
     "name": "stdout",
     "output_type": "stream",
     "text": [
      "Validation Set:\n",
      "    Average Loss:  0.620188,    Accuracy: 65.79%,    Correct Counter: 150/228,    F1 Score: 0.72,    Precision: 0.60,    Recall:  0.90 \n",
      "\n",
      "Epoch 25/200\n"
     ]
    },
    {
     "name": "stderr",
     "output_type": "stream",
     "text": [
      "Batch in Progress: 100%|██████████████████████████████████████████| 115/115 [00:52<00:00,  2.19it/s]\n",
      "Batch in Progress:   0%|                                                     | 0/29 [00:00<?, ?it/s]"
     ]
    },
    {
     "name": "stdout",
     "output_type": "stream",
     "text": [
      "Train Set:\n",
      "    Average Loss:  0.565370,    Accuracy: 68.52%,    Correct Counter: 627/915,    F1 Score: 0.72,    Precision: 0.64,    Recall:  0.82 \n",
      "\n"
     ]
    },
    {
     "name": "stderr",
     "output_type": "stream",
     "text": [
      "Batch in Progress: 100%|████████████████████████████████████████████| 29/29 [00:07<00:00,  3.92it/s]"
     ]
    },
    {
     "name": "stdout",
     "output_type": "stream",
     "text": [
      "Validation Set:\n",
      "    Average Loss:  0.614125,    Accuracy: 67.11%,    Correct Counter: 153/228,    F1 Score: 0.73,    Precision: 0.61,    Recall:  0.92 \n",
      "\n"
     ]
    },
    {
     "name": "stderr",
     "output_type": "stream",
     "text": [
      "\n"
     ]
    }
   ],
   "source": [
    "metrics = train_val(epochs=epochs, models=models, criterion=criterion, optimizer=optimizer, train_loader=train_loader,\n",
    "                    val_loader=test_loader, device=device, early_stop=early_stop)"
   ]
  },
  {
   "cell_type": "code",
   "execution_count": 15,
   "metadata": {},
   "outputs": [
    {
     "name": "stderr",
     "output_type": "stream",
     "text": [
      "\r",
      "Batch in Progress:   0%|                                                     | 0/29 [00:00<?, ?it/s]"
     ]
    },
    {
     "name": "stdout",
     "output_type": "stream",
     "text": [
      "Testing: \n",
      "\n"
     ]
    },
    {
     "name": "stderr",
     "output_type": "stream",
     "text": [
      "Batch in Progress: 100%|████████████████████████████████████████████| 29/29 [00:07<00:00,  3.82it/s]"
     ]
    },
    {
     "name": "stdout",
     "output_type": "stream",
     "text": [
      "Test Set:\n",
      "    Average Loss:  0.614125,    Accuracy: 67.11%,    Correct Counter: 153/228,    F1 Score: 0.73,    Precision: 0.61,    Recall:  0.92 \n",
      "\n"
     ]
    },
    {
     "name": "stderr",
     "output_type": "stream",
     "text": [
      "\n"
     ]
    }
   ],
   "source": [
    "metrics_test = test(models=models, criterion=criterion, test_loader=test_loader, device=device)"
   ]
  },
  {
   "cell_type": "markdown",
   "metadata": {},
   "source": [
    "## Calculate AUC-ROC"
   ]
  },
  {
   "cell_type": "code",
   "execution_count": 16,
   "metadata": {},
   "outputs": [],
   "source": [
    "y_true = metrics_test[\"y_true\"].squeeze(1).numpy()\n",
    "y_prob = metrics_test[\"y_prob\"].squeeze(1).numpy()\n",
    "\n",
    "fpr, tpr, thresholds = roc_curve(y_true, y_prob)"
   ]
  },
  {
   "cell_type": "code",
   "execution_count": 17,
   "metadata": {},
   "outputs": [
    {
     "data": {
      "text/plain": [
       "[<matplotlib.lines.Line2D at 0x18f99d224c0>]"
      ]
     },
     "execution_count": 17,
     "metadata": {},
     "output_type": "execute_result"
    },
    {
     "data": {
      "image/png": "[encoded data removed]",
      "text/plain": [
       "<Figure size 432x288 with 1 Axes>"
      ]
     },
     "metadata": {
      "needs_background": "light"
     },
     "output_type": "display_data"
    }
   ],
   "source": [
    "plt.plot(fpr, tpr, label=\"AUC Curve\")"
   ]
  },
  {
   "cell_type": "code",
   "execution_count": 18,
   "metadata": {},
   "outputs": [],
   "source": [
    "score = auc(fpr, tpr)"
   ]
  },
  {
   "cell_type": "code",
   "execution_count": 19,
   "metadata": {},
   "outputs": [
    {
     "data": {
      "text/plain": [
       "0.7683724509426704"
      ]
     },
     "execution_count": 19,
     "metadata": {},
     "output_type": "execute_result"
    }
   ],
   "source": [
    "score"
   ]
  },
  {
   "cell_type": "code",
   "execution_count": null,
   "metadata": {},
   "outputs": [],
   "source": [
    "torch.save(model.state_dict(), IMGMODELS_PATH + 'desnenet201.pth')"
   ]
  }
 ],
 "metadata": {
  "kernelspec": {
   "display_name": "Python 3",
   "language": "python",
   "name": "python3"
  },
  "language_info": {
   "codemirror_mode": {
    "name": "ipython",
    "version": 3
   },
   "file_extension": ".py",
   "mimetype": "text/x-python",
   "name": "python",
   "nbconvert_exporter": "python",
   "pygments_lexer": "ipython3",
   "version": "3.8.5"
  }
 },
 "nbformat": 4,
 "nbformat_minor": 4
}
