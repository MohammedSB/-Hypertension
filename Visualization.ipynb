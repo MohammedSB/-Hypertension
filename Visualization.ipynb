{
 "cells": [
  {
   "cell_type": "code",
   "execution_count": null,
   "id": "f69c5b8b",
   "metadata": {},
   "outputs": [],
   "source": [
    "from Utils.Utils import *\n",
    "from Utils.Blacksmith import * \n",
    "\n",
    "from Utils.HyMNet import HyMNet\n",
    "from sklearn.svm import SVC\n",
    "from pytorch_grad_cam import GradCAM\n",
    "from pytorch_grad_cam.utils.model_targets import ClassifierOutputTarget\n",
    "from pytorch_grad_cam.utils.image import show_cam_on_image\n",
    "import matplotlib.pyplot as plt\n",
    "import numpy as np\n",
    "from PIL import Image\n",
    "\n",
    "import sklearn"
   ]
  },
  {
   "cell_type": "code",
   "execution_count": null,
   "id": "f2923f51",
   "metadata": {},
   "outputs": [],
   "source": [
    "def show_tensor(tensor):\n",
    "    \n",
    "    if torch.is_tensor(tensor):\n",
    "        # if the image tensor is on GPU, move it to CPU\n",
    "        tensor_image = tensor.cpu()\n",
    "\n",
    "        # convert the tensor to a numpy array\n",
    "        numpy_image = tensor_image.numpy()\n",
    "    else:\n",
    "        numpy_image = tensor\n",
    "\n",
    "    # if the image has 3 channels, transpose it from CHW to HWC format\n",
    "    if numpy_image.shape[0] == 3:\n",
    "        numpy_image = np.transpose(numpy_image, (1, 2, 0))\n",
    "\n",
    "    # display the image\n",
    "    plt.imshow(numpy_image.squeeze())\n",
    "    plt.show()"
   ]
  },
  {
   "cell_type": "code",
   "execution_count": null,
   "id": "00e93a6d",
   "metadata": {},
   "outputs": [],
   "source": [
    "# Seed\n",
    "set_seed(0)"
   ]
  },
  {
   "cell_type": "code",
   "execution_count": null,
   "id": "3b5e14fb",
   "metadata": {},
   "outputs": [],
   "source": [
    "device = torch.device(\"cuda:1\" if torch.cuda.is_available() else \"cpu\")"
   ]
  },
  {
   "cell_type": "code",
   "execution_count": null,
   "id": "370ba025",
   "metadata": {},
   "outputs": [],
   "source": [
    "PATH = \"/home/baharoon/HTN/data/\"\n",
    "CSV_PATH = {\"HTNPath\": PATH + r\"HTN\", \"NonHTNPath\": PATH + \"NonHTN\"}\n",
    "\n",
    "MODELS_PATH = \"/home/baharoon/HTN/Models\""
   ]
  },
  {
   "cell_type": "code",
   "execution_count": null,
   "id": "af423ed1",
   "metadata": {},
   "outputs": [],
   "source": [
    "image_names = os.listdir(CSV_PATH[\"HTNPath\"])\n",
    "image_paths = [CSV_PATH[\"HTNPath\"] + \"/\" + path for path in image_names]"
   ]
  },
  {
   "cell_type": "code",
   "execution_count": null,
   "id": "96ef24a8",
   "metadata": {},
   "outputs": [],
   "source": [
    "BATCH_SIZE = 1\n",
    "epochs = 50\n",
    "\n",
    "image_size = 586\n",
    "crop_size = 512\n",
    "\n",
    "test_transform = T.Compose([\n",
    "    T.Resize((image_size, image_size)),\n",
    "    T.CenterCrop(crop_size),\n",
    "    T.ToTensor(),\n",
    "    T.Normalize(mean=[0.485, 0.456, 0.406], std=[0.229, 0.224, 0.225]),\n",
    "])\n",
    "\n",
    "resize_transform = T.Compose([\n",
    "    T.Resize((image_size, image_size)),\n",
    "    T.CenterCrop(crop_size),\n",
    "    T.ToTensor(),\n",
    "])\n",
    "\n",
    "test_dataset = HypertensionDataset(CSV_PATH, split=\"test\", test_transform=test_transform)"
   ]
  },
  {
   "cell_type": "code",
   "execution_count": null,
   "id": "3e10cfe0",
   "metadata": {},
   "outputs": [],
   "source": [
    "FM_PATH = MODELS_PATH + r\"/FundusModel.pth\"\n",
    "DM_PATH = MODELS_PATH + r\"/DemographicFCNN.pth\""
   ]
  },
  {
   "cell_type": "markdown",
   "id": "64c9aa8c",
   "metadata": {},
   "source": [
    "# Gradcam"
   ]
  },
  {
   "cell_type": "code",
   "execution_count": null,
   "id": "2f2e9b0f",
   "metadata": {},
   "outputs": [],
   "source": [
    "state_dict = torch.load(FM_PATH)\n",
    "state_dict = {key.replace(\"module.\", \"\"): value for key, value in state_dict.items()}\n",
    "\n",
    "image_model = get_retfound(\"/home/baharoon/HTN/RETFound_cfp_weights.pth\", image_size=512, global_pool=True)\n",
    "# image_model.head = torch.nn.Identity()\n",
    "\n",
    "model = HyMNet(image_model=image_model).to(device)\n",
    "model.load_state_dict(state_dict, strict=False)"
   ]
  },
  {
   "cell_type": "code",
   "execution_count": null,
   "id": "666236b1",
   "metadata": {},
   "outputs": [],
   "source": [
    "images = image_paths[:5]\n",
    "images = [Image.open(image) for image in images]\n",
    "torch_images = [test_transform(image) for image in images]\n",
    "torch_images = torch.stack(torch_images).cuda()\n",
    "images = [resize_transform(image) for image in images]"
   ]
  },
  {
   "cell_type": "code",
   "execution_count": null,
   "id": "39bddadd",
   "metadata": {},
   "outputs": [],
   "source": [
    "def reshape_transform(tensor, height=32, width=32):\n",
    "    result = tensor[:, 1:, :].reshape(tensor.size(0), height, width, tensor.size(2))\n",
    "\n",
    "    # Bring the channels to the first dimension, like in CNNs.\n",
    "    result = result.transpose(2, 3).transpose(1, 2)\n",
    "    return result\n",
    "\n",
    "target_layers = [model.image_model.blocks[-1].norm1]\n",
    "cam = GradCAM(model=model, target_layers=target_layers, reshape_transform=reshape_transform, use_cuda=True)\n",
    "\n",
    "threshold = 0.25\n",
    "\n",
    "# Use Grad-CAM to get the activation map\n",
    "cam_data = cam(input_tensor=torch_images, aug_smooth=True)\n",
    "cam_data[cam_data < threshold] = 0"
   ]
  },
  {
   "cell_type": "code",
   "execution_count": null,
   "id": "0cbe273e",
   "metadata": {},
   "outputs": [],
   "source": [
    "for i in range(5):\n",
    "    name = image_names[i].split(\".\")[0]\n",
    "    grayscale_cam = (cam_data[i, :] * 255).astype(np.uint8)\n",
    "    rgb_img = images[i].numpy()\n",
    "    rgb_img_reshaped = np.transpose(rgb_img, (1, 2, 0))\n",
    "    visualization = show_cam_on_image(rgb_img_reshaped, grayscale_cam, use_rgb=True)\n",
    "\n",
    "    img = Image.fromarray(visualization)\n",
    "    img.save(f'{name}_grayscale_cam.png')\n",
    "    \n",
    "    img = Image.fromarray( (255 * rgb_img_reshaped).astype('uint8'))\n",
    "    img.save(f'{name}.png')"
   ]
  },
  {
   "cell_type": "code",
   "execution_count": null,
   "id": "f317bdd1",
   "metadata": {},
   "outputs": [],
   "source": [
    "import seaborn as sns\n",
    "\n",
    "def drawF1box(systems, colors):\n",
    "    systems_f1s = {}\n",
    "    for system in systems:\n",
    "        f = open(os.getcwd() + '/Results/' + system + \"preds\" + \".json\")\n",
    "        data_json = json.load(f)\n",
    "        trues, probs = data_json['true'], data_json['prob']\n",
    "        \n",
    "        f1_scores = []\n",
    "        N = len(data_json['true'])\n",
    "        \n",
    "        system = \"RETFound\" if system == \"FundusModel\" else system\n",
    "        system = \"HyMNet\" if system == \"JointFusion\" else system\n",
    "        \n",
    "        for i in range(N):\n",
    "            preds = [1 if prob >= 0.5 else 0 for prob in probs[i]]\n",
    "            f1_scores.append(sklearn.metrics.f1_score(trues[i], preds))\n",
    "        systems_f1s[system] = f1_scores\n",
    "    \n",
    "    df = pd.DataFrame(systems_f1s)\n",
    "    \n",
    "    # Create a box plot\n",
    "    plt.figure(figsize=(10, 6))\n",
    "    sns.boxplot(data=df)\n",
    "    plt.title('Bootstrapped F1 Scores')\n",
    "    plt.ylabel('F1 Score')\n",
    "    plt.show()"
   ]
  },
  {
   "cell_type": "code",
   "execution_count": null,
   "id": "db001dc0",
   "metadata": {},
   "outputs": [],
   "source": [
    "systems = ['JointFusion', 'FundusModel', 'DemographicFCNN']\n",
    "colors = {'JointFusion':'#EA4335', 'RETFound':'#4285F4', 'DemographicFCNN':'#34A853'}"
   ]
  },
  {
   "cell_type": "code",
   "execution_count": null,
   "id": "56ab670a",
   "metadata": {},
   "outputs": [],
   "source": [
    "drawF1box(systems, colors)"
   ]
  },
  {
   "cell_type": "code",
   "execution_count": null,
   "id": "ae93040e",
   "metadata": {},
   "outputs": [],
   "source": [
    "def drawROCs(systems, colors):\n",
    "    plt.title('Receiver Operating Characteristic (ROC)')\n",
    "    for system in systems:\n",
    "        f = open(os.getcwd() + '/Results/' + system + \"preds\" + \".json\")\n",
    "        data_json = json.load(f)\n",
    "        trues, probs = data_json['true'], data_json['prob']\n",
    "        \n",
    "        auc_scores = []\n",
    "        N = len(data_json['true'])\n",
    "        \n",
    "        for i in range(N):\n",
    "            fpr, tpr, _ = roc_curve(trues[i], probs[i])\n",
    "            auc_scores.append(auc(fpr, tpr))\n",
    "                    \n",
    "        lower = np.percentile(auc_scores, 2.5, method='nearest')\n",
    "        upper = np.percentile(auc_scores, 97.5, method='nearest')\n",
    "        median = np.percentile(auc_scores, 50, method='nearest')\n",
    "\n",
    "        lower_index = auc_scores.index(lower)\n",
    "        upper_index = auc_scores.index(upper)\n",
    "        median_index = auc_scores.index(median)\n",
    "        \n",
    "        system = \"RETFound\" if system == \"FundusModel\" else system\n",
    "        system = \"HyMNet\" if system == \"JointFusion\" else system\n",
    "\n",
    "        trues_lower, probs_lower = trues[lower_index], probs[lower_index]\n",
    "        trues_upper, probs_upper = trues[upper_index], probs[upper_index]\n",
    "            \n",
    "        fpr_lower, tpr_lower, threshold = roc_curve(trues_lower, probs_lower)\n",
    "        cl = plt.plot(fpr_lower, tpr_lower, color=colors[system], alpha=0.25)   \n",
    "        x = cl[0].get_xdata()\n",
    "        \n",
    "        fpr_upper, tpr_upper, threshold = roc_curve(trues_upper, probs_upper)\n",
    "        cu = plt.plot(fpr_upper, tpr_upper, color=colors[system], alpha=0.25)   \n",
    "            \n",
    "        fpr_median, tpr_median, _ = roc_curve(trues[median_index], probs[median_index]) \n",
    "        auc_median = round(auc(fpr_median, tpr_median), 3)\n",
    "        cm = plt.plot(fpr_median, tpr_median, label=f\"Median {system} AUC: {auc_median}\", color=colors[system])\n",
    "\n",
    "        plt.fill(\n",
    "            np.append(cu[0].get_xdata(), cl[0].get_xdata()[::-1]),\n",
    "            np.append(cu[0].get_ydata(), cl[0].get_ydata()[::-1]),\n",
    "            alpha=0.25\n",
    "        )\n",
    "        \n",
    "    plt.legend(loc = 'lower right')\n",
    "    plt.xlim([0, 1])\n",
    "    plt.ylim([0, 1])\n",
    "    plt.ylabel('True Positive Rate')\n",
    "    plt.xlabel('False Positive Rate')\n",
    "    plt.show()"
   ]
  },
  {
   "cell_type": "code",
   "execution_count": null,
   "id": "fe5c80de",
   "metadata": {},
   "outputs": [],
   "source": [
    "def drawPRs(systems, colors):\n",
    "    plt.title('Precision-Recall Curve (PR)')\n",
    "    for system in systems:\n",
    "        f = open(os.getcwd() + '/Results/' + system + \"preds\" + \".json\")\n",
    "        data_json = json.load(f)\n",
    "        trues, probs = data_json['true'], data_json['prob']\n",
    "        \n",
    "        auc_scores = []\n",
    "        N = len(data_json['true'])\n",
    "        \n",
    "        for i in range(N):\n",
    "            precision, recall, _ = precision_recall_curve(trues[i], probs[i])\n",
    "            auc_scores.append(auc(recall, precision))\n",
    "               \n",
    "        lower = np.percentile(auc_scores, 2.5, method='nearest')\n",
    "        upper = np.percentile(auc_scores, 97.5, method='nearest')\n",
    "        median = np.percentile(auc_scores, 50, method='nearest')\n",
    "\n",
    "        lower_index = auc_scores.index(lower)\n",
    "        upper_index = auc_scores.index(upper)\n",
    "        median_index = auc_scores.index(median)\n",
    "        \n",
    "        system = \"RETFound\" if system == \"FundusModel\" else system\n",
    "        system = \"HyMNet\" if system == \"JointFusion\" else system\n",
    "\n",
    "        trues_lower, probs_lower = trues[lower_index], probs[lower_index]\n",
    "        trues_upper, probs_upper = trues[upper_index], probs[upper_index]\n",
    "            \n",
    "        precision, recall, _ = precision_recall_curve(trues_lower, probs_lower)\n",
    "        cl = plt.plot(recall, precision, color=colors[system], alpha=0.25)   \n",
    "        x = cl[0].get_xdata()\n",
    "        \n",
    "        precision, recall, _ = precision_recall_curve(trues_upper, probs_upper)\n",
    "        cu = plt.plot(recall, precision, color=colors[system], alpha=0.25)   \n",
    "            \n",
    "        precision, recall, _= precision_recall_curve(trues[median_index], probs[median_index]) \n",
    "        auc_median = round(auc(recall, precision), 3)\n",
    "        cm = plt.plot(recall, precision, label=f\"Median {system} AUC: {auc_median}\", color=colors[system])\n",
    "\n",
    "        plt.fill(\n",
    "            np.append(cu[0].get_xdata(), cl[0].get_xdata()[::-1]),\n",
    "            np.append(cu[0].get_ydata(), cl[0].get_ydata()[::-1]),\n",
    "            alpha=0.25\n",
    "        )\n",
    "        \n",
    "    plt.legend(loc = 'lower right')\n",
    "    plt.xlim([0, 1])\n",
    "    plt.ylim([0, 1])\n",
    "    plt.ylabel('Precision')\n",
    "    plt.xlabel('Recall')\n",
    "    plt.show()"
   ]
  },
  {
   "cell_type": "code",
   "execution_count": null,
   "id": "99ee89c8",
   "metadata": {},
   "outputs": [],
   "source": [
    "systems = ['JointFusion', 'FundusModel', 'DemographicFCNN']\n",
    "colors = {'HyMNet':'#EA4335', 'RETFound':'#4285F4', 'DemographicFCNN':'#34A853'}"
   ]
  },
  {
   "cell_type": "code",
   "execution_count": null,
   "id": "8d398160",
   "metadata": {},
   "outputs": [],
   "source": [
    "drawPRs(systems, colors)"
   ]
  },
  {
   "cell_type": "code",
   "execution_count": null,
   "id": "127be2c9",
   "metadata": {},
   "outputs": [],
   "source": [
    "drawROCs(systems, colors)"
   ]
  },
  {
   "cell_type": "code",
   "execution_count": null,
   "id": "f44ff974",
   "metadata": {},
   "outputs": [],
   "source": [
    "systems = ['FeatureFusion', 'LateFusionFCNN', \"VotingFusionFCNN\"]\n",
    "colors = {'FeatureFusion':'#4285F4', 'LateFusionFCNN':'#DB4437',\n",
    "          \"VotingFusionFCNN\":\"#0F9D58\"}"
   ]
  },
  {
   "cell_type": "code",
   "execution_count": null,
   "id": "3cb7791a",
   "metadata": {},
   "outputs": [],
   "source": [
    "drawROCs(systems, colors)"
   ]
  },
  {
   "cell_type": "code",
   "execution_count": null,
   "id": "9d0b925b",
   "metadata": {},
   "outputs": [],
   "source": [
    "drawPRs(systems, colors)"
   ]
  },
  {
   "cell_type": "code",
   "execution_count": null,
   "id": "63ea6f9a",
   "metadata": {},
   "outputs": [],
   "source": []
  }
 ],
 "metadata": {
  "kernelspec": {
   "display_name": "Python 3 (ipykernel)",
   "language": "python",
   "name": "python3"
  },
  "language_info": {
   "codemirror_mode": {
    "name": "ipython",
    "version": 3
   },
   "file_extension": ".py",
   "mimetype": "text/x-python",
   "name": "python",
   "nbconvert_exporter": "python",
   "pygments_lexer": "ipython3",
   "version": "3.10.12"
  }
 },
 "nbformat": 4,
 "nbformat_minor": 5
}
