{
 "cells": [
  {
   "cell_type": "code",
   "execution_count": 93,
   "metadata": {},
   "outputs": [],
   "source": [
    "%run C:/Users/MohammedSB/Desktop/projects/Hypertension/Requirements.ipynb"
   ]
  },
  {
   "cell_type": "code",
   "execution_count": 94,
   "metadata": {},
   "outputs": [],
   "source": [
    "from collections import Counter"
   ]
  },
  {
   "cell_type": "code",
   "execution_count": 7,
   "metadata": {},
   "outputs": [],
   "source": [
    "PATH = r\"D:\\\\MohammedSB\\\\Fundus\\\\\"\n",
    "CSV_PATH = {\"HTNPath\": PATH + r\"HTN\", \"NonHTNPath\": PATH + \"NonHTN\"}\n",
    "\n",
    "MODELS_PATH = r\"C:\\Users\\MohammedSB\\Desktop\\projects\\Hypertension\\models\\\\\""
   ]
  },
  {
   "cell_type": "code",
   "execution_count": 96,
   "metadata": {},
   "outputs": [],
   "source": [
    "htn = pd.read_excel(CSV_PATH[\"HTNPath\"] + r\"\\HTN_Age_Gender.xlsx\")\n",
    "htn[\"Hypertension\"] = 1\n",
    "\n",
    "# Clean Hypertension\n",
    "htn.columns = htn.columns.str.strip()\n",
    "htn[\"Eye\"] = htn[\"Eye\"].str.strip()\n",
    "\n",
    "# Add \"File Path\" column\n",
    "htn[\"Image Path\"] = None\n",
    "addFilePath(htn, os.listdir(CSV_PATH[\"HTNPath\"]))\n",
    "\n",
    "# non-Hypertension\n",
    "non_htn = pd.read_excel(CSV_PATH[\"NonHTNPath\"] + r\"\\\\NonHTN_Age_Gender.xlsx\")\n",
    "non_htn[\"Hypertension\"] = 0\n",
    "\n",
    "# Clean non-Hypertension\n",
    "non_htn.columns = non_htn.columns.str.strip()\n",
    "non_htn[\"Eye\"] = non_htn[\"Eye\"].str.strip()\n",
    "\n",
    "# Add \"Image Path\" column\n",
    "non_htn[\"Image Path\"] = None\n",
    "addFilePath(non_htn, os.listdir(CSV_PATH[\"NonHTNPath\"]))\n",
    "\n",
    "# Add the two df's\n",
    "df = pd.concat([htn, non_htn]) \n",
    "\n",
    "# Clean again\n",
    "df = df.dropna()\n",
    "df[\"Gender\"] = df[\"Gender\"].str.strip()\n",
    "df.reset_index(inplace=True, drop=True)"
   ]
  },
  {
   "cell_type": "code",
   "execution_count": 97,
   "metadata": {},
   "outputs": [
    {
     "data": {
      "text/html": [
       "<div>\n",
       "<style scoped>\n",
       "    .dataframe tbody tr th:only-of-type {\n",
       "        vertical-align: middle;\n",
       "    }\n",
       "\n",
       "    .dataframe tbody tr th {\n",
       "        vertical-align: top;\n",
       "    }\n",
       "\n",
       "    .dataframe thead th {\n",
       "        text-align: right;\n",
       "    }\n",
       "</style>\n",
       "<table border=\"1\" class=\"dataframe\">\n",
       "  <thead>\n",
       "    <tr style=\"text-align: right;\">\n",
       "      <th></th>\n",
       "      <th>MRN</th>\n",
       "      <th>Age</th>\n",
       "      <th>Gender</th>\n",
       "      <th>Exam Date</th>\n",
       "      <th>Eye</th>\n",
       "      <th>Hypertension</th>\n",
       "      <th>Image Path</th>\n",
       "    </tr>\n",
       "  </thead>\n",
       "  <tbody>\n",
       "    <tr>\n",
       "      <th>0</th>\n",
       "      <td>10378</td>\n",
       "      <td>67.0</td>\n",
       "      <td>M</td>\n",
       "      <td>2020-06-07</td>\n",
       "      <td>OS</td>\n",
       "      <td>1</td>\n",
       "      <td>10378_11052020_162440_Color_L_001.jpg</td>\n",
       "    </tr>\n",
       "    <tr>\n",
       "      <th>1</th>\n",
       "      <td>18310</td>\n",
       "      <td>60.0</td>\n",
       "      <td>F</td>\n",
       "      <td>2020-09-29</td>\n",
       "      <td>OD</td>\n",
       "      <td>1</td>\n",
       "      <td>18310_12092020_160912_Color_R_001.jpg</td>\n",
       "    </tr>\n",
       "    <tr>\n",
       "      <th>2</th>\n",
       "      <td>18310</td>\n",
       "      <td>60.0</td>\n",
       "      <td>F</td>\n",
       "      <td>2020-09-29</td>\n",
       "      <td>OS</td>\n",
       "      <td>1</td>\n",
       "      <td>18310_12092020_160923_Color_L_001.jpg</td>\n",
       "    </tr>\n",
       "    <tr>\n",
       "      <th>3</th>\n",
       "      <td>19616</td>\n",
       "      <td>66.0</td>\n",
       "      <td>M</td>\n",
       "      <td>2020-08-26</td>\n",
       "      <td>OD</td>\n",
       "      <td>1</td>\n",
       "      <td>19616_12102020_120540_Color_R_001.jpg</td>\n",
       "    </tr>\n",
       "    <tr>\n",
       "      <th>4</th>\n",
       "      <td>19616</td>\n",
       "      <td>66.0</td>\n",
       "      <td>M</td>\n",
       "      <td>2020-08-26</td>\n",
       "      <td>OS</td>\n",
       "      <td>1</td>\n",
       "      <td>19616_12102020_120557_Color_L_001.jpg</td>\n",
       "    </tr>\n",
       "    <tr>\n",
       "      <th>...</th>\n",
       "      <td>...</td>\n",
       "      <td>...</td>\n",
       "      <td>...</td>\n",
       "      <td>...</td>\n",
       "      <td>...</td>\n",
       "      <td>...</td>\n",
       "      <td>...</td>\n",
       "    </tr>\n",
       "    <tr>\n",
       "      <th>1138</th>\n",
       "      <td>2915822</td>\n",
       "      <td>25.0</td>\n",
       "      <td>M</td>\n",
       "      <td>2021-01-21</td>\n",
       "      <td>OD</td>\n",
       "      <td>0</td>\n",
       "      <td>2915822_07142021_160104_Color_R_001.jpg</td>\n",
       "    </tr>\n",
       "    <tr>\n",
       "      <th>1139</th>\n",
       "      <td>2915822</td>\n",
       "      <td>25.0</td>\n",
       "      <td>M</td>\n",
       "      <td>2021-01-21</td>\n",
       "      <td>OS</td>\n",
       "      <td>0</td>\n",
       "      <td>2915822_07142021_160117_Color_L_001.jpg</td>\n",
       "    </tr>\n",
       "    <tr>\n",
       "      <th>1140</th>\n",
       "      <td>2917878</td>\n",
       "      <td>55.0</td>\n",
       "      <td>M</td>\n",
       "      <td>2021-02-08</td>\n",
       "      <td>OD</td>\n",
       "      <td>0</td>\n",
       "      <td>2917878_07142021_160559_Color_R_001.jpg</td>\n",
       "    </tr>\n",
       "    <tr>\n",
       "      <th>1141</th>\n",
       "      <td>2917878</td>\n",
       "      <td>55.0</td>\n",
       "      <td>M</td>\n",
       "      <td>2021-02-08</td>\n",
       "      <td>OS</td>\n",
       "      <td>0</td>\n",
       "      <td>2917878_07142021_160612_Color_L_001.jpg</td>\n",
       "    </tr>\n",
       "    <tr>\n",
       "      <th>1142</th>\n",
       "      <td>3022136</td>\n",
       "      <td>48.0</td>\n",
       "      <td>M</td>\n",
       "      <td>2021-04-05</td>\n",
       "      <td>OD</td>\n",
       "      <td>0</td>\n",
       "      <td>3022136_07272021_120414_Color_R_001.jpg</td>\n",
       "    </tr>\n",
       "  </tbody>\n",
       "</table>\n",
       "<p>1143 rows × 7 columns</p>\n",
       "</div>"
      ],
      "text/plain": [
       "          MRN   Age Gender  Exam Date Eye  Hypertension  \\\n",
       "0       10378  67.0      M 2020-06-07  OS             1   \n",
       "1       18310  60.0      F 2020-09-29  OD             1   \n",
       "2       18310  60.0      F 2020-09-29  OS             1   \n",
       "3       19616  66.0      M 2020-08-26  OD             1   \n",
       "4       19616  66.0      M 2020-08-26  OS             1   \n",
       "...       ...   ...    ...        ...  ..           ...   \n",
       "1138  2915822  25.0      M 2021-01-21  OD             0   \n",
       "1139  2915822  25.0      M 2021-01-21  OS             0   \n",
       "1140  2917878  55.0      M 2021-02-08  OD             0   \n",
       "1141  2917878  55.0      M 2021-02-08  OS             0   \n",
       "1142  3022136  48.0      M 2021-04-05  OD             0   \n",
       "\n",
       "                                   Image Path  \n",
       "0       10378_11052020_162440_Color_L_001.jpg  \n",
       "1       18310_12092020_160912_Color_R_001.jpg  \n",
       "2       18310_12092020_160923_Color_L_001.jpg  \n",
       "3       19616_12102020_120540_Color_R_001.jpg  \n",
       "4       19616_12102020_120557_Color_L_001.jpg  \n",
       "...                                       ...  \n",
       "1138  2915822_07142021_160104_Color_R_001.jpg  \n",
       "1139  2915822_07142021_160117_Color_L_001.jpg  \n",
       "1140  2917878_07142021_160559_Color_R_001.jpg  \n",
       "1141  2917878_07142021_160612_Color_L_001.jpg  \n",
       "1142  3022136_07272021_120414_Color_R_001.jpg  \n",
       "\n",
       "[1143 rows x 7 columns]"
      ]
     },
     "execution_count": 97,
     "metadata": {},
     "output_type": "execute_result"
    }
   ],
   "source": [
    "df"
   ]
  },
  {
   "cell_type": "code",
   "execution_count": 76,
   "metadata": {},
   "outputs": [
    {
     "data": {
      "text/plain": [
       "F    297\n",
       "M    260\n",
       "Name: Gender, dtype: int64"
      ]
     },
     "execution_count": 76,
     "metadata": {},
     "output_type": "execute_result"
    }
   ],
   "source": [
    "df[df[\"Hypertension\"] == 1][\"Gender\"].value_counts()"
   ]
  },
  {
   "cell_type": "code",
   "execution_count": 25,
   "metadata": {},
   "outputs": [
    {
     "data": {
      "text/plain": [
       "517"
      ]
     },
     "execution_count": 25,
     "metadata": {},
     "output_type": "execute_result"
    }
   ],
   "source": [
    "(df.pivot_table(columns=['MRN'], aggfunc='size') == 2).sum()"
   ]
  },
  {
   "cell_type": "code",
   "execution_count": 35,
   "metadata": {},
   "outputs": [],
   "source": [
    "htn_clean = df[df[\"Hypertension\"] == 1]\n",
    "non_htn_clean = df[df[\"Hypertension\"] == 0]"
   ]
  },
  {
   "cell_type": "code",
   "execution_count": 92,
   "metadata": {},
   "outputs": [
    {
     "data": {
      "text/plain": [
       "count    540.000000\n",
       "mean      50.296296\n",
       "std       21.560571\n",
       "min        6.000000\n",
       "25%       34.000000\n",
       "50%       57.000000\n",
       "75%       67.000000\n",
       "max       85.000000\n",
       "Name: Age, dtype: float64"
      ]
     },
     "execution_count": 92,
     "metadata": {},
     "output_type": "execute_result"
    }
   ],
   "source": [
    "df[df[\"Gender\"] == \"M\"][\"Age\"].describe()"
   ]
  },
  {
   "cell_type": "code",
   "execution_count": 68,
   "metadata": {},
   "outputs": [],
   "source": [
    "shapes = []"
   ]
  },
  {
   "cell_type": "code",
   "execution_count": 69,
   "metadata": {},
   "outputs": [],
   "source": [
    "for image in htn_clean[\"Image Path\"]:\n",
    "    im = cv2.imread(CSV_PATH[\"HTNPath\"] + f\"/{image}\")\n",
    "    shapes.append(im.shape)"
   ]
  },
  {
   "cell_type": "code",
   "execution_count": 70,
   "metadata": {},
   "outputs": [],
   "source": [
    "for image in non_htn_clean[\"Image Path\"]:\n",
    "    im = cv2.imread(CSV_PATH[\"NonHTNPath\"] + f\"/{image}\")\n",
    "    shapes.append(im.shape)"
   ]
  },
  {
   "cell_type": "code",
   "execution_count": 72,
   "metadata": {},
   "outputs": [
    {
     "data": {
      "text/plain": [
       "Counter({(1024, 1024, 3): 1143})"
      ]
     },
     "execution_count": 72,
     "metadata": {},
     "output_type": "execute_result"
    }
   ],
   "source": [
    "Counter(shapes)"
   ]
  },
  {
   "cell_type": "code",
   "execution_count": 22,
   "metadata": {},
   "outputs": [],
   "source": [
    "image_size = 500\n",
    "\n",
    "transform = T.Compose([\n",
    "    T.Resize((image_size, image_size)),\n",
    "    T.ToTensor(),\n",
    "])\n",
    "\n",
    "\n",
    "images = ImageFolder(PATH, transform=transform)"
   ]
  },
  {
   "cell_type": "code",
   "execution_count": 18,
   "metadata": {},
   "outputs": [],
   "source": [
    "loader = DataLoader(images, batch_size=1)"
   ]
  },
  {
   "cell_type": "code",
   "execution_count": 25,
   "metadata": {},
   "outputs": [
    {
     "name": "stderr",
     "output_type": "stream",
     "text": [
      "100%|██████████| 1170/1170 [00:23<00:00, 49.09it/s]\n"
     ]
    }
   ],
   "source": [
    "psum    = torch.tensor([0.0, 0.0, 0.0])\n",
    "psum_sq = torch.tensor([0.0, 0.0, 0.0])\n",
    "\n",
    "for inputs, _ in tqdm(loader):\n",
    "    psum    += inputs.sum(axis        = [0, 2, 3])\n",
    "    psum_sq += (inputs ** 2).sum(axis = [0, 2, 3])\n",
    "    \n",
    "\n",
    "count = len(loader.dataset) * image_size * image_size\n",
    "\n",
    "# mean and std\n",
    "total_mean = psum / count\n",
    "total_var  = (psum_sq / count) - (total_mean ** 2)\n",
    "total_std  = torch.sqrt(total_var)"
   ]
  },
  {
   "cell_type": "code",
   "execution_count": 26,
   "metadata": {},
   "outputs": [
    {
     "data": {
      "text/plain": [
       "tensor([0.3675, 0.1760, 0.1047])"
      ]
     },
     "execution_count": 26,
     "metadata": {},
     "output_type": "execute_result"
    }
   ],
   "source": [
    "total_mean"
   ]
  },
  {
   "cell_type": "code",
   "execution_count": 27,
   "metadata": {},
   "outputs": [
    {
     "data": {
      "text/plain": [
       "tensor([0.2289, 0.1180, 0.0748])"
      ]
     },
     "execution_count": 27,
     "metadata": {},
     "output_type": "execute_result"
    }
   ],
   "source": [
    "total_std"
   ]
  },
  {
   "cell_type": "code",
   "execution_count": null,
   "metadata": {},
   "outputs": [],
   "source": []
  }
 ],
 "metadata": {
  "kernelspec": {
   "display_name": "Python 3",
   "language": "python",
   "name": "python3"
  },
  "language_info": {
   "codemirror_mode": {
    "name": "ipython",
    "version": 3
   },
   "file_extension": ".py",
   "mimetype": "text/x-python",
   "name": "python",
   "nbconvert_exporter": "python",
   "pygments_lexer": "ipython3",
   "version": "3.8.5"
  }
 },
 "nbformat": 4,
 "nbformat_minor": 4
}
