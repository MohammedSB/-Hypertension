{
 "cells": [
  {
   "cell_type": "code",
   "execution_count": null,
   "metadata": {},
   "outputs": [],
   "source": [
    "%matplotlib inline\n",
    "\n",
    "import torch\n",
    "import cv2, glob\n",
    "import torchvision.transforms as T\n",
    "import numpy as np\n",
    "\n",
    "import matplotlib.pyplot as plt"
   ]
  },
  {
   "cell_type": "code",
   "execution_count": null,
   "metadata": {},
   "outputs": [],
   "source": [
    "import os    \n",
    "os.environ['KMP_DUPLICATE_LIB_OK'] = 'True'"
   ]
  },
  {
   "cell_type": "code",
   "execution_count": null,
   "metadata": {},
   "outputs": [],
   "source": [
    "def crop_image(img,tol=7):\n",
    "    gray_img = cv2.cvtColor(img, cv2.COLOR_RGB2GRAY)\n",
    "    mask = gray_img>tol\n",
    "\n",
    "    check_shape = img[:,:,0][np.ix_(mask.any(1),mask.any(0))].shape[0]\n",
    "    if (check_shape == 0): # image is too dark so that we crop out everything,\n",
    "        return img # return original image\n",
    "    else:\n",
    "        img1=img[:,:,0][np.ix_(mask.any(1),mask.any(0))]\n",
    "        img2=img[:,:,1][np.ix_(mask.any(1),mask.any(0))]\n",
    "        img3=img[:,:,2][np.ix_(mask.any(1),mask.any(0))]\n",
    "        img = np.stack([img1,img2,img3],axis=-1)\n",
    "    return img"
   ]
  },
  {
   "cell_type": "code",
   "execution_count": null,
   "metadata": {},
   "outputs": [],
   "source": [
    "IMG_SIZE = 1024\n",
    "\n",
    "def load_images(path):\n",
    "    image = cv2.imread(path)\n",
    "    image = crop_image(image)\n",
    "    image = cv2.resize(image, (IMG_SIZE, IMG_SIZE))\n",
    "    return image"
   ]
  },
  {
   "cell_type": "code",
   "execution_count": null,
   "metadata": {},
   "outputs": [],
   "source": [
    "scale=300\n",
    "for f in glob.glob(\"C:\\\\Users\\\\user\\\\Desktop\\\\images\\\\or\\\\htn\\\\*.jpg\") + glob.glob(\"C:\\\\Users\\\\user\\\\Desktop\\\\images\\\\or\\\\non\\\\*.jpg\"):\n",
    "    image = load_images(f)\n",
    "    cv2.imwrite(f, image)"
   ]
  },
  {
   "attachments": {},
   "cell_type": "markdown",
   "metadata": {},
   "source": [
    "### Visualize (Cropping + Normalization)"
   ]
  },
  {
   "cell_type": "code",
   "execution_count": null,
   "metadata": {},
   "outputs": [],
   "source": [
    "scale=300\n",
    "i = 0\n",
    "for f in glob.glob(\"C:\\\\Users\\\\user\\\\Desktop\\\\images\\\\or\\\\htn\\\\*.jpg\") + glob.glob(\"C:\\\\Users\\\\user\\\\Desktop\\\\images\\\\or\\\\non\\\\*.jpg\"):\n",
    "    image = load_images(f)\n",
    "    image = T.ToTensor()(image)\n",
    "    image = T.Normalize(mean=[0.3675, 0.1760, 0.1047], std=[0.2289, 0.1180, 0.0748])(image)\n",
    "    image = image.permute(1, 2, 0)\n",
    "    image = image.numpy()    \n",
    "    image = (255*(image - np.min(image))/np.ptp(image))  \n",
    "    f = f[:f.find(\".\")] + \"_after\" + f[f.find(\".\"):]\n",
    "    cv2.imwrite(f, image)"
   ]
  }
 ],
 "metadata": {
  "kernelspec": {
   "display_name": "Python 3 (ipykernel)",
   "language": "python",
   "name": "python3"
  },
  "language_info": {
   "codemirror_mode": {
    "name": "ipython",
    "version": 3
   },
   "file_extension": ".py",
   "mimetype": "text/x-python",
   "name": "python",
   "nbconvert_exporter": "python",
   "pygments_lexer": "ipython3",
   "version": "3.9.13"
  }
 },
 "nbformat": 4,
 "nbformat_minor": 4
}
