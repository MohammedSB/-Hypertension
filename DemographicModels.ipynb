{
 "cells": [
  {
   "cell_type": "code",
   "execution_count": 1,
   "metadata": {},
   "outputs": [],
   "source": [
    "%run C:/Users/MohammedSB/Desktop/projects/Hypertension/Requirements.ipynb"
   ]
  },
  {
   "cell_type": "code",
   "execution_count": 2,
   "metadata": {},
   "outputs": [],
   "source": [
    "# Seed\n",
    "set_seed(0)"
   ]
  },
  {
   "cell_type": "code",
   "execution_count": 3,
   "metadata": {},
   "outputs": [],
   "source": [
    "device = torch.device(\"cuda\" if torch.cuda.is_available() else \"cpu\")"
   ]
  },
  {
   "cell_type": "code",
   "execution_count": 4,
   "metadata": {},
   "outputs": [],
   "source": [
    "PATH = r\"D:\\\\MohammedSB\\\\Fundus\\\\\"\n",
    "CSV_PATH = {\"HTNPath\": PATH + r\"HTN\", \"NonHTNPath\": PATH + \"NonHTN\"}\n",
    "\n",
    "MODELS_PATH = r\"C:\\Users\\MohammedSB\\Desktop\\projects\\Hypertension\\models\""
   ]
  },
  {
   "cell_type": "code",
   "execution_count": 5,
   "metadata": {},
   "outputs": [],
   "source": [
    "train_set, test_set = get_datasets()"
   ]
  },
  {
   "cell_type": "code",
   "execution_count": 6,
   "metadata": {},
   "outputs": [],
   "source": [
    "BATCH_SIZE = 8\n",
    "\n",
    "train_dataset = TabularDataset(train_set)\n",
    "test_dataset = TabularDataset(test_set)\n",
    "\n",
    "train_x, train_y = train_set[[\"Age\", \"Gender\"]], train_set[\"Hypertension\"]\n",
    "\n",
    "train_loader, test_loader = train_test_loader(train_dataset, test_dataset, batch_size=BATCH_SIZE)\n",
    "\n",
    "# val_dataset = TabularDataset(val_set)\n",
    "# val_loader = DataLoader(val_dataset, batch_size=BATCH_SIZE)"
   ]
  },
  {
   "cell_type": "markdown",
   "metadata": {},
   "source": [
    "# XGBoost"
   ]
  },
  {
   "cell_type": "code",
   "execution_count": 7,
   "metadata": {},
   "outputs": [],
   "source": [
    "boost = xgb.XGBClassifier(tree_method='gpu_hist', objective=\"binary:logistic\")"
   ]
  },
  {
   "cell_type": "code",
   "execution_count": 8,
   "metadata": {},
   "outputs": [
    {
     "name": "stdout",
     "output_type": "stream",
     "text": [
      "Fitting 5 folds for each of 144 candidates, totalling 720 fits\n"
     ]
    },
    {
     "name": "stderr",
     "output_type": "stream",
     "text": [
      "[Parallel(n_jobs=1)]: Using backend SequentialBackend with 1 concurrent workers.\n"
     ]
    },
    {
     "name": "stdout",
     "output_type": "stream",
     "text": [
      "0.7640520063484061\n"
     ]
    },
    {
     "name": "stderr",
     "output_type": "stream",
     "text": [
      "[Parallel(n_jobs=1)]: Done 720 out of 720 | elapsed:  9.3min finished\n"
     ]
    }
   ],
   "source": [
    "param_grid = {'max_depth': [3,6,10],\n",
    "           'learning_rate': [0.0001, 0.005, 0.001, 0.005, 0.01, 0.05, 0.1, 0.3],\n",
    "           'n_estimators': [100, 500, 1000],\n",
    "           'colsample_bytree': [0.3, 0.7]}\n",
    "\n",
    "clf = GridSearchCV(estimator=boost, \n",
    "                   param_grid=param_grid,\n",
    "                   scoring='f1', \n",
    "                   verbose=1)\n",
    "\n",
    "clf.fit(train_x, train_y)\n",
    "\n",
    "print(clf.best_score_)"
   ]
  },
  {
   "cell_type": "code",
   "execution_count": 9,
   "metadata": {},
   "outputs": [],
   "source": [
    "with open(MODELS_PATH+'/DemographicXGBParams.json', 'w', encoding='utf-8') as f:\n",
    "    json.dump(clf.best_params_, f, ensure_ascii=False, indent=4)"
   ]
  },
  {
   "cell_type": "markdown",
   "metadata": {},
   "source": [
    "# SVM"
   ]
  },
  {
   "cell_type": "code",
   "execution_count": 10,
   "metadata": {},
   "outputs": [],
   "source": [
    "svm = SVC()"
   ]
  },
  {
   "cell_type": "code",
   "execution_count": 11,
   "metadata": {},
   "outputs": [
    {
     "name": "stdout",
     "output_type": "stream",
     "text": [
      "Fitting 5 folds for each of 124 candidates, totalling 620 fits\n"
     ]
    },
    {
     "name": "stderr",
     "output_type": "stream",
     "text": [
      "[Parallel(n_jobs=1)]: Using backend SequentialBackend with 1 concurrent workers.\n"
     ]
    },
    {
     "name": "stdout",
     "output_type": "stream",
     "text": [
      "0.7648120751942031\n"
     ]
    },
    {
     "name": "stderr",
     "output_type": "stream",
     "text": [
      "[Parallel(n_jobs=1)]: Done 620 out of 620 | elapsed: 100.7min finished\n"
     ]
    }
   ],
   "source": [
    "param_grid = [\n",
    "    {'C': [1, 10, 100, 1000], 'kernel': ['linear']},\n",
    "    {'C': [1, 10, 100, 1000], 'gamma': [1, 0.1, 0.01, 0.001], 'kernel': ['rbf']},\n",
    "    {'C': [1, 10, 100, 1000], 'gamma': [1, 0.1, 0.01, 0.001], 'degree': [1,2,3], 'kernel': ['poly']}\n",
    "]\n",
    "\n",
    "clf = GridSearchCV(estimator=svm, \n",
    "                   param_grid=param_grid,\n",
    "                   scoring='f1', \n",
    "                   verbose=1)\n",
    "\n",
    "clf.fit(train_x, train_y)\n",
    "\n",
    "print(clf.best_score_)"
   ]
  },
  {
   "cell_type": "code",
   "execution_count": 12,
   "metadata": {},
   "outputs": [],
   "source": [
    "with open(MODELS_PATH+'/DemographicSVMParams.json', 'w', encoding='utf-8') as f:\n",
    "    json.dump(clf.best_params_, f, ensure_ascii=False, indent=4)"
   ]
  },
  {
   "cell_type": "markdown",
   "metadata": {},
   "source": [
    "# FCNN"
   ]
  },
  {
   "cell_type": "code",
   "execution_count": 20,
   "metadata": {},
   "outputs": [],
   "source": [
    "tabular_model = nn.Sequential(\n",
    "    nn.Linear(in_features=2, out_features=8),\n",
    "    nn.ReLU(inplace=True),\n",
    "    nn.Linear(in_features=8, out_features=32),\n",
    "    nn.ReLU(inplace=True),\n",
    "    nn.Linear(in_features=32, out_features=16),\n",
    "    nn.ReLU(inplace=True),\n",
    "    nn.Linear(in_features=16, out_features=8),\n",
    "    nn.ReLU(inplace=True),\n",
    "    nn.Linear(in_features=8, out_features=1),\n",
    ")"
   ]
  },
  {
   "cell_type": "code",
   "execution_count": 21,
   "metadata": {},
   "outputs": [],
   "source": [
    "tabular_model = tabular_model.to(device)"
   ]
  },
  {
   "cell_type": "code",
   "execution_count": 22,
   "metadata": {},
   "outputs": [],
   "source": [
    "models = {\n",
    "    \"image_model\": None,\n",
    "    \"tabular_model\": tabular_model,\n",
    "    \"fusion_model\": None\n",
    "}\n",
    "\n",
    "early_stop = {\n",
    "    \"patience\": 20,\n",
    "    \"min_delta\": 0,\n",
    "    \"multip\": 10\n",
    "}\n",
    "\n",
    "epochs = 500\n",
    "optimizer = torch.optim.Adam(tabular_model.to(device).parameters(), lr=1e-4)\n",
    "criterion = nn.BCEWithLogitsLoss()"
   ]
  },
  {
   "cell_type": "code",
   "execution_count": 23,
   "metadata": {
    "scrolled": true
   },
   "outputs": [
    {
     "name": "stderr",
     "output_type": "stream",
     "text": [
      "Batch in Progress:  12%|█████                                     | 14/115 [00:00<00:00, 123.36it/s]"
     ]
    },
    {
     "name": "stdout",
     "output_type": "stream",
     "text": [
      "Beginning Training: \n",
      "\n",
      "Epoch 1/500\n"
     ]
    },
    {
     "name": "stderr",
     "output_type": "stream",
     "text": [
      "Batch in Progress: 100%|█████████████████████████████████████████| 115/115 [00:00<00:00, 138.47it/s]\n",
      "Batch in Progress: 100%|███████████████████████████████████████████| 29/29 [00:00<00:00, 199.98it/s]\n",
      "Batch in Progress:   0%|                                                    | 0/115 [00:00<?, ?it/s]"
     ]
    },
    {
     "name": "stdout",
     "output_type": "stream",
     "text": [
      "Train Set:\n",
      "    Average Loss:  0.695530,    Accuracy: 51.48%,    Correct Counter: 471/915,    F1 Score: 0.00,    Precision: 1.00,    Recall:  0.00 \n",
      "\n",
      "Validation Set:\n",
      "    Average Loss:  0.696637,    Accuracy: 50.44%,    Correct Counter: 115/228,    F1 Score: 0.00,    Precision: 1.00,    Recall:  0.00 \n",
      "\n",
      "Epoch 2/500\n"
     ]
    },
    {
     "name": "stderr",
     "output_type": "stream",
     "text": [
      "Batch in Progress: 100%|█████████████████████████████████████████| 115/115 [00:00<00:00, 137.97it/s]\n",
      "Batch in Progress: 100%|███████████████████████████████████████████| 29/29 [00:00<00:00, 195.32it/s]\n",
      "Batch in Progress:   0%|                                                    | 0/115 [00:00<?, ?it/s]"
     ]
    },
    {
     "name": "stdout",
     "output_type": "stream",
     "text": [
      "Train Set:\n",
      "    Average Loss:  0.691968,    Accuracy: 51.48%,    Correct Counter: 471/915,    F1 Score: 0.00,    Precision: 1.00,    Recall:  0.00 \n",
      "\n",
      "Validation Set:\n",
      "    Average Loss:  0.693457,    Accuracy: 50.44%,    Correct Counter: 115/228,    F1 Score: 0.00,    Precision: 1.00,    Recall:  0.00 \n",
      "\n",
      "Epoch 3/500\n"
     ]
    },
    {
     "name": "stderr",
     "output_type": "stream",
     "text": [
      "Batch in Progress: 100%|█████████████████████████████████████████| 115/115 [00:00<00:00, 134.13it/s]\n",
      "Batch in Progress: 100%|███████████████████████████████████████████| 29/29 [00:00<00:00, 214.29it/s]\n",
      "Batch in Progress:   0%|                                                    | 0/115 [00:00<?, ?it/s]"
     ]
    },
    {
     "name": "stdout",
     "output_type": "stream",
     "text": [
      "Train Set:\n",
      "    Average Loss:  0.687681,    Accuracy: 51.48%,    Correct Counter: 471/915,    F1 Score: 0.00,    Precision: 1.00,    Recall:  0.00 \n",
      "\n",
      "Validation Set:\n",
      "    Average Loss:  0.689139,    Accuracy: 50.44%,    Correct Counter: 115/228,    F1 Score: 0.00,    Precision: 1.00,    Recall:  0.00 \n",
      "\n",
      "Epoch 4/500\n"
     ]
    },
    {
     "name": "stderr",
     "output_type": "stream",
     "text": [
      "Batch in Progress: 100%|█████████████████████████████████████████| 115/115 [00:00<00:00, 144.24it/s]\n",
      "Batch in Progress: 100%|███████████████████████████████████████████| 29/29 [00:00<00:00, 207.35it/s]\n",
      "Batch in Progress:   0%|                                                    | 0/115 [00:00<?, ?it/s]"
     ]
    },
    {
     "name": "stdout",
     "output_type": "stream",
     "text": [
      "Train Set:\n",
      "    Average Loss:  0.681351,    Accuracy: 51.48%,    Correct Counter: 471/915,    F1 Score: 0.00,    Precision: 1.00,    Recall:  0.00 \n",
      "\n",
      "Validation Set:\n",
      "    Average Loss:  0.682231,    Accuracy: 50.44%,    Correct Counter: 115/228,    F1 Score: 0.00,    Precision: 1.00,    Recall:  0.00 \n",
      "\n",
      "Epoch 5/500\n"
     ]
    },
    {
     "name": "stderr",
     "output_type": "stream",
     "text": [
      "Batch in Progress: 100%|█████████████████████████████████████████| 115/115 [00:00<00:00, 143.73it/s]\n",
      "Batch in Progress: 100%|███████████████████████████████████████████| 29/29 [00:00<00:00, 214.38it/s]\n",
      "Batch in Progress:   0%|                                                    | 0/115 [00:00<?, ?it/s]"
     ]
    },
    {
     "name": "stdout",
     "output_type": "stream",
     "text": [
      "Train Set:\n",
      "    Average Loss:  0.670901,    Accuracy: 51.48%,    Correct Counter: 471/915,    F1 Score: 0.00,    Precision: 1.00,    Recall:  0.00 \n",
      "\n",
      "Validation Set:\n",
      "    Average Loss:  0.671627,    Accuracy: 50.44%,    Correct Counter: 115/228,    F1 Score: 0.00,    Precision: 1.00,    Recall:  0.00 \n",
      "\n",
      "Epoch 6/500\n"
     ]
    },
    {
     "name": "stderr",
     "output_type": "stream",
     "text": [
      "Batch in Progress: 100%|█████████████████████████████████████████| 115/115 [00:00<00:00, 144.07it/s]\n",
      "Batch in Progress: 100%|███████████████████████████████████████████| 29/29 [00:00<00:00, 215.34it/s]\n",
      "Batch in Progress:   0%|                                                    | 0/115 [00:00<?, ?it/s]"
     ]
    },
    {
     "name": "stdout",
     "output_type": "stream",
     "text": [
      "Train Set:\n",
      "    Average Loss:  0.655922,    Accuracy: 51.48%,    Correct Counter: 471/915,    F1 Score: 0.00,    Precision: 1.00,    Recall:  0.00 \n",
      "\n",
      "Validation Set:\n",
      "    Average Loss:  0.657829,    Accuracy: 50.44%,    Correct Counter: 115/228,    F1 Score: 0.00,    Precision: 1.00,    Recall:  0.00 \n",
      "\n",
      "Epoch 7/500\n"
     ]
    },
    {
     "name": "stderr",
     "output_type": "stream",
     "text": [
      "Batch in Progress: 100%|█████████████████████████████████████████| 115/115 [00:00<00:00, 132.49it/s]\n",
      "Batch in Progress: 100%|███████████████████████████████████████████| 29/29 [00:00<00:00, 213.01it/s]\n",
      "Batch in Progress:   0%|                                                    | 0/115 [00:00<?, ?it/s]"
     ]
    },
    {
     "name": "stdout",
     "output_type": "stream",
     "text": [
      "Train Set:\n",
      "    Average Loss:  0.637214,    Accuracy: 51.80%,    Correct Counter: 474/915,    F1 Score: 0.04,    Precision: 0.60,    Recall:  0.02 \n",
      "\n",
      "Validation Set:\n",
      "    Average Loss:  0.641395,    Accuracy: 56.14%,    Correct Counter: 128/228,    F1 Score: 0.25,    Precision: 0.81,    Recall:  0.15 \n",
      "\n",
      "Epoch 8/500\n"
     ]
    },
    {
     "name": "stderr",
     "output_type": "stream",
     "text": [
      "Batch in Progress: 100%|█████████████████████████████████████████| 115/115 [00:00<00:00, 142.75it/s]\n",
      "Batch in Progress: 100%|███████████████████████████████████████████| 29/29 [00:00<00:00, 211.32it/s]\n",
      "Batch in Progress:   0%|                                                    | 0/115 [00:00<?, ?it/s]"
     ]
    },
    {
     "name": "stdout",
     "output_type": "stream",
     "text": [
      "Train Set:\n",
      "    Average Loss:  0.616025,    Accuracy: 60.33%,    Correct Counter: 552/915,    F1 Score: 0.46,    Precision: 0.68,    Recall:  0.34 \n",
      "\n",
      "Validation Set:\n",
      "    Average Loss:  0.624707,    Accuracy: 69.30%,    Correct Counter: 158/228,    F1 Score: 0.69,    Precision: 0.69,    Recall:  0.68 \n",
      "\n",
      "Epoch 9/500\n"
     ]
    },
    {
     "name": "stderr",
     "output_type": "stream",
     "text": [
      "Batch in Progress: 100%|█████████████████████████████████████████| 115/115 [00:00<00:00, 136.20it/s]\n",
      "Batch in Progress: 100%|███████████████████████████████████████████| 29/29 [00:00<00:00, 217.44it/s]\n",
      "Batch in Progress:   0%|                                                    | 0/115 [00:00<?, ?it/s]"
     ]
    },
    {
     "name": "stdout",
     "output_type": "stream",
     "text": [
      "Train Set:\n",
      "    Average Loss:  0.595533,    Accuracy: 67.32%,    Correct Counter: 616/915,    F1 Score: 0.66,    Precision: 0.67,    Recall:  0.66 \n",
      "\n",
      "Validation Set:\n",
      "    Average Loss:  0.610507,    Accuracy: 68.42%,    Correct Counter: 156/228,    F1 Score: 0.71,    Precision: 0.65,    Recall:  0.78 \n",
      "\n",
      "Epoch 10/500\n"
     ]
    },
    {
     "name": "stderr",
     "output_type": "stream",
     "text": [
      "Batch in Progress: 100%|█████████████████████████████████████████| 115/115 [00:00<00:00, 126.63it/s]\n",
      "Batch in Progress: 100%|███████████████████████████████████████████| 29/29 [00:00<00:00, 198.43it/s]\n",
      "Batch in Progress:   0%|                                                    | 0/115 [00:00<?, ?it/s]"
     ]
    },
    {
     "name": "stdout",
     "output_type": "stream",
     "text": [
      "Train Set:\n",
      "    Average Loss:  0.578006,    Accuracy: 70.27%,    Correct Counter: 643/915,    F1 Score: 0.72,    Precision: 0.67,    Recall:  0.77 \n",
      "\n",
      "Validation Set:\n",
      "    Average Loss:  0.599991,    Accuracy: 69.30%,    Correct Counter: 158/228,    F1 Score: 0.73,    Precision: 0.64,    Recall:  0.85 \n",
      "\n",
      "Epoch 11/500\n"
     ]
    },
    {
     "name": "stderr",
     "output_type": "stream",
     "text": [
      "Batch in Progress: 100%|█████████████████████████████████████████| 115/115 [00:00<00:00, 130.24it/s]\n",
      "Batch in Progress: 100%|███████████████████████████████████████████| 29/29 [00:00<00:00, 214.36it/s]\n",
      "Batch in Progress:   0%|                                                    | 0/115 [00:00<?, ?it/s]"
     ]
    },
    {
     "name": "stdout",
     "output_type": "stream",
     "text": [
      "Train Set:\n",
      "    Average Loss:  0.564468,    Accuracy: 71.04%,    Correct Counter: 650/915,    F1 Score: 0.73,    Precision: 0.66,    Recall:  0.82 \n",
      "\n",
      "Validation Set:\n",
      "    Average Loss:  0.593052,    Accuracy: 69.30%,    Correct Counter: 158/228,    F1 Score: 0.73,    Precision: 0.64,    Recall:  0.85 \n",
      "\n",
      "Epoch 12/500\n"
     ]
    },
    {
     "name": "stderr",
     "output_type": "stream",
     "text": [
      "Batch in Progress: 100%|█████████████████████████████████████████| 115/115 [00:00<00:00, 132.19it/s]\n",
      "Batch in Progress: 100%|███████████████████████████████████████████| 29/29 [00:00<00:00, 193.75it/s]\n",
      "Batch in Progress:   0%|                                                    | 0/115 [00:00<?, ?it/s]"
     ]
    },
    {
     "name": "stdout",
     "output_type": "stream",
     "text": [
      "Train Set:\n",
      "    Average Loss:  0.554697,    Accuracy: 71.37%,    Correct Counter: 653/915,    F1 Score: 0.74,    Precision: 0.66,    Recall:  0.85 \n",
      "\n",
      "Validation Set:\n",
      "    Average Loss:  0.588942,    Accuracy: 68.42%,    Correct Counter: 156/228,    F1 Score: 0.73,    Precision: 0.63,    Recall:  0.87 \n",
      "\n",
      "Epoch 13/500\n"
     ]
    },
    {
     "name": "stderr",
     "output_type": "stream",
     "text": [
      "Batch in Progress: 100%|█████████████████████████████████████████| 115/115 [00:00<00:00, 135.87it/s]\n",
      "Batch in Progress: 100%|███████████████████████████████████████████| 29/29 [00:00<00:00, 211.31it/s]\n",
      "Batch in Progress:   0%|                                                    | 0/115 [00:00<?, ?it/s]"
     ]
    },
    {
     "name": "stdout",
     "output_type": "stream",
     "text": [
      "Train Set:\n",
      "    Average Loss:  0.548012,    Accuracy: 71.26%,    Correct Counter: 652/915,    F1 Score: 0.74,    Precision: 0.66,    Recall:  0.86 \n",
      "\n",
      "Validation Set:\n",
      "    Average Loss:  0.586896,    Accuracy: 67.54%,    Correct Counter: 154/228,    F1 Score: 0.73,    Precision: 0.62,    Recall:  0.87 \n",
      "\n",
      "Epoch 14/500\n"
     ]
    },
    {
     "name": "stderr",
     "output_type": "stream",
     "text": [
      "Batch in Progress: 100%|█████████████████████████████████████████| 115/115 [00:00<00:00, 135.30it/s]\n",
      "Batch in Progress: 100%|███████████████████████████████████████████| 29/29 [00:00<00:00, 211.98it/s]\n",
      "Batch in Progress:   0%|                                                    | 0/115 [00:00<?, ?it/s]"
     ]
    },
    {
     "name": "stdout",
     "output_type": "stream",
     "text": [
      "Train Set:\n",
      "    Average Loss:  0.543483,    Accuracy: 71.15%,    Correct Counter: 651/915,    F1 Score: 0.74,    Precision: 0.65,    Recall:  0.86 \n",
      "\n",
      "Validation Set:\n",
      "    Average Loss:  0.586181,    Accuracy: 67.54%,    Correct Counter: 154/228,    F1 Score: 0.73,    Precision: 0.62,    Recall:  0.87 \n",
      "\n",
      "Epoch 15/500\n"
     ]
    },
    {
     "name": "stderr",
     "output_type": "stream",
     "text": [
      "Batch in Progress: 100%|█████████████████████████████████████████| 115/115 [00:00<00:00, 137.67it/s]\n",
      "Batch in Progress: 100%|███████████████████████████████████████████| 29/29 [00:00<00:00, 211.68it/s]\n",
      "Batch in Progress:   0%|                                                    | 0/115 [00:00<?, ?it/s]"
     ]
    },
    {
     "name": "stdout",
     "output_type": "stream",
     "text": [
      "Train Set:\n",
      "    Average Loss:  0.540486,    Accuracy: 71.15%,    Correct Counter: 651/915,    F1 Score: 0.75,    Precision: 0.65,    Recall:  0.88 \n",
      "\n",
      "Validation Set:\n",
      "    Average Loss:  0.586206,    Accuracy: 67.98%,    Correct Counter: 155/228,    F1 Score: 0.73,    Precision: 0.63,    Recall:  0.88 \n",
      "\n",
      "Epoch 16/500\n"
     ]
    },
    {
     "name": "stderr",
     "output_type": "stream",
     "text": [
      "Batch in Progress: 100%|█████████████████████████████████████████| 115/115 [00:00<00:00, 143.63it/s]\n",
      "Batch in Progress: 100%|███████████████████████████████████████████| 29/29 [00:00<00:00, 211.21it/s]\n",
      "Batch in Progress:   0%|                                                    | 0/115 [00:00<?, ?it/s]"
     ]
    },
    {
     "name": "stdout",
     "output_type": "stream",
     "text": [
      "Train Set:\n",
      "    Average Loss:  0.538500,    Accuracy: 70.93%,    Correct Counter: 649/915,    F1 Score: 0.75,    Precision: 0.65,    Recall:  0.88 \n",
      "\n",
      "Validation Set:\n",
      "    Average Loss:  0.586636,    Accuracy: 68.86%,    Correct Counter: 157/228,    F1 Score: 0.74,    Precision: 0.63,    Recall:  0.89 \n",
      "\n",
      "Epoch 17/500\n"
     ]
    },
    {
     "name": "stderr",
     "output_type": "stream",
     "text": [
      "Batch in Progress: 100%|█████████████████████████████████████████| 115/115 [00:00<00:00, 142.75it/s]\n",
      "Batch in Progress: 100%|███████████████████████████████████████████| 29/29 [00:00<00:00, 213.38it/s]\n",
      "Batch in Progress:   0%|                                                    | 0/115 [00:00<?, ?it/s]"
     ]
    },
    {
     "name": "stdout",
     "output_type": "stream",
     "text": [
      "Train Set:\n",
      "    Average Loss:  0.537137,    Accuracy: 70.82%,    Correct Counter: 648/915,    F1 Score: 0.75,    Precision: 0.65,    Recall:  0.88 \n",
      "\n",
      "Validation Set:\n",
      "    Average Loss:  0.587276,    Accuracy: 68.86%,    Correct Counter: 157/228,    F1 Score: 0.74,    Precision: 0.63,    Recall:  0.89 \n",
      "\n",
      "Epoch 18/500\n"
     ]
    },
    {
     "name": "stderr",
     "output_type": "stream",
     "text": [
      "Batch in Progress: 100%|█████████████████████████████████████████| 115/115 [00:00<00:00, 144.23it/s]\n",
      "Batch in Progress: 100%|███████████████████████████████████████████| 29/29 [00:00<00:00, 216.73it/s]\n",
      "Batch in Progress:   0%|                                                    | 0/115 [00:00<?, ?it/s]"
     ]
    },
    {
     "name": "stdout",
     "output_type": "stream",
     "text": [
      "Train Set:\n",
      "    Average Loss:  0.536193,    Accuracy: 70.71%,    Correct Counter: 647/915,    F1 Score: 0.75,    Precision: 0.64,    Recall:  0.89 \n",
      "\n",
      "Validation Set:\n",
      "    Average Loss:  0.587931,    Accuracy: 68.86%,    Correct Counter: 157/228,    F1 Score: 0.74,    Precision: 0.63,    Recall:  0.89 \n",
      "\n",
      "Epoch 19/500\n"
     ]
    },
    {
     "name": "stderr",
     "output_type": "stream",
     "text": [
      "Batch in Progress: 100%|█████████████████████████████████████████| 115/115 [00:00<00:00, 139.77it/s]\n",
      "Batch in Progress: 100%|███████████████████████████████████████████| 29/29 [00:00<00:00, 214.10it/s]\n",
      "Batch in Progress:   0%|                                                    | 0/115 [00:00<?, ?it/s]"
     ]
    },
    {
     "name": "stdout",
     "output_type": "stream",
     "text": [
      "Train Set:\n",
      "    Average Loss:  0.535520,    Accuracy: 70.93%,    Correct Counter: 649/915,    F1 Score: 0.75,    Precision: 0.65,    Recall:  0.89 \n",
      "\n",
      "Validation Set:\n",
      "    Average Loss:  0.588572,    Accuracy: 68.86%,    Correct Counter: 157/228,    F1 Score: 0.74,    Precision: 0.63,    Recall:  0.89 \n",
      "\n",
      "Epoch 20/500\n"
     ]
    },
    {
     "name": "stderr",
     "output_type": "stream",
     "text": [
      "Batch in Progress: 100%|█████████████████████████████████████████| 115/115 [00:00<00:00, 141.90it/s]\n",
      "Batch in Progress: 100%|███████████████████████████████████████████| 29/29 [00:00<00:00, 199.22it/s]\n",
      "Batch in Progress:   0%|                                                    | 0/115 [00:00<?, ?it/s]"
     ]
    },
    {
     "name": "stdout",
     "output_type": "stream",
     "text": [
      "Train Set:\n",
      "    Average Loss:  0.535020,    Accuracy: 70.82%,    Correct Counter: 648/915,    F1 Score: 0.75,    Precision: 0.64,    Recall:  0.89 \n",
      "\n",
      "Validation Set:\n",
      "    Average Loss:  0.589170,    Accuracy: 68.86%,    Correct Counter: 157/228,    F1 Score: 0.74,    Precision: 0.63,    Recall:  0.89 \n",
      "\n",
      "Epoch 21/500\n"
     ]
    },
    {
     "name": "stderr",
     "output_type": "stream",
     "text": [
      "Batch in Progress: 100%|█████████████████████████████████████████| 115/115 [00:00<00:00, 140.81it/s]\n",
      "Batch in Progress: 100%|███████████████████████████████████████████| 29/29 [00:00<00:00, 217.04it/s]\n",
      "Batch in Progress:   0%|                                                    | 0/115 [00:00<?, ?it/s]"
     ]
    },
    {
     "name": "stdout",
     "output_type": "stream",
     "text": [
      "Train Set:\n",
      "    Average Loss:  0.534625,    Accuracy: 70.71%,    Correct Counter: 647/915,    F1 Score: 0.75,    Precision: 0.64,    Recall:  0.89 \n",
      "\n",
      "Validation Set:\n",
      "    Average Loss:  0.589703,    Accuracy: 68.86%,    Correct Counter: 157/228,    F1 Score: 0.74,    Precision: 0.63,    Recall:  0.89 \n",
      "\n",
      "Epoch 22/500\n"
     ]
    },
    {
     "name": "stderr",
     "output_type": "stream",
     "text": [
      "Batch in Progress: 100%|█████████████████████████████████████████| 115/115 [00:00<00:00, 141.91it/s]\n",
      "Batch in Progress: 100%|███████████████████████████████████████████| 29/29 [00:00<00:00, 217.00it/s]\n",
      "Batch in Progress:   0%|                                                    | 0/115 [00:00<?, ?it/s]"
     ]
    },
    {
     "name": "stdout",
     "output_type": "stream",
     "text": [
      "Train Set:\n",
      "    Average Loss:  0.534310,    Accuracy: 70.71%,    Correct Counter: 647/915,    F1 Score: 0.75,    Precision: 0.64,    Recall:  0.89 \n",
      "\n",
      "Validation Set:\n",
      "    Average Loss:  0.590189,    Accuracy: 68.86%,    Correct Counter: 157/228,    F1 Score: 0.74,    Precision: 0.63,    Recall:  0.89 \n",
      "\n",
      "Epoch 23/500\n"
     ]
    },
    {
     "name": "stderr",
     "output_type": "stream",
     "text": [
      "Batch in Progress: 100%|█████████████████████████████████████████| 115/115 [00:00<00:00, 144.97it/s]\n",
      "Batch in Progress: 100%|███████████████████████████████████████████| 29/29 [00:00<00:00, 214.75it/s]\n",
      "Batch in Progress:   0%|                                                    | 0/115 [00:00<?, ?it/s]"
     ]
    },
    {
     "name": "stdout",
     "output_type": "stream",
     "text": [
      "Train Set:\n",
      "    Average Loss:  0.534047,    Accuracy: 70.93%,    Correct Counter: 649/915,    F1 Score: 0.75,    Precision: 0.64,    Recall:  0.90 \n",
      "\n",
      "Validation Set:\n",
      "    Average Loss:  0.590616,    Accuracy: 68.86%,    Correct Counter: 157/228,    F1 Score: 0.74,    Precision: 0.63,    Recall:  0.89 \n",
      "\n",
      "Epoch 24/500\n"
     ]
    },
    {
     "name": "stderr",
     "output_type": "stream",
     "text": [
      "Batch in Progress: 100%|█████████████████████████████████████████| 115/115 [00:00<00:00, 143.81it/s]\n",
      "Batch in Progress: 100%|███████████████████████████████████████████| 29/29 [00:00<00:00, 216.66it/s]\n",
      "Batch in Progress:   0%|                                                    | 0/115 [00:00<?, ?it/s]"
     ]
    },
    {
     "name": "stdout",
     "output_type": "stream",
     "text": [
      "Train Set:\n",
      "    Average Loss:  0.533827,    Accuracy: 70.93%,    Correct Counter: 649/915,    F1 Score: 0.75,    Precision: 0.64,    Recall:  0.90 \n",
      "\n",
      "Validation Set:\n",
      "    Average Loss:  0.591019,    Accuracy: 68.86%,    Correct Counter: 157/228,    F1 Score: 0.74,    Precision: 0.63,    Recall:  0.89 \n",
      "\n",
      "Epoch 25/500\n"
     ]
    },
    {
     "name": "stderr",
     "output_type": "stream",
     "text": [
      "Batch in Progress: 100%|█████████████████████████████████████████| 115/115 [00:00<00:00, 145.16it/s]\n",
      "Batch in Progress: 100%|███████████████████████████████████████████| 29/29 [00:00<00:00, 215.81it/s]\n",
      "Batch in Progress:   0%|                                                    | 0/115 [00:00<?, ?it/s]"
     ]
    },
    {
     "name": "stdout",
     "output_type": "stream",
     "text": [
      "Train Set:\n",
      "    Average Loss:  0.533636,    Accuracy: 70.93%,    Correct Counter: 649/915,    F1 Score: 0.75,    Precision: 0.64,    Recall:  0.90 \n",
      "\n",
      "Validation Set:\n",
      "    Average Loss:  0.591363,    Accuracy: 68.86%,    Correct Counter: 157/228,    F1 Score: 0.74,    Precision: 0.63,    Recall:  0.89 \n",
      "\n",
      "Epoch 26/500\n"
     ]
    },
    {
     "name": "stderr",
     "output_type": "stream",
     "text": [
      "Batch in Progress: 100%|█████████████████████████████████████████| 115/115 [00:00<00:00, 144.26it/s]\n",
      "Batch in Progress: 100%|███████████████████████████████████████████| 29/29 [00:00<00:00, 199.84it/s]\n",
      "Batch in Progress:   0%|                                                    | 0/115 [00:00<?, ?it/s]"
     ]
    },
    {
     "name": "stdout",
     "output_type": "stream",
     "text": [
      "Train Set:\n",
      "    Average Loss:  0.533470,    Accuracy: 70.93%,    Correct Counter: 649/915,    F1 Score: 0.75,    Precision: 0.64,    Recall:  0.90 \n",
      "\n",
      "Validation Set:\n",
      "    Average Loss:  0.591648,    Accuracy: 68.86%,    Correct Counter: 157/228,    F1 Score: 0.74,    Precision: 0.63,    Recall:  0.89 \n",
      "\n",
      "Epoch 27/500\n"
     ]
    },
    {
     "name": "stderr",
     "output_type": "stream",
     "text": [
      "Batch in Progress: 100%|█████████████████████████████████████████| 115/115 [00:00<00:00, 142.96it/s]\n",
      "Batch in Progress: 100%|███████████████████████████████████████████| 29/29 [00:00<00:00, 214.25it/s]\n",
      "Batch in Progress:   0%|                                                    | 0/115 [00:00<?, ?it/s]"
     ]
    },
    {
     "name": "stdout",
     "output_type": "stream",
     "text": [
      "Train Set:\n",
      "    Average Loss:  0.533318,    Accuracy: 70.93%,    Correct Counter: 649/915,    F1 Score: 0.75,    Precision: 0.64,    Recall:  0.90 \n",
      "\n",
      "Validation Set:\n",
      "    Average Loss:  0.591901,    Accuracy: 68.42%,    Correct Counter: 156/228,    F1 Score: 0.74,    Precision: 0.63,    Recall:  0.89 \n",
      "\n",
      "Epoch 28/500\n"
     ]
    },
    {
     "name": "stderr",
     "output_type": "stream",
     "text": [
      "Batch in Progress: 100%|█████████████████████████████████████████| 115/115 [00:00<00:00, 145.51it/s]\n",
      "Batch in Progress: 100%|███████████████████████████████████████████| 29/29 [00:00<00:00, 215.50it/s]\n",
      "Batch in Progress:   0%|                                                    | 0/115 [00:00<?, ?it/s]"
     ]
    },
    {
     "name": "stdout",
     "output_type": "stream",
     "text": [
      "Train Set:\n",
      "    Average Loss:  0.533175,    Accuracy: 70.93%,    Correct Counter: 649/915,    F1 Score: 0.75,    Precision: 0.64,    Recall:  0.90 \n",
      "\n",
      "Validation Set:\n",
      "    Average Loss:  0.592145,    Accuracy: 68.42%,    Correct Counter: 156/228,    F1 Score: 0.74,    Precision: 0.63,    Recall:  0.89 \n",
      "\n",
      "Epoch 29/500\n"
     ]
    },
    {
     "name": "stderr",
     "output_type": "stream",
     "text": [
      "Batch in Progress: 100%|█████████████████████████████████████████| 115/115 [00:00<00:00, 136.56it/s]\n",
      "Batch in Progress: 100%|███████████████████████████████████████████| 29/29 [00:00<00:00, 210.71it/s]\n",
      "Batch in Progress:   0%|                                                    | 0/115 [00:00<?, ?it/s]"
     ]
    },
    {
     "name": "stdout",
     "output_type": "stream",
     "text": [
      "Train Set:\n",
      "    Average Loss:  0.533043,    Accuracy: 70.93%,    Correct Counter: 649/915,    F1 Score: 0.75,    Precision: 0.64,    Recall:  0.90 \n",
      "\n",
      "Validation Set:\n",
      "    Average Loss:  0.592373,    Accuracy: 68.42%,    Correct Counter: 156/228,    F1 Score: 0.74,    Precision: 0.63,    Recall:  0.89 \n",
      "\n",
      "Epoch 30/500\n"
     ]
    },
    {
     "name": "stderr",
     "output_type": "stream",
     "text": [
      "Batch in Progress: 100%|█████████████████████████████████████████| 115/115 [00:00<00:00, 134.03it/s]\n",
      "Batch in Progress: 100%|███████████████████████████████████████████| 29/29 [00:00<00:00, 218.14it/s]\n",
      "Batch in Progress:   0%|                                                    | 0/115 [00:00<?, ?it/s]"
     ]
    },
    {
     "name": "stdout",
     "output_type": "stream",
     "text": [
      "Train Set:\n",
      "    Average Loss:  0.532926,    Accuracy: 70.93%,    Correct Counter: 649/915,    F1 Score: 0.75,    Precision: 0.64,    Recall:  0.90 \n",
      "\n",
      "Validation Set:\n",
      "    Average Loss:  0.592588,    Accuracy: 68.42%,    Correct Counter: 156/228,    F1 Score: 0.74,    Precision: 0.63,    Recall:  0.89 \n",
      "\n",
      "Epoch 31/500\n"
     ]
    },
    {
     "name": "stderr",
     "output_type": "stream",
     "text": [
      "Batch in Progress: 100%|█████████████████████████████████████████| 115/115 [00:00<00:00, 143.40it/s]\n",
      "Batch in Progress: 100%|███████████████████████████████████████████| 29/29 [00:00<00:00, 216.68it/s]\n",
      "Batch in Progress:   0%|                                                    | 0/115 [00:00<?, ?it/s]"
     ]
    },
    {
     "name": "stdout",
     "output_type": "stream",
     "text": [
      "Train Set:\n",
      "    Average Loss:  0.532821,    Accuracy: 70.93%,    Correct Counter: 649/915,    F1 Score: 0.75,    Precision: 0.64,    Recall:  0.90 \n",
      "\n",
      "Validation Set:\n",
      "    Average Loss:  0.592791,    Accuracy: 68.42%,    Correct Counter: 156/228,    F1 Score: 0.74,    Precision: 0.63,    Recall:  0.89 \n",
      "\n",
      "Epoch 32/500\n"
     ]
    },
    {
     "name": "stderr",
     "output_type": "stream",
     "text": [
      "Batch in Progress: 100%|█████████████████████████████████████████| 115/115 [00:00<00:00, 143.42it/s]\n",
      "Batch in Progress: 100%|███████████████████████████████████████████| 29/29 [00:00<00:00, 207.77it/s]\n",
      "Batch in Progress:   0%|                                                    | 0/115 [00:00<?, ?it/s]"
     ]
    },
    {
     "name": "stdout",
     "output_type": "stream",
     "text": [
      "Train Set:\n",
      "    Average Loss:  0.532723,    Accuracy: 70.93%,    Correct Counter: 649/915,    F1 Score: 0.75,    Precision: 0.64,    Recall:  0.90 \n",
      "\n",
      "Validation Set:\n",
      "    Average Loss:  0.592974,    Accuracy: 68.42%,    Correct Counter: 156/228,    F1 Score: 0.74,    Precision: 0.63,    Recall:  0.89 \n",
      "\n",
      "Epoch 33/500\n"
     ]
    },
    {
     "name": "stderr",
     "output_type": "stream",
     "text": [
      "Batch in Progress: 100%|█████████████████████████████████████████| 115/115 [00:00<00:00, 143.85it/s]\n",
      "Batch in Progress: 100%|███████████████████████████████████████████| 29/29 [00:00<00:00, 209.61it/s]\n",
      "Batch in Progress:   0%|                                                    | 0/115 [00:00<?, ?it/s]"
     ]
    },
    {
     "name": "stdout",
     "output_type": "stream",
     "text": [
      "Train Set:\n",
      "    Average Loss:  0.532631,    Accuracy: 70.93%,    Correct Counter: 649/915,    F1 Score: 0.75,    Precision: 0.64,    Recall:  0.90 \n",
      "\n",
      "Validation Set:\n",
      "    Average Loss:  0.593139,    Accuracy: 68.42%,    Correct Counter: 156/228,    F1 Score: 0.74,    Precision: 0.63,    Recall:  0.89 \n",
      "\n",
      "Epoch 34/500\n"
     ]
    },
    {
     "name": "stderr",
     "output_type": "stream",
     "text": [
      "Batch in Progress: 100%|█████████████████████████████████████████| 115/115 [00:00<00:00, 139.91it/s]\n",
      "Batch in Progress: 100%|███████████████████████████████████████████| 29/29 [00:00<00:00, 214.14it/s]\n",
      "Batch in Progress:   0%|                                                    | 0/115 [00:00<?, ?it/s]"
     ]
    },
    {
     "name": "stdout",
     "output_type": "stream",
     "text": [
      "Train Set:\n",
      "    Average Loss:  0.532542,    Accuracy: 70.93%,    Correct Counter: 649/915,    F1 Score: 0.75,    Precision: 0.64,    Recall:  0.90 \n",
      "\n",
      "Validation Set:\n",
      "    Average Loss:  0.593286,    Accuracy: 68.42%,    Correct Counter: 156/228,    F1 Score: 0.74,    Precision: 0.63,    Recall:  0.89 \n",
      "\n",
      "Epoch 35/500\n"
     ]
    },
    {
     "name": "stderr",
     "output_type": "stream",
     "text": [
      "Batch in Progress: 100%|█████████████████████████████████████████| 115/115 [00:00<00:00, 144.20it/s]\n",
      "Batch in Progress: 100%|███████████████████████████████████████████| 29/29 [00:00<00:00, 214.84it/s]\n",
      "Batch in Progress:   0%|                                                    | 0/115 [00:00<?, ?it/s]"
     ]
    },
    {
     "name": "stdout",
     "output_type": "stream",
     "text": [
      "Train Set:\n",
      "    Average Loss:  0.532457,    Accuracy: 70.93%,    Correct Counter: 649/915,    F1 Score: 0.75,    Precision: 0.64,    Recall:  0.90 \n",
      "\n",
      "Validation Set:\n",
      "    Average Loss:  0.593414,    Accuracy: 68.42%,    Correct Counter: 156/228,    F1 Score: 0.74,    Precision: 0.63,    Recall:  0.89 \n",
      "\n",
      "Epoch 36/500\n"
     ]
    },
    {
     "name": "stderr",
     "output_type": "stream",
     "text": [
      "Batch in Progress: 100%|█████████████████████████████████████████| 115/115 [00:00<00:00, 143.38it/s]\n",
      "Batch in Progress: 100%|███████████████████████████████████████████| 29/29 [00:00<00:00, 212.34it/s]\n",
      "Batch in Progress:   0%|                                                    | 0/115 [00:00<?, ?it/s]"
     ]
    },
    {
     "name": "stdout",
     "output_type": "stream",
     "text": [
      "Train Set:\n",
      "    Average Loss:  0.532376,    Accuracy: 70.93%,    Correct Counter: 649/915,    F1 Score: 0.75,    Precision: 0.64,    Recall:  0.90 \n",
      "\n",
      "Validation Set:\n",
      "    Average Loss:  0.593523,    Accuracy: 68.42%,    Correct Counter: 156/228,    F1 Score: 0.74,    Precision: 0.63,    Recall:  0.89 \n",
      "\n",
      "Epoch 37/500\n"
     ]
    },
    {
     "name": "stderr",
     "output_type": "stream",
     "text": [
      "Batch in Progress: 100%|█████████████████████████████████████████| 115/115 [00:00<00:00, 138.02it/s]\n",
      "Batch in Progress: 100%|███████████████████████████████████████████| 29/29 [00:00<00:00, 213.92it/s]\n",
      "Batch in Progress:   0%|                                                    | 0/115 [00:00<?, ?it/s]"
     ]
    },
    {
     "name": "stdout",
     "output_type": "stream",
     "text": [
      "Train Set:\n",
      "    Average Loss:  0.532298,    Accuracy: 70.93%,    Correct Counter: 649/915,    F1 Score: 0.75,    Precision: 0.64,    Recall:  0.90 \n",
      "\n",
      "Validation Set:\n",
      "    Average Loss:  0.593627,    Accuracy: 68.42%,    Correct Counter: 156/228,    F1 Score: 0.74,    Precision: 0.63,    Recall:  0.89 \n",
      "\n",
      "Epoch 38/500\n"
     ]
    },
    {
     "name": "stderr",
     "output_type": "stream",
     "text": [
      "Batch in Progress: 100%|█████████████████████████████████████████| 115/115 [00:00<00:00, 142.64it/s]\n",
      "Batch in Progress: 100%|███████████████████████████████████████████| 29/29 [00:00<00:00, 215.49it/s]\n",
      "Batch in Progress:   0%|                                                    | 0/115 [00:00<?, ?it/s]"
     ]
    },
    {
     "name": "stdout",
     "output_type": "stream",
     "text": [
      "Train Set:\n",
      "    Average Loss:  0.532224,    Accuracy: 70.93%,    Correct Counter: 649/915,    F1 Score: 0.75,    Precision: 0.64,    Recall:  0.90 \n",
      "\n",
      "Validation Set:\n",
      "    Average Loss:  0.593727,    Accuracy: 68.42%,    Correct Counter: 156/228,    F1 Score: 0.74,    Precision: 0.63,    Recall:  0.89 \n",
      "\n",
      "Epoch 39/500\n"
     ]
    },
    {
     "name": "stderr",
     "output_type": "stream",
     "text": [
      "Batch in Progress: 100%|█████████████████████████████████████████| 115/115 [00:00<00:00, 143.80it/s]\n",
      "Batch in Progress: 100%|███████████████████████████████████████████| 29/29 [00:00<00:00, 213.10it/s]\n",
      "Batch in Progress:   0%|                                                    | 0/115 [00:00<?, ?it/s]"
     ]
    },
    {
     "name": "stdout",
     "output_type": "stream",
     "text": [
      "Train Set:\n",
      "    Average Loss:  0.532151,    Accuracy: 70.93%,    Correct Counter: 649/915,    F1 Score: 0.75,    Precision: 0.64,    Recall:  0.90 \n",
      "\n",
      "Validation Set:\n",
      "    Average Loss:  0.593822,    Accuracy: 68.42%,    Correct Counter: 156/228,    F1 Score: 0.74,    Precision: 0.63,    Recall:  0.89 \n",
      "\n",
      "Epoch 40/500\n"
     ]
    },
    {
     "name": "stderr",
     "output_type": "stream",
     "text": [
      "Batch in Progress: 100%|█████████████████████████████████████████| 115/115 [00:00<00:00, 143.14it/s]\n",
      "Batch in Progress: 100%|███████████████████████████████████████████| 29/29 [00:00<00:00, 200.05it/s]"
     ]
    },
    {
     "name": "stdout",
     "output_type": "stream",
     "text": [
      "Train Set:\n",
      "    Average Loss:  0.532082,    Accuracy: 70.93%,    Correct Counter: 649/915,    F1 Score: 0.75,    Precision: 0.64,    Recall:  0.90 \n",
      "\n",
      "Validation Set:\n",
      "    Average Loss:  0.593907,    Accuracy: 68.42%,    Correct Counter: 156/228,    F1 Score: 0.74,    Precision: 0.63,    Recall:  0.89 \n",
      "\n"
     ]
    },
    {
     "name": "stderr",
     "output_type": "stream",
     "text": [
      "\n"
     ]
    }
   ],
   "source": [
    "metrics = train_val(epochs=epochs, models=models, train_loader=train_loader, val_loader=test_loader, \n",
    "                    criterion=criterion, optimizer=optimizer, device=device, early_stop=early_stop)"
   ]
  },
  {
   "cell_type": "code",
   "execution_count": 25,
   "metadata": {},
   "outputs": [],
   "source": [
    "torch.save(tabular_model.state_dict(), MODELS_PATH + r'\\DemographicFCNN.pth')"
   ]
  }
 ],
 "metadata": {
  "kernelspec": {
   "display_name": "Python 3",
   "language": "python",
   "name": "python3"
  },
  "language_info": {
   "codemirror_mode": {
    "name": "ipython",
    "version": 3
   },
   "file_extension": ".py",
   "mimetype": "text/x-python",
   "name": "python",
   "nbconvert_exporter": "python",
   "pygments_lexer": "ipython3",
   "version": "3.8.5"
  }
 },
 "nbformat": 4,
 "nbformat_minor": 4
}
