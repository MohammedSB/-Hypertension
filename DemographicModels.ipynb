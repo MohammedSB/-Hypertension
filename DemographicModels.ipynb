{
 "cells": [
  {
   "cell_type": "code",
   "execution_count": 4,
   "metadata": {},
   "outputs": [],
   "source": [
    "from Utils.Utils import *\n",
    "from Utils.Blacksmith import * \n",
    "\n",
    "from Utils.HyMNet import HyMNet"
   ]
  },
  {
   "cell_type": "code",
   "execution_count": 5,
   "metadata": {},
   "outputs": [],
   "source": [
    "# Seed\n",
    "set_seed(0)"
   ]
  },
  {
   "cell_type": "code",
   "execution_count": 6,
   "metadata": {},
   "outputs": [],
   "source": [
    "device = torch.device(\"cuda\" if torch.cuda.is_available() else \"cpu\")"
   ]
  },
  {
   "cell_type": "code",
   "execution_count": 7,
   "metadata": {},
   "outputs": [],
   "source": [
    "PATH = \"/home/baharoon/HTN/data/\"\n",
    "CSV_PATH = {\"HTNPath\": PATH + r\"HTN\", \"NonHTNPath\": PATH + \"NonHTN\"}\n",
    "\n",
    "MODELS_PATH = \"/home/baharoon/HTN/Models\"\n",
    "\n",
    "os.makedirs(MODELS_PATH, exist_ok=True)"
   ]
  },
  {
   "cell_type": "code",
   "execution_count": 8,
   "metadata": {},
   "outputs": [
    {
     "name": "stderr",
     "output_type": "stream",
     "text": [
      "/home/baharoon/HTN/HyMNet/Utils/Utils.py:198: SettingWithCopyWarning: \n",
      "A value is trying to be set on a copy of a slice from a DataFrame.\n",
      "Try using .loc[row_indexer,col_indexer] = value instead\n",
      "\n",
      "See the caveats in the documentation: https://pandas.pydata.org/pandas-docs/stable/user_guide/indexing.html#returning-a-view-versus-a-copy\n",
      "  df['HTN_DM'] = df['HTN'].astype(str) + df['DM'].astype(str)\n",
      "/home/baharoon/HTN/HyMNet/Utils/Utils.py:198: SettingWithCopyWarning: \n",
      "A value is trying to be set on a copy of a slice from a DataFrame.\n",
      "Try using .loc[row_indexer,col_indexer] = value instead\n",
      "\n",
      "See the caveats in the documentation: https://pandas.pydata.org/pandas-docs/stable/user_guide/indexing.html#returning-a-view-versus-a-copy\n",
      "  df['HTN_DM'] = df['HTN'].astype(str) + df['DM'].astype(str)\n"
     ]
    }
   ],
   "source": [
    "BATCH_SIZE = 16\n",
    "\n",
    "train_transform = T.Compose([\n",
    "    T.Resize((256, 256)),\n",
    "    T.CenterCrop(224),\n",
    "    T.ToTensor(),\n",
    "    T.RandomHorizontalFlip(0.5),\n",
    "    T.RandomRotation(degrees=(0, 360)),\n",
    "    T.GaussianBlur(3),\n",
    "    T.Normalize(mean=[0.485, 0.456, 0.406], std=[0.229, 0.224, 0.225]),\n",
    "])\n",
    "\n",
    "test_transform = T.Compose([\n",
    "    T.Resize((256, 256)),\n",
    "    T.CenterCrop(224),\n",
    "    T.ToTensor(),\n",
    "    T.Normalize(mean=[0.485, 0.456, 0.406], std=[0.229, 0.224, 0.225]),\n",
    "])\n",
    "\n",
    "train_dataset = HypertensionDataset(CSV_PATH, split=\"train\", train_transform=train_transform, tabular_only=True)\n",
    "val_dataset = HypertensionDataset(CSV_PATH, split=\"val\", test_transform=test_transform, tabular_only=True)\n",
    "\n",
    "train_x, train_y = train_dataset.df[[\"Age\", \"Gender\"]], train_dataset.df[\"HTN\"]\n",
    "val_x, val_y = val_dataset.df[[\"Age\", \"Gender\"]], val_dataset.df[\"HTN\"]\n",
    "\n",
    "train_x, train_y = pd.concat([train_x, val_x]), pd.concat([train_y, val_y])"
   ]
  },
  {
   "cell_type": "markdown",
   "metadata": {},
   "source": [
    "# XGBoost"
   ]
  },
  {
   "cell_type": "code",
   "execution_count": 18,
   "metadata": {},
   "outputs": [],
   "source": [
    "boost = xgb.XGBClassifier(device=\"cuda\", objective=\"binary:logistic\")"
   ]
  },
  {
   "cell_type": "code",
   "execution_count": 19,
   "metadata": {},
   "outputs": [
    {
     "name": "stdout",
     "output_type": "stream",
     "text": [
      "Fitting 5 folds for each of 144 candidates, totalling 720 fits\n"
     ]
    },
    {
     "name": "stderr",
     "output_type": "stream",
     "text": [
      "[Parallel(n_jobs=1)]: Using backend SequentialBackend with 1 concurrent workers.\n",
      "[Parallel(n_jobs=1)]: Done 720 out of 720 | elapsed:  3.6min finished\n"
     ]
    },
    {
     "name": "stdout",
     "output_type": "stream",
     "text": [
      "0.6876565784239242\n"
     ]
    }
   ],
   "source": [
    "param_grid = {'max_depth': [3,6,10],\n",
    "           'learning_rate': [0.0001, 0.005, 0.001, 0.005, 0.01, 0.05, 0.1, 0.3],\n",
    "           'n_estimators': [100, 500, 1000],\n",
    "           'colsample_bytree': [0.3, 0.7]}\n",
    "\n",
    "clf = GridSearchCV(estimator=boost, \n",
    "                   param_grid=param_grid,\n",
    "                   scoring='roc_auc', \n",
    "                   verbose=1)\n",
    "\n",
    "clf.fit(train_x, train_y)\n",
    "\n",
    "print(clf.best_score_)"
   ]
  },
  {
   "cell_type": "code",
   "execution_count": 21,
   "metadata": {},
   "outputs": [],
   "source": [
    "with open(MODELS_PATH+'/DemographicXGBParams.json', 'w', encoding='utf-8') as f:\n",
    "    json.dump(clf.best_params_, f, ensure_ascii=False, indent=4)"
   ]
  },
  {
   "cell_type": "markdown",
   "metadata": {},
   "source": [
    "# SVM"
   ]
  },
  {
   "cell_type": "code",
   "execution_count": 42,
   "metadata": {},
   "outputs": [],
   "source": [
    "from sklearn.svm import SVC\n",
    "svm = SVC()"
   ]
  },
  {
   "cell_type": "code",
   "execution_count": 44,
   "metadata": {},
   "outputs": [
    {
     "name": "stdout",
     "output_type": "stream",
     "text": [
      "Fitting 5 folds for each of 68 candidates, totalling 340 fits\n"
     ]
    },
    {
     "name": "stderr",
     "output_type": "stream",
     "text": [
      "[Parallel(n_jobs=1)]: Using backend SequentialBackend with 1 concurrent workers.\n"
     ]
    },
    {
     "name": "stdout",
     "output_type": "stream",
     "text": [
      "0.7003619518563511\n"
     ]
    },
    {
     "name": "stderr",
     "output_type": "stream",
     "text": [
      "[Parallel(n_jobs=1)]: Done 340 out of 340 | elapsed:  3.3min finished\n"
     ]
    }
   ],
   "source": [
    "param_grid = [\n",
    "    {'C': [1, 10, 100, 1000], 'kernel': ['linear']},\n",
    "    {'C': [1, 10, 100, 1000], 'gamma': [1, 0.1, 0.01, 0.001], 'kernel': ['rbf']},\n",
    "    {'C': [1, 10, 100, 1000], 'gamma': [1, 0.1, 0.01, 0.001], 'degree': [1,2,3], 'kernel': ['poly']}\n",
    "]\n",
    "\n",
    "clf = GridSearchCV(estimator=svm, \n",
    "                   param_grid=param_grid,\n",
    "                   scoring='roc_auc', \n",
    "                   verbose=1)\n",
    "\n",
    "clf.fit(train_x, train_y)\n",
    "\n",
    "print(clf.best_score_)"
   ]
  },
  {
   "cell_type": "code",
   "execution_count": 46,
   "metadata": {},
   "outputs": [],
   "source": [
    "with open(MODELS_PATH+'/DemographicSVMParams.json', 'w', encoding='utf-8') as f:\n",
    "    json.dump(clf.best_params_, f, ensure_ascii=False, indent=4)"
   ]
  },
  {
   "cell_type": "markdown",
   "metadata": {},
   "source": [
    "# FCNN"
   ]
  },
  {
   "cell_type": "code",
   "execution_count": 6,
   "metadata": {},
   "outputs": [],
   "source": [
    "results = {}"
   ]
  },
  {
   "cell_type": "code",
   "execution_count": 7,
   "metadata": {},
   "outputs": [],
   "source": [
    "lrs = [0.005]\n",
    "criterion = nn.BCEWithLogitsLoss()\n",
    "epochs = 250\n",
    "epoch_length = math.ceil(len(train_dataset) / BATCH_SIZE)"
   ]
  },
  {
   "cell_type": "code",
   "execution_count": 8,
   "metadata": {
    "scrolled": true
   },
   "outputs": [
    {
     "name": "stdout",
     "output_type": "stream",
     "text": [
      "Beginning Training: \n",
      "\n",
      "Epoch 1/250\n"
     ]
    },
    {
     "name": "stderr",
     "output_type": "stream",
     "text": [
      "Batch in Progress: 100%|█████████████████████████████████████████| 251/251 [00:01<00:00, 126.17it/s]\n"
     ]
    },
    {
     "name": "stdout",
     "output_type": "stream",
     "text": [
      "Train Set:\n",
      "    Average Loss:  0.666033,    Accuracy: 60.56%,    Correct Counter: 2428/4009,    F1 Score: 0.73,    Precision: 0.61,    Recall:  0.92,    AUROC:  0.54\n",
      "\n"
     ]
    },
    {
     "name": "stderr",
     "output_type": "stream",
     "text": [
      "Batch in Progress: 100%|███████████████████████████████████████████| 64/64 [00:00<00:00, 219.27it/s]\n"
     ]
    },
    {
     "name": "stdout",
     "output_type": "stream",
     "text": [
      "Validation Set:\n",
      "    Average Loss:  0.621554,    Accuracy: 67.82%,    Correct Counter: 685/1010,    F1 Score: 0.75,    Precision: 0.66,    Recall:  0.88,    AUROC:  0.65\n",
      "\n",
      "Epoch 2/250\n"
     ]
    },
    {
     "name": "stderr",
     "output_type": "stream",
     "text": [
      "Batch in Progress: 100%|█████████████████████████████████████████| 251/251 [00:01<00:00, 181.03it/s]\n"
     ]
    },
    {
     "name": "stdout",
     "output_type": "stream",
     "text": [
      "Train Set:\n",
      "    Average Loss:  0.647104,    Accuracy: 64.73%,    Correct Counter: 2595/4009,    F1 Score: 0.76,    Precision: 0.63,    Recall:  0.93,    AUROC:  0.59\n",
      "\n"
     ]
    },
    {
     "name": "stderr",
     "output_type": "stream",
     "text": [
      "Batch in Progress: 100%|███████████████████████████████████████████| 64/64 [00:00<00:00, 217.88it/s]\n"
     ]
    },
    {
     "name": "stdout",
     "output_type": "stream",
     "text": [
      "Validation Set:\n",
      "    Average Loss:  0.609549,    Accuracy: 68.81%,    Correct Counter: 695/1010,    F1 Score: 0.76,    Precision: 0.67,    Recall:  0.88,    AUROC:  0.66\n",
      "\n",
      "Epoch 3/250\n"
     ]
    },
    {
     "name": "stderr",
     "output_type": "stream",
     "text": [
      "Batch in Progress: 100%|█████████████████████████████████████████| 251/251 [00:01<00:00, 181.06it/s]\n"
     ]
    },
    {
     "name": "stdout",
     "output_type": "stream",
     "text": [
      "Train Set:\n",
      "    Average Loss:  0.646523,    Accuracy: 65.18%,    Correct Counter: 2613/4009,    F1 Score: 0.75,    Precision: 0.64,    Recall:  0.92,    AUROC:  0.60\n",
      "\n"
     ]
    },
    {
     "name": "stderr",
     "output_type": "stream",
     "text": [
      "Batch in Progress: 100%|███████████████████████████████████████████| 64/64 [00:00<00:00, 217.86it/s]\n"
     ]
    },
    {
     "name": "stdout",
     "output_type": "stream",
     "text": [
      "Validation Set:\n",
      "    Average Loss:  0.615878,    Accuracy: 68.51%,    Correct Counter: 692/1010,    F1 Score: 0.77,    Precision: 0.65,    Recall:  0.93,    AUROC:  0.65\n",
      "\n",
      "Epoch 4/250\n"
     ]
    },
    {
     "name": "stderr",
     "output_type": "stream",
     "text": [
      "Batch in Progress: 100%|█████████████████████████████████████████| 251/251 [00:01<00:00, 181.89it/s]\n"
     ]
    },
    {
     "name": "stdout",
     "output_type": "stream",
     "text": [
      "Train Set:\n",
      "    Average Loss:  0.638936,    Accuracy: 65.90%,    Correct Counter: 2642/4009,    F1 Score: 0.76,    Precision: 0.65,    Recall:  0.91,    AUROC:  0.61\n",
      "\n"
     ]
    },
    {
     "name": "stderr",
     "output_type": "stream",
     "text": [
      "Batch in Progress: 100%|███████████████████████████████████████████| 64/64 [00:00<00:00, 217.34it/s]\n"
     ]
    },
    {
     "name": "stdout",
     "output_type": "stream",
     "text": [
      "Validation Set:\n",
      "    Average Loss:  0.622950,    Accuracy: 67.82%,    Correct Counter: 685/1010,    F1 Score: 0.77,    Precision: 0.64,    Recall:  0.97,    AUROC:  0.64\n",
      "\n",
      "Epoch 5/250\n"
     ]
    },
    {
     "name": "stderr",
     "output_type": "stream",
     "text": [
      "Batch in Progress: 100%|█████████████████████████████████████████| 251/251 [00:01<00:00, 183.05it/s]\n"
     ]
    },
    {
     "name": "stdout",
     "output_type": "stream",
     "text": [
      "Train Set:\n",
      "    Average Loss:  0.636814,    Accuracy: 67.00%,    Correct Counter: 2686/4009,    F1 Score: 0.77,    Precision: 0.65,    Recall:  0.92,    AUROC:  0.62\n",
      "\n"
     ]
    },
    {
     "name": "stderr",
     "output_type": "stream",
     "text": [
      "Batch in Progress: 100%|███████████████████████████████████████████| 64/64 [00:00<00:00, 215.99it/s]\n"
     ]
    },
    {
     "name": "stdout",
     "output_type": "stream",
     "text": [
      "Validation Set:\n",
      "    Average Loss:  0.613062,    Accuracy: 68.91%,    Correct Counter: 696/1010,    F1 Score: 0.77,    Precision: 0.65,    Recall:  0.94,    AUROC:  0.66\n",
      "\n",
      "Epoch 6/250\n"
     ]
    },
    {
     "name": "stderr",
     "output_type": "stream",
     "text": [
      "Batch in Progress: 100%|█████████████████████████████████████████| 251/251 [00:01<00:00, 184.05it/s]\n"
     ]
    },
    {
     "name": "stdout",
     "output_type": "stream",
     "text": [
      "Train Set:\n",
      "    Average Loss:  0.626517,    Accuracy: 67.45%,    Correct Counter: 2704/4009,    F1 Score: 0.77,    Precision: 0.66,    Recall:  0.93,    AUROC:  0.62\n",
      "\n"
     ]
    },
    {
     "name": "stderr",
     "output_type": "stream",
     "text": [
      "Batch in Progress: 100%|███████████████████████████████████████████| 64/64 [00:00<00:00, 217.84it/s]\n"
     ]
    },
    {
     "name": "stdout",
     "output_type": "stream",
     "text": [
      "Validation Set:\n",
      "    Average Loss:  0.610492,    Accuracy: 68.51%,    Correct Counter: 692/1010,    F1 Score: 0.77,    Precision: 0.65,    Recall:  0.92,    AUROC:  0.66\n",
      "\n",
      "Epoch 7/250\n"
     ]
    },
    {
     "name": "stderr",
     "output_type": "stream",
     "text": [
      "Batch in Progress: 100%|█████████████████████████████████████████| 251/251 [00:01<00:00, 184.27it/s]\n"
     ]
    },
    {
     "name": "stdout",
     "output_type": "stream",
     "text": [
      "Train Set:\n",
      "    Average Loss:  0.626308,    Accuracy: 66.82%,    Correct Counter: 2679/4009,    F1 Score: 0.76,    Precision: 0.65,    Recall:  0.92,    AUROC:  0.62\n",
      "\n"
     ]
    },
    {
     "name": "stderr",
     "output_type": "stream",
     "text": [
      "Batch in Progress: 100%|███████████████████████████████████████████| 64/64 [00:00<00:00, 219.65it/s]\n"
     ]
    },
    {
     "name": "stdout",
     "output_type": "stream",
     "text": [
      "Validation Set:\n",
      "    Average Loss:  0.599669,    Accuracy: 67.82%,    Correct Counter: 685/1010,    F1 Score: 0.75,    Precision: 0.66,    Recall:  0.88,    AUROC:  0.65\n",
      "\n",
      "Epoch 8/250\n"
     ]
    },
    {
     "name": "stderr",
     "output_type": "stream",
     "text": [
      "Batch in Progress: 100%|█████████████████████████████████████████| 251/251 [00:01<00:00, 182.62it/s]\n"
     ]
    },
    {
     "name": "stdout",
     "output_type": "stream",
     "text": [
      "Train Set:\n",
      "    Average Loss:  0.634420,    Accuracy: 66.90%,    Correct Counter: 2682/4009,    F1 Score: 0.77,    Precision: 0.65,    Recall:  0.93,    AUROC:  0.62\n",
      "\n"
     ]
    },
    {
     "name": "stderr",
     "output_type": "stream",
     "text": [
      "Batch in Progress: 100%|███████████████████████████████████████████| 64/64 [00:00<00:00, 218.08it/s]\n"
     ]
    },
    {
     "name": "stdout",
     "output_type": "stream",
     "text": [
      "Validation Set:\n",
      "    Average Loss:  0.612464,    Accuracy: 68.71%,    Correct Counter: 694/1010,    F1 Score: 0.77,    Precision: 0.66,    Recall:  0.92,    AUROC:  0.66\n",
      "\n",
      "Epoch 9/250\n"
     ]
    },
    {
     "name": "stderr",
     "output_type": "stream",
     "text": [
      "Batch in Progress: 100%|█████████████████████████████████████████| 251/251 [00:01<00:00, 181.74it/s]\n"
     ]
    },
    {
     "name": "stdout",
     "output_type": "stream",
     "text": [
      "Train Set:\n",
      "    Average Loss:  0.626835,    Accuracy: 67.17%,    Correct Counter: 2693/4009,    F1 Score: 0.77,    Precision: 0.66,    Recall:  0.92,    AUROC:  0.62\n",
      "\n"
     ]
    },
    {
     "name": "stderr",
     "output_type": "stream",
     "text": [
      "Batch in Progress: 100%|███████████████████████████████████████████| 64/64 [00:00<00:00, 218.35it/s]\n"
     ]
    },
    {
     "name": "stdout",
     "output_type": "stream",
     "text": [
      "Validation Set:\n",
      "    Average Loss:  0.616406,    Accuracy: 69.80%,    Correct Counter: 705/1010,    F1 Score: 0.78,    Precision: 0.66,    Recall:  0.96,    AUROC:  0.67\n",
      "\n",
      "Epoch 10/250\n"
     ]
    },
    {
     "name": "stderr",
     "output_type": "stream",
     "text": [
      "Batch in Progress: 100%|█████████████████████████████████████████| 251/251 [00:01<00:00, 183.67it/s]\n"
     ]
    },
    {
     "name": "stdout",
     "output_type": "stream",
     "text": [
      "Train Set:\n",
      "    Average Loss:  0.631192,    Accuracy: 66.95%,    Correct Counter: 2684/4009,    F1 Score: 0.77,    Precision: 0.65,    Recall:  0.93,    AUROC:  0.62\n",
      "\n"
     ]
    },
    {
     "name": "stderr",
     "output_type": "stream",
     "text": [
      "Batch in Progress: 100%|███████████████████████████████████████████| 64/64 [00:00<00:00, 218.35it/s]\n"
     ]
    },
    {
     "name": "stdout",
     "output_type": "stream",
     "text": [
      "Validation Set:\n",
      "    Average Loss:  0.608848,    Accuracy: 67.82%,    Correct Counter: 685/1010,    F1 Score: 0.75,    Precision: 0.66,    Recall:  0.88,    AUROC:  0.65\n",
      "\n",
      "Epoch 11/250\n"
     ]
    },
    {
     "name": "stderr",
     "output_type": "stream",
     "text": [
      "Batch in Progress: 100%|█████████████████████████████████████████| 251/251 [00:01<00:00, 183.31it/s]\n"
     ]
    },
    {
     "name": "stdout",
     "output_type": "stream",
     "text": [
      "Train Set:\n",
      "    Average Loss:  0.626068,    Accuracy: 67.05%,    Correct Counter: 2688/4009,    F1 Score: 0.76,    Precision: 0.66,    Recall:  0.92,    AUROC:  0.62\n",
      "\n"
     ]
    },
    {
     "name": "stderr",
     "output_type": "stream",
     "text": [
      "Batch in Progress: 100%|███████████████████████████████████████████| 64/64 [00:00<00:00, 218.67it/s]\n"
     ]
    },
    {
     "name": "stdout",
     "output_type": "stream",
     "text": [
      "Validation Set:\n",
      "    Average Loss:  0.601087,    Accuracy: 68.81%,    Correct Counter: 695/1010,    F1 Score: 0.76,    Precision: 0.67,    Recall:  0.88,    AUROC:  0.66\n",
      "\n",
      "Epoch 12/250\n"
     ]
    },
    {
     "name": "stderr",
     "output_type": "stream",
     "text": [
      "Batch in Progress: 100%|█████████████████████████████████████████| 251/251 [00:01<00:00, 180.53it/s]\n"
     ]
    },
    {
     "name": "stdout",
     "output_type": "stream",
     "text": [
      "Train Set:\n",
      "    Average Loss:  0.631453,    Accuracy: 67.05%,    Correct Counter: 2688/4009,    F1 Score: 0.77,    Precision: 0.65,    Recall:  0.93,    AUROC:  0.62\n",
      "\n"
     ]
    },
    {
     "name": "stderr",
     "output_type": "stream",
     "text": [
      "Batch in Progress: 100%|███████████████████████████████████████████| 64/64 [00:00<00:00, 209.71it/s]\n"
     ]
    },
    {
     "name": "stdout",
     "output_type": "stream",
     "text": [
      "Validation Set:\n",
      "    Average Loss:  0.608148,    Accuracy: 68.32%,    Correct Counter: 690/1010,    F1 Score: 0.76,    Precision: 0.66,    Recall:  0.91,    AUROC:  0.65\n",
      "\n",
      "Epoch 13/250\n"
     ]
    },
    {
     "name": "stderr",
     "output_type": "stream",
     "text": [
      "Batch in Progress: 100%|█████████████████████████████████████████| 251/251 [00:01<00:00, 180.08it/s]\n"
     ]
    },
    {
     "name": "stdout",
     "output_type": "stream",
     "text": [
      "Train Set:\n",
      "    Average Loss:  0.634582,    Accuracy: 66.53%,    Correct Counter: 2667/4009,    F1 Score: 0.76,    Precision: 0.65,    Recall:  0.93,    AUROC:  0.61\n",
      "\n"
     ]
    },
    {
     "name": "stderr",
     "output_type": "stream",
     "text": [
      "Batch in Progress: 100%|███████████████████████████████████████████| 64/64 [00:00<00:00, 214.75it/s]\n"
     ]
    },
    {
     "name": "stdout",
     "output_type": "stream",
     "text": [
      "Validation Set:\n",
      "    Average Loss:  0.606937,    Accuracy: 68.51%,    Correct Counter: 692/1010,    F1 Score: 0.77,    Precision: 0.65,    Recall:  0.92,    AUROC:  0.66\n",
      "\n",
      "Epoch 14/250\n"
     ]
    },
    {
     "name": "stderr",
     "output_type": "stream",
     "text": [
      "Batch in Progress: 100%|█████████████████████████████████████████| 251/251 [00:01<00:00, 182.19it/s]\n"
     ]
    },
    {
     "name": "stdout",
     "output_type": "stream",
     "text": [
      "Train Set:\n",
      "    Average Loss:  0.624416,    Accuracy: 66.58%,    Correct Counter: 2669/4009,    F1 Score: 0.76,    Precision: 0.66,    Recall:  0.90,    AUROC:  0.62\n",
      "\n"
     ]
    },
    {
     "name": "stderr",
     "output_type": "stream",
     "text": [
      "Batch in Progress: 100%|███████████████████████████████████████████| 64/64 [00:00<00:00, 217.21it/s]\n"
     ]
    },
    {
     "name": "stdout",
     "output_type": "stream",
     "text": [
      "Validation Set:\n",
      "    Average Loss:  0.602630,    Accuracy: 68.51%,    Correct Counter: 692/1010,    F1 Score: 0.77,    Precision: 0.65,    Recall:  0.92,    AUROC:  0.66\n",
      "\n",
      "Epoch 15/250\n"
     ]
    },
    {
     "name": "stderr",
     "output_type": "stream",
     "text": [
      "Batch in Progress: 100%|█████████████████████████████████████████| 251/251 [00:01<00:00, 183.24it/s]\n"
     ]
    },
    {
     "name": "stdout",
     "output_type": "stream",
     "text": [
      "Train Set:\n",
      "    Average Loss:  0.637647,    Accuracy: 66.55%,    Correct Counter: 2668/4009,    F1 Score: 0.76,    Precision: 0.65,    Recall:  0.92,    AUROC:  0.61\n",
      "\n"
     ]
    },
    {
     "name": "stderr",
     "output_type": "stream",
     "text": [
      "Batch in Progress: 100%|███████████████████████████████████████████| 64/64 [00:00<00:00, 217.24it/s]\n"
     ]
    },
    {
     "name": "stdout",
     "output_type": "stream",
     "text": [
      "Validation Set:\n",
      "    Average Loss:  0.607909,    Accuracy: 67.92%,    Correct Counter: 686/1010,    F1 Score: 0.76,    Precision: 0.65,    Recall:  0.93,    AUROC:  0.65\n",
      "\n",
      "Epoch 16/250\n"
     ]
    },
    {
     "name": "stderr",
     "output_type": "stream",
     "text": [
      "Batch in Progress: 100%|█████████████████████████████████████████| 251/251 [00:01<00:00, 181.50it/s]\n"
     ]
    },
    {
     "name": "stdout",
     "output_type": "stream",
     "text": [
      "Train Set:\n",
      "    Average Loss:  0.629896,    Accuracy: 66.30%,    Correct Counter: 2658/4009,    F1 Score: 0.76,    Precision: 0.65,    Recall:  0.92,    AUROC:  0.61\n",
      "\n"
     ]
    },
    {
     "name": "stderr",
     "output_type": "stream",
     "text": [
      "Batch in Progress: 100%|███████████████████████████████████████████| 64/64 [00:00<00:00, 214.62it/s]\n"
     ]
    },
    {
     "name": "stdout",
     "output_type": "stream",
     "text": [
      "Validation Set:\n",
      "    Average Loss:  0.607917,    Accuracy: 68.12%,    Correct Counter: 688/1010,    F1 Score: 0.76,    Precision: 0.66,    Recall:  0.90,    AUROC:  0.65\n",
      "\n",
      "Epoch 17/250\n"
     ]
    },
    {
     "name": "stderr",
     "output_type": "stream",
     "text": [
      "Batch in Progress: 100%|█████████████████████████████████████████| 251/251 [00:01<00:00, 181.98it/s]\n"
     ]
    },
    {
     "name": "stdout",
     "output_type": "stream",
     "text": [
      "Train Set:\n",
      "    Average Loss:  0.635514,    Accuracy: 67.25%,    Correct Counter: 2696/4009,    F1 Score: 0.77,    Precision: 0.65,    Recall:  0.94,    AUROC:  0.62\n",
      "\n"
     ]
    },
    {
     "name": "stderr",
     "output_type": "stream",
     "text": [
      "Batch in Progress: 100%|███████████████████████████████████████████| 64/64 [00:00<00:00, 218.24it/s]\n"
     ]
    },
    {
     "name": "stdout",
     "output_type": "stream",
     "text": [
      "Validation Set:\n",
      "    Average Loss:  0.615195,    Accuracy: 68.32%,    Correct Counter: 690/1010,    F1 Score: 0.76,    Precision: 0.65,    Recall:  0.91,    AUROC:  0.65\n",
      "\n",
      "Epoch 18/250\n"
     ]
    },
    {
     "name": "stderr",
     "output_type": "stream",
     "text": [
      "Batch in Progress: 100%|█████████████████████████████████████████| 251/251 [00:01<00:00, 183.63it/s]\n"
     ]
    },
    {
     "name": "stdout",
     "output_type": "stream",
     "text": [
      "Train Set:\n",
      "    Average Loss:  0.629349,    Accuracy: 67.32%,    Correct Counter: 2699/4009,    F1 Score: 0.77,    Precision: 0.66,    Recall:  0.92,    AUROC:  0.62\n",
      "\n"
     ]
    },
    {
     "name": "stderr",
     "output_type": "stream",
     "text": [
      "Batch in Progress: 100%|███████████████████████████████████████████| 64/64 [00:00<00:00, 218.39it/s]\n"
     ]
    },
    {
     "name": "stdout",
     "output_type": "stream",
     "text": [
      "Validation Set:\n",
      "    Average Loss:  0.608331,    Accuracy: 69.11%,    Correct Counter: 698/1010,    F1 Score: 0.76,    Precision: 0.67,    Recall:  0.88,    AUROC:  0.67\n",
      "\n",
      "Epoch 19/250\n"
     ]
    },
    {
     "name": "stderr",
     "output_type": "stream",
     "text": [
      "Batch in Progress: 100%|█████████████████████████████████████████| 251/251 [00:01<00:00, 183.36it/s]\n"
     ]
    },
    {
     "name": "stdout",
     "output_type": "stream",
     "text": [
      "Train Set:\n",
      "    Average Loss:  0.630483,    Accuracy: 67.67%,    Correct Counter: 2713/4009,    F1 Score: 0.77,    Precision: 0.66,    Recall:  0.91,    AUROC:  0.63\n",
      "\n"
     ]
    },
    {
     "name": "stderr",
     "output_type": "stream",
     "text": [
      "Batch in Progress: 100%|███████████████████████████████████████████| 64/64 [00:00<00:00, 217.77it/s]\n"
     ]
    },
    {
     "name": "stdout",
     "output_type": "stream",
     "text": [
      "Validation Set:\n",
      "    Average Loss:  0.604748,    Accuracy: 68.32%,    Correct Counter: 690/1010,    F1 Score: 0.76,    Precision: 0.65,    Recall:  0.91,    AUROC:  0.65\n",
      "\n",
      "Epoch 20/250\n"
     ]
    },
    {
     "name": "stderr",
     "output_type": "stream",
     "text": [
      "Batch in Progress: 100%|█████████████████████████████████████████| 251/251 [00:01<00:00, 183.45it/s]\n"
     ]
    },
    {
     "name": "stdout",
     "output_type": "stream",
     "text": [
      "Train Set:\n",
      "    Average Loss:  0.622338,    Accuracy: 67.45%,    Correct Counter: 2704/4009,    F1 Score: 0.77,    Precision: 0.66,    Recall:  0.92,    AUROC:  0.62\n",
      "\n"
     ]
    },
    {
     "name": "stderr",
     "output_type": "stream",
     "text": [
      "Batch in Progress: 100%|███████████████████████████████████████████| 64/64 [00:00<00:00, 218.61it/s]\n"
     ]
    },
    {
     "name": "stdout",
     "output_type": "stream",
     "text": [
      "Validation Set:\n",
      "    Average Loss:  0.592747,    Accuracy: 67.82%,    Correct Counter: 685/1010,    F1 Score: 0.75,    Precision: 0.66,    Recall:  0.88,    AUROC:  0.65\n",
      "\n",
      "Epoch 21/250\n"
     ]
    },
    {
     "name": "stderr",
     "output_type": "stream",
     "text": [
      "Batch in Progress: 100%|█████████████████████████████████████████| 251/251 [00:01<00:00, 184.14it/s]\n"
     ]
    },
    {
     "name": "stdout",
     "output_type": "stream",
     "text": [
      "Train Set:\n",
      "    Average Loss:  0.632075,    Accuracy: 67.20%,    Correct Counter: 2694/4009,    F1 Score: 0.77,    Precision: 0.66,    Recall:  0.92,    AUROC:  0.62\n",
      "\n"
     ]
    },
    {
     "name": "stderr",
     "output_type": "stream",
     "text": [
      "Batch in Progress: 100%|███████████████████████████████████████████| 64/64 [00:00<00:00, 218.47it/s]\n"
     ]
    },
    {
     "name": "stdout",
     "output_type": "stream",
     "text": [
      "Validation Set:\n",
      "    Average Loss:  0.600139,    Accuracy: 68.32%,    Correct Counter: 690/1010,    F1 Score: 0.76,    Precision: 0.66,    Recall:  0.91,    AUROC:  0.65\n",
      "\n",
      "Epoch 22/250\n"
     ]
    },
    {
     "name": "stderr",
     "output_type": "stream",
     "text": [
      "Batch in Progress: 100%|█████████████████████████████████████████| 251/251 [00:01<00:00, 184.15it/s]\n"
     ]
    },
    {
     "name": "stdout",
     "output_type": "stream",
     "text": [
      "Train Set:\n",
      "    Average Loss:  0.626159,    Accuracy: 67.02%,    Correct Counter: 2687/4009,    F1 Score: 0.76,    Precision: 0.66,    Recall:  0.90,    AUROC:  0.62\n",
      "\n"
     ]
    },
    {
     "name": "stderr",
     "output_type": "stream",
     "text": [
      "Batch in Progress: 100%|███████████████████████████████████████████| 64/64 [00:00<00:00, 216.02it/s]\n"
     ]
    },
    {
     "name": "stdout",
     "output_type": "stream",
     "text": [
      "Validation Set:\n",
      "    Average Loss:  0.602003,    Accuracy: 68.02%,    Correct Counter: 687/1010,    F1 Score: 0.75,    Precision: 0.66,    Recall:  0.88,    AUROC:  0.65\n",
      "\n",
      "Epoch 23/250\n"
     ]
    },
    {
     "name": "stderr",
     "output_type": "stream",
     "text": [
      "Batch in Progress: 100%|█████████████████████████████████████████| 251/251 [00:01<00:00, 185.67it/s]\n"
     ]
    },
    {
     "name": "stdout",
     "output_type": "stream",
     "text": [
      "Train Set:\n",
      "    Average Loss:  0.631702,    Accuracy: 67.57%,    Correct Counter: 2709/4009,    F1 Score: 0.77,    Precision: 0.66,    Recall:  0.91,    AUROC:  0.63\n",
      "\n"
     ]
    },
    {
     "name": "stderr",
     "output_type": "stream",
     "text": [
      "Batch in Progress: 100%|███████████████████████████████████████████| 64/64 [00:00<00:00, 218.42it/s]\n"
     ]
    },
    {
     "name": "stdout",
     "output_type": "stream",
     "text": [
      "Validation Set:\n",
      "    Average Loss:  0.600643,    Accuracy: 68.32%,    Correct Counter: 690/1010,    F1 Score: 0.76,    Precision: 0.66,    Recall:  0.91,    AUROC:  0.65\n",
      "\n",
      "Epoch 24/250\n"
     ]
    },
    {
     "name": "stderr",
     "output_type": "stream",
     "text": [
      "Batch in Progress: 100%|█████████████████████████████████████████| 251/251 [00:01<00:00, 184.39it/s]\n"
     ]
    },
    {
     "name": "stdout",
     "output_type": "stream",
     "text": [
      "Train Set:\n",
      "    Average Loss:  0.624198,    Accuracy: 67.32%,    Correct Counter: 2699/4009,    F1 Score: 0.77,    Precision: 0.66,    Recall:  0.91,    AUROC:  0.62\n",
      "\n"
     ]
    },
    {
     "name": "stderr",
     "output_type": "stream",
     "text": [
      "Batch in Progress: 100%|███████████████████████████████████████████| 64/64 [00:00<00:00, 217.81it/s]\n"
     ]
    },
    {
     "name": "stdout",
     "output_type": "stream",
     "text": [
      "Validation Set:\n",
      "    Average Loss:  0.599350,    Accuracy: 68.32%,    Correct Counter: 690/1010,    F1 Score: 0.76,    Precision: 0.66,    Recall:  0.91,    AUROC:  0.65\n",
      "\n",
      "Epoch 25/250\n"
     ]
    },
    {
     "name": "stderr",
     "output_type": "stream",
     "text": [
      "Batch in Progress: 100%|█████████████████████████████████████████| 251/251 [00:01<00:00, 183.82it/s]\n"
     ]
    },
    {
     "name": "stdout",
     "output_type": "stream",
     "text": [
      "Train Set:\n",
      "    Average Loss:  0.642541,    Accuracy: 67.27%,    Correct Counter: 2697/4009,    F1 Score: 0.77,    Precision: 0.66,    Recall:  0.92,    AUROC:  0.62\n",
      "\n"
     ]
    },
    {
     "name": "stderr",
     "output_type": "stream",
     "text": [
      "Batch in Progress: 100%|███████████████████████████████████████████| 64/64 [00:00<00:00, 217.43it/s]\n"
     ]
    },
    {
     "name": "stdout",
     "output_type": "stream",
     "text": [
      "Validation Set:\n",
      "    Average Loss:  0.619404,    Accuracy: 68.61%,    Correct Counter: 693/1010,    F1 Score: 0.77,    Precision: 0.65,    Recall:  0.95,    AUROC:  0.65\n",
      "\n",
      "Epoch 26/250\n"
     ]
    },
    {
     "name": "stderr",
     "output_type": "stream",
     "text": [
      "Batch in Progress: 100%|█████████████████████████████████████████| 251/251 [00:01<00:00, 183.59it/s]\n"
     ]
    },
    {
     "name": "stdout",
     "output_type": "stream",
     "text": [
      "Train Set:\n",
      "    Average Loss:  0.635276,    Accuracy: 66.40%,    Correct Counter: 2662/4009,    F1 Score: 0.76,    Precision: 0.65,    Recall:  0.93,    AUROC:  0.61\n",
      "\n"
     ]
    },
    {
     "name": "stderr",
     "output_type": "stream",
     "text": [
      "Batch in Progress: 100%|███████████████████████████████████████████| 64/64 [00:00<00:00, 217.42it/s]\n"
     ]
    },
    {
     "name": "stdout",
     "output_type": "stream",
     "text": [
      "Validation Set:\n",
      "    Average Loss:  0.636047,    Accuracy: 64.26%,    Correct Counter: 649/1010,    F1 Score: 0.75,    Precision: 0.61,    Recall:  0.97,    AUROC:  0.60\n",
      "\n",
      "Epoch 27/250\n"
     ]
    },
    {
     "name": "stderr",
     "output_type": "stream",
     "text": [
      "Batch in Progress: 100%|█████████████████████████████████████████| 251/251 [00:01<00:00, 183.18it/s]\n"
     ]
    },
    {
     "name": "stdout",
     "output_type": "stream",
     "text": [
      "Train Set:\n",
      "    Average Loss:  0.636728,    Accuracy: 66.40%,    Correct Counter: 2662/4009,    F1 Score: 0.76,    Precision: 0.65,    Recall:  0.93,    AUROC:  0.61\n",
      "\n"
     ]
    },
    {
     "name": "stderr",
     "output_type": "stream",
     "text": [
      "Batch in Progress: 100%|███████████████████████████████████████████| 64/64 [00:00<00:00, 217.91it/s]\n"
     ]
    },
    {
     "name": "stdout",
     "output_type": "stream",
     "text": [
      "Validation Set:\n",
      "    Average Loss:  0.629447,    Accuracy: 65.25%,    Correct Counter: 659/1010,    F1 Score: 0.76,    Precision: 0.62,    Recall:  0.97,    AUROC:  0.61\n",
      "\n",
      "Epoch 28/250\n"
     ]
    },
    {
     "name": "stderr",
     "output_type": "stream",
     "text": [
      "Batch in Progress: 100%|█████████████████████████████████████████| 251/251 [00:01<00:00, 183.17it/s]\n"
     ]
    },
    {
     "name": "stdout",
     "output_type": "stream",
     "text": [
      "Train Set:\n",
      "    Average Loss:  0.625211,    Accuracy: 67.15%,    Correct Counter: 2692/4009,    F1 Score: 0.77,    Precision: 0.66,    Recall:  0.92,    AUROC:  0.62\n",
      "\n"
     ]
    },
    {
     "name": "stderr",
     "output_type": "stream",
     "text": [
      "Batch in Progress: 100%|███████████████████████████████████████████| 64/64 [00:00<00:00, 218.60it/s]\n"
     ]
    },
    {
     "name": "stdout",
     "output_type": "stream",
     "text": [
      "Validation Set:\n",
      "    Average Loss:  0.600940,    Accuracy: 68.12%,    Correct Counter: 688/1010,    F1 Score: 0.76,    Precision: 0.66,    Recall:  0.90,    AUROC:  0.65\n",
      "\n",
      "Epoch 29/250\n"
     ]
    },
    {
     "name": "stderr",
     "output_type": "stream",
     "text": [
      "Batch in Progress: 100%|█████████████████████████████████████████| 251/251 [00:01<00:00, 183.25it/s]\n"
     ]
    },
    {
     "name": "stdout",
     "output_type": "stream",
     "text": [
      "Train Set:\n",
      "    Average Loss:  0.632977,    Accuracy: 66.77%,    Correct Counter: 2677/4009,    F1 Score: 0.76,    Precision: 0.65,    Recall:  0.92,    AUROC:  0.62\n",
      "\n"
     ]
    },
    {
     "name": "stderr",
     "output_type": "stream",
     "text": [
      "Batch in Progress: 100%|███████████████████████████████████████████| 64/64 [00:00<00:00, 217.71it/s]\n"
     ]
    },
    {
     "name": "stdout",
     "output_type": "stream",
     "text": [
      "Validation Set:\n",
      "    Average Loss:  0.604454,    Accuracy: 68.91%,    Correct Counter: 696/1010,    F1 Score: 0.77,    Precision: 0.65,    Recall:  0.94,    AUROC:  0.66\n",
      "\n",
      "Epoch 30/250\n"
     ]
    },
    {
     "name": "stderr",
     "output_type": "stream",
     "text": [
      "Batch in Progress: 100%|█████████████████████████████████████████| 251/251 [00:01<00:00, 181.22it/s]\n"
     ]
    },
    {
     "name": "stdout",
     "output_type": "stream",
     "text": [
      "Train Set:\n",
      "    Average Loss:  0.625785,    Accuracy: 67.55%,    Correct Counter: 2708/4009,    F1 Score: 0.77,    Precision: 0.66,    Recall:  0.92,    AUROC:  0.63\n",
      "\n"
     ]
    },
    {
     "name": "stderr",
     "output_type": "stream",
     "text": [
      "Batch in Progress: 100%|███████████████████████████████████████████| 64/64 [00:00<00:00, 215.56it/s]\n"
     ]
    },
    {
     "name": "stdout",
     "output_type": "stream",
     "text": [
      "Validation Set:\n",
      "    Average Loss:  0.606010,    Accuracy: 68.32%,    Correct Counter: 690/1010,    F1 Score: 0.77,    Precision: 0.65,    Recall:  0.94,    AUROC:  0.65\n",
      "\n",
      "Epoch 31/250\n"
     ]
    },
    {
     "name": "stderr",
     "output_type": "stream",
     "text": [
      "Batch in Progress: 100%|█████████████████████████████████████████| 251/251 [00:01<00:00, 182.15it/s]\n"
     ]
    },
    {
     "name": "stdout",
     "output_type": "stream",
     "text": [
      "Train Set:\n",
      "    Average Loss:  0.623766,    Accuracy: 67.07%,    Correct Counter: 2689/4009,    F1 Score: 0.77,    Precision: 0.65,    Recall:  0.93,    AUROC:  0.62\n",
      "\n"
     ]
    },
    {
     "name": "stderr",
     "output_type": "stream",
     "text": [
      "Batch in Progress: 100%|███████████████████████████████████████████| 64/64 [00:00<00:00, 218.96it/s]\n"
     ]
    },
    {
     "name": "stdout",
     "output_type": "stream",
     "text": [
      "Validation Set:\n",
      "    Average Loss:  0.597408,    Accuracy: 67.92%,    Correct Counter: 686/1010,    F1 Score: 0.76,    Precision: 0.65,    Recall:  0.93,    AUROC:  0.65\n",
      "\n",
      "Epoch 32/250\n"
     ]
    },
    {
     "name": "stderr",
     "output_type": "stream",
     "text": [
      "Batch in Progress: 100%|█████████████████████████████████████████| 251/251 [00:01<00:00, 184.11it/s]\n"
     ]
    },
    {
     "name": "stdout",
     "output_type": "stream",
     "text": [
      "Train Set:\n",
      "    Average Loss:  0.627441,    Accuracy: 67.45%,    Correct Counter: 2704/4009,    F1 Score: 0.77,    Precision: 0.66,    Recall:  0.93,    AUROC:  0.62\n",
      "\n"
     ]
    },
    {
     "name": "stderr",
     "output_type": "stream",
     "text": [
      "Batch in Progress: 100%|███████████████████████████████████████████| 64/64 [00:00<00:00, 218.07it/s]\n"
     ]
    },
    {
     "name": "stdout",
     "output_type": "stream",
     "text": [
      "Validation Set:\n",
      "    Average Loss:  0.605340,    Accuracy: 68.32%,    Correct Counter: 690/1010,    F1 Score: 0.77,    Precision: 0.65,    Recall:  0.94,    AUROC:  0.65\n",
      "\n",
      "Epoch 33/250\n"
     ]
    },
    {
     "name": "stderr",
     "output_type": "stream",
     "text": [
      "Batch in Progress: 100%|█████████████████████████████████████████| 251/251 [00:01<00:00, 183.90it/s]\n"
     ]
    },
    {
     "name": "stdout",
     "output_type": "stream",
     "text": [
      "Train Set:\n",
      "    Average Loss:  0.634119,    Accuracy: 66.92%,    Correct Counter: 2683/4009,    F1 Score: 0.77,    Precision: 0.65,    Recall:  0.93,    AUROC:  0.62\n",
      "\n"
     ]
    },
    {
     "name": "stderr",
     "output_type": "stream",
     "text": [
      "Batch in Progress: 100%|███████████████████████████████████████████| 64/64 [00:00<00:00, 214.53it/s]\n"
     ]
    },
    {
     "name": "stdout",
     "output_type": "stream",
     "text": [
      "Validation Set:\n",
      "    Average Loss:  0.609077,    Accuracy: 68.32%,    Correct Counter: 690/1010,    F1 Score: 0.77,    Precision: 0.65,    Recall:  0.94,    AUROC:  0.65\n",
      "\n",
      "Epoch 34/250\n"
     ]
    },
    {
     "name": "stderr",
     "output_type": "stream",
     "text": [
      "Batch in Progress: 100%|█████████████████████████████████████████| 251/251 [00:01<00:00, 181.79it/s]\n"
     ]
    },
    {
     "name": "stdout",
     "output_type": "stream",
     "text": [
      "Train Set:\n",
      "    Average Loss:  0.623659,    Accuracy: 66.67%,    Correct Counter: 2673/4009,    F1 Score: 0.76,    Precision: 0.65,    Recall:  0.92,    AUROC:  0.62\n",
      "\n"
     ]
    },
    {
     "name": "stderr",
     "output_type": "stream",
     "text": [
      "Batch in Progress: 100%|███████████████████████████████████████████| 64/64 [00:00<00:00, 217.11it/s]\n"
     ]
    },
    {
     "name": "stdout",
     "output_type": "stream",
     "text": [
      "Validation Set:\n",
      "    Average Loss:  0.613235,    Accuracy: 68.71%,    Correct Counter: 694/1010,    F1 Score: 0.77,    Precision: 0.65,    Recall:  0.96,    AUROC:  0.65\n",
      "\n",
      "Epoch 35/250\n"
     ]
    },
    {
     "name": "stderr",
     "output_type": "stream",
     "text": [
      "Batch in Progress: 100%|█████████████████████████████████████████| 251/251 [00:01<00:00, 179.27it/s]\n"
     ]
    },
    {
     "name": "stdout",
     "output_type": "stream",
     "text": [
      "Train Set:\n",
      "    Average Loss:  0.625075,    Accuracy: 67.65%,    Correct Counter: 2712/4009,    F1 Score: 0.77,    Precision: 0.66,    Recall:  0.93,    AUROC:  0.63\n",
      "\n"
     ]
    },
    {
     "name": "stderr",
     "output_type": "stream",
     "text": [
      "Batch in Progress: 100%|███████████████████████████████████████████| 64/64 [00:00<00:00, 201.61it/s]\n"
     ]
    },
    {
     "name": "stdout",
     "output_type": "stream",
     "text": [
      "Validation Set:\n",
      "    Average Loss:  0.611380,    Accuracy: 69.01%,    Correct Counter: 697/1010,    F1 Score: 0.77,    Precision: 0.65,    Recall:  0.95,    AUROC:  0.66\n",
      "\n",
      "Epoch 36/250\n"
     ]
    },
    {
     "name": "stderr",
     "output_type": "stream",
     "text": [
      "Batch in Progress: 100%|█████████████████████████████████████████| 251/251 [00:01<00:00, 173.16it/s]\n"
     ]
    },
    {
     "name": "stdout",
     "output_type": "stream",
     "text": [
      "Train Set:\n",
      "    Average Loss:  0.619468,    Accuracy: 67.27%,    Correct Counter: 2697/4009,    F1 Score: 0.77,    Precision: 0.66,    Recall:  0.92,    AUROC:  0.62\n",
      "\n"
     ]
    },
    {
     "name": "stderr",
     "output_type": "stream",
     "text": [
      "Batch in Progress: 100%|███████████████████████████████████████████| 64/64 [00:00<00:00, 209.29it/s]\n"
     ]
    },
    {
     "name": "stdout",
     "output_type": "stream",
     "text": [
      "Validation Set:\n",
      "    Average Loss:  0.608161,    Accuracy: 69.01%,    Correct Counter: 697/1010,    F1 Score: 0.77,    Precision: 0.65,    Recall:  0.95,    AUROC:  0.66\n",
      "\n",
      "Epoch 37/250\n"
     ]
    },
    {
     "name": "stderr",
     "output_type": "stream",
     "text": [
      "Batch in Progress: 100%|█████████████████████████████████████████| 251/251 [00:01<00:00, 178.54it/s]\n"
     ]
    },
    {
     "name": "stdout",
     "output_type": "stream",
     "text": [
      "Train Set:\n",
      "    Average Loss:  0.618661,    Accuracy: 67.22%,    Correct Counter: 2695/4009,    F1 Score: 0.77,    Precision: 0.66,    Recall:  0.93,    AUROC:  0.62\n",
      "\n"
     ]
    },
    {
     "name": "stderr",
     "output_type": "stream",
     "text": [
      "Batch in Progress: 100%|███████████████████████████████████████████| 64/64 [00:00<00:00, 212.96it/s]\n"
     ]
    },
    {
     "name": "stdout",
     "output_type": "stream",
     "text": [
      "Validation Set:\n",
      "    Average Loss:  0.600032,    Accuracy: 68.91%,    Correct Counter: 696/1010,    F1 Score: 0.77,    Precision: 0.65,    Recall:  0.94,    AUROC:  0.66\n",
      "\n",
      "Epoch 38/250\n"
     ]
    },
    {
     "name": "stderr",
     "output_type": "stream",
     "text": [
      "Batch in Progress: 100%|█████████████████████████████████████████| 251/251 [00:01<00:00, 172.09it/s]\n"
     ]
    },
    {
     "name": "stdout",
     "output_type": "stream",
     "text": [
      "Train Set:\n",
      "    Average Loss:  0.623313,    Accuracy: 67.57%,    Correct Counter: 2709/4009,    F1 Score: 0.77,    Precision: 0.66,    Recall:  0.93,    AUROC:  0.62\n",
      "\n"
     ]
    },
    {
     "name": "stderr",
     "output_type": "stream",
     "text": [
      "Batch in Progress: 100%|███████████████████████████████████████████| 64/64 [00:00<00:00, 202.43it/s]\n"
     ]
    },
    {
     "name": "stdout",
     "output_type": "stream",
     "text": [
      "Validation Set:\n",
      "    Average Loss:  0.604447,    Accuracy: 69.70%,    Correct Counter: 704/1010,    F1 Score: 0.78,    Precision: 0.66,    Recall:  0.95,    AUROC:  0.66\n",
      "\n",
      "Epoch 39/250\n"
     ]
    },
    {
     "name": "stderr",
     "output_type": "stream",
     "text": [
      "Batch in Progress: 100%|█████████████████████████████████████████| 251/251 [00:01<00:00, 184.26it/s]\n"
     ]
    },
    {
     "name": "stdout",
     "output_type": "stream",
     "text": [
      "Train Set:\n",
      "    Average Loss:  0.627324,    Accuracy: 67.35%,    Correct Counter: 2700/4009,    F1 Score: 0.77,    Precision: 0.65,    Recall:  0.94,    AUROC:  0.62\n",
      "\n"
     ]
    },
    {
     "name": "stderr",
     "output_type": "stream",
     "text": [
      "Batch in Progress: 100%|███████████████████████████████████████████| 64/64 [00:00<00:00, 218.76it/s]\n"
     ]
    },
    {
     "name": "stdout",
     "output_type": "stream",
     "text": [
      "Validation Set:\n",
      "    Average Loss:  0.603515,    Accuracy: 69.01%,    Correct Counter: 697/1010,    F1 Score: 0.77,    Precision: 0.65,    Recall:  0.95,    AUROC:  0.66\n",
      "\n",
      "Epoch 40/250\n"
     ]
    },
    {
     "name": "stderr",
     "output_type": "stream",
     "text": [
      "Batch in Progress: 100%|█████████████████████████████████████████| 251/251 [00:01<00:00, 183.41it/s]\n"
     ]
    },
    {
     "name": "stdout",
     "output_type": "stream",
     "text": [
      "Train Set:\n",
      "    Average Loss:  0.626698,    Accuracy: 67.62%,    Correct Counter: 2711/4009,    F1 Score: 0.77,    Precision: 0.66,    Recall:  0.91,    AUROC:  0.63\n",
      "\n"
     ]
    },
    {
     "name": "stderr",
     "output_type": "stream",
     "text": [
      "Batch in Progress: 100%|███████████████████████████████████████████| 64/64 [00:00<00:00, 217.96it/s]\n"
     ]
    },
    {
     "name": "stdout",
     "output_type": "stream",
     "text": [
      "Validation Set:\n",
      "    Average Loss:  0.615182,    Accuracy: 68.51%,    Correct Counter: 692/1010,    F1 Score: 0.77,    Precision: 0.65,    Recall:  0.96,    AUROC:  0.65\n",
      "\n",
      "Epoch 41/250\n"
     ]
    },
    {
     "name": "stderr",
     "output_type": "stream",
     "text": [
      "Batch in Progress: 100%|█████████████████████████████████████████| 251/251 [00:01<00:00, 182.14it/s]\n"
     ]
    },
    {
     "name": "stdout",
     "output_type": "stream",
     "text": [
      "Train Set:\n",
      "    Average Loss:  0.623809,    Accuracy: 67.40%,    Correct Counter: 2702/4009,    F1 Score: 0.77,    Precision: 0.66,    Recall:  0.92,    AUROC:  0.62\n",
      "\n"
     ]
    },
    {
     "name": "stderr",
     "output_type": "stream",
     "text": [
      "Batch in Progress: 100%|███████████████████████████████████████████| 64/64 [00:00<00:00, 218.32it/s]\n"
     ]
    },
    {
     "name": "stdout",
     "output_type": "stream",
     "text": [
      "Validation Set:\n",
      "    Average Loss:  0.619749,    Accuracy: 68.71%,    Correct Counter: 694/1010,    F1 Score: 0.77,    Precision: 0.65,    Recall:  0.96,    AUROC:  0.65\n",
      "\n",
      "Epoch 42/250\n"
     ]
    },
    {
     "name": "stderr",
     "output_type": "stream",
     "text": [
      "Batch in Progress: 100%|█████████████████████████████████████████| 251/251 [00:01<00:00, 181.92it/s]\n"
     ]
    },
    {
     "name": "stdout",
     "output_type": "stream",
     "text": [
      "Train Set:\n",
      "    Average Loss:  0.627175,    Accuracy: 67.20%,    Correct Counter: 2694/4009,    F1 Score: 0.77,    Precision: 0.65,    Recall:  0.93,    AUROC:  0.62\n",
      "\n"
     ]
    },
    {
     "name": "stderr",
     "output_type": "stream",
     "text": [
      "Batch in Progress: 100%|███████████████████████████████████████████| 64/64 [00:00<00:00, 218.13it/s]\n"
     ]
    },
    {
     "name": "stdout",
     "output_type": "stream",
     "text": [
      "Validation Set:\n",
      "    Average Loss:  0.607900,    Accuracy: 68.32%,    Correct Counter: 690/1010,    F1 Score: 0.77,    Precision: 0.65,    Recall:  0.94,    AUROC:  0.65\n",
      "\n",
      "Epoch 43/250\n"
     ]
    },
    {
     "name": "stderr",
     "output_type": "stream",
     "text": [
      "Batch in Progress: 100%|█████████████████████████████████████████| 251/251 [00:01<00:00, 181.89it/s]\n"
     ]
    },
    {
     "name": "stdout",
     "output_type": "stream",
     "text": [
      "Train Set:\n",
      "    Average Loss:  0.637072,    Accuracy: 67.32%,    Correct Counter: 2699/4009,    F1 Score: 0.77,    Precision: 0.66,    Recall:  0.92,    AUROC:  0.62\n",
      "\n"
     ]
    },
    {
     "name": "stderr",
     "output_type": "stream",
     "text": [
      "Batch in Progress: 100%|███████████████████████████████████████████| 64/64 [00:00<00:00, 216.16it/s]\n"
     ]
    },
    {
     "name": "stdout",
     "output_type": "stream",
     "text": [
      "Validation Set:\n",
      "    Average Loss:  0.622066,    Accuracy: 68.51%,    Correct Counter: 692/1010,    F1 Score: 0.77,    Precision: 0.65,    Recall:  0.96,    AUROC:  0.65\n",
      "\n",
      "Epoch 44/250\n"
     ]
    },
    {
     "name": "stderr",
     "output_type": "stream",
     "text": [
      "Batch in Progress: 100%|█████████████████████████████████████████| 251/251 [00:01<00:00, 182.34it/s]\n"
     ]
    },
    {
     "name": "stdout",
     "output_type": "stream",
     "text": [
      "Train Set:\n",
      "    Average Loss:  0.625573,    Accuracy: 67.40%,    Correct Counter: 2702/4009,    F1 Score: 0.77,    Precision: 0.66,    Recall:  0.93,    AUROC:  0.62\n",
      "\n"
     ]
    },
    {
     "name": "stderr",
     "output_type": "stream",
     "text": [
      "Batch in Progress: 100%|███████████████████████████████████████████| 64/64 [00:00<00:00, 218.86it/s]\n"
     ]
    },
    {
     "name": "stdout",
     "output_type": "stream",
     "text": [
      "Validation Set:\n",
      "    Average Loss:  0.605451,    Accuracy: 67.92%,    Correct Counter: 686/1010,    F1 Score: 0.76,    Precision: 0.65,    Recall:  0.93,    AUROC:  0.65\n",
      "\n",
      "Epoch 45/250\n"
     ]
    },
    {
     "name": "stderr",
     "output_type": "stream",
     "text": [
      "Batch in Progress: 100%|█████████████████████████████████████████| 251/251 [00:01<00:00, 184.23it/s]\n"
     ]
    },
    {
     "name": "stdout",
     "output_type": "stream",
     "text": [
      "Train Set:\n",
      "    Average Loss:  0.631530,    Accuracy: 67.70%,    Correct Counter: 2714/4009,    F1 Score: 0.77,    Precision: 0.66,    Recall:  0.92,    AUROC:  0.63\n",
      "\n"
     ]
    },
    {
     "name": "stderr",
     "output_type": "stream",
     "text": [
      "Batch in Progress: 100%|███████████████████████████████████████████| 64/64 [00:00<00:00, 219.02it/s]\n"
     ]
    },
    {
     "name": "stdout",
     "output_type": "stream",
     "text": [
      "Validation Set:\n",
      "    Average Loss:  0.613669,    Accuracy: 68.61%,    Correct Counter: 693/1010,    F1 Score: 0.77,    Precision: 0.65,    Recall:  0.95,    AUROC:  0.65\n",
      "\n",
      "Epoch 46/250\n"
     ]
    },
    {
     "name": "stderr",
     "output_type": "stream",
     "text": [
      "Batch in Progress: 100%|█████████████████████████████████████████| 251/251 [00:01<00:00, 184.14it/s]\n"
     ]
    },
    {
     "name": "stdout",
     "output_type": "stream",
     "text": [
      "Train Set:\n",
      "    Average Loss:  0.623395,    Accuracy: 67.15%,    Correct Counter: 2692/4009,    F1 Score: 0.77,    Precision: 0.65,    Recall:  0.93,    AUROC:  0.62\n",
      "\n"
     ]
    },
    {
     "name": "stderr",
     "output_type": "stream",
     "text": [
      "Batch in Progress: 100%|███████████████████████████████████████████| 64/64 [00:00<00:00, 219.74it/s]\n"
     ]
    },
    {
     "name": "stdout",
     "output_type": "stream",
     "text": [
      "Validation Set:\n",
      "    Average Loss:  0.608432,    Accuracy: 69.01%,    Correct Counter: 697/1010,    F1 Score: 0.77,    Precision: 0.65,    Recall:  0.95,    AUROC:  0.66\n",
      "\n",
      "Epoch 47/250\n"
     ]
    },
    {
     "name": "stderr",
     "output_type": "stream",
     "text": [
      "Batch in Progress: 100%|█████████████████████████████████████████| 251/251 [00:01<00:00, 184.54it/s]\n"
     ]
    },
    {
     "name": "stdout",
     "output_type": "stream",
     "text": [
      "Train Set:\n",
      "    Average Loss:  0.620888,    Accuracy: 67.27%,    Correct Counter: 2697/4009,    F1 Score: 0.77,    Precision: 0.66,    Recall:  0.92,    AUROC:  0.62\n",
      "\n"
     ]
    },
    {
     "name": "stderr",
     "output_type": "stream",
     "text": [
      "Batch in Progress: 100%|███████████████████████████████████████████| 64/64 [00:00<00:00, 218.96it/s]\n"
     ]
    },
    {
     "name": "stdout",
     "output_type": "stream",
     "text": [
      "Validation Set:\n",
      "    Average Loss:  0.606501,    Accuracy: 68.32%,    Correct Counter: 690/1010,    F1 Score: 0.77,    Precision: 0.65,    Recall:  0.94,    AUROC:  0.65\n",
      "\n",
      "Epoch 48/250\n"
     ]
    },
    {
     "name": "stderr",
     "output_type": "stream",
     "text": [
      "Batch in Progress: 100%|█████████████████████████████████████████| 251/251 [00:01<00:00, 182.84it/s]\n"
     ]
    },
    {
     "name": "stdout",
     "output_type": "stream",
     "text": [
      "Train Set:\n",
      "    Average Loss:  0.624619,    Accuracy: 67.47%,    Correct Counter: 2705/4009,    F1 Score: 0.77,    Precision: 0.66,    Recall:  0.92,    AUROC:  0.62\n",
      "\n"
     ]
    },
    {
     "name": "stderr",
     "output_type": "stream",
     "text": [
      "Batch in Progress: 100%|███████████████████████████████████████████| 64/64 [00:00<00:00, 217.30it/s]\n"
     ]
    },
    {
     "name": "stdout",
     "output_type": "stream",
     "text": [
      "Validation Set:\n",
      "    Average Loss:  0.614322,    Accuracy: 68.42%,    Correct Counter: 691/1010,    F1 Score: 0.77,    Precision: 0.65,    Recall:  0.96,    AUROC:  0.65\n",
      "\n",
      "Epoch 49/250\n"
     ]
    },
    {
     "name": "stderr",
     "output_type": "stream",
     "text": [
      "Batch in Progress: 100%|█████████████████████████████████████████| 251/251 [00:01<00:00, 183.84it/s]\n"
     ]
    },
    {
     "name": "stdout",
     "output_type": "stream",
     "text": [
      "Train Set:\n",
      "    Average Loss:  0.626368,    Accuracy: 67.70%,    Correct Counter: 2714/4009,    F1 Score: 0.77,    Precision: 0.66,    Recall:  0.94,    AUROC:  0.62\n",
      "\n"
     ]
    },
    {
     "name": "stderr",
     "output_type": "stream",
     "text": [
      "Batch in Progress: 100%|███████████████████████████████████████████| 64/64 [00:00<00:00, 219.11it/s]\n"
     ]
    },
    {
     "name": "stdout",
     "output_type": "stream",
     "text": [
      "Validation Set:\n",
      "    Average Loss:  0.618172,    Accuracy: 68.61%,    Correct Counter: 693/1010,    F1 Score: 0.77,    Precision: 0.65,    Recall:  0.95,    AUROC:  0.65\n",
      "\n",
      "Epoch 50/250\n"
     ]
    },
    {
     "name": "stderr",
     "output_type": "stream",
     "text": [
      "Batch in Progress: 100%|█████████████████████████████████████████| 251/251 [00:01<00:00, 183.85it/s]\n"
     ]
    },
    {
     "name": "stdout",
     "output_type": "stream",
     "text": [
      "Train Set:\n",
      "    Average Loss:  0.623542,    Accuracy: 67.60%,    Correct Counter: 2710/4009,    F1 Score: 0.77,    Precision: 0.66,    Recall:  0.93,    AUROC:  0.62\n",
      "\n"
     ]
    },
    {
     "name": "stderr",
     "output_type": "stream",
     "text": [
      "Batch in Progress: 100%|███████████████████████████████████████████| 64/64 [00:00<00:00, 216.68it/s]\n"
     ]
    },
    {
     "name": "stdout",
     "output_type": "stream",
     "text": [
      "Validation Set:\n",
      "    Average Loss:  0.611352,    Accuracy: 69.01%,    Correct Counter: 697/1010,    F1 Score: 0.77,    Precision: 0.65,    Recall:  0.95,    AUROC:  0.66\n",
      "\n",
      "Epoch 51/250\n"
     ]
    },
    {
     "name": "stderr",
     "output_type": "stream",
     "text": [
      "Batch in Progress: 100%|█████████████████████████████████████████| 251/251 [00:01<00:00, 174.61it/s]\n"
     ]
    },
    {
     "name": "stdout",
     "output_type": "stream",
     "text": [
      "Train Set:\n",
      "    Average Loss:  0.628686,    Accuracy: 67.70%,    Correct Counter: 2714/4009,    F1 Score: 0.77,    Precision: 0.66,    Recall:  0.93,    AUROC:  0.63\n",
      "\n"
     ]
    },
    {
     "name": "stderr",
     "output_type": "stream",
     "text": [
      "Batch in Progress: 100%|███████████████████████████████████████████| 64/64 [00:00<00:00, 217.77it/s]\n"
     ]
    },
    {
     "name": "stdout",
     "output_type": "stream",
     "text": [
      "Validation Set:\n",
      "    Average Loss:  0.607131,    Accuracy: 68.91%,    Correct Counter: 696/1010,    F1 Score: 0.77,    Precision: 0.65,    Recall:  0.94,    AUROC:  0.66\n",
      "\n",
      "Epoch 52/250\n"
     ]
    },
    {
     "name": "stderr",
     "output_type": "stream",
     "text": [
      "Batch in Progress: 100%|█████████████████████████████████████████| 251/251 [00:01<00:00, 183.27it/s]\n"
     ]
    },
    {
     "name": "stdout",
     "output_type": "stream",
     "text": [
      "Train Set:\n",
      "    Average Loss:  0.620490,    Accuracy: 67.55%,    Correct Counter: 2708/4009,    F1 Score: 0.77,    Precision: 0.66,    Recall:  0.92,    AUROC:  0.63\n",
      "\n"
     ]
    },
    {
     "name": "stderr",
     "output_type": "stream",
     "text": [
      "Batch in Progress: 100%|███████████████████████████████████████████| 64/64 [00:00<00:00, 218.86it/s]\n"
     ]
    },
    {
     "name": "stdout",
     "output_type": "stream",
     "text": [
      "Validation Set:\n",
      "    Average Loss:  0.599398,    Accuracy: 68.32%,    Correct Counter: 690/1010,    F1 Score: 0.76,    Precision: 0.66,    Recall:  0.91,    AUROC:  0.65\n",
      "\n",
      "Epoch 53/250\n"
     ]
    },
    {
     "name": "stderr",
     "output_type": "stream",
     "text": [
      "Batch in Progress: 100%|█████████████████████████████████████████| 251/251 [00:01<00:00, 183.06it/s]\n"
     ]
    },
    {
     "name": "stdout",
     "output_type": "stream",
     "text": [
      "Train Set:\n",
      "    Average Loss:  0.626191,    Accuracy: 67.70%,    Correct Counter: 2714/4009,    F1 Score: 0.77,    Precision: 0.66,    Recall:  0.92,    AUROC:  0.63\n",
      "\n"
     ]
    },
    {
     "name": "stderr",
     "output_type": "stream",
     "text": [
      "Batch in Progress: 100%|███████████████████████████████████████████| 64/64 [00:00<00:00, 217.12it/s]\n"
     ]
    },
    {
     "name": "stdout",
     "output_type": "stream",
     "text": [
      "Validation Set:\n",
      "    Average Loss:  0.619391,    Accuracy: 69.01%,    Correct Counter: 697/1010,    F1 Score: 0.77,    Precision: 0.65,    Recall:  0.95,    AUROC:  0.66\n",
      "\n",
      "Epoch 54/250\n"
     ]
    },
    {
     "name": "stderr",
     "output_type": "stream",
     "text": [
      "Batch in Progress: 100%|█████████████████████████████████████████| 251/251 [00:01<00:00, 183.21it/s]\n"
     ]
    },
    {
     "name": "stdout",
     "output_type": "stream",
     "text": [
      "Train Set:\n",
      "    Average Loss:  0.624894,    Accuracy: 67.55%,    Correct Counter: 2708/4009,    F1 Score: 0.76,    Precision: 0.66,    Recall:  0.90,    AUROC:  0.63\n",
      "\n"
     ]
    },
    {
     "name": "stderr",
     "output_type": "stream",
     "text": [
      "Batch in Progress: 100%|███████████████████████████████████████████| 64/64 [00:00<00:00, 218.19it/s]\n"
     ]
    },
    {
     "name": "stdout",
     "output_type": "stream",
     "text": [
      "Validation Set:\n",
      "    Average Loss:  0.604819,    Accuracy: 67.72%,    Correct Counter: 684/1010,    F1 Score: 0.76,    Precision: 0.65,    Recall:  0.91,    AUROC:  0.65\n",
      "\n",
      "Epoch 55/250\n"
     ]
    },
    {
     "name": "stderr",
     "output_type": "stream",
     "text": [
      "Batch in Progress: 100%|█████████████████████████████████████████| 251/251 [00:01<00:00, 182.76it/s]\n"
     ]
    },
    {
     "name": "stdout",
     "output_type": "stream",
     "text": [
      "Train Set:\n",
      "    Average Loss:  0.619786,    Accuracy: 67.45%,    Correct Counter: 2704/4009,    F1 Score: 0.77,    Precision: 0.66,    Recall:  0.91,    AUROC:  0.63\n",
      "\n"
     ]
    },
    {
     "name": "stderr",
     "output_type": "stream",
     "text": [
      "Batch in Progress: 100%|███████████████████████████████████████████| 64/64 [00:00<00:00, 219.56it/s]\n"
     ]
    },
    {
     "name": "stdout",
     "output_type": "stream",
     "text": [
      "Validation Set:\n",
      "    Average Loss:  0.606365,    Accuracy: 67.72%,    Correct Counter: 684/1010,    F1 Score: 0.76,    Precision: 0.65,    Recall:  0.91,    AUROC:  0.65\n",
      "\n",
      "Epoch 56/250\n"
     ]
    },
    {
     "name": "stderr",
     "output_type": "stream",
     "text": [
      "Batch in Progress: 100%|█████████████████████████████████████████| 251/251 [00:01<00:00, 182.82it/s]\n"
     ]
    },
    {
     "name": "stdout",
     "output_type": "stream",
     "text": [
      "Train Set:\n",
      "    Average Loss:  0.628990,    Accuracy: 67.55%,    Correct Counter: 2708/4009,    F1 Score: 0.77,    Precision: 0.66,    Recall:  0.91,    AUROC:  0.63\n",
      "\n"
     ]
    },
    {
     "name": "stderr",
     "output_type": "stream",
     "text": [
      "Batch in Progress: 100%|███████████████████████████████████████████| 64/64 [00:00<00:00, 206.50it/s]\n"
     ]
    },
    {
     "name": "stdout",
     "output_type": "stream",
     "text": [
      "Validation Set:\n",
      "    Average Loss:  0.604249,    Accuracy: 68.32%,    Correct Counter: 690/1010,    F1 Score: 0.76,    Precision: 0.65,    Recall:  0.91,    AUROC:  0.65\n",
      "\n",
      "Epoch 57/250\n"
     ]
    },
    {
     "name": "stderr",
     "output_type": "stream",
     "text": [
      "Batch in Progress: 100%|█████████████████████████████████████████| 251/251 [00:01<00:00, 174.10it/s]\n"
     ]
    },
    {
     "name": "stdout",
     "output_type": "stream",
     "text": [
      "Train Set:\n",
      "    Average Loss:  0.621073,    Accuracy: 67.77%,    Correct Counter: 2717/4009,    F1 Score: 0.77,    Precision: 0.66,    Recall:  0.92,    AUROC:  0.63\n",
      "\n"
     ]
    },
    {
     "name": "stderr",
     "output_type": "stream",
     "text": [
      "Batch in Progress: 100%|███████████████████████████████████████████| 64/64 [00:00<00:00, 214.77it/s]\n"
     ]
    },
    {
     "name": "stdout",
     "output_type": "stream",
     "text": [
      "Validation Set:\n",
      "    Average Loss:  0.600727,    Accuracy: 68.32%,    Correct Counter: 690/1010,    F1 Score: 0.76,    Precision: 0.66,    Recall:  0.91,    AUROC:  0.65\n",
      "\n",
      "Epoch 58/250\n"
     ]
    },
    {
     "name": "stderr",
     "output_type": "stream",
     "text": [
      "Batch in Progress: 100%|█████████████████████████████████████████| 251/251 [00:01<00:00, 180.93it/s]\n"
     ]
    },
    {
     "name": "stdout",
     "output_type": "stream",
     "text": [
      "Train Set:\n",
      "    Average Loss:  0.624474,    Accuracy: 67.55%,    Correct Counter: 2708/4009,    F1 Score: 0.77,    Precision: 0.66,    Recall:  0.92,    AUROC:  0.63\n",
      "\n"
     ]
    },
    {
     "name": "stderr",
     "output_type": "stream",
     "text": [
      "Batch in Progress: 100%|███████████████████████████████████████████| 64/64 [00:00<00:00, 219.28it/s]\n"
     ]
    },
    {
     "name": "stdout",
     "output_type": "stream",
     "text": [
      "Validation Set:\n",
      "    Average Loss:  0.630594,    Accuracy: 64.26%,    Correct Counter: 649/1010,    F1 Score: 0.75,    Precision: 0.61,    Recall:  0.97,    AUROC:  0.60\n",
      "\n",
      "Epoch 59/250\n"
     ]
    },
    {
     "name": "stderr",
     "output_type": "stream",
     "text": [
      "Batch in Progress: 100%|█████████████████████████████████████████| 251/251 [00:01<00:00, 183.69it/s]\n"
     ]
    },
    {
     "name": "stdout",
     "output_type": "stream",
     "text": [
      "Train Set:\n",
      "    Average Loss:  0.624885,    Accuracy: 67.32%,    Correct Counter: 2699/4009,    F1 Score: 0.77,    Precision: 0.66,    Recall:  0.92,    AUROC:  0.62\n",
      "\n"
     ]
    },
    {
     "name": "stderr",
     "output_type": "stream",
     "text": [
      "Batch in Progress: 100%|███████████████████████████████████████████| 64/64 [00:00<00:00, 216.66it/s]\n"
     ]
    },
    {
     "name": "stdout",
     "output_type": "stream",
     "text": [
      "Validation Set:\n",
      "    Average Loss:  0.610978,    Accuracy: 68.22%,    Correct Counter: 689/1010,    F1 Score: 0.77,    Precision: 0.65,    Recall:  0.94,    AUROC:  0.65\n",
      "\n",
      "Epoch 60/250\n"
     ]
    },
    {
     "name": "stderr",
     "output_type": "stream",
     "text": [
      "Batch in Progress: 100%|█████████████████████████████████████████| 251/251 [00:01<00:00, 178.49it/s]\n"
     ]
    },
    {
     "name": "stdout",
     "output_type": "stream",
     "text": [
      "Train Set:\n",
      "    Average Loss:  0.626479,    Accuracy: 67.82%,    Correct Counter: 2719/4009,    F1 Score: 0.77,    Precision: 0.66,    Recall:  0.92,    AUROC:  0.63\n",
      "\n"
     ]
    },
    {
     "name": "stderr",
     "output_type": "stream",
     "text": [
      "Batch in Progress: 100%|███████████████████████████████████████████| 64/64 [00:00<00:00, 207.55it/s]\n"
     ]
    },
    {
     "name": "stdout",
     "output_type": "stream",
     "text": [
      "Validation Set:\n",
      "    Average Loss:  0.628680,    Accuracy: 64.46%,    Correct Counter: 651/1010,    F1 Score: 0.75,    Precision: 0.61,    Recall:  0.97,    AUROC:  0.60\n",
      "\n",
      "Epoch 61/250\n"
     ]
    },
    {
     "name": "stderr",
     "output_type": "stream",
     "text": [
      "Batch in Progress: 100%|█████████████████████████████████████████| 251/251 [00:01<00:00, 175.55it/s]\n"
     ]
    },
    {
     "name": "stdout",
     "output_type": "stream",
     "text": [
      "Train Set:\n",
      "    Average Loss:  0.632394,    Accuracy: 66.50%,    Correct Counter: 2666/4009,    F1 Score: 0.77,    Precision: 0.65,    Recall:  0.94,    AUROC:  0.61\n",
      "\n"
     ]
    },
    {
     "name": "stderr",
     "output_type": "stream",
     "text": [
      "Batch in Progress: 100%|███████████████████████████████████████████| 64/64 [00:00<00:00, 218.89it/s]\n"
     ]
    },
    {
     "name": "stdout",
     "output_type": "stream",
     "text": [
      "Validation Set:\n",
      "    Average Loss:  0.608973,    Accuracy: 67.82%,    Correct Counter: 685/1010,    F1 Score: 0.76,    Precision: 0.64,    Recall:  0.94,    AUROC:  0.64\n",
      "\n",
      "Epoch 62/250\n"
     ]
    },
    {
     "name": "stderr",
     "output_type": "stream",
     "text": [
      "Batch in Progress: 100%|█████████████████████████████████████████| 251/251 [00:01<00:00, 180.24it/s]\n"
     ]
    },
    {
     "name": "stdout",
     "output_type": "stream",
     "text": [
      "Train Set:\n",
      "    Average Loss:  0.621131,    Accuracy: 67.20%,    Correct Counter: 2694/4009,    F1 Score: 0.77,    Precision: 0.65,    Recall:  0.93,    AUROC:  0.62\n",
      "\n"
     ]
    },
    {
     "name": "stderr",
     "output_type": "stream",
     "text": [
      "Batch in Progress: 100%|███████████████████████████████████████████| 64/64 [00:00<00:00, 212.57it/s]\n"
     ]
    },
    {
     "name": "stdout",
     "output_type": "stream",
     "text": [
      "Validation Set:\n",
      "    Average Loss:  0.607646,    Accuracy: 68.22%,    Correct Counter: 689/1010,    F1 Score: 0.77,    Precision: 0.65,    Recall:  0.94,    AUROC:  0.65\n",
      "\n",
      "Epoch 63/250\n"
     ]
    },
    {
     "name": "stderr",
     "output_type": "stream",
     "text": [
      "Batch in Progress: 100%|█████████████████████████████████████████| 251/251 [00:01<00:00, 168.23it/s]\n"
     ]
    },
    {
     "name": "stdout",
     "output_type": "stream",
     "text": [
      "Train Set:\n",
      "    Average Loss:  0.623926,    Accuracy: 67.22%,    Correct Counter: 2695/4009,    F1 Score: 0.77,    Precision: 0.66,    Recall:  0.92,    AUROC:  0.62\n",
      "\n"
     ]
    },
    {
     "name": "stderr",
     "output_type": "stream",
     "text": [
      "Batch in Progress: 100%|███████████████████████████████████████████| 64/64 [00:00<00:00, 204.02it/s]\n"
     ]
    },
    {
     "name": "stdout",
     "output_type": "stream",
     "text": [
      "Validation Set:\n",
      "    Average Loss:  0.614164,    Accuracy: 68.61%,    Correct Counter: 693/1010,    F1 Score: 0.77,    Precision: 0.65,    Recall:  0.96,    AUROC:  0.65\n",
      "\n",
      "Epoch 64/250\n"
     ]
    },
    {
     "name": "stderr",
     "output_type": "stream",
     "text": [
      "Batch in Progress: 100%|█████████████████████████████████████████| 251/251 [00:01<00:00, 180.85it/s]\n"
     ]
    },
    {
     "name": "stdout",
     "output_type": "stream",
     "text": [
      "Train Set:\n",
      "    Average Loss:  0.629033,    Accuracy: 67.70%,    Correct Counter: 2714/4009,    F1 Score: 0.77,    Precision: 0.66,    Recall:  0.92,    AUROC:  0.63\n",
      "\n"
     ]
    },
    {
     "name": "stderr",
     "output_type": "stream",
     "text": [
      "Batch in Progress: 100%|███████████████████████████████████████████| 64/64 [00:00<00:00, 216.34it/s]\n"
     ]
    },
    {
     "name": "stdout",
     "output_type": "stream",
     "text": [
      "Validation Set:\n",
      "    Average Loss:  0.629374,    Accuracy: 64.26%,    Correct Counter: 649/1010,    F1 Score: 0.75,    Precision: 0.61,    Recall:  0.97,    AUROC:  0.60\n",
      "\n",
      "Epoch 65/250\n"
     ]
    },
    {
     "name": "stderr",
     "output_type": "stream",
     "text": [
      "Batch in Progress: 100%|█████████████████████████████████████████| 251/251 [00:01<00:00, 184.02it/s]\n"
     ]
    },
    {
     "name": "stdout",
     "output_type": "stream",
     "text": [
      "Train Set:\n",
      "    Average Loss:  0.617802,    Accuracy: 67.47%,    Correct Counter: 2705/4009,    F1 Score: 0.77,    Precision: 0.66,    Recall:  0.92,    AUROC:  0.62\n",
      "\n"
     ]
    },
    {
     "name": "stderr",
     "output_type": "stream",
     "text": [
      "Batch in Progress: 100%|███████████████████████████████████████████| 64/64 [00:00<00:00, 217.17it/s]\n"
     ]
    },
    {
     "name": "stdout",
     "output_type": "stream",
     "text": [
      "Validation Set:\n",
      "    Average Loss:  0.621460,    Accuracy: 64.85%,    Correct Counter: 655/1010,    F1 Score: 0.75,    Precision: 0.62,    Recall:  0.97,    AUROC:  0.61\n",
      "\n",
      "Epoch 66/250\n"
     ]
    },
    {
     "name": "stderr",
     "output_type": "stream",
     "text": [
      "Batch in Progress: 100%|█████████████████████████████████████████| 251/251 [00:01<00:00, 181.92it/s]\n"
     ]
    },
    {
     "name": "stdout",
     "output_type": "stream",
     "text": [
      "Train Set:\n",
      "    Average Loss:  0.615926,    Accuracy: 67.85%,    Correct Counter: 2720/4009,    F1 Score: 0.77,    Precision: 0.66,    Recall:  0.92,    AUROC:  0.63\n",
      "\n"
     ]
    },
    {
     "name": "stderr",
     "output_type": "stream",
     "text": [
      "Batch in Progress: 100%|███████████████████████████████████████████| 64/64 [00:00<00:00, 212.65it/s]\n"
     ]
    },
    {
     "name": "stdout",
     "output_type": "stream",
     "text": [
      "Validation Set:\n",
      "    Average Loss:  0.616084,    Accuracy: 68.61%,    Correct Counter: 693/1010,    F1 Score: 0.77,    Precision: 0.65,    Recall:  0.96,    AUROC:  0.65\n",
      "\n",
      "Epoch 67/250\n"
     ]
    },
    {
     "name": "stderr",
     "output_type": "stream",
     "text": [
      "Batch in Progress: 100%|█████████████████████████████████████████| 251/251 [00:01<00:00, 183.09it/s]\n"
     ]
    },
    {
     "name": "stdout",
     "output_type": "stream",
     "text": [
      "Train Set:\n",
      "    Average Loss:  0.626664,    Accuracy: 67.17%,    Correct Counter: 2693/4009,    F1 Score: 0.77,    Precision: 0.65,    Recall:  0.93,    AUROC:  0.62\n",
      "\n"
     ]
    },
    {
     "name": "stderr",
     "output_type": "stream",
     "text": [
      "Batch in Progress: 100%|███████████████████████████████████████████| 64/64 [00:00<00:00, 217.52it/s]\n"
     ]
    },
    {
     "name": "stdout",
     "output_type": "stream",
     "text": [
      "Validation Set:\n",
      "    Average Loss:  0.620641,    Accuracy: 67.82%,    Correct Counter: 685/1010,    F1 Score: 0.77,    Precision: 0.64,    Recall:  0.97,    AUROC:  0.64\n",
      "\n",
      "Epoch 68/250\n"
     ]
    },
    {
     "name": "stderr",
     "output_type": "stream",
     "text": [
      "Batch in Progress: 100%|█████████████████████████████████████████| 251/251 [00:01<00:00, 183.00it/s]\n"
     ]
    },
    {
     "name": "stdout",
     "output_type": "stream",
     "text": [
      "Train Set:\n",
      "    Average Loss:  0.624582,    Accuracy: 67.20%,    Correct Counter: 2694/4009,    F1 Score: 0.77,    Precision: 0.66,    Recall:  0.92,    AUROC:  0.62\n",
      "\n"
     ]
    },
    {
     "name": "stderr",
     "output_type": "stream",
     "text": [
      "Batch in Progress: 100%|███████████████████████████████████████████| 64/64 [00:00<00:00, 220.55it/s]\n"
     ]
    },
    {
     "name": "stdout",
     "output_type": "stream",
     "text": [
      "Validation Set:\n",
      "    Average Loss:  0.612310,    Accuracy: 68.61%,    Correct Counter: 693/1010,    F1 Score: 0.77,    Precision: 0.65,    Recall:  0.95,    AUROC:  0.65\n",
      "\n",
      "Epoch 69/250\n"
     ]
    },
    {
     "name": "stderr",
     "output_type": "stream",
     "text": [
      "Batch in Progress: 100%|█████████████████████████████████████████| 251/251 [00:01<00:00, 184.21it/s]\n"
     ]
    },
    {
     "name": "stdout",
     "output_type": "stream",
     "text": [
      "Train Set:\n",
      "    Average Loss:  0.619131,    Accuracy: 67.00%,    Correct Counter: 2686/4009,    F1 Score: 0.76,    Precision: 0.66,    Recall:  0.91,    AUROC:  0.62\n",
      "\n"
     ]
    },
    {
     "name": "stderr",
     "output_type": "stream",
     "text": [
      "Batch in Progress: 100%|███████████████████████████████████████████| 64/64 [00:00<00:00, 220.95it/s]\n"
     ]
    },
    {
     "name": "stdout",
     "output_type": "stream",
     "text": [
      "Validation Set:\n",
      "    Average Loss:  0.607058,    Accuracy: 68.42%,    Correct Counter: 691/1010,    F1 Score: 0.77,    Precision: 0.65,    Recall:  0.96,    AUROC:  0.65\n",
      "\n",
      "Epoch 70/250\n"
     ]
    },
    {
     "name": "stderr",
     "output_type": "stream",
     "text": [
      "Batch in Progress: 100%|█████████████████████████████████████████| 251/251 [00:01<00:00, 184.65it/s]\n"
     ]
    },
    {
     "name": "stdout",
     "output_type": "stream",
     "text": [
      "Train Set:\n",
      "    Average Loss:  0.624140,    Accuracy: 67.60%,    Correct Counter: 2710/4009,    F1 Score: 0.77,    Precision: 0.66,    Recall:  0.92,    AUROC:  0.63\n",
      "\n"
     ]
    },
    {
     "name": "stderr",
     "output_type": "stream",
     "text": [
      "Batch in Progress: 100%|███████████████████████████████████████████| 64/64 [00:00<00:00, 220.73it/s]\n"
     ]
    },
    {
     "name": "stdout",
     "output_type": "stream",
     "text": [
      "Validation Set:\n",
      "    Average Loss:  0.624508,    Accuracy: 67.82%,    Correct Counter: 685/1010,    F1 Score: 0.77,    Precision: 0.64,    Recall:  0.97,    AUROC:  0.64\n",
      "\n",
      "Epoch 71/250\n"
     ]
    },
    {
     "name": "stderr",
     "output_type": "stream",
     "text": [
      "Batch in Progress: 100%|█████████████████████████████████████████| 251/251 [00:01<00:00, 184.94it/s]\n"
     ]
    },
    {
     "name": "stdout",
     "output_type": "stream",
     "text": [
      "Train Set:\n",
      "    Average Loss:  0.621201,    Accuracy: 67.70%,    Correct Counter: 2714/4009,    F1 Score: 0.77,    Precision: 0.66,    Recall:  0.92,    AUROC:  0.63\n",
      "\n"
     ]
    },
    {
     "name": "stderr",
     "output_type": "stream",
     "text": [
      "Batch in Progress: 100%|███████████████████████████████████████████| 64/64 [00:00<00:00, 218.63it/s]\n"
     ]
    },
    {
     "name": "stdout",
     "output_type": "stream",
     "text": [
      "Validation Set:\n",
      "    Average Loss:  0.614078,    Accuracy: 68.61%,    Correct Counter: 693/1010,    F1 Score: 0.77,    Precision: 0.65,    Recall:  0.95,    AUROC:  0.65\n",
      "\n",
      "Epoch 72/250\n"
     ]
    },
    {
     "name": "stderr",
     "output_type": "stream",
     "text": [
      "Batch in Progress: 100%|█████████████████████████████████████████| 251/251 [00:01<00:00, 184.60it/s]\n"
     ]
    },
    {
     "name": "stdout",
     "output_type": "stream",
     "text": [
      "Train Set:\n",
      "    Average Loss:  0.616536,    Accuracy: 67.52%,    Correct Counter: 2707/4009,    F1 Score: 0.77,    Precision: 0.66,    Recall:  0.92,    AUROC:  0.63\n",
      "\n"
     ]
    },
    {
     "name": "stderr",
     "output_type": "stream",
     "text": [
      "Batch in Progress: 100%|███████████████████████████████████████████| 64/64 [00:00<00:00, 219.07it/s]\n"
     ]
    },
    {
     "name": "stdout",
     "output_type": "stream",
     "text": [
      "Validation Set:\n",
      "    Average Loss:  0.607022,    Accuracy: 68.51%,    Correct Counter: 692/1010,    F1 Score: 0.77,    Precision: 0.65,    Recall:  0.93,    AUROC:  0.65\n",
      "\n",
      "Epoch 73/250\n"
     ]
    },
    {
     "name": "stderr",
     "output_type": "stream",
     "text": [
      "Batch in Progress: 100%|█████████████████████████████████████████| 251/251 [00:01<00:00, 184.42it/s]\n"
     ]
    },
    {
     "name": "stdout",
     "output_type": "stream",
     "text": [
      "Train Set:\n",
      "    Average Loss:  0.620765,    Accuracy: 67.30%,    Correct Counter: 2698/4009,    F1 Score: 0.77,    Precision: 0.66,    Recall:  0.92,    AUROC:  0.62\n",
      "\n"
     ]
    },
    {
     "name": "stderr",
     "output_type": "stream",
     "text": [
      "Batch in Progress: 100%|███████████████████████████████████████████| 64/64 [00:00<00:00, 220.55it/s]\n"
     ]
    },
    {
     "name": "stdout",
     "output_type": "stream",
     "text": [
      "Validation Set:\n",
      "    Average Loss:  0.598113,    Accuracy: 68.32%,    Correct Counter: 690/1010,    F1 Score: 0.76,    Precision: 0.66,    Recall:  0.91,    AUROC:  0.65\n",
      "\n",
      "Epoch 74/250\n"
     ]
    },
    {
     "name": "stderr",
     "output_type": "stream",
     "text": [
      "Batch in Progress: 100%|█████████████████████████████████████████| 251/251 [00:01<00:00, 184.05it/s]\n"
     ]
    },
    {
     "name": "stdout",
     "output_type": "stream",
     "text": [
      "Train Set:\n",
      "    Average Loss:  0.616789,    Accuracy: 67.70%,    Correct Counter: 2714/4009,    F1 Score: 0.77,    Precision: 0.66,    Recall:  0.92,    AUROC:  0.63\n",
      "\n"
     ]
    },
    {
     "name": "stderr",
     "output_type": "stream",
     "text": [
      "Batch in Progress: 100%|███████████████████████████████████████████| 64/64 [00:00<00:00, 218.29it/s]\n"
     ]
    },
    {
     "name": "stdout",
     "output_type": "stream",
     "text": [
      "Validation Set:\n",
      "    Average Loss:  0.600223,    Accuracy: 67.92%,    Correct Counter: 686/1010,    F1 Score: 0.76,    Precision: 0.65,    Recall:  0.93,    AUROC:  0.65\n",
      "\n",
      "Epoch 75/250\n"
     ]
    },
    {
     "name": "stderr",
     "output_type": "stream",
     "text": [
      "Batch in Progress: 100%|█████████████████████████████████████████| 251/251 [00:01<00:00, 184.26it/s]\n"
     ]
    },
    {
     "name": "stdout",
     "output_type": "stream",
     "text": [
      "Train Set:\n",
      "    Average Loss:  0.619728,    Accuracy: 67.52%,    Correct Counter: 2707/4009,    F1 Score: 0.77,    Precision: 0.66,    Recall:  0.92,    AUROC:  0.63\n",
      "\n"
     ]
    },
    {
     "name": "stderr",
     "output_type": "stream",
     "text": [
      "Batch in Progress: 100%|███████████████████████████████████████████| 64/64 [00:00<00:00, 217.87it/s]\n"
     ]
    },
    {
     "name": "stdout",
     "output_type": "stream",
     "text": [
      "Validation Set:\n",
      "    Average Loss:  0.589194,    Accuracy: 68.32%,    Correct Counter: 690/1010,    F1 Score: 0.76,    Precision: 0.66,    Recall:  0.91,    AUROC:  0.65\n",
      "\n",
      "Epoch 76/250\n"
     ]
    },
    {
     "name": "stderr",
     "output_type": "stream",
     "text": [
      "Batch in Progress: 100%|█████████████████████████████████████████| 251/251 [00:01<00:00, 181.51it/s]\n"
     ]
    },
    {
     "name": "stdout",
     "output_type": "stream",
     "text": [
      "Train Set:\n",
      "    Average Loss:  0.621898,    Accuracy: 68.25%,    Correct Counter: 2736/4009,    F1 Score: 0.77,    Precision: 0.66,    Recall:  0.93,    AUROC:  0.63\n",
      "\n"
     ]
    },
    {
     "name": "stderr",
     "output_type": "stream",
     "text": [
      "Batch in Progress: 100%|███████████████████████████████████████████| 64/64 [00:00<00:00, 220.00it/s]\n"
     ]
    },
    {
     "name": "stdout",
     "output_type": "stream",
     "text": [
      "Validation Set:\n",
      "    Average Loss:  0.609300,    Accuracy: 68.22%,    Correct Counter: 689/1010,    F1 Score: 0.77,    Precision: 0.65,    Recall:  0.94,    AUROC:  0.65\n",
      "\n",
      "Epoch 77/250\n"
     ]
    },
    {
     "name": "stderr",
     "output_type": "stream",
     "text": [
      "Batch in Progress: 100%|█████████████████████████████████████████| 251/251 [00:01<00:00, 183.61it/s]\n"
     ]
    },
    {
     "name": "stdout",
     "output_type": "stream",
     "text": [
      "Train Set:\n",
      "    Average Loss:  0.618041,    Accuracy: 67.60%,    Correct Counter: 2710/4009,    F1 Score: 0.77,    Precision: 0.66,    Recall:  0.92,    AUROC:  0.63\n",
      "\n"
     ]
    },
    {
     "name": "stderr",
     "output_type": "stream",
     "text": [
      "Batch in Progress: 100%|███████████████████████████████████████████| 64/64 [00:00<00:00, 220.06it/s]\n"
     ]
    },
    {
     "name": "stdout",
     "output_type": "stream",
     "text": [
      "Validation Set:\n",
      "    Average Loss:  0.609416,    Accuracy: 68.61%,    Correct Counter: 693/1010,    F1 Score: 0.77,    Precision: 0.65,    Recall:  0.95,    AUROC:  0.65\n",
      "\n",
      "Epoch 78/250\n"
     ]
    },
    {
     "name": "stderr",
     "output_type": "stream",
     "text": [
      "Batch in Progress: 100%|█████████████████████████████████████████| 251/251 [00:01<00:00, 184.03it/s]\n"
     ]
    },
    {
     "name": "stdout",
     "output_type": "stream",
     "text": [
      "Train Set:\n",
      "    Average Loss:  0.622160,    Accuracy: 67.17%,    Correct Counter: 2693/4009,    F1 Score: 0.77,    Precision: 0.66,    Recall:  0.92,    AUROC:  0.62\n",
      "\n"
     ]
    },
    {
     "name": "stderr",
     "output_type": "stream",
     "text": [
      "Batch in Progress: 100%|███████████████████████████████████████████| 64/64 [00:00<00:00, 218.45it/s]\n"
     ]
    },
    {
     "name": "stdout",
     "output_type": "stream",
     "text": [
      "Validation Set:\n",
      "    Average Loss:  0.614059,    Accuracy: 69.01%,    Correct Counter: 697/1010,    F1 Score: 0.77,    Precision: 0.65,    Recall:  0.95,    AUROC:  0.66\n",
      "\n",
      "Epoch 79/250\n"
     ]
    },
    {
     "name": "stderr",
     "output_type": "stream",
     "text": [
      "Batch in Progress: 100%|█████████████████████████████████████████| 251/251 [00:01<00:00, 182.99it/s]\n"
     ]
    },
    {
     "name": "stdout",
     "output_type": "stream",
     "text": [
      "Train Set:\n",
      "    Average Loss:  0.621778,    Accuracy: 67.70%,    Correct Counter: 2714/4009,    F1 Score: 0.77,    Precision: 0.66,    Recall:  0.92,    AUROC:  0.63\n",
      "\n"
     ]
    },
    {
     "name": "stderr",
     "output_type": "stream",
     "text": [
      "Batch in Progress: 100%|███████████████████████████████████████████| 64/64 [00:00<00:00, 220.29it/s]\n"
     ]
    },
    {
     "name": "stdout",
     "output_type": "stream",
     "text": [
      "Validation Set:\n",
      "    Average Loss:  0.599899,    Accuracy: 67.92%,    Correct Counter: 686/1010,    F1 Score: 0.76,    Precision: 0.65,    Recall:  0.93,    AUROC:  0.65\n",
      "\n",
      "Epoch 80/250\n"
     ]
    },
    {
     "name": "stderr",
     "output_type": "stream",
     "text": [
      "Batch in Progress: 100%|█████████████████████████████████████████| 251/251 [00:01<00:00, 183.98it/s]\n"
     ]
    },
    {
     "name": "stdout",
     "output_type": "stream",
     "text": [
      "Train Set:\n",
      "    Average Loss:  0.615916,    Accuracy: 67.97%,    Correct Counter: 2725/4009,    F1 Score: 0.77,    Precision: 0.66,    Recall:  0.92,    AUROC:  0.63\n",
      "\n"
     ]
    },
    {
     "name": "stderr",
     "output_type": "stream",
     "text": [
      "Batch in Progress: 100%|███████████████████████████████████████████| 64/64 [00:00<00:00, 219.48it/s]\n"
     ]
    },
    {
     "name": "stdout",
     "output_type": "stream",
     "text": [
      "Validation Set:\n",
      "    Average Loss:  0.614215,    Accuracy: 68.42%,    Correct Counter: 691/1010,    F1 Score: 0.77,    Precision: 0.65,    Recall:  0.96,    AUROC:  0.65\n",
      "\n",
      "Epoch 81/250\n"
     ]
    },
    {
     "name": "stderr",
     "output_type": "stream",
     "text": [
      "Batch in Progress: 100%|█████████████████████████████████████████| 251/251 [00:01<00:00, 184.24it/s]\n"
     ]
    },
    {
     "name": "stdout",
     "output_type": "stream",
     "text": [
      "Train Set:\n",
      "    Average Loss:  0.617164,    Accuracy: 67.77%,    Correct Counter: 2717/4009,    F1 Score: 0.77,    Precision: 0.66,    Recall:  0.92,    AUROC:  0.63\n",
      "\n"
     ]
    },
    {
     "name": "stderr",
     "output_type": "stream",
     "text": [
      "Batch in Progress: 100%|███████████████████████████████████████████| 64/64 [00:00<00:00, 220.38it/s]\n"
     ]
    },
    {
     "name": "stdout",
     "output_type": "stream",
     "text": [
      "Validation Set:\n",
      "    Average Loss:  0.603139,    Accuracy: 67.82%,    Correct Counter: 685/1010,    F1 Score: 0.76,    Precision: 0.65,    Recall:  0.93,    AUROC:  0.65\n",
      "\n",
      "Epoch 82/250\n"
     ]
    },
    {
     "name": "stderr",
     "output_type": "stream",
     "text": [
      "Batch in Progress: 100%|█████████████████████████████████████████| 251/251 [00:01<00:00, 184.74it/s]\n"
     ]
    },
    {
     "name": "stdout",
     "output_type": "stream",
     "text": [
      "Train Set:\n",
      "    Average Loss:  0.621218,    Accuracy: 67.75%,    Correct Counter: 2716/4009,    F1 Score: 0.77,    Precision: 0.66,    Recall:  0.92,    AUROC:  0.63\n",
      "\n"
     ]
    },
    {
     "name": "stderr",
     "output_type": "stream",
     "text": [
      "Batch in Progress: 100%|███████████████████████████████████████████| 64/64 [00:00<00:00, 219.77it/s]\n"
     ]
    },
    {
     "name": "stdout",
     "output_type": "stream",
     "text": [
      "Validation Set:\n",
      "    Average Loss:  0.609515,    Accuracy: 68.51%,    Correct Counter: 692/1010,    F1 Score: 0.77,    Precision: 0.65,    Recall:  0.96,    AUROC:  0.65\n",
      "\n",
      "Epoch 83/250\n"
     ]
    },
    {
     "name": "stderr",
     "output_type": "stream",
     "text": [
      "Batch in Progress: 100%|█████████████████████████████████████████| 251/251 [00:01<00:00, 183.34it/s]\n"
     ]
    },
    {
     "name": "stdout",
     "output_type": "stream",
     "text": [
      "Train Set:\n",
      "    Average Loss:  0.618232,    Accuracy: 67.90%,    Correct Counter: 2722/4009,    F1 Score: 0.77,    Precision: 0.66,    Recall:  0.92,    AUROC:  0.63\n",
      "\n"
     ]
    },
    {
     "name": "stderr",
     "output_type": "stream",
     "text": [
      "Batch in Progress: 100%|███████████████████████████████████████████| 64/64 [00:00<00:00, 205.22it/s]\n"
     ]
    },
    {
     "name": "stdout",
     "output_type": "stream",
     "text": [
      "Validation Set:\n",
      "    Average Loss:  0.596381,    Accuracy: 68.32%,    Correct Counter: 690/1010,    F1 Score: 0.76,    Precision: 0.65,    Recall:  0.91,    AUROC:  0.65\n",
      "\n",
      "Epoch 84/250\n"
     ]
    },
    {
     "name": "stderr",
     "output_type": "stream",
     "text": [
      "Batch in Progress: 100%|█████████████████████████████████████████| 251/251 [00:01<00:00, 182.52it/s]\n"
     ]
    },
    {
     "name": "stdout",
     "output_type": "stream",
     "text": [
      "Train Set:\n",
      "    Average Loss:  0.621630,    Accuracy: 67.77%,    Correct Counter: 2717/4009,    F1 Score: 0.77,    Precision: 0.66,    Recall:  0.92,    AUROC:  0.63\n",
      "\n"
     ]
    },
    {
     "name": "stderr",
     "output_type": "stream",
     "text": [
      "Batch in Progress: 100%|███████████████████████████████████████████| 64/64 [00:00<00:00, 218.23it/s]\n"
     ]
    },
    {
     "name": "stdout",
     "output_type": "stream",
     "text": [
      "Validation Set:\n",
      "    Average Loss:  0.596444,    Accuracy: 67.72%,    Correct Counter: 684/1010,    F1 Score: 0.76,    Precision: 0.65,    Recall:  0.91,    AUROC:  0.65\n",
      "\n",
      "Epoch 85/250\n"
     ]
    },
    {
     "name": "stderr",
     "output_type": "stream",
     "text": [
      "Batch in Progress: 100%|█████████████████████████████████████████| 251/251 [00:01<00:00, 184.52it/s]\n"
     ]
    },
    {
     "name": "stdout",
     "output_type": "stream",
     "text": [
      "Train Set:\n",
      "    Average Loss:  0.625090,    Accuracy: 67.60%,    Correct Counter: 2710/4009,    F1 Score: 0.77,    Precision: 0.66,    Recall:  0.93,    AUROC:  0.63\n",
      "\n"
     ]
    },
    {
     "name": "stderr",
     "output_type": "stream",
     "text": [
      "Batch in Progress: 100%|███████████████████████████████████████████| 64/64 [00:00<00:00, 220.72it/s]\n"
     ]
    },
    {
     "name": "stdout",
     "output_type": "stream",
     "text": [
      "Validation Set:\n",
      "    Average Loss:  0.605871,    Accuracy: 68.51%,    Correct Counter: 692/1010,    F1 Score: 0.77,    Precision: 0.65,    Recall:  0.96,    AUROC:  0.65\n",
      "\n",
      "Epoch 86/250\n"
     ]
    },
    {
     "name": "stderr",
     "output_type": "stream",
     "text": [
      "Batch in Progress: 100%|█████████████████████████████████████████| 251/251 [00:01<00:00, 185.04it/s]\n"
     ]
    },
    {
     "name": "stdout",
     "output_type": "stream",
     "text": [
      "Train Set:\n",
      "    Average Loss:  0.622075,    Accuracy: 67.42%,    Correct Counter: 2703/4009,    F1 Score: 0.77,    Precision: 0.65,    Recall:  0.93,    AUROC:  0.62\n",
      "\n"
     ]
    },
    {
     "name": "stderr",
     "output_type": "stream",
     "text": [
      "Batch in Progress: 100%|███████████████████████████████████████████| 64/64 [00:00<00:00, 219.88it/s]\n"
     ]
    },
    {
     "name": "stdout",
     "output_type": "stream",
     "text": [
      "Validation Set:\n",
      "    Average Loss:  0.612167,    Accuracy: 68.42%,    Correct Counter: 691/1010,    F1 Score: 0.77,    Precision: 0.65,    Recall:  0.96,    AUROC:  0.65\n",
      "\n",
      "Epoch 87/250\n"
     ]
    },
    {
     "name": "stderr",
     "output_type": "stream",
     "text": [
      "Batch in Progress: 100%|█████████████████████████████████████████| 251/251 [00:01<00:00, 184.57it/s]\n"
     ]
    },
    {
     "name": "stdout",
     "output_type": "stream",
     "text": [
      "Train Set:\n",
      "    Average Loss:  0.620663,    Accuracy: 67.70%,    Correct Counter: 2714/4009,    F1 Score: 0.77,    Precision: 0.66,    Recall:  0.93,    AUROC:  0.63\n",
      "\n"
     ]
    },
    {
     "name": "stderr",
     "output_type": "stream",
     "text": [
      "Batch in Progress: 100%|███████████████████████████████████████████| 64/64 [00:00<00:00, 219.70it/s]\n"
     ]
    },
    {
     "name": "stdout",
     "output_type": "stream",
     "text": [
      "Validation Set:\n",
      "    Average Loss:  0.605212,    Accuracy: 68.22%,    Correct Counter: 689/1010,    F1 Score: 0.77,    Precision: 0.65,    Recall:  0.94,    AUROC:  0.65\n",
      "\n",
      "Epoch 88/250\n"
     ]
    },
    {
     "name": "stderr",
     "output_type": "stream",
     "text": [
      "Batch in Progress: 100%|█████████████████████████████████████████| 251/251 [00:01<00:00, 183.48it/s]\n"
     ]
    },
    {
     "name": "stdout",
     "output_type": "stream",
     "text": [
      "Train Set:\n",
      "    Average Loss:  0.626621,    Accuracy: 67.02%,    Correct Counter: 2687/4009,    F1 Score: 0.77,    Precision: 0.65,    Recall:  0.92,    AUROC:  0.62\n",
      "\n"
     ]
    },
    {
     "name": "stderr",
     "output_type": "stream",
     "text": [
      "Batch in Progress: 100%|███████████████████████████████████████████| 64/64 [00:00<00:00, 219.63it/s]\n"
     ]
    },
    {
     "name": "stdout",
     "output_type": "stream",
     "text": [
      "Validation Set:\n",
      "    Average Loss:  0.621660,    Accuracy: 67.03%,    Correct Counter: 677/1010,    F1 Score: 0.77,    Precision: 0.63,    Recall:  0.97,    AUROC:  0.63\n",
      "\n",
      "Epoch 89/250\n"
     ]
    },
    {
     "name": "stderr",
     "output_type": "stream",
     "text": [
      "Batch in Progress: 100%|█████████████████████████████████████████| 251/251 [00:01<00:00, 184.33it/s]\n"
     ]
    },
    {
     "name": "stdout",
     "output_type": "stream",
     "text": [
      "Train Set:\n",
      "    Average Loss:  0.619964,    Accuracy: 67.67%,    Correct Counter: 2713/4009,    F1 Score: 0.77,    Precision: 0.66,    Recall:  0.92,    AUROC:  0.63\n",
      "\n"
     ]
    },
    {
     "name": "stderr",
     "output_type": "stream",
     "text": [
      "Batch in Progress: 100%|███████████████████████████████████████████| 64/64 [00:00<00:00, 219.62it/s]\n"
     ]
    },
    {
     "name": "stdout",
     "output_type": "stream",
     "text": [
      "Validation Set:\n",
      "    Average Loss:  0.616010,    Accuracy: 68.61%,    Correct Counter: 693/1010,    F1 Score: 0.77,    Precision: 0.65,    Recall:  0.96,    AUROC:  0.65\n",
      "\n",
      "Epoch 90/250\n"
     ]
    },
    {
     "name": "stderr",
     "output_type": "stream",
     "text": [
      "Batch in Progress: 100%|█████████████████████████████████████████| 251/251 [00:01<00:00, 183.03it/s]\n"
     ]
    },
    {
     "name": "stdout",
     "output_type": "stream",
     "text": [
      "Train Set:\n",
      "    Average Loss:  0.621700,    Accuracy: 67.15%,    Correct Counter: 2692/4009,    F1 Score: 0.77,    Precision: 0.66,    Recall:  0.92,    AUROC:  0.62\n",
      "\n"
     ]
    },
    {
     "name": "stderr",
     "output_type": "stream",
     "text": [
      "Batch in Progress: 100%|███████████████████████████████████████████| 64/64 [00:00<00:00, 220.51it/s]\n"
     ]
    },
    {
     "name": "stdout",
     "output_type": "stream",
     "text": [
      "Validation Set:\n",
      "    Average Loss:  0.594909,    Accuracy: 68.32%,    Correct Counter: 690/1010,    F1 Score: 0.76,    Precision: 0.66,    Recall:  0.91,    AUROC:  0.65\n",
      "\n",
      "Epoch 91/250\n"
     ]
    },
    {
     "name": "stderr",
     "output_type": "stream",
     "text": [
      "Batch in Progress: 100%|█████████████████████████████████████████| 251/251 [00:01<00:00, 183.33it/s]\n"
     ]
    },
    {
     "name": "stdout",
     "output_type": "stream",
     "text": [
      "Train Set:\n",
      "    Average Loss:  0.615578,    Accuracy: 67.62%,    Correct Counter: 2711/4009,    F1 Score: 0.77,    Precision: 0.66,    Recall:  0.92,    AUROC:  0.63\n",
      "\n"
     ]
    },
    {
     "name": "stderr",
     "output_type": "stream",
     "text": [
      "Batch in Progress: 100%|███████████████████████████████████████████| 64/64 [00:00<00:00, 219.55it/s]\n"
     ]
    },
    {
     "name": "stdout",
     "output_type": "stream",
     "text": [
      "Validation Set:\n",
      "    Average Loss:  0.607440,    Accuracy: 67.43%,    Correct Counter: 681/1010,    F1 Score: 0.76,    Precision: 0.64,    Recall:  0.93,    AUROC:  0.64\n",
      "\n",
      "Epoch 92/250\n"
     ]
    },
    {
     "name": "stderr",
     "output_type": "stream",
     "text": [
      "Batch in Progress: 100%|█████████████████████████████████████████| 251/251 [00:01<00:00, 182.70it/s]\n"
     ]
    },
    {
     "name": "stdout",
     "output_type": "stream",
     "text": [
      "Train Set:\n",
      "    Average Loss:  0.618315,    Accuracy: 67.92%,    Correct Counter: 2723/4009,    F1 Score: 0.77,    Precision: 0.66,    Recall:  0.92,    AUROC:  0.63\n",
      "\n"
     ]
    },
    {
     "name": "stderr",
     "output_type": "stream",
     "text": [
      "Batch in Progress: 100%|███████████████████████████████████████████| 64/64 [00:00<00:00, 220.44it/s]\n"
     ]
    },
    {
     "name": "stdout",
     "output_type": "stream",
     "text": [
      "Validation Set:\n",
      "    Average Loss:  0.613949,    Accuracy: 68.61%,    Correct Counter: 693/1010,    F1 Score: 0.77,    Precision: 0.65,    Recall:  0.96,    AUROC:  0.65\n",
      "\n",
      "Epoch 93/250\n"
     ]
    },
    {
     "name": "stderr",
     "output_type": "stream",
     "text": [
      "Batch in Progress: 100%|█████████████████████████████████████████| 251/251 [00:01<00:00, 182.84it/s]\n"
     ]
    },
    {
     "name": "stdout",
     "output_type": "stream",
     "text": [
      "Train Set:\n",
      "    Average Loss:  0.622651,    Accuracy: 67.05%,    Correct Counter: 2688/4009,    F1 Score: 0.77,    Precision: 0.65,    Recall:  0.93,    AUROC:  0.62\n",
      "\n"
     ]
    },
    {
     "name": "stderr",
     "output_type": "stream",
     "text": [
      "Batch in Progress: 100%|███████████████████████████████████████████| 64/64 [00:00<00:00, 220.27it/s]\n"
     ]
    },
    {
     "name": "stdout",
     "output_type": "stream",
     "text": [
      "Validation Set:\n",
      "    Average Loss:  0.608838,    Accuracy: 68.61%,    Correct Counter: 693/1010,    F1 Score: 0.77,    Precision: 0.65,    Recall:  0.96,    AUROC:  0.65\n",
      "\n",
      "Epoch 94/250\n"
     ]
    },
    {
     "name": "stderr",
     "output_type": "stream",
     "text": [
      "Batch in Progress: 100%|█████████████████████████████████████████| 251/251 [00:01<00:00, 180.45it/s]\n"
     ]
    },
    {
     "name": "stdout",
     "output_type": "stream",
     "text": [
      "Train Set:\n",
      "    Average Loss:  0.622333,    Accuracy: 67.30%,    Correct Counter: 2698/4009,    F1 Score: 0.77,    Precision: 0.66,    Recall:  0.92,    AUROC:  0.62\n",
      "\n"
     ]
    },
    {
     "name": "stderr",
     "output_type": "stream",
     "text": [
      "Batch in Progress: 100%|███████████████████████████████████████████| 64/64 [00:00<00:00, 220.58it/s]\n"
     ]
    },
    {
     "name": "stdout",
     "output_type": "stream",
     "text": [
      "Validation Set:\n",
      "    Average Loss:  0.612156,    Accuracy: 68.42%,    Correct Counter: 691/1010,    F1 Score: 0.77,    Precision: 0.65,    Recall:  0.96,    AUROC:  0.65\n",
      "\n",
      "Epoch 95/250\n"
     ]
    },
    {
     "name": "stderr",
     "output_type": "stream",
     "text": [
      "Batch in Progress: 100%|█████████████████████████████████████████| 251/251 [00:01<00:00, 182.64it/s]\n"
     ]
    },
    {
     "name": "stdout",
     "output_type": "stream",
     "text": [
      "Train Set:\n",
      "    Average Loss:  0.611099,    Accuracy: 68.07%,    Correct Counter: 2729/4009,    F1 Score: 0.77,    Precision: 0.66,    Recall:  0.92,    AUROC:  0.63\n",
      "\n"
     ]
    },
    {
     "name": "stderr",
     "output_type": "stream",
     "text": [
      "Batch in Progress: 100%|███████████████████████████████████████████| 64/64 [00:00<00:00, 219.72it/s]\n"
     ]
    },
    {
     "name": "stdout",
     "output_type": "stream",
     "text": [
      "Validation Set:\n",
      "    Average Loss:  0.597679,    Accuracy: 67.82%,    Correct Counter: 685/1010,    F1 Score: 0.76,    Precision: 0.65,    Recall:  0.93,    AUROC:  0.65\n",
      "\n",
      "Epoch 96/250\n"
     ]
    },
    {
     "name": "stderr",
     "output_type": "stream",
     "text": [
      "Batch in Progress: 100%|█████████████████████████████████████████| 251/251 [00:01<00:00, 182.65it/s]\n"
     ]
    },
    {
     "name": "stdout",
     "output_type": "stream",
     "text": [
      "Train Set:\n",
      "    Average Loss:  0.619121,    Accuracy: 67.60%,    Correct Counter: 2710/4009,    F1 Score: 0.77,    Precision: 0.66,    Recall:  0.92,    AUROC:  0.63\n",
      "\n"
     ]
    },
    {
     "name": "stderr",
     "output_type": "stream",
     "text": [
      "Batch in Progress: 100%|███████████████████████████████████████████| 64/64 [00:00<00:00, 219.45it/s]\n"
     ]
    },
    {
     "name": "stdout",
     "output_type": "stream",
     "text": [
      "Validation Set:\n",
      "    Average Loss:  0.601979,    Accuracy: 68.61%,    Correct Counter: 693/1010,    F1 Score: 0.77,    Precision: 0.65,    Recall:  0.95,    AUROC:  0.65\n",
      "\n",
      "Epoch 97/250\n"
     ]
    },
    {
     "name": "stderr",
     "output_type": "stream",
     "text": [
      "Batch in Progress: 100%|█████████████████████████████████████████| 251/251 [00:01<00:00, 184.02it/s]\n"
     ]
    },
    {
     "name": "stdout",
     "output_type": "stream",
     "text": [
      "Train Set:\n",
      "    Average Loss:  0.619502,    Accuracy: 67.27%,    Correct Counter: 2697/4009,    F1 Score: 0.77,    Precision: 0.66,    Recall:  0.91,    AUROC:  0.62\n",
      "\n"
     ]
    },
    {
     "name": "stderr",
     "output_type": "stream",
     "text": [
      "Batch in Progress: 100%|███████████████████████████████████████████| 64/64 [00:00<00:00, 220.00it/s]\n"
     ]
    },
    {
     "name": "stdout",
     "output_type": "stream",
     "text": [
      "Validation Set:\n",
      "    Average Loss:  0.604101,    Accuracy: 68.61%,    Correct Counter: 693/1010,    F1 Score: 0.77,    Precision: 0.65,    Recall:  0.95,    AUROC:  0.65\n",
      "\n",
      "Epoch 98/250\n"
     ]
    },
    {
     "name": "stderr",
     "output_type": "stream",
     "text": [
      "Batch in Progress: 100%|█████████████████████████████████████████| 251/251 [00:01<00:00, 184.68it/s]\n"
     ]
    },
    {
     "name": "stdout",
     "output_type": "stream",
     "text": [
      "Train Set:\n",
      "    Average Loss:  0.619092,    Accuracy: 67.37%,    Correct Counter: 2701/4009,    F1 Score: 0.77,    Precision: 0.66,    Recall:  0.92,    AUROC:  0.62\n",
      "\n"
     ]
    },
    {
     "name": "stderr",
     "output_type": "stream",
     "text": [
      "Batch in Progress: 100%|███████████████████████████████████████████| 64/64 [00:00<00:00, 220.68it/s]\n"
     ]
    },
    {
     "name": "stdout",
     "output_type": "stream",
     "text": [
      "Validation Set:\n",
      "    Average Loss:  0.595036,    Accuracy: 67.92%,    Correct Counter: 686/1010,    F1 Score: 0.76,    Precision: 0.65,    Recall:  0.93,    AUROC:  0.65\n",
      "\n",
      "Epoch 99/250\n"
     ]
    },
    {
     "name": "stderr",
     "output_type": "stream",
     "text": [
      "Batch in Progress: 100%|█████████████████████████████████████████| 251/251 [00:01<00:00, 176.99it/s]\n"
     ]
    },
    {
     "name": "stdout",
     "output_type": "stream",
     "text": [
      "Train Set:\n",
      "    Average Loss:  0.619511,    Accuracy: 67.07%,    Correct Counter: 2689/4009,    F1 Score: 0.77,    Precision: 0.66,    Recall:  0.92,    AUROC:  0.62\n",
      "\n"
     ]
    },
    {
     "name": "stderr",
     "output_type": "stream",
     "text": [
      "Batch in Progress: 100%|███████████████████████████████████████████| 64/64 [00:00<00:00, 204.95it/s]\n"
     ]
    },
    {
     "name": "stdout",
     "output_type": "stream",
     "text": [
      "Validation Set:\n",
      "    Average Loss:  0.592495,    Accuracy: 68.22%,    Correct Counter: 689/1010,    F1 Score: 0.77,    Precision: 0.65,    Recall:  0.94,    AUROC:  0.65\n",
      "\n",
      "Epoch 100/250\n"
     ]
    },
    {
     "name": "stderr",
     "output_type": "stream",
     "text": [
      "Batch in Progress: 100%|█████████████████████████████████████████| 251/251 [00:01<00:00, 178.84it/s]\n"
     ]
    },
    {
     "name": "stdout",
     "output_type": "stream",
     "text": [
      "Train Set:\n",
      "    Average Loss:  0.620798,    Accuracy: 67.17%,    Correct Counter: 2693/4009,    F1 Score: 0.77,    Precision: 0.65,    Recall:  0.93,    AUROC:  0.62\n",
      "\n"
     ]
    },
    {
     "name": "stderr",
     "output_type": "stream",
     "text": [
      "Batch in Progress: 100%|███████████████████████████████████████████| 64/64 [00:00<00:00, 219.72it/s]\n"
     ]
    },
    {
     "name": "stdout",
     "output_type": "stream",
     "text": [
      "Validation Set:\n",
      "    Average Loss:  0.597740,    Accuracy: 67.72%,    Correct Counter: 684/1010,    F1 Score: 0.76,    Precision: 0.65,    Recall:  0.91,    AUROC:  0.65\n",
      "\n",
      "Epoch 101/250\n"
     ]
    },
    {
     "name": "stderr",
     "output_type": "stream",
     "text": [
      "Batch in Progress: 100%|█████████████████████████████████████████| 251/251 [00:01<00:00, 184.26it/s]\n"
     ]
    },
    {
     "name": "stdout",
     "output_type": "stream",
     "text": [
      "Train Set:\n",
      "    Average Loss:  0.618899,    Accuracy: 67.35%,    Correct Counter: 2700/4009,    F1 Score: 0.77,    Precision: 0.66,    Recall:  0.92,    AUROC:  0.62\n",
      "\n"
     ]
    },
    {
     "name": "stderr",
     "output_type": "stream",
     "text": [
      "Batch in Progress: 100%|███████████████████████████████████████████| 64/64 [00:00<00:00, 219.94it/s]\n"
     ]
    },
    {
     "name": "stdout",
     "output_type": "stream",
     "text": [
      "Validation Set:\n",
      "    Average Loss:  0.603083,    Accuracy: 68.22%,    Correct Counter: 689/1010,    F1 Score: 0.77,    Precision: 0.65,    Recall:  0.94,    AUROC:  0.65\n",
      "\n",
      "Epoch 102/250\n"
     ]
    },
    {
     "name": "stderr",
     "output_type": "stream",
     "text": [
      "Batch in Progress: 100%|█████████████████████████████████████████| 251/251 [00:01<00:00, 184.94it/s]\n"
     ]
    },
    {
     "name": "stdout",
     "output_type": "stream",
     "text": [
      "Train Set:\n",
      "    Average Loss:  0.621468,    Accuracy: 67.40%,    Correct Counter: 2702/4009,    F1 Score: 0.77,    Precision: 0.66,    Recall:  0.93,    AUROC:  0.62\n",
      "\n"
     ]
    },
    {
     "name": "stderr",
     "output_type": "stream",
     "text": [
      "Batch in Progress: 100%|███████████████████████████████████████████| 64/64 [00:00<00:00, 219.04it/s]\n"
     ]
    },
    {
     "name": "stdout",
     "output_type": "stream",
     "text": [
      "Validation Set:\n",
      "    Average Loss:  0.594846,    Accuracy: 67.72%,    Correct Counter: 684/1010,    F1 Score: 0.76,    Precision: 0.65,    Recall:  0.91,    AUROC:  0.65\n",
      "\n",
      "Epoch 103/250\n"
     ]
    },
    {
     "name": "stderr",
     "output_type": "stream",
     "text": [
      "Batch in Progress: 100%|█████████████████████████████████████████| 251/251 [00:01<00:00, 185.16it/s]\n"
     ]
    },
    {
     "name": "stdout",
     "output_type": "stream",
     "text": [
      "Train Set:\n",
      "    Average Loss:  0.625584,    Accuracy: 67.50%,    Correct Counter: 2706/4009,    F1 Score: 0.77,    Precision: 0.66,    Recall:  0.92,    AUROC:  0.62\n",
      "\n"
     ]
    },
    {
     "name": "stderr",
     "output_type": "stream",
     "text": [
      "Batch in Progress: 100%|███████████████████████████████████████████| 64/64 [00:00<00:00, 220.08it/s]\n"
     ]
    },
    {
     "name": "stdout",
     "output_type": "stream",
     "text": [
      "Validation Set:\n",
      "    Average Loss:  0.605914,    Accuracy: 68.22%,    Correct Counter: 689/1010,    F1 Score: 0.77,    Precision: 0.65,    Recall:  0.94,    AUROC:  0.65\n",
      "\n",
      "Epoch 104/250\n"
     ]
    },
    {
     "name": "stderr",
     "output_type": "stream",
     "text": [
      "Batch in Progress: 100%|█████████████████████████████████████████| 251/251 [00:01<00:00, 182.27it/s]\n"
     ]
    },
    {
     "name": "stdout",
     "output_type": "stream",
     "text": [
      "Train Set:\n",
      "    Average Loss:  0.638632,    Accuracy: 67.65%,    Correct Counter: 2712/4009,    F1 Score: 0.77,    Precision: 0.66,    Recall:  0.93,    AUROC:  0.63\n",
      "\n"
     ]
    },
    {
     "name": "stderr",
     "output_type": "stream",
     "text": [
      "Batch in Progress: 100%|███████████████████████████████████████████| 64/64 [00:00<00:00, 218.49it/s]\n"
     ]
    },
    {
     "name": "stdout",
     "output_type": "stream",
     "text": [
      "Validation Set:\n",
      "    Average Loss:  0.617268,    Accuracy: 68.71%,    Correct Counter: 694/1010,    F1 Score: 0.77,    Precision: 0.65,    Recall:  0.96,    AUROC:  0.65\n",
      "\n",
      "Epoch 105/250\n"
     ]
    },
    {
     "name": "stderr",
     "output_type": "stream",
     "text": [
      "Batch in Progress: 100%|█████████████████████████████████████████| 251/251 [00:01<00:00, 184.16it/s]\n"
     ]
    },
    {
     "name": "stdout",
     "output_type": "stream",
     "text": [
      "Train Set:\n",
      "    Average Loss:  0.622805,    Accuracy: 66.97%,    Correct Counter: 2685/4009,    F1 Score: 0.77,    Precision: 0.65,    Recall:  0.93,    AUROC:  0.62\n",
      "\n"
     ]
    },
    {
     "name": "stderr",
     "output_type": "stream",
     "text": [
      "Batch in Progress: 100%|███████████████████████████████████████████| 64/64 [00:00<00:00, 219.88it/s]\n"
     ]
    },
    {
     "name": "stdout",
     "output_type": "stream",
     "text": [
      "Validation Set:\n",
      "    Average Loss:  0.591621,    Accuracy: 67.92%,    Correct Counter: 686/1010,    F1 Score: 0.76,    Precision: 0.65,    Recall:  0.93,    AUROC:  0.65\n",
      "\n",
      "Epoch 106/250\n"
     ]
    },
    {
     "name": "stderr",
     "output_type": "stream",
     "text": [
      "Batch in Progress: 100%|█████████████████████████████████████████| 251/251 [00:01<00:00, 184.12it/s]\n"
     ]
    },
    {
     "name": "stdout",
     "output_type": "stream",
     "text": [
      "Train Set:\n",
      "    Average Loss:  0.621170,    Accuracy: 67.37%,    Correct Counter: 2701/4009,    F1 Score: 0.77,    Precision: 0.66,    Recall:  0.93,    AUROC:  0.62\n",
      "\n"
     ]
    },
    {
     "name": "stderr",
     "output_type": "stream",
     "text": [
      "Batch in Progress: 100%|███████████████████████████████████████████| 64/64 [00:00<00:00, 219.93it/s]\n"
     ]
    },
    {
     "name": "stdout",
     "output_type": "stream",
     "text": [
      "Validation Set:\n",
      "    Average Loss:  0.598599,    Accuracy: 68.22%,    Correct Counter: 689/1010,    F1 Score: 0.77,    Precision: 0.65,    Recall:  0.94,    AUROC:  0.65\n",
      "\n",
      "Epoch 107/250\n"
     ]
    },
    {
     "name": "stderr",
     "output_type": "stream",
     "text": [
      "Batch in Progress: 100%|█████████████████████████████████████████| 251/251 [00:01<00:00, 184.25it/s]\n"
     ]
    },
    {
     "name": "stdout",
     "output_type": "stream",
     "text": [
      "Train Set:\n",
      "    Average Loss:  0.615847,    Accuracy: 68.32%,    Correct Counter: 2739/4009,    F1 Score: 0.77,    Precision: 0.66,    Recall:  0.93,    AUROC:  0.63\n",
      "\n"
     ]
    },
    {
     "name": "stderr",
     "output_type": "stream",
     "text": [
      "Batch in Progress: 100%|███████████████████████████████████████████| 64/64 [00:00<00:00, 211.75it/s]\n"
     ]
    },
    {
     "name": "stdout",
     "output_type": "stream",
     "text": [
      "Validation Set:\n",
      "    Average Loss:  0.604418,    Accuracy: 68.42%,    Correct Counter: 691/1010,    F1 Score: 0.77,    Precision: 0.65,    Recall:  0.96,    AUROC:  0.65\n",
      "\n",
      "Epoch 108/250\n"
     ]
    },
    {
     "name": "stderr",
     "output_type": "stream",
     "text": [
      "Batch in Progress: 100%|█████████████████████████████████████████| 251/251 [00:01<00:00, 180.29it/s]\n"
     ]
    },
    {
     "name": "stdout",
     "output_type": "stream",
     "text": [
      "Train Set:\n",
      "    Average Loss:  0.614910,    Accuracy: 67.65%,    Correct Counter: 2712/4009,    F1 Score: 0.77,    Precision: 0.66,    Recall:  0.93,    AUROC:  0.63\n",
      "\n"
     ]
    },
    {
     "name": "stderr",
     "output_type": "stream",
     "text": [
      "Batch in Progress: 100%|███████████████████████████████████████████| 64/64 [00:00<00:00, 218.26it/s]\n"
     ]
    },
    {
     "name": "stdout",
     "output_type": "stream",
     "text": [
      "Validation Set:\n",
      "    Average Loss:  0.604133,    Accuracy: 68.42%,    Correct Counter: 691/1010,    F1 Score: 0.77,    Precision: 0.65,    Recall:  0.96,    AUROC:  0.65\n",
      "\n",
      "Epoch 109/250\n"
     ]
    },
    {
     "name": "stderr",
     "output_type": "stream",
     "text": [
      "Batch in Progress: 100%|█████████████████████████████████████████| 251/251 [00:01<00:00, 173.85it/s]\n"
     ]
    },
    {
     "name": "stdout",
     "output_type": "stream",
     "text": [
      "Train Set:\n",
      "    Average Loss:  0.616375,    Accuracy: 67.17%,    Correct Counter: 2693/4009,    F1 Score: 0.77,    Precision: 0.66,    Recall:  0.92,    AUROC:  0.62\n",
      "\n"
     ]
    },
    {
     "name": "stderr",
     "output_type": "stream",
     "text": [
      "Batch in Progress: 100%|███████████████████████████████████████████| 64/64 [00:00<00:00, 220.15it/s]\n"
     ]
    },
    {
     "name": "stdout",
     "output_type": "stream",
     "text": [
      "Validation Set:\n",
      "    Average Loss:  0.599955,    Accuracy: 68.61%,    Correct Counter: 693/1010,    F1 Score: 0.77,    Precision: 0.65,    Recall:  0.95,    AUROC:  0.65\n",
      "\n",
      "Epoch 110/250\n"
     ]
    },
    {
     "name": "stderr",
     "output_type": "stream",
     "text": [
      "Batch in Progress: 100%|█████████████████████████████████████████| 251/251 [00:01<00:00, 185.29it/s]\n"
     ]
    },
    {
     "name": "stdout",
     "output_type": "stream",
     "text": [
      "Train Set:\n",
      "    Average Loss:  0.615855,    Accuracy: 67.57%,    Correct Counter: 2709/4009,    F1 Score: 0.77,    Precision: 0.66,    Recall:  0.92,    AUROC:  0.63\n",
      "\n"
     ]
    },
    {
     "name": "stderr",
     "output_type": "stream",
     "text": [
      "Batch in Progress: 100%|███████████████████████████████████████████| 64/64 [00:00<00:00, 220.22it/s]\n"
     ]
    },
    {
     "name": "stdout",
     "output_type": "stream",
     "text": [
      "Validation Set:\n",
      "    Average Loss:  0.598176,    Accuracy: 68.61%,    Correct Counter: 693/1010,    F1 Score: 0.77,    Precision: 0.65,    Recall:  0.95,    AUROC:  0.65\n",
      "\n",
      "Epoch 111/250\n"
     ]
    },
    {
     "name": "stderr",
     "output_type": "stream",
     "text": [
      "Batch in Progress: 100%|█████████████████████████████████████████| 251/251 [00:01<00:00, 184.61it/s]\n"
     ]
    },
    {
     "name": "stdout",
     "output_type": "stream",
     "text": [
      "Train Set:\n",
      "    Average Loss:  0.625384,    Accuracy: 67.40%,    Correct Counter: 2702/4009,    F1 Score: 0.77,    Precision: 0.66,    Recall:  0.93,    AUROC:  0.62\n",
      "\n"
     ]
    },
    {
     "name": "stderr",
     "output_type": "stream",
     "text": [
      "Batch in Progress: 100%|███████████████████████████████████████████| 64/64 [00:00<00:00, 216.86it/s]\n"
     ]
    },
    {
     "name": "stdout",
     "output_type": "stream",
     "text": [
      "Validation Set:\n",
      "    Average Loss:  0.596190,    Accuracy: 67.72%,    Correct Counter: 684/1010,    F1 Score: 0.76,    Precision: 0.65,    Recall:  0.91,    AUROC:  0.65\n",
      "\n",
      "Epoch 112/250\n"
     ]
    },
    {
     "name": "stderr",
     "output_type": "stream",
     "text": [
      "Batch in Progress: 100%|█████████████████████████████████████████| 251/251 [00:01<00:00, 181.98it/s]\n"
     ]
    },
    {
     "name": "stdout",
     "output_type": "stream",
     "text": [
      "Train Set:\n",
      "    Average Loss:  0.627294,    Accuracy: 67.20%,    Correct Counter: 2694/4009,    F1 Score: 0.77,    Precision: 0.65,    Recall:  0.93,    AUROC:  0.62\n",
      "\n"
     ]
    },
    {
     "name": "stderr",
     "output_type": "stream",
     "text": [
      "Batch in Progress: 100%|███████████████████████████████████████████| 64/64 [00:00<00:00, 218.68it/s]\n"
     ]
    },
    {
     "name": "stdout",
     "output_type": "stream",
     "text": [
      "Validation Set:\n",
      "    Average Loss:  0.600448,    Accuracy: 68.22%,    Correct Counter: 689/1010,    F1 Score: 0.77,    Precision: 0.65,    Recall:  0.94,    AUROC:  0.65\n",
      "\n",
      "Epoch 113/250\n"
     ]
    },
    {
     "name": "stderr",
     "output_type": "stream",
     "text": [
      "Batch in Progress: 100%|█████████████████████████████████████████| 251/251 [00:01<00:00, 182.79it/s]\n"
     ]
    },
    {
     "name": "stdout",
     "output_type": "stream",
     "text": [
      "Train Set:\n",
      "    Average Loss:  0.617579,    Accuracy: 68.12%,    Correct Counter: 2731/4009,    F1 Score: 0.77,    Precision: 0.66,    Recall:  0.93,    AUROC:  0.63\n",
      "\n"
     ]
    },
    {
     "name": "stderr",
     "output_type": "stream",
     "text": [
      "Batch in Progress: 100%|███████████████████████████████████████████| 64/64 [00:00<00:00, 216.89it/s]\n"
     ]
    },
    {
     "name": "stdout",
     "output_type": "stream",
     "text": [
      "Validation Set:\n",
      "    Average Loss:  0.594793,    Accuracy: 67.72%,    Correct Counter: 684/1010,    F1 Score: 0.76,    Precision: 0.65,    Recall:  0.91,    AUROC:  0.65\n",
      "\n",
      "Epoch 114/250\n"
     ]
    },
    {
     "name": "stderr",
     "output_type": "stream",
     "text": [
      "Batch in Progress: 100%|█████████████████████████████████████████| 251/251 [00:01<00:00, 183.64it/s]\n"
     ]
    },
    {
     "name": "stdout",
     "output_type": "stream",
     "text": [
      "Train Set:\n",
      "    Average Loss:  0.624161,    Accuracy: 67.32%,    Correct Counter: 2699/4009,    F1 Score: 0.77,    Precision: 0.66,    Recall:  0.93,    AUROC:  0.62\n",
      "\n"
     ]
    },
    {
     "name": "stderr",
     "output_type": "stream",
     "text": [
      "Batch in Progress: 100%|███████████████████████████████████████████| 64/64 [00:00<00:00, 218.42it/s]\n"
     ]
    },
    {
     "name": "stdout",
     "output_type": "stream",
     "text": [
      "Validation Set:\n",
      "    Average Loss:  0.615168,    Accuracy: 68.42%,    Correct Counter: 691/1010,    F1 Score: 0.77,    Precision: 0.65,    Recall:  0.96,    AUROC:  0.65\n",
      "\n",
      "Epoch 115/250\n"
     ]
    },
    {
     "name": "stderr",
     "output_type": "stream",
     "text": [
      "Batch in Progress: 100%|█████████████████████████████████████████| 251/251 [00:01<00:00, 180.39it/s]\n"
     ]
    },
    {
     "name": "stdout",
     "output_type": "stream",
     "text": [
      "Train Set:\n",
      "    Average Loss:  0.619282,    Accuracy: 67.42%,    Correct Counter: 2703/4009,    F1 Score: 0.77,    Precision: 0.66,    Recall:  0.92,    AUROC:  0.62\n",
      "\n"
     ]
    },
    {
     "name": "stderr",
     "output_type": "stream",
     "text": [
      "Batch in Progress: 100%|███████████████████████████████████████████| 64/64 [00:00<00:00, 208.84it/s]\n"
     ]
    },
    {
     "name": "stdout",
     "output_type": "stream",
     "text": [
      "Validation Set:\n",
      "    Average Loss:  0.608790,    Accuracy: 68.42%,    Correct Counter: 691/1010,    F1 Score: 0.77,    Precision: 0.65,    Recall:  0.96,    AUROC:  0.65\n",
      "\n",
      "Epoch 116/250\n"
     ]
    },
    {
     "name": "stderr",
     "output_type": "stream",
     "text": [
      "Batch in Progress: 100%|█████████████████████████████████████████| 251/251 [00:01<00:00, 181.08it/s]\n"
     ]
    },
    {
     "name": "stdout",
     "output_type": "stream",
     "text": [
      "Train Set:\n",
      "    Average Loss:  0.623938,    Accuracy: 66.95%,    Correct Counter: 2684/4009,    F1 Score: 0.77,    Precision: 0.65,    Recall:  0.93,    AUROC:  0.62\n",
      "\n"
     ]
    },
    {
     "name": "stderr",
     "output_type": "stream",
     "text": [
      "Batch in Progress: 100%|███████████████████████████████████████████| 64/64 [00:00<00:00, 207.29it/s]\n"
     ]
    },
    {
     "name": "stdout",
     "output_type": "stream",
     "text": [
      "Validation Set:\n",
      "    Average Loss:  0.611669,    Accuracy: 68.42%,    Correct Counter: 691/1010,    F1 Score: 0.77,    Precision: 0.65,    Recall:  0.96,    AUROC:  0.65\n",
      "\n",
      "Epoch 117/250\n"
     ]
    },
    {
     "name": "stderr",
     "output_type": "stream",
     "text": [
      "Batch in Progress: 100%|█████████████████████████████████████████| 251/251 [00:01<00:00, 178.11it/s]\n"
     ]
    },
    {
     "name": "stdout",
     "output_type": "stream",
     "text": [
      "Train Set:\n",
      "    Average Loss:  0.620816,    Accuracy: 67.57%,    Correct Counter: 2709/4009,    F1 Score: 0.77,    Precision: 0.66,    Recall:  0.93,    AUROC:  0.62\n",
      "\n"
     ]
    },
    {
     "name": "stderr",
     "output_type": "stream",
     "text": [
      "Batch in Progress: 100%|███████████████████████████████████████████| 64/64 [00:00<00:00, 207.41it/s]\n"
     ]
    },
    {
     "name": "stdout",
     "output_type": "stream",
     "text": [
      "Validation Set:\n",
      "    Average Loss:  0.597627,    Accuracy: 67.82%,    Correct Counter: 685/1010,    F1 Score: 0.76,    Precision: 0.65,    Recall:  0.93,    AUROC:  0.65\n",
      "\n",
      "Epoch 118/250\n"
     ]
    },
    {
     "name": "stderr",
     "output_type": "stream",
     "text": [
      "Batch in Progress: 100%|█████████████████████████████████████████| 251/251 [00:01<00:00, 176.17it/s]\n"
     ]
    },
    {
     "name": "stdout",
     "output_type": "stream",
     "text": [
      "Train Set:\n",
      "    Average Loss:  0.620511,    Accuracy: 67.72%,    Correct Counter: 2715/4009,    F1 Score: 0.77,    Precision: 0.66,    Recall:  0.93,    AUROC:  0.63\n",
      "\n"
     ]
    },
    {
     "name": "stderr",
     "output_type": "stream",
     "text": [
      "Batch in Progress: 100%|███████████████████████████████████████████| 64/64 [00:00<00:00, 211.57it/s]\n"
     ]
    },
    {
     "name": "stdout",
     "output_type": "stream",
     "text": [
      "Validation Set:\n",
      "    Average Loss:  0.611380,    Accuracy: 68.42%,    Correct Counter: 691/1010,    F1 Score: 0.77,    Precision: 0.65,    Recall:  0.96,    AUROC:  0.65\n",
      "\n",
      "Epoch 119/250\n"
     ]
    },
    {
     "name": "stderr",
     "output_type": "stream",
     "text": [
      "Batch in Progress: 100%|█████████████████████████████████████████| 251/251 [00:01<00:00, 184.30it/s]\n"
     ]
    },
    {
     "name": "stdout",
     "output_type": "stream",
     "text": [
      "Train Set:\n",
      "    Average Loss:  0.621831,    Accuracy: 67.25%,    Correct Counter: 2696/4009,    F1 Score: 0.77,    Precision: 0.66,    Recall:  0.93,    AUROC:  0.62\n",
      "\n"
     ]
    },
    {
     "name": "stderr",
     "output_type": "stream",
     "text": [
      "Batch in Progress: 100%|███████████████████████████████████████████| 64/64 [00:00<00:00, 219.49it/s]\n"
     ]
    },
    {
     "name": "stdout",
     "output_type": "stream",
     "text": [
      "Validation Set:\n",
      "    Average Loss:  0.599661,    Accuracy: 68.22%,    Correct Counter: 689/1010,    F1 Score: 0.77,    Precision: 0.65,    Recall:  0.94,    AUROC:  0.65\n",
      "\n",
      "Epoch 120/250\n"
     ]
    },
    {
     "name": "stderr",
     "output_type": "stream",
     "text": [
      "Batch in Progress: 100%|█████████████████████████████████████████| 251/251 [00:01<00:00, 184.62it/s]\n"
     ]
    },
    {
     "name": "stdout",
     "output_type": "stream",
     "text": [
      "Train Set:\n",
      "    Average Loss:  0.620264,    Accuracy: 68.05%,    Correct Counter: 2728/4009,    F1 Score: 0.77,    Precision: 0.66,    Recall:  0.92,    AUROC:  0.63\n",
      "\n"
     ]
    },
    {
     "name": "stderr",
     "output_type": "stream",
     "text": [
      "Batch in Progress: 100%|███████████████████████████████████████████| 64/64 [00:00<00:00, 218.93it/s]\n"
     ]
    },
    {
     "name": "stdout",
     "output_type": "stream",
     "text": [
      "Validation Set:\n",
      "    Average Loss:  0.606000,    Accuracy: 67.92%,    Correct Counter: 686/1010,    F1 Score: 0.76,    Precision: 0.65,    Recall:  0.93,    AUROC:  0.65\n",
      "\n",
      "Epoch 121/250\n"
     ]
    },
    {
     "name": "stderr",
     "output_type": "stream",
     "text": [
      "Batch in Progress: 100%|█████████████████████████████████████████| 251/251 [00:01<00:00, 184.82it/s]\n"
     ]
    },
    {
     "name": "stdout",
     "output_type": "stream",
     "text": [
      "Train Set:\n",
      "    Average Loss:  0.620872,    Accuracy: 67.67%,    Correct Counter: 2713/4009,    F1 Score: 0.77,    Precision: 0.66,    Recall:  0.92,    AUROC:  0.63\n",
      "\n"
     ]
    },
    {
     "name": "stderr",
     "output_type": "stream",
     "text": [
      "Batch in Progress: 100%|███████████████████████████████████████████| 64/64 [00:00<00:00, 214.95it/s]\n"
     ]
    },
    {
     "name": "stdout",
     "output_type": "stream",
     "text": [
      "Validation Set:\n",
      "    Average Loss:  0.594765,    Accuracy: 68.32%,    Correct Counter: 690/1010,    F1 Score: 0.76,    Precision: 0.65,    Recall:  0.91,    AUROC:  0.65\n",
      "\n",
      "Epoch 122/250\n"
     ]
    },
    {
     "name": "stderr",
     "output_type": "stream",
     "text": [
      "Batch in Progress: 100%|█████████████████████████████████████████| 251/251 [00:01<00:00, 184.62it/s]\n"
     ]
    },
    {
     "name": "stdout",
     "output_type": "stream",
     "text": [
      "Train Set:\n",
      "    Average Loss:  0.620661,    Accuracy: 67.37%,    Correct Counter: 2701/4009,    F1 Score: 0.77,    Precision: 0.66,    Recall:  0.92,    AUROC:  0.62\n",
      "\n"
     ]
    },
    {
     "name": "stderr",
     "output_type": "stream",
     "text": [
      "Batch in Progress: 100%|███████████████████████████████████████████| 64/64 [00:00<00:00, 219.81it/s]\n"
     ]
    },
    {
     "name": "stdout",
     "output_type": "stream",
     "text": [
      "Validation Set:\n",
      "    Average Loss:  0.600995,    Accuracy: 67.92%,    Correct Counter: 686/1010,    F1 Score: 0.76,    Precision: 0.65,    Recall:  0.93,    AUROC:  0.65\n",
      "\n",
      "Epoch 123/250\n"
     ]
    },
    {
     "name": "stderr",
     "output_type": "stream",
     "text": [
      "Batch in Progress: 100%|█████████████████████████████████████████| 251/251 [00:01<00:00, 183.13it/s]\n"
     ]
    },
    {
     "name": "stdout",
     "output_type": "stream",
     "text": [
      "Train Set:\n",
      "    Average Loss:  0.619877,    Accuracy: 67.27%,    Correct Counter: 2697/4009,    F1 Score: 0.77,    Precision: 0.66,    Recall:  0.93,    AUROC:  0.62\n",
      "\n"
     ]
    },
    {
     "name": "stderr",
     "output_type": "stream",
     "text": [
      "Batch in Progress: 100%|███████████████████████████████████████████| 64/64 [00:00<00:00, 215.74it/s]\n"
     ]
    },
    {
     "name": "stdout",
     "output_type": "stream",
     "text": [
      "Validation Set:\n",
      "    Average Loss:  0.605728,    Accuracy: 68.61%,    Correct Counter: 693/1010,    F1 Score: 0.77,    Precision: 0.65,    Recall:  0.95,    AUROC:  0.65\n",
      "\n",
      "Epoch 124/250\n"
     ]
    },
    {
     "name": "stderr",
     "output_type": "stream",
     "text": [
      "Batch in Progress: 100%|█████████████████████████████████████████| 251/251 [00:01<00:00, 176.94it/s]\n"
     ]
    },
    {
     "name": "stdout",
     "output_type": "stream",
     "text": [
      "Train Set:\n",
      "    Average Loss:  0.619239,    Accuracy: 67.47%,    Correct Counter: 2705/4009,    F1 Score: 0.77,    Precision: 0.66,    Recall:  0.92,    AUROC:  0.63\n",
      "\n"
     ]
    },
    {
     "name": "stderr",
     "output_type": "stream",
     "text": [
      "Batch in Progress: 100%|███████████████████████████████████████████| 64/64 [00:00<00:00, 220.21it/s]\n"
     ]
    },
    {
     "name": "stdout",
     "output_type": "stream",
     "text": [
      "Validation Set:\n",
      "    Average Loss:  0.604830,    Accuracy: 68.61%,    Correct Counter: 693/1010,    F1 Score: 0.77,    Precision: 0.65,    Recall:  0.95,    AUROC:  0.65\n",
      "\n",
      "Epoch 125/250\n"
     ]
    },
    {
     "name": "stderr",
     "output_type": "stream",
     "text": [
      "Batch in Progress: 100%|█████████████████████████████████████████| 251/251 [00:01<00:00, 177.52it/s]\n"
     ]
    },
    {
     "name": "stdout",
     "output_type": "stream",
     "text": [
      "Train Set:\n",
      "    Average Loss:  0.608674,    Accuracy: 68.40%,    Correct Counter: 2742/4009,    F1 Score: 0.77,    Precision: 0.67,    Recall:  0.92,    AUROC:  0.64\n",
      "\n"
     ]
    },
    {
     "name": "stderr",
     "output_type": "stream",
     "text": [
      "Batch in Progress: 100%|███████████████████████████████████████████| 64/64 [00:00<00:00, 219.92it/s]\n"
     ]
    },
    {
     "name": "stdout",
     "output_type": "stream",
     "text": [
      "Validation Set:\n",
      "    Average Loss:  0.601911,    Accuracy: 68.61%,    Correct Counter: 693/1010,    F1 Score: 0.77,    Precision: 0.65,    Recall:  0.95,    AUROC:  0.65\n",
      "\n",
      "Epoch 126/250\n"
     ]
    },
    {
     "name": "stderr",
     "output_type": "stream",
     "text": [
      "Batch in Progress: 100%|█████████████████████████████████████████| 251/251 [00:01<00:00, 171.83it/s]\n"
     ]
    },
    {
     "name": "stdout",
     "output_type": "stream",
     "text": [
      "Train Set:\n",
      "    Average Loss:  0.617728,    Accuracy: 67.82%,    Correct Counter: 2719/4009,    F1 Score: 0.77,    Precision: 0.66,    Recall:  0.93,    AUROC:  0.63\n",
      "\n"
     ]
    },
    {
     "name": "stderr",
     "output_type": "stream",
     "text": [
      "Batch in Progress: 100%|███████████████████████████████████████████| 64/64 [00:00<00:00, 220.13it/s]\n"
     ]
    },
    {
     "name": "stdout",
     "output_type": "stream",
     "text": [
      "Validation Set:\n",
      "    Average Loss:  0.603307,    Accuracy: 68.61%,    Correct Counter: 693/1010,    F1 Score: 0.77,    Precision: 0.65,    Recall:  0.95,    AUROC:  0.65\n",
      "\n",
      "Epoch 127/250\n"
     ]
    },
    {
     "name": "stderr",
     "output_type": "stream",
     "text": [
      "Batch in Progress: 100%|█████████████████████████████████████████| 251/251 [00:01<00:00, 173.81it/s]\n"
     ]
    },
    {
     "name": "stdout",
     "output_type": "stream",
     "text": [
      "Train Set:\n",
      "    Average Loss:  0.616693,    Accuracy: 67.80%,    Correct Counter: 2718/4009,    F1 Score: 0.77,    Precision: 0.66,    Recall:  0.93,    AUROC:  0.63\n",
      "\n"
     ]
    },
    {
     "name": "stderr",
     "output_type": "stream",
     "text": [
      "Batch in Progress: 100%|███████████████████████████████████████████| 64/64 [00:00<00:00, 219.42it/s]\n"
     ]
    },
    {
     "name": "stdout",
     "output_type": "stream",
     "text": [
      "Validation Set:\n",
      "    Average Loss:  0.601657,    Accuracy: 67.82%,    Correct Counter: 685/1010,    F1 Score: 0.76,    Precision: 0.64,    Recall:  0.94,    AUROC:  0.64\n",
      "\n",
      "Epoch 128/250\n"
     ]
    },
    {
     "name": "stderr",
     "output_type": "stream",
     "text": [
      "Batch in Progress: 100%|█████████████████████████████████████████| 251/251 [00:01<00:00, 183.08it/s]\n"
     ]
    },
    {
     "name": "stdout",
     "output_type": "stream",
     "text": [
      "Train Set:\n",
      "    Average Loss:  0.618150,    Accuracy: 68.30%,    Correct Counter: 2738/4009,    F1 Score: 0.77,    Precision: 0.66,    Recall:  0.93,    AUROC:  0.63\n",
      "\n"
     ]
    },
    {
     "name": "stderr",
     "output_type": "stream",
     "text": [
      "Batch in Progress: 100%|███████████████████████████████████████████| 64/64 [00:00<00:00, 220.63it/s]\n"
     ]
    },
    {
     "name": "stdout",
     "output_type": "stream",
     "text": [
      "Validation Set:\n",
      "    Average Loss:  0.609537,    Accuracy: 68.42%,    Correct Counter: 691/1010,    F1 Score: 0.77,    Precision: 0.65,    Recall:  0.96,    AUROC:  0.65\n",
      "\n",
      "Epoch 129/250\n"
     ]
    },
    {
     "name": "stderr",
     "output_type": "stream",
     "text": [
      "Batch in Progress: 100%|█████████████████████████████████████████| 251/251 [00:01<00:00, 183.39it/s]\n"
     ]
    },
    {
     "name": "stdout",
     "output_type": "stream",
     "text": [
      "Train Set:\n",
      "    Average Loss:  0.620542,    Accuracy: 67.82%,    Correct Counter: 2719/4009,    F1 Score: 0.77,    Precision: 0.66,    Recall:  0.93,    AUROC:  0.63\n",
      "\n"
     ]
    },
    {
     "name": "stderr",
     "output_type": "stream",
     "text": [
      "Batch in Progress: 100%|███████████████████████████████████████████| 64/64 [00:00<00:00, 219.82it/s]\n"
     ]
    },
    {
     "name": "stdout",
     "output_type": "stream",
     "text": [
      "Validation Set:\n",
      "    Average Loss:  0.609830,    Accuracy: 68.42%,    Correct Counter: 691/1010,    F1 Score: 0.77,    Precision: 0.65,    Recall:  0.96,    AUROC:  0.65\n",
      "\n",
      "Epoch 130/250\n"
     ]
    },
    {
     "name": "stderr",
     "output_type": "stream",
     "text": [
      "Batch in Progress: 100%|█████████████████████████████████████████| 251/251 [00:01<00:00, 183.43it/s]\n"
     ]
    },
    {
     "name": "stdout",
     "output_type": "stream",
     "text": [
      "Train Set:\n",
      "    Average Loss:  0.621895,    Accuracy: 67.70%,    Correct Counter: 2714/4009,    F1 Score: 0.77,    Precision: 0.66,    Recall:  0.93,    AUROC:  0.63\n",
      "\n"
     ]
    },
    {
     "name": "stderr",
     "output_type": "stream",
     "text": [
      "Batch in Progress: 100%|███████████████████████████████████████████| 64/64 [00:00<00:00, 219.50it/s]\n"
     ]
    },
    {
     "name": "stdout",
     "output_type": "stream",
     "text": [
      "Validation Set:\n",
      "    Average Loss:  0.606315,    Accuracy: 68.42%,    Correct Counter: 691/1010,    F1 Score: 0.77,    Precision: 0.65,    Recall:  0.96,    AUROC:  0.65\n",
      "\n",
      "Epoch 131/250\n"
     ]
    },
    {
     "name": "stderr",
     "output_type": "stream",
     "text": [
      "Batch in Progress: 100%|█████████████████████████████████████████| 251/251 [00:01<00:00, 178.24it/s]\n"
     ]
    },
    {
     "name": "stdout",
     "output_type": "stream",
     "text": [
      "Train Set:\n",
      "    Average Loss:  0.608158,    Accuracy: 68.07%,    Correct Counter: 2729/4009,    F1 Score: 0.77,    Precision: 0.66,    Recall:  0.92,    AUROC:  0.63\n",
      "\n"
     ]
    },
    {
     "name": "stderr",
     "output_type": "stream",
     "text": [
      "Batch in Progress: 100%|███████████████████████████████████████████| 64/64 [00:00<00:00, 213.67it/s]\n"
     ]
    },
    {
     "name": "stdout",
     "output_type": "stream",
     "text": [
      "Validation Set:\n",
      "    Average Loss:  0.602348,    Accuracy: 68.61%,    Correct Counter: 693/1010,    F1 Score: 0.77,    Precision: 0.65,    Recall:  0.95,    AUROC:  0.65\n",
      "\n",
      "Epoch 132/250\n"
     ]
    },
    {
     "name": "stderr",
     "output_type": "stream",
     "text": [
      "Batch in Progress: 100%|█████████████████████████████████████████| 251/251 [00:01<00:00, 184.98it/s]\n"
     ]
    },
    {
     "name": "stdout",
     "output_type": "stream",
     "text": [
      "Train Set:\n",
      "    Average Loss:  0.623728,    Accuracy: 66.77%,    Correct Counter: 2677/4009,    F1 Score: 0.76,    Precision: 0.65,    Recall:  0.93,    AUROC:  0.62\n",
      "\n"
     ]
    },
    {
     "name": "stderr",
     "output_type": "stream",
     "text": [
      "Batch in Progress: 100%|███████████████████████████████████████████| 64/64 [00:00<00:00, 219.54it/s]\n"
     ]
    },
    {
     "name": "stdout",
     "output_type": "stream",
     "text": [
      "Validation Set:\n",
      "    Average Loss:  0.604496,    Accuracy: 68.51%,    Correct Counter: 692/1010,    F1 Score: 0.77,    Precision: 0.65,    Recall:  0.96,    AUROC:  0.65\n",
      "\n",
      "Epoch 133/250\n"
     ]
    },
    {
     "name": "stderr",
     "output_type": "stream",
     "text": [
      "Batch in Progress: 100%|█████████████████████████████████████████| 251/251 [00:01<00:00, 184.28it/s]\n"
     ]
    },
    {
     "name": "stdout",
     "output_type": "stream",
     "text": [
      "Train Set:\n",
      "    Average Loss:  0.618540,    Accuracy: 67.22%,    Correct Counter: 2695/4009,    F1 Score: 0.77,    Precision: 0.65,    Recall:  0.93,    AUROC:  0.62\n",
      "\n"
     ]
    },
    {
     "name": "stderr",
     "output_type": "stream",
     "text": [
      "Batch in Progress: 100%|███████████████████████████████████████████| 64/64 [00:00<00:00, 220.46it/s]\n"
     ]
    },
    {
     "name": "stdout",
     "output_type": "stream",
     "text": [
      "Validation Set:\n",
      "    Average Loss:  0.602555,    Accuracy: 68.42%,    Correct Counter: 691/1010,    F1 Score: 0.77,    Precision: 0.65,    Recall:  0.96,    AUROC:  0.65\n",
      "\n",
      "Epoch 134/250\n"
     ]
    },
    {
     "name": "stderr",
     "output_type": "stream",
     "text": [
      "Batch in Progress: 100%|█████████████████████████████████████████| 251/251 [00:01<00:00, 184.25it/s]\n"
     ]
    },
    {
     "name": "stdout",
     "output_type": "stream",
     "text": [
      "Train Set:\n",
      "    Average Loss:  0.621407,    Accuracy: 67.27%,    Correct Counter: 2697/4009,    F1 Score: 0.77,    Precision: 0.65,    Recall:  0.94,    AUROC:  0.62\n",
      "\n"
     ]
    },
    {
     "name": "stderr",
     "output_type": "stream",
     "text": [
      "Batch in Progress: 100%|███████████████████████████████████████████| 64/64 [00:00<00:00, 219.29it/s]\n"
     ]
    },
    {
     "name": "stdout",
     "output_type": "stream",
     "text": [
      "Validation Set:\n",
      "    Average Loss:  0.590511,    Accuracy: 67.92%,    Correct Counter: 686/1010,    F1 Score: 0.76,    Precision: 0.65,    Recall:  0.93,    AUROC:  0.65\n",
      "\n",
      "Epoch 135/250\n"
     ]
    },
    {
     "name": "stderr",
     "output_type": "stream",
     "text": [
      "Batch in Progress: 100%|█████████████████████████████████████████| 251/251 [00:01<00:00, 182.45it/s]\n"
     ]
    },
    {
     "name": "stdout",
     "output_type": "stream",
     "text": [
      "Train Set:\n",
      "    Average Loss:  0.621811,    Accuracy: 67.20%,    Correct Counter: 2694/4009,    F1 Score: 0.77,    Precision: 0.65,    Recall:  0.93,    AUROC:  0.62\n",
      "\n"
     ]
    },
    {
     "name": "stderr",
     "output_type": "stream",
     "text": [
      "Batch in Progress: 100%|███████████████████████████████████████████| 64/64 [00:00<00:00, 216.91it/s]\n"
     ]
    },
    {
     "name": "stdout",
     "output_type": "stream",
     "text": [
      "Validation Set:\n",
      "    Average Loss:  0.606168,    Accuracy: 68.71%,    Correct Counter: 694/1010,    F1 Score: 0.77,    Precision: 0.65,    Recall:  0.96,    AUROC:  0.65\n",
      "\n",
      "Epoch 136/250\n"
     ]
    },
    {
     "name": "stderr",
     "output_type": "stream",
     "text": [
      "Batch in Progress: 100%|█████████████████████████████████████████| 251/251 [00:01<00:00, 182.25it/s]\n"
     ]
    },
    {
     "name": "stdout",
     "output_type": "stream",
     "text": [
      "Train Set:\n",
      "    Average Loss:  0.620606,    Accuracy: 67.42%,    Correct Counter: 2703/4009,    F1 Score: 0.77,    Precision: 0.66,    Recall:  0.93,    AUROC:  0.62\n",
      "\n"
     ]
    },
    {
     "name": "stderr",
     "output_type": "stream",
     "text": [
      "Batch in Progress: 100%|███████████████████████████████████████████| 64/64 [00:00<00:00, 220.71it/s]\n"
     ]
    },
    {
     "name": "stdout",
     "output_type": "stream",
     "text": [
      "Validation Set:\n",
      "    Average Loss:  0.606079,    Accuracy: 68.71%,    Correct Counter: 694/1010,    F1 Score: 0.77,    Precision: 0.65,    Recall:  0.96,    AUROC:  0.65\n",
      "\n",
      "Epoch 137/250\n"
     ]
    },
    {
     "name": "stderr",
     "output_type": "stream",
     "text": [
      "Batch in Progress: 100%|█████████████████████████████████████████| 251/251 [00:01<00:00, 182.05it/s]\n"
     ]
    },
    {
     "name": "stdout",
     "output_type": "stream",
     "text": [
      "Train Set:\n",
      "    Average Loss:  0.618555,    Accuracy: 67.45%,    Correct Counter: 2704/4009,    F1 Score: 0.77,    Precision: 0.66,    Recall:  0.93,    AUROC:  0.62\n",
      "\n"
     ]
    },
    {
     "name": "stderr",
     "output_type": "stream",
     "text": [
      "Batch in Progress: 100%|███████████████████████████████████████████| 64/64 [00:00<00:00, 220.39it/s]\n"
     ]
    },
    {
     "name": "stdout",
     "output_type": "stream",
     "text": [
      "Validation Set:\n",
      "    Average Loss:  0.598761,    Accuracy: 68.61%,    Correct Counter: 693/1010,    F1 Score: 0.77,    Precision: 0.65,    Recall:  0.95,    AUROC:  0.65\n",
      "\n",
      "Epoch 138/250\n"
     ]
    },
    {
     "name": "stderr",
     "output_type": "stream",
     "text": [
      "Batch in Progress: 100%|█████████████████████████████████████████| 251/251 [00:01<00:00, 177.57it/s]\n"
     ]
    },
    {
     "name": "stdout",
     "output_type": "stream",
     "text": [
      "Train Set:\n",
      "    Average Loss:  0.621081,    Accuracy: 67.00%,    Correct Counter: 2686/4009,    F1 Score: 0.77,    Precision: 0.65,    Recall:  0.93,    AUROC:  0.62\n",
      "\n"
     ]
    },
    {
     "name": "stderr",
     "output_type": "stream",
     "text": [
      "Batch in Progress: 100%|███████████████████████████████████████████| 64/64 [00:00<00:00, 219.59it/s]\n"
     ]
    },
    {
     "name": "stdout",
     "output_type": "stream",
     "text": [
      "Validation Set:\n",
      "    Average Loss:  0.599019,    Accuracy: 68.61%,    Correct Counter: 693/1010,    F1 Score: 0.77,    Precision: 0.65,    Recall:  0.95,    AUROC:  0.65\n",
      "\n",
      "Epoch 139/250\n"
     ]
    },
    {
     "name": "stderr",
     "output_type": "stream",
     "text": [
      "Batch in Progress: 100%|█████████████████████████████████████████| 251/251 [00:01<00:00, 183.18it/s]\n"
     ]
    },
    {
     "name": "stdout",
     "output_type": "stream",
     "text": [
      "Train Set:\n",
      "    Average Loss:  0.612262,    Accuracy: 67.80%,    Correct Counter: 2718/4009,    F1 Score: 0.77,    Precision: 0.66,    Recall:  0.92,    AUROC:  0.63\n",
      "\n"
     ]
    },
    {
     "name": "stderr",
     "output_type": "stream",
     "text": [
      "Batch in Progress: 100%|███████████████████████████████████████████| 64/64 [00:00<00:00, 221.57it/s]\n"
     ]
    },
    {
     "name": "stdout",
     "output_type": "stream",
     "text": [
      "Validation Set:\n",
      "    Average Loss:  0.604209,    Accuracy: 68.42%,    Correct Counter: 691/1010,    F1 Score: 0.77,    Precision: 0.65,    Recall:  0.96,    AUROC:  0.65\n",
      "\n",
      "Epoch 140/250\n"
     ]
    },
    {
     "name": "stderr",
     "output_type": "stream",
     "text": [
      "Batch in Progress: 100%|█████████████████████████████████████████| 251/251 [00:01<00:00, 183.90it/s]\n"
     ]
    },
    {
     "name": "stdout",
     "output_type": "stream",
     "text": [
      "Train Set:\n",
      "    Average Loss:  0.623112,    Accuracy: 67.75%,    Correct Counter: 2716/4009,    F1 Score: 0.77,    Precision: 0.66,    Recall:  0.93,    AUROC:  0.63\n",
      "\n"
     ]
    },
    {
     "name": "stderr",
     "output_type": "stream",
     "text": [
      "Batch in Progress: 100%|███████████████████████████████████████████| 64/64 [00:00<00:00, 219.89it/s]\n"
     ]
    },
    {
     "name": "stdout",
     "output_type": "stream",
     "text": [
      "Validation Set:\n",
      "    Average Loss:  0.610262,    Accuracy: 68.42%,    Correct Counter: 691/1010,    F1 Score: 0.77,    Precision: 0.65,    Recall:  0.96,    AUROC:  0.65\n",
      "\n",
      "Epoch 141/250\n"
     ]
    },
    {
     "name": "stderr",
     "output_type": "stream",
     "text": [
      "Batch in Progress: 100%|█████████████████████████████████████████| 251/251 [00:01<00:00, 184.99it/s]\n"
     ]
    },
    {
     "name": "stdout",
     "output_type": "stream",
     "text": [
      "Train Set:\n",
      "    Average Loss:  0.621663,    Accuracy: 67.27%,    Correct Counter: 2697/4009,    F1 Score: 0.77,    Precision: 0.65,    Recall:  0.93,    AUROC:  0.62\n",
      "\n"
     ]
    },
    {
     "name": "stderr",
     "output_type": "stream",
     "text": [
      "Batch in Progress: 100%|███████████████████████████████████████████| 64/64 [00:00<00:00, 220.52it/s]\n"
     ]
    },
    {
     "name": "stdout",
     "output_type": "stream",
     "text": [
      "Validation Set:\n",
      "    Average Loss:  0.604787,    Accuracy: 68.42%,    Correct Counter: 691/1010,    F1 Score: 0.77,    Precision: 0.65,    Recall:  0.96,    AUROC:  0.65\n",
      "\n",
      "Epoch 142/250\n"
     ]
    },
    {
     "name": "stderr",
     "output_type": "stream",
     "text": [
      "Batch in Progress: 100%|█████████████████████████████████████████| 251/251 [00:01<00:00, 185.08it/s]\n"
     ]
    },
    {
     "name": "stdout",
     "output_type": "stream",
     "text": [
      "Train Set:\n",
      "    Average Loss:  0.616401,    Accuracy: 67.52%,    Correct Counter: 2707/4009,    F1 Score: 0.77,    Precision: 0.66,    Recall:  0.93,    AUROC:  0.62\n",
      "\n"
     ]
    },
    {
     "name": "stderr",
     "output_type": "stream",
     "text": [
      "Batch in Progress: 100%|███████████████████████████████████████████| 64/64 [00:00<00:00, 220.63it/s]\n"
     ]
    },
    {
     "name": "stdout",
     "output_type": "stream",
     "text": [
      "Validation Set:\n",
      "    Average Loss:  0.606720,    Accuracy: 68.71%,    Correct Counter: 694/1010,    F1 Score: 0.77,    Precision: 0.65,    Recall:  0.96,    AUROC:  0.65\n",
      "\n",
      "Epoch 143/250\n"
     ]
    },
    {
     "name": "stderr",
     "output_type": "stream",
     "text": [
      "Batch in Progress: 100%|█████████████████████████████████████████| 251/251 [00:01<00:00, 183.50it/s]\n"
     ]
    },
    {
     "name": "stdout",
     "output_type": "stream",
     "text": [
      "Train Set:\n",
      "    Average Loss:  0.614871,    Accuracy: 67.90%,    Correct Counter: 2722/4009,    F1 Score: 0.77,    Precision: 0.66,    Recall:  0.93,    AUROC:  0.63\n",
      "\n"
     ]
    },
    {
     "name": "stderr",
     "output_type": "stream",
     "text": [
      "Batch in Progress: 100%|███████████████████████████████████████████| 64/64 [00:00<00:00, 206.77it/s]\n"
     ]
    },
    {
     "name": "stdout",
     "output_type": "stream",
     "text": [
      "Validation Set:\n",
      "    Average Loss:  0.617228,    Accuracy: 64.46%,    Correct Counter: 651/1010,    F1 Score: 0.75,    Precision: 0.61,    Recall:  0.97,    AUROC:  0.60\n",
      "\n",
      "Epoch 144/250\n"
     ]
    },
    {
     "name": "stderr",
     "output_type": "stream",
     "text": [
      "Batch in Progress: 100%|█████████████████████████████████████████| 251/251 [00:01<00:00, 183.29it/s]\n"
     ]
    },
    {
     "name": "stdout",
     "output_type": "stream",
     "text": [
      "Train Set:\n",
      "    Average Loss:  0.613852,    Accuracy: 67.70%,    Correct Counter: 2714/4009,    F1 Score: 0.77,    Precision: 0.66,    Recall:  0.93,    AUROC:  0.62\n",
      "\n"
     ]
    },
    {
     "name": "stderr",
     "output_type": "stream",
     "text": [
      "Batch in Progress: 100%|███████████████████████████████████████████| 64/64 [00:00<00:00, 218.12it/s]\n"
     ]
    },
    {
     "name": "stdout",
     "output_type": "stream",
     "text": [
      "Validation Set:\n",
      "    Average Loss:  0.607844,    Accuracy: 68.42%,    Correct Counter: 691/1010,    F1 Score: 0.77,    Precision: 0.65,    Recall:  0.96,    AUROC:  0.65\n",
      "\n",
      "Epoch 145/250\n"
     ]
    },
    {
     "name": "stderr",
     "output_type": "stream",
     "text": [
      "Batch in Progress: 100%|█████████████████████████████████████████| 251/251 [00:01<00:00, 181.34it/s]\n"
     ]
    },
    {
     "name": "stdout",
     "output_type": "stream",
     "text": [
      "Train Set:\n",
      "    Average Loss:  0.623556,    Accuracy: 67.25%,    Correct Counter: 2696/4009,    F1 Score: 0.77,    Precision: 0.65,    Recall:  0.93,    AUROC:  0.62\n",
      "\n"
     ]
    },
    {
     "name": "stderr",
     "output_type": "stream",
     "text": [
      "Batch in Progress: 100%|███████████████████████████████████████████| 64/64 [00:00<00:00, 221.51it/s]\n"
     ]
    },
    {
     "name": "stdout",
     "output_type": "stream",
     "text": [
      "Validation Set:\n",
      "    Average Loss:  0.610376,    Accuracy: 68.71%,    Correct Counter: 694/1010,    F1 Score: 0.77,    Precision: 0.65,    Recall:  0.96,    AUROC:  0.65\n",
      "\n",
      "Epoch 146/250\n"
     ]
    },
    {
     "name": "stderr",
     "output_type": "stream",
     "text": [
      "Batch in Progress: 100%|█████████████████████████████████████████| 251/251 [00:01<00:00, 185.36it/s]\n"
     ]
    },
    {
     "name": "stdout",
     "output_type": "stream",
     "text": [
      "Train Set:\n",
      "    Average Loss:  0.619574,    Accuracy: 67.57%,    Correct Counter: 2709/4009,    F1 Score: 0.77,    Precision: 0.66,    Recall:  0.94,    AUROC:  0.62\n",
      "\n"
     ]
    },
    {
     "name": "stderr",
     "output_type": "stream",
     "text": [
      "Batch in Progress: 100%|███████████████████████████████████████████| 64/64 [00:00<00:00, 219.84it/s]\n"
     ]
    },
    {
     "name": "stdout",
     "output_type": "stream",
     "text": [
      "Validation Set:\n",
      "    Average Loss:  0.596325,    Accuracy: 68.22%,    Correct Counter: 689/1010,    F1 Score: 0.77,    Precision: 0.65,    Recall:  0.94,    AUROC:  0.65\n",
      "\n",
      "Epoch 147/250\n"
     ]
    },
    {
     "name": "stderr",
     "output_type": "stream",
     "text": [
      "Batch in Progress: 100%|█████████████████████████████████████████| 251/251 [00:01<00:00, 185.18it/s]\n"
     ]
    },
    {
     "name": "stdout",
     "output_type": "stream",
     "text": [
      "Train Set:\n",
      "    Average Loss:  0.617722,    Accuracy: 67.55%,    Correct Counter: 2708/4009,    F1 Score: 0.77,    Precision: 0.66,    Recall:  0.93,    AUROC:  0.62\n",
      "\n"
     ]
    },
    {
     "name": "stderr",
     "output_type": "stream",
     "text": [
      "Batch in Progress: 100%|███████████████████████████████████████████| 64/64 [00:00<00:00, 220.80it/s]\n"
     ]
    },
    {
     "name": "stdout",
     "output_type": "stream",
     "text": [
      "Validation Set:\n",
      "    Average Loss:  0.599178,    Accuracy: 67.82%,    Correct Counter: 685/1010,    F1 Score: 0.76,    Precision: 0.64,    Recall:  0.94,    AUROC:  0.64\n",
      "\n",
      "Epoch 148/250\n"
     ]
    },
    {
     "name": "stderr",
     "output_type": "stream",
     "text": [
      "Batch in Progress: 100%|█████████████████████████████████████████| 251/251 [00:01<00:00, 185.16it/s]\n"
     ]
    },
    {
     "name": "stdout",
     "output_type": "stream",
     "text": [
      "Train Set:\n",
      "    Average Loss:  0.620147,    Accuracy: 67.25%,    Correct Counter: 2696/4009,    F1 Score: 0.77,    Precision: 0.66,    Recall:  0.92,    AUROC:  0.62\n",
      "\n"
     ]
    },
    {
     "name": "stderr",
     "output_type": "stream",
     "text": [
      "Batch in Progress: 100%|███████████████████████████████████████████| 64/64 [00:00<00:00, 219.60it/s]\n"
     ]
    },
    {
     "name": "stdout",
     "output_type": "stream",
     "text": [
      "Validation Set:\n",
      "    Average Loss:  0.600439,    Accuracy: 67.82%,    Correct Counter: 685/1010,    F1 Score: 0.76,    Precision: 0.64,    Recall:  0.94,    AUROC:  0.64\n",
      "\n",
      "Epoch 149/250\n"
     ]
    },
    {
     "name": "stderr",
     "output_type": "stream",
     "text": [
      "Batch in Progress: 100%|█████████████████████████████████████████| 251/251 [00:01<00:00, 185.14it/s]\n"
     ]
    },
    {
     "name": "stdout",
     "output_type": "stream",
     "text": [
      "Train Set:\n",
      "    Average Loss:  0.618324,    Accuracy: 67.42%,    Correct Counter: 2703/4009,    F1 Score: 0.77,    Precision: 0.66,    Recall:  0.93,    AUROC:  0.62\n",
      "\n"
     ]
    },
    {
     "name": "stderr",
     "output_type": "stream",
     "text": [
      "Batch in Progress: 100%|███████████████████████████████████████████| 64/64 [00:00<00:00, 217.39it/s]\n"
     ]
    },
    {
     "name": "stdout",
     "output_type": "stream",
     "text": [
      "Validation Set:\n",
      "    Average Loss:  0.596990,    Accuracy: 67.82%,    Correct Counter: 685/1010,    F1 Score: 0.76,    Precision: 0.64,    Recall:  0.94,    AUROC:  0.64\n",
      "\n",
      "Epoch 150/250\n"
     ]
    },
    {
     "name": "stderr",
     "output_type": "stream",
     "text": [
      "Batch in Progress: 100%|█████████████████████████████████████████| 251/251 [00:01<00:00, 183.52it/s]\n"
     ]
    },
    {
     "name": "stdout",
     "output_type": "stream",
     "text": [
      "Train Set:\n",
      "    Average Loss:  0.621533,    Accuracy: 67.47%,    Correct Counter: 2705/4009,    F1 Score: 0.77,    Precision: 0.66,    Recall:  0.93,    AUROC:  0.62\n",
      "\n"
     ]
    },
    {
     "name": "stderr",
     "output_type": "stream",
     "text": [
      "Batch in Progress: 100%|███████████████████████████████████████████| 64/64 [00:00<00:00, 217.47it/s]\n"
     ]
    },
    {
     "name": "stdout",
     "output_type": "stream",
     "text": [
      "Validation Set:\n",
      "    Average Loss:  0.596887,    Accuracy: 67.82%,    Correct Counter: 685/1010,    F1 Score: 0.76,    Precision: 0.65,    Recall:  0.93,    AUROC:  0.65\n",
      "\n",
      "Epoch 151/250\n"
     ]
    },
    {
     "name": "stderr",
     "output_type": "stream",
     "text": [
      "Batch in Progress: 100%|█████████████████████████████████████████| 251/251 [00:01<00:00, 183.11it/s]\n"
     ]
    },
    {
     "name": "stdout",
     "output_type": "stream",
     "text": [
      "Train Set:\n",
      "    Average Loss:  0.621837,    Accuracy: 67.40%,    Correct Counter: 2702/4009,    F1 Score: 0.77,    Precision: 0.66,    Recall:  0.92,    AUROC:  0.62\n",
      "\n"
     ]
    },
    {
     "name": "stderr",
     "output_type": "stream",
     "text": [
      "Batch in Progress: 100%|███████████████████████████████████████████| 64/64 [00:00<00:00, 216.68it/s]\n"
     ]
    },
    {
     "name": "stdout",
     "output_type": "stream",
     "text": [
      "Validation Set:\n",
      "    Average Loss:  0.607303,    Accuracy: 68.42%,    Correct Counter: 691/1010,    F1 Score: 0.77,    Precision: 0.65,    Recall:  0.96,    AUROC:  0.65\n",
      "\n",
      "Epoch 152/250\n"
     ]
    },
    {
     "name": "stderr",
     "output_type": "stream",
     "text": [
      "Batch in Progress: 100%|█████████████████████████████████████████| 251/251 [00:01<00:00, 182.89it/s]\n"
     ]
    },
    {
     "name": "stdout",
     "output_type": "stream",
     "text": [
      "Train Set:\n",
      "    Average Loss:  0.613691,    Accuracy: 67.97%,    Correct Counter: 2725/4009,    F1 Score: 0.77,    Precision: 0.66,    Recall:  0.92,    AUROC:  0.63\n",
      "\n"
     ]
    },
    {
     "name": "stderr",
     "output_type": "stream",
     "text": [
      "Batch in Progress: 100%|███████████████████████████████████████████| 64/64 [00:00<00:00, 217.12it/s]\n"
     ]
    },
    {
     "name": "stdout",
     "output_type": "stream",
     "text": [
      "Validation Set:\n",
      "    Average Loss:  0.609168,    Accuracy: 68.61%,    Correct Counter: 693/1010,    F1 Score: 0.77,    Precision: 0.65,    Recall:  0.96,    AUROC:  0.65\n",
      "\n",
      "Epoch 153/250\n"
     ]
    },
    {
     "name": "stderr",
     "output_type": "stream",
     "text": [
      "Batch in Progress: 100%|█████████████████████████████████████████| 251/251 [00:01<00:00, 182.80it/s]\n"
     ]
    },
    {
     "name": "stdout",
     "output_type": "stream",
     "text": [
      "Train Set:\n",
      "    Average Loss:  0.622763,    Accuracy: 67.62%,    Correct Counter: 2711/4009,    F1 Score: 0.77,    Precision: 0.66,    Recall:  0.93,    AUROC:  0.62\n",
      "\n"
     ]
    },
    {
     "name": "stderr",
     "output_type": "stream",
     "text": [
      "Batch in Progress: 100%|███████████████████████████████████████████| 64/64 [00:00<00:00, 217.97it/s]\n"
     ]
    },
    {
     "name": "stdout",
     "output_type": "stream",
     "text": [
      "Validation Set:\n",
      "    Average Loss:  0.616119,    Accuracy: 67.82%,    Correct Counter: 685/1010,    F1 Score: 0.77,    Precision: 0.64,    Recall:  0.97,    AUROC:  0.64\n",
      "\n",
      "Epoch 154/250\n"
     ]
    },
    {
     "name": "stderr",
     "output_type": "stream",
     "text": [
      "Batch in Progress: 100%|█████████████████████████████████████████| 251/251 [00:01<00:00, 183.09it/s]\n"
     ]
    },
    {
     "name": "stdout",
     "output_type": "stream",
     "text": [
      "Train Set:\n",
      "    Average Loss:  0.615748,    Accuracy: 67.77%,    Correct Counter: 2717/4009,    F1 Score: 0.77,    Precision: 0.66,    Recall:  0.93,    AUROC:  0.63\n",
      "\n"
     ]
    },
    {
     "name": "stderr",
     "output_type": "stream",
     "text": [
      "Batch in Progress: 100%|███████████████████████████████████████████| 64/64 [00:00<00:00, 217.40it/s]\n"
     ]
    },
    {
     "name": "stdout",
     "output_type": "stream",
     "text": [
      "Validation Set:\n",
      "    Average Loss:  0.601526,    Accuracy: 68.42%,    Correct Counter: 691/1010,    F1 Score: 0.77,    Precision: 0.65,    Recall:  0.96,    AUROC:  0.65\n",
      "\n",
      "Epoch 155/250\n"
     ]
    },
    {
     "name": "stderr",
     "output_type": "stream",
     "text": [
      "Batch in Progress: 100%|█████████████████████████████████████████| 251/251 [00:01<00:00, 183.62it/s]\n"
     ]
    },
    {
     "name": "stdout",
     "output_type": "stream",
     "text": [
      "Train Set:\n",
      "    Average Loss:  0.616349,    Accuracy: 67.40%,    Correct Counter: 2702/4009,    F1 Score: 0.77,    Precision: 0.66,    Recall:  0.93,    AUROC:  0.62\n",
      "\n"
     ]
    },
    {
     "name": "stderr",
     "output_type": "stream",
     "text": [
      "Batch in Progress: 100%|███████████████████████████████████████████| 64/64 [00:00<00:00, 217.79it/s]\n"
     ]
    },
    {
     "name": "stdout",
     "output_type": "stream",
     "text": [
      "Validation Set:\n",
      "    Average Loss:  0.599870,    Accuracy: 68.61%,    Correct Counter: 693/1010,    F1 Score: 0.77,    Precision: 0.65,    Recall:  0.95,    AUROC:  0.65\n",
      "\n",
      "Epoch 156/250\n"
     ]
    },
    {
     "name": "stderr",
     "output_type": "stream",
     "text": [
      "Batch in Progress: 100%|█████████████████████████████████████████| 251/251 [00:01<00:00, 183.33it/s]\n"
     ]
    },
    {
     "name": "stdout",
     "output_type": "stream",
     "text": [
      "Train Set:\n",
      "    Average Loss:  0.617242,    Accuracy: 67.40%,    Correct Counter: 2702/4009,    F1 Score: 0.77,    Precision: 0.66,    Recall:  0.92,    AUROC:  0.62\n",
      "\n"
     ]
    },
    {
     "name": "stderr",
     "output_type": "stream",
     "text": [
      "Batch in Progress: 100%|███████████████████████████████████████████| 64/64 [00:00<00:00, 219.83it/s]\n"
     ]
    },
    {
     "name": "stdout",
     "output_type": "stream",
     "text": [
      "Validation Set:\n",
      "    Average Loss:  0.610680,    Accuracy: 68.71%,    Correct Counter: 694/1010,    F1 Score: 0.77,    Precision: 0.65,    Recall:  0.96,    AUROC:  0.65\n",
      "\n",
      "Epoch 157/250\n"
     ]
    },
    {
     "name": "stderr",
     "output_type": "stream",
     "text": [
      "Batch in Progress: 100%|█████████████████████████████████████████| 251/251 [00:01<00:00, 184.22it/s]\n"
     ]
    },
    {
     "name": "stdout",
     "output_type": "stream",
     "text": [
      "Train Set:\n",
      "    Average Loss:  0.635408,    Accuracy: 67.10%,    Correct Counter: 2690/4009,    F1 Score: 0.77,    Precision: 0.65,    Recall:  0.93,    AUROC:  0.62\n",
      "\n"
     ]
    },
    {
     "name": "stderr",
     "output_type": "stream",
     "text": [
      "Batch in Progress: 100%|███████████████████████████████████████████| 64/64 [00:00<00:00, 218.26it/s]\n"
     ]
    },
    {
     "name": "stdout",
     "output_type": "stream",
     "text": [
      "Validation Set:\n",
      "    Average Loss:  0.614587,    Accuracy: 68.71%,    Correct Counter: 694/1010,    F1 Score: 0.77,    Precision: 0.65,    Recall:  0.96,    AUROC:  0.65\n",
      "\n",
      "Epoch 158/250\n"
     ]
    },
    {
     "name": "stderr",
     "output_type": "stream",
     "text": [
      "Batch in Progress: 100%|█████████████████████████████████████████| 251/251 [00:01<00:00, 183.91it/s]\n"
     ]
    },
    {
     "name": "stdout",
     "output_type": "stream",
     "text": [
      "Train Set:\n",
      "    Average Loss:  0.618526,    Accuracy: 67.47%,    Correct Counter: 2705/4009,    F1 Score: 0.77,    Precision: 0.66,    Recall:  0.93,    AUROC:  0.62\n",
      "\n"
     ]
    },
    {
     "name": "stderr",
     "output_type": "stream",
     "text": [
      "Batch in Progress: 100%|███████████████████████████████████████████| 64/64 [00:00<00:00, 218.99it/s]\n"
     ]
    },
    {
     "name": "stdout",
     "output_type": "stream",
     "text": [
      "Validation Set:\n",
      "    Average Loss:  0.600810,    Accuracy: 68.22%,    Correct Counter: 689/1010,    F1 Score: 0.77,    Precision: 0.65,    Recall:  0.94,    AUROC:  0.65\n",
      "\n",
      "Epoch 159/250\n"
     ]
    },
    {
     "name": "stderr",
     "output_type": "stream",
     "text": [
      "Batch in Progress: 100%|█████████████████████████████████████████| 251/251 [00:01<00:00, 184.56it/s]\n"
     ]
    },
    {
     "name": "stdout",
     "output_type": "stream",
     "text": [
      "Train Set:\n",
      "    Average Loss:  0.618811,    Accuracy: 67.82%,    Correct Counter: 2719/4009,    F1 Score: 0.77,    Precision: 0.66,    Recall:  0.93,    AUROC:  0.63\n",
      "\n"
     ]
    },
    {
     "name": "stderr",
     "output_type": "stream",
     "text": [
      "Batch in Progress: 100%|███████████████████████████████████████████| 64/64 [00:00<00:00, 218.45it/s]\n"
     ]
    },
    {
     "name": "stdout",
     "output_type": "stream",
     "text": [
      "Validation Set:\n",
      "    Average Loss:  0.608897,    Accuracy: 68.42%,    Correct Counter: 691/1010,    F1 Score: 0.77,    Precision: 0.65,    Recall:  0.96,    AUROC:  0.65\n",
      "\n",
      "Epoch 160/250\n"
     ]
    },
    {
     "name": "stderr",
     "output_type": "stream",
     "text": [
      "Batch in Progress: 100%|█████████████████████████████████████████| 251/251 [00:01<00:00, 174.01it/s]\n"
     ]
    },
    {
     "name": "stdout",
     "output_type": "stream",
     "text": [
      "Train Set:\n",
      "    Average Loss:  0.610340,    Accuracy: 67.92%,    Correct Counter: 2723/4009,    F1 Score: 0.77,    Precision: 0.66,    Recall:  0.93,    AUROC:  0.63\n",
      "\n"
     ]
    },
    {
     "name": "stderr",
     "output_type": "stream",
     "text": [
      "Batch in Progress: 100%|███████████████████████████████████████████| 64/64 [00:00<00:00, 215.29it/s]\n"
     ]
    },
    {
     "name": "stdout",
     "output_type": "stream",
     "text": [
      "Validation Set:\n",
      "    Average Loss:  0.597527,    Accuracy: 68.22%,    Correct Counter: 689/1010,    F1 Score: 0.77,    Precision: 0.65,    Recall:  0.94,    AUROC:  0.65\n",
      "\n",
      "Epoch 161/250\n"
     ]
    },
    {
     "name": "stderr",
     "output_type": "stream",
     "text": [
      "Batch in Progress: 100%|█████████████████████████████████████████| 251/251 [00:01<00:00, 172.54it/s]\n"
     ]
    },
    {
     "name": "stdout",
     "output_type": "stream",
     "text": [
      "Train Set:\n",
      "    Average Loss:  0.615013,    Accuracy: 67.97%,    Correct Counter: 2725/4009,    F1 Score: 0.77,    Precision: 0.66,    Recall:  0.92,    AUROC:  0.63\n",
      "\n"
     ]
    },
    {
     "name": "stderr",
     "output_type": "stream",
     "text": [
      "Batch in Progress: 100%|███████████████████████████████████████████| 64/64 [00:00<00:00, 204.74it/s]\n"
     ]
    },
    {
     "name": "stdout",
     "output_type": "stream",
     "text": [
      "Validation Set:\n",
      "    Average Loss:  0.601998,    Accuracy: 68.61%,    Correct Counter: 693/1010,    F1 Score: 0.77,    Precision: 0.65,    Recall:  0.95,    AUROC:  0.65\n",
      "\n",
      "Epoch 162/250\n"
     ]
    },
    {
     "name": "stderr",
     "output_type": "stream",
     "text": [
      "Batch in Progress: 100%|█████████████████████████████████████████| 251/251 [00:01<00:00, 173.31it/s]\n"
     ]
    },
    {
     "name": "stdout",
     "output_type": "stream",
     "text": [
      "Train Set:\n",
      "    Average Loss:  0.616626,    Accuracy: 67.52%,    Correct Counter: 2707/4009,    F1 Score: 0.77,    Precision: 0.66,    Recall:  0.92,    AUROC:  0.63\n",
      "\n"
     ]
    },
    {
     "name": "stderr",
     "output_type": "stream",
     "text": [
      "Batch in Progress: 100%|███████████████████████████████████████████| 64/64 [00:00<00:00, 209.57it/s]\n"
     ]
    },
    {
     "name": "stdout",
     "output_type": "stream",
     "text": [
      "Validation Set:\n",
      "    Average Loss:  0.603578,    Accuracy: 67.82%,    Correct Counter: 685/1010,    F1 Score: 0.76,    Precision: 0.64,    Recall:  0.94,    AUROC:  0.64\n",
      "\n",
      "Epoch 163/250\n"
     ]
    },
    {
     "name": "stderr",
     "output_type": "stream",
     "text": [
      "Batch in Progress: 100%|█████████████████████████████████████████| 251/251 [00:01<00:00, 183.87it/s]\n"
     ]
    },
    {
     "name": "stdout",
     "output_type": "stream",
     "text": [
      "Train Set:\n",
      "    Average Loss:  0.614592,    Accuracy: 67.72%,    Correct Counter: 2715/4009,    F1 Score: 0.77,    Precision: 0.66,    Recall:  0.92,    AUROC:  0.63\n",
      "\n"
     ]
    },
    {
     "name": "stderr",
     "output_type": "stream",
     "text": [
      "Batch in Progress: 100%|███████████████████████████████████████████| 64/64 [00:00<00:00, 215.42it/s]\n"
     ]
    },
    {
     "name": "stdout",
     "output_type": "stream",
     "text": [
      "Validation Set:\n",
      "    Average Loss:  0.603870,    Accuracy: 67.82%,    Correct Counter: 685/1010,    F1 Score: 0.76,    Precision: 0.64,    Recall:  0.94,    AUROC:  0.64\n",
      "\n",
      "Epoch 164/250\n"
     ]
    },
    {
     "name": "stderr",
     "output_type": "stream",
     "text": [
      "Batch in Progress: 100%|█████████████████████████████████████████| 251/251 [00:01<00:00, 184.51it/s]\n"
     ]
    },
    {
     "name": "stdout",
     "output_type": "stream",
     "text": [
      "Train Set:\n",
      "    Average Loss:  0.616470,    Accuracy: 67.52%,    Correct Counter: 2707/4009,    F1 Score: 0.77,    Precision: 0.66,    Recall:  0.92,    AUROC:  0.62\n",
      "\n"
     ]
    },
    {
     "name": "stderr",
     "output_type": "stream",
     "text": [
      "Batch in Progress: 100%|███████████████████████████████████████████| 64/64 [00:00<00:00, 218.69it/s]\n"
     ]
    },
    {
     "name": "stdout",
     "output_type": "stream",
     "text": [
      "Validation Set:\n",
      "    Average Loss:  0.601593,    Accuracy: 67.82%,    Correct Counter: 685/1010,    F1 Score: 0.76,    Precision: 0.64,    Recall:  0.94,    AUROC:  0.64\n",
      "\n",
      "Epoch 165/250\n"
     ]
    },
    {
     "name": "stderr",
     "output_type": "stream",
     "text": [
      "Batch in Progress: 100%|█████████████████████████████████████████| 251/251 [00:01<00:00, 176.85it/s]\n"
     ]
    },
    {
     "name": "stdout",
     "output_type": "stream",
     "text": [
      "Train Set:\n",
      "    Average Loss:  0.614427,    Accuracy: 68.15%,    Correct Counter: 2732/4009,    F1 Score: 0.77,    Precision: 0.66,    Recall:  0.92,    AUROC:  0.63\n",
      "\n"
     ]
    },
    {
     "name": "stderr",
     "output_type": "stream",
     "text": [
      "Batch in Progress: 100%|███████████████████████████████████████████| 64/64 [00:00<00:00, 220.64it/s]\n"
     ]
    },
    {
     "name": "stdout",
     "output_type": "stream",
     "text": [
      "Validation Set:\n",
      "    Average Loss:  0.601766,    Accuracy: 67.82%,    Correct Counter: 685/1010,    F1 Score: 0.76,    Precision: 0.64,    Recall:  0.94,    AUROC:  0.64\n",
      "\n",
      "Epoch 166/250\n"
     ]
    },
    {
     "name": "stderr",
     "output_type": "stream",
     "text": [
      "Batch in Progress: 100%|█████████████████████████████████████████| 251/251 [00:01<00:00, 183.12it/s]\n"
     ]
    },
    {
     "name": "stdout",
     "output_type": "stream",
     "text": [
      "Train Set:\n",
      "    Average Loss:  0.648748,    Accuracy: 67.47%,    Correct Counter: 2705/4009,    F1 Score: 0.77,    Precision: 0.66,    Recall:  0.93,    AUROC:  0.62\n",
      "\n"
     ]
    },
    {
     "name": "stderr",
     "output_type": "stream",
     "text": [
      "Batch in Progress: 100%|███████████████████████████████████████████| 64/64 [00:00<00:00, 219.77it/s]\n"
     ]
    },
    {
     "name": "stdout",
     "output_type": "stream",
     "text": [
      "Validation Set:\n",
      "    Average Loss:  0.609911,    Accuracy: 68.42%,    Correct Counter: 691/1010,    F1 Score: 0.77,    Precision: 0.65,    Recall:  0.96,    AUROC:  0.65\n",
      "\n",
      "Epoch 167/250\n"
     ]
    },
    {
     "name": "stderr",
     "output_type": "stream",
     "text": [
      "Batch in Progress: 100%|█████████████████████████████████████████| 251/251 [00:01<00:00, 185.40it/s]\n"
     ]
    },
    {
     "name": "stdout",
     "output_type": "stream",
     "text": [
      "Train Set:\n",
      "    Average Loss:  0.615460,    Accuracy: 67.60%,    Correct Counter: 2710/4009,    F1 Score: 0.77,    Precision: 0.66,    Recall:  0.92,    AUROC:  0.63\n",
      "\n"
     ]
    },
    {
     "name": "stderr",
     "output_type": "stream",
     "text": [
      "Batch in Progress: 100%|███████████████████████████████████████████| 64/64 [00:00<00:00, 218.02it/s]\n"
     ]
    },
    {
     "name": "stdout",
     "output_type": "stream",
     "text": [
      "Validation Set:\n",
      "    Average Loss:  0.603112,    Accuracy: 67.82%,    Correct Counter: 685/1010,    F1 Score: 0.76,    Precision: 0.64,    Recall:  0.94,    AUROC:  0.64\n",
      "\n",
      "Epoch 168/250\n"
     ]
    },
    {
     "name": "stderr",
     "output_type": "stream",
     "text": [
      "Batch in Progress: 100%|█████████████████████████████████████████| 251/251 [00:01<00:00, 181.64it/s]\n"
     ]
    },
    {
     "name": "stdout",
     "output_type": "stream",
     "text": [
      "Train Set:\n",
      "    Average Loss:  0.615151,    Accuracy: 67.60%,    Correct Counter: 2710/4009,    F1 Score: 0.77,    Precision: 0.66,    Recall:  0.93,    AUROC:  0.62\n",
      "\n"
     ]
    },
    {
     "name": "stderr",
     "output_type": "stream",
     "text": [
      "Batch in Progress: 100%|███████████████████████████████████████████| 64/64 [00:00<00:00, 219.43it/s]\n"
     ]
    },
    {
     "name": "stdout",
     "output_type": "stream",
     "text": [
      "Validation Set:\n",
      "    Average Loss:  0.601541,    Accuracy: 67.82%,    Correct Counter: 685/1010,    F1 Score: 0.76,    Precision: 0.64,    Recall:  0.94,    AUROC:  0.64\n",
      "\n",
      "Epoch 169/250\n"
     ]
    },
    {
     "name": "stderr",
     "output_type": "stream",
     "text": [
      "Batch in Progress: 100%|█████████████████████████████████████████| 251/251 [00:01<00:00, 183.91it/s]\n"
     ]
    },
    {
     "name": "stdout",
     "output_type": "stream",
     "text": [
      "Train Set:\n",
      "    Average Loss:  0.612443,    Accuracy: 68.02%,    Correct Counter: 2727/4009,    F1 Score: 0.77,    Precision: 0.66,    Recall:  0.92,    AUROC:  0.63\n",
      "\n"
     ]
    },
    {
     "name": "stderr",
     "output_type": "stream",
     "text": [
      "Batch in Progress: 100%|███████████████████████████████████████████| 64/64 [00:00<00:00, 217.51it/s]\n"
     ]
    },
    {
     "name": "stdout",
     "output_type": "stream",
     "text": [
      "Validation Set:\n",
      "    Average Loss:  0.606831,    Accuracy: 68.42%,    Correct Counter: 691/1010,    F1 Score: 0.77,    Precision: 0.65,    Recall:  0.96,    AUROC:  0.65\n",
      "\n",
      "Epoch 170/250\n"
     ]
    },
    {
     "name": "stderr",
     "output_type": "stream",
     "text": [
      "Batch in Progress: 100%|█████████████████████████████████████████| 251/251 [00:01<00:00, 182.48it/s]\n"
     ]
    },
    {
     "name": "stdout",
     "output_type": "stream",
     "text": [
      "Train Set:\n",
      "    Average Loss:  0.614353,    Accuracy: 67.75%,    Correct Counter: 2716/4009,    F1 Score: 0.77,    Precision: 0.66,    Recall:  0.93,    AUROC:  0.63\n",
      "\n"
     ]
    },
    {
     "name": "stderr",
     "output_type": "stream",
     "text": [
      "Batch in Progress: 100%|███████████████████████████████████████████| 64/64 [00:00<00:00, 218.46it/s]\n"
     ]
    },
    {
     "name": "stdout",
     "output_type": "stream",
     "text": [
      "Validation Set:\n",
      "    Average Loss:  0.596174,    Accuracy: 67.82%,    Correct Counter: 685/1010,    F1 Score: 0.76,    Precision: 0.65,    Recall:  0.93,    AUROC:  0.65\n",
      "\n",
      "Epoch 171/250\n"
     ]
    },
    {
     "name": "stderr",
     "output_type": "stream",
     "text": [
      "Batch in Progress: 100%|█████████████████████████████████████████| 251/251 [00:01<00:00, 183.80it/s]\n"
     ]
    },
    {
     "name": "stdout",
     "output_type": "stream",
     "text": [
      "Train Set:\n",
      "    Average Loss:  0.612423,    Accuracy: 67.87%,    Correct Counter: 2721/4009,    F1 Score: 0.77,    Precision: 0.66,    Recall:  0.92,    AUROC:  0.63\n",
      "\n"
     ]
    },
    {
     "name": "stderr",
     "output_type": "stream",
     "text": [
      "Batch in Progress: 100%|███████████████████████████████████████████| 64/64 [00:00<00:00, 216.43it/s]\n"
     ]
    },
    {
     "name": "stdout",
     "output_type": "stream",
     "text": [
      "Validation Set:\n",
      "    Average Loss:  0.603825,    Accuracy: 68.61%,    Correct Counter: 693/1010,    F1 Score: 0.77,    Precision: 0.65,    Recall:  0.95,    AUROC:  0.65\n",
      "\n",
      "Epoch 172/250\n"
     ]
    },
    {
     "name": "stderr",
     "output_type": "stream",
     "text": [
      "Batch in Progress: 100%|█████████████████████████████████████████| 251/251 [00:01<00:00, 182.29it/s]\n"
     ]
    },
    {
     "name": "stdout",
     "output_type": "stream",
     "text": [
      "Train Set:\n",
      "    Average Loss:  0.611152,    Accuracy: 68.07%,    Correct Counter: 2729/4009,    F1 Score: 0.77,    Precision: 0.66,    Recall:  0.93,    AUROC:  0.63\n",
      "\n"
     ]
    },
    {
     "name": "stderr",
     "output_type": "stream",
     "text": [
      "Batch in Progress: 100%|███████████████████████████████████████████| 64/64 [00:00<00:00, 219.86it/s]\n"
     ]
    },
    {
     "name": "stdout",
     "output_type": "stream",
     "text": [
      "Validation Set:\n",
      "    Average Loss:  0.603779,    Accuracy: 68.61%,    Correct Counter: 693/1010,    F1 Score: 0.77,    Precision: 0.65,    Recall:  0.95,    AUROC:  0.65\n",
      "\n",
      "Epoch 173/250\n"
     ]
    },
    {
     "name": "stderr",
     "output_type": "stream",
     "text": [
      "Batch in Progress: 100%|█████████████████████████████████████████| 251/251 [00:01<00:00, 183.44it/s]\n"
     ]
    },
    {
     "name": "stdout",
     "output_type": "stream",
     "text": [
      "Train Set:\n",
      "    Average Loss:  0.619616,    Accuracy: 67.47%,    Correct Counter: 2705/4009,    F1 Score: 0.77,    Precision: 0.66,    Recall:  0.92,    AUROC:  0.62\n",
      "\n"
     ]
    },
    {
     "name": "stderr",
     "output_type": "stream",
     "text": [
      "Batch in Progress: 100%|███████████████████████████████████████████| 64/64 [00:00<00:00, 218.85it/s]\n"
     ]
    },
    {
     "name": "stdout",
     "output_type": "stream",
     "text": [
      "Validation Set:\n",
      "    Average Loss:  0.608853,    Accuracy: 68.42%,    Correct Counter: 691/1010,    F1 Score: 0.77,    Precision: 0.65,    Recall:  0.96,    AUROC:  0.65\n",
      "\n",
      "Epoch 174/250\n"
     ]
    },
    {
     "name": "stderr",
     "output_type": "stream",
     "text": [
      "Batch in Progress: 100%|█████████████████████████████████████████| 251/251 [00:01<00:00, 184.05it/s]\n"
     ]
    },
    {
     "name": "stdout",
     "output_type": "stream",
     "text": [
      "Train Set:\n",
      "    Average Loss:  0.621198,    Accuracy: 67.27%,    Correct Counter: 2697/4009,    F1 Score: 0.77,    Precision: 0.66,    Recall:  0.92,    AUROC:  0.62\n",
      "\n"
     ]
    },
    {
     "name": "stderr",
     "output_type": "stream",
     "text": [
      "Batch in Progress: 100%|███████████████████████████████████████████| 64/64 [00:00<00:00, 218.14it/s]\n"
     ]
    },
    {
     "name": "stdout",
     "output_type": "stream",
     "text": [
      "Validation Set:\n",
      "    Average Loss:  0.604319,    Accuracy: 68.61%,    Correct Counter: 693/1010,    F1 Score: 0.77,    Precision: 0.65,    Recall:  0.95,    AUROC:  0.65\n",
      "\n",
      "Epoch 175/250\n"
     ]
    },
    {
     "name": "stderr",
     "output_type": "stream",
     "text": [
      "Batch in Progress: 100%|█████████████████████████████████████████| 251/251 [00:01<00:00, 184.16it/s]\n"
     ]
    },
    {
     "name": "stdout",
     "output_type": "stream",
     "text": [
      "Train Set:\n",
      "    Average Loss:  0.615792,    Accuracy: 67.75%,    Correct Counter: 2716/4009,    F1 Score: 0.77,    Precision: 0.66,    Recall:  0.92,    AUROC:  0.63\n",
      "\n"
     ]
    },
    {
     "name": "stderr",
     "output_type": "stream",
     "text": [
      "Batch in Progress: 100%|███████████████████████████████████████████| 64/64 [00:00<00:00, 219.71it/s]\n"
     ]
    },
    {
     "name": "stdout",
     "output_type": "stream",
     "text": [
      "Validation Set:\n",
      "    Average Loss:  0.607260,    Accuracy: 68.42%,    Correct Counter: 691/1010,    F1 Score: 0.77,    Precision: 0.65,    Recall:  0.96,    AUROC:  0.65\n",
      "\n",
      "Epoch 176/250\n"
     ]
    },
    {
     "name": "stderr",
     "output_type": "stream",
     "text": [
      "Batch in Progress: 100%|█████████████████████████████████████████| 251/251 [00:01<00:00, 185.11it/s]\n"
     ]
    },
    {
     "name": "stdout",
     "output_type": "stream",
     "text": [
      "Train Set:\n",
      "    Average Loss:  0.610044,    Accuracy: 68.00%,    Correct Counter: 2726/4009,    F1 Score: 0.77,    Precision: 0.66,    Recall:  0.93,    AUROC:  0.63\n",
      "\n"
     ]
    },
    {
     "name": "stderr",
     "output_type": "stream",
     "text": [
      "Batch in Progress: 100%|███████████████████████████████████████████| 64/64 [00:00<00:00, 220.42it/s]\n"
     ]
    },
    {
     "name": "stdout",
     "output_type": "stream",
     "text": [
      "Validation Set:\n",
      "    Average Loss:  0.598969,    Accuracy: 67.82%,    Correct Counter: 685/1010,    F1 Score: 0.76,    Precision: 0.64,    Recall:  0.94,    AUROC:  0.64\n",
      "\n",
      "Epoch 177/250\n"
     ]
    },
    {
     "name": "stderr",
     "output_type": "stream",
     "text": [
      "Batch in Progress: 100%|█████████████████████████████████████████| 251/251 [00:01<00:00, 185.20it/s]\n"
     ]
    },
    {
     "name": "stdout",
     "output_type": "stream",
     "text": [
      "Train Set:\n",
      "    Average Loss:  0.620293,    Accuracy: 68.12%,    Correct Counter: 2731/4009,    F1 Score: 0.77,    Precision: 0.66,    Recall:  0.93,    AUROC:  0.63\n",
      "\n"
     ]
    },
    {
     "name": "stderr",
     "output_type": "stream",
     "text": [
      "Batch in Progress: 100%|███████████████████████████████████████████| 64/64 [00:00<00:00, 219.46it/s]\n"
     ]
    },
    {
     "name": "stdout",
     "output_type": "stream",
     "text": [
      "Validation Set:\n",
      "    Average Loss:  0.601829,    Accuracy: 68.61%,    Correct Counter: 693/1010,    F1 Score: 0.77,    Precision: 0.65,    Recall:  0.95,    AUROC:  0.65\n",
      "\n",
      "Epoch 178/250\n"
     ]
    },
    {
     "name": "stderr",
     "output_type": "stream",
     "text": [
      "Batch in Progress: 100%|█████████████████████████████████████████| 251/251 [00:01<00:00, 184.98it/s]\n"
     ]
    },
    {
     "name": "stdout",
     "output_type": "stream",
     "text": [
      "Train Set:\n",
      "    Average Loss:  0.619377,    Accuracy: 67.62%,    Correct Counter: 2711/4009,    F1 Score: 0.77,    Precision: 0.66,    Recall:  0.93,    AUROC:  0.63\n",
      "\n"
     ]
    },
    {
     "name": "stderr",
     "output_type": "stream",
     "text": [
      "Batch in Progress: 100%|███████████████████████████████████████████| 64/64 [00:00<00:00, 219.03it/s]\n"
     ]
    },
    {
     "name": "stdout",
     "output_type": "stream",
     "text": [
      "Validation Set:\n",
      "    Average Loss:  0.599476,    Accuracy: 68.22%,    Correct Counter: 689/1010,    F1 Score: 0.77,    Precision: 0.65,    Recall:  0.94,    AUROC:  0.65\n",
      "\n",
      "Epoch 179/250\n"
     ]
    },
    {
     "name": "stderr",
     "output_type": "stream",
     "text": [
      "Batch in Progress: 100%|█████████████████████████████████████████| 251/251 [00:01<00:00, 184.96it/s]\n"
     ]
    },
    {
     "name": "stdout",
     "output_type": "stream",
     "text": [
      "Train Set:\n",
      "    Average Loss:  0.615242,    Accuracy: 67.62%,    Correct Counter: 2711/4009,    F1 Score: 0.77,    Precision: 0.66,    Recall:  0.92,    AUROC:  0.63\n",
      "\n"
     ]
    },
    {
     "name": "stderr",
     "output_type": "stream",
     "text": [
      "Batch in Progress: 100%|███████████████████████████████████████████| 64/64 [00:00<00:00, 220.14it/s]\n"
     ]
    },
    {
     "name": "stdout",
     "output_type": "stream",
     "text": [
      "Validation Set:\n",
      "    Average Loss:  0.600601,    Accuracy: 68.22%,    Correct Counter: 689/1010,    F1 Score: 0.77,    Precision: 0.65,    Recall:  0.94,    AUROC:  0.65\n",
      "\n",
      "Epoch 180/250\n"
     ]
    },
    {
     "name": "stderr",
     "output_type": "stream",
     "text": [
      "Batch in Progress: 100%|█████████████████████████████████████████| 251/251 [00:01<00:00, 185.08it/s]\n"
     ]
    },
    {
     "name": "stdout",
     "output_type": "stream",
     "text": [
      "Train Set:\n",
      "    Average Loss:  0.614283,    Accuracy: 67.97%,    Correct Counter: 2725/4009,    F1 Score: 0.77,    Precision: 0.66,    Recall:  0.92,    AUROC:  0.63\n",
      "\n"
     ]
    },
    {
     "name": "stderr",
     "output_type": "stream",
     "text": [
      "Batch in Progress: 100%|███████████████████████████████████████████| 64/64 [00:00<00:00, 220.02it/s]\n"
     ]
    },
    {
     "name": "stdout",
     "output_type": "stream",
     "text": [
      "Validation Set:\n",
      "    Average Loss:  0.606058,    Accuracy: 68.61%,    Correct Counter: 693/1010,    F1 Score: 0.77,    Precision: 0.65,    Recall:  0.95,    AUROC:  0.65\n",
      "\n",
      "Epoch 181/250\n"
     ]
    },
    {
     "name": "stderr",
     "output_type": "stream",
     "text": [
      "Batch in Progress: 100%|█████████████████████████████████████████| 251/251 [00:01<00:00, 184.77it/s]\n"
     ]
    },
    {
     "name": "stdout",
     "output_type": "stream",
     "text": [
      "Train Set:\n",
      "    Average Loss:  0.617507,    Accuracy: 67.52%,    Correct Counter: 2707/4009,    F1 Score: 0.77,    Precision: 0.66,    Recall:  0.92,    AUROC:  0.63\n",
      "\n"
     ]
    },
    {
     "name": "stderr",
     "output_type": "stream",
     "text": [
      "Batch in Progress: 100%|███████████████████████████████████████████| 64/64 [00:00<00:00, 219.87it/s]\n"
     ]
    },
    {
     "name": "stdout",
     "output_type": "stream",
     "text": [
      "Validation Set:\n",
      "    Average Loss:  0.605289,    Accuracy: 68.61%,    Correct Counter: 693/1010,    F1 Score: 0.77,    Precision: 0.65,    Recall:  0.95,    AUROC:  0.65\n",
      "\n",
      "Epoch 182/250\n"
     ]
    },
    {
     "name": "stderr",
     "output_type": "stream",
     "text": [
      "Batch in Progress: 100%|█████████████████████████████████████████| 251/251 [00:01<00:00, 184.98it/s]\n"
     ]
    },
    {
     "name": "stdout",
     "output_type": "stream",
     "text": [
      "Train Set:\n",
      "    Average Loss:  0.612123,    Accuracy: 68.10%,    Correct Counter: 2730/4009,    F1 Score: 0.77,    Precision: 0.66,    Recall:  0.92,    AUROC:  0.63\n",
      "\n"
     ]
    },
    {
     "name": "stderr",
     "output_type": "stream",
     "text": [
      "Batch in Progress: 100%|███████████████████████████████████████████| 64/64 [00:00<00:00, 219.82it/s]\n"
     ]
    },
    {
     "name": "stdout",
     "output_type": "stream",
     "text": [
      "Validation Set:\n",
      "    Average Loss:  0.594447,    Accuracy: 68.32%,    Correct Counter: 690/1010,    F1 Score: 0.77,    Precision: 0.65,    Recall:  0.94,    AUROC:  0.65\n",
      "\n",
      "Epoch 183/250\n"
     ]
    },
    {
     "name": "stderr",
     "output_type": "stream",
     "text": [
      "Batch in Progress: 100%|█████████████████████████████████████████| 251/251 [00:01<00:00, 184.86it/s]\n"
     ]
    },
    {
     "name": "stdout",
     "output_type": "stream",
     "text": [
      "Train Set:\n",
      "    Average Loss:  0.617407,    Accuracy: 67.90%,    Correct Counter: 2722/4009,    F1 Score: 0.77,    Precision: 0.66,    Recall:  0.92,    AUROC:  0.63\n",
      "\n"
     ]
    },
    {
     "name": "stderr",
     "output_type": "stream",
     "text": [
      "Batch in Progress: 100%|███████████████████████████████████████████| 64/64 [00:00<00:00, 219.64it/s]\n"
     ]
    },
    {
     "name": "stdout",
     "output_type": "stream",
     "text": [
      "Validation Set:\n",
      "    Average Loss:  0.597644,    Accuracy: 68.22%,    Correct Counter: 689/1010,    F1 Score: 0.77,    Precision: 0.65,    Recall:  0.94,    AUROC:  0.65\n",
      "\n",
      "Epoch 184/250\n"
     ]
    },
    {
     "name": "stderr",
     "output_type": "stream",
     "text": [
      "Batch in Progress: 100%|█████████████████████████████████████████| 251/251 [00:01<00:00, 185.22it/s]\n"
     ]
    },
    {
     "name": "stdout",
     "output_type": "stream",
     "text": [
      "Train Set:\n",
      "    Average Loss:  0.609597,    Accuracy: 68.10%,    Correct Counter: 2730/4009,    F1 Score: 0.77,    Precision: 0.66,    Recall:  0.92,    AUROC:  0.63\n",
      "\n"
     ]
    },
    {
     "name": "stderr",
     "output_type": "stream",
     "text": [
      "Batch in Progress: 100%|███████████████████████████████████████████| 64/64 [00:00<00:00, 219.84it/s]\n"
     ]
    },
    {
     "name": "stdout",
     "output_type": "stream",
     "text": [
      "Validation Set:\n",
      "    Average Loss:  0.596729,    Accuracy: 68.32%,    Correct Counter: 690/1010,    F1 Score: 0.77,    Precision: 0.65,    Recall:  0.94,    AUROC:  0.65\n",
      "\n",
      "Epoch 185/250\n"
     ]
    },
    {
     "name": "stderr",
     "output_type": "stream",
     "text": [
      "Batch in Progress: 100%|█████████████████████████████████████████| 251/251 [00:01<00:00, 184.46it/s]\n"
     ]
    },
    {
     "name": "stdout",
     "output_type": "stream",
     "text": [
      "Train Set:\n",
      "    Average Loss:  0.612202,    Accuracy: 67.62%,    Correct Counter: 2711/4009,    F1 Score: 0.77,    Precision: 0.66,    Recall:  0.92,    AUROC:  0.63\n",
      "\n"
     ]
    },
    {
     "name": "stderr",
     "output_type": "stream",
     "text": [
      "Batch in Progress: 100%|███████████████████████████████████████████| 64/64 [00:00<00:00, 215.74it/s]\n"
     ]
    },
    {
     "name": "stdout",
     "output_type": "stream",
     "text": [
      "Validation Set:\n",
      "    Average Loss:  0.601566,    Accuracy: 68.61%,    Correct Counter: 693/1010,    F1 Score: 0.77,    Precision: 0.65,    Recall:  0.95,    AUROC:  0.65\n",
      "\n",
      "Epoch 186/250\n"
     ]
    },
    {
     "name": "stderr",
     "output_type": "stream",
     "text": [
      "Batch in Progress: 100%|█████████████████████████████████████████| 251/251 [00:01<00:00, 184.86it/s]\n"
     ]
    },
    {
     "name": "stdout",
     "output_type": "stream",
     "text": [
      "Train Set:\n",
      "    Average Loss:  0.616106,    Accuracy: 68.02%,    Correct Counter: 2727/4009,    F1 Score: 0.77,    Precision: 0.66,    Recall:  0.92,    AUROC:  0.63\n",
      "\n"
     ]
    },
    {
     "name": "stderr",
     "output_type": "stream",
     "text": [
      "Batch in Progress: 100%|███████████████████████████████████████████| 64/64 [00:00<00:00, 218.74it/s]\n"
     ]
    },
    {
     "name": "stdout",
     "output_type": "stream",
     "text": [
      "Validation Set:\n",
      "    Average Loss:  0.599272,    Accuracy: 68.22%,    Correct Counter: 689/1010,    F1 Score: 0.77,    Precision: 0.65,    Recall:  0.94,    AUROC:  0.65\n",
      "\n",
      "Epoch 187/250\n"
     ]
    },
    {
     "name": "stderr",
     "output_type": "stream",
     "text": [
      "Batch in Progress: 100%|█████████████████████████████████████████| 251/251 [00:01<00:00, 184.47it/s]\n"
     ]
    },
    {
     "name": "stdout",
     "output_type": "stream",
     "text": [
      "Train Set:\n",
      "    Average Loss:  0.614724,    Accuracy: 67.87%,    Correct Counter: 2721/4009,    F1 Score: 0.77,    Precision: 0.66,    Recall:  0.92,    AUROC:  0.63\n",
      "\n"
     ]
    },
    {
     "name": "stderr",
     "output_type": "stream",
     "text": [
      "Batch in Progress: 100%|███████████████████████████████████████████| 64/64 [00:00<00:00, 219.37it/s]\n"
     ]
    },
    {
     "name": "stdout",
     "output_type": "stream",
     "text": [
      "Validation Set:\n",
      "    Average Loss:  0.597531,    Accuracy: 68.22%,    Correct Counter: 689/1010,    F1 Score: 0.77,    Precision: 0.65,    Recall:  0.94,    AUROC:  0.65\n",
      "\n",
      "Epoch 188/250\n"
     ]
    },
    {
     "name": "stderr",
     "output_type": "stream",
     "text": [
      "Batch in Progress: 100%|█████████████████████████████████████████| 251/251 [00:01<00:00, 185.05it/s]\n"
     ]
    },
    {
     "name": "stdout",
     "output_type": "stream",
     "text": [
      "Train Set:\n",
      "    Average Loss:  0.618726,    Accuracy: 67.72%,    Correct Counter: 2715/4009,    F1 Score: 0.77,    Precision: 0.66,    Recall:  0.92,    AUROC:  0.63\n",
      "\n"
     ]
    },
    {
     "name": "stderr",
     "output_type": "stream",
     "text": [
      "Batch in Progress: 100%|███████████████████████████████████████████| 64/64 [00:00<00:00, 219.42it/s]\n"
     ]
    },
    {
     "name": "stdout",
     "output_type": "stream",
     "text": [
      "Validation Set:\n",
      "    Average Loss:  0.594359,    Accuracy: 67.92%,    Correct Counter: 686/1010,    F1 Score: 0.76,    Precision: 0.65,    Recall:  0.93,    AUROC:  0.65\n",
      "\n",
      "Epoch 189/250\n"
     ]
    },
    {
     "name": "stderr",
     "output_type": "stream",
     "text": [
      "Batch in Progress: 100%|█████████████████████████████████████████| 251/251 [00:01<00:00, 182.69it/s]\n"
     ]
    },
    {
     "name": "stdout",
     "output_type": "stream",
     "text": [
      "Train Set:\n",
      "    Average Loss:  0.609234,    Accuracy: 68.15%,    Correct Counter: 2732/4009,    F1 Score: 0.77,    Precision: 0.66,    Recall:  0.92,    AUROC:  0.63\n",
      "\n"
     ]
    },
    {
     "name": "stderr",
     "output_type": "stream",
     "text": [
      "Batch in Progress: 100%|███████████████████████████████████████████| 64/64 [00:00<00:00, 219.03it/s]\n"
     ]
    },
    {
     "name": "stdout",
     "output_type": "stream",
     "text": [
      "Validation Set:\n",
      "    Average Loss:  0.598288,    Accuracy: 68.22%,    Correct Counter: 689/1010,    F1 Score: 0.77,    Precision: 0.65,    Recall:  0.94,    AUROC:  0.65\n",
      "\n",
      "Epoch 190/250\n"
     ]
    },
    {
     "name": "stderr",
     "output_type": "stream",
     "text": [
      "Batch in Progress: 100%|█████████████████████████████████████████| 251/251 [00:01<00:00, 182.11it/s]\n"
     ]
    },
    {
     "name": "stdout",
     "output_type": "stream",
     "text": [
      "Train Set:\n",
      "    Average Loss:  0.608568,    Accuracy: 67.82%,    Correct Counter: 2719/4009,    F1 Score: 0.77,    Precision: 0.66,    Recall:  0.92,    AUROC:  0.63\n",
      "\n"
     ]
    },
    {
     "name": "stderr",
     "output_type": "stream",
     "text": [
      "Batch in Progress: 100%|███████████████████████████████████████████| 64/64 [00:00<00:00, 218.25it/s]\n"
     ]
    },
    {
     "name": "stdout",
     "output_type": "stream",
     "text": [
      "Validation Set:\n",
      "    Average Loss:  0.597941,    Accuracy: 68.32%,    Correct Counter: 690/1010,    F1 Score: 0.77,    Precision: 0.65,    Recall:  0.94,    AUROC:  0.65\n",
      "\n",
      "Epoch 191/250\n"
     ]
    },
    {
     "name": "stderr",
     "output_type": "stream",
     "text": [
      "Batch in Progress: 100%|█████████████████████████████████████████| 251/251 [00:01<00:00, 184.15it/s]\n"
     ]
    },
    {
     "name": "stdout",
     "output_type": "stream",
     "text": [
      "Train Set:\n",
      "    Average Loss:  0.616422,    Accuracy: 67.50%,    Correct Counter: 2706/4009,    F1 Score: 0.77,    Precision: 0.66,    Recall:  0.92,    AUROC:  0.63\n",
      "\n"
     ]
    },
    {
     "name": "stderr",
     "output_type": "stream",
     "text": [
      "Batch in Progress: 100%|███████████████████████████████████████████| 64/64 [00:00<00:00, 218.78it/s]\n"
     ]
    },
    {
     "name": "stdout",
     "output_type": "stream",
     "text": [
      "Validation Set:\n",
      "    Average Loss:  0.601110,    Accuracy: 68.22%,    Correct Counter: 689/1010,    F1 Score: 0.77,    Precision: 0.65,    Recall:  0.94,    AUROC:  0.65\n",
      "\n",
      "Epoch 192/250\n"
     ]
    },
    {
     "name": "stderr",
     "output_type": "stream",
     "text": [
      "Batch in Progress: 100%|█████████████████████████████████████████| 251/251 [00:01<00:00, 183.93it/s]\n"
     ]
    },
    {
     "name": "stdout",
     "output_type": "stream",
     "text": [
      "Train Set:\n",
      "    Average Loss:  0.622970,    Accuracy: 67.85%,    Correct Counter: 2720/4009,    F1 Score: 0.77,    Precision: 0.66,    Recall:  0.92,    AUROC:  0.63\n",
      "\n"
     ]
    },
    {
     "name": "stderr",
     "output_type": "stream",
     "text": [
      "Batch in Progress: 100%|███████████████████████████████████████████| 64/64 [00:00<00:00, 217.76it/s]\n"
     ]
    },
    {
     "name": "stdout",
     "output_type": "stream",
     "text": [
      "Validation Set:\n",
      "    Average Loss:  0.599489,    Accuracy: 68.22%,    Correct Counter: 689/1010,    F1 Score: 0.77,    Precision: 0.65,    Recall:  0.94,    AUROC:  0.65\n",
      "\n",
      "Epoch 193/250\n"
     ]
    },
    {
     "name": "stderr",
     "output_type": "stream",
     "text": [
      "Batch in Progress: 100%|█████████████████████████████████████████| 251/251 [00:01<00:00, 184.36it/s]\n"
     ]
    },
    {
     "name": "stdout",
     "output_type": "stream",
     "text": [
      "Train Set:\n",
      "    Average Loss:  0.615561,    Accuracy: 68.12%,    Correct Counter: 2731/4009,    F1 Score: 0.77,    Precision: 0.66,    Recall:  0.92,    AUROC:  0.63\n",
      "\n"
     ]
    },
    {
     "name": "stderr",
     "output_type": "stream",
     "text": [
      "Batch in Progress: 100%|███████████████████████████████████████████| 64/64 [00:00<00:00, 215.66it/s]\n"
     ]
    },
    {
     "name": "stdout",
     "output_type": "stream",
     "text": [
      "Validation Set:\n",
      "    Average Loss:  0.599901,    Accuracy: 68.22%,    Correct Counter: 689/1010,    F1 Score: 0.77,    Precision: 0.65,    Recall:  0.94,    AUROC:  0.65\n",
      "\n",
      "Epoch 194/250\n"
     ]
    },
    {
     "name": "stderr",
     "output_type": "stream",
     "text": [
      "Batch in Progress: 100%|█████████████████████████████████████████| 251/251 [00:01<00:00, 183.51it/s]\n"
     ]
    },
    {
     "name": "stdout",
     "output_type": "stream",
     "text": [
      "Train Set:\n",
      "    Average Loss:  0.620760,    Accuracy: 67.67%,    Correct Counter: 2713/4009,    F1 Score: 0.77,    Precision: 0.66,    Recall:  0.92,    AUROC:  0.63\n",
      "\n"
     ]
    },
    {
     "name": "stderr",
     "output_type": "stream",
     "text": [
      "Batch in Progress: 100%|███████████████████████████████████████████| 64/64 [00:00<00:00, 220.28it/s]\n"
     ]
    },
    {
     "name": "stdout",
     "output_type": "stream",
     "text": [
      "Validation Set:\n",
      "    Average Loss:  0.599022,    Accuracy: 68.22%,    Correct Counter: 689/1010,    F1 Score: 0.77,    Precision: 0.65,    Recall:  0.94,    AUROC:  0.65\n",
      "\n",
      "Epoch 195/250\n"
     ]
    },
    {
     "name": "stderr",
     "output_type": "stream",
     "text": [
      "Batch in Progress: 100%|█████████████████████████████████████████| 251/251 [00:01<00:00, 184.82it/s]\n"
     ]
    },
    {
     "name": "stdout",
     "output_type": "stream",
     "text": [
      "Train Set:\n",
      "    Average Loss:  0.606879,    Accuracy: 67.80%,    Correct Counter: 2718/4009,    F1 Score: 0.77,    Precision: 0.66,    Recall:  0.91,    AUROC:  0.63\n",
      "\n"
     ]
    },
    {
     "name": "stderr",
     "output_type": "stream",
     "text": [
      "Batch in Progress: 100%|███████████████████████████████████████████| 64/64 [00:00<00:00, 219.22it/s]\n"
     ]
    },
    {
     "name": "stdout",
     "output_type": "stream",
     "text": [
      "Validation Set:\n",
      "    Average Loss:  0.596290,    Accuracy: 68.32%,    Correct Counter: 690/1010,    F1 Score: 0.77,    Precision: 0.65,    Recall:  0.94,    AUROC:  0.65\n",
      "\n",
      "Epoch 196/250\n"
     ]
    },
    {
     "name": "stderr",
     "output_type": "stream",
     "text": [
      "Batch in Progress: 100%|█████████████████████████████████████████| 251/251 [00:01<00:00, 184.38it/s]\n"
     ]
    },
    {
     "name": "stdout",
     "output_type": "stream",
     "text": [
      "Train Set:\n",
      "    Average Loss:  0.614148,    Accuracy: 68.17%,    Correct Counter: 2733/4009,    F1 Score: 0.77,    Precision: 0.66,    Recall:  0.92,    AUROC:  0.63\n",
      "\n"
     ]
    },
    {
     "name": "stderr",
     "output_type": "stream",
     "text": [
      "Batch in Progress: 100%|███████████████████████████████████████████| 64/64 [00:00<00:00, 219.38it/s]\n"
     ]
    },
    {
     "name": "stdout",
     "output_type": "stream",
     "text": [
      "Validation Set:\n",
      "    Average Loss:  0.599354,    Accuracy: 68.22%,    Correct Counter: 689/1010,    F1 Score: 0.77,    Precision: 0.65,    Recall:  0.94,    AUROC:  0.65\n",
      "\n",
      "Epoch 197/250\n"
     ]
    },
    {
     "name": "stderr",
     "output_type": "stream",
     "text": [
      "Batch in Progress: 100%|█████████████████████████████████████████| 251/251 [00:01<00:00, 185.74it/s]\n"
     ]
    },
    {
     "name": "stdout",
     "output_type": "stream",
     "text": [
      "Train Set:\n",
      "    Average Loss:  0.610881,    Accuracy: 68.27%,    Correct Counter: 2737/4009,    F1 Score: 0.77,    Precision: 0.67,    Recall:  0.91,    AUROC:  0.64\n",
      "\n"
     ]
    },
    {
     "name": "stderr",
     "output_type": "stream",
     "text": [
      "Batch in Progress: 100%|███████████████████████████████████████████| 64/64 [00:00<00:00, 220.10it/s]\n"
     ]
    },
    {
     "name": "stdout",
     "output_type": "stream",
     "text": [
      "Validation Set:\n",
      "    Average Loss:  0.596618,    Accuracy: 67.92%,    Correct Counter: 686/1010,    F1 Score: 0.76,    Precision: 0.65,    Recall:  0.93,    AUROC:  0.65\n",
      "\n",
      "Epoch 198/250\n"
     ]
    },
    {
     "name": "stderr",
     "output_type": "stream",
     "text": [
      "Batch in Progress: 100%|█████████████████████████████████████████| 251/251 [00:01<00:00, 184.64it/s]\n"
     ]
    },
    {
     "name": "stdout",
     "output_type": "stream",
     "text": [
      "Train Set:\n",
      "    Average Loss:  0.614820,    Accuracy: 68.12%,    Correct Counter: 2731/4009,    F1 Score: 0.77,    Precision: 0.66,    Recall:  0.92,    AUROC:  0.63\n",
      "\n"
     ]
    },
    {
     "name": "stderr",
     "output_type": "stream",
     "text": [
      "Batch in Progress: 100%|███████████████████████████████████████████| 64/64 [00:00<00:00, 210.22it/s]\n"
     ]
    },
    {
     "name": "stdout",
     "output_type": "stream",
     "text": [
      "Validation Set:\n",
      "    Average Loss:  0.597178,    Accuracy: 67.92%,    Correct Counter: 686/1010,    F1 Score: 0.76,    Precision: 0.65,    Recall:  0.93,    AUROC:  0.65\n",
      "\n",
      "Epoch 199/250\n"
     ]
    },
    {
     "name": "stderr",
     "output_type": "stream",
     "text": [
      "Batch in Progress: 100%|█████████████████████████████████████████| 251/251 [00:01<00:00, 182.87it/s]\n"
     ]
    },
    {
     "name": "stdout",
     "output_type": "stream",
     "text": [
      "Train Set:\n",
      "    Average Loss:  0.617006,    Accuracy: 67.47%,    Correct Counter: 2705/4009,    F1 Score: 0.77,    Precision: 0.66,    Recall:  0.92,    AUROC:  0.63\n",
      "\n"
     ]
    },
    {
     "name": "stderr",
     "output_type": "stream",
     "text": [
      "Batch in Progress: 100%|███████████████████████████████████████████| 64/64 [00:00<00:00, 219.57it/s]\n"
     ]
    },
    {
     "name": "stdout",
     "output_type": "stream",
     "text": [
      "Validation Set:\n",
      "    Average Loss:  0.598176,    Accuracy: 68.22%,    Correct Counter: 689/1010,    F1 Score: 0.77,    Precision: 0.65,    Recall:  0.94,    AUROC:  0.65\n",
      "\n",
      "Epoch 200/250\n"
     ]
    },
    {
     "name": "stderr",
     "output_type": "stream",
     "text": [
      "Batch in Progress: 100%|█████████████████████████████████████████| 251/251 [00:01<00:00, 183.16it/s]\n"
     ]
    },
    {
     "name": "stdout",
     "output_type": "stream",
     "text": [
      "Train Set:\n",
      "    Average Loss:  0.615811,    Accuracy: 67.37%,    Correct Counter: 2701/4009,    F1 Score: 0.77,    Precision: 0.66,    Recall:  0.92,    AUROC:  0.62\n",
      "\n"
     ]
    },
    {
     "name": "stderr",
     "output_type": "stream",
     "text": [
      "Batch in Progress: 100%|███████████████████████████████████████████| 64/64 [00:00<00:00, 213.80it/s]\n"
     ]
    },
    {
     "name": "stdout",
     "output_type": "stream",
     "text": [
      "Validation Set:\n",
      "    Average Loss:  0.597791,    Accuracy: 67.92%,    Correct Counter: 686/1010,    F1 Score: 0.76,    Precision: 0.65,    Recall:  0.93,    AUROC:  0.65\n",
      "\n",
      "Epoch 201/250\n"
     ]
    },
    {
     "name": "stderr",
     "output_type": "stream",
     "text": [
      "Batch in Progress: 100%|█████████████████████████████████████████| 251/251 [00:01<00:00, 183.28it/s]\n"
     ]
    },
    {
     "name": "stdout",
     "output_type": "stream",
     "text": [
      "Train Set:\n",
      "    Average Loss:  0.619250,    Accuracy: 68.70%,    Correct Counter: 2754/4009,    F1 Score: 0.78,    Precision: 0.67,    Recall:  0.92,    AUROC:  0.64\n",
      "\n"
     ]
    },
    {
     "name": "stderr",
     "output_type": "stream",
     "text": [
      "Batch in Progress: 100%|███████████████████████████████████████████| 64/64 [00:00<00:00, 219.66it/s]\n"
     ]
    },
    {
     "name": "stdout",
     "output_type": "stream",
     "text": [
      "Validation Set:\n",
      "    Average Loss:  0.598727,    Accuracy: 68.22%,    Correct Counter: 689/1010,    F1 Score: 0.77,    Precision: 0.65,    Recall:  0.94,    AUROC:  0.65\n",
      "\n",
      "Epoch 202/250\n"
     ]
    },
    {
     "name": "stderr",
     "output_type": "stream",
     "text": [
      "Batch in Progress: 100%|█████████████████████████████████████████| 251/251 [00:01<00:00, 179.10it/s]\n"
     ]
    },
    {
     "name": "stdout",
     "output_type": "stream",
     "text": [
      "Train Set:\n",
      "    Average Loss:  0.610294,    Accuracy: 68.00%,    Correct Counter: 2726/4009,    F1 Score: 0.77,    Precision: 0.66,    Recall:  0.92,    AUROC:  0.63\n",
      "\n"
     ]
    },
    {
     "name": "stderr",
     "output_type": "stream",
     "text": [
      "Batch in Progress: 100%|███████████████████████████████████████████| 64/64 [00:00<00:00, 211.19it/s]\n"
     ]
    },
    {
     "name": "stdout",
     "output_type": "stream",
     "text": [
      "Validation Set:\n",
      "    Average Loss:  0.597587,    Accuracy: 68.22%,    Correct Counter: 689/1010,    F1 Score: 0.77,    Precision: 0.65,    Recall:  0.94,    AUROC:  0.65\n",
      "\n",
      "Epoch 203/250\n"
     ]
    },
    {
     "name": "stderr",
     "output_type": "stream",
     "text": [
      "Batch in Progress: 100%|█████████████████████████████████████████| 251/251 [00:01<00:00, 177.01it/s]\n"
     ]
    },
    {
     "name": "stdout",
     "output_type": "stream",
     "text": [
      "Train Set:\n",
      "    Average Loss:  0.615638,    Accuracy: 67.57%,    Correct Counter: 2709/4009,    F1 Score: 0.77,    Precision: 0.66,    Recall:  0.92,    AUROC:  0.63\n",
      "\n"
     ]
    },
    {
     "name": "stderr",
     "output_type": "stream",
     "text": [
      "Batch in Progress: 100%|███████████████████████████████████████████| 64/64 [00:00<00:00, 214.15it/s]\n"
     ]
    },
    {
     "name": "stdout",
     "output_type": "stream",
     "text": [
      "Validation Set:\n",
      "    Average Loss:  0.599315,    Accuracy: 68.22%,    Correct Counter: 689/1010,    F1 Score: 0.77,    Precision: 0.65,    Recall:  0.94,    AUROC:  0.65\n",
      "\n",
      "Epoch 204/250\n"
     ]
    },
    {
     "name": "stderr",
     "output_type": "stream",
     "text": [
      "Batch in Progress: 100%|█████████████████████████████████████████| 251/251 [00:01<00:00, 178.41it/s]\n"
     ]
    },
    {
     "name": "stdout",
     "output_type": "stream",
     "text": [
      "Train Set:\n",
      "    Average Loss:  0.614352,    Accuracy: 67.77%,    Correct Counter: 2717/4009,    F1 Score: 0.77,    Precision: 0.66,    Recall:  0.93,    AUROC:  0.63\n",
      "\n"
     ]
    },
    {
     "name": "stderr",
     "output_type": "stream",
     "text": [
      "Batch in Progress: 100%|███████████████████████████████████████████| 64/64 [00:00<00:00, 199.24it/s]\n"
     ]
    },
    {
     "name": "stdout",
     "output_type": "stream",
     "text": [
      "Validation Set:\n",
      "    Average Loss:  0.600262,    Accuracy: 69.01%,    Correct Counter: 697/1010,    F1 Score: 0.77,    Precision: 0.65,    Recall:  0.95,    AUROC:  0.66\n",
      "\n",
      "Epoch 205/250\n"
     ]
    },
    {
     "name": "stderr",
     "output_type": "stream",
     "text": [
      "Batch in Progress: 100%|█████████████████████████████████████████| 251/251 [00:01<00:00, 171.43it/s]\n"
     ]
    },
    {
     "name": "stdout",
     "output_type": "stream",
     "text": [
      "Train Set:\n",
      "    Average Loss:  0.608705,    Accuracy: 68.02%,    Correct Counter: 2727/4009,    F1 Score: 0.77,    Precision: 0.66,    Recall:  0.92,    AUROC:  0.63\n",
      "\n"
     ]
    },
    {
     "name": "stderr",
     "output_type": "stream",
     "text": [
      "Batch in Progress: 100%|███████████████████████████████████████████| 64/64 [00:00<00:00, 214.24it/s]\n"
     ]
    },
    {
     "name": "stdout",
     "output_type": "stream",
     "text": [
      "Validation Set:\n",
      "    Average Loss:  0.594719,    Accuracy: 67.92%,    Correct Counter: 686/1010,    F1 Score: 0.76,    Precision: 0.65,    Recall:  0.93,    AUROC:  0.65\n",
      "\n",
      "Epoch 206/250\n"
     ]
    },
    {
     "name": "stderr",
     "output_type": "stream",
     "text": [
      "Batch in Progress: 100%|█████████████████████████████████████████| 251/251 [00:01<00:00, 178.48it/s]\n"
     ]
    },
    {
     "name": "stdout",
     "output_type": "stream",
     "text": [
      "Train Set:\n",
      "    Average Loss:  0.610345,    Accuracy: 68.00%,    Correct Counter: 2726/4009,    F1 Score: 0.77,    Precision: 0.66,    Recall:  0.92,    AUROC:  0.63\n",
      "\n"
     ]
    },
    {
     "name": "stderr",
     "output_type": "stream",
     "text": [
      "Batch in Progress: 100%|███████████████████████████████████████████| 64/64 [00:00<00:00, 220.60it/s]\n"
     ]
    },
    {
     "name": "stdout",
     "output_type": "stream",
     "text": [
      "Validation Set:\n",
      "    Average Loss:  0.596538,    Accuracy: 68.22%,    Correct Counter: 689/1010,    F1 Score: 0.77,    Precision: 0.65,    Recall:  0.94,    AUROC:  0.65\n",
      "\n",
      "Epoch 207/250\n"
     ]
    },
    {
     "name": "stderr",
     "output_type": "stream",
     "text": [
      "Batch in Progress: 100%|█████████████████████████████████████████| 251/251 [00:01<00:00, 184.42it/s]\n"
     ]
    },
    {
     "name": "stdout",
     "output_type": "stream",
     "text": [
      "Train Set:\n",
      "    Average Loss:  0.607016,    Accuracy: 67.90%,    Correct Counter: 2722/4009,    F1 Score: 0.77,    Precision: 0.66,    Recall:  0.92,    AUROC:  0.63\n",
      "\n"
     ]
    },
    {
     "name": "stderr",
     "output_type": "stream",
     "text": [
      "Batch in Progress: 100%|███████████████████████████████████████████| 64/64 [00:00<00:00, 219.88it/s]\n"
     ]
    },
    {
     "name": "stdout",
     "output_type": "stream",
     "text": [
      "Validation Set:\n",
      "    Average Loss:  0.595507,    Accuracy: 68.22%,    Correct Counter: 689/1010,    F1 Score: 0.77,    Precision: 0.65,    Recall:  0.94,    AUROC:  0.65\n",
      "\n",
      "Epoch 208/250\n"
     ]
    },
    {
     "name": "stderr",
     "output_type": "stream",
     "text": [
      "Batch in Progress: 100%|█████████████████████████████████████████| 251/251 [00:01<00:00, 183.65it/s]\n"
     ]
    },
    {
     "name": "stdout",
     "output_type": "stream",
     "text": [
      "Train Set:\n",
      "    Average Loss:  0.620729,    Accuracy: 67.50%,    Correct Counter: 2706/4009,    F1 Score: 0.77,    Precision: 0.66,    Recall:  0.92,    AUROC:  0.63\n",
      "\n"
     ]
    },
    {
     "name": "stderr",
     "output_type": "stream",
     "text": [
      "Batch in Progress: 100%|███████████████████████████████████████████| 64/64 [00:00<00:00, 219.58it/s]\n"
     ]
    },
    {
     "name": "stdout",
     "output_type": "stream",
     "text": [
      "Validation Set:\n",
      "    Average Loss:  0.596872,    Accuracy: 68.22%,    Correct Counter: 689/1010,    F1 Score: 0.77,    Precision: 0.65,    Recall:  0.94,    AUROC:  0.65\n",
      "\n",
      "Epoch 209/250\n"
     ]
    },
    {
     "name": "stderr",
     "output_type": "stream",
     "text": [
      "Batch in Progress: 100%|█████████████████████████████████████████| 251/251 [00:01<00:00, 183.68it/s]\n"
     ]
    },
    {
     "name": "stdout",
     "output_type": "stream",
     "text": [
      "Train Set:\n",
      "    Average Loss:  0.612304,    Accuracy: 67.82%,    Correct Counter: 2719/4009,    F1 Score: 0.77,    Precision: 0.66,    Recall:  0.91,    AUROC:  0.63\n",
      "\n"
     ]
    },
    {
     "name": "stderr",
     "output_type": "stream",
     "text": [
      "Batch in Progress: 100%|███████████████████████████████████████████| 64/64 [00:00<00:00, 219.44it/s]\n"
     ]
    },
    {
     "name": "stdout",
     "output_type": "stream",
     "text": [
      "Validation Set:\n",
      "    Average Loss:  0.596956,    Accuracy: 68.22%,    Correct Counter: 689/1010,    F1 Score: 0.77,    Precision: 0.65,    Recall:  0.94,    AUROC:  0.65\n",
      "\n",
      "Epoch 210/250\n"
     ]
    },
    {
     "name": "stderr",
     "output_type": "stream",
     "text": [
      "Batch in Progress: 100%|█████████████████████████████████████████| 251/251 [00:01<00:00, 181.59it/s]\n"
     ]
    },
    {
     "name": "stdout",
     "output_type": "stream",
     "text": [
      "Train Set:\n",
      "    Average Loss:  0.609597,    Accuracy: 67.92%,    Correct Counter: 2723/4009,    F1 Score: 0.77,    Precision: 0.66,    Recall:  0.92,    AUROC:  0.63\n",
      "\n"
     ]
    },
    {
     "name": "stderr",
     "output_type": "stream",
     "text": [
      "Batch in Progress: 100%|███████████████████████████████████████████| 64/64 [00:00<00:00, 217.17it/s]\n"
     ]
    },
    {
     "name": "stdout",
     "output_type": "stream",
     "text": [
      "Validation Set:\n",
      "    Average Loss:  0.596282,    Accuracy: 68.32%,    Correct Counter: 690/1010,    F1 Score: 0.77,    Precision: 0.65,    Recall:  0.94,    AUROC:  0.65\n",
      "\n",
      "Epoch 211/250\n"
     ]
    },
    {
     "name": "stderr",
     "output_type": "stream",
     "text": [
      "Batch in Progress: 100%|█████████████████████████████████████████| 251/251 [00:01<00:00, 183.83it/s]\n"
     ]
    },
    {
     "name": "stdout",
     "output_type": "stream",
     "text": [
      "Train Set:\n",
      "    Average Loss:  0.614505,    Accuracy: 67.50%,    Correct Counter: 2706/4009,    F1 Score: 0.77,    Precision: 0.66,    Recall:  0.92,    AUROC:  0.63\n",
      "\n"
     ]
    },
    {
     "name": "stderr",
     "output_type": "stream",
     "text": [
      "Batch in Progress: 100%|███████████████████████████████████████████| 64/64 [00:00<00:00, 213.43it/s]\n"
     ]
    },
    {
     "name": "stdout",
     "output_type": "stream",
     "text": [
      "Validation Set:\n",
      "    Average Loss:  0.596809,    Accuracy: 68.22%,    Correct Counter: 689/1010,    F1 Score: 0.77,    Precision: 0.65,    Recall:  0.94,    AUROC:  0.65\n",
      "\n",
      "Epoch 212/250\n"
     ]
    },
    {
     "name": "stderr",
     "output_type": "stream",
     "text": [
      "Batch in Progress: 100%|█████████████████████████████████████████| 251/251 [00:01<00:00, 182.96it/s]\n"
     ]
    },
    {
     "name": "stdout",
     "output_type": "stream",
     "text": [
      "Train Set:\n",
      "    Average Loss:  0.621277,    Accuracy: 68.30%,    Correct Counter: 2738/4009,    F1 Score: 0.77,    Precision: 0.67,    Recall:  0.92,    AUROC:  0.63\n",
      "\n"
     ]
    },
    {
     "name": "stderr",
     "output_type": "stream",
     "text": [
      "Batch in Progress: 100%|███████████████████████████████████████████| 64/64 [00:00<00:00, 219.01it/s]\n"
     ]
    },
    {
     "name": "stdout",
     "output_type": "stream",
     "text": [
      "Validation Set:\n",
      "    Average Loss:  0.600659,    Accuracy: 68.22%,    Correct Counter: 689/1010,    F1 Score: 0.77,    Precision: 0.65,    Recall:  0.94,    AUROC:  0.65\n",
      "\n",
      "Epoch 213/250\n"
     ]
    },
    {
     "name": "stderr",
     "output_type": "stream",
     "text": [
      "Batch in Progress: 100%|█████████████████████████████████████████| 251/251 [00:01<00:00, 180.81it/s]\n"
     ]
    },
    {
     "name": "stdout",
     "output_type": "stream",
     "text": [
      "Train Set:\n",
      "    Average Loss:  0.615696,    Accuracy: 68.17%,    Correct Counter: 2733/4009,    F1 Score: 0.77,    Precision: 0.66,    Recall:  0.92,    AUROC:  0.63\n",
      "\n"
     ]
    },
    {
     "name": "stderr",
     "output_type": "stream",
     "text": [
      "Batch in Progress: 100%|███████████████████████████████████████████| 64/64 [00:00<00:00, 218.89it/s]\n"
     ]
    },
    {
     "name": "stdout",
     "output_type": "stream",
     "text": [
      "Validation Set:\n",
      "    Average Loss:  0.598501,    Accuracy: 68.22%,    Correct Counter: 689/1010,    F1 Score: 0.77,    Precision: 0.65,    Recall:  0.94,    AUROC:  0.65\n",
      "\n",
      "Epoch 214/250\n"
     ]
    },
    {
     "name": "stderr",
     "output_type": "stream",
     "text": [
      "Batch in Progress: 100%|█████████████████████████████████████████| 251/251 [00:01<00:00, 184.19it/s]\n"
     ]
    },
    {
     "name": "stdout",
     "output_type": "stream",
     "text": [
      "Train Set:\n",
      "    Average Loss:  0.614756,    Accuracy: 67.85%,    Correct Counter: 2720/4009,    F1 Score: 0.77,    Precision: 0.66,    Recall:  0.92,    AUROC:  0.63\n",
      "\n"
     ]
    },
    {
     "name": "stderr",
     "output_type": "stream",
     "text": [
      "Batch in Progress: 100%|███████████████████████████████████████████| 64/64 [00:00<00:00, 220.03it/s]\n"
     ]
    },
    {
     "name": "stdout",
     "output_type": "stream",
     "text": [
      "Validation Set:\n",
      "    Average Loss:  0.597238,    Accuracy: 67.92%,    Correct Counter: 686/1010,    F1 Score: 0.76,    Precision: 0.65,    Recall:  0.93,    AUROC:  0.65\n",
      "\n",
      "Epoch 215/250\n"
     ]
    },
    {
     "name": "stderr",
     "output_type": "stream",
     "text": [
      "Batch in Progress: 100%|█████████████████████████████████████████| 251/251 [00:01<00:00, 181.41it/s]\n"
     ]
    },
    {
     "name": "stdout",
     "output_type": "stream",
     "text": [
      "Train Set:\n",
      "    Average Loss:  0.614165,    Accuracy: 67.62%,    Correct Counter: 2711/4009,    F1 Score: 0.77,    Precision: 0.66,    Recall:  0.92,    AUROC:  0.63\n",
      "\n"
     ]
    },
    {
     "name": "stderr",
     "output_type": "stream",
     "text": [
      "Batch in Progress: 100%|███████████████████████████████████████████| 64/64 [00:00<00:00, 215.09it/s]\n"
     ]
    },
    {
     "name": "stdout",
     "output_type": "stream",
     "text": [
      "Validation Set:\n",
      "    Average Loss:  0.597566,    Accuracy: 67.92%,    Correct Counter: 686/1010,    F1 Score: 0.76,    Precision: 0.65,    Recall:  0.93,    AUROC:  0.65\n",
      "\n",
      "Epoch 216/250\n"
     ]
    },
    {
     "name": "stderr",
     "output_type": "stream",
     "text": [
      "Batch in Progress: 100%|█████████████████████████████████████████| 251/251 [00:01<00:00, 183.81it/s]\n"
     ]
    },
    {
     "name": "stdout",
     "output_type": "stream",
     "text": [
      "Train Set:\n",
      "    Average Loss:  0.614743,    Accuracy: 67.82%,    Correct Counter: 2719/4009,    F1 Score: 0.77,    Precision: 0.66,    Recall:  0.92,    AUROC:  0.63\n",
      "\n"
     ]
    },
    {
     "name": "stderr",
     "output_type": "stream",
     "text": [
      "Batch in Progress: 100%|███████████████████████████████████████████| 64/64 [00:00<00:00, 219.63it/s]\n"
     ]
    },
    {
     "name": "stdout",
     "output_type": "stream",
     "text": [
      "Validation Set:\n",
      "    Average Loss:  0.597969,    Accuracy: 68.22%,    Correct Counter: 689/1010,    F1 Score: 0.77,    Precision: 0.65,    Recall:  0.94,    AUROC:  0.65\n",
      "\n",
      "Epoch 217/250\n"
     ]
    },
    {
     "name": "stderr",
     "output_type": "stream",
     "text": [
      "Batch in Progress: 100%|█████████████████████████████████████████| 251/251 [00:01<00:00, 184.28it/s]\n"
     ]
    },
    {
     "name": "stdout",
     "output_type": "stream",
     "text": [
      "Train Set:\n",
      "    Average Loss:  0.612750,    Accuracy: 67.90%,    Correct Counter: 2722/4009,    F1 Score: 0.77,    Precision: 0.66,    Recall:  0.92,    AUROC:  0.63\n",
      "\n"
     ]
    },
    {
     "name": "stderr",
     "output_type": "stream",
     "text": [
      "Batch in Progress: 100%|███████████████████████████████████████████| 64/64 [00:00<00:00, 219.47it/s]\n"
     ]
    },
    {
     "name": "stdout",
     "output_type": "stream",
     "text": [
      "Validation Set:\n",
      "    Average Loss:  0.598770,    Accuracy: 68.22%,    Correct Counter: 689/1010,    F1 Score: 0.77,    Precision: 0.65,    Recall:  0.94,    AUROC:  0.65\n",
      "\n",
      "Epoch 218/250\n"
     ]
    },
    {
     "name": "stderr",
     "output_type": "stream",
     "text": [
      "Batch in Progress: 100%|█████████████████████████████████████████| 251/251 [00:01<00:00, 184.36it/s]\n"
     ]
    },
    {
     "name": "stdout",
     "output_type": "stream",
     "text": [
      "Train Set:\n",
      "    Average Loss:  0.610434,    Accuracy: 68.30%,    Correct Counter: 2738/4009,    F1 Score: 0.77,    Precision: 0.66,    Recall:  0.92,    AUROC:  0.63\n",
      "\n"
     ]
    },
    {
     "name": "stderr",
     "output_type": "stream",
     "text": [
      "Batch in Progress: 100%|███████████████████████████████████████████| 64/64 [00:00<00:00, 220.28it/s]\n"
     ]
    },
    {
     "name": "stdout",
     "output_type": "stream",
     "text": [
      "Validation Set:\n",
      "    Average Loss:  0.596949,    Accuracy: 67.92%,    Correct Counter: 686/1010,    F1 Score: 0.76,    Precision: 0.65,    Recall:  0.93,    AUROC:  0.65\n",
      "\n",
      "Epoch 219/250\n"
     ]
    },
    {
     "name": "stderr",
     "output_type": "stream",
     "text": [
      "Batch in Progress: 100%|█████████████████████████████████████████| 251/251 [00:01<00:00, 184.76it/s]\n"
     ]
    },
    {
     "name": "stdout",
     "output_type": "stream",
     "text": [
      "Train Set:\n",
      "    Average Loss:  0.606038,    Accuracy: 67.82%,    Correct Counter: 2719/4009,    F1 Score: 0.77,    Precision: 0.66,    Recall:  0.92,    AUROC:  0.63\n",
      "\n"
     ]
    },
    {
     "name": "stderr",
     "output_type": "stream",
     "text": [
      "Batch in Progress: 100%|███████████████████████████████████████████| 64/64 [00:00<00:00, 219.57it/s]\n"
     ]
    },
    {
     "name": "stdout",
     "output_type": "stream",
     "text": [
      "Validation Set:\n",
      "    Average Loss:  0.594659,    Accuracy: 67.92%,    Correct Counter: 686/1010,    F1 Score: 0.76,    Precision: 0.65,    Recall:  0.93,    AUROC:  0.65\n",
      "\n",
      "Epoch 220/250\n"
     ]
    },
    {
     "name": "stderr",
     "output_type": "stream",
     "text": [
      "Batch in Progress: 100%|█████████████████████████████████████████| 251/251 [00:01<00:00, 183.80it/s]\n"
     ]
    },
    {
     "name": "stdout",
     "output_type": "stream",
     "text": [
      "Train Set:\n",
      "    Average Loss:  0.611663,    Accuracy: 68.30%,    Correct Counter: 2738/4009,    F1 Score: 0.77,    Precision: 0.67,    Recall:  0.92,    AUROC:  0.63\n",
      "\n"
     ]
    },
    {
     "name": "stderr",
     "output_type": "stream",
     "text": [
      "Batch in Progress: 100%|███████████████████████████████████████████| 64/64 [00:00<00:00, 219.74it/s]\n"
     ]
    },
    {
     "name": "stdout",
     "output_type": "stream",
     "text": [
      "Validation Set:\n",
      "    Average Loss:  0.595098,    Accuracy: 67.92%,    Correct Counter: 686/1010,    F1 Score: 0.76,    Precision: 0.65,    Recall:  0.93,    AUROC:  0.65\n",
      "\n",
      "Epoch 221/250\n"
     ]
    },
    {
     "name": "stderr",
     "output_type": "stream",
     "text": [
      "Batch in Progress: 100%|█████████████████████████████████████████| 251/251 [00:01<00:00, 179.78it/s]\n"
     ]
    },
    {
     "name": "stdout",
     "output_type": "stream",
     "text": [
      "Train Set:\n",
      "    Average Loss:  0.613935,    Accuracy: 68.05%,    Correct Counter: 2728/4009,    F1 Score: 0.77,    Precision: 0.66,    Recall:  0.92,    AUROC:  0.63\n",
      "\n"
     ]
    },
    {
     "name": "stderr",
     "output_type": "stream",
     "text": [
      "Batch in Progress: 100%|███████████████████████████████████████████| 64/64 [00:00<00:00, 220.17it/s]\n"
     ]
    },
    {
     "name": "stdout",
     "output_type": "stream",
     "text": [
      "Validation Set:\n",
      "    Average Loss:  0.595965,    Accuracy: 67.82%,    Correct Counter: 685/1010,    F1 Score: 0.76,    Precision: 0.65,    Recall:  0.93,    AUROC:  0.65\n",
      "\n",
      "Epoch 222/250\n"
     ]
    },
    {
     "name": "stderr",
     "output_type": "stream",
     "text": [
      "Batch in Progress: 100%|█████████████████████████████████████████| 251/251 [00:01<00:00, 183.31it/s]\n"
     ]
    },
    {
     "name": "stdout",
     "output_type": "stream",
     "text": [
      "Train Set:\n",
      "    Average Loss:  0.615276,    Accuracy: 68.02%,    Correct Counter: 2727/4009,    F1 Score: 0.77,    Precision: 0.66,    Recall:  0.91,    AUROC:  0.63\n",
      "\n"
     ]
    },
    {
     "name": "stderr",
     "output_type": "stream",
     "text": [
      "Batch in Progress: 100%|███████████████████████████████████████████| 64/64 [00:00<00:00, 220.15it/s]\n"
     ]
    },
    {
     "name": "stdout",
     "output_type": "stream",
     "text": [
      "Validation Set:\n",
      "    Average Loss:  0.596692,    Accuracy: 68.22%,    Correct Counter: 689/1010,    F1 Score: 0.77,    Precision: 0.65,    Recall:  0.94,    AUROC:  0.65\n",
      "\n",
      "Epoch 223/250\n"
     ]
    },
    {
     "name": "stderr",
     "output_type": "stream",
     "text": [
      "Batch in Progress: 100%|█████████████████████████████████████████| 251/251 [00:01<00:00, 184.38it/s]\n"
     ]
    },
    {
     "name": "stdout",
     "output_type": "stream",
     "text": [
      "Train Set:\n",
      "    Average Loss:  0.610400,    Accuracy: 67.90%,    Correct Counter: 2722/4009,    F1 Score: 0.77,    Precision: 0.66,    Recall:  0.92,    AUROC:  0.63\n",
      "\n"
     ]
    },
    {
     "name": "stderr",
     "output_type": "stream",
     "text": [
      "Batch in Progress: 100%|███████████████████████████████████████████| 64/64 [00:00<00:00, 219.09it/s]\n"
     ]
    },
    {
     "name": "stdout",
     "output_type": "stream",
     "text": [
      "Validation Set:\n",
      "    Average Loss:  0.595689,    Accuracy: 67.92%,    Correct Counter: 686/1010,    F1 Score: 0.76,    Precision: 0.65,    Recall:  0.93,    AUROC:  0.65\n",
      "\n",
      "Epoch 224/250\n"
     ]
    },
    {
     "name": "stderr",
     "output_type": "stream",
     "text": [
      "Batch in Progress: 100%|█████████████████████████████████████████| 251/251 [00:01<00:00, 180.22it/s]\n"
     ]
    },
    {
     "name": "stdout",
     "output_type": "stream",
     "text": [
      "Train Set:\n",
      "    Average Loss:  0.618213,    Accuracy: 67.75%,    Correct Counter: 2716/4009,    F1 Score: 0.77,    Precision: 0.66,    Recall:  0.91,    AUROC:  0.63\n",
      "\n"
     ]
    },
    {
     "name": "stderr",
     "output_type": "stream",
     "text": [
      "Batch in Progress: 100%|███████████████████████████████████████████| 64/64 [00:00<00:00, 220.29it/s]\n"
     ]
    },
    {
     "name": "stdout",
     "output_type": "stream",
     "text": [
      "Validation Set:\n",
      "    Average Loss:  0.597435,    Accuracy: 68.22%,    Correct Counter: 689/1010,    F1 Score: 0.77,    Precision: 0.65,    Recall:  0.94,    AUROC:  0.65\n",
      "\n",
      "Epoch 225/250\n"
     ]
    },
    {
     "name": "stderr",
     "output_type": "stream",
     "text": [
      "Batch in Progress: 100%|█████████████████████████████████████████| 251/251 [00:01<00:00, 184.42it/s]\n"
     ]
    },
    {
     "name": "stdout",
     "output_type": "stream",
     "text": [
      "Train Set:\n",
      "    Average Loss:  0.609880,    Accuracy: 67.80%,    Correct Counter: 2718/4009,    F1 Score: 0.77,    Precision: 0.66,    Recall:  0.92,    AUROC:  0.63\n",
      "\n"
     ]
    },
    {
     "name": "stderr",
     "output_type": "stream",
     "text": [
      "Batch in Progress: 100%|███████████████████████████████████████████| 64/64 [00:00<00:00, 218.93it/s]\n"
     ]
    },
    {
     "name": "stdout",
     "output_type": "stream",
     "text": [
      "Validation Set:\n",
      "    Average Loss:  0.596978,    Accuracy: 68.22%,    Correct Counter: 689/1010,    F1 Score: 0.77,    Precision: 0.65,    Recall:  0.94,    AUROC:  0.65\n",
      "\n",
      "Epoch 226/250\n"
     ]
    },
    {
     "name": "stderr",
     "output_type": "stream",
     "text": [
      "Batch in Progress: 100%|█████████████████████████████████████████| 251/251 [00:01<00:00, 175.51it/s]\n"
     ]
    },
    {
     "name": "stdout",
     "output_type": "stream",
     "text": [
      "Train Set:\n",
      "    Average Loss:  0.610357,    Accuracy: 68.27%,    Correct Counter: 2737/4009,    F1 Score: 0.77,    Precision: 0.67,    Recall:  0.92,    AUROC:  0.64\n",
      "\n"
     ]
    },
    {
     "name": "stderr",
     "output_type": "stream",
     "text": [
      "Batch in Progress: 100%|███████████████████████████████████████████| 64/64 [00:00<00:00, 205.42it/s]\n"
     ]
    },
    {
     "name": "stdout",
     "output_type": "stream",
     "text": [
      "Validation Set:\n",
      "    Average Loss:  0.596105,    Accuracy: 67.92%,    Correct Counter: 686/1010,    F1 Score: 0.76,    Precision: 0.65,    Recall:  0.93,    AUROC:  0.65\n",
      "\n",
      "Epoch 227/250\n"
     ]
    },
    {
     "name": "stderr",
     "output_type": "stream",
     "text": [
      "Batch in Progress: 100%|█████████████████████████████████████████| 251/251 [00:01<00:00, 176.52it/s]\n"
     ]
    },
    {
     "name": "stdout",
     "output_type": "stream",
     "text": [
      "Train Set:\n",
      "    Average Loss:  0.612091,    Accuracy: 67.87%,    Correct Counter: 2721/4009,    F1 Score: 0.77,    Precision: 0.66,    Recall:  0.91,    AUROC:  0.63\n",
      "\n"
     ]
    },
    {
     "name": "stderr",
     "output_type": "stream",
     "text": [
      "Batch in Progress: 100%|███████████████████████████████████████████| 64/64 [00:00<00:00, 216.76it/s]\n"
     ]
    },
    {
     "name": "stdout",
     "output_type": "stream",
     "text": [
      "Validation Set:\n",
      "    Average Loss:  0.595995,    Accuracy: 67.92%,    Correct Counter: 686/1010,    F1 Score: 0.76,    Precision: 0.65,    Recall:  0.93,    AUROC:  0.65\n",
      "\n",
      "Epoch 228/250\n"
     ]
    },
    {
     "name": "stderr",
     "output_type": "stream",
     "text": [
      "Batch in Progress: 100%|█████████████████████████████████████████| 251/251 [00:01<00:00, 184.15it/s]\n"
     ]
    },
    {
     "name": "stdout",
     "output_type": "stream",
     "text": [
      "Train Set:\n",
      "    Average Loss:  0.615147,    Accuracy: 67.87%,    Correct Counter: 2721/4009,    F1 Score: 0.77,    Precision: 0.66,    Recall:  0.92,    AUROC:  0.63\n",
      "\n"
     ]
    },
    {
     "name": "stderr",
     "output_type": "stream",
     "text": [
      "Batch in Progress: 100%|███████████████████████████████████████████| 64/64 [00:00<00:00, 217.66it/s]\n"
     ]
    },
    {
     "name": "stdout",
     "output_type": "stream",
     "text": [
      "Validation Set:\n",
      "    Average Loss:  0.597351,    Accuracy: 68.22%,    Correct Counter: 689/1010,    F1 Score: 0.77,    Precision: 0.65,    Recall:  0.94,    AUROC:  0.65\n",
      "\n",
      "Epoch 229/250\n"
     ]
    },
    {
     "name": "stderr",
     "output_type": "stream",
     "text": [
      "Batch in Progress: 100%|█████████████████████████████████████████| 251/251 [00:01<00:00, 182.71it/s]\n"
     ]
    },
    {
     "name": "stdout",
     "output_type": "stream",
     "text": [
      "Train Set:\n",
      "    Average Loss:  0.617889,    Accuracy: 67.67%,    Correct Counter: 2713/4009,    F1 Score: 0.77,    Precision: 0.66,    Recall:  0.92,    AUROC:  0.63\n",
      "\n"
     ]
    },
    {
     "name": "stderr",
     "output_type": "stream",
     "text": [
      "Batch in Progress: 100%|███████████████████████████████████████████| 64/64 [00:00<00:00, 217.52it/s]\n"
     ]
    },
    {
     "name": "stdout",
     "output_type": "stream",
     "text": [
      "Validation Set:\n",
      "    Average Loss:  0.598275,    Accuracy: 68.22%,    Correct Counter: 689/1010,    F1 Score: 0.77,    Precision: 0.65,    Recall:  0.94,    AUROC:  0.65\n",
      "\n",
      "Epoch 230/250\n"
     ]
    },
    {
     "name": "stderr",
     "output_type": "stream",
     "text": [
      "Batch in Progress: 100%|█████████████████████████████████████████| 251/251 [00:01<00:00, 182.40it/s]\n"
     ]
    },
    {
     "name": "stdout",
     "output_type": "stream",
     "text": [
      "Train Set:\n",
      "    Average Loss:  0.619137,    Accuracy: 67.60%,    Correct Counter: 2710/4009,    F1 Score: 0.77,    Precision: 0.66,    Recall:  0.92,    AUROC:  0.63\n",
      "\n"
     ]
    },
    {
     "name": "stderr",
     "output_type": "stream",
     "text": [
      "Batch in Progress: 100%|███████████████████████████████████████████| 64/64 [00:00<00:00, 217.64it/s]\n"
     ]
    },
    {
     "name": "stdout",
     "output_type": "stream",
     "text": [
      "Validation Set:\n",
      "    Average Loss:  0.598677,    Accuracy: 68.22%,    Correct Counter: 689/1010,    F1 Score: 0.77,    Precision: 0.65,    Recall:  0.94,    AUROC:  0.65\n",
      "\n",
      "Epoch 231/250\n"
     ]
    },
    {
     "name": "stderr",
     "output_type": "stream",
     "text": [
      "Batch in Progress: 100%|█████████████████████████████████████████| 251/251 [00:01<00:00, 182.61it/s]\n"
     ]
    },
    {
     "name": "stdout",
     "output_type": "stream",
     "text": [
      "Train Set:\n",
      "    Average Loss:  0.608971,    Accuracy: 68.15%,    Correct Counter: 2732/4009,    F1 Score: 0.77,    Precision: 0.66,    Recall:  0.92,    AUROC:  0.63\n",
      "\n"
     ]
    },
    {
     "name": "stderr",
     "output_type": "stream",
     "text": [
      "Batch in Progress: 100%|███████████████████████████████████████████| 64/64 [00:00<00:00, 215.69it/s]\n"
     ]
    },
    {
     "name": "stdout",
     "output_type": "stream",
     "text": [
      "Validation Set:\n",
      "    Average Loss:  0.597590,    Accuracy: 68.22%,    Correct Counter: 689/1010,    F1 Score: 0.77,    Precision: 0.65,    Recall:  0.94,    AUROC:  0.65\n",
      "\n",
      "Epoch 232/250\n"
     ]
    },
    {
     "name": "stderr",
     "output_type": "stream",
     "text": [
      "Batch in Progress: 100%|█████████████████████████████████████████| 251/251 [00:01<00:00, 182.47it/s]\n"
     ]
    },
    {
     "name": "stdout",
     "output_type": "stream",
     "text": [
      "Train Set:\n",
      "    Average Loss:  0.612966,    Accuracy: 67.95%,    Correct Counter: 2724/4009,    F1 Score: 0.77,    Precision: 0.66,    Recall:  0.92,    AUROC:  0.63\n",
      "\n"
     ]
    },
    {
     "name": "stderr",
     "output_type": "stream",
     "text": [
      "Batch in Progress: 100%|███████████████████████████████████████████| 64/64 [00:00<00:00, 217.47it/s]\n"
     ]
    },
    {
     "name": "stdout",
     "output_type": "stream",
     "text": [
      "Validation Set:\n",
      "    Average Loss:  0.597586,    Accuracy: 68.22%,    Correct Counter: 689/1010,    F1 Score: 0.77,    Precision: 0.65,    Recall:  0.94,    AUROC:  0.65\n",
      "\n",
      "Epoch 233/250\n"
     ]
    },
    {
     "name": "stderr",
     "output_type": "stream",
     "text": [
      "Batch in Progress: 100%|█████████████████████████████████████████| 251/251 [00:01<00:00, 183.40it/s]\n"
     ]
    },
    {
     "name": "stdout",
     "output_type": "stream",
     "text": [
      "Train Set:\n",
      "    Average Loss:  0.612021,    Accuracy: 67.60%,    Correct Counter: 2710/4009,    F1 Score: 0.77,    Precision: 0.66,    Recall:  0.92,    AUROC:  0.63\n",
      "\n"
     ]
    },
    {
     "name": "stderr",
     "output_type": "stream",
     "text": [
      "Batch in Progress: 100%|███████████████████████████████████████████| 64/64 [00:00<00:00, 219.80it/s]\n"
     ]
    },
    {
     "name": "stdout",
     "output_type": "stream",
     "text": [
      "Validation Set:\n",
      "    Average Loss:  0.596881,    Accuracy: 68.22%,    Correct Counter: 689/1010,    F1 Score: 0.77,    Precision: 0.65,    Recall:  0.94,    AUROC:  0.65\n",
      "\n",
      "Epoch 234/250\n"
     ]
    },
    {
     "name": "stderr",
     "output_type": "stream",
     "text": [
      "Batch in Progress: 100%|█████████████████████████████████████████| 251/251 [00:01<00:00, 184.40it/s]\n"
     ]
    },
    {
     "name": "stdout",
     "output_type": "stream",
     "text": [
      "Train Set:\n",
      "    Average Loss:  0.626724,    Accuracy: 67.87%,    Correct Counter: 2721/4009,    F1 Score: 0.77,    Precision: 0.66,    Recall:  0.92,    AUROC:  0.63\n",
      "\n"
     ]
    },
    {
     "name": "stderr",
     "output_type": "stream",
     "text": [
      "Batch in Progress: 100%|███████████████████████████████████████████| 64/64 [00:00<00:00, 220.25it/s]\n"
     ]
    },
    {
     "name": "stdout",
     "output_type": "stream",
     "text": [
      "Validation Set:\n",
      "    Average Loss:  0.597558,    Accuracy: 68.22%,    Correct Counter: 689/1010,    F1 Score: 0.77,    Precision: 0.65,    Recall:  0.94,    AUROC:  0.65\n",
      "\n",
      "Epoch 235/250\n"
     ]
    },
    {
     "name": "stderr",
     "output_type": "stream",
     "text": [
      "Batch in Progress: 100%|█████████████████████████████████████████| 251/251 [00:01<00:00, 184.36it/s]\n"
     ]
    },
    {
     "name": "stdout",
     "output_type": "stream",
     "text": [
      "Train Set:\n",
      "    Average Loss:  0.626307,    Accuracy: 67.92%,    Correct Counter: 2723/4009,    F1 Score: 0.77,    Precision: 0.66,    Recall:  0.92,    AUROC:  0.63\n",
      "\n"
     ]
    },
    {
     "name": "stderr",
     "output_type": "stream",
     "text": [
      "Batch in Progress: 100%|███████████████████████████████████████████| 64/64 [00:00<00:00, 219.89it/s]\n"
     ]
    },
    {
     "name": "stdout",
     "output_type": "stream",
     "text": [
      "Validation Set:\n",
      "    Average Loss:  0.597903,    Accuracy: 68.22%,    Correct Counter: 689/1010,    F1 Score: 0.77,    Precision: 0.65,    Recall:  0.94,    AUROC:  0.65\n",
      "\n",
      "Epoch 236/250\n"
     ]
    },
    {
     "name": "stderr",
     "output_type": "stream",
     "text": [
      "Batch in Progress: 100%|█████████████████████████████████████████| 251/251 [00:01<00:00, 184.61it/s]\n"
     ]
    },
    {
     "name": "stdout",
     "output_type": "stream",
     "text": [
      "Train Set:\n",
      "    Average Loss:  0.617617,    Accuracy: 67.82%,    Correct Counter: 2719/4009,    F1 Score: 0.77,    Precision: 0.66,    Recall:  0.92,    AUROC:  0.63\n",
      "\n"
     ]
    },
    {
     "name": "stderr",
     "output_type": "stream",
     "text": [
      "Batch in Progress: 100%|███████████████████████████████████████████| 64/64 [00:00<00:00, 219.72it/s]\n"
     ]
    },
    {
     "name": "stdout",
     "output_type": "stream",
     "text": [
      "Validation Set:\n",
      "    Average Loss:  0.597903,    Accuracy: 68.22%,    Correct Counter: 689/1010,    F1 Score: 0.77,    Precision: 0.65,    Recall:  0.94,    AUROC:  0.65\n",
      "\n",
      "Epoch 237/250\n"
     ]
    },
    {
     "name": "stderr",
     "output_type": "stream",
     "text": [
      "Batch in Progress: 100%|█████████████████████████████████████████| 251/251 [00:01<00:00, 184.07it/s]\n"
     ]
    },
    {
     "name": "stdout",
     "output_type": "stream",
     "text": [
      "Train Set:\n",
      "    Average Loss:  0.615327,    Accuracy: 68.15%,    Correct Counter: 2732/4009,    F1 Score: 0.77,    Precision: 0.66,    Recall:  0.92,    AUROC:  0.63\n",
      "\n"
     ]
    },
    {
     "name": "stderr",
     "output_type": "stream",
     "text": [
      "Batch in Progress: 100%|███████████████████████████████████████████| 64/64 [00:00<00:00, 220.53it/s]\n"
     ]
    },
    {
     "name": "stdout",
     "output_type": "stream",
     "text": [
      "Validation Set:\n",
      "    Average Loss:  0.597867,    Accuracy: 68.22%,    Correct Counter: 689/1010,    F1 Score: 0.77,    Precision: 0.65,    Recall:  0.94,    AUROC:  0.65\n",
      "\n",
      "Epoch 238/250\n"
     ]
    },
    {
     "name": "stderr",
     "output_type": "stream",
     "text": [
      "Batch in Progress: 100%|█████████████████████████████████████████| 251/251 [00:01<00:00, 183.57it/s]\n"
     ]
    },
    {
     "name": "stdout",
     "output_type": "stream",
     "text": [
      "Train Set:\n",
      "    Average Loss:  0.607394,    Accuracy: 67.82%,    Correct Counter: 2719/4009,    F1 Score: 0.77,    Precision: 0.66,    Recall:  0.92,    AUROC:  0.63\n",
      "\n"
     ]
    },
    {
     "name": "stderr",
     "output_type": "stream",
     "text": [
      "Batch in Progress: 100%|███████████████████████████████████████████| 64/64 [00:00<00:00, 218.34it/s]\n"
     ]
    },
    {
     "name": "stdout",
     "output_type": "stream",
     "text": [
      "Validation Set:\n",
      "    Average Loss:  0.597592,    Accuracy: 68.22%,    Correct Counter: 689/1010,    F1 Score: 0.77,    Precision: 0.65,    Recall:  0.94,    AUROC:  0.65\n",
      "\n",
      "Epoch 239/250\n"
     ]
    },
    {
     "name": "stderr",
     "output_type": "stream",
     "text": [
      "Batch in Progress: 100%|█████████████████████████████████████████| 251/251 [00:01<00:00, 184.37it/s]\n"
     ]
    },
    {
     "name": "stdout",
     "output_type": "stream",
     "text": [
      "Train Set:\n",
      "    Average Loss:  0.611351,    Accuracy: 68.15%,    Correct Counter: 2732/4009,    F1 Score: 0.77,    Precision: 0.66,    Recall:  0.92,    AUROC:  0.63\n",
      "\n"
     ]
    },
    {
     "name": "stderr",
     "output_type": "stream",
     "text": [
      "Batch in Progress: 100%|███████████████████████████████████████████| 64/64 [00:00<00:00, 219.20it/s]\n"
     ]
    },
    {
     "name": "stdout",
     "output_type": "stream",
     "text": [
      "Validation Set:\n",
      "    Average Loss:  0.597464,    Accuracy: 68.22%,    Correct Counter: 689/1010,    F1 Score: 0.77,    Precision: 0.65,    Recall:  0.94,    AUROC:  0.65\n",
      "\n",
      "Epoch 240/250\n"
     ]
    },
    {
     "name": "stderr",
     "output_type": "stream",
     "text": [
      "Batch in Progress: 100%|█████████████████████████████████████████| 251/251 [00:01<00:00, 184.07it/s]\n"
     ]
    },
    {
     "name": "stdout",
     "output_type": "stream",
     "text": [
      "Train Set:\n",
      "    Average Loss:  0.619064,    Accuracy: 67.92%,    Correct Counter: 2723/4009,    F1 Score: 0.77,    Precision: 0.66,    Recall:  0.92,    AUROC:  0.63\n",
      "\n"
     ]
    },
    {
     "name": "stderr",
     "output_type": "stream",
     "text": [
      "Batch in Progress: 100%|███████████████████████████████████████████| 64/64 [00:00<00:00, 218.98it/s]\n"
     ]
    },
    {
     "name": "stdout",
     "output_type": "stream",
     "text": [
      "Validation Set:\n",
      "    Average Loss:  0.597611,    Accuracy: 68.22%,    Correct Counter: 689/1010,    F1 Score: 0.77,    Precision: 0.65,    Recall:  0.94,    AUROC:  0.65\n",
      "\n",
      "Epoch 241/250\n"
     ]
    },
    {
     "name": "stderr",
     "output_type": "stream",
     "text": [
      "Batch in Progress: 100%|█████████████████████████████████████████| 251/251 [00:01<00:00, 181.95it/s]\n"
     ]
    },
    {
     "name": "stdout",
     "output_type": "stream",
     "text": [
      "Train Set:\n",
      "    Average Loss:  0.606357,    Accuracy: 68.07%,    Correct Counter: 2729/4009,    F1 Score: 0.77,    Precision: 0.66,    Recall:  0.92,    AUROC:  0.63\n",
      "\n"
     ]
    },
    {
     "name": "stderr",
     "output_type": "stream",
     "text": [
      "Batch in Progress: 100%|███████████████████████████████████████████| 64/64 [00:00<00:00, 215.87it/s]\n"
     ]
    },
    {
     "name": "stdout",
     "output_type": "stream",
     "text": [
      "Validation Set:\n",
      "    Average Loss:  0.597308,    Accuracy: 67.82%,    Correct Counter: 685/1010,    F1 Score: 0.76,    Precision: 0.65,    Recall:  0.93,    AUROC:  0.65\n",
      "\n",
      "Epoch 242/250\n"
     ]
    },
    {
     "name": "stderr",
     "output_type": "stream",
     "text": [
      "Batch in Progress: 100%|█████████████████████████████████████████| 251/251 [00:01<00:00, 182.52it/s]\n"
     ]
    },
    {
     "name": "stdout",
     "output_type": "stream",
     "text": [
      "Train Set:\n",
      "    Average Loss:  0.610018,    Accuracy: 67.92%,    Correct Counter: 2723/4009,    F1 Score: 0.77,    Precision: 0.66,    Recall:  0.92,    AUROC:  0.63\n",
      "\n"
     ]
    },
    {
     "name": "stderr",
     "output_type": "stream",
     "text": [
      "Batch in Progress: 100%|███████████████████████████████████████████| 64/64 [00:00<00:00, 217.17it/s]\n"
     ]
    },
    {
     "name": "stdout",
     "output_type": "stream",
     "text": [
      "Validation Set:\n",
      "    Average Loss:  0.597262,    Accuracy: 67.82%,    Correct Counter: 685/1010,    F1 Score: 0.76,    Precision: 0.65,    Recall:  0.93,    AUROC:  0.65\n",
      "\n",
      "Epoch 243/250\n"
     ]
    },
    {
     "name": "stderr",
     "output_type": "stream",
     "text": [
      "Batch in Progress: 100%|█████████████████████████████████████████| 251/251 [00:01<00:00, 181.78it/s]\n"
     ]
    },
    {
     "name": "stdout",
     "output_type": "stream",
     "text": [
      "Train Set:\n",
      "    Average Loss:  0.619205,    Accuracy: 67.90%,    Correct Counter: 2722/4009,    F1 Score: 0.77,    Precision: 0.66,    Recall:  0.92,    AUROC:  0.63\n",
      "\n"
     ]
    },
    {
     "name": "stderr",
     "output_type": "stream",
     "text": [
      "Batch in Progress: 100%|███████████████████████████████████████████| 64/64 [00:00<00:00, 216.66it/s]\n"
     ]
    },
    {
     "name": "stdout",
     "output_type": "stream",
     "text": [
      "Validation Set:\n",
      "    Average Loss:  0.597283,    Accuracy: 67.82%,    Correct Counter: 685/1010,    F1 Score: 0.76,    Precision: 0.65,    Recall:  0.93,    AUROC:  0.65\n",
      "\n",
      "Epoch 244/250\n"
     ]
    },
    {
     "name": "stderr",
     "output_type": "stream",
     "text": [
      "Batch in Progress: 100%|█████████████████████████████████████████| 251/251 [00:01<00:00, 183.84it/s]\n"
     ]
    },
    {
     "name": "stdout",
     "output_type": "stream",
     "text": [
      "Train Set:\n",
      "    Average Loss:  0.611361,    Accuracy: 67.72%,    Correct Counter: 2715/4009,    F1 Score: 0.77,    Precision: 0.66,    Recall:  0.92,    AUROC:  0.63\n",
      "\n"
     ]
    },
    {
     "name": "stderr",
     "output_type": "stream",
     "text": [
      "Batch in Progress: 100%|███████████████████████████████████████████| 64/64 [00:00<00:00, 219.78it/s]\n"
     ]
    },
    {
     "name": "stdout",
     "output_type": "stream",
     "text": [
      "Validation Set:\n",
      "    Average Loss:  0.597291,    Accuracy: 67.82%,    Correct Counter: 685/1010,    F1 Score: 0.76,    Precision: 0.65,    Recall:  0.93,    AUROC:  0.65\n",
      "\n",
      "Epoch 245/250\n"
     ]
    },
    {
     "name": "stderr",
     "output_type": "stream",
     "text": [
      "Batch in Progress: 100%|█████████████████████████████████████████| 251/251 [00:01<00:00, 184.43it/s]\n"
     ]
    },
    {
     "name": "stdout",
     "output_type": "stream",
     "text": [
      "Train Set:\n",
      "    Average Loss:  0.621597,    Accuracy: 67.75%,    Correct Counter: 2716/4009,    F1 Score: 0.77,    Precision: 0.66,    Recall:  0.92,    AUROC:  0.63\n",
      "\n"
     ]
    },
    {
     "name": "stderr",
     "output_type": "stream",
     "text": [
      "Batch in Progress: 100%|███████████████████████████████████████████| 64/64 [00:00<00:00, 217.30it/s]\n"
     ]
    },
    {
     "name": "stdout",
     "output_type": "stream",
     "text": [
      "Validation Set:\n",
      "    Average Loss:  0.597334,    Accuracy: 67.82%,    Correct Counter: 685/1010,    F1 Score: 0.76,    Precision: 0.65,    Recall:  0.93,    AUROC:  0.65\n",
      "\n",
      "Epoch 246/250\n"
     ]
    },
    {
     "name": "stderr",
     "output_type": "stream",
     "text": [
      "Batch in Progress: 100%|█████████████████████████████████████████| 251/251 [00:01<00:00, 183.99it/s]\n"
     ]
    },
    {
     "name": "stdout",
     "output_type": "stream",
     "text": [
      "Train Set:\n",
      "    Average Loss:  0.615032,    Accuracy: 68.17%,    Correct Counter: 2733/4009,    F1 Score: 0.77,    Precision: 0.66,    Recall:  0.92,    AUROC:  0.63\n",
      "\n"
     ]
    },
    {
     "name": "stderr",
     "output_type": "stream",
     "text": [
      "Batch in Progress: 100%|███████████████████████████████████████████| 64/64 [00:00<00:00, 218.88it/s]\n"
     ]
    },
    {
     "name": "stdout",
     "output_type": "stream",
     "text": [
      "Validation Set:\n",
      "    Average Loss:  0.597361,    Accuracy: 67.82%,    Correct Counter: 685/1010,    F1 Score: 0.76,    Precision: 0.65,    Recall:  0.93,    AUROC:  0.65\n",
      "\n",
      "Epoch 247/250\n"
     ]
    },
    {
     "name": "stderr",
     "output_type": "stream",
     "text": [
      "Batch in Progress: 100%|█████████████████████████████████████████| 251/251 [00:01<00:00, 184.75it/s]\n"
     ]
    },
    {
     "name": "stdout",
     "output_type": "stream",
     "text": [
      "Train Set:\n",
      "    Average Loss:  0.614661,    Accuracy: 68.05%,    Correct Counter: 2728/4009,    F1 Score: 0.77,    Precision: 0.66,    Recall:  0.92,    AUROC:  0.63\n",
      "\n"
     ]
    },
    {
     "name": "stderr",
     "output_type": "stream",
     "text": [
      "Batch in Progress: 100%|███████████████████████████████████████████| 64/64 [00:00<00:00, 218.87it/s]\n"
     ]
    },
    {
     "name": "stdout",
     "output_type": "stream",
     "text": [
      "Validation Set:\n",
      "    Average Loss:  0.597363,    Accuracy: 67.82%,    Correct Counter: 685/1010,    F1 Score: 0.76,    Precision: 0.65,    Recall:  0.93,    AUROC:  0.65\n",
      "\n",
      "Epoch 248/250\n"
     ]
    },
    {
     "name": "stderr",
     "output_type": "stream",
     "text": [
      "Batch in Progress: 100%|█████████████████████████████████████████| 251/251 [00:01<00:00, 176.03it/s]\n"
     ]
    },
    {
     "name": "stdout",
     "output_type": "stream",
     "text": [
      "Train Set:\n",
      "    Average Loss:  0.632040,    Accuracy: 67.57%,    Correct Counter: 2709/4009,    F1 Score: 0.77,    Precision: 0.66,    Recall:  0.91,    AUROC:  0.63\n",
      "\n"
     ]
    },
    {
     "name": "stderr",
     "output_type": "stream",
     "text": [
      "Batch in Progress: 100%|███████████████████████████████████████████| 64/64 [00:00<00:00, 218.82it/s]\n"
     ]
    },
    {
     "name": "stdout",
     "output_type": "stream",
     "text": [
      "Validation Set:\n",
      "    Average Loss:  0.597371,    Accuracy: 67.82%,    Correct Counter: 685/1010,    F1 Score: 0.76,    Precision: 0.65,    Recall:  0.93,    AUROC:  0.65\n",
      "\n",
      "Epoch 249/250\n"
     ]
    },
    {
     "name": "stderr",
     "output_type": "stream",
     "text": [
      "Batch in Progress: 100%|█████████████████████████████████████████| 251/251 [00:01<00:00, 179.14it/s]\n"
     ]
    },
    {
     "name": "stdout",
     "output_type": "stream",
     "text": [
      "Train Set:\n",
      "    Average Loss:  0.615208,    Accuracy: 68.10%,    Correct Counter: 2730/4009,    F1 Score: 0.77,    Precision: 0.66,    Recall:  0.92,    AUROC:  0.63\n",
      "\n"
     ]
    },
    {
     "name": "stderr",
     "output_type": "stream",
     "text": [
      "Batch in Progress: 100%|███████████████████████████████████████████| 64/64 [00:00<00:00, 208.72it/s]\n"
     ]
    },
    {
     "name": "stdout",
     "output_type": "stream",
     "text": [
      "Validation Set:\n",
      "    Average Loss:  0.597378,    Accuracy: 67.82%,    Correct Counter: 685/1010,    F1 Score: 0.76,    Precision: 0.65,    Recall:  0.93,    AUROC:  0.65\n",
      "\n",
      "Epoch 250/250\n"
     ]
    },
    {
     "name": "stderr",
     "output_type": "stream",
     "text": [
      "Batch in Progress: 100%|█████████████████████████████████████████| 251/251 [00:01<00:00, 182.44it/s]\n"
     ]
    },
    {
     "name": "stdout",
     "output_type": "stream",
     "text": [
      "Train Set:\n",
      "    Average Loss:  0.611129,    Accuracy: 67.47%,    Correct Counter: 2705/4009,    F1 Score: 0.77,    Precision: 0.66,    Recall:  0.92,    AUROC:  0.63\n",
      "\n"
     ]
    },
    {
     "name": "stderr",
     "output_type": "stream",
     "text": [
      "Batch in Progress: 100%|███████████████████████████████████████████| 64/64 [00:00<00:00, 206.36it/s]"
     ]
    },
    {
     "name": "stdout",
     "output_type": "stream",
     "text": [
      "Validation Set:\n",
      "    Average Loss:  0.597377,    Accuracy: 67.82%,    Correct Counter: 685/1010,    F1 Score: 0.76,    Precision: 0.65,    Recall:  0.93,    AUROC:  0.65\n",
      "\n"
     ]
    },
    {
     "name": "stderr",
     "output_type": "stream",
     "text": [
      "\n"
     ]
    }
   ],
   "source": [
    "for lr in lrs:\n",
    "    tabular_model = nn.Sequential(\n",
    "        nn.Linear(in_features=2, out_features=8),\n",
    "        nn.LeakyReLU(inplace=True),\n",
    "        nn.Dropout(p=0.5),\n",
    "        nn.Linear(in_features=8, out_features=32),\n",
    "        nn.LeakyReLU(inplace=True),\n",
    "        nn.Dropout(p=0.5),\n",
    "        nn.Linear(in_features=32, out_features=16),\n",
    "        nn.LeakyReLU(inplace=True),\n",
    "        nn.Dropout(p=0.5),\n",
    "        nn.Linear(in_features=16, out_features=8),\n",
    "        nn.LeakyReLU(inplace=True),\n",
    "        nn.Dropout(p=0.5),\n",
    "        nn.Linear(in_features=8, out_features=1),\n",
    "    ).to(device)\n",
    "        \n",
    "    model = HyMNet(tabular_model=tabular_model)    \n",
    "    \n",
    "    optimizer = torch.optim.Adam(tabular_model.to(device).parameters(), lr=lr)\n",
    "    scheduler = torch.optim.lr_scheduler.CosineAnnealingLR(optimizer, epoch_length * epochs, eta_min=0)\n",
    "    metrics, best_model = train_val(epochs=epochs, model=model, criterion=criterion, optimizer=optimizer, train_loader=train_loader,\n",
    "                        val_loader=val_loader, scheduler=scheduler, device=device, save_model=True)\n",
    "    results[lr] = max([metrics[1][i][\"AUROC\"] for i in metrics[1]])"
   ]
  },
  {
   "cell_type": "code",
   "execution_count": 16,
   "metadata": {},
   "outputs": [],
   "source": [
    "torch.save(best_model, MODELS_PATH + r'/DemographicFCNN.pth')"
   ]
  },
  {
   "cell_type": "code",
   "execution_count": 13,
   "metadata": {},
   "outputs": [],
   "source": [
    "with open(\"/home/baharoon/HTN/HyMNet/Results/demographicfcnn.json\", 'w') as f:\n",
    "    # Use json.dump to write the dictionary to the file\n",
    "    json.dump(results, f)"
   ]
  },
  {
   "cell_type": "code",
   "execution_count": 25,
   "metadata": {},
   "outputs": [],
   "source": []
  }
 ],
 "metadata": {
  "kernelspec": {
   "display_name": "Python 3 (ipykernel)",
   "language": "python",
   "name": "python3"
  },
  "language_info": {
   "codemirror_mode": {
    "name": "ipython",
    "version": 3
   },
   "file_extension": ".py",
   "mimetype": "text/x-python",
   "name": "python",
   "nbconvert_exporter": "python",
   "pygments_lexer": "ipython3",
   "version": "3.10.12"
  }
 },
 "nbformat": 4,
 "nbformat_minor": 4
}
